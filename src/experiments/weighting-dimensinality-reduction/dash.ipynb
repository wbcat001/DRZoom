{
 "cells": [
  {
   "cell_type": "markdown",
   "id": "f7cd67b2",
   "metadata": {},
   "source": [
    "# Dashを使ったアプリケーションサンプル"
   ]
  },
  {
   "cell_type": "code",
   "execution_count": null,
   "id": "dae31065",
   "metadata": {},
   "outputs": [
    {
     "data": {
      "text/html": [
       "\n",
       "        <iframe\n",
       "            width=\"100%\"\n",
       "            height=\"650\"\n",
       "            src=\"http://127.0.0.1:8050/\"\n",
       "            frameborder=\"0\"\n",
       "            allowfullscreen\n",
       "            \n",
       "        ></iframe>\n",
       "        "
      ],
      "text/plain": [
       "<IPython.lib.display.IFrame at 0x2668d4a70d0>"
      ]
     },
     "metadata": {},
     "output_type": "display_data"
    },
    {
     "name": "stdout",
     "output_type": "stream",
     "text": [
      "Selected Data: None\n"
     ]
    }
   ],
   "source": [
    "# Dashと必要なライブラリのインポート\n",
    "import dash\n",
    "from dash import dcc, html, dash_table\n",
    "from dash.dependencies import Input, Output\n",
    "import plotly.express as px\n",
    "import pandas as pd\n",
    "import numpy as np\n",
    "from sklearn.decomposition import PCA\n",
    "\n",
    "# サンプルデータの作成\n",
    "iris = px.data.iris()\n",
    "\n",
    "# 主成分分析（PCA）で2次元に次元削減\n",
    "pca = PCA(n_components=2)\n",
    "X_pca = pca.fit_transform(iris.drop('species', axis=1))\n",
    "iris['PCA1'] = X_pca[:, 0]\n",
    "iris['PCA2'] = X_pca[:, 1]\n",
    "\n",
    "app = dash.Dash(__name__)\n",
    "\n",
    "# CSS Gridレイアウトを使ったビュー配置\n",
    "app.layout = html.Div([\n",
    "    \n",
    "    html.Div([\n",
    "        # 左: 次元削減ビュー\n",
    "        html.Div([\n",
    "            dcc.Graph(\n",
    "                id='pca-scatter',\n",
    "                figure=px.scatter(\n",
    "                    iris, x='PCA1', y='PCA2', color='species',\n",
    "                ),\n",
    "                style={'height': '100%', 'width': '100%'}\n",
    "            )\n",
    "        ], style={\n",
    "            'gridArea': 'left',\n",
    "            'aspectRatio': '1/1',\n",
    "            'minWidth': '350px',\n",
    "            'minHeight': '350px',\n",
    "            'padding': '8px',\n",
    "        }),\n",
    "        # 右: 上下分割\n",
    "        html.Div([\n",
    "            html.Div([\n",
    "                dcc.Graph(\n",
    "                    id='pcp',\n",
    "                    style={'height': '100%', 'width': '100%'}\n",
    "                )\n",
    "            ], style={'height': '50%', 'paddingBottom': '8px'}),\n",
    "            html.Div([\n",
    "                dash_table.DataTable(\n",
    "                    id='table',\n",
    "                    columns=[{\"name\": i, \"id\": i} for i in iris.columns],\n",
    "                    page_size=5,\n",
    "                    style_table={'height': '200px', 'overflowY': 'auto'},\n",
    "                    style_cell={'textAlign': 'left', 'fontSize': 12}\n",
    "                )\n",
    "            ], style={'height': '50%'})\n",
    "        ], style={\n",
    "            'gridArea': 'right',\n",
    "            'display': 'flex',\n",
    "            'flexDirection': 'column',\n",
    "            'minWidth': '350px',\n",
    "            'padding': '8px',\n",
    "        })\n",
    "    ], style={\n",
    "        'display': 'grid',\n",
    "        'gridTemplateAreas': '\"left right\"',\n",
    "        'gridTemplateColumns': '1fr 1fr',\n",
    "        'gap': '0px',\n",
    "        'height': '600px',\n",
    "        'width': '100%'\n",
    "    })\n",
    "])\n",
    "\n",
    "# 次元削減ビューで選択した点の主成分をPCPに反映、クラスを表に反映\n",
    "def get_selected_indices(selectedData):\n",
    "    if selectedData and 'points' in selectedData:\n",
    "        return [p['pointIndex'] for p in selectedData['points']]\n",
    "    return []\n",
    "\n",
    "@app.callback(\n",
    "    [Output('pcp', 'figure'), Output('table', 'data')],\n",
    "    [Input('pca-scatter', 'selectedData')]\n",
    ")\n",
    "def update_views(selectedData):\n",
    "    print(\"Selected Data:\", selectedData)\n",
    "    indices = get_selected_indices(selectedData)\n",
    "    if indices:\n",
    "        filtered = iris.iloc[indices]\n",
    "    else:\n",
    "        filtered = iris\n",
    "    # PCP: 選択データのみ強調\n",
    "    pcp_fig = px.parallel_coordinates(\n",
    "        filtered,\n",
    "        color=filtered['species'].astype('category').cat.codes,\n",
    "        dimensions=['sepal_width', 'sepal_length', 'petal_width', 'petal_length'],\n",
    "        color_continuous_scale=px.colors.diverging.Tealrose,\n",
    "    )\n",
    "    # 表: 選択データのみ表示\n",
    "    table_data = filtered.to_dict('records')\n",
    "    return pcp_fig, table_data\n",
    "\n",
    "# Jupyter Notebook用のサーバー起動\n",
    "app.run_server(jupyter_mode=\"tab\")"
   ]
  }
 ],
 "metadata": {
  "kernelspec": {
   "display_name": "Python 3",
   "language": "python",
   "name": "python3"
  },
  "language_info": {
   "codemirror_mode": {
    "name": "ipython",
    "version": 3
   },
   "file_extension": ".py",
   "mimetype": "text/x-python",
   "name": "python",
   "nbconvert_exporter": "python",
   "pygments_lexer": "ipython3",
   "version": "3.11.3"
  }
 },
 "nbformat": 4,
 "nbformat_minor": 5
}
