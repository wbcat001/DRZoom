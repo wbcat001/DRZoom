{
 "cells": [
  {
   "cell_type": "markdown",
   "id": "0abf7796",
   "metadata": {},
   "source": [
    "# "
   ]
  },
  {
   "cell_type": "code",
   "execution_count": 2,
   "id": "61b5b47b",
   "metadata": {},
   "outputs": [],
   "source": [
    "%run ../utils-notebook/load_data.py\n",
    "%run ../utils-notebook/plot.py\n",
    "%run ../utils-notebook/imports.py\n",
    "%run ../utils-notebook/dimensionality_reduction.py\n",
    "%run ../utils-notebook/clustering.py\n",
    "%run ../utils-notebook/validate.py"
   ]
  },
  {
   "cell_type": "code",
   "execution_count": 3,
   "id": "491c73e7",
   "metadata": {},
   "outputs": [
    {
     "name": "stdout",
     "output_type": "stream",
     "text": [
      "c:\\Users\\acero\\Work_Research\\DRZoom\\src\\experiments\\17_HDBSCAN\n",
      "c:\\Users\\acero\\Work_Research\\DRZoom\\src\\experiments\\utils-notebook\n",
      "Number of words in the model: 3000000\n",
      "shape of vector: (5000, 300)\n"
     ]
    }
   ],
   "source": [
    "X, y = load_w2v(5000)\n"
   ]
  },
  {
   "cell_type": "code",
   "execution_count": 16,
   "id": "ff1ea5ee",
   "metadata": {},
   "outputs": [],
   "source": [
    "from sklearn.preprocessing import normalize\n",
    "X = normalize(X)"
   ]
  },
  {
   "cell_type": "code",
   "execution_count": 44,
   "id": "11ada24a",
   "metadata": {},
   "outputs": [
    {
     "name": "stdout",
     "output_type": "stream",
     "text": [
      "38\n"
     ]
    }
   ],
   "source": [
    "import hdbscan\n",
    "\n",
    "clusterer = hdbscan.HDBSCAN(min_cluster_size=5,\n",
    "                            min_samples=7,\n",
    "                            cluster_selection_method='eom',\n",
    "                            max_cluster_size=1000,\n",
    "                            gen_min_span_tree=True)\n",
    "clusterer.fit(X)\n",
    "labels = clusterer.labels_\n",
    "probabilities = clusterer.probabilities_\n",
    "print(len(set(labels)) - (1 if -1 in labels else 0))  # ノイズを除いたクラスタ数\n"
   ]
  },
  {
   "cell_type": "code",
   "execution_count": 40,
   "id": "5b46379c",
   "metadata": {},
   "outputs": [],
   "source": [
    "labels = clusterer.labels_\n"
   ]
  },
  {
   "cell_type": "markdown",
   "id": "5f5f1e28",
   "metadata": {},
   "source": [
    "\n",
    "# DBSCANの階層構造の切り出し"
   ]
  },
  {
   "cell_type": "markdown",
   "id": "8743b81e",
   "metadata": {},
   "source": [
    "# MSTを特定のλで切ったときのクラスタ"
   ]
  },
  {
   "cell_type": "code",
   "execution_count": 45,
   "id": "69e9b085",
   "metadata": {},
   "outputs": [
    {
     "data": {
      "text/plain": [
       "<Axes: ylabel='$\\\\lambda$ value'>"
      ]
     },
     "execution_count": 45,
     "metadata": {},
     "output_type": "execute_result"
    },
    {
     "data": {
      "image/png": "[encoded data removed]",
      "text/plain": [
       "<Figure size 640x480 with 2 Axes>"
      ]
     },
     "metadata": {},
     "output_type": "display_data"
    }
   ],
   "source": [
    "clusterer.condensed_tree_.plot(leaf_separation=0.5, log_size=True, max_rectangles_per_icicle=10)"
   ]
  },
  {
   "cell_type": "code",
   "execution_count": 32,
   "id": "b48d2937",
   "metadata": {},
   "outputs": [
    {
     "name": "stdout",
     "output_type": "stream",
     "text": [
      "Min lambda: 0.7634536794615071, Max lambda: 2.2939852868517216\n",
      "Lambda: 0.7634536794615071\n",
      "[-1  0  1  2  3  4]\n",
      "Lambda: 0.8224016358381976\n",
      "[-1  0  1  2  3  4  5]\n",
      "Lambda: 0.8813495922148882\n",
      "[-1  0  1  2  3  4  5  6  7  8]\n",
      "Lambda: 0.9402975485915787\n",
      "[-1  0  1  2  3  4  5  6  7  8  9 10 11 12 13 14]\n",
      "Lambda: 0.9992455049682691\n",
      "[-1  0  1  2  3  4  5]\n",
      "Lambda: 1.0581934613449597\n",
      "[-1  0]\n",
      "Lambda: 1.11714141772165\n",
      "[-1  0]\n",
      "Lambda: 1.1760893740983407\n",
      "[-1  0]\n",
      "Lambda: 1.235037330475031\n",
      "[-1  0]\n",
      "Lambda: 1.2939852868517216\n",
      "[-1  0]\n"
     ]
    }
   ],
   "source": [
    "lam = 1\n",
    "condensed_tree = clusterer.condensed_tree_.to_pandas()\n",
    "min_lam = condensed_tree['lambda_val'].min()\n",
    "max_lam = condensed_tree['lambda_val'].max()\n",
    "print(f\"Min lambda: {min_lam}, Max lambda: {max_lam}\")\n",
    "for lam in np.linspace(min_lam, max_lam-1, 10):\n",
    "    print(f\"Lambda: {lam}\")\n",
    "    labels = clusterer.single_linkage_tree_.get_clusters(lam)\n",
    "    print(np.unique(labels))\n",
    "\n"
   ]
  },
  {
   "cell_type": "markdown",
   "id": "596a2219",
   "metadata": {},
   "source": [
    "# クラスタから代表点を選ぶ"
   ]
  },
  {
   "cell_type": "code",
   "execution_count": 68,
   "id": "5e40fe76",
   "metadata": {},
   "outputs": [
    {
     "data": {
      "text/plain": [
       "[5002.0,\n",
       " 5004.0,\n",
       " 5006.0,\n",
       " 5008.0,\n",
       " 5010.0,\n",
       " 5012.0,\n",
       " 5014.0,\n",
       " 5015.0,\n",
       " 5018.0,\n",
       " 5020.0,\n",
       " 5024.0,\n",
       " 5027.0,\n",
       " 5030.0,\n",
       " 5031.0,\n",
       " 5033.0,\n",
       " 5034.0,\n",
       " 5036.0,\n",
       " 5037.0,\n",
       " 5038.0,\n",
       " 5042.0,\n",
       " 5044.0,\n",
       " 5046.0,\n",
       " 5048.0,\n",
       " 5050.0,\n",
       " 5053.0,\n",
       " 5054.0,\n",
       " 5056.0,\n",
       " 5058.0,\n",
       " 5060.0,\n",
       " 5061.0,\n",
       " 5064.0,\n",
       " 5066.0,\n",
       " 5068.0,\n",
       " 5070.0,\n",
       " 5073.0,\n",
       " 5074.0,\n",
       " 5075.0,\n",
       " 5076.0]"
      ]
     },
     "execution_count": 68,
     "metadata": {},
     "output_type": "execute_result"
    }
   ],
   "source": [
    "clusterer.condensed_tree_._select_clusters()"
   ]
  },
  {
   "cell_type": "code",
   "execution_count": 71,
   "id": "0764d078",
   "metadata": {},
   "outputs": [],
   "source": [
    "def exemplars(cluster_id, raw_tree):\n",
    "    \n",
    "    # Just the cluster elements of the tree, excluding singleton points\n",
    "    cluster_tree = raw_tree[raw_tree['child_size'] > 1]\n",
    "    # Get the leaf cluster nodes under the cluster we are considering\n",
    "    leaves = hdbscan.plots._recurse_leaf_dfs(cluster_tree, cluster_id)\n",
    "    # Now collect up the last remaining points of each leaf cluster (the heart of the leaf)\n",
    "    # print(f\"leave num: {len(leaves)}\")\n",
    "    result = np.array([])\n",
    "    for leaf in leaves:\n",
    "        max_lambda = raw_tree['lambda_val'][raw_tree['parent'] == leaf].max() if len(raw_tree['lambda_val'][raw_tree['parent'] == leaf]) > 0 else 0\n",
    "        points = raw_tree['child'][(raw_tree['parent'] == leaf) &\n",
    "                                   (raw_tree['lambda_val'] == max_lambda)]\n",
    "        result = np.hstack((result, points))\n",
    "    return result"
   ]
  },
  {
   "cell_type": "code",
   "execution_count": 51,
   "id": "5fee5118",
   "metadata": {},
   "outputs": [
    {
     "data": {
      "text/plain": [
       "array([(5000,    0, 0.76345368, 1), (5000, 3378, 0.8070868 , 1),\n",
       "       (5000, 4737, 0.81540527, 1), ..., (5076,   84, 1.44522494, 1),\n",
       "       (5076,  499, 1.44522494, 1), (5076, 4991, 1.44522494, 1)],\n",
       "      dtype=[('parent', '<i8'), ('child', '<i8'), ('lambda_val', '<f8'), ('child_size', '<i8')])"
      ]
     },
     "execution_count": 51,
     "metadata": {},
     "output_type": "execute_result"
    }
   ],
   "source": [
    "clusterer.condensed_tree_._raw_tree"
   ]
  },
  {
   "cell_type": "code",
   "execution_count": 72,
   "id": "b64be530",
   "metadata": {},
   "outputs": [
    {
     "name": "stdout",
     "output_type": "stream",
     "text": [
      "Cluster 5002.0:\n",
      "Selected exemplars indices: [2460.  979.  481. 3201.  575.]\n",
      "Cluster 5004.0:\n",
      "Selected exemplars indices: [2146. 1902. 3581. 4883. 3708.]\n",
      "Cluster 5006.0:\n",
      "Selected exemplars indices: [3076. 1493. 3156.  636. 2404. 2216.]\n",
      "Cluster 5008.0:\n",
      "Selected exemplars indices: [1243.  489.  243.  637.  561.]\n",
      "Cluster 5010.0:\n",
      "Selected exemplars indices: [2868. 1809. 2818. 4380. 4594.]\n",
      "Cluster 5012.0:\n",
      "Selected exemplars indices: [1042.  590. 1985. 4965. 1678.]\n",
      "Cluster 5014.0:\n",
      "Selected exemplars indices: [1388. 2749. 1384. 3177. 2260.]\n",
      "Cluster 5015.0:\n",
      "Selected exemplars indices: [1360. 1011.  454.  921. 2041.  845.]\n",
      "Cluster 5018.0:\n",
      "Selected exemplars indices: [ 422.  559.  786.  615. 2148.]\n",
      "Cluster 5020.0:\n",
      "Selected exemplars indices: [ 753. 1741. 1717.  983. 1299.]\n",
      "Cluster 5024.0:\n",
      "Selected exemplars indices: [2934. 2885. 4372. 4711. 3223.]\n",
      "Cluster 5027.0:\n",
      "Selected exemplars indices: [4227. 1942.  285. 2903. 1030. 1599.]\n",
      "Cluster 5030.0:\n",
      "Selected exemplars indices: [3159. 2031. 1704. 2946. 2952.]\n",
      "Cluster 5031.0:\n",
      "Selected exemplars indices: [2751.  824. 1154. 2594.  917.]\n",
      "Cluster 5033.0:\n",
      "Selected exemplars indices: [3109. 1155.  752. 2968. 1062.]\n",
      "Cluster 5034.0:\n",
      "Selected exemplars indices: [1316. 3854. 1148. 1719. 2133.]\n",
      "Cluster 5036.0:\n",
      "Selected exemplars indices: [2513. 2011. 2625. 2560. 2840. 3275.]\n",
      "Cluster 5037.0:\n",
      "Selected exemplars indices: [ 409.  732.  904. 2096.  778. 1931.]\n",
      "Cluster 5038.0:\n",
      "Selected exemplars indices: [3373. 1421.  864. 4084. 2658. 1032. 2531. 4574. 3714.  467.]\n",
      "Cluster 5042.0:\n",
      "Selected exemplars indices: [1598. 1213. 1375.  723. 2180.]\n",
      "Cluster 5044.0:\n",
      "Selected exemplars indices: [1171. 3615. 2427. 2488. 4352.]\n",
      "Cluster 5046.0:\n",
      "Selected exemplars indices: [  94. 2773.  977. 1264. 3952.]\n",
      "Cluster 5048.0:\n",
      "Selected exemplars indices: [4937. 4634. 2955. 3706. 4714.]\n",
      "Cluster 5050.0:\n",
      "Selected exemplars indices: [365. 394. 766. 709. 782.]\n",
      "Cluster 5053.0:\n",
      "Selected exemplars indices: [2433. 1064.  849. 2246.  826.]\n",
      "Cluster 5054.0:\n",
      "Selected exemplars indices: [1537. 1010.  348. 1058. 1851.]\n",
      "Cluster 5056.0:\n",
      "Selected exemplars indices: [1027.  366.  661.  720. 2073. 1066.  594. 3699.]\n",
      "Cluster 5058.0:\n",
      "Selected exemplars indices: [3079. 1715.  195.  317.  699.]\n",
      "Cluster 5060.0:\n",
      "Selected exemplars indices: [ 425. 1897. 1038. 1456.  299.]\n",
      "Cluster 5061.0:\n",
      "Selected exemplars indices: [1211.  831.  852.  913. 1722.]\n",
      "Cluster 5064.0:\n",
      "Selected exemplars indices: [2275. 1336.  851. 1487. 1861.]\n",
      "Cluster 5066.0:\n",
      "Selected exemplars indices: [ 127. 2837. 3903.  267. 4418.]\n",
      "Cluster 5068.0:\n",
      "Selected exemplars indices: [2752. 2892.  115.    9. 1229.]\n",
      "Cluster 5070.0:\n",
      "Selected exemplars indices: [1631. 4708. 3073.  639. 1587.]\n",
      "Cluster 5073.0:\n",
      "Selected exemplars indices: [222. 161.  80. 134. 375.]\n",
      "Cluster 5074.0:\n",
      "Selected exemplars indices: [234. 381. 293. 304. 464.]\n",
      "Cluster 5075.0:\n",
      "Selected exemplars indices: [  58.  153. 2207.  230.   13.]\n",
      "Cluster 5076.0:\n",
      "Selected exemplars indices: [2916. 2465.   84.  499. 4991.]\n"
     ]
    }
   ],
   "source": [
    "\n",
    "for i in clusterer.condensed_tree_._select_clusters():\n",
    "    print(f\"Cluster {i}:\")\n",
    "    selected_exemplars = exemplars(i, clusterer.condensed_tree_._raw_tree)\n",
    "    print(\"Selected exemplars indices:\", selected_exemplars)"
   ]
  },
  {
   "cell_type": "code",
   "execution_count": null,
   "id": "d867910b",
   "metadata": {},
   "outputs": [],
   "source": []
  }
 ],
 "metadata": {
  "kernelspec": {
   "display_name": "Python 3",
   "language": "python",
   "name": "python3"
  },
  "language_info": {
   "codemirror_mode": {
    "name": "ipython",
    "version": 3
   },
   "file_extension": ".py",
   "mimetype": "text/x-python",
   "name": "python",
   "nbconvert_exporter": "python",
   "pygments_lexer": "ipython3",
   "version": "3.11.3"
  }
 },
 "nbformat": 4,
 "nbformat_minor": 5
}
