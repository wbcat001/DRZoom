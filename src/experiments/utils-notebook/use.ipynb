{
 "cells": [
  {
   "cell_type": "code",
   "execution_count": null,
   "id": "114b4c96",
   "metadata": {},
   "outputs": [],
   "source": [
    "%run ../utils-notebook/load_data.py\n",
    "%run ../utils-notebook/plot.py\n",
    "%run ../utils-notebook/imports.py\n",
    "%run ../utils-notebook/dimensionality_reduction.py\n",
    "%run ../utils-notebook/clustering.py\n",
    "%run ../utils-notebook/validate.py"
   ]
  }
 ],
 "metadata": {
  "language_info": {
   "name": "python"
  }
 },
 "nbformat": 4,
 "nbformat_minor": 5
}
