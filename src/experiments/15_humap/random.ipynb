{
 "cells": [
  {
   "cell_type": "code",
   "execution_count": null,
   "id": "00a81d50",
   "metadata": {},
   "outputs": [
    {
     "name": "stdout",
     "output_type": "stream",
     "text": [
      "岩田\n",
      "渥美\n",
      "荒牧\n",
      "吉井\n",
      "浅井\n",
      "脇田\n",
      "松本\n",
      "足立\n",
      "ジブ\n",
      "堀内\n",
      "田中\n"
     ]
    }
   ],
   "source": [
    "import random\n",
    "\n",
    "# 名前リスト\n",
    "names = [\n",
    "    \"堀内\", \"岩田\", \"吉井\", \"浅井\", \"荒牧\",\n",
    "    \"渥美\", \"ジブ\", \"足立\", \"松本\", \"脇田\", \"田中\"\n",
    "]\n",
    "ß\n",
    "# リストをランダムに並べ替え\n",
    "random.shuffle(names)\n",
    "\n",
    "# 結果を出力\n",
    "for name in names:\n",
    "    print(name)\n"
   ]
  }
 ],
 "metadata": {
  "kernelspec": {
   "display_name": "Python 3",
   "language": "python",
   "name": "python3"
  },
  "language_info": {
   "codemirror_mode": {
    "name": "ipython",
    "version": 3
   },
   "file_extension": ".py",
   "mimetype": "text/x-python",
   "name": "python",
   "nbconvert_exporter": "python",
   "pygments_lexer": "ipython3",
   "version": "3.12.0"
  }
 },
 "nbformat": 4,
 "nbformat_minor": 5
}
