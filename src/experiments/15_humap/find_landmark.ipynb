{
 "cells": [
  {
   "cell_type": "markdown",
   "id": "90cf03c5",
   "metadata": {},
   "source": [
    "# ランドマーク選択 (Steps A–C)\n",
    "\n",
    "## Step A: k近傍グラフの構築\n",
    "\n",
    "データ点 \\(x_i \\in \\mathbb{R}^m\\) から **k近傍グラフ (kNN Graph)** を作成する。  \n",
    "\n",
    "各点 \\(x_i\\) に対して局所的に適応したカーネル関数（UMAPと同じ）を計算する：\n",
    "\n",
    "\\[\n",
    "p_{i|j} = \\exp \\left( -\\frac{d(x_i, x_j) - \\rho_i}{\\sigma_i} \\right)\n",
    "\\]\n",
    "\n",
    "- \\(d(x_i, x_j)\\): ユークリッド距離  \n",
    "- \\(\\rho_i\\): 最近傍距離  \n",
    "- \\(\\sigma_i\\): バイナリサーチで決めるスケーリング値（kを満たすように調整）  \n",
    "\n",
    "---\n",
    "\n",
    "## Step B: 有限マルコフ連鎖 (Finite Markov Chain, FMC) の構築\n",
    "\n",
    "遷移確率は次のように定義する：\n",
    "\n",
    "\\[\n",
    "T_{ij} = \\frac{p_{i|j}}{\\sum_k p_{i|k}}, \\quad j \\in NH(i)\n",
    "\\]\n",
    "\n",
    "ここで \\(NH(i)\\) は点 \\(x_i\\) の近傍集合。  \n",
    "この遷移確率行列を用いてランダムウォークをシミュレーションする。  \n",
    "\n",
    "---\n",
    "\n",
    "## Step C: ランドマーク選択\n",
    "\n",
    "1. 各ノード \\(i\\) から \\(n\\) 回、長さ \\(\\mu\\) のランダムウォークを実行する。  \n",
    "2. ランダムウォークのエンドポイントをカウントする。  \n",
    "3. 最も訪問回数が多いノードを「ランドマーク」として選択する。  \n",
    "4. 指定数 \\(|H_i|\\) のランドマークを次の階層に選ぶ。  \n"
   ]
  },
  {
   "cell_type": "code",
   "execution_count": null,
   "id": "96d4d83f",
   "metadata": {},
   "outputs": [],
   "source": [
    "import numpy as np\n",
    "from sklearn.neighbors import NearestNeighbors\n",
    "\n",
    "import pynndescent\n",
    "\n",
    "def compute_probabilities(X, k=15, knn_algorithm=\"sklearn\"):\n",
    "    \"\"\"\n",
    "    kNN探索と確率行列を計算\n",
    "    knn_algorithm: \"sklearn\" または \"NNDescent\"\n",
    "    \"\"\"\n",
    "    n = X.shape[0]\n",
    "\n",
    "    if knn_algorithm == \"sklearn\":\n",
    "        nbrs = NearestNeighbors(n_neighbors=k+1, algorithm=\"auto\").fit(X)\n",
    "        dists, indices = nbrs.kneighbors(X)\n",
    "\n",
    "    elif knn_algorithm == \"NNDescent\":\n",
    "        nnd = pynndescent.NNDescent(X, n_neighbors=k+1, metric=\"euclidean\")\n",
    "        indices, dists = nnd.neighbor_graph\n",
    "\n",
    "        # pynndescent は (indices, distances) の形で返す\n",
    "        indices = indices[:, :k+1]\n",
    "        dists = dists[:, :k+1]\n",
    "\n",
    "    else:\n",
    "        raise ValueError(f\"Unknown knn_algorithm: {knn_algorithm}\")\n",
    "\n",
    "    # 自分自身を除外\n",
    "    dists, indices = dists[:, 1:], indices[:, 1:]\n",
    "\n",
    "    P = np.zeros((n, k))\n",
    "    for i in range(n):\n",
    "        rho_i = dists[i, 0]  # 最近傍距離\n",
    "\n",
    "        def perplexity_error(sigma):\n",
    "            p = np.exp(-(dists[i] - rho_i) / sigma)\n",
    "            return np.sum(p) - k\n",
    "\n",
    "        sigma = binary_search(perplexity_error, 1e-5, 100)\n",
    "        P[i] = np.exp(-(dists[i] - rho_i) / sigma)\n",
    "        P[i] /= np.sum(P[i])\n",
    "\n",
    "    return indices, P\n",
    "\n",
    "# \n",
    "def binary_search(f, low, high, tol=1e-5):\n",
    "    for _ in range(50):\n",
    "        mid = (low + high) / 2\n",
    "        val = f(mid)\n",
    "        if abs(val) < tol:\n",
    "            return mid\n",
    "        if val > 0:\n",
    "            high = mid\n",
    "        else:\n",
    "            low = mid\n",
    "    return mid\n",
    "\n",
    "def select_landmarks(X, num_landmarks=50, k=100, n_walks=10, walk_length=10, knn_algorithm=\"sklearn\"):\n",
    "    indices, P = compute_probabilities(X, k=k, knn_algorithm=knn_algorithm)\n",
    "    n = X.shape[0]\n",
    "    visits = np.zeros(n)\n",
    "\n",
    "    for start in range(n):\n",
    "        for _ in range(n_walks):\n",
    "            cur = start\n",
    "            for _ in range(walk_length):\n",
    "                probs = P[cur]\n",
    "                neighbors = indices[cur]\n",
    "                cur = np.random.choice(neighbors, p=probs)\n",
    "            visits[cur] += 1\n",
    "\n",
    "    # 最も訪問数が多いノードをランドマークにする\n",
    "    landmark_ids = np.argsort(-visits)[:num_landmarks]\n",
    "    return landmark_ids, visits\n"
   ]
  },
  {
   "cell_type": "code",
   "execution_count": null,
   "id": "1017a5e9",
   "metadata": {},
   "outputs": [],
   "source": [
    "import time\n",
    "X = np.random.rand(10000, 50)  # 例としてランダムデータ\n",
    "y = np.random.randint(0, 10, size=(10000,))"
   ]
  },
  {
   "cell_type": "code",
   "execution_count": null,
   "id": "d41d39a2",
   "metadata": {},
   "outputs": [
    {
     "name": "stderr",
     "output_type": "stream",
     "text": [
      "0.00s - Debugger warning: It seems that frozen modules are being used, which may\n",
      "0.00s - make the debugger miss breakpoints. Please pass -Xfrozen_modules=off\n",
      "0.00s - to python to disable frozen modules.\n",
      "0.00s - Note: Debugging will proceed. Set PYDEVD_DISABLE_FILE_VALIDATION=1 to disable this validation.\n"
     ]
    },
    {
     "name": "stdout",
     "output_type": "stream",
     "text": [
      "ランドマーク選択にかかった時間: 19.01636505126953秒\n",
      "選ばれたランドマークのインデックス: 2000\n"
     ]
    }
   ],
   "source": [
    "\n",
    "\n",
    "start_time = time.time()\n",
    "landmark_ids, visits = select_landmarks(X, num_landmarks=2000, k=100, n_walks=10, walk_length=10, knn_algorithm=\"NNDescent\")\n",
    "\n",
    "print(f\"ランドマーク選択にかかった時間: {time.time() - start_time}秒\")\n",
    "print(f\"選ばれたランドマークのインデックス: {len(landmark_ids)}\")"
   ]
  },
  {
   "cell_type": "code",
   "execution_count": 23,
   "id": "10261ace",
   "metadata": {},
   "outputs": [
    {
     "name": "stdout",
     "output_type": "stream",
     "text": [
      "L0 - 10000 data samples.\n",
      "L0 - Fitting: done in 4.514105 seconds.\n",
      "\n",
      "L1 - 2000 data samples.\n",
      "L1 - Selecting Landmarks: done in 0.015961 seconds.\n",
      "L1 - Constructing Neighborhood: done in 0.056878 seconds.\n",
      "L1 - Sparse Similarity: done in 0.022018 seconds.\n",
      "L1 - Fitting: done in 0.038594 seconds.\n",
      "L1 - Associating data points to landmarks: done in 0.003228 seconds.\n",
      "L1 - Construction: done in 0.202776\n",
      "\n",
      "L2 - 400 data samples.\n",
      "L2 - Selecting Landmarks: done in 0.003460 seconds.\n",
      "L2 - Constructing Neighborhood: done in 0.011765 seconds.\n",
      "L2 - Sparse Similarity: done in 0.001970 seconds.\n",
      "L2 - Fitting: done in 0.005147 seconds.\n",
      "L2 - Associating data points to landmarks: done in 0.000407 seconds.\n",
      "L2 - Construction: done in 0.039394\n",
      "\n",
      "Hierarchical Representation: done in 4.768219 seconds.\n"
     ]
    }
   ],
   "source": [
    "import humap\n",
    "\n",
    "# test humap\n",
    "# hUmap1 = humap.UMAP(knn_algorithm=\"NNDescent\", reproducible=True)\n",
    "# fitting\n",
    "hUmap = humap.HUMAP(np.array([0.2, 0.2]), verbose=True)\n",
    "hUmap.fit(X, y)\n"
   ]
  },
  {
   "cell_type": "code",
   "execution_count": 24,
   "id": "6a22a7a5",
   "metadata": {},
   "outputs": [
    {
     "name": "stdout",
     "output_type": "stream",
     "text": [
      "レベル1のランドマーク数: 2000\n"
     ]
    }
   ],
   "source": [
    "# humapのランドマークを取得 l1\n",
    "l1_landmarks = hUmap.original_indices(1)  # レベル1のランドマークの元データインデックス\n",
    "print(f\"レベル1のランドマーク数: {len(l1_landmarks)}\")\n"
   ]
  },
  {
   "cell_type": "code",
   "execution_count": 25,
   "id": "11e0c0ac",
   "metadata": {},
   "outputs": [
    {
     "name": "stdout",
     "output_type": "stream",
     "text": [
      "ランドマークのインデックスの一致数: 1535\n"
     ]
    }
   ],
   "source": [
    "# 実装とhumapのインデックスの一致具合を確認\n",
    "print(f\"ランドマークのインデックスの一致数: {len(set(landmark_ids) & set(l1_landmarks))}\"   )"
   ]
  },
  {
   "cell_type": "markdown",
   "id": "d2fdfd73",
   "metadata": {},
   "source": [
    "# Dissimilairy "
   ]
  },
  {
   "cell_type": "code",
   "execution_count": 26,
   "id": "caf55b01",
   "metadata": {},
   "outputs": [],
   "source": [
    "import numpy as np\n",
    "from sklearn.neighbors import NearestNeighbors\n",
    "\n",
    "def compute_rnh_dissimilarity(X_prev, landmarks, k=15, beta=0.0, n_walks=10, walk_length=10):\n",
    "    \"\"\"\n",
    "    X_prev: 下位階層のデータ点 (Hi-1)\n",
    "    landmarks: 上位階層のランドマークインデックス (Hi)\n",
    "    k: kNN の数\n",
    "    beta: local neighborhood の重み (0~1)\n",
    "    n_walks, walk_length: ランダムウォークの回数と長さ\n",
    "    \"\"\"\n",
    "    n_prev = X_prev.shape[0]\n",
    "    n_landmarks = len(landmarks)\n",
    "\n",
    "    # 下位レベルの kNN グラフを作成\n",
    "    nbrs = NearestNeighbors(n_neighbors=k+1).fit(X_prev)\n",
    "    dists, indices = nbrs.kneighbors(X_prev)\n",
    "    dists, indices = dists[:, 1:], indices[:, 1:]  # 自分自身は除外\n",
    "\n",
    "    # Representation Neighborhood (RNH) 行列の初期化\n",
    "    RNH = np.zeros((n_landmarks, n_prev))\n",
    "\n",
    "    # Global neighborhood: ランダムウォークで RNH を構築\n",
    "    for start in range(n_prev):\n",
    "        for _ in range(n_walks):\n",
    "            cur = start\n",
    "            for _ in range(walk_length):\n",
    "                cur_neighbors = indices[cur]\n",
    "                # 簡易確率として一様に選択\n",
    "                cur = np.random.choice(cur_neighbors)\n",
    "            # ランドマークに到達したら登録\n",
    "            for li, lm in enumerate(landmarks):\n",
    "                if cur == lm:\n",
    "                    RNH[li, start] = 1\n",
    "\n",
    "    # Local neighborhood: 各ランドマークの kNN を追加\n",
    "    for li, lm in enumerate(landmarks):\n",
    "        nn = indices[lm][: int(beta * k)]\n",
    "        RNH[li, nn] = 1\n",
    "\n",
    "    # 類似度を交差で計算\n",
    "    similarity = RNH @ RNH.T\n",
    "    M = RNH.sum(axis=1).max()\n",
    "    similarity /= M\n",
    "\n",
    "    # dissimilarity に変換\n",
    "    dissimilarity = 1 - similarity\n",
    "    return dissimilarity\n"
   ]
  },
  {
   "cell_type": "code",
   "execution_count": null,
   "id": "9564587c",
   "metadata": {},
   "outputs": [],
   "source": [
    "# X_prev: 下位階層のデータ, landmarks: 上位階層のランドマークインデックス\n",
    "diss = compute_rnh_dissimilarity(X, landmark_ids, k=15, beta=0.2, n_walks=10, walk_length=10)\n",
    "print(diss.shape)  # (n_landmarks, n_landmarks)\n"
   ]
  },
  {
   "cell_type": "markdown",
   "id": "1c1e8d98",
   "metadata": {},
   "source": [
    "# generate embedding\n"
   ]
  },
  {
   "cell_type": "code",
   "execution_count": null,
   "id": "10244a27",
   "metadata": {},
   "outputs": [],
   "source": [
    "from sklearn.manifold import SpectralEmbedding\n",
    "\n",
    "def rnh_to_probabilities(dissimilarity, sigma=1.0):\n",
    "    pij = np.exp(-dissimilarity / sigma)\n",
    "    pij_sym = pij + pij.T - pij * pij.T\n",
    "    return pij_sym\n",
    "\n",
    "def initialize_embedding(n_points, n_components=2, existing_coords=None, theta=0.01):\n",
    "    if existing_coords is not None:\n",
    "        init_coords = np.random.randn(n_points, existing_coords.shape[1]) * (1 - theta)\n",
    "        init_coords[:existing_coords.shape[0], :existing_coords.shape[1]] += existing_coords * theta\n",
    "        return init_coords\n",
    "    return np.random.randn(n_points, n_components)\n",
    "\n",
    "# とても遅い\n",
    "def force_directed_sgd(X, pij, n_epochs=200, lr=1.0):\n",
    "    n_points, n_components = X.shape\n",
    "    for epoch in range(n_epochs):\n",
    "        grad = np.zeros_like(X)\n",
    "        for i in range(n_points):\n",
    "            for j in range(n_points):\n",
    "                if i == j: continue\n",
    "                diff = X[i] - X[j]\n",
    "                grad[i] += pij[i,j] * diff - (1 - pij[i,j]) * diff / (np.linalg.norm(diff)+1e-6)\n",
    "        X -= lr * grad\n",
    "    return X\n",
    "\n",
    "# embedding = umap.UMAP(n_neighbors=15, min_dist=0.1, metric=\"precomputed\").fit_transform(1 - pij)\n",
    "\n"
   ]
  },
  {
   "cell_type": "code",
   "execution_count": 63,
   "id": "288cb1e8",
   "metadata": {},
   "outputs": [
    {
     "name": "stderr",
     "output_type": "stream",
     "text": [
      "/Library/Frameworks/Python.framework/Versions/3.12/lib/python3.12/site-packages/umap/umap_.py:1865: UserWarning:\n",
      "\n",
      "using precomputed metric; inverse_transform will be unavailable\n",
      "\n"
     ]
    },
    {
     "name": "stdout",
     "output_type": "stream",
     "text": [
      "(2000, 2)\n"
     ]
    }
   ],
   "source": [
    "# test\n",
    "diss = compute_rnh_dissimilarity(X, landmark_ids, k=15, beta=0.2, n_walks=10, walk_length=10)\n",
    "pij = rnh_to_probabilities(diss, sigma=1.0)\n",
    "init_coords = initialize_embedding(len(landmark_ids), n_components=2)\n",
    "# embedding = force_directed_sgd(init_coords, pij, n_epochs=200, lr=1.0)\n",
    "embedding = umap.UMAP(n_neighbors=15, min_dist=0.1, metric=\"precomputed\").fit_transform(1 - pij)\n",
    "print(embedding.shape)  # (n_landmarks, 2)"
   ]
  },
  {
   "cell_type": "markdown",
   "id": "1d9662f7",
   "metadata": {},
   "source": [
    "# subset associate"
   ]
  },
  {
   "cell_type": "code",
   "execution_count": 38,
   "id": "a619bd2c",
   "metadata": {},
   "outputs": [],
   "source": [
    "def associate_landmarks(X, landmarks, knn_graph):\n",
    "    \"\"\"\n",
    "    非ランドマーク点をランドマークに割り当てる\n",
    "    \"\"\"\n",
    "    n = X.shape[0]\n",
    "    associate = np.full(n, -1)\n",
    "    is_landmark = np.zeros(n, dtype=bool)\n",
    "    is_landmark[landmarks] = True\n",
    "\n",
    "    for u in range(n):\n",
    "        # u がランドマークなら自分自身を割り当て\n",
    "        if is_landmark[u]:\n",
    "            associate[u] = u\n",
    "            continue\n",
    "\n",
    "        found = False\n",
    "        for v in knn_graph[u]:\n",
    "            if is_landmark[v]:\n",
    "                associate[u] = v\n",
    "                found = True\n",
    "                break\n",
    "            elif associate[v] != -1:\n",
    "                associate[u] = associate[v]\n",
    "                found = True\n",
    "                break\n",
    "\n",
    "        if not found:\n",
    "            # DFSで最初に見つけたランドマークまで辿る\n",
    "            stack = [u]\n",
    "            visited = set()\n",
    "            while stack:\n",
    "                cur = stack.pop()\n",
    "                if cur in visited:\n",
    "                    continue\n",
    "                visited.add(cur)\n",
    "                if is_landmark[cur]:\n",
    "                    associate[u] = cur\n",
    "                    break\n",
    "                stack.extend(knn_graph[cur])\n",
    "    return associate\n"
   ]
  },
  {
   "cell_type": "code",
   "execution_count": 40,
   "id": "f8d64045",
   "metadata": {},
   "outputs": [
    {
     "name": "stdout",
     "output_type": "stream",
     "text": [
      "(10000,)\n"
     ]
    }
   ],
   "source": [
    "# test associate\n",
    "\n",
    "from sklearn.neighbors import NearestNeighbors\n",
    "\n",
    "# kNNグラフのインデックスリストを作成\n",
    "k = 20\n",
    "nbrs = NearestNeighbors(n_neighbors=k+1).fit(X)\n",
    "dists, indices = nbrs.kneighbors(X)\n",
    "knn_graph = [ind[1:] for ind in indices]  # 自分自身を除外\n",
    "\n",
    "associate = associate_landmarks(X, landmark_ids, knn_graph)\n",
    "print(associate.shape)  # (n_points,)\n"
   ]
  },
  {
   "cell_type": "code",
   "execution_count": 41,
   "id": "cdb8ca0b",
   "metadata": {},
   "outputs": [
    {
     "name": "stdout",
     "output_type": "stream",
     "text": [
      "Landmark 3137: 25 points -> [0, 618, 1267, 1740, 2047, 2058, 2105, 3137, 3359, 3433]...\n",
      "Landmark 1: 3 points -> [1, 3002, 4287]...\n",
      "Landmark 1247: 9 points -> [2, 342, 834, 1247, 3035, 3753, 4266, 4408, 9749]...\n",
      "Landmark 8767: 8 points -> [3, 1772, 2151, 3209, 5383, 7492, 7755, 8767]...\n",
      "Landmark 7772: 8 points -> [4, 244, 2410, 4478, 5181, 6362, 7521, 7772]...\n",
      "Landmark 4954: 5 points -> [5, 4786, 4954, 8229, 8664]...\n",
      "Landmark 1082: 8 points -> [6, 558, 1082, 1497, 2595, 4175, 5562, 7680]...\n",
      "Landmark 6811: 10 points -> [7, 450, 2004, 2448, 4737, 4758, 4827, 6811, 7098, 8839]...\n",
      "Landmark 9827: 4 points -> [8, 3701, 6992, 9827]...\n",
      "Landmark 5791: 2 points -> [9, 5791]...\n",
      "Landmark 4788: 7 points -> [10, 1370, 2473, 2520, 4788, 6159, 9975]...\n",
      "Landmark 9313: 6 points -> [11, 2104, 5215, 6597, 7082, 9313]...\n",
      "Landmark 2700: 5 points -> [12, 800, 2700, 5165, 8243]...\n",
      "Landmark 2243: 4 points -> [13, 2243, 3429, 8536]...\n",
      "Landmark 6534: 6 points -> [14, 1716, 5280, 6400, 6534, 7518]...\n",
      "Landmark 8076: 14 points -> [15, 317, 680, 1393, 1546, 3682, 4781, 4930, 5387, 7519]...\n",
      "Landmark 16: 2 points -> [16, 2851]...\n",
      "Landmark 9275: 6 points -> [17, 762, 1780, 1790, 9275, 9699]...\n",
      "Landmark 6106: 11 points -> [18, 535, 3237, 4351, 5315, 5325, 5465, 5553, 6106, 6217]...\n",
      "Landmark 1329: 6 points -> [19, 602, 1329, 5578, 7587, 8231]...\n",
      "Landmark 4990: 9 points -> [20, 240, 1059, 3963, 4990, 6307, 8037, 8653, 8969]...\n",
      "Landmark 21: 5 points -> [21, 4848, 5337, 7115, 9595]...\n",
      "Landmark 1743: 17 points -> [22, 1743, 2224, 2631, 3177, 3790, 4143, 4190, 4328, 5442]...\n",
      "Landmark 3086: 4 points -> [23, 3086, 4008, 8737]...\n",
      "Landmark 24: 3 points -> [24, 5393, 6523]...\n",
      "Landmark 25: 7 points -> [25, 902, 1548, 6283, 6474, 7365, 9450]...\n",
      "Landmark 1291: 13 points -> [26, 286, 1034, 1055, 1089, 1291, 3074, 3686, 5613, 6961]...\n",
      "Landmark 27: 2 points -> [27, 1976]...\n",
      "Landmark 5515: 13 points -> [28, 1112, 1670, 1720, 1894, 2390, 4305, 4778, 5515, 6988]...\n",
      "Landmark 8929: 9 points -> [29, 2661, 3301, 3360, 5747, 7239, 7271, 8929, 9986]...\n",
      "Landmark 506: 5 points -> [30, 506, 4278, 5047, 9153]...\n",
      "Landmark 3797: 10 points -> [31, 2026, 2172, 2620, 3091, 3797, 6513, 6588, 6937, 8436]...\n",
      "Landmark 32: 3 points -> [32, 3699, 6943]...\n",
      "Landmark 7925: 5 points -> [33, 5113, 5752, 7925, 8883]...\n",
      "Landmark 3891: 3 points -> [34, 3891, 6881]...\n",
      "Landmark 6012: 7 points -> [35, 205, 2015, 2318, 4453, 5764, 6012]...\n",
      "Landmark 36: 5 points -> [36, 3312, 3531, 4373, 7959]...\n",
      "Landmark 2768: 8 points -> [37, 200, 838, 2768, 3299, 5329, 6356, 7920]...\n",
      "Landmark 8917: 4 points -> [38, 1646, 8917, 9904]...\n",
      "Landmark 39: 5 points -> [39, 1611, 1861, 3914, 8804]...\n",
      "Landmark 4239: 8 points -> [40, 1313, 2234, 2274, 2959, 4239, 4773, 9990]...\n",
      "Landmark 41: 2 points -> [41, 7226]...\n",
      "Landmark 42: 6 points -> [42, 868, 3044, 3329, 5360, 6779]...\n",
      "Landmark 1008: 12 points -> [43, 1008, 1358, 2803, 4495, 5682, 6353, 6602, 6941, 7739]...\n",
      "Landmark 5156: 5 points -> [44, 4286, 5000, 5156, 5266]...\n",
      "Landmark 4381: 10 points -> [45, 531, 623, 3119, 4381, 7787, 8189, 9038, 9073, 9310]...\n",
      "Landmark 1628: 7 points -> [46, 1620, 1628, 2276, 2325, 3340, 3714]...\n",
      "Landmark 2663: 7 points -> [47, 1161, 2663, 7360, 7378, 7576, 7776]...\n",
      "Landmark 5412: 26 points -> [48, 187, 362, 754, 822, 904, 1049, 1091, 1143, 1496]...\n",
      "Landmark 4626: 4 points -> [49, 2861, 4626, 7955]...\n",
      "Landmark 50: 7 points -> [50, 396, 3371, 4307, 5460, 5958, 8835]...\n",
      "Landmark 3788: 4 points -> [51, 3306, 3788, 4055]...\n",
      "Landmark 2706: 13 points -> [52, 161, 1344, 1432, 1629, 1897, 2370, 2562, 2706, 5322]...\n",
      "Landmark 53: 12 points -> [53, 1271, 1699, 1767, 2119, 3105, 3988, 4155, 5274, 5932]...\n",
      "Landmark 7634: 9 points -> [54, 6219, 6945, 7373, 7634, 7688, 8028, 8651, 9589]...\n",
      "Landmark 8854: 6 points -> [55, 1895, 2633, 7181, 8425, 8854]...\n",
      "Landmark 8353: 4 points -> [56, 1477, 4932, 8353]...\n",
      "Landmark 1446: 7 points -> [57, 1243, 1446, 5836, 8333, 8613, 9564]...\n",
      "Landmark 1944: 6 points -> [58, 1209, 1944, 5331, 5345, 9669]...\n",
      "Landmark 59: 13 points -> [59, 713, 1138, 2044, 3196, 5831, 6174, 6296, 6664, 7768]...\n",
      "Landmark 3919: 4 points -> [60, 1645, 3919, 5732]...\n",
      "Landmark 5645: 11 points -> [61, 814, 1529, 2037, 2206, 4426, 5367, 5645, 6371, 7533]...\n",
      "Landmark 8817: 6 points -> [62, 2034, 5417, 5540, 5647, 8817]...\n",
      "Landmark 4794: 5 points -> [63, 4794, 5173, 8555, 9086]...\n",
      "Landmark 8611: 9 points -> [64, 279, 818, 1792, 5474, 6134, 7361, 8274, 8611]...\n",
      "Landmark 9397: 9 points -> [65, 497, 628, 7020, 7025, 7951, 8286, 9397, 9686]...\n",
      "Landmark 66: 4 points -> [66, 893, 7188, 8348]...\n",
      "Landmark 351: 14 points -> [67, 351, 357, 793, 951, 1070, 1562, 2143, 2364, 3007]...\n",
      "Landmark 4648: 6 points -> [68, 1390, 2734, 3544, 4648, 7127]...\n",
      "Landmark 69: 4 points -> [69, 1531, 6183, 9363]...\n",
      "Landmark 8755: 31 points -> [70, 126, 2328, 2449, 2672, 2709, 3294, 3634, 3985, 4007]...\n",
      "Landmark 8068: 5 points -> [71, 4485, 6517, 8068, 8931]...\n",
      "Landmark 4964: 10 points -> [72, 4068, 4964, 6188, 6827, 7723, 8422, 9534, 9802, 9838]...\n",
      "Landmark 73: 2 points -> [73, 3009]...\n",
      "Landmark 9443: 13 points -> [74, 1083, 1383, 3003, 4730, 5014, 5450, 6236, 7340, 9175]...\n",
      "Landmark 9772: 3 points -> [75, 7457, 9772]...\n",
      "Landmark 76: 2 points -> [76, 9638]...\n",
      "Landmark 77: 2 points -> [77, 4163]...\n",
      "Landmark 8412: 5 points -> [78, 4344, 5291, 5881, 8412]...\n",
      "Landmark 79: 3 points -> [79, 710, 4640]...\n",
      "Landmark 80: 3 points -> [80, 3493, 5407]...\n",
      "Landmark 1514: 3 points -> [81, 433, 1514]...\n",
      "Landmark 1540: 4 points -> [82, 1540, 8948, 9883]...\n",
      "Landmark 3586: 5 points -> [83, 2090, 2290, 3586, 4579]...\n",
      "Landmark 7775: 6 points -> [84, 502, 1598, 2912, 7554, 7775]...\n",
      "Landmark 1155: 6 points -> [85, 801, 1155, 2424, 3129, 5146]...\n",
      "Landmark 2237: 6 points -> [86, 2237, 3094, 3516, 7195, 8054]...\n",
      "Landmark 5683: 9 points -> [87, 354, 1359, 3650, 5683, 6476, 8479, 8814, 8960]...\n",
      "Landmark 8470: 5 points -> [88, 821, 6484, 8209, 8470]...\n",
      "Landmark 5320: 7 points -> [89, 1090, 1289, 4798, 4976, 5320, 5983]...\n",
      "Landmark 7864: 3 points -> [90, 3304, 7864]...\n",
      "Landmark 7468: 13 points -> [91, 319, 732, 1599, 4560, 4882, 5003, 5952, 6388, 6910]...\n",
      "Landmark 92: 2 points -> [92, 5773]...\n",
      "Landmark 7207: 7 points -> [93, 2855, 5909, 6443, 6477, 7207, 9414]...\n",
      "Landmark 8863: 5 points -> [94, 3462, 6898, 7097, 8863]...\n",
      "Landmark 8151: 8 points -> [95, 3040, 3217, 3315, 5911, 8151, 8395, 9750]...\n",
      "Landmark 9700: 16 points -> [96, 1101, 1822, 3080, 4009, 4193, 4692, 5530, 5659, 5714]...\n",
      "Landmark 8434: 6 points -> [97, 1412, 2440, 3269, 7865, 8434]...\n",
      "Landmark 1988: 9 points -> [98, 1660, 1909, 1988, 2680, 4231, 4411, 5432, 5495]...\n",
      "Landmark 4000: 9 points -> [99, 784, 1413, 2201, 2487, 4000, 4438, 5227, 6338]...\n",
      "Landmark 525: 19 points -> [100, 525, 1080, 1396, 1953, 3331, 3815, 3966, 4092, 4663]...\n",
      "Landmark 8665: 8 points -> [101, 3319, 3372, 4293, 4831, 7440, 8665, 8693]...\n",
      "Landmark 5270: 11 points -> [102, 1400, 3198, 3274, 5194, 5270, 7608, 8552, 9395, 9660]...\n",
      "Landmark 4017: 4 points -> [103, 673, 4017, 8298]...\n",
      "Landmark 4660: 9 points -> [104, 1959, 2981, 4301, 4660, 5608, 6128, 6489, 8689]...\n",
      "Landmark 7218: 6 points -> [105, 6154, 7218, 8039, 8879, 9692]...\n",
      "Landmark 3627: 8 points -> [106, 2748, 3627, 6328, 6699, 7507, 8698, 9565]...\n",
      "Landmark 993: 11 points -> [107, 498, 993, 2051, 2142, 3036, 6475, 6491, 7681, 8041]...\n",
      "Landmark 108: 3 points -> [108, 4959, 5477]...\n",
      "Landmark 837: 7 points -> [109, 235, 837, 1389, 3229, 6615, 7287]...\n",
      "Landmark 110: 6 points -> [110, 4884, 5141, 5501, 7460, 8035]...\n",
      "Landmark 9830: 4 points -> [111, 1123, 6731, 9830]...\n",
      "Landmark 1137: 3 points -> [112, 1137, 2046]...\n",
      "Landmark 2780: 5 points -> [113, 2780, 3370, 4107, 7113]...\n",
      "Landmark 114: 4 points -> [114, 1197, 1518, 3965]...\n",
      "Landmark 1723: 6 points -> [115, 1723, 1926, 2008, 4072, 9239]...\n",
      "Landmark 8639: 16 points -> [116, 487, 724, 2463, 2899, 3011, 4856, 5543, 5639, 6543]...\n",
      "Landmark 7756: 14 points -> [117, 614, 2140, 2177, 2438, 4557, 4571, 4814, 5170, 7553]...\n",
      "Landmark 118: 10 points -> [118, 866, 1222, 2057, 2229, 3381, 4754, 5545, 7848, 8868]...\n",
      "Landmark 9140: 15 points -> [119, 352, 668, 738, 2292, 3486, 3709, 3781, 4525, 5284]...\n",
      "Landmark 4263: 19 points -> [120, 349, 917, 937, 1838, 2141, 2366, 2791, 2964, 3838]...\n",
      "Landmark 3115: 9 points -> [121, 1366, 2840, 3115, 3361, 6529, 7080, 7668, 8517]...\n",
      "Landmark 1367: 7 points -> [122, 1177, 1367, 4907, 6200, 6288, 8359]...\n",
      "Landmark 9688: 4 points -> [123, 4487, 8944, 9688]...\n",
      "Landmark 3050: 3 points -> [124, 1997, 3050]...\n",
      "Landmark 3931: 16 points -> [125, 697, 2501, 2529, 2845, 3170, 3514, 3566, 3931, 4212]...\n",
      "Landmark 7620: 9 points -> [127, 1063, 2924, 4197, 4466, 7109, 7130, 7620, 7818]...\n",
      "Landmark 3643: 9 points -> [128, 1683, 3643, 3659, 4415, 4432, 6959, 8399, 9124]...\n",
      "Landmark 129: 4 points -> [129, 208, 1610, 4613]...\n",
      "Landmark 7938: 11 points -> [130, 587, 3562, 6555, 6644, 7844, 7859, 7938, 8712, 9039]...\n",
      "Landmark 178: 12 points -> [131, 178, 480, 662, 1190, 2305, 7065, 7232, 7302, 7957]...\n",
      "Landmark 132: 3 points -> [132, 4632, 8341]...\n",
      "Landmark 7969: 5 points -> [133, 4664, 7059, 7969, 8790]...\n",
      "Landmark 7845: 12 points -> [134, 542, 810, 1631, 2563, 2846, 5559, 6186, 6998, 7032]...\n",
      "Landmark 5455: 9 points -> [135, 1554, 1978, 1986, 3736, 5455, 7118, 8128, 9160]...\n",
      "Landmark 136: 6 points -> [136, 2511, 4465, 5980, 8623, 9845]...\n",
      "Landmark 137: 6 points -> [137, 3934, 5211, 5408, 6282, 6989]...\n",
      "Landmark 3684: 7 points -> [138, 622, 3684, 3693, 4864, 6694, 8494]...\n",
      "Landmark 7206: 8 points -> [139, 1187, 1590, 1658, 2275, 6073, 7206, 9042]...\n",
      "Landmark 2805: 5 points -> [140, 926, 2805, 4874, 9007]...\n",
      "Landmark 141: 2 points -> [141, 5079]...\n",
      "Landmark 2393: 12 points -> [142, 1563, 1603, 1896, 1972, 2393, 4122, 4490, 4565, 5852]...\n",
      "Landmark 4066: 4 points -> [143, 4066, 4191, 4576]...\n",
      "Landmark 144: 3 points -> [144, 2494, 2963]...\n",
      "Landmark 145: 3 points -> [145, 6115, 7463]...\n",
      "Landmark 490: 20 points -> [146, 490, 615, 896, 946, 1156, 1924, 2506, 2619, 5053]...\n",
      "Landmark 5919: 14 points -> [147, 1402, 1739, 3005, 3382, 3512, 4652, 5145, 5919, 6838]...\n",
      "Landmark 148: 7 points -> [148, 2382, 3719, 4128, 5310, 7857, 9440]...\n",
      "Landmark 3772: 4 points -> [149, 1931, 3772, 8582]...\n",
      "Landmark 5472: 6 points -> [150, 4234, 5472, 6750, 7069, 8719]...\n",
      "Landmark 151: 1 points -> [151]...\n",
      "Landmark 2055: 17 points -> [152, 537, 645, 2055, 3016, 3111, 4886, 5641, 5974, 6038]...\n",
      "Landmark 153: 7 points -> [153, 3591, 4437, 5681, 7039, 8169, 8356]...\n",
      "Landmark 8062: 5 points -> [154, 2435, 4186, 6774, 8062]...\n",
      "Landmark 6952: 15 points -> [155, 315, 1741, 2032, 2545, 3853, 3990, 4169, 5132, 6266]...\n",
      "Landmark 8505: 10 points -> [156, 1717, 2297, 3821, 4019, 4273, 4430, 4746, 5637, 8505]...\n",
      "Landmark 6198: 5 points -> [157, 1701, 2687, 5876, 6198]...\n",
      "Landmark 8330: 3 points -> [158, 4729, 8330]...\n",
      "Landmark 6478: 4 points -> [159, 2610, 6478, 7944]...\n",
      "Landmark 6716: 5 points -> [160, 1442, 5385, 6716, 9171]...\n",
      "Landmark 5457: 11 points -> [162, 1248, 2547, 3052, 3632, 4277, 4384, 5457, 5939, 6786]...\n",
      "Landmark 4159: 4 points -> [163, 3515, 4159, 5806]...\n",
      "Landmark 164: 4 points -> [164, 1409, 3964, 6744]...\n",
      "Landmark 4476: 9 points -> [165, 1331, 1898, 4476, 6407, 7071, 8295, 8844, 9614]...\n",
      "Landmark 1188: 7 points -> [166, 246, 581, 1188, 3265, 4906, 6586]...\n",
      "Landmark 1437: 4 points -> [167, 1437, 6051, 8604]...\n",
      "Landmark 168: 4 points -> [168, 440, 1948, 7141]...\n",
      "Landmark 169: 1 points -> [169]...\n",
      "Landmark 9035: 6 points -> [170, 1130, 5527, 5994, 6545, 9035]...\n",
      "Landmark 4610: 6 points -> [171, 1456, 3247, 4610, 5473, 5611]...\n",
      "Landmark 3850: 5 points -> [172, 3850, 6761, 7205, 8052]...\n",
      "Landmark 7402: 4 points -> [173, 6549, 7402, 8444]...\n",
      "Landmark 207: 2 points -> [174, 207]...\n",
      "Landmark 7074: 10 points -> [175, 1087, 3707, 5403, 6041, 6270, 6645, 7074, 7243, 9281]...\n",
      "Landmark 176: 1 points -> [176]...\n",
      "Landmark 6098: 8 points -> [177, 948, 1441, 3446, 6098, 6501, 6901, 9431]...\n",
      "Landmark 514: 18 points -> [179, 514, 841, 1794, 2571, 4659, 4738, 4741, 4947, 5258]...\n",
      "Landmark 180: 2 points -> [180, 4995]...\n",
      "Landmark 610: 3 points -> [181, 610, 5394]...\n",
      "Landmark 5123: 3 points -> [182, 5123, 7876]...\n",
      "Landmark 183: 9 points -> [183, 963, 1072, 1283, 1502, 4220, 5832, 6792, 7176]...\n",
      "Landmark 184: 2 points -> [184, 1975]...\n",
      "Landmark 2521: 4 points -> [185, 464, 2521, 7922]...\n",
      "Landmark 3302: 6 points -> [186, 3107, 3302, 4594, 6202, 9888]...\n",
      "Landmark 188: 6 points -> [188, 2042, 4479, 8191, 9485, 9707]...\n",
      "Landmark 6515: 5 points -> [189, 223, 1761, 3345, 6515]...\n",
      "Landmark 5877: 12 points -> [190, 848, 962, 2349, 2665, 2702, 3082, 3393, 4016, 5877]...\n",
      "Landmark 7977: 6 points -> [191, 2386, 7603, 7656, 7977, 9807]...\n",
      "Landmark 2822: 8 points -> [192, 1998, 2372, 2822, 3622, 5552, 8753, 9657]...\n",
      "Landmark 9892: 2 points -> [193, 9892]...\n",
      "Landmark 5214: 3 points -> [194, 5214, 8744]...\n",
      "Landmark 2847: 5 points -> [195, 642, 2847, 3498, 9561]...\n",
      "Landmark 6105: 5 points -> [196, 667, 2381, 6105, 7332]...\n",
      "Landmark 906: 13 points -> [197, 409, 717, 906, 1114, 1673, 2439, 3667, 5729, 6522]...\n",
      "Landmark 2576: 14 points -> [198, 1892, 2576, 3623, 3760, 4574, 4902, 4994, 6034, 6469]...\n",
      "Landmark 8756: 7 points -> [199, 2405, 2747, 2863, 4927, 8700, 8756]...\n",
      "Landmark 8296: 9 points -> [201, 846, 1338, 2952, 3049, 6742, 6770, 7228, 8296]...\n",
      "Landmark 1057: 14 points -> [202, 971, 1057, 1863, 1956, 2017, 4226, 4780, 4909, 5667]...\n",
      "Landmark 957: 4 points -> [203, 517, 957, 1330]...\n",
      "Landmark 2741: 2 points -> [204, 2741]...\n",
      "Landmark 7616: 8 points -> [206, 1447, 3688, 5948, 7010, 7125, 7616, 7921]...\n",
      "Landmark 358: 8 points -> [209, 358, 2561, 2608, 3368, 6401, 7348, 9444]...\n",
      "Landmark 210: 8 points -> [210, 1671, 2200, 2399, 5229, 6207, 8032, 9562]...\n",
      "Landmark 211: 3 points -> [211, 5720, 6418]...\n",
      "Landmark 7903: 25 points -> [212, 291, 923, 1911, 2163, 2170, 2945, 3176, 3266, 3296]...\n",
      "Landmark 1827: 4 points -> [213, 1827, 4867, 5536]...\n",
      "Landmark 214: 5 points -> [214, 552, 2758, 4176, 6872]...\n",
      "Landmark 215: 4 points -> [215, 3668, 9335, 9373]...\n",
      "Landmark 9298: 11 points -> [216, 283, 2136, 2693, 3006, 3633, 6767, 6972, 7064, 8053]...\n",
      "Landmark 3403: 2 points -> [217, 3403]...\n",
      "Landmark 9217: 6 points -> [218, 2578, 4895, 8545, 9196, 9217]...\n",
      "Landmark 7730: 7 points -> [219, 2853, 3104, 4914, 7406, 7730, 8391]...\n",
      "Landmark 220: 3 points -> [220, 5202, 9003]...\n",
      "Landmark 9671: 24 points -> [221, 723, 886, 954, 1486, 1549, 1873, 1937, 2436, 2573]...\n",
      "Landmark 3576: 3 points -> [222, 2960, 3576]...\n",
      "Landmark 6149: 2 points -> [224, 6149]...\n",
      "Landmark 4894: 3 points -> [225, 4894, 4934]...\n",
      "Landmark 6244: 4 points -> [226, 1007, 4166, 6244]...\n",
      "Landmark 227: 1 points -> [227]...\n",
      "Landmark 1952: 9 points -> [228, 275, 1952, 2483, 2823, 6238, 6848, 6864, 6902]...\n",
      "Landmark 2486: 7 points -> [229, 2486, 4736, 5176, 5859, 6318, 9362]...\n",
      "Landmark 3419: 2 points -> [230, 3419]...\n",
      "Landmark 231: 22 points -> [231, 1592, 2658, 2707, 3182, 3438, 4130, 4298, 4481, 5486]...\n",
      "Landmark 1205: 10 points -> [232, 1205, 3472, 4116, 4514, 6208, 6359, 7459, 7648, 9826]...\n",
      "Landmark 233: 7 points -> [233, 287, 4303, 5857, 8732, 8838, 9656]...\n",
      "Landmark 3792: 5 points -> [234, 518, 795, 3394, 3792]...\n",
      "Landmark 3330: 17 points -> [236, 3156, 3250, 3330, 3898, 4094, 5568, 5891, 6165, 6211]...\n",
      "Landmark 237: 6 points -> [237, 604, 1147, 2484, 4728, 9452]...\n",
      "Landmark 832: 4 points -> [238, 832, 3144, 7891]...\n",
      "Landmark 3728: 6 points -> [239, 3728, 8580, 8937, 9661, 9812]...\n",
      "Landmark 9842: 5 points -> [241, 1478, 3739, 6709, 9842]...\n",
      "Landmark 8803: 5 points -> [242, 1750, 1784, 5318, 8803]...\n",
      "Landmark 4224: 12 points -> [243, 1722, 2155, 3435, 3785, 3962, 4224, 5991, 6255, 7659]...\n",
      "Landmark 4556: 5 points -> [245, 702, 1004, 4556, 8075]...\n",
      "Landmark 4799: 11 points -> [247, 2101, 3347, 4013, 4383, 4799, 6336, 7692, 8410, 9502]...\n",
      "Landmark 9421: 4 points -> [248, 5544, 7611, 9421]...\n",
      "Landmark 8087: 18 points -> [249, 1028, 1574, 2164, 2550, 2635, 4615, 5500, 6085, 6100]...\n",
      "Landmark 7259: 4 points -> [250, 298, 1106, 7259]...\n",
      "Landmark 879: 2 points -> [251, 879]...\n",
      "Landmark 252: 3 points -> [252, 6279, 9666]...\n",
      "Landmark 392: 5 points -> [253, 392, 462, 2007, 5884]...\n",
      "Landmark 5904: 6 points -> [254, 1719, 3047, 4454, 5904, 6693]...\n",
      "Landmark 255: 2 points -> [255, 8496]...\n",
      "Landmark 256: 3 points -> [256, 8788, 8861]...\n",
      "Landmark 257: 1 points -> [257]...\n",
      "Landmark 258: 1 points -> [258]...\n",
      "Landmark 649: 19 points -> [259, 321, 649, 768, 1241, 2456, 3220, 3384, 3554, 3976]...\n",
      "Landmark 9036: 4 points -> [260, 2527, 5794, 9036]...\n",
      "Landmark 278: 3 points -> [261, 278, 4547]...\n",
      "Landmark 262: 9 points -> [262, 935, 6917, 7194, 7372, 7569, 8080, 8099, 9602]...\n",
      "Landmark 4168: 3 points -> [263, 4168, 9503]...\n",
      "Landmark 5498: 19 points -> [264, 844, 941, 959, 1105, 2009, 2773, 2852, 3346, 3617]...\n",
      "Landmark 456: 8 points -> [265, 456, 1085, 3093, 4434, 6354, 7450, 9475]...\n",
      "Landmark 2295: 6 points -> [266, 1264, 2295, 7477, 8122, 8343]...\n",
      "Landmark 7142: 7 points -> [267, 1826, 2150, 2419, 4400, 4583, 7142]...\n",
      "Landmark 1578: 17 points -> [268, 671, 1578, 1763, 2697, 2857, 2865, 3424, 4631, 4752]...\n",
      "Landmark 269: 1 points -> [269]...\n",
      "Landmark 8629: 7 points -> [270, 2409, 3282, 5074, 5717, 6837, 8629]...\n",
      "Landmark 5926: 12 points -> [271, 586, 1650, 2452, 4046, 5097, 5198, 5491, 5926, 6668]...\n",
      "Landmark 2776: 7 points -> [272, 406, 2776, 3547, 5612, 5955, 6537]...\n",
      "Landmark 5961: 2 points -> [273, 5961]...\n",
      "Landmark 7981: 7 points -> [274, 613, 2801, 4319, 6033, 6927, 7981]...\n",
      "Landmark 3875: 3 points -> [276, 3875, 5122]...\n",
      "Landmark 277: 4 points -> [277, 4635, 6385, 9051]...\n",
      "Landmark 280: 5 points -> [280, 1752, 4385, 5833, 9172]...\n",
      "Landmark 3279: 4 points -> [281, 3279, 4222, 6708]...\n",
      "Landmark 282: 3 points -> [282, 5468, 8116]...\n",
      "Landmark 5196: 8 points -> [284, 1463, 4784, 4975, 5196, 6146, 6397, 7429]...\n",
      "Landmark 6830: 8 points -> [285, 739, 1050, 3445, 4461, 4901, 6830, 8798]...\n",
      "Landmark 3609: 5 points -> [288, 3609, 4148, 5336, 6241]...\n",
      "Landmark 2617: 6 points -> [289, 753, 1340, 2617, 6871, 9165]...\n",
      "Landmark 7114: 8 points -> [290, 776, 1602, 4061, 4893, 7114, 7135, 9711]...\n",
      "Landmark 5674: 6 points -> [292, 1275, 1467, 4973, 5674, 6717]...\n",
      "Landmark 7889: 11 points -> [293, 749, 765, 2478, 3030, 3594, 5678, 7811, 7889, 8587]...\n",
      "Landmark 3648: 4 points -> [294, 3648, 9358, 9428]...\n",
      "Landmark 5664: 12 points -> [295, 383, 576, 2824, 3635, 3733, 3895, 5664, 5819, 6261]...\n",
      "Landmark 9405: 5 points -> [296, 1391, 5060, 5537, 9405]...\n",
      "Landmark 1933: 6 points -> [297, 1933, 3447, 5712, 6600, 9233]...\n",
      "Landmark 9792: 3 points -> [299, 2522, 9792]...\n",
      "Landmark 3409: 8 points -> [300, 1499, 2303, 2873, 3409, 4308, 6683, 7169]...\n",
      "Landmark 3216: 13 points -> [301, 3216, 3328, 3351, 4339, 4854, 5240, 5757, 5976, 6148]...\n",
      "Landmark 1154: 4 points -> [302, 1154, 7913, 8464]...\n",
      "Landmark 3284: 10 points -> [303, 356, 3284, 5397, 6232, 7322, 7863, 8647, 8680, 9559]...\n",
      "Landmark 9907: 7 points -> [304, 1468, 4246, 5002, 5024, 6544, 9907]...\n",
      "Landmark 305: 1 points -> [305]...\n",
      "Landmark 6150: 7 points -> [306, 984, 1203, 5354, 6150, 8095, 8107]...\n",
      "Landmark 3685: 7 points -> [307, 1132, 1457, 3685, 5923, 6227, 8368]...\n",
      "Landmark 5938: 3 points -> [308, 5938, 6661]...\n",
      "Landmark 6766: 13 points -> [309, 1900, 3392, 3702, 4334, 4468, 5746, 6766, 7545, 8060]...\n",
      "Landmark 5456: 9 points -> [310, 2632, 2695, 5456, 5650, 6662, 7335, 7827, 9920]...\n",
      "Landmark 3295: 9 points -> [311, 3295, 5596, 5703, 6733, 7350, 9055, 9109, 9436]...\n",
      "Landmark 8447: 2 points -> [312, 8447]...\n",
      "Landmark 7640: 6 points -> [313, 1239, 2828, 5040, 7640, 7870]...\n",
      "Landmark 314: 3 points -> [314, 1033, 1145]...\n",
      "Landmark 5563: 4 points -> [316, 3971, 5563, 8418]...\n",
      "Landmark 6877: 2 points -> [318, 6877]...\n",
      "Landmark 320: 8 points -> [320, 1392, 1560, 2676, 3083, 3204, 5907, 7567]...\n",
      "Landmark 3977: 6 points -> [322, 3379, 3676, 3977, 5770, 6246]...\n",
      "Landmark 1495: 14 points -> [323, 1495, 1506, 1517, 1585, 1938, 2898, 3763, 4306, 4712]...\n",
      "Landmark 324: 3 points -> [324, 3248, 6007]...\n",
      "Landmark 5219: 5 points -> [325, 1544, 2367, 5219, 6671]...\n",
      "Landmark 7698: 4 points -> [326, 621, 7598, 7698]...\n",
      "Landmark 5041: 5 points -> [327, 968, 3669, 3896, 5041]...\n",
      "Landmark 6410: 8 points -> [328, 3356, 3752, 5617, 5656, 5750, 6410, 8234]...\n",
      "Landmark 2194: 2 points -> [329, 2194]...\n",
      "Landmark 9130: 4 points -> [330, 7261, 8621, 9130]...\n",
      "Landmark 331: 8 points -> [331, 3530, 5402, 5503, 6729, 8769, 8851, 9260]...\n",
      "Landmark 7003: 7 points -> [332, 828, 1812, 2337, 4077, 7003, 8975]...\n",
      "Landmark 333: 3 points -> [333, 6507, 7861]...\n",
      "Landmark 9526: 4 points -> [334, 6763, 9526, 9857]...\n",
      "Landmark 2080: 11 points -> [335, 747, 794, 849, 2080, 2111, 2936, 3159, 8456, 9412]...\n",
      "Landmark 4938: 6 points -> [336, 1819, 4024, 4938, 7652, 7838]...\n",
      "Landmark 337: 3 points -> [337, 7014, 8714]...\n",
      "Landmark 1653: 7 points -> [338, 1427, 1653, 2839, 4928, 6896, 7804]...\n",
      "Landmark 9270: 17 points -> [339, 1630, 1820, 2489, 4567, 4717, 5738, 6196, 6265, 6376]...\n",
      "Landmark 2518: 3 points -> [340, 2518, 9636]...\n",
      "Landmark 6670: 6 points -> [341, 527, 5357, 5742, 6670, 9754]...\n",
      "Landmark 8244: 5 points -> [343, 3844, 5017, 5869, 8244]...\n",
      "Landmark 4501: 5 points -> [344, 4352, 4501, 7563, 9273]...\n",
      "Landmark 345: 6 points -> [345, 1493, 4125, 6170, 7303, 8796]...\n",
      "Landmark 346: 4 points -> [346, 4031, 5272, 7831]...\n",
      "Landmark 347: 1 points -> [347]...\n",
      "Landmark 348: 6 points -> [348, 3983, 4242, 4280, 7016, 8983]...\n",
      "Landmark 350: 5 points -> [350, 1710, 1781, 8136, 9207]...\n",
      "Landmark 5620: 3 points -> [353, 3189, 5620]...\n",
      "Landmark 9192: 3 points -> [355, 2341, 9192]...\n",
      "Landmark 4188: 4 points -> [359, 721, 4188, 8898]...\n",
      "Landmark 1054: 4 points -> [360, 1054, 2684, 5697]...\n",
      "Landmark 361: 2 points -> [361, 6781]...\n",
      "Landmark 5142: 9 points -> [363, 1299, 1693, 2643, 3984, 4791, 5142, 5484, 8486]...\n",
      "Landmark 1810: 5 points -> [364, 699, 1327, 1810, 9633]...\n",
      "Landmark 365: 3 points -> [365, 4441, 8793]...\n",
      "Landmark 3149: 9 points -> [366, 1692, 2268, 2796, 3149, 6755, 8049, 8420, 9111]...\n",
      "Landmark 3173: 9 points -> [367, 1215, 1469, 1484, 1570, 2114, 3173, 3782, 9360]...\n",
      "Landmark 1012: 7 points -> [368, 1012, 1069, 1520, 2500, 6075, 8474]...\n",
      "Landmark 881: 14 points -> [369, 881, 1661, 2639, 2799, 3738, 3809, 4030, 7092, 7139]...\n",
      "Landmark 1841: 11 points -> [370, 1841, 2023, 2213, 2972, 3400, 3458, 5768, 6527, 6906]...\n",
      "Landmark 4755: 7 points -> [371, 686, 3879, 4202, 4755, 5810, 6633]...\n",
      "Landmark 372: 2 points -> [372, 1871]...\n",
      "Landmark 9176: 11 points -> [373, 1472, 1613, 4003, 5326, 5847, 6758, 7161, 8071, 8457]...\n",
      "Landmark 1420: 14 points -> [374, 1420, 1856, 1990, 2474, 3060, 3205, 3742, 3823, 4299]...\n",
      "Landmark 6508: 4 points -> [375, 804, 1884, 6508]...\n",
      "Landmark 9935: 6 points -> [376, 2368, 2559, 3749, 6703, 9935]...\n",
      "Landmark 2812: 10 points -> [377, 430, 2812, 3855, 3863, 4577, 5128, 6218, 6577, 9710]...\n",
      "Landmark 6054: 20 points -> [378, 410, 510, 1292, 2502, 2622, 3073, 3904, 6054, 6394]...\n",
      "Landmark 379: 5 points -> [379, 3185, 3517, 4494, 8294]...\n",
      "Landmark 4392: 2 points -> [380, 4392]...\n",
      "Landmark 7515: 5 points -> [381, 5210, 7354, 7515, 7839]...\n",
      "Landmark 3386: 4 points -> [382, 3187, 3386, 6659]...\n",
      "Landmark 384: 4 points -> [384, 423, 3039, 9849]...\n",
      "Landmark 766: 5 points -> [385, 766, 1084, 6251, 7233]...\n",
      "Landmark 386: 5 points -> [386, 5888, 6021, 6205, 9765]...\n",
      "Landmark 387: 6 points -> [387, 511, 770, 1730, 3724, 3783]...\n",
      "Landmark 571: 16 points -> [388, 421, 452, 562, 571, 1567, 2719, 2880, 3519, 4200]...\n",
      "Landmark 1595: 9 points -> [389, 1561, 1595, 1637, 2649, 5895, 7277, 8319, 9296]...\n",
      "Landmark 5083: 13 points -> [390, 505, 983, 3941, 4065, 4520, 4681, 5083, 5622, 5880]...\n",
      "Landmark 9520: 6 points -> [391, 1862, 4637, 8126, 9520, 9853]...\n",
      "Landmark 7817: 8 points -> [393, 2226, 2326, 4435, 5368, 7817, 7897, 8146]...\n",
      "Landmark 7653: 3 points -> [394, 7653, 9644]...\n",
      "Landmark 395: 7 points -> [395, 1129, 2901, 3391, 6741, 8382, 8831]...\n",
      "Landmark 6802: 7 points -> [397, 914, 2613, 4892, 6802, 8338, 9737]...\n",
      "Landmark 560: 13 points -> [398, 560, 1489, 2261, 2266, 3679, 4184, 4552, 4946, 5028]...\n",
      "Landmark 9478: 4 points -> [399, 6594, 8160, 9478]...\n",
      "Landmark 4431: 7 points -> [400, 2911, 3864, 4401, 4431, 6428, 6435]...\n",
      "Landmark 1108: 5 points -> [401, 1108, 6373, 6457, 7196]...\n",
      "Landmark 5232: 10 points -> [402, 2668, 3651, 4331, 5232, 6363, 6677, 6891, 8940, 9814]...\n",
      "Landmark 3200: 7 points -> [403, 2173, 2417, 3200, 3854, 5679, 8180]...\n",
      "Landmark 5107: 10 points -> [404, 748, 5107, 5565, 6444, 6978, 8526, 9247, 9251, 9400]...\n",
      "Landmark 405: 7 points -> [405, 1939, 2476, 3998, 4036, 5824, 6378]...\n",
      "Landmark 9519: 5 points -> [407, 2108, 3706, 5269, 9519]...\n",
      "Landmark 6473: 7 points -> [408, 3771, 4753, 5138, 6473, 7379, 9719]...\n",
      "Landmark 1352: 9 points -> [411, 897, 1352, 1854, 4313, 4581, 6271, 6302, 8094]...\n",
      "Landmark 412: 3 points -> [412, 3164, 7658]...\n",
      "Landmark 7615: 6 points -> [413, 824, 2830, 4442, 7615, 8082]...\n",
      "Landmark 4585: 4 points -> [414, 4103, 4585, 4739]...\n",
      "Landmark 415: 9 points -> [415, 2081, 2404, 3201, 4546, 5549, 5609, 6248, 9030]...\n",
      "Landmark 416: 6 points -> [416, 5296, 8165, 8257, 9131, 9971]...\n",
      "Landmark 9757: 5 points -> [417, 1031, 1466, 6304, 9757]...\n",
      "Landmark 4875: 11 points -> [418, 2994, 3262, 3339, 3630, 4875, 7028, 7496, 7737, 7911]...\n",
      "Landmark 4690: 9 points -> [419, 2167, 3967, 4345, 4690, 7339, 7803, 9078, 9117]...\n",
      "Landmark 5624: 6 points -> [420, 2516, 5624, 7056, 8109, 9535]...\n",
      "Landmark 2685: 6 points -> [422, 2685, 2955, 4698, 6322, 8361]...\n",
      "Landmark 424: 3 points -> [424, 8493, 8951]...\n",
      "Landmark 8797: 7 points -> [425, 813, 1843, 2517, 5147, 8797, 9294]...\n",
      "Landmark 426: 4 points -> [426, 473, 2544, 8405]...\n",
      "Landmark 5335: 5 points -> [427, 2441, 2934, 5335, 5400]...\n",
      "Landmark 1923: 11 points -> [428, 1923, 2808, 3142, 4597, 5362, 6999, 7013, 7695, 9149]...\n",
      "Landmark 8192: 5 points -> [429, 4987, 6711, 8192, 8776]...\n",
      "Landmark 5649: 6 points -> [431, 4861, 5131, 5449, 5649, 8692]...\n",
      "Landmark 9223: 8 points -> [432, 553, 2762, 3404, 4276, 8014, 8292, 9223]...\n",
      "Landmark 4260: 3 points -> [434, 4260, 7543]...\n",
      "Landmark 625: 16 points -> [435, 625, 1280, 1312, 2211, 4252, 4488, 5225, 5802, 6215]...\n",
      "Landmark 7906: 12 points -> [436, 693, 1464, 1608, 2129, 4023, 4921, 7906, 9246, 9339]...\n",
      "Landmark 6542: 7 points -> [437, 5929, 6542, 7214, 7736, 8841, 9685]...\n",
      "Landmark 7088: 7 points -> [438, 1175, 2818, 2832, 7088, 9215, 9525]...\n",
      "Landmark 1864: 4 points -> [439, 1864, 3008, 8688]...\n",
      "Landmark 6461: 6 points -> [441, 827, 3759, 6461, 7120, 7702]...\n",
      "Landmark 6449: 6 points -> [442, 2662, 2667, 5355, 6449, 9408]...\n",
      "Landmark 4449: 8 points -> [443, 2872, 3950, 4449, 4578, 4978, 6092, 9789]...\n",
      "Landmark 444: 4 points -> [444, 2128, 3421, 8978]...\n",
      "Landmark 8318: 4 points -> [445, 3538, 5011, 8318]...\n",
      "Landmark 8325: 5 points -> [446, 4708, 8325, 9071, 9894]...\n",
      "Landmark 2877: 7 points -> [447, 2512, 2877, 7860, 7932, 7950, 9572]...\n",
      "Landmark 7375: 2 points -> [448, 7375]...\n",
      "Landmark 2914: 10 points -> [449, 2914, 3334, 4550, 6067, 6759, 7051, 7976, 8591, 9508]...\n",
      "Landmark 888: 3 points -> [451, 888, 9607]...\n",
      "Landmark 2048: 10 points -> [453, 471, 1654, 2048, 2554, 4693, 7386, 7815, 8525, 8786]...\n",
      "Landmark 454: 4 points -> [454, 1428, 6272, 9684]...\n",
      "Landmark 4710: 5 points -> [455, 2716, 3070, 4710, 8531]...\n",
      "Landmark 2989: 5 points -> [457, 698, 2989, 3321, 8081]...\n",
      "Landmark 3885: 10 points -> [458, 1666, 2611, 3629, 3885, 4269, 5343, 6606, 6721, 9747]...\n",
      "Landmark 3127: 21 points -> [459, 495, 791, 1150, 1354, 2703, 3127, 3208, 3734, 4271]...\n",
      "Landmark 986: 2 points -> [460, 986]...\n",
      "Landmark 461: 9 points -> [461, 778, 2422, 3184, 5405, 6291, 7034, 8727, 9587]...\n",
      "Landmark 7147: 11 points -> [463, 1071, 1361, 1969, 4149, 6417, 7058, 7147, 7292, 8778]...\n",
      "Landmark 5643: 12 points -> [465, 1077, 1388, 2678, 3026, 4477, 4639, 4644, 4957, 5287]...\n",
      "Landmark 689: 15 points -> [466, 689, 1157, 1788, 2754, 3536, 4283, 6129, 6240, 6570]...\n",
      "Landmark 467: 5 points -> [467, 1202, 5075, 5898, 7708]...\n",
      "Landmark 468: 6 points -> [468, 972, 1445, 3051, 3727, 9727]...\n",
      "Landmark 6275: 8 points -> [469, 1333, 1510, 1880, 5736, 6275, 7368, 8322]...\n",
      "Landmark 639: 14 points -> [470, 639, 1769, 1778, 2324, 4612, 4835, 4840, 5168, 5307]...\n",
      "Landmark 6828: 4 points -> [472, 2798, 6828, 8102]...\n",
      "Landmark 474: 4 points -> [474, 5861, 6928, 7783]...\n",
      "Landmark 9850: 5 points -> [475, 5057, 5586, 8381, 9850]...\n",
      "Landmark 8886: 9 points -> [476, 2088, 2541, 3874, 5332, 6566, 6713, 7647, 8886]...\n",
      "Landmark 4410: 6 points -> [477, 981, 3126, 4410, 4562, 6791]...\n",
      "Landmark 4096: 3 points -> [478, 3901, 4096]...\n",
      "Landmark 3396: 13 points -> [479, 2195, 3120, 3396, 5251, 5845, 6646, 7821, 7937, 8224]...\n",
      "Landmark 6563: 8 points -> [481, 789, 1624, 3195, 3808, 6563, 8574, 9859]...\n",
      "Landmark 7102: 4 points -> [482, 7102, 9334, 9744]...\n",
      "Landmark 1326: 6 points -> [483, 1326, 3598, 5862, 6066, 6894]...\n",
      "Landmark 763: 4 points -> [484, 763, 1800, 7186]...\n",
      "Landmark 8446: 2 points -> [485, 8446]...\n",
      "Landmark 7264: 6 points -> [486, 1702, 5248, 7264, 8473, 9097]...\n",
      "Landmark 5910: 3 points -> [488, 2763, 5910]...\n",
      "Landmark 489: 2 points -> [489, 3491]...\n",
      "Landmark 7892: 7 points -> [491, 3521, 3618, 7892, 8455, 9787, 9928]...\n",
      "Landmark 5943: 7 points -> [492, 1946, 3413, 5730, 5943, 5981, 8724]...\n",
      "Landmark 493: 3 points -> [493, 4370, 6764]...\n",
      "Landmark 4845: 5 points -> [494, 4845, 7619, 8460, 9665]...\n",
      "Landmark 496: 7 points -> [496, 2284, 3425, 4513, 5763, 6813, 7930]...\n",
      "Landmark 4325: 10 points -> [499, 856, 1166, 2291, 4325, 4489, 6851, 9467, 9620, 9689]...\n",
      "Landmark 2723: 12 points -> [500, 920, 1096, 2723, 3645, 3649, 5739, 5805, 5844, 6773]...\n",
      "Landmark 2267: 17 points -> [501, 1422, 2070, 2267, 2814, 4658, 5099, 5660, 6361, 6565]...\n",
      "Landmark 503: 2 points -> [503, 7498]...\n",
      "Landmark 3762: 5 points -> [504, 1262, 3762, 5781, 9653]...\n",
      "Landmark 2228: 3 points -> [507, 1022, 2228]...\n",
      "Landmark 508: 5 points -> [508, 6551, 6980, 7990, 9202]...\n",
      "Landmark 1698: 14 points -> [509, 528, 727, 1698, 3745, 4044, 4470, 5868, 6043, 6888]...\n",
      "Landmark 5784: 6 points -> [512, 4817, 5391, 5784, 6228, 7467]...\n",
      "Landmark 8800: 8 points -> [513, 1017, 2670, 2804, 6514, 8096, 8800, 8968]...\n",
      "Landmark 9982: 3 points -> [515, 5521, 9982]...\n",
      "Landmark 8939: 5 points -> [516, 1067, 4628, 8939, 9316]...\n",
      "Landmark 1206: 17 points -> [519, 1196, 1206, 1272, 1381, 1684, 2737, 4047, 5118, 7244]...\n",
      "Landmark 4156: 13 points -> [520, 1729, 1817, 3746, 4156, 4333, 4412, 5149, 6039, 6739]...\n",
      "Landmark 4358: 11 points -> [521, 1591, 2340, 4358, 6001, 6557, 7108, 7238, 7456, 7835]...\n",
      "Landmark 2401: 5 points -> [522, 638, 2401, 6221, 6768]...\n",
      "Landmark 3989: 4 points -> [523, 865, 3989, 9164]...\n",
      "Landmark 6800: 5 points -> [524, 4317, 4997, 6800, 8287]...\n",
      "Landmark 8454: 3 points -> [526, 6878, 8454]...\n",
      "Landmark 529: 7 points -> [529, 2110, 5292, 8535, 8706, 8843, 8902]...\n",
      "Landmark 7988: 6 points -> [530, 4227, 4869, 5206, 7744, 7988]...\n",
      "Landmark 532: 2 points -> [532, 2558]...\n",
      "Landmark 533: 3 points -> [533, 1694, 5276]...\n",
      "Landmark 3711: 33 points -> [534, 1436, 1991, 2060, 2396, 2607, 2927, 3088, 3692, 3711]...\n",
      "Landmark 536: 2 points -> [536, 4203]...\n",
      "Landmark 4372: 4 points -> [538, 1152, 3398, 4372]...\n",
      "Landmark 7297: 13 points -> [539, 2536, 3454, 4809, 5224, 5494, 6101, 6496, 7190, 7297]...\n",
      "Landmark 6158: 7 points -> [540, 5928, 6158, 6377, 7180, 8795, 9746]...\n",
      "Landmark 541: 5 points -> [541, 1314, 4033, 4945, 6554]...\n",
      "Landmark 8309: 14 points -> [543, 1122, 1487, 1575, 1915, 2749, 7504, 7530, 7852, 8245]...\n",
      "Landmark 544: 4 points -> [544, 2760, 4971, 8607]...\n",
      "Landmark 1015: 5 points -> [545, 1015, 6538, 8197, 8363]...\n",
      "Landmark 6613: 17 points -> [546, 869, 953, 1230, 1847, 3836, 3917, 4912, 4939, 5260]...\n",
      "Landmark 547: 4 points -> [547, 2457, 3662, 4572]...\n",
      "Landmark 548: 13 points -> [548, 2437, 3843, 3925, 5112, 6782, 7328, 7426, 7771, 8220]...\n",
      "Landmark 8134: 12 points -> [549, 858, 2252, 2807, 5008, 5182, 7026, 7419, 8134, 8745]...\n",
      "Landmark 3488: 22 points -> [550, 850, 1176, 1996, 2528, 2890, 3488, 4469, 4518, 4723]...\n",
      "Landmark 3492: 3 points -> [551, 3492, 4389]...\n",
      "Landmark 6268: 6 points -> [554, 2406, 5253, 5963, 6268, 8351]...\n",
      "Landmark 6072: 10 points -> [555, 1669, 2968, 4602, 5519, 5623, 6072, 6286, 7796, 9613]...\n",
      "Landmark 5056: 3 points -> [556, 3503, 5056]...\n",
      "Landmark 2302: 12 points -> [557, 1764, 2302, 2616, 4823, 4865, 4940, 5093, 6580, 7085]...\n",
      "Landmark 559: 3 points -> [559, 2209, 2312]...\n",
      "Landmark 8067: 5 points -> [561, 3690, 4039, 8067, 8569]...\n",
      "Landmark 4596: 5 points -> [563, 2158, 2969, 4596, 6944]...\n",
      "Landmark 7764: 10 points -> [564, 2513, 3131, 3480, 5012, 6814, 6926, 7606, 7764, 8276]...\n",
      "Landmark 4859: 13 points -> [565, 925, 1600, 2659, 3619, 4535, 4859, 6058, 6287, 6684]...\n",
      "Landmark 4458: 9 points -> [566, 1144, 2402, 2769, 4458, 6042, 7508, 8055, 9106]...\n",
      "Landmark 567: 5 points -> [567, 1001, 1785, 2876, 5570]...\n",
      "Landmark 9817: 9 points -> [568, 1279, 3842, 5382, 6239, 7570, 8364, 9511, 9817]...\n",
      "Landmark 9089: 7 points -> [569, 5778, 6310, 6463, 9089, 9938, 9973]...\n",
      "Landmark 570: 6 points -> [570, 3109, 7184, 7514, 7623, 8043]...\n",
      "Landmark 8259: 13 points -> [572, 1524, 2597, 4272, 4361, 4480, 5905, 6806, 8019, 8135]...\n",
      "Landmark 7131: 9 points -> [573, 1966, 2682, 6430, 7131, 7362, 9057, 9532, 9815]...\n",
      "Landmark 1254: 13 points -> [574, 1254, 1509, 1715, 1844, 3757, 5437, 8589, 8681, 8711]...\n",
      "Landmark 9741: 13 points -> [575, 1742, 2050, 2777, 2921, 3718, 4473, 5787, 6897, 8051]...\n",
      "Landmark 6620: 3 points -> [577, 933, 6620]...\n",
      "Landmark 5672: 13 points -> [578, 746, 949, 1965, 2357, 2600, 2788, 5672, 6571, 7528]...\n",
      "Landmark 5744: 5 points -> [579, 2645, 5352, 5744, 8491]...\n",
      "Landmark 580: 3 points -> [580, 2860, 9745]...\n",
      "Landmark 905: 7 points -> [582, 905, 3861, 4052, 4588, 5614, 7643]...\n",
      "Landmark 7157: 4 points -> [583, 5154, 7157, 8730]...\n",
      "Landmark 3756: 6 points -> [584, 2012, 3537, 3756, 4504, 5953]...\n",
      "Landmark 1803: 5 points -> [585, 1627, 1803, 3084, 7682]...\n",
      "Landmark 9032: 4 points -> [588, 1836, 5561, 9032]...\n",
      "Landmark 7175: 5 points -> [589, 867, 2844, 7175, 7323]...\n",
      "Landmark 619: 4 points -> [590, 619, 3974, 8261]...\n",
      "Landmark 7075: 15 points -> [591, 1697, 2908, 3128, 3431, 4233, 5106, 6351, 6599, 6968]...\n",
      "Landmark 4011: 7 points -> [592, 2883, 2909, 3069, 4011, 7715, 7882]...\n",
      "Landmark 4101: 4 points -> [593, 3172, 4101, 7446]...\n",
      "Landmark 6467: 15 points -> [594, 665, 1240, 2365, 3213, 3851, 4561, 5947, 6467, 7011]...\n",
      "Landmark 3426: 3 points -> [595, 3426, 9553]...\n",
      "Landmark 2581: 4 points -> [596, 2581, 3453, 6426]...\n",
      "Landmark 730: 6 points -> [597, 730, 5207, 5889, 8065, 8982]...\n",
      "Landmark 3456: 12 points -> [598, 630, 2504, 2732, 2850, 3456, 4217, 6132, 6226, 7503]...\n",
      "Landmark 2795: 14 points -> [599, 1668, 2795, 2811, 3443, 3582, 3862, 3899, 4164, 4497]...\n",
      "Landmark 600: 1 points -> [600]...\n",
      "Landmark 4669: 16 points -> [601, 1430, 2996, 3750, 4118, 4669, 5298, 5359, 5997, 6293]...\n",
      "Landmark 8648: 5 points -> [603, 5811, 8377, 8648, 9263]...\n",
      "Landmark 8979: 9 points -> [605, 674, 2253, 4329, 5709, 5800, 7246, 7894, 8979]...\n",
      "Landmark 606: 5 points -> [606, 5038, 8476, 9426, 9709]...\n",
      "Landmark 6567: 6 points -> [607, 1159, 4192, 6103, 6567, 9914]...\n",
      "Landmark 8781: 4 points -> [608, 1268, 5594, 8781]...\n",
      "Landmark 609: 3 points -> [609, 1947, 7801]...\n",
      "Landmark 9725: 5 points -> [611, 3900, 8646, 9460, 9725]...\n",
      "Landmark 3810: 4 points -> [612, 2625, 3810, 6369]...\n",
      "Landmark 616: 10 points -> [616, 1195, 1735, 3822, 4493, 5372, 5497, 5726, 9736, 9876]...\n",
      "Landmark 3190: 16 points -> [617, 1198, 2587, 2725, 3190, 3239, 3730, 3987, 4919, 5010]...\n",
      "Landmark 620: 9 points -> [620, 635, 1204, 2447, 3136, 4161, 6185, 8977, 9120]...\n",
      "Landmark 5379: 14 points -> [624, 934, 1640, 1737, 4285, 4685, 5379, 6321, 6455, 7320]...\n",
      "Landmark 1515: 4 points -> [626, 1515, 6398, 7953]...\n",
      "Landmark 627: 9 points -> [627, 695, 1058, 3937, 4236, 4542, 7883, 8554, 8697]...\n",
      "Landmark 6108: 6 points -> [629, 4394, 5025, 5604, 5652, 6108]...\n",
      "Landmark 7351: 6 points -> [631, 3377, 3955, 4600, 5598, 7351]...\n",
      "Landmark 4718: 7 points -> [632, 4718, 4926, 6117, 8177, 9895, 9953]...\n",
      "Landmark 5605: 4 points -> [633, 3357, 5605, 8993]...\n",
      "Landmark 634: 3 points -> [634, 775, 4812]...\n",
      "Landmark 7836: 9 points -> [636, 1218, 1475, 5356, 6840, 7836, 8072, 8158, 8661]...\n",
      "Landmark 4524: 3 points -> [637, 4524, 7172]...\n",
      "Landmark 1927: 3 points -> [640, 1927, 5294]...\n",
      "Landmark 7998: 7 points -> [641, 1399, 3397, 3911, 5516, 6163, 7998]...\n",
      "Landmark 643: 4 points -> [643, 5103, 7254, 8339]...\n",
      "Landmark 9482: 4 points -> [644, 8558, 9482, 9507]...\n",
      "Landmark 9437: 6 points -> [646, 1307, 2093, 5418, 9437, 9593]...\n",
      "Landmark 8314: 10 points -> [647, 1258, 2423, 2858, 4117, 5369, 6178, 7164, 7646, 8314]...\n",
      "Landmark 6050: 20 points -> [648, 1039, 1407, 1557, 2222, 3303, 3465, 3565, 3812, 6050]...\n",
      "Landmark 8592: 7 points -> [650, 2488, 2893, 4064, 6736, 7458, 8592]...\n",
      "Landmark 8384: 7 points -> [651, 767, 5429, 7949, 8148, 8384, 9555]...\n",
      "Landmark 652: 5 points -> [652, 2726, 4083, 5762, 8497]...\n",
      "Landmark 7043: 10 points -> [653, 1526, 1980, 2931, 3375, 4643, 5482, 7043, 8441, 9307]...\n",
      "Landmark 4830: 8 points -> [654, 2392, 3761, 3770, 4382, 4830, 5439, 9776]...\n",
      "Landmark 5724: 5 points -> [655, 5724, 6422, 8600, 9453]...\n",
      "Landmark 2886: 8 points -> [656, 2886, 4318, 6728, 8204, 8358, 8899, 9102]...\n",
      "Landmark 6292: 5 points -> [657, 2929, 6292, 8147, 8620]...\n",
      "Landmark 3267: 9 points -> [658, 975, 1756, 2005, 3267, 4254, 5209, 6610, 7091]...\n",
      "Landmark 6006: 7 points -> [659, 2418, 4154, 4962, 6006, 8524, 9216]...\n",
      "Landmark 660: 6 points -> [660, 955, 2910, 6935, 8564, 9716]...\n",
      "Landmark 4702: 6 points -> [661, 1695, 2376, 3578, 3915, 4702]...\n",
      "Landmark 1036: 8 points -> [663, 1036, 1680, 2950, 3529, 3913, 6456, 9488]...\n",
      "Landmark 9930: 11 points -> [664, 1278, 1605, 2036, 3314, 4838, 7544, 8083, 9154, 9455]...\n",
      "Landmark 6993: 3 points -> [666, 880, 6993]...\n",
      "Landmark 1705: 2 points -> [669, 1705]...\n",
      "Landmark 1934: 11 points -> [670, 1934, 3524, 5046, 5233, 5278, 7274, 8101, 8822, 9623]...\n",
      "Landmark 4053: 2 points -> [672, 4053]...\n",
      "Landmark 4743: 7 points -> [675, 1726, 2606, 3041, 4668, 4743, 9833]...\n",
      "Landmark 9209: 6 points -> [676, 2132, 6654, 7591, 7794, 9209]...\n",
      "Landmark 677: 5 points -> [677, 2098, 3071, 6561, 9955]...\n",
      "Landmark 678: 8 points -> [678, 5195, 5376, 5941, 6212, 6996, 7749, 9449]...\n",
      "Landmark 679: 2 points -> [679, 6820]...\n",
      "Landmark 8061: 8 points -> [681, 1115, 3791, 6037, 7650, 8061, 8380, 8707]...\n",
      "Landmark 8105: 11 points -> [682, 3197, 4171, 4424, 4662, 5295, 6000, 6330, 8105, 8809]...\n",
      "Landmark 6635: 5 points -> [683, 2187, 3358, 6635, 7689]...\n",
      "Landmark 1766: 8 points -> [684, 1094, 1439, 1766, 2753, 4638, 8985, 9462]...\n",
      "Landmark 4140: 4 points -> [685, 1479, 4140, 6609]...\n",
      "Landmark 6712: 3 points -> [687, 6623, 6712]...\n",
      "Landmark 5212: 13 points -> [688, 947, 1758, 3593, 4185, 4828, 5212, 5557, 6546, 9103]...\n",
      "Landmark 690: 4 points -> [690, 1045, 1505, 4135]...\n",
      "Landmark 691: 2 points -> [691, 6009]...\n",
      "Landmark 692: 3 points -> [692, 8260, 9463]...\n",
      "Landmark 694: 8 points -> [694, 2245, 2469, 6458, 7177, 8742, 9253, 9668]...\n",
      "Landmark 7444: 5 points -> [696, 1242, 1368, 2567, 7444]...\n",
      "Landmark 2555: 6 points -> [700, 1798, 2555, 3399, 3857, 5572]...\n",
      "Landmark 9183: 9 points -> [701, 1461, 3558, 4113, 4311, 4427, 6055, 9183, 9900]...\n",
      "Landmark 703: 3 points -> [703, 817, 9348]...\n",
      "Landmark 704: 6 points -> [704, 1235, 3487, 3575, 8084, 8875]...\n",
      "Landmark 705: 11 points -> [705, 2301, 2408, 2772, 3335, 4255, 5365, 7636, 8694, 9893]...\n",
      "Landmark 3778: 4 points -> [706, 2052, 3778, 8973]...\n",
      "Landmark 889: 3 points -> [707, 889, 3118]...\n",
      "Landmark 2179: 4 points -> [708, 2179, 4616, 9492]...\n",
      "Landmark 5601: 10 points -> [709, 1398, 3297, 4360, 4813, 4949, 5601, 6145, 7877, 8471]...\n",
      "Landmark 9229: 4 points -> [711, 1078, 4705, 9229]...\n",
      "Landmark 7722: 3 points -> [712, 7722, 8616]...\n",
      "Landmark 1000: 4 points -> [714, 715, 1000, 4943]...\n",
      "Landmark 1833: 9 points -> [716, 1473, 1833, 2514, 2696, 4709, 5243, 5573, 8874]...\n",
      "Landmark 2774: 3 points -> [718, 744, 2774]...\n",
      "Landmark 9454: 5 points -> [719, 2920, 6044, 9454, 9531]...\n",
      "Landmark 720: 1 points -> [720]...\n",
      "Landmark 9113: 4 points -> [722, 9113, 9394, 9908]...\n",
      "Landmark 5228: 2 points -> [725, 5228]...\n",
      "Landmark 726: 2 points -> [726, 8784]...\n",
      "Landmark 728: 7 points -> [728, 2269, 2273, 2690, 3471, 3740, 7057]...\n",
      "Landmark 729: 1 points -> [729]...\n",
      "Landmark 731: 4 points -> [731, 1760, 4057, 7096]...\n",
      "Landmark 2030: 5 points -> [733, 1616, 2030, 5995, 6235]...\n",
      "Landmark 3852: 5 points -> [734, 3852, 5765, 6883, 8690]...\n",
      "Landmark 9343: 4 points -> [735, 5627, 8242, 9343]...\n",
      "Landmark 1970: 5 points -> [736, 1970, 4782, 7349, 8301]...\n",
      "Landmark 829: 7 points -> [737, 829, 1987, 2944, 5120, 6540, 9044]...\n",
      "Landmark 740: 5 points -> [740, 3603, 4129, 7928, 8836]...\n",
      "Landmark 7979: 7 points -> [741, 2272, 2948, 3773, 5817, 7979, 8490]...\n",
      "Landmark 5710: 10 points -> [742, 2556, 2752, 3414, 4530, 5264, 5415, 5567, 5710, 7495]...\n",
      "Landmark 743: 3 points -> [743, 6113, 8674]...\n",
      "Landmark 6480: 5 points -> [745, 758, 1634, 2277, 6480]...\n",
      "Landmark 2599: 10 points -> [750, 2599, 2875, 2930, 2998, 4459, 5602, 6424, 6552, 6868]...\n",
      "Landmark 1770: 6 points -> [751, 1728, 1770, 4805, 6079, 9132]...\n",
      "Landmark 752: 9 points -> [752, 802, 2627, 4707, 7454, 7733, 8626, 8930, 9513]...\n",
      "Landmark 6483: 6 points -> [755, 6427, 6483, 6730, 7661, 7993]...\n",
      "Landmark 1380: 12 points -> [756, 1169, 1336, 1380, 2433, 2778, 2825, 3858, 6031, 6634]...\n",
      "Landmark 3837: 3 points -> [757, 3837, 6192]...\n",
      "Landmark 8576: 3 points -> [759, 6017, 8576]...\n",
      "Landmark 760: 2 points -> [760, 5665]...\n",
      "Landmark 5034: 7 points -> [761, 1913, 3252, 3581, 4824, 5034, 5259]...\n",
      "Landmark 6120: 3 points -> [764, 4815, 6120]...\n",
      "Landmark 769: 7 points -> [769, 1375, 3626, 5538, 7874, 8166, 8547]...\n",
      "Landmark 5478: 5 points -> [771, 2640, 4667, 4922, 5478]...\n",
      "Landmark 9255: 7 points -> [772, 4630, 4787, 4948, 7625, 7941, 9255]...\n",
      "Landmark 8686: 2 points -> [773, 8686]...\n",
      "Landmark 6867: 6 points -> [774, 1569, 5399, 6187, 6867, 7579]...\n",
      "Landmark 8527: 2 points -> [777, 8527]...\n",
      "Landmark 3341: 5 points -> [779, 3341, 4119, 5547, 6024]...\n",
      "Landmark 4062: 2 points -> [780, 4062]...\n",
      "Landmark 1277: 9 points -> [781, 1277, 2713, 2740, 4070, 4590, 5171, 5237, 7642]...\n",
      "Landmark 1140: 11 points -> [782, 922, 1140, 3523, 4173, 6884, 6916, 7133, 7513, 8005]...\n",
      "Landmark 6810: 6 points -> [783, 1676, 3014, 3926, 5507, 6810]...\n",
      "Landmark 3452: 11 points -> [785, 1534, 2515, 3163, 3452, 5424, 6550, 7430, 7482, 8092]...\n",
      "Landmark 9652: 4 points -> [786, 3532, 9652, 9670]...\n",
      "Landmark 2327: 7 points -> [787, 2327, 3608, 3939, 6447, 6822, 7551]...\n",
      "Landmark 8678: 4 points -> [788, 2534, 4422, 8678]...\n",
      "Landmark 4440: 3 points -> [790, 4440, 7278]...\n",
      "Landmark 792: 2 points -> [792, 9548]...\n",
      "Landmark 8407: 4 points -> [796, 4005, 4611, 8407]...\n",
      "Landmark 797: 3 points -> [797, 943, 4374]...\n",
      "Landmark 6790: 7 points -> [798, 2043, 2082, 6375, 6790, 8015, 9599]...\n",
      "Landmark 799: 7 points -> [799, 2548, 2739, 4080, 4312, 5506, 8581]...\n",
      "Landmark 8202: 9 points -> [803, 2342, 3600, 5922, 7369, 7593, 8086, 8202, 9933]...\n",
      "Landmark 8144: 5 points -> [805, 1119, 1607, 5675, 8144]...\n",
      "Landmark 806: 3 points -> [806, 4537, 7999]...\n",
      "Landmark 4822: 4 points -> [807, 4029, 4822, 6136]...\n",
      "Landmark 6032: 5 points -> [808, 1687, 1732, 6032, 9197]...\n",
      "Landmark 809: 2 points -> [809, 3613]...\n",
      "Landmark 4032: 4 points -> [811, 4032, 4492, 9283]...\n",
      "Landmark 8733: 22 points -> [812, 1443, 2577, 3206, 3260, 3726, 4368, 4553, 5872, 6256]...\n",
      "Landmark 1334: 3 points -> [815, 1334, 2505]...\n",
      "Landmark 2605: 4 points -> [816, 2605, 7716, 9227]...\n",
      "Landmark 819: 2 points -> [819, 8383]...\n",
      "Landmark 7398: 6 points -> [820, 2648, 2653, 3081, 4836, 7398]...\n",
      "Landmark 6676: 5 points -> [823, 3423, 5518, 6676, 8908]...\n",
      "Landmark 2103: 4 points -> [825, 2103, 5055, 5409]...\n",
      "Landmark 5464: 7 points -> [826, 1260, 1831, 3708, 5464, 8185, 9643]...\n",
      "Landmark 830: 8 points -> [830, 2711, 2792, 3550, 5333, 6083, 6875, 8415]...\n",
      "Landmark 8869: 14 points -> [831, 2551, 2869, 3489, 4783, 5758, 5780, 5801, 5942, 7342]...\n",
      "Landmark 4866: 10 points -> [833, 1851, 2331, 4826, 4866, 5184, 5375, 5977, 6666, 8617]...\n",
      "Landmark 6137: 5 points -> [835, 3847, 6137, 7899, 8342]...\n",
      "Landmark 6464: 9 points -> [836, 2698, 3363, 3674, 4450, 5109, 6464, 7397, 8566]...\n",
      "Landmark 8949: 4 points -> [839, 5262, 7253, 8949]...\n",
      "Landmark 8463: 2 points -> [840, 8463]...\n",
      "Landmark 1532: 13 points -> [842, 1532, 2053, 2525, 2757, 7160, 8077, 8396, 8487, 9081]...\n",
      "Landmark 1902: 10 points -> [843, 1678, 1902, 4527, 5723, 6222, 8013, 8579, 9646, 9764]...\n",
      "Landmark 8336: 5 points -> [845, 4241, 4332, 5205, 8336]...\n",
      "Landmark 6462: 3 points -> [847, 4322, 6462]...\n",
      "Landmark 7639: 4 points -> [851, 4232, 7234, 7639]...\n",
      "Landmark 8304: 3 points -> [852, 6954, 8304]...\n",
      "Landmark 6942: 8 points -> [853, 1020, 1269, 4132, 5072, 6942, 7879, 8288]...\n",
      "Landmark 5470: 8 points -> [854, 1136, 1587, 4086, 5470, 6269, 7766, 9919]...\n",
      "Landmark 2000: 7 points -> [855, 2000, 2293, 3535, 3666, 7170, 7484]...\n",
      "Landmark 857: 4 points -> [857, 4534, 6057, 7820]...\n",
      "Landmark 4244: 10 points -> [859, 2710, 3383, 3631, 4244, 6639, 8748, 9068, 9631, 9866]...\n",
      "Landmark 8739: 4 points -> [860, 7958, 8129, 8739]...\n",
      "Landmark 9865: 7 points -> [861, 876, 1823, 6308, 6650, 9324, 9865]...\n",
      "Landmark 862: 8 points -> [862, 1842, 3741, 5152, 6156, 7886, 8577, 8736]...\n",
      "Landmark 863: 2 points -> [863, 3820]...\n",
      "Landmark 8963: 3 points -> [864, 4133, 8963]...\n",
      "Landmark 2203: 7 points -> [870, 1029, 2203, 2395, 2940, 4686, 8184]...\n",
      "Landmark 6663: 4 points -> [871, 1643, 3970, 6663]...\n",
      "Landmark 8409: 4 points -> [872, 8409, 9575, 9585]...\n",
      "Landmark 4974: 3 points -> [873, 4682, 4974]...\n",
      "Landmark 8079: 8 points -> [874, 2199, 2903, 2984, 3867, 5048, 6611, 8079]...\n",
      "Landmark 8033: 6 points -> [875, 2430, 5349, 7076, 8033, 8110]...\n",
      "Landmark 9204: 3 points -> [877, 3064, 9204]...\n",
      "Landmark 9855: 6 points -> [878, 882, 4548, 9295, 9649, 9855]...\n",
      "Landmark 2590: 10 points -> [883, 2590, 3589, 5695, 6785, 7588, 8031, 8064, 8176, 9696]...\n",
      "Landmark 8256: 9 points -> [884, 980, 2459, 3412, 3592, 4043, 6420, 8256, 8889]...\n",
      "Landmark 5713: 5 points -> [885, 3169, 5713, 6893, 9856]...\n",
      "Landmark 9471: 10 points -> [887, 1882, 3000, 3061, 3123, 3483, 7385, 9471, 9647, 9813]...\n",
      "Landmark 3236: 7 points -> [890, 2848, 3236, 8699, 9148, 9300, 9967]...\n",
      "Landmark 891: 7 points -> [891, 1256, 1905, 2530, 2715, 5454, 6046]...\n",
      "Landmark 9940: 6 points -> [892, 1977, 4237, 5871, 8679, 9940]...\n",
      "Landmark 8585: 6 points -> [894, 1582, 1807, 2990, 8585, 9074]...\n",
      "Landmark 5039: 5 points -> [895, 5039, 6094, 7851, 8990]...\n",
      "Landmark 898: 3 points -> [898, 2538, 6440]...\n",
      "Landmark 5707: 8 points -> [899, 1519, 3949, 5707, 5754, 7255, 9338, 9985]...\n",
      "Landmark 900: 1 points -> [900]...\n",
      "Landmark 6372: 10 points -> [901, 1168, 1632, 3549, 3980, 5241, 5448, 6372, 8632, 9288]...\n",
      "Landmark 9759: 6 points -> [903, 969, 4880, 5946, 7055, 9759]...\n",
      "Landmark 2856: 6 points -> [907, 974, 2856, 2935, 3450, 6509]...\n",
      "Landmark 3352: 7 points -> [908, 3352, 5110, 5499, 7210, 9060, 9107]...\n",
      "Landmark 7826: 4 points -> [909, 4471, 4591, 7826]...\n",
      "Landmark 910: 6 points -> [910, 1315, 2897, 3943, 4131, 8230]...\n",
      "Landmark 2283: 9 points -> [911, 2283, 2308, 5931, 6777, 7306, 7819, 9135, 9225]...\n",
      "Landmark 5550: 7 points -> [912, 1126, 1201, 1298, 5076, 5550, 7245]...\n",
      "Landmark 913: 3 points -> [913, 3658, 5966]...\n",
      "Landmark 915: 3 points -> [915, 2156, 3928]...\n",
      "Landmark 8130: 5 points -> [916, 1547, 2240, 5361, 8130]...\n",
      "Landmark 7729: 7 points -> [918, 1929, 2219, 6231, 7729, 9336, 9545]...\n",
      "Landmark 2096: 7 points -> [919, 2096, 2821, 3293, 6347, 6821, 9799]...\n",
      "Landmark 7138: 9 points -> [921, 1516, 2928, 4888, 5027, 6452, 6874, 7138, 9034]...\n",
      "Landmark 5059: 15 points -> [924, 1935, 1954, 3117, 3310, 5059, 5406, 5853, 6023, 6357]...\n",
      "Landmark 3804: 3 points -> [927, 3804, 4397]...\n",
      "Landmark 8704: 7 points -> [928, 7649, 8313, 8704, 9088, 9234, 9378]...\n",
      "Landmark 929: 10 points -> [929, 1458, 3637, 4006, 5989, 5990, 6696, 8021, 8904, 9694]...\n",
      "Landmark 1135: 4 points -> [930, 1135, 1874, 8992]...\n",
      "Landmark 1250: 20 points -> [931, 1172, 1186, 1250, 1614, 2186, 2664, 4054, 4290, 4604]...\n",
      "Landmark 3415: 5 points -> [932, 3309, 3415, 5144, 5485]...\n",
      "Landmark 8945: 10 points -> [936, 2333, 4296, 4365, 4509, 5577, 7478, 7961, 8945, 9944]...\n",
      "Landmark 9058: 6 points -> [938, 3045, 4653, 7428, 9041, 9058]...\n",
      "Landmark 939: 6 points -> [939, 2499, 2508, 3840, 4503, 8953]...\n",
      "Landmark 6099: 5 points -> [940, 966, 1424, 6099, 8815]...\n",
      "Landmark 8847: 6 points -> [942, 1648, 2985, 6035, 7497, 8847]...\n",
      "Landmark 944: 4 points -> [944, 1418, 7947, 9528]...\n",
      "Landmark 945: 2 points -> [945, 2673]...\n",
      "Landmark 6947: 4 points -> [950, 3063, 3555, 6947]...\n",
      "Landmark 9581: 20 points -> [952, 1507, 2557, 3313, 4230, 4983, 5086, 5384, 5542, 5589]...\n",
      "Landmark 956: 4 points -> [956, 1576, 5304, 6121]...\n",
      "Landmark 3975: 6 points -> [958, 1322, 1593, 3975, 7405, 7485]...\n",
      "Landmark 7027: 6 points -> [960, 1508, 3410, 6402, 7027, 9597]...\n",
      "Landmark 7880: 3 points -> [961, 4136, 7880]...\n",
      "Landmark 8235: 7 points -> [964, 1345, 1989, 4348, 5930, 8235, 9965]...\n",
      "Landmark 965: 2 points -> [965, 8119]...\n",
      "Landmark 6506: 8 points -> [967, 3367, 3441, 4554, 5629, 6506, 7624, 8458]...\n",
      "Landmark 6026: 10 points -> [970, 2306, 5102, 5556, 5657, 6026, 6078, 6734, 7678, 9232]...\n",
      "Landmark 3193: 6 points -> [973, 3193, 3845, 7731, 8876, 9841]...\n",
      "Landmark 976: 3 points -> [976, 3978, 8190]...\n",
      "Landmark 1362: 4 points -> [977, 1362, 4362, 7645]...\n",
      "Landmark 6651: 3 points -> [978, 6651, 8264]...\n",
      "Landmark 2738: 8 points -> [979, 2332, 2738, 3673, 4515, 5618, 8069, 8852]...\n",
      "Landmark 1133: 8 points -> [982, 1133, 2826, 3670, 4138, 6481, 6640, 8906]...\n",
      "Landmark 2432: 4 points -> [985, 2387, 2432, 9472]...\n",
      "Landmark 9361: 8 points -> [987, 3527, 4209, 4403, 4673, 5117, 9361, 9681]...\n",
      "Landmark 9650: 12 points -> [988, 1434, 1845, 2144, 2146, 2542, 3882, 6866, 8011, 9650]...\n",
      "Landmark 6756: 2 points -> [989, 6756]...\n",
      "Landmark 3067: 11 points -> [990, 1288, 2123, 2236, 3067, 4304, 5445, 7727, 7769, 8556]...\n",
      "Landmark 7123: 13 points -> [991, 1030, 1043, 1346, 1971, 2149, 3744, 4716, 5140, 7123]...\n",
      "Landmark 9554: 2 points -> [992, 9554]...\n",
      "Landmark 4897: 4 points -> [994, 4897, 8091, 9244]...\n",
      "Landmark 995: 5 points -> [995, 1779, 3264, 6317, 8780]...\n",
      "Landmark 6080: 6 points -> [996, 3326, 3953, 4214, 5481, 6080]...\n",
      "Landmark 8684: 7 points -> [997, 3235, 3460, 5013, 5839, 5849, 8684]...\n",
      "Landmark 6421: 3 points -> [998, 6421, 9720]...\n",
      "Landmark 8329: 3 points -> [999, 4105, 8329]...\n",
      "Landmark 2974: 6 points -> [1002, 1928, 2077, 2974, 5261, 9493]...\n",
      "Landmark 3912: 3 points -> [1003, 3912, 4097]...\n",
      "Landmark 6303: 9 points -> [1005, 1236, 2519, 3099, 4114, 6303, 8155, 9430, 9837]...\n",
      "Landmark 1857: 9 points -> [1006, 1857, 2694, 2953, 3485, 5153, 5305, 5661, 5957]...\n",
      "Landmark 1009: 8 points -> [1009, 1979, 2475, 5192, 5458, 5597, 8726, 8914]...\n",
      "Landmark 1010: 1 points -> [1010]...\n",
      "Landmark 7614: 5 points -> [1011, 1815, 7614, 8285, 9451]...\n",
      "Landmark 2289: 7 points -> [1013, 1754, 2289, 2766, 4213, 5638, 8389]...\n",
      "Landmark 6382: 9 points -> [1014, 2260, 2443, 5338, 5509, 6382, 6525, 7732, 9770]...\n",
      "Landmark 6225: 11 points -> [1016, 1092, 2085, 3257, 4302, 5033, 5098, 5956, 6225, 6284]...\n",
      "Landmark 9576: 3 points -> [1018, 8928, 9576]...\n",
      "Landmark 9046: 6 points -> [1019, 1903, 1993, 2800, 8222, 9046]...\n",
      "Landmark 6301: 7 points -> [1021, 4297, 6301, 6726, 7265, 7395, 9367]...\n",
      "Landmark 8521: 5 points -> [1023, 1408, 1824, 2210, 8521]...\n",
      "Landmark 4726: 11 points -> [1024, 2490, 3161, 4038, 4726, 4749, 5759, 5827, 6536, 7374]...\n",
      "Landmark 1025: 3 points -> [1025, 4364, 8510]...\n",
      "Landmark 4274: 5 points -> [1026, 4274, 6093, 7461, 9713]...\n",
      "Landmark 1027: 4 points -> [1027, 3506, 3655, 6907]...\n",
      "Landmark 9663: 16 points -> [1032, 1051, 1127, 1261, 1663, 2121, 2353, 2407, 3158, 4451]...\n",
      "Landmark 5804: 5 points -> [1035, 2973, 5745, 5804, 8840]...\n",
      "Landmark 8008: 3 points -> [1037, 3499, 8008]...\n",
      "Landmark 2815: 5 points -> [1038, 2815, 3065, 8044, 9497]...\n",
      "Landmark 1040: 1 points -> [1040]...\n",
      "Landmark 1995: 4 points -> [1041, 1995, 2980, 6387]...\n",
      "Landmark 1042: 1 points -> [1042]...\n",
      "Landmark 2539: 2 points -> [1044, 2539]...\n",
      "Landmark 5175: 11 points -> [1046, 2566, 2819, 4714, 4725, 5175, 6273, 6621, 8818, 8966]...\n",
      "Landmark 3333: 5 points -> [1047, 3333, 3449, 5091, 9459]...\n",
      "Landmark 7479: 2 points -> [1048, 7479]...\n",
      "Landmark 4575: 4 points -> [1052, 1263, 1696, 4575]...\n",
      "Landmark 1364: 3 points -> [1053, 1364, 5496]...\n",
      "Landmark 1056: 4 points -> [1056, 1079, 2343, 6879]...\n",
      "Landmark 8216: 4 points -> [1060, 2218, 8216, 9004]...\n",
      "Landmark 9966: 4 points -> [1061, 3991, 8752, 9966]...\n",
      "Landmark 5257: 2 points -> [1062, 5257]...\n",
      "Landmark 1211: 3 points -> [1064, 1211, 4608]...\n",
      "Landmark 4041: 6 points -> [1065, 1259, 4041, 8806, 9302, 9515]...\n",
      "Landmark 7726: 8 points -> [1066, 1171, 1253, 3344, 7726, 8131, 9588, 9762]...\n",
      "Landmark 1068: 7 points -> [1068, 2124, 3020, 3478, 5317, 5776, 7151]...\n",
      "Landmark 8026: 2 points -> [1073, 8026]...\n",
      "Landmark 1704: 5 points -> [1074, 1704, 2691, 4819, 8892]...\n",
      "Landmark 1075: 2 points -> [1075, 5299]...\n",
      "Landmark 8321: 4 points -> [1076, 1353, 5619, 8321]...\n",
      "Landmark 5245: 4 points -> [1081, 2809, 4898, 5245]...\n",
      "Landmark 7842: 4 points -> [1086, 3390, 6344, 7842]...\n",
      "Landmark 4765: 9 points -> [1088, 1706, 2344, 4765, 7400, 8217, 8515, 9144, 9916]...\n",
      "Landmark 9198: 7 points -> [1093, 4245, 6688, 7012, 7725, 8093, 9198]...\n",
      "Landmark 1095: 4 points -> [1095, 5668, 5676, 9529]...\n",
      "Landmark 6048: 8 points -> [1097, 1221, 3343, 6048, 6678, 7317, 7856, 8595]...\n",
      "Landmark 4762: 5 points -> [1098, 3102, 3992, 4762, 9325]...\n",
      "Landmark 1099: 3 points -> [1099, 1711, 2397]...\n",
      "Landmark 4216: 10 points -> [1100, 1541, 3496, 3542, 3671, 4216, 6068, 7964, 8980, 9913]...\n",
      "Landmark 9056: 5 points -> [1102, 1622, 5792, 6254, 9056]...\n",
      "Landmark 3405: 6 points -> [1103, 2543, 2946, 3405, 5988, 9099]...\n",
      "Landmark 3029: 5 points -> [1104, 3029, 3466, 7631, 7931]...\n",
      "Landmark 6990: 9 points -> [1107, 2460, 2564, 3287, 3834, 4211, 4467, 6990, 8507]...\n",
      "Landmark 8393: 2 points -> [1109, 8393]...\n",
      "Landmark 9327: 4 points -> [1110, 5230, 8237, 9327]...\n",
      "Landmark 4507: 10 points -> [1111, 2298, 3139, 3859, 4063, 4507, 5864, 7126, 7295, 9605]...\n",
      "Landmark 3599: 5 points -> [1113, 3533, 3599, 4649, 6479]...\n",
      "Landmark 1290: 6 points -> [1116, 1290, 2568, 4834, 7174, 8723]...\n",
      "Landmark 9011: 6 points -> [1117, 4885, 5582, 6340, 6485, 9011]...\n",
      "Landmark 2532: 2 points -> [1118, 2532]...\n",
      "Landmark 7746: 15 points -> [1120, 1244, 1316, 3210, 3286, 4810, 5631, 5760, 7746, 7912]...\n",
      "Landmark 4982: 5 points -> [1121, 2259, 2976, 4982, 6886]...\n",
      "Landmark 7790: 11 points -> [1124, 2035, 2169, 2180, 3846, 4839, 5677, 7790, 8241, 9703]...\n",
      "Landmark 1125: 4 points -> [1125, 6329, 7212, 9662]...\n",
      "Landmark 9523: 4 points -> [1128, 1459, 9523, 9775]...\n",
      "Landmark 9389: 5 points -> [1131, 6360, 7956, 8659, 9389]...\n",
      "Landmark 8012: 10 points -> [1134, 4500, 5160, 7494, 7597, 8012, 8764, 9116, 9240, 9882]...\n",
      "Landmark 1139: 1 points -> [1139]...\n",
      "Landmark 6311: 3 points -> [1141, 3442, 6311]...\n",
      "Landmark 1142: 7 points -> [1142, 1181, 1449, 2133, 2371, 2837, 7128]...\n",
      "Landmark 5915: 2 points -> [1146, 5915]...\n",
      "Landmark 1148: 1 points -> [1148]...\n",
      "Landmark 1149: 7 points -> [1149, 1174, 1825, 2615, 3461, 3888, 5150]...\n",
      "Landmark 5226: 6 points -> [1151, 1199, 3327, 5226, 5950, 9834]...\n",
      "Landmark 5223: 3 points -> [1153, 2582, 5223]...\n",
      "Landmark 9832: 5 points -> [1158, 1853, 8040, 9586, 9832]...\n",
      "Landmark 9008: 5 points -> [1160, 3694, 8022, 9008, 9189]...\n",
      "Landmark 7431: 5 points -> [1162, 6015, 7431, 7509, 9899]...\n",
      "Landmark 3833: 3 points -> [1163, 3833, 9293]...\n",
      "Landmark 1796: 6 points -> [1164, 1796, 3737, 3795, 4324, 7613]...\n",
      "Landmark 2414: 7 points -> [1165, 2414, 5283, 6172, 6560, 7200, 7279]...\n",
      "Landmark 1167: 3 points -> [1167, 6695, 8174]...\n",
      "Landmark 1170: 5 points -> [1170, 2495, 4221, 6370, 9194]...\n",
      "Landmark 1173: 11 points -> [1173, 1403, 3556, 4443, 5009, 5520, 6622, 7538, 8344, 9290]...\n",
      "Landmark 5524: 6 points -> [1178, 2094, 2466, 5524, 6131, 7050]...\n",
      "Landmark 1317: 2 points -> [1179, 1317]...\n",
      "Landmark 8385: 5 points -> [1180, 7684, 8371, 8385, 9278]...\n",
      "Landmark 1451: 12 points -> [1182, 1251, 1451, 1960, 2112, 2339, 2835, 3224, 5030, 5826]...\n",
      "Landmark 6889: 4 points -> [1183, 2721, 6889, 8775]...\n",
      "Landmark 8995: 5 points -> [1184, 1300, 5022, 8995, 9143]...\n",
      "Landmark 2198: 9 points -> [1185, 1319, 2198, 2923, 4417, 5523, 7037, 8833, 8915]...\n",
      "Landmark 9013: 4 points -> [1189, 6264, 7841, 9013]...\n",
      "Landmark 1219: 4 points -> [1191, 1219, 3505, 8157]...\n",
      "Landmark 2970: 7 points -> [1192, 1744, 2970, 4981, 7753, 9341, 9350]...\n",
      "Landmark 6847: 8 points -> [1193, 2584, 3624, 5975, 6847, 7202, 7489, 8085]...\n",
      "Landmark 1875: 11 points -> [1194, 1875, 2016, 4026, 4034, 5351, 6466, 7001, 7437, 8826]...\n",
      "Landmark 5655: 7 points -> [1200, 2063, 2962, 5655, 6958, 7935, 9104]...\n",
      "Landmark 2189: 12 points -> [1207, 1791, 1888, 2041, 2189, 2285, 2638, 3464, 4533, 5058]...\n",
      "Landmark 1257: 6 points -> [1208, 1257, 5600, 7901, 9272, 9898]...\n",
      "Landmark 8367: 4 points -> [1210, 1571, 4049, 8367]...\n",
      "Landmark 8282: 9 points -> [1212, 6206, 7299, 7346, 7452, 8282, 8465, 8965, 9697]...\n",
      "Landmark 4366: 5 points -> [1213, 3251, 4366, 4721, 9326]...\n",
      "Landmark 1214: 4 points -> [1214, 4913, 5067, 7220]...\n",
      "Landmark 9524: 6 points -> [1216, 2068, 2775, 6572, 7266, 9524]...\n",
      "Landmark 7345: 12 points -> [1217, 1249, 1559, 2066, 2526, 3774, 7008, 7225, 7345, 8738]...\n",
      "Landmark 1220: 2 points -> [1220, 7219]...\n",
      "Landmark 2083: 4 points -> [1223, 2083, 4519, 7800]...\n",
      "Landmark 2889: 10 points -> [1224, 2889, 3705, 4158, 5302, 5532, 6157, 8662, 9158, 9466]...\n",
      "Landmark 3416: 5 points -> [1225, 1332, 2462, 3416, 6854]...\n",
      "Landmark 1226: 4 points -> [1226, 2248, 3457, 7542]...\n",
      "Landmark 3876: 5 points -> [1227, 1974, 3876, 4642, 9415]...\n",
      "Landmark 3580: 8 points -> [1228, 1746, 3580, 4651, 4655, 7201, 7814, 9999]...\n",
      "Landmark 5157: 5 points -> [1229, 3151, 5157, 5772, 9748]...\n",
      "Landmark 4526: 12 points -> [1231, 2623, 2829, 2918, 4526, 4607, 6590, 6930, 8163, 8573]...\n",
      "Landmark 1232: 1 points -> [1232]...\n",
      "Landmark 6752: 8 points -> [1233, 1357, 4742, 5887, 6752, 7432, 8871, 9434]...\n",
      "Landmark 9783: 4 points -> [1234, 2288, 8214, 9783]...\n",
      "Landmark 8824: 7 points -> [1237, 1310, 2270, 2451, 3275, 6345, 8824]...\n",
      "Landmark 2265: 6 points -> [1238, 1341, 1642, 2265, 4249, 5999]...\n",
      "Landmark 5863: 5 points -> [1245, 2416, 5863, 7555, 7917]...\n",
      "Landmark 1246: 2 points -> [1246, 4996]...\n",
      "Landmark 3097: 8 points -> [1252, 1604, 3097, 5111, 5312, 6681, 6754, 7793]...\n",
      "Landmark 7251: 4 points -> [1255, 7251, 8225, 8413]...\n",
      "Landmark 7966: 2 points -> [1265, 7966]...\n",
      "Landmark 1837: 7 points -> [1266, 1837, 3317, 5347, 7685, 8610, 9569]...\n",
      "Landmark 9925: 3 points -> [1270, 1286, 9925]...\n",
      "Landmark 1644: 6 points -> [1273, 1293, 1491, 1523, 1644, 7423]...\n",
      "Landmark 9311: 3 points -> [1274, 3543, 9311]...\n",
      "Landmark 6804: 3 points -> [1276, 6151, 6804]...\n",
      "Landmark 1281: 5 points -> [1281, 1485, 1528, 3408, 4090]...\n",
      "Landmark 3769: 2 points -> [1282, 3769]...\n",
      "Landmark 5901: 2 points -> [1284, 5901]...\n",
      "Landmark 4134: 7 points -> [1285, 1832, 2714, 4134, 4769, 6862, 7907]...\n",
      "Landmark 1287: 2 points -> [1287, 4320]...\n",
      "Landmark 1294: 1 points -> [1294]...\n",
      "Landmark 1768: 3 points -> [1295, 1768, 3376]...\n",
      "Landmark 2841: 4 points -> [1296, 2841, 3048, 7442]...\n",
      "Landmark 1297: 2 points -> [1297, 3362]...\n",
      "Landmark 1301: 3 points -> [1301, 7273, 7858]...\n",
      "Landmark 1411: 2 points -> [1302, 1411]...\n",
      "Landmark 8955: 2 points -> [1303, 8955]...\n",
      "Landmark 1304: 7 points -> [1304, 2330, 6082, 6161, 6220, 7690, 8701]...\n",
      "Landmark 3872: 12 points -> [1305, 1577, 1759, 2916, 3167, 3518, 3872, 4045, 5902, 8042]...\n",
      "Landmark 5835: 3 points -> [1306, 5835, 7584]...\n",
      "Landmark 2286: 4 points -> [1308, 2286, 4386, 6553]...\n",
      "Landmark 6393: 6 points -> [1309, 6393, 8702, 8907, 9021, 9314]...\n",
      "Landmark 1311: 3 points -> [1311, 1429, 6299]...\n",
      "Landmark 2421: 4 points -> [1318, 2421, 8827, 9858]...\n",
      "Landmark 5897: 2 points -> [1320, 5897]...\n",
      "Landmark 1321: 7 points -> [1321, 1828, 1914, 2988, 8161, 8853, 9846]...\n",
      "Landmark 1606: 7 points -> [1323, 1339, 1606, 3140, 4516, 4678, 6530]...\n",
      "Landmark 1324: 4 points -> [1324, 4056, 7101, 7281]...\n",
      "Landmark 8501: 8 points -> [1325, 3775, 6642, 6789, 7534, 7954, 8501, 9268]...\n",
      "Landmark 5045: 3 points -> [1328, 5026, 5045]...\n",
      "Landmark 3687: 9 points -> [1335, 1691, 2073, 3522, 3552, 3687, 6419, 8609, 9484]...\n",
      "Landmark 1337: 5 points -> [1337, 5095, 5273, 5430, 6210]...\n",
      "Landmark 1342: 3 points -> [1342, 2148, 5395]...\n",
      "Landmark 5052: 2 points -> [1343, 5052]...\n",
      "Landmark 2717: 3 points -> [1347, 2717, 3001]...\n",
      "Landmark 8789: 10 points -> [1348, 1652, 4187, 4846, 5892, 6250, 7324, 7850, 8789, 9261]...\n",
      "Landmark 6524: 5 points -> [1349, 1460, 4687, 6140, 6524]...\n",
      "Landmark 1350: 3 points -> [1350, 6194, 9604]...\n",
      "Landmark 1878: 11 points -> [1351, 1878, 2391, 3199, 4851, 7391, 7905, 7942, 8317, 9705]...\n",
      "Landmark 6592: 13 points -> [1355, 2069, 2574, 3606, 3856, 4858, 4862, 6116, 6592, 7227]...\n",
      "Landmark 3577: 7 points -> [1356, 2398, 2602, 3577, 4614, 6446, 8328]...\n",
      "Landmark 6873: 5 points -> [1360, 2197, 3638, 3799, 6873]...\n",
      "Landmark 5084: 5 points -> [1363, 5084, 5475, 5654, 7367]...\n",
      "Landmark 5846: 4 points -> [1365, 2628, 2764, 5846]...\n",
      "Landmark 1369: 2 points -> [1369, 5706]...\n",
      "Landmark 2481: 3 points -> [1371, 2481, 8408]...\n",
      "Landmark 1372: 3 points -> [1372, 1586, 5096]...\n",
      "Landmark 1373: 2 points -> [1373, 4536]...\n",
      "Landmark 4820: 5 points -> [1374, 4820, 4933, 6783, 8542]...\n",
      "Landmark 1376: 3 points -> [1376, 4387, 6995]...\n",
      "Landmark 2431: 14 points -> [1377, 1755, 2431, 2442, 4748, 5037, 5978, 6125, 6769, 8810]...\n",
      "Landmark 8964: 6 points -> [1378, 1609, 3365, 3787, 5235, 8964]...\n",
      "Landmark 2537: 5 points -> [1379, 2413, 2537, 7487, 7843]...\n",
      "Landmark 9248: 5 points -> [1382, 1814, 1967, 7900, 9248]...\n",
      "Landmark 4323: 10 points -> [1384, 3225, 3436, 4025, 4165, 4262, 4323, 4672, 7222, 8887]...\n",
      "Landmark 6411: 8 points -> [1385, 2202, 4087, 4204, 4847, 6411, 7887, 8984]...\n",
      "Landmark 1386: 1 points -> [1386]...\n",
      "Landmark 9429: 6 points -> [1387, 3996, 4452, 5834, 9429, 9863]...\n",
      "Landmark 1848: 6 points -> [1394, 1848, 3614, 4102, 5390, 8779]...\n",
      "Landmark 7934: 3 points -> [1395, 1801, 7934]...\n",
      "Landmark 1397: 3 points -> [1397, 1535, 8475]...\n",
      "Landmark 8811: 4 points -> [1401, 5186, 5985, 8811]...\n",
      "Landmark 1421: 6 points -> [1404, 1421, 5126, 5377, 5882, 5933]...\n",
      "Landmark 2864: 2 points -> [1405, 2864]...\n",
      "Landmark 8421: 3 points -> [1406, 5607, 8421]...\n",
      "Landmark 4950: 2 points -> [1410, 4950]...\n",
      "Landmark 8856: 10 points -> [1414, 1724, 1879, 3789, 5487, 6619, 7229, 8856, 9550, 9862]...\n",
      "Landmark 1415: 2 points -> [1415, 9960]...\n",
      "Landmark 2006: 5 points -> [1416, 2006, 2045, 2087, 5042]...\n",
      "Landmark 3748: 5 points -> [1417, 3748, 6745, 7044, 9540]...\n",
      "Landmark 9029: 6 points -> [1419, 3280, 6967, 7296, 9029, 9180]...\n",
      "Landmark 6142: 3 points -> [1423, 6142, 8114]...\n",
      "Landmark 1425: 2 points -> [1425, 5252]...\n",
      "Landmark 1426: 2 points -> [1426, 6065]...\n",
      "Landmark 4225: 5 points -> [1431, 3222, 4225, 6701, 8909]...\n",
      "Landmark 3621: 8 points -> [1433, 1522, 1973, 2596, 3571, 3621, 4713, 6180]...\n",
      "Landmark 1435: 2 points -> [1435, 9738]...\n",
      "Landmark 6468: 5 points -> [1438, 2878, 3732, 5838, 6468]...\n",
      "Landmark 8271: 7 points -> [1440, 1846, 1904, 4988, 5797, 8194, 8271]...\n",
      "Landmark 1444: 6 points -> [1444, 5728, 5842, 6049, 7600, 7711]...\n",
      "Landmark 1448: 3 points -> [1448, 1564, 8485]...\n",
      "Landmark 1450: 5 points -> [1450, 4860, 5595, 8057, 8895]...\n",
      "Landmark 8159: 8 points -> [1452, 3484, 3906, 4899, 7079, 7609, 8159, 9199]...\n",
      "Landmark 1453: 2 points -> [1453, 9477]...\n",
      "Landmark 1454: 2 points -> [1454, 3596]...\n",
      "Landmark 5043: 5 points -> [1455, 5043, 5174, 6040, 7792]...\n",
      "Landmark 7341: 5 points -> [1462, 2467, 2718, 3892, 7341]...\n",
      "Landmark 1465: 2 points -> [1465, 3042]...\n",
      "Landmark 8117: 3 points -> [1470, 6718, 8117]...\n",
      "Landmark 1471: 2 points -> [1471, 5903]...\n",
      "Landmark 2027: 4 points -> [1474, 2014, 2027, 5421]...\n",
      "Landmark 5533: 6 points -> [1476, 2139, 5533, 7464, 7469, 8801]...\n",
      "Landmark 9447: 2 points -> [1480, 9447]...\n",
      "Landmark 1481: 4 points -> [1481, 3233, 6096, 7247]...\n",
      "Landmark 1482: 3 points -> [1482, 3958, 9318]...\n",
      "Landmark 1483: 6 points -> [1483, 6919, 7651, 9504, 9544, 9645]...\n",
      "Landmark 1488: 7 points -> [1488, 1501, 2482, 2947, 4601, 5426, 8735]...\n",
      "Landmark 5986: 5 points -> [1490, 3758, 5986, 6104, 6431]...\n",
      "Landmark 4675: 10 points -> [1492, 2895, 2913, 2958, 4675, 4900, 6499, 7612, 9427, 9621]...\n",
      "Landmark 1494: 4 points -> [1494, 5777, 6591, 9629]...\n",
      "Landmark 7310: 4 points -> [1498, 3946, 7310, 8025]...\n",
      "Landmark 3298: 2 points -> [1500, 3298]...\n",
      "Landmark 4760: 4 points -> [1503, 4760, 7774, 9274]...\n",
      "Landmark 1504: 4 points -> [1504, 2956, 7599, 7898]...\n",
      "Landmark 5766: 5 points -> [1511, 3364, 4528, 4676, 5766]...\n",
      "Landmark 1512: 2 points -> [1512, 3350]...\n",
      "Landmark 5208: 4 points -> [1513, 2145, 2991, 5208]...\n",
      "Landmark 1849: 9 points -> [1521, 1525, 1849, 2999, 3551, 6490, 6691, 9193, 9413]...\n",
      "Landmark 1866: 4 points -> [1527, 1866, 4238, 4724]...\n",
      "Landmark 6091: 3 points -> [1530, 2881, 6091]...\n",
      "Landmark 1533: 3 points -> [1533, 5087, 9979]...\n",
      "Landmark 8802: 3 points -> [1536, 8802, 9723]...\n",
      "Landmark 1537: 8 points -> [1537, 1908, 2056, 2750, 4965, 6277, 9790, 9839]...\n",
      "Landmark 9537: 4 points -> [1538, 6155, 6413, 9537]...\n",
      "Landmark 2794: 7 points -> [1539, 2468, 2794, 4796, 7336, 7422, 8791]...\n",
      "Landmark 5216: 8 points -> [1542, 3272, 5216, 6399, 6512, 7585, 7622, 8268]...\n",
      "Landmark 1543: 5 points -> [1543, 5461, 5779, 8652, 9439]...\n",
      "Landmark 1703: 5 points -> [1545, 1703, 2157, 4715, 7767]...\n",
      "Landmark 4179: 5 points -> [1550, 4179, 5735, 7146, 8362]...\n",
      "Landmark 4634: 4 points -> [1551, 4634, 6030, 8816]...\n",
      "Landmark 1552: 1 points -> [1552]...\n",
      "Landmark 2412: 2 points -> [1553, 2412]...\n",
      "Landmark 5960: 14 points -> [1555, 1635, 3935, 4584, 4777, 5452, 5761, 5960, 7626, 7665]...\n",
      "Landmark 8392: 10 points -> [1556, 3567, 4340, 6453, 6472, 6887, 6911, 7829, 8392, 8404]...\n",
      "Landmark 9133: 6 points -> [1558, 1992, 2926, 3194, 5023, 9133]...\n",
      "Landmark 6649: 8 points -> [1565, 3307, 3712, 4048, 6649, 7148, 7153, 9558]...\n",
      "Landmark 5700: 4 points -> [1566, 4661, 5700, 8643]...\n",
      "Landmark 9715: 11 points -> [1568, 2106, 3616, 4428, 5466, 6624, 7073, 8029, 8401, 8628]...\n",
      "Landmark 6135: 4 points -> [1572, 6135, 8514, 9978]...\n",
      "Landmark 1573: 1 points -> [1573]...\n",
      "Landmark 5447: 9 points -> [1579, 4795, 5158, 5447, 6510, 7808, 8606, 8627, 9924]...\n",
      "Landmark 1580: 1 points -> [1580]...\n",
      "Landmark 1581: 4 points -> [1581, 3588, 7007, 8250]...\n",
      "Landmark 1583: 3 points -> [1583, 6492, 9915]...\n",
      "Landmark 1584: 1 points -> [1584]...\n",
      "Landmark 1865: 4 points -> [1588, 1865, 9315, 9380]...\n",
      "Landmark 1589: 6 points -> [1589, 1962, 2061, 3952, 4409, 5896]...\n",
      "Landmark 3273: 5 points -> [1594, 3273, 3579, 7316, 7410]...\n",
      "Landmark 8513: 4 points -> [1596, 5069, 8269, 8513]...\n",
      "Landmark 9410: 4 points -> [1597, 3058, 3428, 9410]...\n",
      "Landmark 8023: 6 points -> [1601, 4961, 5463, 6350, 8023, 8799]...\n",
      "Landmark 1612: 4 points -> [1612, 2838, 3308, 5373]...\n",
      "Landmark 2949: 7 points -> [1615, 2461, 2949, 4346, 5740, 8920, 9917]...\n",
      "Landmark 2708: 5 points -> [1617, 2585, 2708, 5696, 7451]...\n",
      "Landmark 4464: 3 points -> [1618, 4464, 7785]...\n",
      "Landmark 1619: 1 points -> [1619]...\n",
      "Landmark 4545: 7 points -> [1621, 3500, 4545, 5423, 8516, 8561, 8933]...\n",
      "Landmark 5169: 8 points -> [1623, 3055, 3513, 4855, 5169, 6349, 8006, 9304]...\n",
      "Landmark 8825: 8 points -> [1625, 1686, 6743, 7331, 8153, 8307, 8641, 8825]...\n",
      "Landmark 2336: 3 points -> [1626, 2336, 9724]...\n",
      "Landmark 4763: 5 points -> [1633, 3641, 3947, 4763, 6885]...\n",
      "Landmark 4801: 7 points -> [1636, 1876, 2942, 4801, 5410, 7985, 9861]...\n",
      "Landmark 3218: 2 points -> [1638, 3218]...\n",
      "Landmark 9997: 2 points -> [1639, 9997]...\n",
      "Landmark 6245: 5 points -> [1647, 6245, 7053, 7923, 9627]...\n",
      "Landmark 2915: 6 points -> [1649, 2915, 6629, 6673, 8782, 8936]...\n",
      "Landmark 1651: 1 points -> [1651]...\n",
      "Landmark 1655: 3 points -> [1655, 3715, 9168]...\n",
      "Landmark 9331: 3 points -> [1656, 7798, 9331]...\n",
      "Landmark 8976: 3 points -> [1657, 3932, 8976]...\n",
      "Landmark 5705: 10 points -> [1659, 1829, 2230, 3959, 5705, 6794, 7517, 7770, 9352, 9399]...\n",
      "Landmark 7357: 4 points -> [1662, 1689, 7357, 9375]...\n",
      "Landmark 1664: 6 points -> [1664, 2403, 3145, 4198, 5734, 8472]...\n",
      "Landmark 8124: 3 points -> [1665, 3166, 8124]...\n",
      "Landmark 8508: 6 points -> [1667, 7165, 8508, 8946, 9854, 9868]...\n",
      "Landmark 5998: 7 points -> [1672, 3285, 4779, 5199, 5998, 6921, 8997]...\n",
      "Landmark 6415: 3 points -> [1674, 4067, 6415]...\n",
      "Landmark 5366: 4 points -> [1675, 1771, 3291, 5366]...\n",
      "Landmark 2352: 5 points -> [1677, 2352, 4248, 4355, 5690]...\n",
      "Landmark 7779: 5 points -> [1679, 2836, 7779, 8272, 9208]...\n",
      "Landmark 7154: 4 points -> [1681, 4802, 7154, 9987]...\n",
      "Landmark 1682: 3 points -> [1682, 8284, 9386]...\n",
      "Landmark 9054: 14 points -> [1685, 2310, 2496, 2919, 3241, 4460, 4695, 6173, 6922, 6979]...\n",
      "Landmark 1688: 1 points -> [1688]...\n",
      "Landmark 6780: 7 points -> [1690, 3072, 4215, 5085, 6780, 8187, 8881]...\n",
      "Landmark 7677: 5 points -> [1700, 4958, 6735, 7677, 9228]...\n",
      "Landmark 1707: 4 points -> [1707, 4027, 4905, 7575]...\n",
      "Landmark 2193: 3 points -> [1708, 2193, 2379]...\n",
      "Landmark 8774: 12 points -> [1709, 1811, 2038, 3587, 5161, 5692, 7453, 7564, 7679, 8207]...\n",
      "Landmark 1712: 9 points -> [1712, 2065, 2993, 3546, 4654, 4657, 4966, 5019, 5469]...\n",
      "Landmark 5104: 4 points -> [1713, 5104, 5970, 8352]...\n",
      "Landmark 6836: 7 points -> [1714, 1753, 2933, 4289, 6836, 9359, 9678]...\n",
      "Landmark 9512: 3 points -> [1718, 4603, 9512]...\n",
      "Landmark 8440: 4 points -> [1721, 2618, 6985, 8440]...\n",
      "Landmark 8448: 5 points -> [1725, 6581, 7275, 7344, 8448]...\n",
      "Landmark 6950: 3 points -> [1727, 3469, 6950]...\n",
      "Landmark 2498: 5 points -> [1731, 2498, 3155, 3509, 7213]...\n",
      "Landmark 4979: 6 points -> [1733, 2074, 2322, 4623, 4979, 5032]...\n",
      "Landmark 4456: 4 points -> [1734, 2524, 4456, 5340]...\n",
      "Landmark 1736: 2 points -> [1736, 1834]...\n",
      "Landmark 3342: 12 points -> [1738, 2102, 2212, 3342, 3510, 3817, 4170, 5603, 6632, 8445]...\n",
      "Landmark 1745: 8 points -> [1745, 2593, 3032, 4916, 5166, 8751, 8900, 9385]...\n",
      "Landmark 1747: 2 points -> [1747, 5480]...\n",
      "Landmark 2262: 6 points -> [1748, 2262, 3110, 4418, 4475, 4849]...\n",
      "Landmark 7103: 5 points -> [1749, 1821, 6364, 7103, 8387]...\n",
      "Landmark 1751: 6 points -> [1751, 3697, 4624, 5414, 5854, 7256]...\n",
      "Landmark 4764: 4 points -> [1757, 4764, 7878, 8240]...\n",
      "Landmark 1762: 5 points -> [1762, 4326, 6914, 8489, 9425]...\n",
      "Landmark 9083: 4 points -> [1765, 7015, 7927, 9083]...\n",
      "Landmark 4310: 3 points -> [1773, 4310, 9618]...\n",
      "Landmark 6826: 6 points -> [1774, 4807, 6412, 6826, 9516, 9608]...\n",
      "Landmark 2075: 5 points -> [1775, 2075, 2874, 7412, 9468]...\n",
      "Landmark 3434: 7 points -> [1776, 2350, 2977, 3434, 3654, 9118, 9936]...\n",
      "Landmark 5967: 6 points -> [1777, 1893, 3369, 5313, 5436, 5967]...\n",
      "Landmark 7638: 5 points -> [1782, 1872, 5702, 7638, 8331]...\n",
      "Landmark 8201: 7 points -> [1783, 3832, 6775, 7466, 7743, 7910, 8201]...\n",
      "Landmark 8247: 6 points -> [1786, 3133, 3354, 4218, 8247, 8934]...\n",
      "Landmark 7628: 11 points -> [1787, 2024, 3881, 5737, 6504, 7171, 7628, 7666, 8572, 9061]...\n",
      "Landmark 9379: 3 points -> [1789, 6946, 9379]...\n",
      "Landmark 3290: 9 points -> [1793, 2345, 3290, 3870, 4691, 6969, 8090, 8139, 8670]...\n",
      "Landmark 1795: 3 points -> [1795, 6880, 8275]...\n",
      "Landmark 1797: 8 points -> [1797, 4146, 4967, 5189, 5416, 7095, 7476, 9680]...\n",
      "Landmark 9043: 2 points -> [1799, 9043]...\n",
      "Landmark 3909: 6 points -> [1802, 3162, 3909, 7061, 8578, 9952]...\n",
      "Landmark 2207: 3 points -> [1804, 2207, 9786]...\n",
      "Landmark 1805: 4 points -> [1805, 2614, 3902, 8063]...\n",
      "Landmark 1890: 2 points -> [1806, 1890]...\n",
      "Landmark 3907: 3 points -> [1808, 3907, 9891]...\n",
      "Landmark 2727: 4 points -> [1809, 2727, 5309, 6111]...\n",
      "Landmark 1813: 3 points -> [1813, 7724, 9722]...\n",
      "Landmark 1816: 4 points -> [1816, 3255, 4636, 5054]...\n",
      "Landmark 1818: 3 points -> [1818, 3657, 4496]...\n",
      "Landmark 2001: 3 points -> [1830, 2001, 4448]...\n",
      "Landmark 5691: 13 points -> [1835, 2062, 2281, 3160, 5250, 5691, 5874, 6776, 7033, 7087]...\n",
      "Landmark 3154: 2 points -> [1839, 3154]...\n",
      "Landmark 5177: 4 points -> [1840, 2227, 4059, 5177]...\n",
      "Landmark 1850: 5 points -> [1850, 3973, 6258, 6714, 8004]...\n",
      "Landmark 3246: 9 points -> [1852, 2192, 3246, 4457, 4772, 4775, 5301, 6089, 9642]...\n",
      "Landmark 9433: 2 points -> [1855, 9433]...\n",
      "Landmark 9241: 6 points -> [1858, 3860, 3924, 5688, 9010, 9241]...\n",
      "Landmark 1859: 2 points -> [1859, 9354]...\n",
      "Landmark 9269: 3 points -> [1860, 4722, 9269]...\n",
      "Landmark 1867: 1 points -> [1867]...\n",
      "Landmark 7321: 7 points -> [1868, 2705, 2733, 4275, 6315, 7321, 8365]...\n",
      "Landmark 1869: 6 points -> [1869, 5632, 6500, 6905, 8210, 9628]...\n",
      "Landmark 1870: 3 points -> [1870, 2239, 7223]...\n",
      "Landmark 8162: 4 points -> [1877, 3663, 4942, 8162]...\n",
      "Landmark 1881: 5 points -> [1881, 8327, 8439, 9301, 9505]...\n",
      "Landmark 2813: 12 points -> [1883, 1912, 2450, 2479, 2813, 3271, 3961, 6114, 7159, 7525]...\n",
      "Landmark 1885: 2 points -> [1885, 6912]...\n",
      "Landmark 4985: 9 points -> [1886, 2784, 4042, 4531, 4551, 4985, 5200, 9695, 9977]...\n",
      "Landmark 5180: 8 points -> [1887, 2351, 3703, 5066, 5180, 7807, 7970, 9950]...\n",
      "Landmark 3656: 3 points -> [1889, 3656, 5221]...\n",
      "Landmark 8614: 9 points -> [1891, 2383, 3096, 5239, 5327, 7490, 8484, 8614, 8885]...\n",
      "Landmark 8675: 3 points -> [1899, 8541, 8675]...\n",
      "Landmark 6008: 2 points -> [1906, 6008]...\n",
      "Landmark 3227: 2 points -> [1907, 3227]...\n",
      "Landmark 8424: 9 points -> [1910, 3642, 6660, 6674, 6976, 7023, 7041, 7167, 8424]...\n",
      "Landmark 3835: 4 points -> [1916, 3835, 4543, 9796]...\n",
      "Landmark 1917: 2 points -> [1917, 4201]...\n",
      "Landmark 2204: 6 points -> [1918, 2204, 4569, 6306, 6497, 9958]...\n",
      "Landmark 3564: 5 points -> [1919, 3015, 3564, 4353, 5673]...\n",
      "Landmark 6861: 5 points -> [1920, 4282, 4790, 6861, 8705]...\n",
      "Landmark 1921: 3 points -> [1921, 5851, 6406]...\n",
      "Landmark 7168: 4 points -> [1922, 7168, 7789, 8757]...\n",
      "Landmark 7742: 8 points -> [1925, 2675, 5513, 6147, 7506, 7742, 8388, 9423]...\n",
      "Landmark 5718: 4 points -> [1930, 3559, 5718, 8819]...\n",
      "Landmark 8860: 3 points -> [1932, 2250, 8860]...\n",
      "Landmark 3660: 2 points -> [1936, 3660]...\n",
      "Landmark 2323: 7 points -> [1940, 2323, 4968, 6876, 7413, 9267, 9755]...\n",
      "Landmark 1941: 6 points -> [1941, 4868, 5342, 6839, 7561, 9370]...\n",
      "Landmark 1942: 6 points -> [1942, 2868, 3916, 3957, 5566, 8167]...\n",
      "Landmark 5471: 3 points -> [1943, 5471, 5799]...\n",
      "Landmark 2254: 8 points -> [1945, 2154, 2254, 2586, 3954, 4747, 7063, 7637]...\n",
      "Landmark 1949: 12 points -> [1949, 1983, 2258, 2400, 3186, 4889, 4998, 6627, 8097, 8297]...\n",
      "Landmark 4517: 4 points -> [1950, 4517, 5162, 6725]...\n",
      "Landmark 1951: 5 points -> [1951, 2294, 2961, 7134, 7163]...\n",
      "Landmark 5031: 3 points -> [1955, 5031, 7963]...\n",
      "Landmark 6253: 5 points -> [1957, 4109, 4789, 5906, 6253]...\n",
      "Landmark 4627: 3 points -> [1958, 4627, 5865]...\n",
      "Landmark 6019: 8 points -> [1961, 5121, 5155, 5247, 6019, 6685, 6809, 8369]...\n",
      "Landmark 9280: 2 points -> [1963, 9280]...\n",
      "Landmark 4719: 4 points -> [1964, 4719, 8433, 8893]...\n",
      "Landmark 3179: 18 points -> [1968, 2854, 3175, 3179, 3721, 4455, 4843, 5190, 5698, 6442]...\n",
      "Landmark 8262: 3 points -> [1981, 4375, 8262]...\n",
      "Landmark 2280: 4 points -> [1982, 2280, 3948, 8266]...\n",
      "Landmark 1984: 3 points -> [1984, 3922, 8416]...\n",
      "Landmark 9156: 4 points -> [1985, 4147, 9156, 9988]...\n",
      "Landmark 1994: 1 points -> [1994]...\n",
      "Landmark 2465: 3 points -> [1999, 2465, 8206]...\n",
      "Landmark 3938: 2 points -> [2002, 3938]...\n",
      "Landmark 7105: 14 points -> [2003, 3501, 5642, 6975, 7105, 7329, 7393, 7595, 9236, 9323]...\n",
      "Landmark 3401: 2 points -> [2010, 3401]...\n",
      "Landmark 3366: 2 points -> [2011, 3366]...\n",
      "Landmark 2013: 1 points -> [2013]...\n",
      "Landmark 8618: 6 points -> [2018, 5511, 6144, 6384, 8618, 9674]...\n",
      "Landmark 2019: 2 points -> [2019, 3584]...\n",
      "Landmark 2834: 8 points -> [2020, 2165, 2834, 3889, 5825, 6122, 6604, 8113]...\n",
      "Landmark 7009: 11 points -> [2021, 2089, 2428, 2454, 3502, 3796, 4050, 4393, 5396, 7009]...\n",
      "Landmark 5803: 5 points -> [2022, 5242, 5731, 5789, 5803]...\n",
      "Landmark 9583: 9 points -> [2025, 3869, 5290, 5648, 5774, 6860, 7309, 7448, 9583]...\n",
      "Landmark 8703: 5 points -> [2028, 2356, 3470, 7529, 8703]...\n",
      "Landmark 2029: 2 points -> [2029, 3647]...\n",
      "Landmark 2031: 2 points -> [2031, 5814]...\n",
      "Landmark 2033: 2 points -> [2033, 9332]...\n",
      "Landmark 3348: 5 points -> [2039, 2598, 2957, 3348, 6631]...\n",
      "Landmark 3755: 7 points -> [2040, 3258, 3755, 4641, 5856, 7305, 8173]...\n",
      "Landmark 2049: 3 points -> [2049, 2636, 3183]...\n",
      "Landmark 2054: 4 points -> [2054, 5314, 5796, 7713]...\n",
      "Landmark 2427: 4 points -> [2059, 2427, 2692, 6526]...\n",
      "Landmark 4704: 4 points -> [2064, 3877, 4704, 8289]...\n",
      "Landmark 2067: 2 points -> [2067, 2076]...\n",
      "Landmark 4037: 4 points -> [2071, 4037, 5716, 8427]...\n",
      "Landmark 7124: 3 points -> [2072, 4598, 7124]...\n",
      "Landmark 2078: 4 points -> [2078, 8645, 8759, 9141]...\n",
      "Landmark 2127: 8 points -> [2079, 2127, 2183, 4343, 6290, 7557, 8512, 9122]...\n",
      "Landmark 4091: 2 points -> [2084, 4091]...\n",
      "Landmark 4349: 4 points -> [2086, 2765, 4349, 9732]...\n",
      "Landmark 4020: 3 points -> [2091, 2833, 4020]...\n",
      "Landmark 6325: 6 points -> [2092, 4735, 5380, 6204, 6325, 7038]...\n",
      "Landmark 2363: 7 points -> [2095, 2363, 2831, 3178, 3611, 7664, 9816]...\n",
      "Landmark 8200: 7 points -> [2097, 3075, 3138, 4115, 5934, 8121, 8200]...\n",
      "Landmark 6436: 8 points -> [2100, 4904, 5733, 6342, 6436, 8597, 9070, 9479]...\n",
      "Landmark 4580: 6 points -> [2107, 3289, 4580, 5105, 8567, 9961]...\n",
      "Landmark 3920: 10 points -> [2109, 2388, 2671, 3525, 3920, 6201, 7837, 8549, 8715, 8721]...\n",
      "Landmark 2113: 4 points -> [2113, 5319, 9438, 9728]...\n",
      "Landmark 4172: 5 points -> [2115, 4172, 4247, 8020, 9992]...\n",
      "Landmark 7565: 3 points -> [2116, 6047, 7565]...\n",
      "Landmark 8171: 4 points -> [2117, 6582, 8171, 8179]...\n",
      "Landmark 2118: 1 points -> [2118]...\n",
      "Landmark 2120: 2 points -> [2120, 4833]...\n",
      "Landmark 6153: 8 points -> [2122, 2580, 3013, 5116, 5867, 6124, 6153, 6471]...\n",
      "Landmark 8281: 6 points -> [2125, 3046, 4586, 4617, 5119, 8281]...\n",
      "Landmark 2126: 3 points -> [2126, 3661, 7728]...\n",
      "Landmark 5873: 2 points -> [2130, 5873]...\n",
      "Landmark 2316: 11 points -> [2131, 2241, 2316, 4671, 5339, 5378, 5634, 6016, 6184, 8563]...\n",
      "Landmark 2134: 2 points -> [2134, 2761]...\n",
      "Landmark 2135: 3 points -> [2135, 4555, 6348]...\n",
      "Landmark 2642: 9 points -> [2137, 2642, 3986, 5722, 5996, 7100, 7523, 8599, 9349]...\n",
      "Landmark 2699: 4 points -> [2138, 2699, 3894, 6956]...\n",
      "Landmark 3816: 4 points -> [2147, 3816, 5514, 7384]...\n",
      "Landmark 9626: 6 points -> [2152, 3430, 5555, 6626, 6940, 9626]...\n",
      "Landmark 2153: 1 points -> [2153]...\n",
      "Landmark 2885: 6 points -> [2159, 2174, 2885, 5992, 7288, 9137]...\n",
      "Landmark 2160: 3 points -> [2160, 3323, 8308]...\n",
      "Landmark 6123: 6 points -> [2161, 5353, 5883, 6123, 6587, 8873]...\n",
      "Landmark 3221: 6 points -> [2162, 2185, 3221, 4206, 9416, 9600]...\n",
      "Landmark 5694: 10 points -> [2166, 2472, 4609, 4776, 4929, 5133, 5694, 6564, 7904, 9001]...\n",
      "Landmark 3202: 6 points -> [2168, 2249, 3202, 6395, 7291, 7763]...\n",
      "Landmark 5843: 3 points -> [2171, 5843, 8837]...\n",
      "Landmark 6955: 3 points -> [2175, 6955, 8941]...\n",
      "Landmark 2176: 3 points -> [2176, 4371, 9047]...\n",
      "Landmark 2178: 2 points -> [2178, 5663]...\n",
      "Landmark 8695: 5 points -> [2181, 5793, 6320, 8695, 9062]...\n",
      "Landmark 6216: 4 points -> [2182, 4599, 6216, 7788]...\n",
      "Landmark 4689: 3 points -> [2184, 4689, 6593]...\n",
      "Landmark 7465: 7 points -> [2188, 2385, 3572, 4568, 7465, 8303, 9264]...\n",
      "Landmark 2906: 3 points -> [2190, 2906, 3141]...\n",
      "Landmark 8708: 4 points -> [2191, 6107, 6748, 8708]...\n",
      "Landmark 4980: 3 points -> [2196, 4756, 4980]...\n",
      "Landmark 2205: 1 points -> [2205]...\n",
      "Landmark 8215: 4 points -> [2208, 2470, 8215, 8768]...\n",
      "Landmark 4205: 3 points -> [2214, 4205, 7285]...\n",
      "Landmark 5231: 4 points -> [2215, 2523, 3320, 5231]...\n",
      "Landmark 2216: 2 points -> [2216, 9578]...\n",
      "Landmark 4294: 4 points -> [2217, 4294, 4951, 6070]...\n",
      "Landmark 2612: 8 points -> [2220, 2612, 2644, 5522, 5914, 7908, 8644, 9404]...\n",
      "Landmark 2221: 2 points -> [2221, 6655]...\n",
      "Landmark 7605: 4 points -> [2223, 2704, 5894, 7605]...\n",
      "Landmark 2225: 1 points -> [2225]...\n",
      "Landmark 3944: 8 points -> [2231, 3713, 3944, 4199, 4523, 8001, 8376, 9282]...\n",
      "Landmark 5078: 4 points -> [2232, 5078, 6162, 8137]...\n",
      "Landmark 2233: 5 points -> [2233, 3561, 5741, 6923, 9442]...\n",
      "Landmark 2235: 6 points -> [2235, 3747, 3923, 5288, 6020, 6965]...\n",
      "Landmark 4420: 7 points -> [2238, 2491, 4420, 5370, 6087, 7048, 7654]...\n",
      "Landmark 2242: 1 points -> [2242]...\n",
      "Landmark 3389: 11 points -> [2244, 2867, 3089, 3215, 3389, 4803, 5795, 6824, 9231, 9340]...\n",
      "Landmark 9219: 5 points -> [2246, 2879, 7673, 9219, 9530]...\n",
      "Landmark 6143: 3 points -> [2247, 2334, 6143]...\n",
      "Landmark 8910: 6 points -> [2251, 2629, 4923, 7510, 8910, 9292]...\n",
      "Landmark 7644: 2 points -> [2255, 7644]...\n",
      "Landmark 7875: 7 points -> [2256, 4098, 4405, 4512, 7381, 7571, 7875]...\n",
      "Landmark 9151: 7 points -> [2257, 2745, 4085, 4991, 6130, 9045, 9151]...\n",
      "Landmark 2263: 1 points -> [2263]...\n",
      "Landmark 2634: 4 points -> [2264, 2634, 5900, 6367]...\n",
      "Landmark 2271: 1 points -> [2271]...\n",
      "Landmark 8559: 4 points -> [2278, 3665, 8559, 9252]...\n",
      "Landmark 2279: 3 points -> [2279, 3078, 3100]...\n",
      "Landmark 3652: 4 points -> [2282, 3171, 3652, 8660]...\n",
      "Landmark 7068: 2 points -> [2287, 7068]...\n",
      "Landmark 5812: 5 points -> [2296, 2317, 5812, 7987, 9321]...\n",
      "Landmark 8685: 6 points -> [2299, 3539, 4321, 7952, 8685, 9328]...\n",
      "Landmark 2426: 2 points -> [2300, 2426]...\n",
      "Landmark 7986: 4 points -> [2304, 6641, 7986, 8337]...\n",
      "Landmark 2307: 4 points -> [2307, 4292, 5571, 6558]...\n",
      "Landmark 9377: 4 points -> [2309, 3639, 8504, 9377]...\n",
      "Landmark 8280: 5 points -> [2311, 5855, 7117, 7526, 8280]...\n",
      "Landmark 7705: 5 points -> [2313, 5840, 7705, 8998, 9182]...\n",
      "Landmark 2626: 3 points -> [2314, 2626, 5282]...\n",
      "Landmark 9972: 3 points -> [2315, 9181, 9972]...\n",
      "Landmark 2319: 3 points -> [2319, 3231, 3695]...\n",
      "Landmark 3253: 8 points -> [2320, 2657, 3253, 7090, 8340, 8528, 8994, 9793]...\n",
      "Landmark 9864: 6 points -> [2321, 4915, 6379, 9237, 9766, 9864]...\n",
      "Landmark 2329: 7 points -> [2329, 2445, 2666, 3077, 4407, 4821, 7849]...\n",
      "Landmark 7602: 3 points -> [2335, 7602, 7691]...\n",
      "Landmark 9382: 6 points -> [2338, 5727, 6831, 7182, 9221, 9382]...\n",
      "Landmark 7376: 4 points -> [2346, 4486, 5125, 7376]...\n",
      "Landmark 3675: 6 points -> [2347, 2354, 3675, 4111, 6110, 9551]...\n",
      "Landmark 4972: 6 points -> [2348, 3191, 4972, 5693, 7149, 7527]...\n",
      "Landmark 2355: 7 points -> [2355, 4354, 4771, 5089, 6053, 7396, 7747]...\n",
      "Landmark 2575: 4 points -> [2358, 2575, 4390, 7709]...\n",
      "Landmark 2746: 10 points -> [2359, 2746, 2781, 4081, 4281, 4288, 6450, 6973, 9610, 9768]...\n",
      "Landmark 7036: 7 points -> [2360, 4593, 4618, 6074, 7036, 7086, 9887]...\n",
      "Landmark 6984: 4 points -> [2361, 4768, 5590, 6984]...\n",
      "Landmark 7156: 6 points -> [2362, 3038, 3826, 4522, 7156, 9619]...\n",
      "Landmark 9020: 10 points -> [2369, 2793, 3232, 4558, 6063, 7046, 7641, 8066, 9020, 9942]...\n",
      "Landmark 4413: 5 points -> [2373, 4413, 7417, 7813, 8575]...\n",
      "Landmark 4243: 2 points -> [2374, 4243]...\n",
      "Landmark 3087: 2 points -> [2375, 3087]...\n",
      "Landmark 6704: 2 points -> [2377, 6704]...\n",
      "Landmark 7356: 6 points -> [2378, 2783, 7356, 7505, 9031, 9213]...\n",
      "Landmark 8478: 5 points -> [2380, 3106, 3268, 6957, 8478]...\n",
      "Landmark 5005: 3 points -> [2384, 4595, 5005]...\n",
      "Landmark 2389: 1 points -> [2389]...\n",
      "Landmark 7455: 5 points -> [2394, 2729, 3615, 6738, 7455]...\n",
      "Landmark 2411: 1 points -> [2411]...\n",
      "Landmark 9717: 5 points -> [2415, 3079, 4376, 9461, 9717]...\n",
      "Landmark 6528: 5 points -> [2420, 4099, 4750, 6528, 7040]...\n",
      "Landmark 2802: 9 points -> [2425, 2802, 3095, 3146, 3813, 5427, 6432, 6833, 7158]...\n",
      "Landmark 2429: 2 points -> [2429, 6025]...\n",
      "Landmark 2434: 5 points -> [2434, 4207, 4279, 8058, 9002]...\n",
      "Landmark 2724: 2 points -> [2444, 2724]...\n",
      "Landmark 4474: 2 points -> [2446, 4474]...\n",
      "Landmark 9612: 5 points -> [2453, 4395, 7216, 9015, 9612]...\n",
      "Landmark 4684: 10 points -> [2455, 2941, 3520, 3897, 4004, 4093, 4684, 5721, 7018, 7975]...\n",
      "Landmark 8655: 9 points -> [2458, 3681, 3936, 5441, 5443, 7024, 8655, 8677, 9840]...\n",
      "Landmark 2464: 2 points -> [2464, 6171]...\n",
      "Landmark 2471: 1 points -> [2471]...\n",
      "Landmark 5431: 4 points -> [2477, 2904, 5431, 9969]...\n",
      "Landmark 2480: 3 points -> [2480, 4521, 5035]...\n",
      "Landmark 7270: 5 points -> [2485, 4992, 7270, 7873, 8104]...\n",
      "Landmark 3025: 2 points -> [2492, 3025]...\n",
      "Landmark 8923: 5 points -> [2493, 6056, 6835, 8923, 9418]...\n",
      "Landmark 2503: 2 points -> [2503, 3605]...\n",
      "Landmark 4625: 2 points -> [2507, 4625]...\n",
      "Landmark 2509: 1 points -> [2509]...\n",
      "Landmark 6314: 4 points -> [2510, 6314, 7308, 7810]...\n",
      "Landmark 2531: 1 points -> [2531]...\n",
      "Landmark 3259: 2 points -> [2533, 3259]...\n",
      "Landmark 2922: 3 points -> [2535, 2922, 5554]...\n",
      "Landmark 2540: 1 points -> [2540]...\n",
      "Landmark 9161: 8 points -> [2546, 3150, 6118, 6966, 7241, 7660, 9161, 9797]...\n",
      "Landmark 8551: 5 points -> [2549, 3322, 5769, 8551, 9795]...\n",
      "Landmark 3563: 3 points -> [2552, 3563, 3574]...\n",
      "Landmark 2553: 2 points -> [2553, 4989]...\n",
      "Landmark 2560: 2 points -> [2560, 9835]...\n",
      "Landmark 4396: 4 points -> [2565, 3214, 3243, 4396]...\n",
      "Landmark 5092: 5 points -> [2569, 5092, 8550, 8987, 9257]...\n",
      "Landmark 2570: 8 points -> [2570, 2701, 2862, 3017, 3696, 4208, 4745, 5348]...\n",
      "Landmark 9256: 3 points -> [2572, 3824, 9256]...\n",
      "Landmark 2579: 2 points -> [2579, 7242]...\n",
      "Landmark 6707: 7 points -> [2583, 5148, 6707, 7394, 8232, 8437, 8534]...\n",
      "Landmark 2743: 2 points -> [2588, 2743]...\n",
      "Landmark 4757: 2 points -> [2589, 4757]...\n",
      "Landmark 9357: 3 points -> [2591, 8857, 9357]...\n",
      "Landmark 2592: 3 points -> [2592, 7965, 9067]...\n",
      "Landmark 5539: 6 points -> [2594, 4183, 4357, 4439, 5539, 6160]...\n",
      "Landmark 2601: 1 points -> [2601]...\n",
      "Landmark 8642: 5 points -> [2603, 8141, 8149, 8642, 9159]...\n",
      "Landmark 2604: 2 points -> [2604, 9445]...\n",
      "Landmark 2609: 2 points -> [2609, 7552]...\n",
      "Landmark 8754: 7 points -> [2621, 3871, 4167, 5592, 6832, 7447, 8754]...\n",
      "Landmark 4399: 2 points -> [2624, 4399]...\n",
      "Landmark 5289: 3 points -> [2630, 4891, 5289]...\n",
      "Landmark 5435: 7 points -> [2637, 3999, 4977, 5080, 5435, 6932, 9739]...\n",
      "Landmark 2641: 1 points -> [2641]...\n",
      "Landmark 3451: 6 points -> [2646, 3451, 5666, 7083, 9560, 9742]...\n",
      "Landmark 4936: 6 points -> [2647, 4508, 4770, 4844, 4936, 8996]...\n",
      "Landmark 2650: 2 points -> [2650, 6962]...\n",
      "Landmark 7577: 5 points -> [2651, 5167, 7116, 7577, 9277]...\n",
      "Landmark 2652: 2 points -> [2652, 9242]...\n",
      "Landmark 7371: 4 points -> [2654, 4744, 5502, 7371]...\n",
      "Landmark 6760: 2 points -> [2655, 6760]...\n",
      "Landmark 8823: 7 points -> [2656, 3244, 6276, 6971, 7686, 8823, 9867]...\n",
      "Landmark 5077: 3 points -> [2660, 5077, 9704]...\n",
      "Landmark 2782: 3 points -> [2669, 2782, 7399]...\n",
      "Landmark 2674: 7 points -> [2674, 3124, 4291, 6747, 6853, 8208, 8239]...\n",
      "Landmark 5653: 2 points -> [2677, 5653]...\n",
      "Landmark 2679: 3 points -> [2679, 4482, 4863]...\n",
      "Landmark 4210: 4 points -> [2681, 4210, 6252, 9630]...\n",
      "Landmark 9929: 2 points -> [2683, 9929]...\n",
      "Landmark 3997: 6 points -> [2686, 3997, 4797, 6658, 8765, 9069]...\n",
      "Landmark 7006: 8 points -> [2688, 3192, 4257, 5255, 6636, 7006, 8918, 9518]...\n",
      "Landmark 8138: 9 points -> [2689, 5541, 6925, 7411, 8138, 8654, 9080, 9592, 9931]...\n",
      "Landmark 6816: 6 points -> [2712, 3353, 3557, 5916, 6816, 8305]...\n",
      "Landmark 4265: 5 points -> [2720, 4265, 6319, 6334, 7532]...\n",
      "Landmark 7995: 5 points -> [2722, 4336, 4969, 7230, 7995]...\n",
      "Landmark 5044: 3 points -> [2728, 4733, 5044]...\n",
      "Landmark 5363: 9 points -> [2730, 2951, 3018, 3116, 3754, 4095, 4463, 4877, 5363]...\n",
      "Landmark 2731: 6 points -> [2731, 5483, 6309, 8056, 8477, 9860]...\n",
      "Landmark 2735: 2 points -> [2735, 3122]...\n",
      "Landmark 7137: 3 points -> [2736, 4960, 7137]...\n",
      "Landmark 2742: 2 points -> [2742, 3027]...\n",
      "Landmark 3884: 10 points -> [2744, 2939, 3628, 3884, 4079, 5201, 5434, 7500, 8532, 9632]...\n",
      "Landmark 2751: 2 points -> [2751, 7674]...\n",
      "Landmark 8538: 2 points -> [2755, 8538]...\n",
      "Landmark 6801: 7 points -> [2756, 3981, 6801, 6844, 7750, 8666, 9828]...\n",
      "Landmark 5790: 7 points -> [2759, 2871, 3798, 5321, 5708, 5790, 9179]...\n",
      "Landmark 6970: 5 points -> [2767, 3497, 6459, 6970, 7280]...\n",
      "Landmark 2770: 2 points -> [2770, 6936]...\n",
      "Landmark 2771: 3 points -> [2771, 3380, 3604]...\n",
      "Landmark 9946: 2 points -> [2779, 9946]...\n",
      "Landmark 6818: 4 points -> [2785, 6818, 7586, 9195]...\n",
      "Landmark 2786: 5 points -> [2786, 2891, 6391, 7471, 8236]...\n",
      "Landmark 2787: 1 points -> [2787]...\n",
      "Landmark 6327: 6 points -> [2789, 4126, 5090, 6327, 7173, 8432]...\n",
      "Landmark 7683: 4 points -> [2790, 4622, 6333, 7683]...\n",
      "Landmark 8373: 4 points -> [2797, 5015, 6669, 8373]...\n",
      "Landmark 2806: 2 points -> [2806, 5364]...\n",
      "Landmark 2810: 2 points -> [2810, 3960]...\n",
      "Landmark 7967: 2 points -> [2816, 7967]...\n",
      "Landmark 8865: 4 points -> [2817, 7388, 8865, 9989]...\n",
      "Landmark 9126: 2 points -> [2820, 9126]...\n",
      "Landmark 5936: 4 points -> [2827, 4416, 5936, 7902]...\n",
      "Landmark 3245: 3 points -> [2842, 3245, 5945]...\n",
      "Landmark 7537: 6 points -> [2843, 2888, 7537, 7546, 8009, 8299]...\n",
      "Landmark 8152: 5 points -> [2849, 5809, 7488, 7610, 8152]...\n",
      "Landmark 4421: 3 points -> [2859, 4421, 7052]...\n",
      "Landmark 2866: 4 points -> [2866, 5281, 5870, 8078]...\n",
      "Landmark 2870: 2 points -> [2870, 6852]...\n",
      "Landmark 8763: 2 points -> [2882, 8763]...\n",
      "Landmark 2884: 6 points -> [2884, 3090, 3890, 4040, 6059, 9568]...\n",
      "Landmark 8633: 11 points -> [2887, 3165, 4677, 6559, 7193, 8350, 8354, 8506, 8633, 8842]...\n",
      "Landmark 2892: 1 points -> [2892]...\n",
      "Landmark 8546: 2 points -> [2894, 8546]...\n",
      "Landmark 2902: 5 points -> [2896, 2902, 7535, 7853, 8046]...\n",
      "Landmark 4670: 2 points -> [2900, 4670]...\n",
      "Landmark 8310: 6 points -> [2905, 3223, 5987, 6061, 7017, 8310]...\n",
      "Landmark 6454: 4 points -> [2907, 6168, 6209, 6454]...\n",
      "Landmark 2917: 2 points -> [2917, 8252]...\n",
      "Landmark 3653: 3 points -> [2925, 3653, 8443]...\n",
      "Landmark 3819: 4 points -> [2932, 3819, 6617, 9052]...\n",
      "Landmark 9906: 2 points -> [2937, 9906]...\n",
      "Landmark 3731: 2 points -> [2938, 3731]...\n",
      "Landmark 4223: 17 points -> [2943, 2978, 3956, 4151, 4223, 4984, 5560, 5687, 6614, 7155]...\n",
      "Landmark 4587: 3 points -> [2954, 4587, 6630]...\n",
      "Landmark 8624: 10 points -> [2965, 3135, 3541, 3691, 3700, 4633, 7893, 8624, 9601, 9874]...\n",
      "Landmark 9200: 8 points -> [2966, 2986, 3157, 4540, 6352, 8315, 9048, 9200]...\n",
      "Landmark 6177: 3 points -> [2967, 6177, 6612]...\n",
      "Landmark 9005: 4 points -> [2971, 7272, 8016, 9005]...\n",
      "Landmark 6014: 6 points -> [2975, 4563, 6014, 7418, 7757, 8598]...\n",
      "Landmark 6997: 2 points -> [2979, 6997]...\n",
      "Landmark 9889: 3 points -> [2982, 5913, 9889]...\n",
      "Landmark 4445: 6 points -> [2983, 4445, 7784, 8017, 9344, 9536]...\n",
      "Landmark 2987: 2 points -> [2987, 4986]...\n",
      "Landmark 2992: 3 points -> [2992, 3918, 4075]...\n",
      "Landmark 3448: 6 points -> [2995, 3448, 3735, 4196, 9751, 9881]...\n",
      "Landmark 2997: 12 points -> [2997, 3059, 3234, 4433, 4759, 5311, 6519, 6520, 6846, 7438]...\n",
      "Landmark 3147: 2 points -> [3004, 3147]...\n",
      "Landmark 3848: 4 points -> [3010, 3848, 4564, 5984]...\n",
      "Landmark 3482: 5 points -> [3012, 3482, 3729, 7734, 7994]...\n",
      "Landmark 6175: 2 points -> [3019, 6175]...\n",
      "Landmark 8003: 9 points -> [3021, 3827, 3908, 4162, 5821, 5949, 5971, 8003, 9211]...\n",
      "Landmark 6732: 3 points -> [3022, 6732, 9173]...\n",
      "Landmark 3023: 3 points -> [3023, 4688, 7347]...\n",
      "Landmark 3024: 2 points -> [3024, 7929]...\n",
      "Landmark 3028: 2 points -> [3028, 8935]...\n",
      "Landmark 9297: 4 points -> [3031, 5277, 6095, 9297]...\n",
      "Landmark 3033: 2 points -> [3033, 6487]...\n",
      "Landmark 9312: 7 points -> [3034, 3226, 5238, 6071, 7486, 8360, 9312]...\n",
      "Landmark 4014: 2 points -> [3037, 4014]...\n",
      "Landmark 3278: 5 points -> [3043, 3278, 3951, 5890, 8145]...\n",
      "Landmark 3103: 4 points -> [3053, 3103, 8188, 9702]...\n",
      "Landmark 5630: 2 points -> [3054, 5630]...\n",
      "Landmark 3056: 3 points -> [3056, 7189, 7601]...\n",
      "Landmark 9238: 3 points -> [3057, 8718, 9238]...\n",
      "Landmark 3062: 2 points -> [3062, 4837]...\n",
      "Landmark 7978: 5 points -> [3066, 4240, 5159, 7589, 7978]...\n",
      "Landmark 3704: 11 points -> [3068, 3704, 4235, 4419, 4666, 4857, 5534, 5626, 6332, 6987]...\n",
      "Landmark 4731: 4 points -> [3076, 4731, 5254, 6233]...\n",
      "Landmark 4178: 3 points -> [3085, 4178, 5492]...\n",
      "Landmark 9009: 5 points -> [3092, 3337, 7799, 8199, 9009]...\n",
      "Landmark 4680: 4 points -> [3098, 3585, 4680, 9580]...\n",
      "Landmark 3101: 2 points -> [3101, 6895]...\n",
      "Landmark 4022: 2 points -> [3108, 4022]...\n",
      "Landmark 8729: 4 points -> [3112, 5753, 5951, 8729]...\n",
      "Landmark 6991: 5 points -> [3113, 4606, 4878, 5748, 6991]...\n",
      "Landmark 4818: 5 points -> [3114, 3573, 4818, 5535, 8462]...\n",
      "Landmark 8631: 4 points -> [3121, 4137, 5959, 8631]...\n",
      "Landmark 3125: 7 points -> [3125, 5633, 5689, 5850, 7706, 8749, 9150]...\n",
      "Landmark 9163: 5 points -> [3130, 6176, 6723, 9163, 9220]...\n",
      "Landmark 5944: 2 points -> [3132, 5944]...\n",
      "Landmark 9679: 10 points -> [3134, 4153, 5324, 5488, 5711, 7387, 7895, 8263, 9679, 9954]...\n",
      "Landmark 3143: 2 points -> [3143, 5137]...\n",
      "Landmark 7531: 5 points -> [3148, 4316, 6751, 7531, 8673]...\n",
      "Landmark 3355: 5 points -> [3152, 3355, 8794, 9579, 9603]...\n",
      "Landmark 9076: 2 points -> [3153, 9076]...\n",
      "Landmark 5783: 3 points -> [3168, 4378, 5783]...\n",
      "Landmark 5969: 5 points -> [3174, 3305, 3678, 5969, 8845]...\n",
      "Landmark 7224: 3 points -> [3180, 6297, 7224]...\n",
      "Landmark 4315: 7 points -> [3188, 3378, 4106, 4315, 6260, 7107, 7738]...\n",
      "Landmark 7672: 3 points -> [3203, 6392, 7672]...\n",
      "Landmark 3207: 2 points -> [3207, 7162]...\n",
      "Landmark 4144: 6 points -> [3211, 4144, 4219, 5293, 5982, 9873]...\n",
      "Landmark 9018: 9 points -> [3212, 4727, 5593, 6077, 6190, 8394, 9018, 9687, 9780]...\n",
      "Landmark 3743: 4 points -> [3219, 3743, 5063, 5065]...\n",
      "Landmark 4566: 6 points -> [3228, 3420, 4309, 4566, 4941, 5917]...\n",
      "Landmark 7203: 3 points -> [3230, 7203, 9262]...\n",
      "Landmark 3766: 4 points -> [3238, 3766, 3886, 6964]...\n",
      "Landmark 9731: 5 points -> [3240, 4268, 4645, 5088, 9731]...\n",
      "Landmark 8357: 2 points -> [3242, 8357]...\n",
      "Landmark 3883: 5 points -> [3249, 3883, 6849, 7002, 7948]...\n",
      "Landmark 3254: 2 points -> [3254, 6585]...\n",
      "Landmark 8156: 2 points -> [3256, 8156]...\n",
      "Landmark 3261: 3 points -> [3261, 5136, 5401]...\n",
      "Landmark 9897: 5 points -> [3263, 6690, 8227, 9897, 9948]...\n",
      "Landmark 3270: 2 points -> [3270, 3776]...\n",
      "Landmark 3276: 2 points -> [3276, 7933]...\n",
      "Landmark 3277: 2 points -> [3277, 3311]...\n",
      "Landmark 3281: 1 points -> [3281]...\n",
      "Landmark 4816: 4 points -> [3283, 4650, 4656, 4816]...\n",
      "Landmark 3288: 1 points -> [3288]...\n",
      "Landmark 3292: 1 points -> [3292]...\n",
      "Landmark 4369: 5 points -> [3300, 3995, 4369, 5016, 5130]...\n",
      "Landmark 4883: 3 points -> [3316, 4883, 6698]...\n",
      "Landmark 8226: 7 points -> [3318, 4539, 5510, 6405, 6778, 8226, 9476]...\n",
      "Landmark 5323: 5 points -> [3324, 5323, 7062, 7231, 7707]...\n",
      "Landmark 3325: 1 points -> [3325]...\n",
      "Landmark 7390: 3 points -> [3332, 7390, 9637]...\n",
      "Landmark 3336: 2 points -> [3336, 6199]...\n",
      "Landmark 3338: 2 points -> [3338, 5591]...\n",
      "Landmark 3349: 5 points -> [3349, 3528, 3866, 8500, 8741]...\n",
      "Landmark 3373: 2 points -> [3373, 8668]...\n",
      "Landmark 3374: 2 points -> [3374, 4341]...\n",
      "Landmark 3385: 3 points -> [3385, 7825, 8045]...\n",
      "Landmark 3387: 3 points -> [3387, 7319, 7370]...\n",
      "Landmark 3388: 1 points -> [3388]...\n",
      "Landmark 3395: 6 points -> [3395, 4629, 5388, 5389, 5398, 7926]...\n",
      "Landmark 3402: 4 points -> [3402, 5316, 6915, 9396]...\n",
      "Landmark 3406: 10 points -> [3406, 5451, 5564, 5584, 6242, 6433, 6746, 7326, 7919, 9591]...\n",
      "Landmark 3407: 1 points -> [3407]...\n",
      "Landmark 7592: 6 points -> [3411, 4338, 6680, 6799, 7592, 8450]...\n",
      "Landmark 8492: 3 points -> [3417, 5330, 8492]...\n",
      "Landmark 8638: 3 points -> [3418, 8638, 9014]...\n",
      "Landmark 3422: 3 points -> [3422, 6603, 6904]...\n",
      "Landmark 6005: 4 points -> [3427, 4012, 6005, 6692]...\n",
      "Landmark 8991: 2 points -> [3432, 8991]...\n",
      "Landmark 4350: 2 points -> [3437, 4350]...\n",
      "Landmark 3439: 3 points -> [3439, 3526, 8956]...\n",
      "Landmark 3440: 4 points -> [3440, 7343, 7812, 9937]...\n",
      "Landmark 7199: 3 points -> [3444, 7199, 7353]...\n",
      "Landmark 3455: 1 points -> [3455]...\n",
      "Landmark 6890: 6 points -> [3459, 3765, 4498, 6191, 6890, 6983]...\n",
      "Landmark 3463: 2 points -> [3463, 3545]...\n",
      "Landmark 7077: 3 points -> [3467, 7077, 9407]...\n",
      "Landmark 7662: 2 points -> [3468, 7662]...\n",
      "Landmark 9205: 3 points -> [3473, 4491, 9205]...\n",
      "Landmark 4177: 7 points -> [3474, 3717, 3828, 4177, 4314, 7499, 9994]...\n",
      "Landmark 3475: 1 points -> [3475]...\n",
      "Landmark 3476: 2 points -> [3476, 6262]...\n",
      "Landmark 6112: 7 points -> [3477, 4732, 6076, 6090, 6112, 8183, 8488]...\n",
      "Landmark 3479: 1 points -> [3479]...\n",
      "Landmark 3481: 2 points -> [3481, 6913]...\n",
      "Landmark 6682: 3 points -> [3490, 4734, 6682]...\n",
      "Landmark 4506: 4 points -> [3494, 4506, 6389, 8750]...\n",
      "Landmark 7580: 3 points -> [3495, 7580, 9388]...\n",
      "Landmark 9690: 3 points -> [3504, 6601, 9690]...\n",
      "Landmark 3507: 2 points -> [3507, 5029]...\n",
      "Landmark 3807: 3 points -> [3508, 3807, 7539]...\n",
      "Landmark 4110: 3 points -> [3511, 4110, 5699]...\n",
      "Landmark 4701: 4 points -> [3534, 4104, 4701, 6224]...\n",
      "Landmark 3540: 5 points -> [3540, 5271, 5621, 6263, 8182]...\n",
      "Landmark 6498: 3 points -> [3548, 6498, 7110]...\n",
      "Landmark 3553: 3 points -> [3553, 9819, 9829]...\n",
      "Landmark 6169: 3 points -> [3560, 6169, 9157]...\n",
      "Landmark 3568: 3 points -> [3568, 7072, 7267]...\n",
      "Landmark 3569: 1 points -> [3569]...\n",
      "Landmark 3570: 2 points -> [3570, 6787]...\n",
      "Landmark 6981: 5 points -> [3583, 3786, 3979, 6981, 7541]...\n",
      "Landmark 3590: 2 points -> [3590, 9012]...\n",
      "Landmark 5114: 6 points -> [3595, 4074, 4228, 5114, 5829, 7694]...\n",
      "Landmark 5669: 2 points -> [3597, 5669]...\n",
      "Landmark 3601: 3 points -> [3601, 8414, 9820]...\n",
      "Landmark 3602: 2 points -> [3602, 5940]...\n",
      "Landmark 9491: 3 points -> [3607, 4388, 9491]...\n",
      "Landmark 3830: 3 points -> [3610, 3830, 4181]...\n",
      "Landmark 5583: 3 points -> [3612, 5583, 6069]...\n",
      "Landmark 3620: 2 points -> [3620, 7833]...\n",
      "Landmark 3625: 2 points -> [3625, 9483]...\n",
      "Landmark 3636: 2 points -> [3636, 9911]...\n",
      "Landmark 7409: 2 points -> [3640, 7409]...\n",
      "Landmark 6126: 4 points -> [3644, 3767, 6126, 8862]...\n",
      "Landmark 3646: 2 points -> [3646, 4157]...\n",
      "Landmark 3969: 2 points -> [3664, 3969]...\n",
      "Landmark 3672: 7 points -> [3672, 3942, 4793, 5244, 5606, 6576, 8258]...\n",
      "Landmark 3677: 2 points -> [3677, 4559]...\n",
      "Landmark 7330: 5 points -> [3680, 6845, 7330, 8850, 9091]...\n",
      "Landmark 9306: 3 points -> [3683, 7559, 9306]...\n",
      "Landmark 3689: 2 points -> [3689, 9577]...\n",
      "Landmark 6249: 5 points -> [3698, 3811, 6249, 6366, 6625]...\n",
      "Landmark 7311: 3 points -> [3710, 7311, 9330]...\n",
      "Landmark 7221: 5 points -> [3716, 7221, 7257, 9517, 9980]...\n",
      "Landmark 6289: 5 points -> [3720, 4330, 5115, 6289, 9178]...\n",
      "Landmark 3722: 3 points -> [3722, 6697, 9174]...\n",
      "Landmark 6243: 6 points -> [3723, 6243, 7269, 7401, 7675, 9494]...\n",
      "Landmark 3725: 4 points -> [3725, 4931, 5528, 9635]...\n",
      "Landmark 3751: 3 points -> [3751, 4359, 6584]...\n",
      "Landmark 3764: 1 points -> [3764]...\n",
      "Landmark 3768: 2 points -> [3768, 5187]...\n",
      "Landmark 3777: 4 points -> [3777, 4873, 6294, 7657]...\n",
      "Landmark 6346: 4 points -> [3779, 6346, 8834, 9778]...\n",
      "Landmark 3780: 3 points -> [3780, 6753, 8150]...\n",
      "Landmark 3784: 6 points -> [3784, 4076, 4696, 5188, 6429, 7403]...\n",
      "Landmark 6396: 8 points -> [3793, 6119, 6396, 7217, 8115, 8316, 8761, 9108]...\n",
      "Landmark 3794: 2 points -> [3794, 9843]...\n",
      "Landmark 8571: 4 points -> [3800, 8571, 8725, 9134]...\n",
      "Landmark 6002: 5 points -> [3802, 6002, 7866, 8324, 8635]...\n",
      "Landmark 3803: 1 points -> [3803]...\n",
      "Landmark 3805: 3 points -> [3805, 4380, 9721]...\n",
      "Landmark 9371: 5 points -> [3806, 4541, 4952, 6084, 9371]...\n",
      "Landmark 3814: 1 points -> [3814]...\n",
      "Landmark 8518: 4 points -> [3818, 8249, 8518, 8962]...\n",
      "Landmark 3825: 8 points -> [3825, 4703, 5444, 6181, 6197, 6368, 6740, 6865]...\n",
      "Landmark 9129: 5 points -> [3829, 3982, 6408, 8878, 9129]...\n",
      "Landmark 3839: 2 points -> [3839, 4015]...\n",
      "Landmark 7211: 4 points -> [3841, 5071, 7211, 9639]...\n",
      "Landmark 5433: 3 points -> [3849, 4918, 5433]...\n",
      "Landmark 3865: 1 points -> [3865]...\n",
      "Landmark 4447: 3 points -> [3868, 4447, 8590]...\n",
      "Landmark 3873: 1 points -> [3873]...\n",
      "Landmark 4189: 4 points -> [3878, 4189, 8829, 9309]...\n",
      "Landmark 3880: 1 points -> [3880]...\n",
      "Landmark 8544: 4 points -> [3887, 8533, 8544, 9286]...\n",
      "Landmark 4910: 5 points -> [3893, 4910, 5386, 6062, 7236]...\n",
      "Landmark 3903: 1 points -> [3903]...\n",
      "Landmark 4832: 4 points -> [3905, 4018, 4832, 8762]...\n",
      "Landmark 7093: 3 points -> [3910, 4264, 7093]...\n",
      "Landmark 5848: 6 points -> [3921, 5108, 5848, 7318, 9265, 9594]...\n",
      "Landmark 3927: 2 points -> [3927, 5964]...\n",
      "Landmark 9210: 3 points -> [3929, 5446, 9210]...\n",
      "Landmark 9383: 5 points -> [3930, 6541, 7276, 7748, 9383]...\n",
      "Landmark 7268: 6 points -> [3933, 5049, 5968, 6343, 7104, 7268]...\n",
      "Landmark 4367: 2 points -> [3940, 4367]...\n",
      "Landmark 3945: 2 points -> [3945, 5197]...\n",
      "Landmark 8602: 3 points -> [3968, 5684, 8602]...\n",
      "Landmark 7520: 3 points -> [3972, 5575, 7520]...\n",
      "Landmark 7066: 2 points -> [3993, 7066]...\n",
      "Landmark 6892: 3 points -> [3994, 4700, 6892]...\n",
      "Landmark 4001: 4 points -> [4001, 8671, 9287, 9970]...\n",
      "Landmark 6018: 2 points -> [4002, 6018]...\n",
      "Landmark 5459: 3 points -> [4010, 5459, 9836]...\n",
      "Landmark 4127: 2 points -> [4021, 4127]...\n",
      "Landmark 5686: 5 points -> [4028, 5062, 5686, 5719, 5755]...\n",
      "Landmark 6850: 2 points -> [4035, 6850]...\n",
      "Landmark 9557: 4 points -> [4058, 4853, 6722, 9557]...\n",
      "Landmark 4060: 1 points -> [4060]...\n",
      "Landmark 4069: 2 points -> [4069, 8961]...\n",
      "Landmark 5616: 3 points -> [4073, 4963, 5616]...\n",
      "Landmark 4078: 3 points -> [4078, 8186, 9611]...\n",
      "Landmark 8089: 4 points -> [4082, 6579, 8089, 8120]...\n",
      "Landmark 9474: 3 points -> [4084, 4436, 9474]...\n",
      "Landmark 4510: 3 points -> [4089, 4510, 4570]...\n",
      "Landmark 4100: 4 points -> [4100, 5526, 5610, 9771]...\n",
      "Landmark 9072: 5 points -> [4108, 7630, 7989, 9072, 9781]...\n",
      "Landmark 7992: 5 points -> [4120, 4139, 5767, 6788, 7992]...\n",
      "Landmark 9871: 5 points -> [4121, 4335, 4804, 5218, 9871]...\n",
      "Landmark 4123: 2 points -> [4123, 7060]...\n",
      "Landmark 7991: 5 points -> [4124, 6598, 6953, 7991, 9356]...\n",
      "Landmark 4141: 5 points -> [4141, 4327, 5841, 6706, 8608]...\n",
      "Landmark 6229: 2 points -> [4142, 6229]...\n",
      "Landmark 8537: 5 points -> [4145, 4808, 7337, 7867, 8537]...\n",
      "Landmark 4174: 4 points -> [4174, 4483, 7574, 9123]...\n",
      "Landmark 4180: 3 points -> [4180, 4841, 8429]...\n",
      "Landmark 4829: 2 points -> [4182, 4829]...\n",
      "Landmark 9486: 5 points -> [4194, 5328, 5341, 9473, 9486]...\n",
      "Landmark 5018: 3 points -> [4195, 5018, 5823]...\n",
      "Landmark 9996: 4 points -> [4229, 6719, 8270, 9996]...\n",
      "Landmark 4250: 2 points -> [4250, 9094]...\n",
      "Landmark 4251: 3 points -> [4251, 5203, 8291]...\n",
      "Landmark 8419: 7 points -> [4253, 5001, 6247, 6796, 6986, 8419, 8459]...\n",
      "Landmark 4258: 1 points -> [4258]...\n",
      "Landmark 4259: 2 points -> [4259, 5636]...\n",
      "Landmark 4261: 1 points -> [4261]...\n",
      "Landmark 4270: 1 points -> [4270]...\n",
      "Landmark 4284: 3 points -> [4284, 5249, 8374]...\n",
      "Landmark 9617: 9 points -> [4295, 5749, 7325, 8211, 8212, 8438, 9224, 9617, 9880]...\n",
      "Landmark 4402: 5 points -> [4337, 4402, 5548, 6230, 7475]...\n",
      "Landmark 8007: 3 points -> [4347, 4423, 8007]...\n",
      "Landmark 4356: 1 points -> [4356]...\n",
      "Landmark 9949: 3 points -> [4363, 9584, 9949]...\n",
      "Landmark 7019: 4 points -> [4377, 7019, 8047, 8499]...\n",
      "Landmark 4391: 1 points -> [4391]...\n",
      "Landmark 8196: 3 points -> [4398, 5036, 8196]...\n",
      "Landmark 8630: 4 points -> [4404, 6434, 8562, 8630]...\n",
      "Landmark 4425: 3 points -> [4425, 5073, 8897]...\n",
      "Landmark 4429: 1 points -> [4429]...\n",
      "Landmark 4444: 1 points -> [4444]...\n",
      "Landmark 7144: 8 points -> [4446, 5308, 7021, 7029, 7144, 7884, 8428, 8583]...\n",
      "Landmark 4462: 1 points -> [4462]...\n",
      "Landmark 4472: 5 points -> [4472, 4484, 5830, 7150, 8683]...\n",
      "Landmark 4502: 2 points -> [4502, 5979]...\n",
      "Landmark 6727: 4 points -> [4505, 5265, 6727, 7511]...\n",
      "Landmark 8872: 3 points -> [4511, 5236, 8872]...\n",
      "Landmark 4529: 2 points -> [4529, 7197]...\n",
      "Landmark 9464: 3 points -> [4538, 4908, 9464]...\n",
      "Landmark 6608: 2 points -> [4549, 6608]...\n",
      "Landmark 5508: 3 points -> [4573, 5508, 9730]...\n",
      "Landmark 4582: 4 points -> [4582, 7333, 8636, 9875]...\n",
      "Landmark 4589: 2 points -> [4589, 9779]...\n",
      "Landmark 4592: 1 points -> [4592]...\n",
      "Landmark 4619: 7 points -> [4619, 5051, 5127, 5646, 6011, 6628, 8807]...\n",
      "Landmark 7106: 3 points -> [4620, 7106, 8108]...\n",
      "Landmark 5680: 5 points -> [4621, 4806, 5082, 5680, 8098]...\n",
      "Landmark 4646: 1 points -> [4646]...\n",
      "Landmark 4647: 2 points -> [4647, 9501]...\n",
      "Landmark 7735: 4 points -> [4665, 7735, 9368, 9640]...\n",
      "Landmark 8030: 3 points -> [4674, 6380, 8030]...\n",
      "Landmark 4679: 2 points -> [4679, 6503]...\n",
      "Landmark 9658: 2 points -> [4683, 9658]...\n",
      "Landmark 8320: 6 points -> [4694, 5788, 7573, 8320, 8557, 8974]...\n",
      "Landmark 9393: 2 points -> [4697, 9393]...\n",
      "Landmark 8728: 4 points -> [4699, 8728, 9085, 9249]...\n",
      "Landmark 4706: 3 points -> [4706, 6404, 9136]...\n",
      "Landmark 5268: 4 points -> [4711, 5268, 6575, 9598]...\n",
      "Landmark 4720: 1 points -> [4720]...\n",
      "Landmark 9903: 5 points -> [4740, 5685, 6316, 7359, 9903]...\n",
      "Landmark 5440: 2 points -> [4751, 5440]...\n",
      "Landmark 6772: 3 points -> [4761, 6574, 6772]...\n",
      "Landmark 4766: 3 points -> [4766, 5798, 7896]...\n",
      "Landmark 7111: 3 points -> [4767, 7111, 8238]...\n",
      "Landmark 4774: 2 points -> [4774, 6855]...\n",
      "Landmark 8658: 6 points -> [4785, 4944, 5193, 5860, 6934, 8658]...\n",
      "Landmark 7550: 5 points -> [4792, 6189, 7550, 7583, 8050]...\n",
      "Landmark 4800: 3 points -> [4800, 5050, 7832]...\n",
      "Landmark 4811: 1 points -> [4811]...\n",
      "Landmark 4825: 1 points -> [4825]...\n",
      "Landmark 4842: 3 points -> [4842, 4911, 6141]...\n",
      "Landmark 4850: 3 points -> [4850, 5858, 8773]...\n",
      "Landmark 7809: 2 points -> [4870, 7809]...\n",
      "Landmark 4871: 4 points -> [4871, 5635, 9040, 9259]...\n",
      "Landmark 4872: 3 points -> [4872, 5954, 9609]...\n",
      "Landmark 5512: 3 points -> [4876, 5512, 6595]...\n",
      "Landmark 6857: 4 points -> [4879, 5615, 6857, 6977]...\n",
      "Landmark 4881: 3 points -> [4881, 8103, 9968]...\n",
      "Landmark 4890: 2 points -> [4890, 7089]...\n",
      "Landmark 4993: 3 points -> [4896, 4993, 7327]...\n",
      "Landmark 8921: 4 points -> [4917, 6013, 8921, 9411]...\n",
      "Landmark 6482: 2 points -> [4920, 6482]...\n",
      "Landmark 4924: 2 points -> [4924, 6029]...\n",
      "Landmark 8123: 5 points -> [4925, 7136, 7568, 8123, 9654]...\n",
      "Landmark 4935: 2 points -> [4935, 5920]...\n",
      "Landmark 4937: 3 points -> [4937, 5476, 6022]...\n",
      "Landmark 5070: 2 points -> [4953, 5070]...\n",
      "Landmark 6300: 3 points -> [4955, 6300, 8770]...\n",
      "Landmark 5222: 2 points -> [4956, 5222]...\n",
      "Landmark 7472: 2 points -> [4970, 7472]...\n",
      "Landmark 4999: 1 points -> [4999]...\n",
      "Landmark 5163: 3 points -> [5006, 5163, 9890]...\n",
      "Landmark 5007: 1 points -> [5007]...\n",
      "Landmark 6829: 5 points -> [5020, 6829, 7960, 8967, 9844]...\n",
      "Landmark 5517: 5 points -> [5021, 5505, 5517, 5893, 7719]...\n",
      "Landmark 5068: 3 points -> [5068, 5286, 6036]...\n",
      "Landmark 5420: 3 points -> [5081, 5420, 6505]...\n",
      "Landmark 6257: 2 points -> [5100, 6257]...\n",
      "Landmark 5101: 9 points -> [5101, 5404, 6139, 7312, 7751, 7765, 8335, 8522, 9490]...\n",
      "Landmark 5912: 5 points -> [5124, 5912, 6414, 8002, 8254]...\n",
      "Landmark 5139: 7 points -> [5139, 5822, 7549, 7721, 9119, 9417, 9811]...\n",
      "Landmark 7031: 7 points -> [5143, 5191, 5263, 5993, 6438, 7031, 7805]...\n",
      "Landmark 8323: 2 points -> [5151, 8323]...\n",
      "Landmark 5164: 3 points -> [5164, 5234, 9677]...\n",
      "Landmark 8523: 4 points -> [5172, 6882, 7916, 8523]...\n",
      "Landmark 5204: 1 points -> [5204]...\n",
      "Landmark 5217: 3 points -> [5217, 5782, 6495]...\n",
      "Landmark 5220: 3 points -> [5220, 7248, 9333]...\n",
      "Landmark 5246: 2 points -> [5246, 9957]...\n",
      "Landmark 6939: 4 points -> [5256, 5551, 6939, 8959]...\n",
      "Landmark 5267: 2 points -> [5267, 6823]...\n",
      "Landmark 5334: 2 points -> [5275, 5334]...\n",
      "Landmark 6653: 2 points -> [5285, 6653]...\n",
      "Landmark 7481: 3 points -> [5297, 7481, 9870]...\n",
      "Landmark 5303: 2 points -> [5303, 6938]...\n",
      "Landmark 5358: 2 points -> [5358, 8398]...\n",
      "Landmark 5658: 8 points -> [5371, 5658, 6097, 6326, 8926, 9308, 9510, 9761]...\n",
      "Landmark 5381: 1 points -> [5381]...\n",
      "Landmark 5411: 1 points -> [5411]...\n",
      "Landmark 5419: 3 points -> [5419, 6331, 7493]...\n",
      "Landmark 6687: 4 points -> [5422, 6687, 8213, 9419]...\n",
      "Landmark 5425: 1 points -> [5425]...\n",
      "Landmark 5625: 4 points -> [5428, 5576, 5625, 9222]...\n",
      "Landmark 5438: 2 points -> [5438, 6841]...\n",
      "Landmark 5453: 2 points -> [5453, 6858]...\n",
      "Landmark 6647: 3 points -> [5467, 6607, 6647]...\n",
      "Landmark 5479: 2 points -> [5479, 7687]...\n",
      "Landmark 5504: 3 points -> [5504, 6323, 9706]...\n",
      "Landmark 5525: 2 points -> [5525, 7667]...\n",
      "Landmark 5529: 1 points -> [5529]...\n",
      "Landmark 5531: 1 points -> [5531]...\n",
      "Landmark 5546: 2 points -> [5546, 8509]...\n",
      "Landmark 7846: 3 points -> [5569, 7633, 7846]...\n",
      "Landmark 5879: 2 points -> [5574, 5879]...\n",
      "Landmark 9596: 2 points -> [5579, 9596]...\n",
      "Landmark 5580: 1 points -> [5580]...\n",
      "Landmark 5581: 2 points -> [5581, 7824]...\n",
      "Landmark 5588: 2 points -> [5588, 6951]...\n",
      "Landmark 5918: 3 points -> [5599, 5704, 5918]...\n",
      "Landmark 5628: 2 points -> [5628, 6702]...\n",
      "Landmark 6949: 3 points -> [5640, 6949, 8036]...\n",
      "Landmark 8088: 3 points -> [5644, 8088, 9774]...\n",
      "Landmark 5662: 2 points -> [5662, 9366]...\n",
      "Landmark 5671: 1 points -> [5671]...\n",
      "Landmark 5715: 1 points -> [5715]...\n",
      "Landmark 8901: 2 points -> [5725, 8901]...\n",
      "Landmark 5751: 3 points -> [5751, 6657, 8954]...\n",
      "Landmark 5756: 1 points -> [5756]...\n",
      "Landmark 5775: 4 points -> [5775, 6460, 8657, 9000]...\n",
      "Landmark 5786: 1 points -> [5786]...\n",
      "Landmark 9254: 3 points -> [5808, 9254, 9947]...\n",
      "Landmark 9831: 3 points -> [5813, 9714, 9831]...\n",
      "Landmark 5815: 1 points -> [5815]...\n",
      "Landmark 8140: 3 points -> [5816, 8140, 9372]...\n",
      "Landmark 5818: 2 points -> [5818, 9066]...\n",
      "Landmark 6825: 2 points -> [5820, 6825]...\n",
      "Landmark 6152: 3 points -> [5828, 6152, 9121]...\n",
      "Landmark 9885: 2 points -> [5866, 9885]...\n",
      "Landmark 9673: 5 points -> [5875, 8195, 9659, 9673, 9798]...\n",
      "Landmark 5885: 2 points -> [5885, 6138]...\n",
      "Landmark 6203: 2 points -> [5908, 6203]...\n",
      "Landmark 5921: 1 points -> [5921]...\n",
      "Landmark 8740: 2 points -> [5924, 8740]...\n",
      "Landmark 5925: 2 points -> [5925, 8808]...\n",
      "Landmark 5927: 4 points -> [5927, 7522, 9852, 9901]...\n",
      "Landmark 6390: 2 points -> [5937, 6390]...\n",
      "Landmark 5965: 2 points -> [5965, 7215]...\n",
      "Landmark 5972: 1 points -> [5972]...\n",
      "Landmark 6004: 1 points -> [6004]...\n",
      "Landmark 6027: 1 points -> [6027]...\n",
      "Landmark 6028: 1 points -> [6028]...\n",
      "Landmark 6081: 1 points -> [6081]...\n",
      "Landmark 7578: 3 points -> [6088, 7005, 7578]...\n",
      "Landmark 6285: 4 points -> [6166, 6285, 6488, 8334]...\n",
      "Landmark 9100: 3 points -> [6167, 8568, 9100]...\n",
      "Landmark 6179: 1 points -> [6179]...\n",
      "Landmark 6182: 1 points -> [6182]...\n",
      "Landmark 6502: 2 points -> [6214, 6502]...\n",
      "Landmark 6223: 4 points -> [6223, 8423, 9082, 9527]...\n",
      "Landmark 6234: 1 points -> [6234]...\n",
      "Landmark 6237: 2 points -> [6237, 6700]...\n",
      "Landmark 6274: 1 points -> [6274]...\n",
      "Landmark 6280: 2 points -> [6280, 8543]...\n",
      "Landmark 6313: 1 points -> [6313]...\n",
      "Landmark 6324: 1 points -> [6324]...\n",
      "Landmark 6335: 4 points -> [6335, 6819, 7334, 7881]...\n",
      "Landmark 8027: 4 points -> [6339, 6562, 8027, 9079]...\n",
      "Landmark 6859: 5 points -> [6341, 6859, 6960, 7778, 9110]...\n",
      "Landmark 6355: 1 points -> [6355]...\n",
      "Landmark 7696: 3 points -> [6358, 6798, 7696]...\n",
      "Landmark 6365: 1 points -> [6365]...\n",
      "Landmark 6386: 2 points -> [6386, 8758]...\n",
      "Landmark 6416: 1 points -> [6416]...\n",
      "Landmark 7443: 2 points -> [6437, 7443]...\n",
      "Landmark 6518: 3 points -> [6439, 6518, 7502]...\n",
      "Landmark 9019: 2 points -> [6448, 9019]...\n",
      "Landmark 7434: 3 points -> [6465, 7434, 9533]...\n",
      "Landmark 6486: 1 points -> [6486]...\n",
      "Landmark 9049: 2 points -> [6493, 9049]...\n",
      "Landmark 6494: 1 points -> [6494]...\n",
      "Landmark 7572: 3 points -> [6521, 6618, 7572]...\n",
      "Landmark 6531: 2 points -> [6531, 9902]...\n",
      "Landmark 8943: 4 points -> [6532, 7408, 8894, 8943]...\n",
      "Landmark 6533: 1 points -> [6533]...\n",
      "Landmark 8248: 3 points -> [6535, 8248, 9095]...\n",
      "Landmark 6547: 1 points -> [6547]...\n",
      "Landmark 6569: 2 points -> [6569, 9053]...\n",
      "Landmark 6573: 4 points -> [6573, 6963, 8273, 8326]...\n",
      "Landmark 6583: 2 points -> [6583, 7338]...\n",
      "Landmark 6605: 1 points -> [6605]...\n",
      "Landmark 8952: 4 points -> [6616, 6710, 8952, 8970]...\n",
      "Landmark 8716: 2 points -> [6637, 8716]...\n",
      "Landmark 6638: 2 points -> [6638, 8529]...\n",
      "Landmark 6643: 1 points -> [6643]...\n",
      "Landmark 6656: 5 points -> [6656, 8219, 9145, 9289, 9851]...\n",
      "Landmark 6665: 1 points -> [6665]...\n",
      "Landmark 6675: 1 points -> [6675]...\n",
      "Landmark 7617: 2 points -> [6686, 7617]...\n",
      "Landmark 6689: 1 points -> [6689]...\n",
      "Landmark 7663: 2 points -> [6705, 7663]...\n",
      "Landmark 6762: 1 points -> [6762]...\n",
      "Landmark 6765: 2 points -> [6765, 7604]...\n",
      "Landmark 6793: 1 points -> [6793]...\n",
      "Landmark 6797: 1 points -> [6797]...\n",
      "Landmark 7187: 4 points -> [6805, 7042, 7187, 7745]...\n",
      "Landmark 6812: 2 points -> [6812, 7121]...\n",
      "Landmark 9927: 2 points -> [6856, 9927]...\n",
      "Landmark 7924: 2 points -> [6903, 7924]...\n",
      "Landmark 9886: 4 points -> [6908, 8989, 9803, 9886]...\n",
      "Landmark 6918: 1 points -> [6918]...\n",
      "Landmark 7445: 3 points -> [6924, 7445, 9625]...\n",
      "Landmark 7078: 3 points -> [6929, 7078, 9481]...\n",
      "Landmark 9822: 2 points -> [6974, 9822]...\n",
      "Landmark 8390: 2 points -> [6982, 8390]...\n",
      "Landmark 8233: 7 points -> [7000, 7355, 8233, 8866, 8896, 9441, 9769]...\n",
      "Landmark 8482: 2 points -> [7022, 8482]...\n",
      "Landmark 7834: 2 points -> [7047, 7834]...\n",
      "Landmark 7178: 2 points -> [7049, 7178]...\n",
      "Landmark 9177: 5 points -> [7070, 7629, 7773, 8594, 9177]...\n",
      "Landmark 7915: 3 points -> [7084, 7915, 9648]...\n",
      "Landmark 7140: 1 points -> [7140]...\n",
      "Landmark 7183: 1 points -> [7183]...\n",
      "Landmark 8431: 4 points -> [7208, 7540, 8431, 9353]...\n",
      "Landmark 8253: 3 points -> [7209, 8253, 8656]...\n",
      "Landmark 7237: 2 points -> [7237, 9059]...\n",
      "Landmark 7240: 1 points -> [7240]...\n",
      "Landmark 7249: 1 points -> [7249]...\n",
      "Landmark 8584: 2 points -> [7250, 8584]...\n",
      "Landmark 9347: 3 points -> [7260, 7996, 9347]...\n",
      "Landmark 7284: 3 points -> [7284, 8112, 8999]...\n",
      "Landmark 7364: 2 points -> [7364, 9063]...\n",
      "Landmark 7377: 1 points -> [7377]...\n",
      "Landmark 7380: 1 points -> [7380]...\n",
      "Landmark 7382: 2 points -> [7382, 7797]...\n",
      "Landmark 7676: 4 points -> [7392, 7676, 8849, 9549]...\n",
      "Landmark 7407: 1 points -> [7407]...\n",
      "Landmark 7416: 2 points -> [7416, 7777]...\n",
      "Landmark 7421: 1 points -> [7421]...\n",
      "Landmark 7436: 1 points -> [7436]...\n",
      "Landmark 8246: 2 points -> [7474, 8246]...\n",
      "Landmark 7480: 2 points -> [7480, 8717]...\n",
      "Landmark 7524: 1 points -> [7524]...\n",
      "Landmark 7536: 1 points -> [7536]...\n",
      "Landmark 7558: 3 points -> [7558, 7914, 8942]...\n",
      "Landmark 7560: 1 points -> [7560]...\n",
      "Landmark 8430: 3 points -> [7562, 7997, 8430]...\n",
      "Landmark 7566: 1 points -> [7566]...\n",
      "Landmark 7594: 1 points -> [7594]...\n",
      "Landmark 7627: 1 points -> [7627]...\n",
      "Landmark 7632: 1 points -> [7632]...\n",
      "Landmark 7655: 1 points -> [7655]...\n",
      "Landmark 7670: 2 points -> [7670, 7869]...\n",
      "Landmark 9299: 3 points -> [7700, 9299, 9962]...\n",
      "Landmark 7712: 3 points -> [7712, 7868, 9184]...\n",
      "Landmark 7740: 1 points -> [7740]...\n",
      "Landmark 7752: 1 points -> [7752]...\n",
      "Landmark 7762: 2 points -> [7762, 7982]...\n",
      "Landmark 7786: 2 points -> [7786, 9804]...\n",
      "Landmark 7795: 3 points -> [7795, 8402, 9024]...\n",
      "Landmark 8625: 3 points -> [7806, 8625, 9322]...\n",
      "Landmark 7822: 3 points -> [7822, 8858, 9763]...\n",
      "Landmark 8218: 2 points -> [7854, 8218]...\n",
      "Landmark 7871: 1 points -> [7871]...\n",
      "Landmark 8406: 3 points -> [7939, 8406, 8771]...\n",
      "Landmark 7980: 1 points -> [7980]...\n",
      "Landmark 7983: 1 points -> [7983]...\n",
      "Landmark 8024: 1 points -> [8024]...\n",
      "Landmark 8034: 1 points -> [8034]...\n",
      "Landmark 8059: 1 points -> [8059]...\n",
      "Landmark 8100: 1 points -> [8100]...\n",
      "Landmark 8154: 1 points -> [8154]...\n",
      "Landmark 8172: 3 points -> [8172, 9226, 9392]...\n",
      "Landmark 8637: 2 points -> [8198, 8637]...\n",
      "Landmark 8223: 1 points -> [8223]...\n",
      "Landmark 8293: 1 points -> [8293]...\n",
      "Landmark 8302: 1 points -> [8302]...\n",
      "Landmark 8311: 1 points -> [8311]...\n",
      "Landmark 9801: 2 points -> [8375, 9801]...\n",
      "Landmark 9186: 2 points -> [8400, 9186]...\n",
      "Landmark 8453: 1 points -> [8453]...\n",
      "Landmark 8466: 1 points -> [8466]...\n",
      "Landmark 8468: 1 points -> [8468]...\n",
      "Landmark 8481: 2 points -> [8481, 9187]...\n",
      "Landmark 8483: 1 points -> [8483]...\n",
      "Landmark 8520: 1 points -> [8520]...\n",
      "Landmark 8530: 2 points -> [8530, 8891]...\n",
      "Landmark 9087: 2 points -> [8548, 9087]...\n",
      "Landmark 8615: 1 points -> [8615]...\n",
      "Landmark 8622: 1 points -> [8622]...\n",
      "Landmark 8640: 1 points -> [8640]...\n",
      "Landmark 8650: 1 points -> [8650]...\n",
      "Landmark 8667: 1 points -> [8667]...\n",
      "Landmark 8696: 1 points -> [8696]...\n",
      "Landmark 8722: 1 points -> [8722]...\n",
      "Landmark 8746: 1 points -> [8746]...\n",
      "Landmark 8766: 1 points -> [8766]...\n",
      "Landmark 8772: 1 points -> [8772]...\n",
      "Landmark 8787: 1 points -> [8787]...\n",
      "Landmark 8828: 1 points -> [8828]...\n",
      "Landmark 8867: 1 points -> [8867]...\n",
      "Landmark 9075: 2 points -> [8880, 9075]...\n",
      "Landmark 8882: 1 points -> [8882]...\n",
      "Landmark 8884: 1 points -> [8884]...\n",
      "Landmark 8913: 1 points -> [8913]...\n",
      "Landmark 8916: 1 points -> [8916]...\n",
      "Landmark 8919: 1 points -> [8919]...\n",
      "Landmark 8932: 1 points -> [8932]...\n",
      "Landmark 8950: 1 points -> [8950]...\n",
      "Landmark 8988: 1 points -> [8988]...\n",
      "Landmark 9022: 1 points -> [9022]...\n",
      "Landmark 9084: 1 points -> [9084]...\n",
      "Landmark 9606: 2 points -> [9092, 9606]...\n",
      "Landmark 9319: 2 points -> [9114, 9319]...\n",
      "Landmark 9115: 1 points -> [9115]...\n",
      "Landmark 9376: 2 points -> [9125, 9376]...\n",
      "Landmark 9147: 1 points -> [9147]...\n",
      "Landmark 9152: 1 points -> [9152]...\n",
      "Landmark 9185: 1 points -> [9185]...\n",
      "Landmark 9235: 1 points -> [9235]...\n",
      "Landmark 9245: 1 points -> [9245]...\n",
      "Landmark 9258: 1 points -> [9258]...\n",
      "Landmark 9303: 1 points -> [9303]...\n",
      "Landmark 9391: 1 points -> [9391]...\n",
      "Landmark 9403: 1 points -> [9403]...\n",
      "Landmark 9424: 1 points -> [9424]...\n",
      "Landmark 9480: 2 points -> [9480, 9923]...\n",
      "Landmark 9495: 1 points -> [9495]...\n",
      "Landmark 9522: 1 points -> [9522]...\n",
      "Landmark 9547: 1 points -> [9547]...\n",
      "Landmark 9563: 1 points -> [9563]...\n",
      "Landmark 9615: 1 points -> [9615]...\n",
      "Landmark 9664: 1 points -> [9664]...\n",
      "Landmark 9675: 1 points -> [9675]...\n",
      "Landmark 9756: 1 points -> [9756]...\n",
      "Landmark 9758: 1 points -> [9758]...\n",
      "Landmark 9825: 1 points -> [9825]...\n",
      "Landmark 9951: 1 points -> [9951]...\n"
     ]
    }
   ],
   "source": [
    "import numpy as np\n",
    "from collections import defaultdict\n",
    "\n",
    "# associate は np.array で、associate[i] = ランドマークのインデックス\n",
    "def compute_landmark_groups(associate):\n",
    "    groups = defaultdict(list)\n",
    "    for idx, lm in enumerate(associate):\n",
    "        groups[lm].append(idx)\n",
    "    # ランドマークごとのサイズも\n",
    "    sizes = {lm: len(indices) for lm, indices in groups.items()}\n",
    "    return groups, sizes\n",
    "\n",
    "groups, sizes = compute_landmark_groups(associate)\n",
    "\n",
    "# 確認\n",
    "for lm in groups:\n",
    "    print(f\"Landmark {lm}: {sizes[lm]} points -> {groups[lm][:10]}...\")  # 最初の10点だけ表示\n"
   ]
  },
  {
   "cell_type": "code",
   "execution_count": 59,
   "id": "b5fafce1",
   "metadata": {},
   "outputs": [
    {
     "data": {
      "application/vnd.plotly.v1+json": {
       "config": {
        "plotlyServerURL": "https://plot.ly"
       },
       "data": [
        {
         "bingroup": "x",
         "hovertemplate": "x=%{x}<br>count=%{y}<extra></extra>",
         "legendgroup": "",
         "marker": {
          "color": "#636efa",
          "pattern": {
           "shape": ""
          }
         },
         "name": "",
         "nbinsx": 50,
         "orientation": "v",
         "showlegend": false,
         "type": "histogram",
         "x": {
          "bdata": "GQMJCAgFCAoEAgcGBQQGDgIGCwYJBREEAwcNAg0JBQoDBQMHBQgEBQgCBgwFCgcHGgQHBA0MCQYEBwYNBAsGBQkJBA4GBB8FCgINAwICBQMDAwQFBgYGCQUHAw0CBwUIEAYJCRMICwQJBggLAwcGBAMFBAYQDgoPEwkHBAMQCQkECwwDBQwJBgYHCAUCDAQDAxQOBwQGAREHBQ8KBQMEBQsEBAkHBAQBBgYFBAIKAQgSAgMDCQIEBgYFDAYIAgMFBQ0OBwkOBAIICAgDGQQFBAsCBgcDGAMCAwQBCQcCFgoHBREGBAYFBQwFCwQSBAIDBQYCAwEBEwQDCQMTCAYHEQEHDAcCBwMEBQQDCAgFBggGCwQMBQYDCA0ECgcBBwcDDQkJAgYDBAIIBg4DBQQFCAIECAcDBAsGAwcRAwYFBQYEAQYFAwMEBAIJBQMJCQcOCwcCCw4EBgoUBQIFBAQFBQYQCQ0GCAMHBw0EBwUKBwoHBQcJAwYECQYFCwkGBgMHBAULBQYIAxAMBwcEBgYIBAQFBwIKAwoEBQUKFQIJCwwPBQYIDgQEBQkGAw0IBAYEAgYDAgcHAwUHCgwRAgUDBQ4GCAMFEQ0LBQQFAwcGAgMhAgQNBwUOBAURBA0MFgMGCgMMAwUFCg0JBQkHBg0JDQ0DDQUDBwQGBQQFBA8HBA8DBAYMDgEQBQkFBgQDBQQKEAkOBAkGBgcEAwkDAwcEBAYKFAcHBQoIBQgFCQcGBggLAwILAgcGBQgCCAsFCAQDDQQCAwgFBgkDBgsEAwQKBAMECQMFAQQCAgcBBAUFBAUHBQcKAwUKBgkGDAMDAgcDBwUHAgYCBQIJCwYLBAcEAwIEAwcHCQUDBAUCBBYDBAIGBQQHCA4KBQkEAg0KBQMEAwgIBwQKBAcIAgMHBAQDCAYDBgoJBQoHBwYGBQMIAQoGBgcEBgkHAwMFBwcJDwMHCgQUBQoGBgUGBAIEFAQGBgMHAggKBgMEAwgIBAgMAgsNAgQFBgcDAwYDCQkIAQUHCQsDBgcFCwMFBBAFAwUBBAECCwUCBAMEBAQCAwYIBwIFAgQEBAkHBAgFAwoFBgUJAgQKBQYGAg8FCwQEBQoBAwcCAQcGAwUFBQMGBwMFCwYCBQwEBQkEBAcICwcMBgQJBQQGDAIECgUEBQgFDAEIBAcGBQIIBAIHAwYDAwUCAgcCAQMEAgMCAgcMAwQGAwQCBwcECAMJBQMCAwoFAwsNBwUFBAIDAwIFAw4GBQUKCAEGBgMDBAYCAwIKAgUFBgMCAgUIAgUHBgMFCAICBQUCAwIEBgIEAwYHBQoEBAIEBAUCBAkEAwMDCAQHCAUFBQQBAg4KBggECwQBCQEEAwEEBgUEBAYEBwUDAQcICAMFBwICBQYBAwMDCgQGAwYHAwQFBQQDDgEHBQQDDAkEBwMEBQMFBgQCDAgCBgUGBAUEAwYFBwYFBwYLAwkDCAIGAwQCAwQDBAMDDQIEBQkCBgIDAQcGAwQFDAIJCAMJAwICCQQCBgUFAwQIBAMCBwYGAwgMBAUDBQMIAgQSAwQDBAEDAg4CAgEGAggLBQkFAgICBQcDBAQEAgQDBAgCBAMGBwcIBgoEBQMEAQIIBgMCCwIDCQQEBgEGAwYGCgYDAwMCBQQDBwMEAwEEAwQCBAgCBAEIBAUGBwELBQMGAgcHAQQBBAMEAgUGAgQEBAUFAwMDCAYHAwYEBgYHBAoHBAYKBQICAgYFAwEFAQUFCQIFAgIFCgkCAQQDBQIFAgIBBAECAwEIBQMCAgQFCAMCBwICAwMGAQUCAgcCAwcBBgYCBQIEAgcDAwcCAwQCBggJBgUFAwkGAgMCCgICBwcFAgMCBAUBBgQEAgICBAIEAwYFAwQCAgYLAQIFAgYEAgMEAgIRAwoIAwQGAgMGAgMGDAIEBQIJAwMCAgQCBwIFBAIDAwIFCwQDBQQCAgQFBQQHBQIKAgUFAgMFAwcDAgYJBAYDBAUCBQICAwUCAgIBBAEBBQMHBQEDAgIFAgIDAwEGBAoBBgMDAwQCAgMEAwEGAgMCAwcBAgcBAgMEAwMCAwMEBQMDAwMBAgUCBgIDAgMDAwICAgIEAgIHAgUDAgUDBQUDBgQDAQIEBAMGCAIEBQEDBQEECAUCBAMBAwEEAQQFAQQDBgIDBQYCAgMDAgMEAgMCBQIEAQIDAwQDAwQFBQUCBQUCBQQDAgUDBAIDBwECAQEDCQUDAQMEAQMEAwEBCAEFAgQDAgMCAwQCAQcDBQECBAMCAgYCBAMEAQUCAwMDAgYFAwEBAwMCBAMDBAMCAwQCAgUCAwIDAgIBAwEFBQMDAgkFBwcCAwQBAwMCBAICAgMCAggBAQMEAQQCAgMCAwIBAQIDAgIBAgIDAgMDAgEBAgMBBAEDAwEDAgIDAgUCAgECAgQCAgEBAQEBAwQDAQECBAECAQIBAQQEBQEDAQIBAgMCAwECAQMCBAEDAQIEAgEEAgIBBQEBAgECAQIBAQQCAgIEAQMDAgIHAgICBQMBAQQDAgEBAgMDAgEBAgQBAgEBAgIBAQMBAwEBAQEBAgMDAQECAgMDAwIBAwEBAQEBAQEDAgEBAQECAgEBAQIBAQICAQEBAQEBAQEBAQEBAQIBAQEBAQEBAQEBAgIBAgEBAQEBAQEBAQECAQEBAQEBAQEBAQE=",
          "dtype": "i1"
         },
         "xaxis": "x",
         "yaxis": "y"
        }
       ],
       "layout": {
        "barmode": "relative",
        "legend": {
         "tracegroupgap": 0
        },
        "template": {
         "data": {
          "bar": [
           {
            "error_x": {
             "color": "#2a3f5f"
            },
            "error_y": {
             "color": "#2a3f5f"
            },
            "marker": {
             "line": {
              "color": "#E5ECF6",
              "width": 0.5
             },
             "pattern": {
              "fillmode": "overlay",
              "size": 10,
              "solidity": 0.2
             }
            },
            "type": "bar"
           }
          ],
          "barpolar": [
           {
            "marker": {
             "line": {
              "color": "#E5ECF6",
              "width": 0.5
             },
             "pattern": {
              "fillmode": "overlay",
              "size": 10,
              "solidity": 0.2
             }
            },
            "type": "barpolar"
           }
          ],
          "carpet": [
           {
            "aaxis": {
             "endlinecolor": "#2a3f5f",
             "gridcolor": "white",
             "linecolor": "white",
             "minorgridcolor": "white",
             "startlinecolor": "#2a3f5f"
            },
            "baxis": {
             "endlinecolor": "#2a3f5f",
             "gridcolor": "white",
             "linecolor": "white",
             "minorgridcolor": "white",
             "startlinecolor": "#2a3f5f"
            },
            "type": "carpet"
           }
          ],
          "choropleth": [
           {
            "colorbar": {
             "outlinewidth": 0,
             "ticks": ""
            },
            "type": "choropleth"
           }
          ],
          "contour": [
           {
            "colorbar": {
             "outlinewidth": 0,
             "ticks": ""
            },
            "colorscale": [
             [
              0,
              "#0d0887"
             ],
             [
              0.1111111111111111,
              "#46039f"
             ],
             [
              0.2222222222222222,
              "#7201a8"
             ],
             [
              0.3333333333333333,
              "#9c179e"
             ],
             [
              0.4444444444444444,
              "#bd3786"
             ],
             [
              0.5555555555555556,
              "#d8576b"
             ],
             [
              0.6666666666666666,
              "#ed7953"
             ],
             [
              0.7777777777777778,
              "#fb9f3a"
             ],
             [
              0.8888888888888888,
              "#fdca26"
             ],
             [
              1,
              "#f0f921"
             ]
            ],
            "type": "contour"
           }
          ],
          "contourcarpet": [
           {
            "colorbar": {
             "outlinewidth": 0,
             "ticks": ""
            },
            "type": "contourcarpet"
           }
          ],
          "heatmap": [
           {
            "colorbar": {
             "outlinewidth": 0,
             "ticks": ""
            },
            "colorscale": [
             [
              0,
              "#0d0887"
             ],
             [
              0.1111111111111111,
              "#46039f"
             ],
             [
              0.2222222222222222,
              "#7201a8"
             ],
             [
              0.3333333333333333,
              "#9c179e"
             ],
             [
              0.4444444444444444,
              "#bd3786"
             ],
             [
              0.5555555555555556,
              "#d8576b"
             ],
             [
              0.6666666666666666,
              "#ed7953"
             ],
             [
              0.7777777777777778,
              "#fb9f3a"
             ],
             [
              0.8888888888888888,
              "#fdca26"
             ],
             [
              1,
              "#f0f921"
             ]
            ],
            "type": "heatmap"
           }
          ],
          "histogram": [
           {
            "marker": {
             "pattern": {
              "fillmode": "overlay",
              "size": 10,
              "solidity": 0.2
             }
            },
            "type": "histogram"
           }
          ],
          "histogram2d": [
           {
            "colorbar": {
             "outlinewidth": 0,
             "ticks": ""
            },
            "colorscale": [
             [
              0,
              "#0d0887"
             ],
             [
              0.1111111111111111,
              "#46039f"
             ],
             [
              0.2222222222222222,
              "#7201a8"
             ],
             [
              0.3333333333333333,
              "#9c179e"
             ],
             [
              0.4444444444444444,
              "#bd3786"
             ],
             [
              0.5555555555555556,
              "#d8576b"
             ],
             [
              0.6666666666666666,
              "#ed7953"
             ],
             [
              0.7777777777777778,
              "#fb9f3a"
             ],
             [
              0.8888888888888888,
              "#fdca26"
             ],
             [
              1,
              "#f0f921"
             ]
            ],
            "type": "histogram2d"
           }
          ],
          "histogram2dcontour": [
           {
            "colorbar": {
             "outlinewidth": 0,
             "ticks": ""
            },
            "colorscale": [
             [
              0,
              "#0d0887"
             ],
             [
              0.1111111111111111,
              "#46039f"
             ],
             [
              0.2222222222222222,
              "#7201a8"
             ],
             [
              0.3333333333333333,
              "#9c179e"
             ],
             [
              0.4444444444444444,
              "#bd3786"
             ],
             [
              0.5555555555555556,
              "#d8576b"
             ],
             [
              0.6666666666666666,
              "#ed7953"
             ],
             [
              0.7777777777777778,
              "#fb9f3a"
             ],
             [
              0.8888888888888888,
              "#fdca26"
             ],
             [
              1,
              "#f0f921"
             ]
            ],
            "type": "histogram2dcontour"
           }
          ],
          "mesh3d": [
           {
            "colorbar": {
             "outlinewidth": 0,
             "ticks": ""
            },
            "type": "mesh3d"
           }
          ],
          "parcoords": [
           {
            "line": {
             "colorbar": {
              "outlinewidth": 0,
              "ticks": ""
             }
            },
            "type": "parcoords"
           }
          ],
          "pie": [
           {
            "automargin": true,
            "type": "pie"
           }
          ],
          "scatter": [
           {
            "fillpattern": {
             "fillmode": "overlay",
             "size": 10,
             "solidity": 0.2
            },
            "type": "scatter"
           }
          ],
          "scatter3d": [
           {
            "line": {
             "colorbar": {
              "outlinewidth": 0,
              "ticks": ""
             }
            },
            "marker": {
             "colorbar": {
              "outlinewidth": 0,
              "ticks": ""
             }
            },
            "type": "scatter3d"
           }
          ],
          "scattercarpet": [
           {
            "marker": {
             "colorbar": {
              "outlinewidth": 0,
              "ticks": ""
             }
            },
            "type": "scattercarpet"
           }
          ],
          "scattergeo": [
           {
            "marker": {
             "colorbar": {
              "outlinewidth": 0,
              "ticks": ""
             }
            },
            "type": "scattergeo"
           }
          ],
          "scattergl": [
           {
            "marker": {
             "colorbar": {
              "outlinewidth": 0,
              "ticks": ""
             }
            },
            "type": "scattergl"
           }
          ],
          "scattermap": [
           {
            "marker": {
             "colorbar": {
              "outlinewidth": 0,
              "ticks": ""
             }
            },
            "type": "scattermap"
           }
          ],
          "scattermapbox": [
           {
            "marker": {
             "colorbar": {
              "outlinewidth": 0,
              "ticks": ""
             }
            },
            "type": "scattermapbox"
           }
          ],
          "scatterpolar": [
           {
            "marker": {
             "colorbar": {
              "outlinewidth": 0,
              "ticks": ""
             }
            },
            "type": "scatterpolar"
           }
          ],
          "scatterpolargl": [
           {
            "marker": {
             "colorbar": {
              "outlinewidth": 0,
              "ticks": ""
             }
            },
            "type": "scatterpolargl"
           }
          ],
          "scatterternary": [
           {
            "marker": {
             "colorbar": {
              "outlinewidth": 0,
              "ticks": ""
             }
            },
            "type": "scatterternary"
           }
          ],
          "surface": [
           {
            "colorbar": {
             "outlinewidth": 0,
             "ticks": ""
            },
            "colorscale": [
             [
              0,
              "#0d0887"
             ],
             [
              0.1111111111111111,
              "#46039f"
             ],
             [
              0.2222222222222222,
              "#7201a8"
             ],
             [
              0.3333333333333333,
              "#9c179e"
             ],
             [
              0.4444444444444444,
              "#bd3786"
             ],
             [
              0.5555555555555556,
              "#d8576b"
             ],
             [
              0.6666666666666666,
              "#ed7953"
             ],
             [
              0.7777777777777778,
              "#fb9f3a"
             ],
             [
              0.8888888888888888,
              "#fdca26"
             ],
             [
              1,
              "#f0f921"
             ]
            ],
            "type": "surface"
           }
          ],
          "table": [
           {
            "cells": {
             "fill": {
              "color": "#EBF0F8"
             },
             "line": {
              "color": "white"
             }
            },
            "header": {
             "fill": {
              "color": "#C8D4E3"
             },
             "line": {
              "color": "white"
             }
            },
            "type": "table"
           }
          ]
         },
         "layout": {
          "annotationdefaults": {
           "arrowcolor": "#2a3f5f",
           "arrowhead": 0,
           "arrowwidth": 1
          },
          "autotypenumbers": "strict",
          "coloraxis": {
           "colorbar": {
            "outlinewidth": 0,
            "ticks": ""
           }
          },
          "colorscale": {
           "diverging": [
            [
             0,
             "#8e0152"
            ],
            [
             0.1,
             "#c51b7d"
            ],
            [
             0.2,
             "#de77ae"
            ],
            [
             0.3,
             "#f1b6da"
            ],
            [
             0.4,
             "#fde0ef"
            ],
            [
             0.5,
             "#f7f7f7"
            ],
            [
             0.6,
             "#e6f5d0"
            ],
            [
             0.7,
             "#b8e186"
            ],
            [
             0.8,
             "#7fbc41"
            ],
            [
             0.9,
             "#4d9221"
            ],
            [
             1,
             "#276419"
            ]
           ],
           "sequential": [
            [
             0,
             "#0d0887"
            ],
            [
             0.1111111111111111,
             "#46039f"
            ],
            [
             0.2222222222222222,
             "#7201a8"
            ],
            [
             0.3333333333333333,
             "#9c179e"
            ],
            [
             0.4444444444444444,
             "#bd3786"
            ],
            [
             0.5555555555555556,
             "#d8576b"
            ],
            [
             0.6666666666666666,
             "#ed7953"
            ],
            [
             0.7777777777777778,
             "#fb9f3a"
            ],
            [
             0.8888888888888888,
             "#fdca26"
            ],
            [
             1,
             "#f0f921"
            ]
           ],
           "sequentialminus": [
            [
             0,
             "#0d0887"
            ],
            [
             0.1111111111111111,
             "#46039f"
            ],
            [
             0.2222222222222222,
             "#7201a8"
            ],
            [
             0.3333333333333333,
             "#9c179e"
            ],
            [
             0.4444444444444444,
             "#bd3786"
            ],
            [
             0.5555555555555556,
             "#d8576b"
            ],
            [
             0.6666666666666666,
             "#ed7953"
            ],
            [
             0.7777777777777778,
             "#fb9f3a"
            ],
            [
             0.8888888888888888,
             "#fdca26"
            ],
            [
             1,
             "#f0f921"
            ]
           ]
          },
          "colorway": [
           "#636efa",
           "#EF553B",
           "#00cc96",
           "#ab63fa",
           "#FFA15A",
           "#19d3f3",
           "#FF6692",
           "#B6E880",
           "#FF97FF",
           "#FECB52"
          ],
          "font": {
           "color": "#2a3f5f"
          },
          "geo": {
           "bgcolor": "white",
           "lakecolor": "white",
           "landcolor": "#E5ECF6",
           "showlakes": true,
           "showland": true,
           "subunitcolor": "white"
          },
          "hoverlabel": {
           "align": "left"
          },
          "hovermode": "closest",
          "mapbox": {
           "style": "light"
          },
          "paper_bgcolor": "white",
          "plot_bgcolor": "#E5ECF6",
          "polar": {
           "angularaxis": {
            "gridcolor": "white",
            "linecolor": "white",
            "ticks": ""
           },
           "bgcolor": "#E5ECF6",
           "radialaxis": {
            "gridcolor": "white",
            "linecolor": "white",
            "ticks": ""
           }
          },
          "scene": {
           "xaxis": {
            "backgroundcolor": "#E5ECF6",
            "gridcolor": "white",
            "gridwidth": 2,
            "linecolor": "white",
            "showbackground": true,
            "ticks": "",
            "zerolinecolor": "white"
           },
           "yaxis": {
            "backgroundcolor": "#E5ECF6",
            "gridcolor": "white",
            "gridwidth": 2,
            "linecolor": "white",
            "showbackground": true,
            "ticks": "",
            "zerolinecolor": "white"
           },
           "zaxis": {
            "backgroundcolor": "#E5ECF6",
            "gridcolor": "white",
            "gridwidth": 2,
            "linecolor": "white",
            "showbackground": true,
            "ticks": "",
            "zerolinecolor": "white"
           }
          },
          "shapedefaults": {
           "line": {
            "color": "#2a3f5f"
           }
          },
          "ternary": {
           "aaxis": {
            "gridcolor": "white",
            "linecolor": "white",
            "ticks": ""
           },
           "baxis": {
            "gridcolor": "white",
            "linecolor": "white",
            "ticks": ""
           },
           "bgcolor": "#E5ECF6",
           "caxis": {
            "gridcolor": "white",
            "linecolor": "white",
            "ticks": ""
           }
          },
          "title": {
           "x": 0.05
          },
          "xaxis": {
           "automargin": true,
           "gridcolor": "white",
           "linecolor": "white",
           "ticks": "",
           "title": {
            "standoff": 15
           },
           "zerolinecolor": "white",
           "zerolinewidth": 2
          },
          "yaxis": {
           "automargin": true,
           "gridcolor": "white",
           "linecolor": "white",
           "ticks": "",
           "title": {
            "standoff": 15
           },
           "zerolinecolor": "white",
           "zerolinewidth": 2
          }
         }
        },
        "title": {
         "text": "Landmark Group Sizes"
        },
        "xaxis": {
         "anchor": "y",
         "domain": [
          0,
          1
         ],
         "title": {
          "text": "x"
         }
        },
        "yaxis": {
         "anchor": "x",
         "domain": [
          0,
          1
         ],
         "title": {
          "text": "count"
         }
        }
       }
      }
     },
     "metadata": {},
     "output_type": "display_data"
    }
   ],
   "source": [
    "# sisesのヒストグラム\n",
    "import plotly.express as px\n",
    "fig = px.histogram(x=list(sizes.values()), nbins=50, title=\"Landmark Group Sizes\")\n",
    "fig.show()\n"
   ]
  },
  {
   "cell_type": "code",
   "execution_count": 60,
   "id": "e33371c7",
   "metadata": {},
   "outputs": [
    {
     "data": {
      "application/vnd.plotly.v1+json": {
       "config": {
        "plotlyServerURL": "https://plot.ly"
       },
       "data": [
        {
         "marker": {
          "color": "skyblue",
          "line": {
           "color": "DarkSlateGrey",
           "width": 0.5
          },
          "opacity": 0.2,
          "size": {
           "bdata": "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",
           "dtype": "f8"
          }
         },
         "mode": "markers",
         "name": "Points",
         "type": "scatter",
         "x": {
          "bdata": "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",
          "dtype": "f8"
         },
         "y": {
          "bdata": "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",
          "dtype": "f8"
         }
        },
        {
         "marker": {
          "color": "black",
          "size": 1
         },
         "mode": "markers",
         "name": "Landmarks",
         "type": "scatter",
         "x": {
          "bdata": "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",
          "dtype": "f4"
         },
         "y": {
          "bdata": "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",
          "dtype": "f4"
         }
        }
       ],
       "layout": {
        "template": {
         "data": {
          "bar": [
           {
            "error_x": {
             "color": "#2a3f5f"
            },
            "error_y": {
             "color": "#2a3f5f"
            },
            "marker": {
             "line": {
              "color": "#E5ECF6",
              "width": 0.5
             },
             "pattern": {
              "fillmode": "overlay",
              "size": 10,
              "solidity": 0.2
             }
            },
            "type": "bar"
           }
          ],
          "barpolar": [
           {
            "marker": {
             "line": {
              "color": "#E5ECF6",
              "width": 0.5
             },
             "pattern": {
              "fillmode": "overlay",
              "size": 10,
              "solidity": 0.2
             }
            },
            "type": "barpolar"
           }
          ],
          "carpet": [
           {
            "aaxis": {
             "endlinecolor": "#2a3f5f",
             "gridcolor": "white",
             "linecolor": "white",
             "minorgridcolor": "white",
             "startlinecolor": "#2a3f5f"
            },
            "baxis": {
             "endlinecolor": "#2a3f5f",
             "gridcolor": "white",
             "linecolor": "white",
             "minorgridcolor": "white",
             "startlinecolor": "#2a3f5f"
            },
            "type": "carpet"
           }
          ],
          "choropleth": [
           {
            "colorbar": {
             "outlinewidth": 0,
             "ticks": ""
            },
            "type": "choropleth"
           }
          ],
          "contour": [
           {
            "colorbar": {
             "outlinewidth": 0,
             "ticks": ""
            },
            "colorscale": [
             [
              0,
              "#0d0887"
             ],
             [
              0.1111111111111111,
              "#46039f"
             ],
             [
              0.2222222222222222,
              "#7201a8"
             ],
             [
              0.3333333333333333,
              "#9c179e"
             ],
             [
              0.4444444444444444,
              "#bd3786"
             ],
             [
              0.5555555555555556,
              "#d8576b"
             ],
             [
              0.6666666666666666,
              "#ed7953"
             ],
             [
              0.7777777777777778,
              "#fb9f3a"
             ],
             [
              0.8888888888888888,
              "#fdca26"
             ],
             [
              1,
              "#f0f921"
             ]
            ],
            "type": "contour"
           }
          ],
          "contourcarpet": [
           {
            "colorbar": {
             "outlinewidth": 0,
             "ticks": ""
            },
            "type": "contourcarpet"
           }
          ],
          "heatmap": [
           {
            "colorbar": {
             "outlinewidth": 0,
             "ticks": ""
            },
            "colorscale": [
             [
              0,
              "#0d0887"
             ],
             [
              0.1111111111111111,
              "#46039f"
             ],
             [
              0.2222222222222222,
              "#7201a8"
             ],
             [
              0.3333333333333333,
              "#9c179e"
             ],
             [
              0.4444444444444444,
              "#bd3786"
             ],
             [
              0.5555555555555556,
              "#d8576b"
             ],
             [
              0.6666666666666666,
              "#ed7953"
             ],
             [
              0.7777777777777778,
              "#fb9f3a"
             ],
             [
              0.8888888888888888,
              "#fdca26"
             ],
             [
              1,
              "#f0f921"
             ]
            ],
            "type": "heatmap"
           }
          ],
          "histogram": [
           {
            "marker": {
             "pattern": {
              "fillmode": "overlay",
              "size": 10,
              "solidity": 0.2
             }
            },
            "type": "histogram"
           }
          ],
          "histogram2d": [
           {
            "colorbar": {
             "outlinewidth": 0,
             "ticks": ""
            },
            "colorscale": [
             [
              0,
              "#0d0887"
             ],
             [
              0.1111111111111111,
              "#46039f"
             ],
             [
              0.2222222222222222,
              "#7201a8"
             ],
             [
              0.3333333333333333,
              "#9c179e"
             ],
             [
              0.4444444444444444,
              "#bd3786"
             ],
             [
              0.5555555555555556,
              "#d8576b"
             ],
             [
              0.6666666666666666,
              "#ed7953"
             ],
             [
              0.7777777777777778,
              "#fb9f3a"
             ],
             [
              0.8888888888888888,
              "#fdca26"
             ],
             [
              1,
              "#f0f921"
             ]
            ],
            "type": "histogram2d"
           }
          ],
          "histogram2dcontour": [
           {
            "colorbar": {
             "outlinewidth": 0,
             "ticks": ""
            },
            "colorscale": [
             [
              0,
              "#0d0887"
             ],
             [
              0.1111111111111111,
              "#46039f"
             ],
             [
              0.2222222222222222,
              "#7201a8"
             ],
             [
              0.3333333333333333,
              "#9c179e"
             ],
             [
              0.4444444444444444,
              "#bd3786"
             ],
             [
              0.5555555555555556,
              "#d8576b"
             ],
             [
              0.6666666666666666,
              "#ed7953"
             ],
             [
              0.7777777777777778,
              "#fb9f3a"
             ],
             [
              0.8888888888888888,
              "#fdca26"
             ],
             [
              1,
              "#f0f921"
             ]
            ],
            "type": "histogram2dcontour"
           }
          ],
          "mesh3d": [
           {
            "colorbar": {
             "outlinewidth": 0,
             "ticks": ""
            },
            "type": "mesh3d"
           }
          ],
          "parcoords": [
           {
            "line": {
             "colorbar": {
              "outlinewidth": 0,
              "ticks": ""
             }
            },
            "type": "parcoords"
           }
          ],
          "pie": [
           {
            "automargin": true,
            "type": "pie"
           }
          ],
          "scatter": [
           {
            "fillpattern": {
             "fillmode": "overlay",
             "size": 10,
             "solidity": 0.2
            },
            "type": "scatter"
           }
          ],
          "scatter3d": [
           {
            "line": {
             "colorbar": {
              "outlinewidth": 0,
              "ticks": ""
             }
            },
            "marker": {
             "colorbar": {
              "outlinewidth": 0,
              "ticks": ""
             }
            },
            "type": "scatter3d"
           }
          ],
          "scattercarpet": [
           {
            "marker": {
             "colorbar": {
              "outlinewidth": 0,
              "ticks": ""
             }
            },
            "type": "scattercarpet"
           }
          ],
          "scattergeo": [
           {
            "marker": {
             "colorbar": {
              "outlinewidth": 0,
              "ticks": ""
             }
            },
            "type": "scattergeo"
           }
          ],
          "scattergl": [
           {
            "marker": {
             "colorbar": {
              "outlinewidth": 0,
              "ticks": ""
             }
            },
            "type": "scattergl"
           }
          ],
          "scattermap": [
           {
            "marker": {
             "colorbar": {
              "outlinewidth": 0,
              "ticks": ""
             }
            },
            "type": "scattermap"
           }
          ],
          "scattermapbox": [
           {
            "marker": {
             "colorbar": {
              "outlinewidth": 0,
              "ticks": ""
             }
            },
            "type": "scattermapbox"
           }
          ],
          "scatterpolar": [
           {
            "marker": {
             "colorbar": {
              "outlinewidth": 0,
              "ticks": ""
             }
            },
            "type": "scatterpolar"
           }
          ],
          "scatterpolargl": [
           {
            "marker": {
             "colorbar": {
              "outlinewidth": 0,
              "ticks": ""
             }
            },
            "type": "scatterpolargl"
           }
          ],
          "scatterternary": [
           {
            "marker": {
             "colorbar": {
              "outlinewidth": 0,
              "ticks": ""
             }
            },
            "type": "scatterternary"
           }
          ],
          "surface": [
           {
            "colorbar": {
             "outlinewidth": 0,
             "ticks": ""
            },
            "colorscale": [
             [
              0,
              "#0d0887"
             ],
             [
              0.1111111111111111,
              "#46039f"
             ],
             [
              0.2222222222222222,
              "#7201a8"
             ],
             [
              0.3333333333333333,
              "#9c179e"
             ],
             [
              0.4444444444444444,
              "#bd3786"
             ],
             [
              0.5555555555555556,
              "#d8576b"
             ],
             [
              0.6666666666666666,
              "#ed7953"
             ],
             [
              0.7777777777777778,
              "#fb9f3a"
             ],
             [
              0.8888888888888888,
              "#fdca26"
             ],
             [
              1,
              "#f0f921"
             ]
            ],
            "type": "surface"
           }
          ],
          "table": [
           {
            "cells": {
             "fill": {
              "color": "#EBF0F8"
             },
             "line": {
              "color": "white"
             }
            },
            "header": {
             "fill": {
              "color": "#C8D4E3"
             },
             "line": {
              "color": "white"
             }
            },
            "type": "table"
           }
          ]
         },
         "layout": {
          "annotationdefaults": {
           "arrowcolor": "#2a3f5f",
           "arrowhead": 0,
           "arrowwidth": 1
          },
          "autotypenumbers": "strict",
          "coloraxis": {
           "colorbar": {
            "outlinewidth": 0,
            "ticks": ""
           }
          },
          "colorscale": {
           "diverging": [
            [
             0,
             "#8e0152"
            ],
            [
             0.1,
             "#c51b7d"
            ],
            [
             0.2,
             "#de77ae"
            ],
            [
             0.3,
             "#f1b6da"
            ],
            [
             0.4,
             "#fde0ef"
            ],
            [
             0.5,
             "#f7f7f7"
            ],
            [
             0.6,
             "#e6f5d0"
            ],
            [
             0.7,
             "#b8e186"
            ],
            [
             0.8,
             "#7fbc41"
            ],
            [
             0.9,
             "#4d9221"
            ],
            [
             1,
             "#276419"
            ]
           ],
           "sequential": [
            [
             0,
             "#0d0887"
            ],
            [
             0.1111111111111111,
             "#46039f"
            ],
            [
             0.2222222222222222,
             "#7201a8"
            ],
            [
             0.3333333333333333,
             "#9c179e"
            ],
            [
             0.4444444444444444,
             "#bd3786"
            ],
            [
             0.5555555555555556,
             "#d8576b"
            ],
            [
             0.6666666666666666,
             "#ed7953"
            ],
            [
             0.7777777777777778,
             "#fb9f3a"
            ],
            [
             0.8888888888888888,
             "#fdca26"
            ],
            [
             1,
             "#f0f921"
            ]
           ],
           "sequentialminus": [
            [
             0,
             "#0d0887"
            ],
            [
             0.1111111111111111,
             "#46039f"
            ],
            [
             0.2222222222222222,
             "#7201a8"
            ],
            [
             0.3333333333333333,
             "#9c179e"
            ],
            [
             0.4444444444444444,
             "#bd3786"
            ],
            [
             0.5555555555555556,
             "#d8576b"
            ],
            [
             0.6666666666666666,
             "#ed7953"
            ],
            [
             0.7777777777777778,
             "#fb9f3a"
            ],
            [
             0.8888888888888888,
             "#fdca26"
            ],
            [
             1,
             "#f0f921"
            ]
           ]
          },
          "colorway": [
           "#636efa",
           "#EF553B",
           "#00cc96",
           "#ab63fa",
           "#FFA15A",
           "#19d3f3",
           "#FF6692",
           "#B6E880",
           "#FF97FF",
           "#FECB52"
          ],
          "font": {
           "color": "#2a3f5f"
          },
          "geo": {
           "bgcolor": "white",
           "lakecolor": "white",
           "landcolor": "#E5ECF6",
           "showlakes": true,
           "showland": true,
           "subunitcolor": "white"
          },
          "hoverlabel": {
           "align": "left"
          },
          "hovermode": "closest",
          "mapbox": {
           "style": "light"
          },
          "paper_bgcolor": "white",
          "plot_bgcolor": "#E5ECF6",
          "polar": {
           "angularaxis": {
            "gridcolor": "white",
            "linecolor": "white",
            "ticks": ""
           },
           "bgcolor": "#E5ECF6",
           "radialaxis": {
            "gridcolor": "white",
            "linecolor": "white",
            "ticks": ""
           }
          },
          "scene": {
           "xaxis": {
            "backgroundcolor": "#E5ECF6",
            "gridcolor": "white",
            "gridwidth": 2,
            "linecolor": "white",
            "showbackground": true,
            "ticks": "",
            "zerolinecolor": "white"
           },
           "yaxis": {
            "backgroundcolor": "#E5ECF6",
            "gridcolor": "white",
            "gridwidth": 2,
            "linecolor": "white",
            "showbackground": true,
            "ticks": "",
            "zerolinecolor": "white"
           },
           "zaxis": {
            "backgroundcolor": "#E5ECF6",
            "gridcolor": "white",
            "gridwidth": 2,
            "linecolor": "white",
            "showbackground": true,
            "ticks": "",
            "zerolinecolor": "white"
           }
          },
          "shapedefaults": {
           "line": {
            "color": "#2a3f5f"
           }
          },
          "ternary": {
           "aaxis": {
            "gridcolor": "white",
            "linecolor": "white",
            "ticks": ""
           },
           "baxis": {
            "gridcolor": "white",
            "linecolor": "white",
            "ticks": ""
           },
           "bgcolor": "#E5ECF6",
           "caxis": {
            "gridcolor": "white",
            "linecolor": "white",
            "ticks": ""
           }
          },
          "title": {
           "x": 0.05
          },
          "xaxis": {
           "automargin": true,
           "gridcolor": "white",
           "linecolor": "white",
           "ticks": "",
           "title": {
            "standoff": 15
           },
           "zerolinecolor": "white",
           "zerolinewidth": 2
          },
          "yaxis": {
           "automargin": true,
           "gridcolor": "white",
           "linecolor": "white",
           "ticks": "",
           "title": {
            "standoff": 15
           },
           "zerolinecolor": "white",
           "zerolinewidth": 2
          }
         }
        },
        "title": {
         "text": "Landmarks and Associated Points"
        },
        "xaxis": {
         "title": {
          "text": "X"
         }
        },
        "yaxis": {
         "title": {
          "text": "Y"
         }
        }
       }
      }
     },
     "metadata": {},
     "output_type": "display_data"
    }
   ],
   "source": [
    "# landmarkをそれぞれランダムな座標に表示し、plotlyで可視化. ランドマークに属する点のサイズを不透明な円で\n",
    "import plotly.graph_objects as go\n",
    "import numpy as np\n",
    "import random\n",
    "from sklearn.decomposition import PCA\n",
    "import umap\n",
    "# landmark_coords = PCA(n_components=2).fit_transform(X[landmark_ids])\n",
    "landmark_coords = umap.UMAP(n_components=2).fit_transform(X[landmark_ids])\n",
    "point_coords = np.zeros((X.shape[0], 2))\n",
    "point_sizes = np.zeros(X.shape[0])  \n",
    "for lm_idx, lm in enumerate(landmark_ids):\n",
    "    pts = groups[lm]\n",
    "    for pt in pts:\n",
    "        point_coords[pt] = landmark_coords[lm_idx]\n",
    "        point_sizes[pt] = 5 + sizes[lm] * 0.1  # サイズはランドマークに属する点の数に比例\n",
    "\n",
    "fig = go.Figure()\n",
    "\n",
    "fig.add_trace(go.Scatter(x=point_coords[:,0], y=point_coords[:,1],\n",
    "                         mode='markers',\n",
    "                         marker=dict(size=point_sizes, color='skyblue', opacity=0.2,\n",
    "                                     line=dict(width=0.5, color='DarkSlateGrey')),\n",
    "                         name='Points'))\n",
    "fig.add_trace(go.Scatter(x=landmark_coords[:,0], y=landmark_coords[:,1],\n",
    "                         mode='markers',\n",
    "                         marker=dict(size=1, color='black'),\n",
    "                         name='Landmarks'))\n",
    "fig.update_layout(title='Landmarks and Associated Points',\n",
    "                  xaxis_title='X',\n",
    "                  yaxis_title='Y')\n",
    "fig.show()"
   ]
  },
  {
   "cell_type": "code",
   "execution_count": 64,
   "id": "2957e08e",
   "metadata": {},
   "outputs": [
    {
     "data": {
      "application/vnd.plotly.v1+json": {
       "config": {
        "plotlyServerURL": "https://plot.ly"
       },
       "data": [
        {
         "marker": {
          "color": "skyblue",
          "line": {
           "color": "DarkSlateGrey",
           "width": 0.5
          },
          "opacity": 0.2,
          "size": {
           "bdata": "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",
           "dtype": "f8"
          }
         },
         "mode": "markers",
         "name": "Points",
         "type": "scatter",
         "x": {
          "bdata": "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",
          "dtype": "f4"
         },
         "y": {
          "bdata": "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",
          "dtype": "f4"
         }
        },
        {
         "marker": {
          "color": "black",
          "size": 1
         },
         "mode": "markers",
         "name": "Landmarks",
         "type": "scatter",
         "x": {
          "bdata": "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",
          "dtype": "f4"
         },
         "y": {
          "bdata": "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",
          "dtype": "f4"
         }
        }
       ],
       "layout": {
        "template": {
         "data": {
          "bar": [
           {
            "error_x": {
             "color": "#2a3f5f"
            },
            "error_y": {
             "color": "#2a3f5f"
            },
            "marker": {
             "line": {
              "color": "#E5ECF6",
              "width": 0.5
             },
             "pattern": {
              "fillmode": "overlay",
              "size": 10,
              "solidity": 0.2
             }
            },
            "type": "bar"
           }
          ],
          "barpolar": [
           {
            "marker": {
             "line": {
              "color": "#E5ECF6",
              "width": 0.5
             },
             "pattern": {
              "fillmode": "overlay",
              "size": 10,
              "solidity": 0.2
             }
            },
            "type": "barpolar"
           }
          ],
          "carpet": [
           {
            "aaxis": {
             "endlinecolor": "#2a3f5f",
             "gridcolor": "white",
             "linecolor": "white",
             "minorgridcolor": "white",
             "startlinecolor": "#2a3f5f"
            },
            "baxis": {
             "endlinecolor": "#2a3f5f",
             "gridcolor": "white",
             "linecolor": "white",
             "minorgridcolor": "white",
             "startlinecolor": "#2a3f5f"
            },
            "type": "carpet"
           }
          ],
          "choropleth": [
           {
            "colorbar": {
             "outlinewidth": 0,
             "ticks": ""
            },
            "type": "choropleth"
           }
          ],
          "contour": [
           {
            "colorbar": {
             "outlinewidth": 0,
             "ticks": ""
            },
            "colorscale": [
             [
              0,
              "#0d0887"
             ],
             [
              0.1111111111111111,
              "#46039f"
             ],
             [
              0.2222222222222222,
              "#7201a8"
             ],
             [
              0.3333333333333333,
              "#9c179e"
             ],
             [
              0.4444444444444444,
              "#bd3786"
             ],
             [
              0.5555555555555556,
              "#d8576b"
             ],
             [
              0.6666666666666666,
              "#ed7953"
             ],
             [
              0.7777777777777778,
              "#fb9f3a"
             ],
             [
              0.8888888888888888,
              "#fdca26"
             ],
             [
              1,
              "#f0f921"
             ]
            ],
            "type": "contour"
           }
          ],
          "contourcarpet": [
           {
            "colorbar": {
             "outlinewidth": 0,
             "ticks": ""
            },
            "type": "contourcarpet"
           }
          ],
          "heatmap": [
           {
            "colorbar": {
             "outlinewidth": 0,
             "ticks": ""
            },
            "colorscale": [
             [
              0,
              "#0d0887"
             ],
             [
              0.1111111111111111,
              "#46039f"
             ],
             [
              0.2222222222222222,
              "#7201a8"
             ],
             [
              0.3333333333333333,
              "#9c179e"
             ],
             [
              0.4444444444444444,
              "#bd3786"
             ],
             [
              0.5555555555555556,
              "#d8576b"
             ],
             [
              0.6666666666666666,
              "#ed7953"
             ],
             [
              0.7777777777777778,
              "#fb9f3a"
             ],
             [
              0.8888888888888888,
              "#fdca26"
             ],
             [
              1,
              "#f0f921"
             ]
            ],
            "type": "heatmap"
           }
          ],
          "histogram": [
           {
            "marker": {
             "pattern": {
              "fillmode": "overlay",
              "size": 10,
              "solidity": 0.2
             }
            },
            "type": "histogram"
           }
          ],
          "histogram2d": [
           {
            "colorbar": {
             "outlinewidth": 0,
             "ticks": ""
            },
            "colorscale": [
             [
              0,
              "#0d0887"
             ],
             [
              0.1111111111111111,
              "#46039f"
             ],
             [
              0.2222222222222222,
              "#7201a8"
             ],
             [
              0.3333333333333333,
              "#9c179e"
             ],
             [
              0.4444444444444444,
              "#bd3786"
             ],
             [
              0.5555555555555556,
              "#d8576b"
             ],
             [
              0.6666666666666666,
              "#ed7953"
             ],
             [
              0.7777777777777778,
              "#fb9f3a"
             ],
             [
              0.8888888888888888,
              "#fdca26"
             ],
             [
              1,
              "#f0f921"
             ]
            ],
            "type": "histogram2d"
           }
          ],
          "histogram2dcontour": [
           {
            "colorbar": {
             "outlinewidth": 0,
             "ticks": ""
            },
            "colorscale": [
             [
              0,
              "#0d0887"
             ],
             [
              0.1111111111111111,
              "#46039f"
             ],
             [
              0.2222222222222222,
              "#7201a8"
             ],
             [
              0.3333333333333333,
              "#9c179e"
             ],
             [
              0.4444444444444444,
              "#bd3786"
             ],
             [
              0.5555555555555556,
              "#d8576b"
             ],
             [
              0.6666666666666666,
              "#ed7953"
             ],
             [
              0.7777777777777778,
              "#fb9f3a"
             ],
             [
              0.8888888888888888,
              "#fdca26"
             ],
             [
              1,
              "#f0f921"
             ]
            ],
            "type": "histogram2dcontour"
           }
          ],
          "mesh3d": [
           {
            "colorbar": {
             "outlinewidth": 0,
             "ticks": ""
            },
            "type": "mesh3d"
           }
          ],
          "parcoords": [
           {
            "line": {
             "colorbar": {
              "outlinewidth": 0,
              "ticks": ""
             }
            },
            "type": "parcoords"
           }
          ],
          "pie": [
           {
            "automargin": true,
            "type": "pie"
           }
          ],
          "scatter": [
           {
            "fillpattern": {
             "fillmode": "overlay",
             "size": 10,
             "solidity": 0.2
            },
            "type": "scatter"
           }
          ],
          "scatter3d": [
           {
            "line": {
             "colorbar": {
              "outlinewidth": 0,
              "ticks": ""
             }
            },
            "marker": {
             "colorbar": {
              "outlinewidth": 0,
              "ticks": ""
             }
            },
            "type": "scatter3d"
           }
          ],
          "scattercarpet": [
           {
            "marker": {
             "colorbar": {
              "outlinewidth": 0,
              "ticks": ""
             }
            },
            "type": "scattercarpet"
           }
          ],
          "scattergeo": [
           {
            "marker": {
             "colorbar": {
              "outlinewidth": 0,
              "ticks": ""
             }
            },
            "type": "scattergeo"
           }
          ],
          "scattergl": [
           {
            "marker": {
             "colorbar": {
              "outlinewidth": 0,
              "ticks": ""
             }
            },
            "type": "scattergl"
           }
          ],
          "scattermap": [
           {
            "marker": {
             "colorbar": {
              "outlinewidth": 0,
              "ticks": ""
             }
            },
            "type": "scattermap"
           }
          ],
          "scattermapbox": [
           {
            "marker": {
             "colorbar": {
              "outlinewidth": 0,
              "ticks": ""
             }
            },
            "type": "scattermapbox"
           }
          ],
          "scatterpolar": [
           {
            "marker": {
             "colorbar": {
              "outlinewidth": 0,
              "ticks": ""
             }
            },
            "type": "scatterpolar"
           }
          ],
          "scatterpolargl": [
           {
            "marker": {
             "colorbar": {
              "outlinewidth": 0,
              "ticks": ""
             }
            },
            "type": "scatterpolargl"
           }
          ],
          "scatterternary": [
           {
            "marker": {
             "colorbar": {
              "outlinewidth": 0,
              "ticks": ""
             }
            },
            "type": "scatterternary"
           }
          ],
          "surface": [
           {
            "colorbar": {
             "outlinewidth": 0,
             "ticks": ""
            },
            "colorscale": [
             [
              0,
              "#0d0887"
             ],
             [
              0.1111111111111111,
              "#46039f"
             ],
             [
              0.2222222222222222,
              "#7201a8"
             ],
             [
              0.3333333333333333,
              "#9c179e"
             ],
             [
              0.4444444444444444,
              "#bd3786"
             ],
             [
              0.5555555555555556,
              "#d8576b"
             ],
             [
              0.6666666666666666,
              "#ed7953"
             ],
             [
              0.7777777777777778,
              "#fb9f3a"
             ],
             [
              0.8888888888888888,
              "#fdca26"
             ],
             [
              1,
              "#f0f921"
             ]
            ],
            "type": "surface"
           }
          ],
          "table": [
           {
            "cells": {
             "fill": {
              "color": "#EBF0F8"
             },
             "line": {
              "color": "white"
             }
            },
            "header": {
             "fill": {
              "color": "#C8D4E3"
             },
             "line": {
              "color": "white"
             }
            },
            "type": "table"
           }
          ]
         },
         "layout": {
          "annotationdefaults": {
           "arrowcolor": "#2a3f5f",
           "arrowhead": 0,
           "arrowwidth": 1
          },
          "autotypenumbers": "strict",
          "coloraxis": {
           "colorbar": {
            "outlinewidth": 0,
            "ticks": ""
           }
          },
          "colorscale": {
           "diverging": [
            [
             0,
             "#8e0152"
            ],
            [
             0.1,
             "#c51b7d"
            ],
            [
             0.2,
             "#de77ae"
            ],
            [
             0.3,
             "#f1b6da"
            ],
            [
             0.4,
             "#fde0ef"
            ],
            [
             0.5,
             "#f7f7f7"
            ],
            [
             0.6,
             "#e6f5d0"
            ],
            [
             0.7,
             "#b8e186"
            ],
            [
             0.8,
             "#7fbc41"
            ],
            [
             0.9,
             "#4d9221"
            ],
            [
             1,
             "#276419"
            ]
           ],
           "sequential": [
            [
             0,
             "#0d0887"
            ],
            [
             0.1111111111111111,
             "#46039f"
            ],
            [
             0.2222222222222222,
             "#7201a8"
            ],
            [
             0.3333333333333333,
             "#9c179e"
            ],
            [
             0.4444444444444444,
             "#bd3786"
            ],
            [
             0.5555555555555556,
             "#d8576b"
            ],
            [
             0.6666666666666666,
             "#ed7953"
            ],
            [
             0.7777777777777778,
             "#fb9f3a"
            ],
            [
             0.8888888888888888,
             "#fdca26"
            ],
            [
             1,
             "#f0f921"
            ]
           ],
           "sequentialminus": [
            [
             0,
             "#0d0887"
            ],
            [
             0.1111111111111111,
             "#46039f"
            ],
            [
             0.2222222222222222,
             "#7201a8"
            ],
            [
             0.3333333333333333,
             "#9c179e"
            ],
            [
             0.4444444444444444,
             "#bd3786"
            ],
            [
             0.5555555555555556,
             "#d8576b"
            ],
            [
             0.6666666666666666,
             "#ed7953"
            ],
            [
             0.7777777777777778,
             "#fb9f3a"
            ],
            [
             0.8888888888888888,
             "#fdca26"
            ],
            [
             1,
             "#f0f921"
            ]
           ]
          },
          "colorway": [
           "#636efa",
           "#EF553B",
           "#00cc96",
           "#ab63fa",
           "#FFA15A",
           "#19d3f3",
           "#FF6692",
           "#B6E880",
           "#FF97FF",
           "#FECB52"
          ],
          "font": {
           "color": "#2a3f5f"
          },
          "geo": {
           "bgcolor": "white",
           "lakecolor": "white",
           "landcolor": "#E5ECF6",
           "showlakes": true,
           "showland": true,
           "subunitcolor": "white"
          },
          "hoverlabel": {
           "align": "left"
          },
          "hovermode": "closest",
          "mapbox": {
           "style": "light"
          },
          "paper_bgcolor": "white",
          "plot_bgcolor": "#E5ECF6",
          "polar": {
           "angularaxis": {
            "gridcolor": "white",
            "linecolor": "white",
            "ticks": ""
           },
           "bgcolor": "#E5ECF6",
           "radialaxis": {
            "gridcolor": "white",
            "linecolor": "white",
            "ticks": ""
           }
          },
          "scene": {
           "xaxis": {
            "backgroundcolor": "#E5ECF6",
            "gridcolor": "white",
            "gridwidth": 2,
            "linecolor": "white",
            "showbackground": true,
            "ticks": "",
            "zerolinecolor": "white"
           },
           "yaxis": {
            "backgroundcolor": "#E5ECF6",
            "gridcolor": "white",
            "gridwidth": 2,
            "linecolor": "white",
            "showbackground": true,
            "ticks": "",
            "zerolinecolor": "white"
           },
           "zaxis": {
            "backgroundcolor": "#E5ECF6",
            "gridcolor": "white",
            "gridwidth": 2,
            "linecolor": "white",
            "showbackground": true,
            "ticks": "",
            "zerolinecolor": "white"
           }
          },
          "shapedefaults": {
           "line": {
            "color": "#2a3f5f"
           }
          },
          "ternary": {
           "aaxis": {
            "gridcolor": "white",
            "linecolor": "white",
            "ticks": ""
           },
           "baxis": {
            "gridcolor": "white",
            "linecolor": "white",
            "ticks": ""
           },
           "bgcolor": "#E5ECF6",
           "caxis": {
            "gridcolor": "white",
            "linecolor": "white",
            "ticks": ""
           }
          },
          "title": {
           "x": 0.05
          },
          "xaxis": {
           "automargin": true,
           "gridcolor": "white",
           "linecolor": "white",
           "ticks": "",
           "title": {
            "standoff": 15
           },
           "zerolinecolor": "white",
           "zerolinewidth": 2
          },
          "yaxis": {
           "automargin": true,
           "gridcolor": "white",
           "linecolor": "white",
           "ticks": "",
           "title": {
            "standoff": 15
           },
           "zerolinecolor": "white",
           "zerolinewidth": 2
          }
         }
        },
        "title": {
         "text": "Landmarks and Associated Points"
        },
        "xaxis": {
         "title": {
          "text": "X"
         }
        },
        "yaxis": {
         "title": {
          "text": "Y"
         }
        }
       }
      }
     },
     "metadata": {},
     "output_type": "display_data"
    }
   ],
   "source": [
    "# embedding\n",
    "fig = go.Figure()\n",
    "\n",
    "fig.add_trace(go.Scatter(x=embedding[:,0], y=embedding[:,1],\n",
    "                         mode='markers',\n",
    "                         marker=dict(size=point_sizes, color='skyblue', opacity=0.2,\n",
    "                                     line=dict(width=0.5, color='DarkSlateGrey')),\n",
    "                         name='Points'))\n",
    "fig.add_trace(go.Scatter(x=embedding[:,0], y=embedding[:,1],\n",
    "                         mode='markers',\n",
    "                         marker=dict(size=1, color='black'),\n",
    "                         name='Landmarks'))\n",
    "fig.update_layout(title='Landmarks and Associated Points',\n",
    "                  xaxis_title='X',\n",
    "                  yaxis_title='Y')\n",
    "fig.show()"
   ]
  },
  {
   "cell_type": "code",
   "execution_count": 61,
   "id": "84cea1db",
   "metadata": {},
   "outputs": [
    {
     "data": {
      "application/vnd.plotly.v1+json": {
       "config": {
        "plotlyServerURL": "https://plot.ly"
       },
       "data": [
        {
         "hovertemplate": "X=%{x}<br>Y=%{y}<extra></extra>",
         "legendgroup": "",
         "marker": {
          "color": "black",
          "size": 2,
          "symbol": "circle"
         },
         "mode": "markers",
         "name": "",
         "showlegend": false,
         "type": "scattergl",
         "x": {
          "bdata": "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",
          "dtype": "f4"
         },
         "xaxis": "x",
         "y": {
          "bdata": "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",
          "dtype": "f4"
         },
         "yaxis": "y"
        }
       ],
       "layout": {
        "legend": {
         "tracegroupgap": 0
        },
        "template": {
         "data": {
          "bar": [
           {
            "error_x": {
             "color": "#2a3f5f"
            },
            "error_y": {
             "color": "#2a3f5f"
            },
            "marker": {
             "line": {
              "color": "#E5ECF6",
              "width": 0.5
             },
             "pattern": {
              "fillmode": "overlay",
              "size": 10,
              "solidity": 0.2
             }
            },
            "type": "bar"
           }
          ],
          "barpolar": [
           {
            "marker": {
             "line": {
              "color": "#E5ECF6",
              "width": 0.5
             },
             "pattern": {
              "fillmode": "overlay",
              "size": 10,
              "solidity": 0.2
             }
            },
            "type": "barpolar"
           }
          ],
          "carpet": [
           {
            "aaxis": {
             "endlinecolor": "#2a3f5f",
             "gridcolor": "white",
             "linecolor": "white",
             "minorgridcolor": "white",
             "startlinecolor": "#2a3f5f"
            },
            "baxis": {
             "endlinecolor": "#2a3f5f",
             "gridcolor": "white",
             "linecolor": "white",
             "minorgridcolor": "white",
             "startlinecolor": "#2a3f5f"
            },
            "type": "carpet"
           }
          ],
          "choropleth": [
           {
            "colorbar": {
             "outlinewidth": 0,
             "ticks": ""
            },
            "type": "choropleth"
           }
          ],
          "contour": [
           {
            "colorbar": {
             "outlinewidth": 0,
             "ticks": ""
            },
            "colorscale": [
             [
              0,
              "#0d0887"
             ],
             [
              0.1111111111111111,
              "#46039f"
             ],
             [
              0.2222222222222222,
              "#7201a8"
             ],
             [
              0.3333333333333333,
              "#9c179e"
             ],
             [
              0.4444444444444444,
              "#bd3786"
             ],
             [
              0.5555555555555556,
              "#d8576b"
             ],
             [
              0.6666666666666666,
              "#ed7953"
             ],
             [
              0.7777777777777778,
              "#fb9f3a"
             ],
             [
              0.8888888888888888,
              "#fdca26"
             ],
             [
              1,
              "#f0f921"
             ]
            ],
            "type": "contour"
           }
          ],
          "contourcarpet": [
           {
            "colorbar": {
             "outlinewidth": 0,
             "ticks": ""
            },
            "type": "contourcarpet"
           }
          ],
          "heatmap": [
           {
            "colorbar": {
             "outlinewidth": 0,
             "ticks": ""
            },
            "colorscale": [
             [
              0,
              "#0d0887"
             ],
             [
              0.1111111111111111,
              "#46039f"
             ],
             [
              0.2222222222222222,
              "#7201a8"
             ],
             [
              0.3333333333333333,
              "#9c179e"
             ],
             [
              0.4444444444444444,
              "#bd3786"
             ],
             [
              0.5555555555555556,
              "#d8576b"
             ],
             [
              0.6666666666666666,
              "#ed7953"
             ],
             [
              0.7777777777777778,
              "#fb9f3a"
             ],
             [
              0.8888888888888888,
              "#fdca26"
             ],
             [
              1,
              "#f0f921"
             ]
            ],
            "type": "heatmap"
           }
          ],
          "histogram": [
           {
            "marker": {
             "pattern": {
              "fillmode": "overlay",
              "size": 10,
              "solidity": 0.2
             }
            },
            "type": "histogram"
           }
          ],
          "histogram2d": [
           {
            "colorbar": {
             "outlinewidth": 0,
             "ticks": ""
            },
            "colorscale": [
             [
              0,
              "#0d0887"
             ],
             [
              0.1111111111111111,
              "#46039f"
             ],
             [
              0.2222222222222222,
              "#7201a8"
             ],
             [
              0.3333333333333333,
              "#9c179e"
             ],
             [
              0.4444444444444444,
              "#bd3786"
             ],
             [
              0.5555555555555556,
              "#d8576b"
             ],
             [
              0.6666666666666666,
              "#ed7953"
             ],
             [
              0.7777777777777778,
              "#fb9f3a"
             ],
             [
              0.8888888888888888,
              "#fdca26"
             ],
             [
              1,
              "#f0f921"
             ]
            ],
            "type": "histogram2d"
           }
          ],
          "histogram2dcontour": [
           {
            "colorbar": {
             "outlinewidth": 0,
             "ticks": ""
            },
            "colorscale": [
             [
              0,
              "#0d0887"
             ],
             [
              0.1111111111111111,
              "#46039f"
             ],
             [
              0.2222222222222222,
              "#7201a8"
             ],
             [
              0.3333333333333333,
              "#9c179e"
             ],
             [
              0.4444444444444444,
              "#bd3786"
             ],
             [
              0.5555555555555556,
              "#d8576b"
             ],
             [
              0.6666666666666666,
              "#ed7953"
             ],
             [
              0.7777777777777778,
              "#fb9f3a"
             ],
             [
              0.8888888888888888,
              "#fdca26"
             ],
             [
              1,
              "#f0f921"
             ]
            ],
            "type": "histogram2dcontour"
           }
          ],
          "mesh3d": [
           {
            "colorbar": {
             "outlinewidth": 0,
             "ticks": ""
            },
            "type": "mesh3d"
           }
          ],
          "parcoords": [
           {
            "line": {
             "colorbar": {
              "outlinewidth": 0,
              "ticks": ""
             }
            },
            "type": "parcoords"
           }
          ],
          "pie": [
           {
            "automargin": true,
            "type": "pie"
           }
          ],
          "scatter": [
           {
            "fillpattern": {
             "fillmode": "overlay",
             "size": 10,
             "solidity": 0.2
            },
            "type": "scatter"
           }
          ],
          "scatter3d": [
           {
            "line": {
             "colorbar": {
              "outlinewidth": 0,
              "ticks": ""
             }
            },
            "marker": {
             "colorbar": {
              "outlinewidth": 0,
              "ticks": ""
             }
            },
            "type": "scatter3d"
           }
          ],
          "scattercarpet": [
           {
            "marker": {
             "colorbar": {
              "outlinewidth": 0,
              "ticks": ""
             }
            },
            "type": "scattercarpet"
           }
          ],
          "scattergeo": [
           {
            "marker": {
             "colorbar": {
              "outlinewidth": 0,
              "ticks": ""
             }
            },
            "type": "scattergeo"
           }
          ],
          "scattergl": [
           {
            "marker": {
             "colorbar": {
              "outlinewidth": 0,
              "ticks": ""
             }
            },
            "type": "scattergl"
           }
          ],
          "scattermap": [
           {
            "marker": {
             "colorbar": {
              "outlinewidth": 0,
              "ticks": ""
             }
            },
            "type": "scattermap"
           }
          ],
          "scattermapbox": [
           {
            "marker": {
             "colorbar": {
              "outlinewidth": 0,
              "ticks": ""
             }
            },
            "type": "scattermapbox"
           }
          ],
          "scatterpolar": [
           {
            "marker": {
             "colorbar": {
              "outlinewidth": 0,
              "ticks": ""
             }
            },
            "type": "scatterpolar"
           }
          ],
          "scatterpolargl": [
           {
            "marker": {
             "colorbar": {
              "outlinewidth": 0,
              "ticks": ""
             }
            },
            "type": "scatterpolargl"
           }
          ],
          "scatterternary": [
           {
            "marker": {
             "colorbar": {
              "outlinewidth": 0,
              "ticks": ""
             }
            },
            "type": "scatterternary"
           }
          ],
          "surface": [
           {
            "colorbar": {
             "outlinewidth": 0,
             "ticks": ""
            },
            "colorscale": [
             [
              0,
              "#0d0887"
             ],
             [
              0.1111111111111111,
              "#46039f"
             ],
             [
              0.2222222222222222,
              "#7201a8"
             ],
             [
              0.3333333333333333,
              "#9c179e"
             ],
             [
              0.4444444444444444,
              "#bd3786"
             ],
             [
              0.5555555555555556,
              "#d8576b"
             ],
             [
              0.6666666666666666,
              "#ed7953"
             ],
             [
              0.7777777777777778,
              "#fb9f3a"
             ],
             [
              0.8888888888888888,
              "#fdca26"
             ],
             [
              1,
              "#f0f921"
             ]
            ],
            "type": "surface"
           }
          ],
          "table": [
           {
            "cells": {
             "fill": {
              "color": "#EBF0F8"
             },
             "line": {
              "color": "white"
             }
            },
            "header": {
             "fill": {
              "color": "#C8D4E3"
             },
             "line": {
              "color": "white"
             }
            },
            "type": "table"
           }
          ]
         },
         "layout": {
          "annotationdefaults": {
           "arrowcolor": "#2a3f5f",
           "arrowhead": 0,
           "arrowwidth": 1
          },
          "autotypenumbers": "strict",
          "coloraxis": {
           "colorbar": {
            "outlinewidth": 0,
            "ticks": ""
           }
          },
          "colorscale": {
           "diverging": [
            [
             0,
             "#8e0152"
            ],
            [
             0.1,
             "#c51b7d"
            ],
            [
             0.2,
             "#de77ae"
            ],
            [
             0.3,
             "#f1b6da"
            ],
            [
             0.4,
             "#fde0ef"
            ],
            [
             0.5,
             "#f7f7f7"
            ],
            [
             0.6,
             "#e6f5d0"
            ],
            [
             0.7,
             "#b8e186"
            ],
            [
             0.8,
             "#7fbc41"
            ],
            [
             0.9,
             "#4d9221"
            ],
            [
             1,
             "#276419"
            ]
           ],
           "sequential": [
            [
             0,
             "#0d0887"
            ],
            [
             0.1111111111111111,
             "#46039f"
            ],
            [
             0.2222222222222222,
             "#7201a8"
            ],
            [
             0.3333333333333333,
             "#9c179e"
            ],
            [
             0.4444444444444444,
             "#bd3786"
            ],
            [
             0.5555555555555556,
             "#d8576b"
            ],
            [
             0.6666666666666666,
             "#ed7953"
            ],
            [
             0.7777777777777778,
             "#fb9f3a"
            ],
            [
             0.8888888888888888,
             "#fdca26"
            ],
            [
             1,
             "#f0f921"
            ]
           ],
           "sequentialminus": [
            [
             0,
             "#0d0887"
            ],
            [
             0.1111111111111111,
             "#46039f"
            ],
            [
             0.2222222222222222,
             "#7201a8"
            ],
            [
             0.3333333333333333,
             "#9c179e"
            ],
            [
             0.4444444444444444,
             "#bd3786"
            ],
            [
             0.5555555555555556,
             "#d8576b"
            ],
            [
             0.6666666666666666,
             "#ed7953"
            ],
            [
             0.7777777777777778,
             "#fb9f3a"
            ],
            [
             0.8888888888888888,
             "#fdca26"
            ],
            [
             1,
             "#f0f921"
            ]
           ]
          },
          "colorway": [
           "#636efa",
           "#EF553B",
           "#00cc96",
           "#ab63fa",
           "#FFA15A",
           "#19d3f3",
           "#FF6692",
           "#B6E880",
           "#FF97FF",
           "#FECB52"
          ],
          "font": {
           "color": "#2a3f5f"
          },
          "geo": {
           "bgcolor": "white",
           "lakecolor": "white",
           "landcolor": "#E5ECF6",
           "showlakes": true,
           "showland": true,
           "subunitcolor": "white"
          },
          "hoverlabel": {
           "align": "left"
          },
          "hovermode": "closest",
          "mapbox": {
           "style": "light"
          },
          "paper_bgcolor": "white",
          "plot_bgcolor": "#E5ECF6",
          "polar": {
           "angularaxis": {
            "gridcolor": "white",
            "linecolor": "white",
            "ticks": ""
           },
           "bgcolor": "#E5ECF6",
           "radialaxis": {
            "gridcolor": "white",
            "linecolor": "white",
            "ticks": ""
           }
          },
          "scene": {
           "xaxis": {
            "backgroundcolor": "#E5ECF6",
            "gridcolor": "white",
            "gridwidth": 2,
            "linecolor": "white",
            "showbackground": true,
            "ticks": "",
            "zerolinecolor": "white"
           },
           "yaxis": {
            "backgroundcolor": "#E5ECF6",
            "gridcolor": "white",
            "gridwidth": 2,
            "linecolor": "white",
            "showbackground": true,
            "ticks": "",
            "zerolinecolor": "white"
           },
           "zaxis": {
            "backgroundcolor": "#E5ECF6",
            "gridcolor": "white",
            "gridwidth": 2,
            "linecolor": "white",
            "showbackground": true,
            "ticks": "",
            "zerolinecolor": "white"
           }
          },
          "shapedefaults": {
           "line": {
            "color": "#2a3f5f"
           }
          },
          "ternary": {
           "aaxis": {
            "gridcolor": "white",
            "linecolor": "white",
            "ticks": ""
           },
           "baxis": {
            "gridcolor": "white",
            "linecolor": "white",
            "ticks": ""
           },
           "bgcolor": "#E5ECF6",
           "caxis": {
            "gridcolor": "white",
            "linecolor": "white",
            "ticks": ""
           }
          },
          "title": {
           "x": 0.05
          },
          "xaxis": {
           "automargin": true,
           "gridcolor": "white",
           "linecolor": "white",
           "ticks": "",
           "title": {
            "standoff": 15
           },
           "zerolinecolor": "white",
           "zerolinewidth": 2
          },
          "yaxis": {
           "automargin": true,
           "gridcolor": "white",
           "linecolor": "white",
           "ticks": "",
           "title": {
            "standoff": 15
           },
           "zerolinecolor": "white",
           "zerolinewidth": 2
          }
         }
        },
        "title": {
         "text": "Landmarks Only"
        },
        "xaxis": {
         "anchor": "y",
         "domain": [
          0,
          1
         ],
         "title": {
          "text": "X"
         }
        },
        "yaxis": {
         "anchor": "x",
         "domain": [
          0,
          1
         ],
         "title": {
          "text": "Y"
         }
        }
       }
      }
     },
     "metadata": {},
     "output_type": "display_data"
    }
   ],
   "source": [
    "# landmarkのみ\n",
    "fig = px.scatter(x=landmark_coords[:,0], y=landmark_coords[:,1],\n",
    "                 title='Landmarks Only',\n",
    "                 labels={'x': 'X', 'y': 'Y'})\n",
    "fig.update_traces(marker=dict(size=2, color='black'))\n",
    "fig.show()"
   ]
  },
  {
   "cell_type": "code",
   "execution_count": 62,
   "id": "55afb6d0",
   "metadata": {},
   "outputs": [
    {
     "data": {
      "application/vnd.plotly.v1+json": {
       "config": {
        "plotlyServerURL": "https://plot.ly"
       },
       "data": [
        {
         "hovertemplate": "PC1=%{x}<br>PC2=%{y}<extra></extra>",
         "legendgroup": "",
         "marker": {
          "color": "black",
          "size": 2,
          "symbol": "circle"
         },
         "mode": "markers",
         "name": "",
         "showlegend": false,
         "type": "scattergl",
         "x": {
          "bdata": "4O5E0BYh3796Ae30Wd7EP34XbsxUu8c/NMQh3/7tvD9g3c7I7ka2P5mWqSK30tY/6dCHHHz227/Zc4nrig7VP8iez3kisb8/NzWgU4Iy0D/FEPl13arTP1YirizME8Q/rFZUntCL3r9rpmMflh7EvwWiiKPp+Mm/GEprzaoRrj/kx6OX5Sa4P/ha8W5q6qS/bmjBOZ28yL/m8exqzsTVv7K32vjxcMw/AKPeMazB4r922vPUOWLMv3KT8QJnENe/0m5W2bGmyj+s8lOftdG3PxQRVjcnUr2/oPKsVUnyir8P9+jX0TXgv17cYFz208Q/0ezzdB6n3T9XDNuzmgDEvxxBYdYaf8M/mjKK0b4R1b9y0Gmt4IXPv3UyqfD/5to/rG47Oi3S4j9EocfaYvTRv5qhXz3Haum/10xKFW7Z378Q7EM9jU+cv6DHUyanWZm/ZNpDSqoJvD+9RqR6X67aP0U2Jt1uwNQ/eWE0QDBP1T9SdCRa2z7Qv0277WUk38m/EAMvdUVR1b8hRZbtnCnUPwBgGebUOYU/up1SW8BryD9QSQndcrSyP+x2i73M+dm/anXUSkh027+wrhklblmyvyAGGgUvrbU/QwhAV81D4b+UpdJKFv7rv7gAaRiRKKI/GFWRrco7qL+wl/e2F/iQv3BWyl5PL6U/ZOyH5ghetb8clGrsq6exv/9IRdew9N4/ADYxsL1ndj9420MCbpinPyqOmQVPUuA/FHTmCgNRvT/8QsumelHUv/BRWIESi5q/S9ajZxK43b/QNGtqTnWwPw7cD52jQty/aZSpogKy1D9b9hP7WOTZPxFXoWAYC8e/KBz3rnXm1L/2EDOsSsPIv6LWGIZMV8s/l8w8zdLR5b+gnardYPrBPxgIF6r+9qe/eNPpxf+Zrj+An7MXraxsv0CaNXWMt9q/TMhL6cLesT+BzVp5ZmjUP7AWNsTjBJo/Yog85tZRwr9cxgNlayC2v4BROxtBOLC/66e3UyAr2r8ymCi7HtblP63nW5z5wtY/pLlLd+navD83jGBpxFrSPziAdfNRaLQ/CPfHLL9K4D9pTAyp2UPVP1kELN4wwdW/9Vr5YK+L2L8ka1S8Xbi6P+Kr5be5BMs/uC4nRQsGyr/UCNF7pI7CPzypKJiwjMM/ECvMALR2pL8K9eN40cbPvwAZbUjOOli/tqHSGQrjxD9y7c9xWMHIv30s00FYb9Y/JLWif1/Au7+olZNoTWC3v8x4iEXq4Ls/gHlf89XBvD/Kz5eyhQrhP46ZmEooR92/cZr29I0v0T9vOpBIoODBv9iWcOGWls+/WDjGjeaotT+KfUo79nPBPy8fgQplhdE/iSe+GqRE2z/FCOW75ALRP861o6tzHss/aCwqI+Fc6L/Mx1s4JCLTvxAwhgy6BZW/8i6fpkFQ0b/kO+acNJ/Wvz3shIWpl9I/bKaXOjMqsD9XrA9fGHbWP375+efgEs4/A7CgmUMt1j8jI0uP44LaPzNgkeoqntQ//FtkrGKGxL/pk1hpBB7SvybFoPUKcM0/0ZVwHK/SxL8rc5iOVjbSv2ZNa7URadC/6T0oSqZD2T8o2pRcrtOgP6Yhty/+ms+/ChvjRRED4r8QESaluz+nP1gpT6TXBqM/RethGEuF37/u3WP18+3MPwomBEoWGda/rUUIadHF0L+0ALfrEzPav3WF3OV+adc/inbBcrMtwj9eeVZREeDVv1oyFsBxscy/CgHnpYlgwz8QBjp396u+v3CDKPyvSJW/iwY6vhRl2D8I5obnW426vwgBI65CfLo/y+WYeUYb1z+6cwMhUWjnv44h0++jOsg/NHToD7PGy7/ibIWAJ/vOP9FpyfyONMe/SMNAJnaaqD9Qfph6EyiYvxXMJWWcLNc/i1nz2tFo2T8QEeOIGoHsPzBxLA4/zZi/cHu2pkemuD9iPejKiFvgP7BV3wpUbqu/M8gOM70W3D/t5EQjWVPcP2+ZVyEYecO/7wgZTfQv3D8gIS85KRijvxpQprgBy7m/0FrpBFCXmb+NG1e5MLbWPzTo9A3fM9u/qtcCckuayT+iFnJF7+bJP2j9dWqzlKM/aOv14e0roD9+2kUm0FTZv7/cgIEec9E/iRJghMEK2D/g7p9NjjiCP0Ov6PwJv9I/SvpbejVi4T+QwzoSPWS8v/24bNh5ptw/mc0Rah9e3z+Iyceb8yaivwQGwYeBSrg/Snxhw+Uzzj9M6EzjJMzdvyAAu/rq2pc/JoTJVtumzj/Eb6kIE7vRv4EWDsW889c/2hhX7Z6FyT/aBaaujKe6v1AzqvQYIaW/isRpXlDZyj+3Pp1iqyjTv305m4d5Wds/pTquZ4U61z8A88CeDnyjP2D2rmuEysE/OGvbdTTEsD/uBUanY5zEP5bQeShMK8W/MKnfGBKanr+sedrWXrPBP21x7C9Wl9w/4l2rFZbAwT/KAY+pyzy2v3B2y8hqwaG/Y7pJF4201j8bQNVkFobDv6wWMGxumOe/ufy5Q/AT1z+O5rPP/srSv+GXR9kxr9O/YE5kzllvrD8s6ukS8VbAv8MnOTUxONY/+mx4PO5E0L8eXvJKj6zAv7js9Ajj9a2/TlwLhV4k5z8g1Q5qySqKPxD09QPxL7Y/QF+ddncgfr+1FPp1Cr/aP56OV8WS172/8lJ1nEQ/3r+tzMEZCRTFv1/aCCYondi/suxfIXh2zz9cGSlpMpPYv6hxfRP+iM2/5YK5/ijx0z8AYV+hkgG8P9Mmd7ze/MG/mrGXyXWNyD+NVwRITDfUvxwvQ4eV7L0/LvPo1q8wv7+AJ2ghcKGFv28kOljE3NY/otWk2a/U3r9IZd+XbJjhP0E4aD/LjtU/0saJd5gtyD8sj44a2ZXPv2tZZ9UFzcy/bODcS30T3r/GM7VYon7CPzx0dWn8mry/Hwbmq2gU0j9IE/QxBJfjPwXa3r67UNW/rLWjmmseyb+KzoODlBrav2rRS8u8/L2/ueYkNuic0L/s5/HZDtrnP0SAr6tX0LO/NJ/bp8wTuD+SZCySyPTRv8wUUAGmQbM/PQKayYR23D9D/6a7WQ/XP7YU+k4INba/qdgksP0s1r8g4VVbOG63v/I9zU1Tvsk/lI+7mFpk5r8SGSp5uQG4v8bRuwUQFbu/oTwJklpg3r94uPSVsK69v/p5uFJSMLi/VgtI6TNZwT8yboEbJG7Ev/D+9OcKR68/vKPkn7xh4j+ZBW8POTbXP0SE38FtarK/NfyHtsSD1T+wB3uqEUeSP+a4U/zQt8s/5TU3qrfh0T9mfdyVlxnIv3JX/niIztW/SCA+JuIcsb+txnWhE83QPzs37ZvjxNg/GDkQB0B8wD9SANTy9KLIv/1o5HtcDMq/Yzqe8v/60T+o9VRS7GijvzjA3q4q86A/wgWE00KsyD/MWZ238gizv3x0RmgMFbu/yfjrOAHD3D8AnkNBd355v/0feUbJ7t2/qwuQUUEHxr/gyCgMJkqWP1DZMnaobMA/XvSQOb+ywj+g4Bt3wzfVvy7HH9TJ2sy/dX1n0/Vjxb82k5khg6Tbv6a6fW062sW/U0rJKpdt0z8ov+RABw3Ov/2N9bxwWtA/TZBwAkYI1j/8Vlt+iAnZv2gGd7RDjbE/lD+Ram2P0b+DogM38A7cP5BpByBMFp6/7A6q05DNzr+CBtKZjvzIPxEOHgYP4dm/XBZlT76Osr8raji2e/rYv6iK51UHFro/6x7YZ5Mi2r85XDl9pNzTP0/QYGE4CNE/Lmx9KgJOzz8gZCZ/JCCJP4tk5HZt+em/lSFEs4f11L+EM363tg7XvyJiN7WKx8k/POt5Bj456T80HE3ypBXhPyRwhpnRA8q/y/UlERQA078+2AXLagXRv+Bm+fmL4Km/Is3cWy3axT/5jhzCI8jVPy9JR931kcu/HIMG6DCxwT+6Mkg4Sj3Zv10Mg6MgeM+/MEabSPLSxr+z6OshB+LGv3j6usZ6WuU/vGd6sEH1zL/fGVk1ZcjQP5/0ikAB9NU/8PobTLk1pj8KW5E4s7bRvx4iEu7sJ8w/IKjjAlo8lr+8Od8ZoV+4v/ja9uckJtS/un+vmeOFwD+AvPtNbqJyP8BExKdk/Kc/iigCrxaRxz8iwFa0ucrdv1RiAw1Sb+C/TZQX4mikyb86+vPLhAzHP7hLf+35Pqw/hy/GsTuk0j+e1oRbNCDLv/akp3BE5eK/nBKIvXm52b9Amv2j4Mx5v+o5yne9L8O/adrrXdcF2r89p+3rPZPfv5BrwubcvaK/bmFS922x478b4gvAhHfSv2OusRmKItS/vKxQRvQoy7/ZNTBGhg3evyqR5RIy2bW/T0MTiHbs1z+wKQW0FAWuPyWa8ykMWN0/V2Dg89AR0z9ctnnpfcTBP6bpmD36csq/WC6OPirupz9UXJk7Evi4P0BMC+riNJ8/urZc7MgRwT8QTZF09e+UvxByuKDSDpw/qWji2+Ps1z9WuKvCQ2rWv1b3+fQVa8o/ESUYp4jV2L+YZc7TT3iqv0QRuX5EAr0/Bax/3jgL1T/ok7wC1PS1v8kaOLvmGts/lJdwDaoLuz9Nj4DpEb7ZP9vyKzEqBue/4Al3jZ0GlT/c7Z0YETW/PxHQGHEflNA/EUbmC8+m0r9U/3K6Zx63P7BQ/KHN1J8/lYKLz1GL3T+wZPR1Mnmpv7CQ/ZasCbO/hvKoBUjgxz/2g3e9hRjIP9nliiIj/ts/WNdsxitEpz/gZYPa2QyiP3IehFzZ9MU/muESE4fPwT9ZCUhzX87UP6qd+TZT3OS/bS9c4E8Q0b9AeUrYoe+yv5/34SqnZse/LKiUn39r4D8m9a1E1JfqP5NluHxtF9i/8HP9c6SKtr8U1cj7YCPnP5b+ViGyPs8/ZEANIPgXxD9SoWPleHbNPwAQ+Zjxjo8/ry27G14yxL90z8+0Qna0P0SmF9EICsW/gCoMaT7+g79qAtLe5H3PvwwwJwM8QMa/y5rIS2jE3D9wHfMKeQfZvw7jR2qvCrm/IcxvEW0K47924bP2GRTGP0Dv0DZRPo+/UIheZ7v34r/o7b6tq7Wjvyh5dUGuR7O/mxgARpYy1z+jnXRT/X/QP7RkSIx7E92/gMeoTV5CpD+YWsTnGVamP14MU0U4utW/gmr77OjuzD+y4qiJinLZv9QTmAx8l+Y/IDL3Y+Jx3b8EDEzsx3ncv1SxjrMBRcy/RnSMR3HG0L+/aLdVgyHQP6ClOufp36S/HNRKgrazxr9Q8mRWUg65P3xX5I6oMLm/KIHTDZYqyL/lbUUSFMjJv4aVXM+k98g/hkI2DBnI4b90BV5uSS++vzKV2e7bOM8/0sVrATQ1yj8AUF7R9lREP2gL8UtPZ8y/d8yu16re4r8RU9VlxZHQP8DAoKOEKpM/UKEOKTxgn79wwtNL0c+/P4n2+6folOK/1R/rVNYQ1r+QYRyiGT+qPzGXm4eEStc/gczUwsAA27+ce8rWK9i2vyDfAVUDI6Y/uEq6AaLZqb9aBobbCXPMv0Gm9sbs6dE/YGsjSb+Q5D8s7Kc1nAq/P1Al3gIA8sG//wyfLBdcyb8TWquHo5XSv/gzbhpFWaA/2QKtMh771z9UmoUKq1uwPzNB18yYSsG/SacQCzAvxr8Ek6sL8Fi8P8yWqTQM4bG/qbToXks03D8SB8t90DrIP60mlyMdado/MIQkKC8u1L+w9R16ciu6v2gDOWPaH7S/it788aDexT+wB0eJgerRv7A1oumCLJ0/WuU9Z6oSwT/qDND4O+PIv+B192S2ZYi/aBS2dhM2zb8ysy48Xbvov+EFm3Dis8u/JNvXo1RKwj/yMk05mS3JP28iWS84H9a/L6K5+veX0j9+9TAJt3zQv6J9WJM4eeC/iKpAK6sytD8Itm0Xvuu0v4RGZr3tAOA/fmfV0CZayT9oqa8CGyOrv1Zlh1jKmsq/gPu78TY5zr9sakO0V7a8P1FULCrZsdU/AHXwnoSNgT8nqBG0+jrcPypWPkbsQs+/oy3V9KfO0z/SztM0GDjEPzm0ouE7ONG/bZgljefFx79UQnUXj1DKv6DAgINiyKg/HeuaJlqC1T9KNti62hjWv2LcB9Nr/NC/mWd0k8KJ2D81vEP2VHrJv0Dj5VNxUKi/gM7lAPR6s7+PF9TsSbrFv7PwzS/iD9o/gAGFMgqYaj8QaTW0hDTDPzAVFqVbhpi/sC6YE/g7p78nw1oxk+3ZP6UwZftsI9Q/Oxr65EUZ0j9MkdFRDgzkP6GfYw4GPN0/bMlhOCaQ4L+vLYBY5MfSP+glhouRMq+/jl22HCe/yr+hsOJuG1XGvz91Zonut9w/QMrWa1qWo7/CkTj6As3CP5PBFSL8ncy/B5074+rT2j/+cAOUcUDFP/mSaDxJBtU/CAc9AE35wT+GQmtJi63IP2mjy9ySP8y/2DbWBPGZwD96CQ/G3lvDP2kI/pXbcNq/aFCdPeAIsb+4calzb0eqP/4FlFAxVs0/2KexiyRP0L+3KbNGVCjNv7jttkPv7bM/r8EqXWmtw7+mlvFMOWXNP+dSuzc4wdm/eMJU+Qyuqz8AwAQaRYxJv0lw5z87KdU/FwMdX3MT2L87KT1zk0TZP8MUhi2AGt4/sJJpKG0DvT/OhNRdbL/MP0CCqYIBrdW/0m3kaXrFxT8Q2382xjPUv/AClw9H69u/vxEYeU7yzr/hVt1yqdrSPwo9g+4etuM/3OwC6IEn3L9uIeMQWejHP1DCb8zL9Z0/+KyF7CGtoz8eXVDkMiPgv6Z9vrXzfOI/UN8u9Xxnkz9fPQaLFjXWP2GARz8b5tE/rVnu4M8i0z84AurQnkugP9Wwxnlc0tc/Wz+VVo6/2L9cDZstj+vSv3gpx4gYPbK/g4QJXpxkyL9Naa3V+jLSP7NnebZtDcy/u7jVzDtB2D/IBV22H8jAv50wEl1Ts9K/rGw/RtDG4j+SHvhKKgTiP1ei0TMkVda/PmctAocz1r/qY36HejbBv5C7GKBDta6/JBGKUj/yzb/ynJYfYUvMv7AeIxACb9G/WiBUaKE4vr/KoNk8CATFP9gdWkXgm9u/D8QaJecU1T9PQSb871DQPzKof0ir79W/wOMeE78mpz9JdwFL1K/hv3R90Wjvcb+/JkcSufcCvr/A+/3ktaKYP+iwh6sBf6O/ZRUFVcgl17+sIPrt/s69P8qNkg74ZOA/KolEnvZwzz9YuEcDBT+zv5j3qa5CC6a/ucm/w6X/0L9aMHBGbsbKP0BqMTyTNZg/ZimARcOL2r+QmV7HEW+yv28NSSqXkcu/eDHOPOYU3b9YUYfsZvnPv8FcL7Fv+ca/IHRu1MUArr/MYhHADTPAv6OhqqHxt8O/GGFSJMuBqD+AMG1AkqGFv2poNMenjMy/yEyDnS46tb/JkAogirTYv4JoNH26Or2/FsW0XAHdwr/9FUFu9MDSPwAz3y3W72+/iI93vbvL5j9PZ1Ukd6HcP+qorqTIRcw/xLUXwsLQtz8iI+RlO1vWv00pNnYAbcm/Mwjn3+Qg17891VQZHGHBvwCk0rDhGq8/wRzGCyipxL9YiZEA7uSwvx9sawiRCNM/KuJDdP09wj9oW9yNwSHAP3QtQMW99bc/xPJfsk1E5r84JT3HHdapP3/1P52/xMG/qpez9pKczT8n+VRcGwvaP5g9jqNkX7Y/AOKaDncYib+oyl8C61PVv5jgPjD8pq4/ootEuHmqwb+U0mcZNyS6P8qrrW6B9ru/ssbTpUktzz/x4R8KgSzpv2CVZZGa8sG/AL4312JtnL8wwofaZd7Lv0d9CGTpmNA/Rngb7BpOyj+K2TOaDSDRv8YwAf6oocy/CInguR862b/IlG35r0C7P8Q/ZIZMtOS/xNUnH20jsD8VXAVMaOLaP+0xZ1NVRcu/HUs3ptN83z9qZQng60rIv3MFhzJE8dg/qMFJKRlc1b9qLgokKPTlv+juIrS4jrs//zpExqYSz78SKhhAfQDFv/xyiTFxkLs/kics61lexz8Oz+I8E6fJv6ioHXXgdeQ/qMI89ORWoL9Ai1TZlR2EvyTfw6FDQ+A/7pOPTGAayL8kkepif1uwP6Rmy91Z3OM/2IjsJd2nwL+kOcPviQu0P25GnFObG9C/QEBk9qPIeb9TlhsCwJHSP4E83MHtL9Q/vsH42Iu6yD/Lf2yMfxDQP4A0nXMHT3w/uKAX81PJrr9o1T4D38Grv8kZ5qzZEtS/+MfyWZ+z57/mQSUj3BHHP0CDf/RmPpS///QXB02f0D90A1lspzm/v1fntXO0kcC/QL3UtpFykT+bbAUMg2HRPwhLIll+YtG/9SLn6JB01j+Iqj4aeebcv3hVC3rR0K2/PAmoMncZwD/F6P0rf+bRP69luvp8e9o/j18zJy9k0L9yFH70anvNvyAKrSS9eaq/zBxWJ5vp4L8ajDj5qHnCPzQqxUCSwLC/ilivH76iyL/EP1lnw7HUv1hx6s44uKy/TpHD3Ejmxz91xImNC6HVP1DnTViTx7Q/ZrP8Cncwyj8AUoSH8/lTP01vAIUVYNM/Oprb9nOS4T/8eGrw1PLAP3JjtwYf88I/kFstIsbeyL8GL/kzuonHv2omzNO2Y8w/z1MQri0M0T8U9zXoYJS3P2SOhOv+zrY/oCTWbDwv5L830sYzBZPYv53CfSxLnNE/wIcxPebywT8iT07hO6/Qv+LvbzzUKeQ/ltw5CCsK4T/+Fy29BUDgP5fWSQyoF9c/Vh4TlXLh27+4mEhuwc2gv/hXT/fEn6i/hNtyUs104b9uesO+/7W5v7s4YRA1mtM/rsXP6g1Ozj9e/esJWLvXv2iWhDn1waS/CZUASfeF0j+c7teGuv7cv9DPfE00/ai/CDAIZn/f678vXSEpn97VvyzJLhn7e8Q/ALA9N9bjbj8Kf0sbKV7gv8bpLQIAsM+/b555HSAk3r9g5BPEbxanP3OXuU6GzuG/iRL9Y75l3z/DnKMd/qDZPxL2yDplzso/zgFzV7Mh4b+RBuLxxSPiv+r+LLlX+NK/sanvP5mG2D/5YtU9ePfUv6Cz8mumc4g/b1oC+nxD078b4gJ7lnTUP/8OJIVkPvC/MJ9mwXg0qr+xTe+t5+bRP9gTzHZ0Gro/EF6F1pwUzr/LVX1GAgrRP16u+3lVJcw/PuTvkEWCzD/LiwQfoHzDv+GjSWil3di/pDQhliDFvj8QhViB8l/lP9oxD0kHe9W/oxdbFHYL07/e1DbC+mTFv3g+HPpP+tO/sZLvt3gT3j/fZn8cH9zMv0jUXUilfKM/9PjZHfXFxD9S73Q6y1rOv9PeMa3jE9E/wEJUNoKarT/6+yLTdJPpv8RFq03RydW/KNW+RJKo5T/gEUWHn9KCP45R7lUAvMo/PGSB/Mt6sr+C+vx9sXnlPwppO4raCMU/fENxbcFBxb9ADEntKM+/v0CjKyzM3Y8/wEP3y5xNpr/gftu/4grAP9YhrIwYdMa/0BvFZmv5079gVtwR/czhP58W+oLKMNa/7UZ8mwTK2b+wBlKsK0yTPwbqf1N1Osk/cjSMGOSFxD+IE8mixLOvP7oPg+CU6OE/tsgOkWPgzz+BlnzdTx3FvzrR2FJMKr+/5rzE6sJ8t79g+Zuq3aGyP49MmFmlZtE/DLBUs5Jduj80VZoMhPfoP4c6M3+GW9Y/w757BnXU2z8tlnZqjHvLvwgt568rfuA/b5yp/Nru2T9aZ0I56obPPzrCucu0k7a/gAfERh30jT9WGHVXweTNPyiUs2PyHbM/qiF9d2VRyD+/qfBA/EXivyBAelzwsuQ/viktIZwzzT+Isl6a417APwKdV5Ld7dq/GNFjvCvu4T9hc+6qo5rRP/37NmJ3KuS/3izfyGmWwr+uhT3p8G21v6k+XZifntQ/KIo/FSlq47/NL9hneObePzDsxPWmJbI/1h1q9/IL4z8mcEhgK1u2vzIDgTBOL8o/78HhsxwP1r8oB7ozmg+hP5lj/zB+QNI/X7fRYCOy0r/07yK6ovHQvxKqcazEctO/qkiqsi5Z4D/AaGd4LTKtv5Y4OnzHsdy/N8x7jLly0z9aqdMOYz7hP3IyLGsUXMc/43M+tBF22T9lQgJr6hLfP8PW93Azitc/ouN/pTWA4L/aSL1zZAzQvyDx6Mkz9cM/IRtmp52ezb+wFv8QjN3dv3Cf2bCpYZi/h9sw9gI26r/Q7gUFN6Gwv7SwSoaxs+e/omNYA2Oj4r+MP5ij4fi6PwhFlhpFD6Y/0MNf5veLuT+1iupeU6Dgv6t1P8KZotg/almF2W3+4785lG43w9zSv0lo2246ytq/Is0PAAwN4D+QXsHacBK3P2rg3kQ1lru/u5LyGH1wzb88t73qOCnUv8IuRrrHgOG/XdIrSS+v2D8A2Y2rF6d1v78nY9a6zdK/jJ32hRNWs7/ImuzUZV7BPzxcubAhZNW/eJcegldsqT/EDwS2Jem/P5D3wC6LVr2/0A99LH+e47/DtUiwR5TcPxq6+ToRad+/hJcNjgO+3L8oFt4RT1CmPzZ8dl5oacC/YaGhqO70x78AketMOblWv0+1TRw0htm/FhbrWpGD1L9Fl2rQps/Zvx+IaOeUx9G/fmM41oDIzT9sjuew3JbAPzzjddvMXcU/jRLRGXmq0z9tXB9zC5vUPxhN7LC5WOM/IItBrR0x5L/OFsIJvAnJP/G7lfSrxtS/c5wOdPOW2z/oF1PHzVW1v3pvpBYRy8w/2rhK1X1Bxz9E414XHQ6yv3vWDIAmFMG/NmOXDm/hyD85QRX2hhniv9B0ZKxqd5a/CnQdzcqSxj9AjiMe9uidv5a5O1bn0dK/fQrsa+EA178d9yhm0YPAvxCZGqGGRKI/83789ZRG2z+eHXWVMxa1v1K203vrCMK/1NPYZxdtvb8K6qNPcgrKP1NlWsiBDsa/X23sZIDj0T+51p+h9o/Bv6bpEz5mGs+/kja/mtZWy7/IUts+1fakv8tjn4/90tU/mlhDfOVLyr9g8PBmbMWpvyqpjdbbY88/1M/C31ydsD9okuoWjcO/P5TDDyVwkdG/eBdZQ7se07/FGJXLyRLZPzw2u+Lo09i/xCpz9L2Nvr9WE+xOdTLavzToVVcea72/8HwVT61mub/bpTKcY0PbP6vm7CNsv8O/k8+Atwrywr+U1X7th5C4vzbdL4bV4Ms/Q8eX6MBdzb84ifhdktSxP20pQ7OWo9E/bEvlQFdY0b+xtg/AZRDaP8iDljBEDag/oAYimL8sm78I5xwW2JO2v3loVvARQMS/sWEMxJNY1T83yehvPkfbv7CxDkbUM6M/FCNzAZZpsD9JnlbqdMHWP377QIvxw8E/MxXlf6ea0z9wSLBdUqimv1xjhr8XpMI/4FvehyuEvb/SW8t6/c3GP9+5FOPqSNk/9YHtfzFq1D/EBHb0sXmyPwD9ufv3vGC/q5HLQskrwr/EFTQ1+7vlv5zGWPAfHuM/CDYpBAf9qr+6GGTZBUrHPx5KbGDJQeA/gFLhr+pwfr/y72CwMPHEvyiIYf8ybNi/KtcjM4pEyj9CAEUpTkTHP8u8pwx6tNe/Y2qTGkxb2D9fGeiPJafhv6ITdo0Ft96/MNOqM4rnsD+DQyWW+yzaP0C79N/hJdW/kzVMtVd34L+TdxxZFbLSP4Ixx5i8KcK/3YlZWiP22z9grOsBumiXv752TDgd7ec/K2+jNleR1T+yPGQzGH7Yv8k5d1wnyM2/Y9UL2FOHxL+AUzCeW3ypP8D0gK0ALKI/7FAsUNcOtz92wGiBsIfIPyrxrayvpsq/8+IeKSbf0r8U6WeBLgTivwhIOJfJQcE/6ITvm2Zpt79gY0YZva6VvzjQacdbarY/gCNdrJI0cj/w4h9j0Qifv8v4VG1uPse/QD5thA8a0L9s74gGbre/P15/L8sh09G/BctgdN82yr/Gm5jLwaHHP0Apef/pxaG/MlOO5Tx/4T9cuIJXYCG9Py1NRhRVYtq/PY6THi5h0L/k5DSDXH3Bv+Xw2pG5Eds/mreW1VHXub9ok0eo2Lq+P9rrYtlA7M4/fMt0gmd2uz/+AcIaum7hv9jEwn8bP7s/YFEhtPYPsz/u7shvAH3NP64vs/608c4/4Les/WlQ5L+RbQpN+J7YP/f9qyFa2NE/6HTmAt/Trz+QB+NEMmLBvx3uDJAxLdq/I24y4SxB3786njBZi2rGP9SDKZCfDLg/qD5x0f0K0b/4IQuYHMPCPyFsuQlHFN4/m0aWhWxF1D+n5BHQBHHZv5FjcLYq4Mi/NVADyVyq2z+ufLp3P8zVv96QgWq+JcG/oh8CpOh7wD9MwCWz/nzPvysEHiIJcse/bozPSNUm5T9AHOTBq56Gv3isZke5Tcy/U9AU12Ck4L9PUL+8SCLUvxJtcAja9dG/D93hkW1i1T/o6+3cKIfjP+p+TXRI07y/TIj/hRVbuL/vjdlNmu3UP/W+RJa+k9q/MK9Dy69xu7/72rfDnOzUvyQO7nxDXrM/qSpnIhNk0j/UkzZzo4TAPzgQWSL+e8u/BTmrflCo0j9qs8KPR4/BP4B0gomfU5u/NjC204q9zz8ALLFTxugxP+AZBKxrFq0/u+gARAhB2T8kbfzoS9e4v0uoouLbcuC/52GNAU721z/xdMrYrenGv+gi+2MFiqs/YKlwqkPCrb8SLUSC7sXlv4i3fXe7Jbg/NxGpRULC0D+WV6e1Mm/CPxl2AkLZC9K/Ii7NPqPHxz8RmpJPUXjcP14ihT/TmMA/JJ2V9Sqz4D8sqFYauTzOv2qktPLGPs0/oBV5JXUnl7+gGq4yg0uBP5j6GEkpAK+/YEhUL582t798GhG+T1G/P0iPk6LP0Mu/wHGy/p+GuT8nmfP1vcvavx34kyt1HNI/0p4SpGEXzj84wJAqq5W+P/A1x3hm2pm/dOER1qRyvT/4u+gmtFClP+LQytERbcK/gp6gz1IIwT8wjoEQ4Lu/P9K5PR0sk80/C1qjIKOR0j+AJ7w75cGnPwbQELWs+Mu/Li58ytcTtb8qWi0ABkHNPzCq36WQZ78/tBdaqzLKub/Z7Zhwm7jFv6j30oo27uA/jOB9VziMy7+D5/eEIg/VPxyqIs//C+W/tnSdhCaRyT99kvIcBobVPyAXKP1B7KY/8KPcDPPev7/CxYvnT8LCP9q2DdsIqs4/wDcdxVdBvT/Ak4XrF0+ZPz7EKjKoJ+C/Qcn+gAcK1T/pL8K8NerSPxLG0DISa9O/3e+7ZOz90z9GtGURqgLWv8AaNtDoAbY/iOF/jYo7pj+EE+KXqgDfvzYJ8vNiYdm/6XdcxdU9xb9cuQ4DGUXWv0ELxgESusS/Ja+ksDQGzL9yzcd204nMP1DQfow/87Q/WMJcJjo6oz+qBzDewZXOP8Jfvv0m97W/7axjSOId0z+DLrEeTpzlv3BJTC0dgZ8/FtQrUdHX6z8AnfZKDUhmPygT5epxd78/oSLfKiG71j/cpWk0wmfDP7dmV0eru9I/WKRFVZuCvD/ohL+ZGGjoP3A6ebgT9Zc/6SlXq6gI1D/nM4f5c2nXP9PtuGrO99Y/5vVq9LIyxr9ER/rlJS23Pxl1NyEwEca/wEBv5Op1fz/Zrdvi6fHXP5PicnrcE9Q/bpIYHgAU2788mHge5MPBP7w6uEYBPeA/oBpBSXuH4T9aeiaRR2Hrv5yZWCHB4L4/LCdPGbpUvz/RLbKeJYnkvyguc6bha6k/UBIgDMs0rb+yjIWygfDKP6wxUa45T+C/ICStixV7iD/GuQfv65rFP4DV4uyOAsS/ZEsJYJS6279hk7ncqcDVP6AnawkCBYE/aLhwAsMYo7+Up/VR11PTv7nk6lR1RtU/HAittVTHsb8Y/j/bKZe9v7i5nv103NG/FbptKbSZ0T9YG/Fc60anP/CEWzYU9MW/ZXIsfEyY2j/4T6EUbmSov2ua4CklW8S/K6+iiBsr278CXByHulXIP+0NjkTi/dG/M/+hNLPR3T9Vs3c0+t7Tv98M6kJf8ta/1IiQjkQ55b9I0z32StfgvyHhNXD/CdK/ohgCz+/VxL9GUk2Pjt/SvxTXOhjJhNq/dRctnPFG3r8NZo/Al4nGv9ATAtOYeJ0/wJZz6piSrT82ExRQ+GzSv1DNXH3geuc/qI/oBhZ3tT8KBBQjvHDMPzI7jK/t88u/IIC8m7T0jz8AWzKEUVFtP7T2hMOHUMQ/Do5GZ+ktzz/SkuvCuqDhP8AUZLD+GOg/3FSLasZQ4D+7k7AP3uLVP/BlCCiVopc/Cw36pP6vwb9pZ20T3y7Sv/YnymZdzOs/hUAIuIMv3D+RBS77oxrSPwBk5oLf/rQ/oJHokFcUpD+17BUeqFDVv7XAu9JYscm/CA31GDAau7839a91RVfVP7rW6oV/Ks8/2WWZIzuF0z/iHMIT2TC2vwCbXuUcc6S/oJe6IW4ii78MfGLyyFmzv7DlzprYdp+/V18T/L842L8ApLEGbZaUP/5TwV0HIcU/G4yCfZn83T8QFx+ShHe6P6uT6T0q58C/E6WsQ9VE0z8I6cJMhhLgvzv4kqf+LNe/RpSRc8s34D8COCXL4ErNv0BjCisiWIo/Y/r94OZN0z8A39XAgIZdvzBVHYe0rrc/MHVPzatpo79UcRZrr3uyv3BPUBV1eKA/ABwpOUimTL/AhmcnciadPwL7NW8r4c8/cLG1eiMjuL8Qu3lhZt2zP+ZPQO0gBtO/sqQVkmgPwr9kHnlhbvK5P27icWIqrOE/kgX/9WZovb/cb97WZDfBP5tyQ5Czw9O/4LBkVMr9wT8G3RP59BvJPwVr4AG8wtU/EHMiXSmv5b/VanAkiercPwCsGXXcbrC/Qnaxa5GOwb9D/NYvP5Lhvw/kluQj49U/fPiZLMTcvj/yt71YhgjBP8Adi3i7IuA/MavZ/hjs2z8oGaYAJoapv+mBIT1aKdm/Pc6YW3Tr1j9BWnF8yU/VP/ud9iNgR9E/K+Fksphj17+2cHfxMFHMv/62iMrc89W/JvlNl21nyz8Q8PUNhGuXv2AkAFOltow/0AXEZh09l79nBqHT2h7hv4nw3awpV8K/5C1yhWyRsT9a7x0VWvzkPwC4ia1hXpG/AFJgW4p3Xr/VHXayPafRPzBKEYg8V5M/HFIICUpaz786ZqR1Fo3LP4D+pjn+WZw/smTVhw5F4j9e7dejv/vEPzFBb+mLc+W/1m+T2o/etr8a1GV01rnEP4qc3Xdej9y/Tt+I4XxUz7/jyEVm6+fZv+77mrZw/7u/Wnbfm647wb+q/GUCtfO6vzO4PvREFNc/UEIHGUpZqL+CryR6D2XCP8pBlczljM0/qtQ0+vb3wr9u4StAb9/Vvy4OvlXBjbq//8GWO62C2j9Zwqt2Lu7ZvylvHG3PJtM/OBBssHq/qr/0AL/ZC9rFvw5JB5qW+8A/9YYYoIrR1T+AF2NFNBlhv2MsgaM9Jt6/z8HKOVvDzb+I46S71RO/v8RCOrr2m7O/JQkLnes76r+kXFy4t1rmPxTcJvtdV8q/xL5fG+vPyr/6LiCXZ+HGP1KZQcOwfMY/QdwGd3by2D/wSwQHQiuaP7pCCa791eE/WhHQv6FzzD/gFARiT2rQv+Konbt5Wc6/oHChuupVhz94hIFQ+rqrv0d8wPIOJ8S/8E0+ver61r+qmuVIt+vgP4DDIHCbj9+/oFaQvUjrz7+CVjLcK+fiP9WN7uSVFNi/2O7BWZAXqD9A8raOgl+Dv/CNBjG2UJO/onC5EAb1tr/leCUFck7ZP+AdbRY22LA/b7XZFUp+4r8IjQVwPdamPxTHp6HG7sQ/zPQNVnTZs78HYh+xLRjXP4B2zfhUTmq/6D1xCLLdrb8A78akAWBgP8Y8Lswa4uC/tstj1PzPyD9ACxR+hsXRvxcCcXqhIdK/cEyTx2tqn7/qd5G9E83Dv07OVmgywMY/piKvT1dP5D8mFfVPGY/iP3mFc5FVttM/KmN4GH574b9kfpztAwzwv+TplLezk7c/BnyeTW+Kz7+KNyUzDJ64v6zs2nzeOLm/AC63IA3Hsz+YqEKSN6Okv8Dna8UXDI2/AFuOrcEQij9ATp7XDAm0Pxrlw3kVHbu/SNu03Qi5qz8THThRJ77QPxik3XhGTao/HE2Y0AwTuD9OC1mlx13cv8WPTrUhZNW/pqESfc6A4z8wMhKZzHukPyiMqzE4/sm/mBvI5qCtrb/AQulP6nOJP7NIbJ65nNE/3LSQK2EusT9wfsbwPx6ivxVvAfLAF9c/QTJIZWqK3D/g7kZSORCxP8/bn9G7qdQ/ymAuh4kJ1r8a5DhBwva/v1z9rrbTqrI/Eopuhfd24T/w52KJr9mSP9ioSl0HeLI/+UGmGixVxb9sh4scpAHav5SZ3jE17sC/XFeXxlUFsL94E5pAi8Hhv/T7t2aHq8Q/O8AYGd310T+ASQCVMP95v8LYP2qkmMg/WNshMCAqob/yiSajQ7jjP6q+Uh+fEME/WLEyvsyrqz9A0aHAA/m8P4IfiOQI48Y/Va2xAE/D2z8qZR8YfIPIP2FchkwyBN4/xZo3uPKS2j8dBPSSZ3LUP8hK03SvI6A/oETBPzid2L9vEGEx+K3dP6n9kaG+ad4/T0D/3FVI1j/8D0qCsevZv9DuT+j1dq6/hvNpoMo15L/86pz0SFS2PwgQoRLaPLK/yMqClHWFtT9eiFVkhNvBP/7ZiaKP7L6/QOjVZ/oj6b94F/uH+6nXv86BtbPIT8k/29tHJRT62D+SYhxIny/dv943fDxLbNm/EZAaZF6p0D/rh7ifenjWP4h6WhmpprO/wJDBPcHkeL9+N9iwxM/Ev8Z1o7afSsQ/1I5ADJbpvz+e4BNnVb7Ov5oXoD3s9eA/DRLN5TOe2j94UhuyC9PKv25dBzoyOs2/SId7Ap/s3r9jMp6gl6XBv2zYpakVGc2/UT/QAAo93b9ecKH2TRrQv8xPW8g6gbW/rjw2gqJG4z9I18c+J1PUv8BDbp7u84K/9qUgEZTst7947vFRQTC/P2Adk4eT/Lc/ylhTY6TQyz9QNlzP6OngPwgNGUJR+tW/HhoVyIkX1r/JgFWA8WzXP0EK9yazG9M/CcEiCRui0z8IqZZBNP2gPx388cA6YOG/uKqoq2L8sr/I74X0K5vBv59ZnNC14dq/QGF5Vwhxvr8Q8defyh2sP1OpPggdQtg/xhp+Couk4D+UOrQaGhbEPyi4EwaPEqA/slnplZ15x792t6hj0ZPPP2PdpWpdwsa/AKm/s0F0Ur/C4XIyz93JP0qFVoc6nta/DFqVFv2wx7/yFLjO9ybSv6heAeiwTro/DBt2t1dkyr/HQRUcBvDQP2mwIj8yzcS/XB5jy7lYuT8ZJKErxeLTP2TPyJzl0dy/HgPiffQot78MDimyChngP/y63OOsO7U/qLNO3NYYvT+o1wU6OSewv/5hnjLXEcI/sNnTA5a5pT8XzQ4km8rPv6g3lWoW/sm/3p7osP/34b8Cgbhg/ETFP/gteeY02+c/ATD30K/42j83bc16GdrVP6Q3HZ+HPcI/CGIOnekp1L9wcXfDOhiov7al/qNLUuC/2JL+xjKnrr+aNktGrhXOPySGD5mfUtK/TPE1ICN5vL/OsfbkVXnYv3rSyRfgjs6/UDtBwdnpvr8AztK5ZudZv7qcjQetmsY/h0QdCJUd1z9MtHd3kIaxv7TedRSDTLK/MfdQ31cv0T/lfaHEHCzTPwZtpsdvw8o/rnl6qGzlvL9PKgkEPAbCvz9plGPaO9I/UA/zFbGrkD/Qt/Lp1mWsP4LXIClX5dm/ABYAxWibtb/QWoT9QpWvP4dm+fMnUds/P4WAAltX2T9KZi7NuEvpP+CGG1RXaau/aaJXplBd4r9o6oOI1jOyP74TqBfBTbe/UaccFoad0z9Kd25VYH69vwnl8/LwrtA/rBrXlDTYxD+I2tQV6+irv5DdgOsWl9e/7Cs3OXUA4L/i7gFjHQDGP8DO9S3KSb6/7tahBQM0yz/8fFsZ+KW7P2CLA641Zpm/tqoWHDk91b/cT1ClggSyv4cXUOK/DNQ/ZhhoJL2ayz+wIhaHmlqmv8aPyYos7cQ/R+FRwnXT0r9M733kv0rKvzqlsd5rtc0/eS5BPuui1j8iKP5lEjC+v5vHCNupadA/yBubDY5Ppb9CYxL/w2i1v0IlRYt+2rW/XBREvsBg4z8uTVbICo3IP0lZTjwRltu/lA4pb0Mkzr+JMB7jECjVP/RsE+ziHcK/Ekt5//ftwj/+5u+d9BHOP/lVw0XDcdU/tx5CDxV/0D9+qLxB7ffLP2k+P7Hgbdc/W8bk4+tlx798qFZtWFWzP4UiV6PrZtg/8S56um2E0L84AZND6CvGv/ukV+SsJtA/sYvF8eVt1L8i7CzI9ujEPzYTvYrbYN+/oCWHf7p9ij+vHeJHQb/Evw7ezgGnIMe/fZ4H5jSKx7/e0pf7yU3AP0dcSEUX6to/oD092CPrsT+RkIIjAszUv7i/2lWyZ66/oNqPL+G0rb/QXXjJV52nPwoakLjMOdO/wJEZOPV0fT+enhgZxF3NP+vaJCNWvtQ/0FwuUJeknL/gWLEfWJ6nP/fH5K07ZNK/CDIyrIEZuL8gzmlOYdfoP/Z7pe/FaOM/pwqSYIKe0j++aVG4HxLhPwGfRfLIpdW/YESD/KWInD+A+ys5BpqAv/AjPzAquKI/KFBLACXqrD8r+9/SnQrbPxp/gl1LSuS/N7SWo+gX0L/RyiGd0dDTP9l9xqq1Dtc/4lbZ0+bewD8X9J/t80fSP2BHX9N+Ioe/Mp4yDJcZ1r/eHvP2Ff7MP0B6kafrsok/3aMFKFfz2T8V4iKGrnHdvxs0N/9Wqtq/eCpZ+jYNwz+Ij9WBo+rQv13PIRZK+NS/CcfzU4di0T9hgok6ZgPVv5EmBKPSR9Q/3RzvjGa0xb99c4YFVqPWP1AiEfyCfKG/1/QSN6mO3L8aRxDS9/S4v19jM4t6BsS/mDJ+bP544b90ajosR03EP/xCog5qUbU/vPL4xZLlwT/Aev/KHMV2vzzmWKG7fN6/CujtYTUDwD94N2hh0Ru9P/PolYXkVdA/IByOtXeHsb8TeRQ9gXzZPyv1Y65tLuS/6MCDA/entL+aIa4z5ZDgP7uyGzwMm8e/qgzGDJWU4j/oyWupA4ezv2nuUgllXMa/EI/lDLwNvD/0uspQ8ZjgPwh/8QFABKq/SKxv+TShsj8kRyfS033fv3ssHld+NdO/Hl2IXvVr5j9gCAQXWbCrP26DlV/wAeG/4MzvCx78o78yWwjlyY3CP13o3hsDXNI/ZpfHO0EDv78EBdIEdqDOv57KvLvLwOA/yjxJjdkG1r/qcikcU+7iv0qBtGnfMMu/YKIiMW4Jjj+A6EJqmgnrP3r5Iv6HtLe/4hWp83RYyz9AQaTtmaKXv7RECPb3Qda/SAfdCqOgub9hLpZfWdzRvyl+3y16LcS/B0SlVTtB1z9tQE9WJ+vVP0RC1PysPrK/u5JHiQKI0r+6koVo5HrhvwVyIGibwtU/ANqaq7aCmT+n5feuLCvdv6uzxwPZ3tk/MnU5892O0b8ZH1xACDPXPy65/2WCI8m/rjecqN3L4L/A+Lu8Ho6aP2GidN0Fq9q/2EjMHjeArb+CSUEiwXW+v4CGsC5fl2e/MlMkUX1V3r9zhBcTZObIv8kq0KQRn9c/Nl8/N/NKtb8rOfu2J6rKvxaQGa8jzs0/0JY4YSvosr8RMHOtXpHUP1rNTCNeauc/aEbKGeUAs79Sz+dwwJbMP2e1LWrhgeK/P89zEtdK2b/8pr/pSV/EP/heTVrKu6k/kIRgshglqD8RHL9rhQ3ov6oJELCakdi/GwGZF2DJwL8P12wtxYHLv3MNjX7zrdK/CpyPCEQY4j/gy1V3TObiv4zGjWRxiNO/D1PZHJJgxb9JC4dTILnQP7Pt5sUn/94/Ct1CHKmFwT+Y1JsPUELgP0A06nEHr9G/AE6q54jETr/gUsFV82Wwv76zCi0K+8A/R0KRHDLh2r+pMA2Sry3WPzXpkRuwXdg/EPx0bhvbtT9aq04vE1POP1xpUH1s3MU/+132Gxiwzr8VaJd/OnHMv1jXXAwB3bc/2cZK8aw24b/kw6y6EqHDP6XZypm2tdY/gAkj6hBSwD/CYDEmt7jkv+csMPsjlN8/8BN+nRSbqL/OR2kRCxnPP6jsSNtCPsQ/cKh870olqD8g/RRCTTG2vzAhgwr/T+e/pJpoKv/suD9ogQnKxFXQv+IjFXhBPcI/4KL9gj3WpT/42EfyDj7Ov8j4/z0HaqI/CrNE/kCVwz8A2Sn9OM6EPxk8HQ0apdS/8ZHsUh382r9Ie3qdOBqtv2BIY6f+6M2/MBOuHWp5uj9Hgjaf+WDQPzr88uFW78Y/aWjjpuTE0z/KVD9euIjmv2laqsO5lNs/siTDKEDAxL9wj2rHZTPWv0JVMNbMlea/q3NwlE2t2T+8gRIaytzYv5hQLGUt2Ko/uxub+JL3zb9IUSroNN+0PzRkMyZErb2/6m19hTaLxb8w3Wh0nkfAP35sRx0+isg/yvgsY9rUwT9Dj+jx9uDRP3AnPN03ip0/Xtrwrpl8uL9xq4WrYJnGv3Zfl02tN8U/+oW7z+Zr7T9Qypp3ztyyv/bPz4j2O8U/DBy629qtsj/IWZUqrtGyP+6HMb1MmM0/iFoGVrcvpD91Gkf6H6TEv1KRa+MDj8c/ePrZ7deqrT813njEHE7Xv744gV50os4/eEx2/1RVtj8RwZa37gzcP4aQKEvBu+G/wOOKr8ylp7+a3YVM1UniP6mAzfLow9E/JRPELC2a0r8AFVZJBrTjPxSSqMccA8A/1MPsdjX8x78yggh2R+7Yv9WNF1i4ENO/0Jzn7IPrs79AVdTR/kN7P17wTRcNjdC/lQWgfn7a2D8U6k2MQAjsP/ClRY7Oeqg/micLynJB5L9QVLPRpXDiv3fcGDdpl9+/H8n1U+Qt0L8y009tOJXWv/6c2t34leI/FlfGpyGByj+Je9h933rVv4OQ8qvaotg/gkwJ4EvV2L8cl6qorKG1P0jauWpJo6G/rv9MU2y8xj/RPqlgBODRP0TOOmIDU+K/Ur5WJzRU6z/0YbZZ5/W7P5xNjuhWScq/TNCX+fKB47+m691Hkk+7vy0JpN4hqts/oTxgQov40D/4i8i6TznIvwI+V+vKmOW/yGXHytc7sD8yafgbK87Kv3pF1y3bwOU/AFB0VapJM78i9gPtg42+v2CKTgsS7ZK/gNLrIC2elr9EYIgI2Xjhv1TSoxNYX9u/QHoECuMV4T9qD4koD9zFPxa+o3Qo2eS/0OVRnkC/17+8LWRRAvDsP55MeSVl5Nm/3RLGKAWr0j+jraOcHLTUP5AC1P5TXs+/mCpFI3Vl5r/XC2a3kpXXPw==",
          "dtype": "f8"
         },
         "xaxis": "x",
         "y": {
          "bdata": "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",
          "dtype": "f8"
         },
         "yaxis": "y"
        }
       ],
       "layout": {
        "legend": {
         "tracegroupgap": 0
        },
        "template": {
         "data": {
          "bar": [
           {
            "error_x": {
             "color": "#2a3f5f"
            },
            "error_y": {
             "color": "#2a3f5f"
            },
            "marker": {
             "line": {
              "color": "#E5ECF6",
              "width": 0.5
             },
             "pattern": {
              "fillmode": "overlay",
              "size": 10,
              "solidity": 0.2
             }
            },
            "type": "bar"
           }
          ],
          "barpolar": [
           {
            "marker": {
             "line": {
              "color": "#E5ECF6",
              "width": 0.5
             },
             "pattern": {
              "fillmode": "overlay",
              "size": 10,
              "solidity": 0.2
             }
            },
            "type": "barpolar"
           }
          ],
          "carpet": [
           {
            "aaxis": {
             "endlinecolor": "#2a3f5f",
             "gridcolor": "white",
             "linecolor": "white",
             "minorgridcolor": "white",
             "startlinecolor": "#2a3f5f"
            },
            "baxis": {
             "endlinecolor": "#2a3f5f",
             "gridcolor": "white",
             "linecolor": "white",
             "minorgridcolor": "white",
             "startlinecolor": "#2a3f5f"
            },
            "type": "carpet"
           }
          ],
          "choropleth": [
           {
            "colorbar": {
             "outlinewidth": 0,
             "ticks": ""
            },
            "type": "choropleth"
           }
          ],
          "contour": [
           {
            "colorbar": {
             "outlinewidth": 0,
             "ticks": ""
            },
            "colorscale": [
             [
              0,
              "#0d0887"
             ],
             [
              0.1111111111111111,
              "#46039f"
             ],
             [
              0.2222222222222222,
              "#7201a8"
             ],
             [
              0.3333333333333333,
              "#9c179e"
             ],
             [
              0.4444444444444444,
              "#bd3786"
             ],
             [
              0.5555555555555556,
              "#d8576b"
             ],
             [
              0.6666666666666666,
              "#ed7953"
             ],
             [
              0.7777777777777778,
              "#fb9f3a"
             ],
             [
              0.8888888888888888,
              "#fdca26"
             ],
             [
              1,
              "#f0f921"
             ]
            ],
            "type": "contour"
           }
          ],
          "contourcarpet": [
           {
            "colorbar": {
             "outlinewidth": 0,
             "ticks": ""
            },
            "type": "contourcarpet"
           }
          ],
          "heatmap": [
           {
            "colorbar": {
             "outlinewidth": 0,
             "ticks": ""
            },
            "colorscale": [
             [
              0,
              "#0d0887"
             ],
             [
              0.1111111111111111,
              "#46039f"
             ],
             [
              0.2222222222222222,
              "#7201a8"
             ],
             [
              0.3333333333333333,
              "#9c179e"
             ],
             [
              0.4444444444444444,
              "#bd3786"
             ],
             [
              0.5555555555555556,
              "#d8576b"
             ],
             [
              0.6666666666666666,
              "#ed7953"
             ],
             [
              0.7777777777777778,
              "#fb9f3a"
             ],
             [
              0.8888888888888888,
              "#fdca26"
             ],
             [
              1,
              "#f0f921"
             ]
            ],
            "type": "heatmap"
           }
          ],
          "histogram": [
           {
            "marker": {
             "pattern": {
              "fillmode": "overlay",
              "size": 10,
              "solidity": 0.2
             }
            },
            "type": "histogram"
           }
          ],
          "histogram2d": [
           {
            "colorbar": {
             "outlinewidth": 0,
             "ticks": ""
            },
            "colorscale": [
             [
              0,
              "#0d0887"
             ],
             [
              0.1111111111111111,
              "#46039f"
             ],
             [
              0.2222222222222222,
              "#7201a8"
             ],
             [
              0.3333333333333333,
              "#9c179e"
             ],
             [
              0.4444444444444444,
              "#bd3786"
             ],
             [
              0.5555555555555556,
              "#d8576b"
             ],
             [
              0.6666666666666666,
              "#ed7953"
             ],
             [
              0.7777777777777778,
              "#fb9f3a"
             ],
             [
              0.8888888888888888,
              "#fdca26"
             ],
             [
              1,
              "#f0f921"
             ]
            ],
            "type": "histogram2d"
           }
          ],
          "histogram2dcontour": [
           {
            "colorbar": {
             "outlinewidth": 0,
             "ticks": ""
            },
            "colorscale": [
             [
              0,
              "#0d0887"
             ],
             [
              0.1111111111111111,
              "#46039f"
             ],
             [
              0.2222222222222222,
              "#7201a8"
             ],
             [
              0.3333333333333333,
              "#9c179e"
             ],
             [
              0.4444444444444444,
              "#bd3786"
             ],
             [
              0.5555555555555556,
              "#d8576b"
             ],
             [
              0.6666666666666666,
              "#ed7953"
             ],
             [
              0.7777777777777778,
              "#fb9f3a"
             ],
             [
              0.8888888888888888,
              "#fdca26"
             ],
             [
              1,
              "#f0f921"
             ]
            ],
            "type": "histogram2dcontour"
           }
          ],
          "mesh3d": [
           {
            "colorbar": {
             "outlinewidth": 0,
             "ticks": ""
            },
            "type": "mesh3d"
           }
          ],
          "parcoords": [
           {
            "line": {
             "colorbar": {
              "outlinewidth": 0,
              "ticks": ""
             }
            },
            "type": "parcoords"
           }
          ],
          "pie": [
           {
            "automargin": true,
            "type": "pie"
           }
          ],
          "scatter": [
           {
            "fillpattern": {
             "fillmode": "overlay",
             "size": 10,
             "solidity": 0.2
            },
            "type": "scatter"
           }
          ],
          "scatter3d": [
           {
            "line": {
             "colorbar": {
              "outlinewidth": 0,
              "ticks": ""
             }
            },
            "marker": {
             "colorbar": {
              "outlinewidth": 0,
              "ticks": ""
             }
            },
            "type": "scatter3d"
           }
          ],
          "scattercarpet": [
           {
            "marker": {
             "colorbar": {
              "outlinewidth": 0,
              "ticks": ""
             }
            },
            "type": "scattercarpet"
           }
          ],
          "scattergeo": [
           {
            "marker": {
             "colorbar": {
              "outlinewidth": 0,
              "ticks": ""
             }
            },
            "type": "scattergeo"
           }
          ],
          "scattergl": [
           {
            "marker": {
             "colorbar": {
              "outlinewidth": 0,
              "ticks": ""
             }
            },
            "type": "scattergl"
           }
          ],
          "scattermap": [
           {
            "marker": {
             "colorbar": {
              "outlinewidth": 0,
              "ticks": ""
             }
            },
            "type": "scattermap"
           }
          ],
          "scattermapbox": [
           {
            "marker": {
             "colorbar": {
              "outlinewidth": 0,
              "ticks": ""
             }
            },
            "type": "scattermapbox"
           }
          ],
          "scatterpolar": [
           {
            "marker": {
             "colorbar": {
              "outlinewidth": 0,
              "ticks": ""
             }
            },
            "type": "scatterpolar"
           }
          ],
          "scatterpolargl": [
           {
            "marker": {
             "colorbar": {
              "outlinewidth": 0,
              "ticks": ""
             }
            },
            "type": "scatterpolargl"
           }
          ],
          "scatterternary": [
           {
            "marker": {
             "colorbar": {
              "outlinewidth": 0,
              "ticks": ""
             }
            },
            "type": "scatterternary"
           }
          ],
          "surface": [
           {
            "colorbar": {
             "outlinewidth": 0,
             "ticks": ""
            },
            "colorscale": [
             [
              0,
              "#0d0887"
             ],
             [
              0.1111111111111111,
              "#46039f"
             ],
             [
              0.2222222222222222,
              "#7201a8"
             ],
             [
              0.3333333333333333,
              "#9c179e"
             ],
             [
              0.4444444444444444,
              "#bd3786"
             ],
             [
              0.5555555555555556,
              "#d8576b"
             ],
             [
              0.6666666666666666,
              "#ed7953"
             ],
             [
              0.7777777777777778,
              "#fb9f3a"
             ],
             [
              0.8888888888888888,
              "#fdca26"
             ],
             [
              1,
              "#f0f921"
             ]
            ],
            "type": "surface"
           }
          ],
          "table": [
           {
            "cells": {
             "fill": {
              "color": "#EBF0F8"
             },
             "line": {
              "color": "white"
             }
            },
            "header": {
             "fill": {
              "color": "#C8D4E3"
             },
             "line": {
              "color": "white"
             }
            },
            "type": "table"
           }
          ]
         },
         "layout": {
          "annotationdefaults": {
           "arrowcolor": "#2a3f5f",
           "arrowhead": 0,
           "arrowwidth": 1
          },
          "autotypenumbers": "strict",
          "coloraxis": {
           "colorbar": {
            "outlinewidth": 0,
            "ticks": ""
           }
          },
          "colorscale": {
           "diverging": [
            [
             0,
             "#8e0152"
            ],
            [
             0.1,
             "#c51b7d"
            ],
            [
             0.2,
             "#de77ae"
            ],
            [
             0.3,
             "#f1b6da"
            ],
            [
             0.4,
             "#fde0ef"
            ],
            [
             0.5,
             "#f7f7f7"
            ],
            [
             0.6,
             "#e6f5d0"
            ],
            [
             0.7,
             "#b8e186"
            ],
            [
             0.8,
             "#7fbc41"
            ],
            [
             0.9,
             "#4d9221"
            ],
            [
             1,
             "#276419"
            ]
           ],
           "sequential": [
            [
             0,
             "#0d0887"
            ],
            [
             0.1111111111111111,
             "#46039f"
            ],
            [
             0.2222222222222222,
             "#7201a8"
            ],
            [
             0.3333333333333333,
             "#9c179e"
            ],
            [
             0.4444444444444444,
             "#bd3786"
            ],
            [
             0.5555555555555556,
             "#d8576b"
            ],
            [
             0.6666666666666666,
             "#ed7953"
            ],
            [
             0.7777777777777778,
             "#fb9f3a"
            ],
            [
             0.8888888888888888,
             "#fdca26"
            ],
            [
             1,
             "#f0f921"
            ]
           ],
           "sequentialminus": [
            [
             0,
             "#0d0887"
            ],
            [
             0.1111111111111111,
             "#46039f"
            ],
            [
             0.2222222222222222,
             "#7201a8"
            ],
            [
             0.3333333333333333,
             "#9c179e"
            ],
            [
             0.4444444444444444,
             "#bd3786"
            ],
            [
             0.5555555555555556,
             "#d8576b"
            ],
            [
             0.6666666666666666,
             "#ed7953"
            ],
            [
             0.7777777777777778,
             "#fb9f3a"
            ],
            [
             0.8888888888888888,
             "#fdca26"
            ],
            [
             1,
             "#f0f921"
            ]
           ]
          },
          "colorway": [
           "#636efa",
           "#EF553B",
           "#00cc96",
           "#ab63fa",
           "#FFA15A",
           "#19d3f3",
           "#FF6692",
           "#B6E880",
           "#FF97FF",
           "#FECB52"
          ],
          "font": {
           "color": "#2a3f5f"
          },
          "geo": {
           "bgcolor": "white",
           "lakecolor": "white",
           "landcolor": "#E5ECF6",
           "showlakes": true,
           "showland": true,
           "subunitcolor": "white"
          },
          "hoverlabel": {
           "align": "left"
          },
          "hovermode": "closest",
          "mapbox": {
           "style": "light"
          },
          "paper_bgcolor": "white",
          "plot_bgcolor": "#E5ECF6",
          "polar": {
           "angularaxis": {
            "gridcolor": "white",
            "linecolor": "white",
            "ticks": ""
           },
           "bgcolor": "#E5ECF6",
           "radialaxis": {
            "gridcolor": "white",
            "linecolor": "white",
            "ticks": ""
           }
          },
          "scene": {
           "xaxis": {
            "backgroundcolor": "#E5ECF6",
            "gridcolor": "white",
            "gridwidth": 2,
            "linecolor": "white",
            "showbackground": true,
            "ticks": "",
            "zerolinecolor": "white"
           },
           "yaxis": {
            "backgroundcolor": "#E5ECF6",
            "gridcolor": "white",
            "gridwidth": 2,
            "linecolor": "white",
            "showbackground": true,
            "ticks": "",
            "zerolinecolor": "white"
           },
           "zaxis": {
            "backgroundcolor": "#E5ECF6",
            "gridcolor": "white",
            "gridwidth": 2,
            "linecolor": "white",
            "showbackground": true,
            "ticks": "",
            "zerolinecolor": "white"
           }
          },
          "shapedefaults": {
           "line": {
            "color": "#2a3f5f"
           }
          },
          "ternary": {
           "aaxis": {
            "gridcolor": "white",
            "linecolor": "white",
            "ticks": ""
           },
           "baxis": {
            "gridcolor": "white",
            "linecolor": "white",
            "ticks": ""
           },
           "bgcolor": "#E5ECF6",
           "caxis": {
            "gridcolor": "white",
            "linecolor": "white",
            "ticks": ""
           }
          },
          "title": {
           "x": 0.05
          },
          "xaxis": {
           "automargin": true,
           "gridcolor": "white",
           "linecolor": "white",
           "ticks": "",
           "title": {
            "standoff": 15
           },
           "zerolinecolor": "white",
           "zerolinewidth": 2
          },
          "yaxis": {
           "automargin": true,
           "gridcolor": "white",
           "linecolor": "white",
           "ticks": "",
           "title": {
            "standoff": 15
           },
           "zerolinecolor": "white",
           "zerolinewidth": 2
          }
         }
        },
        "title": {
         "text": "Landmarks PCA"
        },
        "xaxis": {
         "anchor": "y",
         "domain": [
          0,
          1
         ],
         "title": {
          "text": "PC1"
         }
        },
        "yaxis": {
         "anchor": "x",
         "domain": [
          0,
          1
         ],
         "title": {
          "text": "PC2"
         }
        }
       }
      }
     },
     "metadata": {},
     "output_type": "display_data"
    }
   ],
   "source": [
    "# pca\n",
    "\n",
    "pca_landmark_coords = PCA(n_components=2).fit_transform(X[landmark_ids])\n",
    "fig = px.scatter(x=pca_landmark_coords[:,0], y=pca_landmark_coords[:,1],\n",
    "                 title='Landmarks PCA',\n",
    "                 labels={'x': 'PC1', 'y': 'PC2'})\n",
    "fig.update_traces(marker=dict(size=2, color='black'))\n",
    "fig.show()"
   ]
  },
  {
   "cell_type": "code",
   "execution_count": 52,
   "id": "d26c9c55",
   "metadata": {},
   "outputs": [
    {
     "data": {
      "application/vnd.plotly.v1+json": {
       "config": {
        "plotlyServerURL": "https://plot.ly"
       },
       "data": [
        {
         "marker": {
          "color": "skyblue",
          "line": {
           "color": "DarkSlateGrey",
           "width": 1
          },
          "opacity": 0.3,
          "size": {
           "bdata": "GQ4WFB8hEQ0OExYQEhoSCw0VDgoJDQ4NCREKBQwPCQ4GEAkLCwoRCgkOCAsNDBAHDgcLCgkHBgwHDggECwYPBAkOBg4KCAMHChMIFggHCQoZBQQKCAYIFAcRBxgMDQwPCwsGCwsHBgwJDQ0LDQUHBQoDAgcTDgsGDAYJCAwKAw4NBwsFFAsKCAQGCAcJCgcNBgMKBwgFAwYJAgYQBQ0KBQYFBgoHBgcDBBABAwgGBQ4DAwQEBAULBhAGCwkGCA4GDAcLBgQKAwkFBw4IEAQHAQgEBQcFBwUKCQYGCAsIAggHCwcOBgYCBw4FAwUGAwwDCwEGAgcFCwYCCgkGDQgFCAcKBwQMAwQRBgIHAwYNDAMEDAQKBwgFDAkJBgUHBQgFBgUGBAQHBQYNAwIFBwcHEQYGAwEKBAoGCwUJBQcCBgQGCwQCBwsICgQFCQEEBAQFAwYNAgULCAkFCwYDBAQGBgUEBAQEBQMGCQcEAwgFBAYDAQQCCAICAwQCAgwECgsEBwQIBQQFCQ8GBwQJBQkIBwcDBwkJBQgGBQgHCQYEAwkNBgUJBQMHCQINAggGCQgDBQQGAgMFBwIEBwEHAwIEAgQRBAMFBwgFCQYFBAgFDg0UBQQCAgECAwQBBAcFBQYFCAUFCQoCBAYFBQUEBAkGCQIHAwIEBgYKAwMGAgUECgwCDAUMAwIFBgUFBgkBBQkHBQMFAxADAwUDAgUCBQYJBAECBgMIBwUHAgMCCwQCAQUHBAQCAQUCCQMBDAcGBAMHCQoMBQIEAwUFBgcCAgQCBgoGBgMCDAUIAwgFAQoGAgkFBQQCBgkJCAUCBAcEAwQIBgMCBwIFAwQFCAsFBAgBBQIFBgwDBgcCAwQDAggJBAoDAQYCBAkFBQUDAQQBAgoEAwMPCAMCCQUFBwQDBAoHDQMDAQYFCA0FBAMGAwQDCAIEBQMHBgIEBQsCAwYGAwQGAwYHBAcEAxQEAwUEBAgBAwUCBwUIAQQHBAYKDQMECwoDAwIGBQgDBAMECQYIAwIHAQIGBAYFBgIFCgIGBQQEBwcGBAQHBQEHAwEEDgECCBECBQQCCgMFBBMFAhEDAgQCBgkHAwcEBgQFBQEGAwMEAQEGAgkDBQsFAgUBBQkFBw8CAwMEAwUBBQIFBgUBAgUCAwIBBgMBBAICAwcFCgUDAwICAQEDCQcFBQYHAwUHAwEBBAUGAggEBwQDAgIEBAIJAwMDDwQFAgYDBAIEAgICAwUCBAEEBQIBBwMHBAgFAwQFAwQDAgkDAwYGCQIDBQICBwUDBAgDBgQCBgMIAgUEAQcBBgEDBAMGAwICCAcDBAkEBAMDBAUFBAUHBQQHAwoGAwMDAwMCBQYBAwQECgIEBQQFAwIEBQEGBAECBgMCAQIGBwYCBwcCBAYFAgYCCAIEBAQDAwICAgMBBQQDAQMBAwEEBAkCCgQLCgICAwEGAggFAwcCBAMBBQUBBAEDBAQEAwMBBQIHAgMDAQMBAgMDCwMCAgUCBgMEAgEFBAEDAwgBAwICBQcBAgQFAwMFCwMGAQIEAgYBBgMFBwYEBAMHCAwFBwQGAgQDBQkFEgECDQMDAQQBAQMEAQEGAQYHBAEGAwUJBAYCAgcFBwMCAQQCBQMEBQYCCAEEAgEDAgEHBgUDBAUJAgMEAwIEBQQBBAQKAgMCBQgCAQMEBAEGAwEEAwECBQICAQMIBgQJCAECCQIBBgEBBQUFAwoCDQUFAwIHBAEEBwQDAwYBAQQCBwMEAwQCAgcCAgUEAQIJBgIGBgIGAQkDAgMCAwIBAgIHBQMCBAIDAQMICQIIAgMCAgQMAwoEBQEGAwUDAgUDAwMBAgEEBwEBBAMCBQICAwUHBQgGBwMDBQQDAQcDAQEDAgEFBAgEAwIFBQQCAgIEBAUEAwYEAQMDAwECBAMHAwEGCAYEAgEEBgIICAIFAwMGBwMEBAMFBgQDCwEEAgECBgMDBAMDAgMEAgIDAwQFAwMECQcLBQcGAwIGAwEEAgEBCAICAgMDBQUBAQMCBgICBQMCAwMEAgQEAgEDAgUCBgEGAwECBQYCAgIIBQMBAwMBAgcDAQIGAgIDAgYBAgMHBAMGAgECBAICBQMCAQMEBgQFAggGBAMHAgIBAQYHAgMDBQIECgICBAkCAQIDAQQDAQQHAgEDBAMCAQoBAgEDAgUCBQIKBwkBDAQJBAMBAgIEAwQCAgIFBQUIAgEJBAQEAwIDAwEBBQQIAgECBQICAwQCAQcCAwMCBQUFAgUDAQUFAQEBBQECAgQEBAMFAwMEAgMBBwoDAggCBQQDCAIFAgIDAQMEAQMGAgEHAgMBBQMEAwQDCAUCBwIDBAEEBAMEAQEDAgEBBwICCAMBBAUFAwECAQMFCQECCgMDBQMBAgIEAwMFBAcCBQMCAgEEAgEFAgQGAwIEAwIGBwQBAQYBAwEEBAEFAwUEAQIFAgQFAwIBAwEEAwEJBgMEAQQDAQIBBQIBAwIDAQMCAQIDBwIEAwMBAwgDBwUBAgQGBgYBBgEDCQICAQMCBAIFBQIBBwYCAQUFAQMBAwIEAgECBgEDAwEFBAIGAwwCAwECAgQCAwgDAwMBBAIEBwwFDQIBAQMEBgMFBAECBAQDAgMDAQIHCgcCAgMBBAICAQUCBQECAwYBAQMCAgQHAQIDAgEBAgQEBQIDAQQ=",
           "dtype": "i1"
          }
         },
         "mode": "markers",
         "name": "Landmarks",
         "type": "scatter",
         "x": {
          "bdata": "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",
          "dtype": "f8"
         },
         "y": {
          "bdata": "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",
          "dtype": "f8"
         }
        },
        {
         "marker": {
          "color": "black",
          "size": 2
         },
         "mode": "markers",
         "name": "Landmarks",
         "type": "scatter",
         "x": {
          "bdata": "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",
          "dtype": "f8"
         },
         "y": {
          "bdata": "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",
          "dtype": "f8"
         }
        }
       ],
       "layout": {
        "template": {
         "data": {
          "bar": [
           {
            "error_x": {
             "color": "#2a3f5f"
            },
            "error_y": {
             "color": "#2a3f5f"
            },
            "marker": {
             "line": {
              "color": "#E5ECF6",
              "width": 0.5
             },
             "pattern": {
              "fillmode": "overlay",
              "size": 10,
              "solidity": 0.2
             }
            },
            "type": "bar"
           }
          ],
          "barpolar": [
           {
            "marker": {
             "line": {
              "color": "#E5ECF6",
              "width": 0.5
             },
             "pattern": {
              "fillmode": "overlay",
              "size": 10,
              "solidity": 0.2
             }
            },
            "type": "barpolar"
           }
          ],
          "carpet": [
           {
            "aaxis": {
             "endlinecolor": "#2a3f5f",
             "gridcolor": "white",
             "linecolor": "white",
             "minorgridcolor": "white",
             "startlinecolor": "#2a3f5f"
            },
            "baxis": {
             "endlinecolor": "#2a3f5f",
             "gridcolor": "white",
             "linecolor": "white",
             "minorgridcolor": "white",
             "startlinecolor": "#2a3f5f"
            },
            "type": "carpet"
           }
          ],
          "choropleth": [
           {
            "colorbar": {
             "outlinewidth": 0,
             "ticks": ""
            },
            "type": "choropleth"
           }
          ],
          "contour": [
           {
            "colorbar": {
             "outlinewidth": 0,
             "ticks": ""
            },
            "colorscale": [
             [
              0,
              "#0d0887"
             ],
             [
              0.1111111111111111,
              "#46039f"
             ],
             [
              0.2222222222222222,
              "#7201a8"
             ],
             [
              0.3333333333333333,
              "#9c179e"
             ],
             [
              0.4444444444444444,
              "#bd3786"
             ],
             [
              0.5555555555555556,
              "#d8576b"
             ],
             [
              0.6666666666666666,
              "#ed7953"
             ],
             [
              0.7777777777777778,
              "#fb9f3a"
             ],
             [
              0.8888888888888888,
              "#fdca26"
             ],
             [
              1,
              "#f0f921"
             ]
            ],
            "type": "contour"
           }
          ],
          "contourcarpet": [
           {
            "colorbar": {
             "outlinewidth": 0,
             "ticks": ""
            },
            "type": "contourcarpet"
           }
          ],
          "heatmap": [
           {
            "colorbar": {
             "outlinewidth": 0,
             "ticks": ""
            },
            "colorscale": [
             [
              0,
              "#0d0887"
             ],
             [
              0.1111111111111111,
              "#46039f"
             ],
             [
              0.2222222222222222,
              "#7201a8"
             ],
             [
              0.3333333333333333,
              "#9c179e"
             ],
             [
              0.4444444444444444,
              "#bd3786"
             ],
             [
              0.5555555555555556,
              "#d8576b"
             ],
             [
              0.6666666666666666,
              "#ed7953"
             ],
             [
              0.7777777777777778,
              "#fb9f3a"
             ],
             [
              0.8888888888888888,
              "#fdca26"
             ],
             [
              1,
              "#f0f921"
             ]
            ],
            "type": "heatmap"
           }
          ],
          "histogram": [
           {
            "marker": {
             "pattern": {
              "fillmode": "overlay",
              "size": 10,
              "solidity": 0.2
             }
            },
            "type": "histogram"
           }
          ],
          "histogram2d": [
           {
            "colorbar": {
             "outlinewidth": 0,
             "ticks": ""
            },
            "colorscale": [
             [
              0,
              "#0d0887"
             ],
             [
              0.1111111111111111,
              "#46039f"
             ],
             [
              0.2222222222222222,
              "#7201a8"
             ],
             [
              0.3333333333333333,
              "#9c179e"
             ],
             [
              0.4444444444444444,
              "#bd3786"
             ],
             [
              0.5555555555555556,
              "#d8576b"
             ],
             [
              0.6666666666666666,
              "#ed7953"
             ],
             [
              0.7777777777777778,
              "#fb9f3a"
             ],
             [
              0.8888888888888888,
              "#fdca26"
             ],
             [
              1,
              "#f0f921"
             ]
            ],
            "type": "histogram2d"
           }
          ],
          "histogram2dcontour": [
           {
            "colorbar": {
             "outlinewidth": 0,
             "ticks": ""
            },
            "colorscale": [
             [
              0,
              "#0d0887"
             ],
             [
              0.1111111111111111,
              "#46039f"
             ],
             [
              0.2222222222222222,
              "#7201a8"
             ],
             [
              0.3333333333333333,
              "#9c179e"
             ],
             [
              0.4444444444444444,
              "#bd3786"
             ],
             [
              0.5555555555555556,
              "#d8576b"
             ],
             [
              0.6666666666666666,
              "#ed7953"
             ],
             [
              0.7777777777777778,
              "#fb9f3a"
             ],
             [
              0.8888888888888888,
              "#fdca26"
             ],
             [
              1,
              "#f0f921"
             ]
            ],
            "type": "histogram2dcontour"
           }
          ],
          "mesh3d": [
           {
            "colorbar": {
             "outlinewidth": 0,
             "ticks": ""
            },
            "type": "mesh3d"
           }
          ],
          "parcoords": [
           {
            "line": {
             "colorbar": {
              "outlinewidth": 0,
              "ticks": ""
             }
            },
            "type": "parcoords"
           }
          ],
          "pie": [
           {
            "automargin": true,
            "type": "pie"
           }
          ],
          "scatter": [
           {
            "fillpattern": {
             "fillmode": "overlay",
             "size": 10,
             "solidity": 0.2
            },
            "type": "scatter"
           }
          ],
          "scatter3d": [
           {
            "line": {
             "colorbar": {
              "outlinewidth": 0,
              "ticks": ""
             }
            },
            "marker": {
             "colorbar": {
              "outlinewidth": 0,
              "ticks": ""
             }
            },
            "type": "scatter3d"
           }
          ],
          "scattercarpet": [
           {
            "marker": {
             "colorbar": {
              "outlinewidth": 0,
              "ticks": ""
             }
            },
            "type": "scattercarpet"
           }
          ],
          "scattergeo": [
           {
            "marker": {
             "colorbar": {
              "outlinewidth": 0,
              "ticks": ""
             }
            },
            "type": "scattergeo"
           }
          ],
          "scattergl": [
           {
            "marker": {
             "colorbar": {
              "outlinewidth": 0,
              "ticks": ""
             }
            },
            "type": "scattergl"
           }
          ],
          "scattermap": [
           {
            "marker": {
             "colorbar": {
              "outlinewidth": 0,
              "ticks": ""
             }
            },
            "type": "scattermap"
           }
          ],
          "scattermapbox": [
           {
            "marker": {
             "colorbar": {
              "outlinewidth": 0,
              "ticks": ""
             }
            },
            "type": "scattermapbox"
           }
          ],
          "scatterpolar": [
           {
            "marker": {
             "colorbar": {
              "outlinewidth": 0,
              "ticks": ""
             }
            },
            "type": "scatterpolar"
           }
          ],
          "scatterpolargl": [
           {
            "marker": {
             "colorbar": {
              "outlinewidth": 0,
              "ticks": ""
             }
            },
            "type": "scatterpolargl"
           }
          ],
          "scatterternary": [
           {
            "marker": {
             "colorbar": {
              "outlinewidth": 0,
              "ticks": ""
             }
            },
            "type": "scatterternary"
           }
          ],
          "surface": [
           {
            "colorbar": {
             "outlinewidth": 0,
             "ticks": ""
            },
            "colorscale": [
             [
              0,
              "#0d0887"
             ],
             [
              0.1111111111111111,
              "#46039f"
             ],
             [
              0.2222222222222222,
              "#7201a8"
             ],
             [
              0.3333333333333333,
              "#9c179e"
             ],
             [
              0.4444444444444444,
              "#bd3786"
             ],
             [
              0.5555555555555556,
              "#d8576b"
             ],
             [
              0.6666666666666666,
              "#ed7953"
             ],
             [
              0.7777777777777778,
              "#fb9f3a"
             ],
             [
              0.8888888888888888,
              "#fdca26"
             ],
             [
              1,
              "#f0f921"
             ]
            ],
            "type": "surface"
           }
          ],
          "table": [
           {
            "cells": {
             "fill": {
              "color": "#EBF0F8"
             },
             "line": {
              "color": "white"
             }
            },
            "header": {
             "fill": {
              "color": "#C8D4E3"
             },
             "line": {
              "color": "white"
             }
            },
            "type": "table"
           }
          ]
         },
         "layout": {
          "annotationdefaults": {
           "arrowcolor": "#2a3f5f",
           "arrowhead": 0,
           "arrowwidth": 1
          },
          "autotypenumbers": "strict",
          "coloraxis": {
           "colorbar": {
            "outlinewidth": 0,
            "ticks": ""
           }
          },
          "colorscale": {
           "diverging": [
            [
             0,
             "#8e0152"
            ],
            [
             0.1,
             "#c51b7d"
            ],
            [
             0.2,
             "#de77ae"
            ],
            [
             0.3,
             "#f1b6da"
            ],
            [
             0.4,
             "#fde0ef"
            ],
            [
             0.5,
             "#f7f7f7"
            ],
            [
             0.6,
             "#e6f5d0"
            ],
            [
             0.7,
             "#b8e186"
            ],
            [
             0.8,
             "#7fbc41"
            ],
            [
             0.9,
             "#4d9221"
            ],
            [
             1,
             "#276419"
            ]
           ],
           "sequential": [
            [
             0,
             "#0d0887"
            ],
            [
             0.1111111111111111,
             "#46039f"
            ],
            [
             0.2222222222222222,
             "#7201a8"
            ],
            [
             0.3333333333333333,
             "#9c179e"
            ],
            [
             0.4444444444444444,
             "#bd3786"
            ],
            [
             0.5555555555555556,
             "#d8576b"
            ],
            [
             0.6666666666666666,
             "#ed7953"
            ],
            [
             0.7777777777777778,
             "#fb9f3a"
            ],
            [
             0.8888888888888888,
             "#fdca26"
            ],
            [
             1,
             "#f0f921"
            ]
           ],
           "sequentialminus": [
            [
             0,
             "#0d0887"
            ],
            [
             0.1111111111111111,
             "#46039f"
            ],
            [
             0.2222222222222222,
             "#7201a8"
            ],
            [
             0.3333333333333333,
             "#9c179e"
            ],
            [
             0.4444444444444444,
             "#bd3786"
            ],
            [
             0.5555555555555556,
             "#d8576b"
            ],
            [
             0.6666666666666666,
             "#ed7953"
            ],
            [
             0.7777777777777778,
             "#fb9f3a"
            ],
            [
             0.8888888888888888,
             "#fdca26"
            ],
            [
             1,
             "#f0f921"
            ]
           ]
          },
          "colorway": [
           "#636efa",
           "#EF553B",
           "#00cc96",
           "#ab63fa",
           "#FFA15A",
           "#19d3f3",
           "#FF6692",
           "#B6E880",
           "#FF97FF",
           "#FECB52"
          ],
          "font": {
           "color": "#2a3f5f"
          },
          "geo": {
           "bgcolor": "white",
           "lakecolor": "white",
           "landcolor": "#E5ECF6",
           "showlakes": true,
           "showland": true,
           "subunitcolor": "white"
          },
          "hoverlabel": {
           "align": "left"
          },
          "hovermode": "closest",
          "mapbox": {
           "style": "light"
          },
          "paper_bgcolor": "white",
          "plot_bgcolor": "#E5ECF6",
          "polar": {
           "angularaxis": {
            "gridcolor": "white",
            "linecolor": "white",
            "ticks": ""
           },
           "bgcolor": "#E5ECF6",
           "radialaxis": {
            "gridcolor": "white",
            "linecolor": "white",
            "ticks": ""
           }
          },
          "scene": {
           "xaxis": {
            "backgroundcolor": "#E5ECF6",
            "gridcolor": "white",
            "gridwidth": 2,
            "linecolor": "white",
            "showbackground": true,
            "ticks": "",
            "zerolinecolor": "white"
           },
           "yaxis": {
            "backgroundcolor": "#E5ECF6",
            "gridcolor": "white",
            "gridwidth": 2,
            "linecolor": "white",
            "showbackground": true,
            "ticks": "",
            "zerolinecolor": "white"
           },
           "zaxis": {
            "backgroundcolor": "#E5ECF6",
            "gridcolor": "white",
            "gridwidth": 2,
            "linecolor": "white",
            "showbackground": true,
            "ticks": "",
            "zerolinecolor": "white"
           }
          },
          "shapedefaults": {
           "line": {
            "color": "#2a3f5f"
           }
          },
          "ternary": {
           "aaxis": {
            "gridcolor": "white",
            "linecolor": "white",
            "ticks": ""
           },
           "baxis": {
            "gridcolor": "white",
            "linecolor": "white",
            "ticks": ""
           },
           "bgcolor": "#E5ECF6",
           "caxis": {
            "gridcolor": "white",
            "linecolor": "white",
            "ticks": ""
           }
          },
          "title": {
           "x": 0.05
          },
          "xaxis": {
           "automargin": true,
           "gridcolor": "white",
           "linecolor": "white",
           "ticks": "",
           "title": {
            "standoff": 15
           },
           "zerolinecolor": "white",
           "zerolinewidth": 2
          },
          "yaxis": {
           "automargin": true,
           "gridcolor": "white",
           "linecolor": "white",
           "ticks": "",
           "title": {
            "standoff": 15
           },
           "zerolinecolor": "white",
           "zerolinewidth": 2
          }
         }
        }
       }
      }
     },
     "metadata": {},
     "output_type": "display_data"
    }
   ],
   "source": [
    "fig = go.Figure()\n",
    "\n",
    "size_attr = np.array([sizes[lm] for lm in landmark_ids])\n",
    "fig.add_trace(go.Scatter(x=landmark_coords[:,0], y=landmark_coords[:,1],\n",
    "                            mode='markers',\n",
    "                            marker=dict(size=size_attr, color='skyblue', opacity=0.3, line=dict(width=1, color='DarkSlateGrey')),\n",
    "                           \n",
    "                            name='Landmarks'))\n",
    "fig.add_trace(go.Scatter(x=landmark_coords[:,0], y=landmark_coords[:,1],\n",
    "                            mode='markers',\n",
    "                            marker=dict(size=2, color='black'),\n",
    "                            name='Landmarks'))\n",
    "fig.show()\n",
    "\n"
   ]
  },
  {
   "cell_type": "code",
   "execution_count": null,
   "id": "7e83f76d",
   "metadata": {},
   "outputs": [],
   "source": [
    "\"\"\"\n",
    "X = original_data\n",
    "\n",
    "for level in hierarchy_levels:\n",
    "    indices, P = compute_probabilities(X, k=level.k)\n",
    "    landmark_ids, visits = select_landmarks(X, num_landmarks=level.num_landmarks, k=level.k)\n",
    "    \n",
    "    DRNH = compute_dissimilarity(X, landmark_ids, beta=level.beta)\n",
    "    embedding = generate_embedding(DRNH)\n",
    "    \n",
    "    associations = associate_landmarks(X, landmark_ids)\n",
    "    X = X[landmark_ids]  # 次の階層の入力はランドマーク\n",
    "\n",
    "\"\"\""
   ]
  }
 ],
 "metadata": {
  "kernelspec": {
   "display_name": "Python 3",
   "language": "python",
   "name": "python3"
  },
  "language_info": {
   "codemirror_mode": {
    "name": "ipython",
    "version": 3
   },
   "file_extension": ".py",
   "mimetype": "text/x-python",
   "name": "python",
   "nbconvert_exporter": "python",
   "pygments_lexer": "ipython3",
   "version": "3.12.0"
  }
 },
 "nbformat": 4,
 "nbformat_minor": 5
}
