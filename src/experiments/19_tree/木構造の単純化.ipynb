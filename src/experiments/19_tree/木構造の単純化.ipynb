{
 "cells": [
  {
   "cell_type": "markdown",
   "id": "ad193365",
   "metadata": {},
   "source": [
    "木構造の形式( Linkage Matrix )"
   ]
  },
  {
   "cell_type": "code",
   "execution_count": null,
   "id": "8d12869a",
   "metadata": {},
   "outputs": [],
   "source": [
    "tree_object = {\n",
    "    \"name\": \"Root\",\n",
    "    \"children\": [\n",
    "        {\"name\": \"A\", \"children\": [\n",
    "            {\"name\": \"C\", \"size\": 10},\n",
    "            {\"name\": \"D\", \"size\": 5}\n",
    "        ]},\n",
    "        {\"name\": \"B\", \"children\": [\n",
    "            {\"name\": \"E\", \"size\": 15}\n",
    "        ]}\n",
    "    ],\n",
    "    \"size\": 30\n",
    "}"
   ]
  },
  {
   "cell_type": "code",
   "execution_count": 1,
   "id": "1f1b1c08",
   "metadata": {},
   "outputs": [],
   "source": [
    "import numpy as np\n",
    "\n",
    "# 例：5つの要素(0-4)を持つ簡単な階層的クラスタリングの結果\n",
    "# 5要素 -> 4回のマージ\n",
    "# Z = [[u, v, distance, count], ...]\n",
    "linkage_matrix = np.array([\n",
    "    [0., 1., 0.1, 2.],  # 0と1が距離0.1でマージ (サイズ2) -> 新しいクラスター5\n",
    "    [2., 3., 0.2, 2.],  # 2と3が距離0.2でマージ (サイズ2) -> 新しいクラスター6\n",
    "    [4., 5., 0.5, 3.],  # 4とクラスター5が距離0.5でマージ (サイズ3) -> 新しいクラスター7\n",
    "    [6., 7., 1.0, 5.]   # クラスター6とクラスター7が距離1.0でマージ (サイズ5) -> ルート\n",
    "])\n",
    "# pandas形式\n",
    "import pandas as pd\n",
    "linkage_df = pd.DataFrame(linkage_matrix, columns=['u', 'v', 'distance', 'count'])"
   ]
  },
  {
   "cell_type": "markdown",
   "id": "9f6652b8",
   "metadata": {},
   "source": [
    "# 木構造を単純化する関数\n",
    "Linkage Matrix -> Linkage Matrix"
   ]
  },
  {
   "cell_type": "markdown",
   "id": "876cfdf4",
   "metadata": {},
   "source": [
    "# デンドログラム描画"
   ]
  },
  {
   "cell_type": "code",
   "execution_count": 2,
   "id": "e4655a36",
   "metadata": {},
   "outputs": [
    {
     "name": "stdout",
     "output_type": "stream",
     "text": [
      "Total Segments: 12\n",
      "\n",
      "--- First 3 Segments (x-y coordinates) ---\n",
      "Segment 1: [(5.0, 0.0), (5.0, 0.2)]\n",
      "Segment 2: [(5.0, 0.2), (15.0, 0.2)]\n",
      "Segment 3: [(15.0, 0.0), (15.0, 0.2)]\n"
     ]
    }
   ],
   "source": [
    "from scipy.cluster.hierarchy import dendrogram\n",
    "import matplotlib.pyplot as plt\n",
    "\n",
    "# 描画はmatplotlibに依存しますが、座標データ（'icoord', 'dcoord'）は\n",
    "# どの描画ライブラリでも利用できます。\n",
    "\n",
    "def get_dendrogram_segments(Z: np.ndarray):\n",
    "    \"\"\"\n",
    "    Linkage Matrixからデンドログラム描画に必要な座標データを取得します。\n",
    "    \"\"\"\n",
    "    # 実際には可視化しないが、座標計算のために呼び出す\n",
    "    # no_plot=True を指定すると、描画はスキップされる\n",
    "    dendro_data = dendrogram(Z, no_plot=True)\n",
    "    \n",
    "    # 'icoord': 各結合の水平方向の座標 (x座標)\n",
    "    # 'dcoord': 各結合の垂直方向の座標 (y座標、結合距離)\n",
    "    # これらは描画するV字/逆U字のセグメントを定義します。\n",
    "    \n",
    "    segments = []\n",
    "    \n",
    "    # icoord, dcoord は (4, K) の配列で、Kは結合の数 (N-1)\n",
    "    # 各 i は (x1, x2, x3, x4) の座標リスト\n",
    "    for icoords, dcoords in zip(dendro_data['icoord'], dendro_data['dcoord']):\n",
    "        # (x1, y1), (x2, y2), (x3, y3), (x4, y4) がセグメントの頂点\n",
    "        x1, x2, x3, x4 = icoords\n",
    "        y1, y2, y3, y4 = dcoords\n",
    "        \n",
    "        # 1. 垂直線 (左の子ノードから結合点まで)\n",
    "        segments.append([(x1, y1), (x2, y2)]) \n",
    "        # 2. 水平線 (結合したノード間)\n",
    "        segments.append([(x2, y2), (x3, y3)]) \n",
    "        # 3. 垂直線 (右の子ノードから結合点まで)\n",
    "        segments.append([(x4, y4), (x3, y3)]) \n",
    "    \n",
    "    # segments は [[[x_start, y_start], [x_end, y_end]], ...] のリストになる\n",
    "    return segments\n",
    "\n",
    "# 座標を取得\n",
    "segments = get_dendrogram_segments(linkage_matrix)\n",
    "\n",
    "print(f\"Total Segments: {len(segments)}\")\n",
    "# 最初の3つのセグメントを表示 (最初のマージに対応)\n",
    "print(\"\\n--- First 3 Segments (x-y coordinates) ---\")\n",
    "for i, seg in enumerate(segments[:3]):\n",
    "    print(f\"Segment {i+1}: {seg}\")"
   ]
  },
  {
   "cell_type": "code",
   "execution_count": 4,
   "id": "8a8cda22",
   "metadata": {},
   "outputs": [
    {
     "data": {
      "application/vnd.plotly.v1+json": {
       "config": {
        "plotlyServerURL": "https://plot.ly"
       },
       "data": [
        {
         "line": {
          "color": "blue",
          "width": 2
         },
         "mode": "lines",
         "showlegend": false,
         "type": "scatter",
         "x": [
          5,
          5
         ],
         "y": [
          0,
          0.2
         ]
        },
        {
         "line": {
          "color": "blue",
          "width": 2
         },
         "mode": "lines",
         "showlegend": false,
         "type": "scatter",
         "x": [
          5,
          15
         ],
         "y": [
          0.2,
          0.2
         ]
        },
        {
         "line": {
          "color": "blue",
          "width": 2
         },
         "mode": "lines",
         "showlegend": false,
         "type": "scatter",
         "x": [
          15,
          15
         ],
         "y": [
          0,
          0.2
         ]
        },
        {
         "line": {
          "color": "blue",
          "width": 2
         },
         "mode": "lines",
         "showlegend": false,
         "type": "scatter",
         "x": [
          35,
          35
         ],
         "y": [
          0,
          0.1
         ]
        },
        {
         "line": {
          "color": "blue",
          "width": 2
         },
         "mode": "lines",
         "showlegend": false,
         "type": "scatter",
         "x": [
          35,
          45
         ],
         "y": [
          0.1,
          0.1
         ]
        },
        {
         "line": {
          "color": "blue",
          "width": 2
         },
         "mode": "lines",
         "showlegend": false,
         "type": "scatter",
         "x": [
          45,
          45
         ],
         "y": [
          0,
          0.1
         ]
        },
        {
         "line": {
          "color": "blue",
          "width": 2
         },
         "mode": "lines",
         "showlegend": false,
         "type": "scatter",
         "x": [
          25,
          25
         ],
         "y": [
          0,
          0.5
         ]
        },
        {
         "line": {
          "color": "blue",
          "width": 2
         },
         "mode": "lines",
         "showlegend": false,
         "type": "scatter",
         "x": [
          25,
          40
         ],
         "y": [
          0.5,
          0.5
         ]
        },
        {
         "line": {
          "color": "blue",
          "width": 2
         },
         "mode": "lines",
         "showlegend": false,
         "type": "scatter",
         "x": [
          40,
          40
         ],
         "y": [
          0.1,
          0.5
         ]
        },
        {
         "line": {
          "color": "blue",
          "width": 2
         },
         "mode": "lines",
         "showlegend": false,
         "type": "scatter",
         "x": [
          10,
          10
         ],
         "y": [
          0.2,
          1
         ]
        },
        {
         "line": {
          "color": "blue",
          "width": 2
         },
         "mode": "lines",
         "showlegend": false,
         "type": "scatter",
         "x": [
          10,
          32.5
         ],
         "y": [
          1,
          1
         ]
        },
        {
         "line": {
          "color": "blue",
          "width": 2
         },
         "mode": "lines",
         "showlegend": false,
         "type": "scatter",
         "x": [
          32.5,
          32.5
         ],
         "y": [
          0.5,
          1
         ]
        }
       ],
       "layout": {
        "hovermode": "closest",
        "template": {
         "data": {
          "bar": [
           {
            "error_x": {
             "color": "#2a3f5f"
            },
            "error_y": {
             "color": "#2a3f5f"
            },
            "marker": {
             "line": {
              "color": "#E5ECF6",
              "width": 0.5
             },
             "pattern": {
              "fillmode": "overlay",
              "size": 10,
              "solidity": 0.2
             }
            },
            "type": "bar"
           }
          ],
          "barpolar": [
           {
            "marker": {
             "line": {
              "color": "#E5ECF6",
              "width": 0.5
             },
             "pattern": {
              "fillmode": "overlay",
              "size": 10,
              "solidity": 0.2
             }
            },
            "type": "barpolar"
           }
          ],
          "carpet": [
           {
            "aaxis": {
             "endlinecolor": "#2a3f5f",
             "gridcolor": "white",
             "linecolor": "white",
             "minorgridcolor": "white",
             "startlinecolor": "#2a3f5f"
            },
            "baxis": {
             "endlinecolor": "#2a3f5f",
             "gridcolor": "white",
             "linecolor": "white",
             "minorgridcolor": "white",
             "startlinecolor": "#2a3f5f"
            },
            "type": "carpet"
           }
          ],
          "choropleth": [
           {
            "colorbar": {
             "outlinewidth": 0,
             "ticks": ""
            },
            "type": "choropleth"
           }
          ],
          "contour": [
           {
            "colorbar": {
             "outlinewidth": 0,
             "ticks": ""
            },
            "colorscale": [
             [
              0,
              "#0d0887"
             ],
             [
              0.1111111111111111,
              "#46039f"
             ],
             [
              0.2222222222222222,
              "#7201a8"
             ],
             [
              0.3333333333333333,
              "#9c179e"
             ],
             [
              0.4444444444444444,
              "#bd3786"
             ],
             [
              0.5555555555555556,
              "#d8576b"
             ],
             [
              0.6666666666666666,
              "#ed7953"
             ],
             [
              0.7777777777777778,
              "#fb9f3a"
             ],
             [
              0.8888888888888888,
              "#fdca26"
             ],
             [
              1,
              "#f0f921"
             ]
            ],
            "type": "contour"
           }
          ],
          "contourcarpet": [
           {
            "colorbar": {
             "outlinewidth": 0,
             "ticks": ""
            },
            "type": "contourcarpet"
           }
          ],
          "heatmap": [
           {
            "colorbar": {
             "outlinewidth": 0,
             "ticks": ""
            },
            "colorscale": [
             [
              0,
              "#0d0887"
             ],
             [
              0.1111111111111111,
              "#46039f"
             ],
             [
              0.2222222222222222,
              "#7201a8"
             ],
             [
              0.3333333333333333,
              "#9c179e"
             ],
             [
              0.4444444444444444,
              "#bd3786"
             ],
             [
              0.5555555555555556,
              "#d8576b"
             ],
             [
              0.6666666666666666,
              "#ed7953"
             ],
             [
              0.7777777777777778,
              "#fb9f3a"
             ],
             [
              0.8888888888888888,
              "#fdca26"
             ],
             [
              1,
              "#f0f921"
             ]
            ],
            "type": "heatmap"
           }
          ],
          "histogram": [
           {
            "marker": {
             "pattern": {
              "fillmode": "overlay",
              "size": 10,
              "solidity": 0.2
             }
            },
            "type": "histogram"
           }
          ],
          "histogram2d": [
           {
            "colorbar": {
             "outlinewidth": 0,
             "ticks": ""
            },
            "colorscale": [
             [
              0,
              "#0d0887"
             ],
             [
              0.1111111111111111,
              "#46039f"
             ],
             [
              0.2222222222222222,
              "#7201a8"
             ],
             [
              0.3333333333333333,
              "#9c179e"
             ],
             [
              0.4444444444444444,
              "#bd3786"
             ],
             [
              0.5555555555555556,
              "#d8576b"
             ],
             [
              0.6666666666666666,
              "#ed7953"
             ],
             [
              0.7777777777777778,
              "#fb9f3a"
             ],
             [
              0.8888888888888888,
              "#fdca26"
             ],
             [
              1,
              "#f0f921"
             ]
            ],
            "type": "histogram2d"
           }
          ],
          "histogram2dcontour": [
           {
            "colorbar": {
             "outlinewidth": 0,
             "ticks": ""
            },
            "colorscale": [
             [
              0,
              "#0d0887"
             ],
             [
              0.1111111111111111,
              "#46039f"
             ],
             [
              0.2222222222222222,
              "#7201a8"
             ],
             [
              0.3333333333333333,
              "#9c179e"
             ],
             [
              0.4444444444444444,
              "#bd3786"
             ],
             [
              0.5555555555555556,
              "#d8576b"
             ],
             [
              0.6666666666666666,
              "#ed7953"
             ],
             [
              0.7777777777777778,
              "#fb9f3a"
             ],
             [
              0.8888888888888888,
              "#fdca26"
             ],
             [
              1,
              "#f0f921"
             ]
            ],
            "type": "histogram2dcontour"
           }
          ],
          "mesh3d": [
           {
            "colorbar": {
             "outlinewidth": 0,
             "ticks": ""
            },
            "type": "mesh3d"
           }
          ],
          "parcoords": [
           {
            "line": {
             "colorbar": {
              "outlinewidth": 0,
              "ticks": ""
             }
            },
            "type": "parcoords"
           }
          ],
          "pie": [
           {
            "automargin": true,
            "type": "pie"
           }
          ],
          "scatter": [
           {
            "fillpattern": {
             "fillmode": "overlay",
             "size": 10,
             "solidity": 0.2
            },
            "type": "scatter"
           }
          ],
          "scatter3d": [
           {
            "line": {
             "colorbar": {
              "outlinewidth": 0,
              "ticks": ""
             }
            },
            "marker": {
             "colorbar": {
              "outlinewidth": 0,
              "ticks": ""
             }
            },
            "type": "scatter3d"
           }
          ],
          "scattercarpet": [
           {
            "marker": {
             "colorbar": {
              "outlinewidth": 0,
              "ticks": ""
             }
            },
            "type": "scattercarpet"
           }
          ],
          "scattergeo": [
           {
            "marker": {
             "colorbar": {
              "outlinewidth": 0,
              "ticks": ""
             }
            },
            "type": "scattergeo"
           }
          ],
          "scattergl": [
           {
            "marker": {
             "colorbar": {
              "outlinewidth": 0,
              "ticks": ""
             }
            },
            "type": "scattergl"
           }
          ],
          "scattermap": [
           {
            "marker": {
             "colorbar": {
              "outlinewidth": 0,
              "ticks": ""
             }
            },
            "type": "scattermap"
           }
          ],
          "scattermapbox": [
           {
            "marker": {
             "colorbar": {
              "outlinewidth": 0,
              "ticks": ""
             }
            },
            "type": "scattermapbox"
           }
          ],
          "scatterpolar": [
           {
            "marker": {
             "colorbar": {
              "outlinewidth": 0,
              "ticks": ""
             }
            },
            "type": "scatterpolar"
           }
          ],
          "scatterpolargl": [
           {
            "marker": {
             "colorbar": {
              "outlinewidth": 0,
              "ticks": ""
             }
            },
            "type": "scatterpolargl"
           }
          ],
          "scatterternary": [
           {
            "marker": {
             "colorbar": {
              "outlinewidth": 0,
              "ticks": ""
             }
            },
            "type": "scatterternary"
           }
          ],
          "surface": [
           {
            "colorbar": {
             "outlinewidth": 0,
             "ticks": ""
            },
            "colorscale": [
             [
              0,
              "#0d0887"
             ],
             [
              0.1111111111111111,
              "#46039f"
             ],
             [
              0.2222222222222222,
              "#7201a8"
             ],
             [
              0.3333333333333333,
              "#9c179e"
             ],
             [
              0.4444444444444444,
              "#bd3786"
             ],
             [
              0.5555555555555556,
              "#d8576b"
             ],
             [
              0.6666666666666666,
              "#ed7953"
             ],
             [
              0.7777777777777778,
              "#fb9f3a"
             ],
             [
              0.8888888888888888,
              "#fdca26"
             ],
             [
              1,
              "#f0f921"
             ]
            ],
            "type": "surface"
           }
          ],
          "table": [
           {
            "cells": {
             "fill": {
              "color": "#EBF0F8"
             },
             "line": {
              "color": "white"
             }
            },
            "header": {
             "fill": {
              "color": "#C8D4E3"
             },
             "line": {
              "color": "white"
             }
            },
            "type": "table"
           }
          ]
         },
         "layout": {
          "annotationdefaults": {
           "arrowcolor": "#2a3f5f",
           "arrowhead": 0,
           "arrowwidth": 1
          },
          "autotypenumbers": "strict",
          "coloraxis": {
           "colorbar": {
            "outlinewidth": 0,
            "ticks": ""
           }
          },
          "colorscale": {
           "diverging": [
            [
             0,
             "#8e0152"
            ],
            [
             0.1,
             "#c51b7d"
            ],
            [
             0.2,
             "#de77ae"
            ],
            [
             0.3,
             "#f1b6da"
            ],
            [
             0.4,
             "#fde0ef"
            ],
            [
             0.5,
             "#f7f7f7"
            ],
            [
             0.6,
             "#e6f5d0"
            ],
            [
             0.7,
             "#b8e186"
            ],
            [
             0.8,
             "#7fbc41"
            ],
            [
             0.9,
             "#4d9221"
            ],
            [
             1,
             "#276419"
            ]
           ],
           "sequential": [
            [
             0,
             "#0d0887"
            ],
            [
             0.1111111111111111,
             "#46039f"
            ],
            [
             0.2222222222222222,
             "#7201a8"
            ],
            [
             0.3333333333333333,
             "#9c179e"
            ],
            [
             0.4444444444444444,
             "#bd3786"
            ],
            [
             0.5555555555555556,
             "#d8576b"
            ],
            [
             0.6666666666666666,
             "#ed7953"
            ],
            [
             0.7777777777777778,
             "#fb9f3a"
            ],
            [
             0.8888888888888888,
             "#fdca26"
            ],
            [
             1,
             "#f0f921"
            ]
           ],
           "sequentialminus": [
            [
             0,
             "#0d0887"
            ],
            [
             0.1111111111111111,
             "#46039f"
            ],
            [
             0.2222222222222222,
             "#7201a8"
            ],
            [
             0.3333333333333333,
             "#9c179e"
            ],
            [
             0.4444444444444444,
             "#bd3786"
            ],
            [
             0.5555555555555556,
             "#d8576b"
            ],
            [
             0.6666666666666666,
             "#ed7953"
            ],
            [
             0.7777777777777778,
             "#fb9f3a"
            ],
            [
             0.8888888888888888,
             "#fdca26"
            ],
            [
             1,
             "#f0f921"
            ]
           ]
          },
          "colorway": [
           "#636efa",
           "#EF553B",
           "#00cc96",
           "#ab63fa",
           "#FFA15A",
           "#19d3f3",
           "#FF6692",
           "#B6E880",
           "#FF97FF",
           "#FECB52"
          ],
          "font": {
           "color": "#2a3f5f"
          },
          "geo": {
           "bgcolor": "white",
           "lakecolor": "white",
           "landcolor": "#E5ECF6",
           "showlakes": true,
           "showland": true,
           "subunitcolor": "white"
          },
          "hoverlabel": {
           "align": "left"
          },
          "hovermode": "closest",
          "mapbox": {
           "style": "light"
          },
          "paper_bgcolor": "white",
          "plot_bgcolor": "#E5ECF6",
          "polar": {
           "angularaxis": {
            "gridcolor": "white",
            "linecolor": "white",
            "ticks": ""
           },
           "bgcolor": "#E5ECF6",
           "radialaxis": {
            "gridcolor": "white",
            "linecolor": "white",
            "ticks": ""
           }
          },
          "scene": {
           "xaxis": {
            "backgroundcolor": "#E5ECF6",
            "gridcolor": "white",
            "gridwidth": 2,
            "linecolor": "white",
            "showbackground": true,
            "ticks": "",
            "zerolinecolor": "white"
           },
           "yaxis": {
            "backgroundcolor": "#E5ECF6",
            "gridcolor": "white",
            "gridwidth": 2,
            "linecolor": "white",
            "showbackground": true,
            "ticks": "",
            "zerolinecolor": "white"
           },
           "zaxis": {
            "backgroundcolor": "#E5ECF6",
            "gridcolor": "white",
            "gridwidth": 2,
            "linecolor": "white",
            "showbackground": true,
            "ticks": "",
            "zerolinecolor": "white"
           }
          },
          "shapedefaults": {
           "line": {
            "color": "#2a3f5f"
           }
          },
          "ternary": {
           "aaxis": {
            "gridcolor": "white",
            "linecolor": "white",
            "ticks": ""
           },
           "baxis": {
            "gridcolor": "white",
            "linecolor": "white",
            "ticks": ""
           },
           "bgcolor": "#E5ECF6",
           "caxis": {
            "gridcolor": "white",
            "linecolor": "white",
            "ticks": ""
           }
          },
          "title": {
           "x": 0.05
          },
          "xaxis": {
           "automargin": true,
           "gridcolor": "white",
           "linecolor": "white",
           "ticks": "",
           "title": {
            "standoff": 15
           },
           "zerolinecolor": "white",
           "zerolinewidth": 2
          },
          "yaxis": {
           "automargin": true,
           "gridcolor": "white",
           "linecolor": "white",
           "ticks": "",
           "title": {
            "standoff": 15
           },
           "zerolinecolor": "white",
           "zerolinewidth": 2
          }
         }
        },
        "title": {
         "text": "Simple Dendrogram Visualization"
        },
        "xaxis": {
         "title": {
          "text": "Observation Index"
         }
        },
        "yaxis": {
         "title": {
          "text": "Distance / Height"
         }
        }
       }
      }
     },
     "metadata": {},
     "output_type": "display_data"
    }
   ],
   "source": [
    "import plotly.graph_objects as go\n",
    "# scipyがない環境でも動くように、linkage_matrixを再定義\n",
    "linkage_matrix_simple = np.array([\n",
    "    [0., 1., 0.1, 2.],\n",
    "    [2., 3., 0.2, 2.],\n",
    "    [4., 5., 0.5, 3.],\n",
    "    [6., 7., 1.0, 5.]\n",
    "])\n",
    "segments_simple = get_dendrogram_segments(linkage_matrix_simple)\n",
    "\n",
    "def plot_dendrogram_plotly(segments):\n",
    "    fig = go.Figure()\n",
    "    \n",
    "    for seg in segments:\n",
    "        # seg は [[x_start, y_start], [x_end, y_end]]\n",
    "        x_coords = [seg[0][0], seg[1][0]]\n",
    "        y_coords = [seg[0][1], seg[1][1]]\n",
    "        \n",
    "        fig.add_trace(go.Scatter(\n",
    "            x=x_coords, \n",
    "            y=y_coords, \n",
    "            mode='lines',\n",
    "            line=dict(color='blue', width=2),\n",
    "            showlegend=False\n",
    "        ))\n",
    "    \n",
    "    fig.update_layout(\n",
    "        title='Simple Dendrogram Visualization',\n",
    "        xaxis_title='Observation Index',\n",
    "        yaxis_title='Distance / Height',\n",
    "        hovermode='closest'\n",
    "    )\n",
    "    # fig.show() # 実行環境によっては直接表示\n",
    "    \n",
    "    # 葉ノードに名前を付ける場合は、dendrogram_data['leaves']と葉のy=0の座標を計算する必要があります。\n",
    "    return fig\n",
    "\n",
    "plot_dendrogram_plotly(segments_simple)"
   ]
  },
  {
   "cell_type": "markdown",
   "id": "671312f6",
   "metadata": {},
   "source": []
  },
  {
   "cell_type": "code",
   "execution_count": 5,
   "id": "ce8dc00e",
   "metadata": {},
   "outputs": [
    {
     "name": "stdout",
     "output_type": "stream",
     "text": [
      "--- 標準 Linkage Matrix (入力) ---\n",
      "[[0.  1.  0.1 2. ]\n",
      " [2.  3.  0.2 2. ]\n",
      " [4.  5.  0.5 3. ]\n",
      " [6.  7.  1.  5. ]]\n"
     ]
    }
   ],
   "source": [
    "import numpy as np\n",
    "\n",
    "# 標準 Linkage Matrix (N-1 x 4)\n",
    "# [u, v, distance, count]\n",
    "# HDBSCANのcondensed_tree_から距離(lambda_merge)とサイズを抽出したものを想定\n",
    "Z_standard = np.array([\n",
    "    [0., 1., 0.1, 2.],  # 距離0.1でマージ\n",
    "    [2., 3., 0.2, 2.],  # 距離0.2でマージ\n",
    "    [4., 5., 0.5, 3.],  # 距離0.5でマージ\n",
    "    [6., 7., 1.0, 5.]   # 距離1.0でマージ (Root)\n",
    "])\n",
    "\n",
    "print(\"--- 標準 Linkage Matrix (入力) ---\")\n",
    "print(Z_standard)"
   ]
  },
  {
   "cell_type": "code",
   "execution_count": 6,
   "id": "bfe64f51",
   "metadata": {},
   "outputs": [
    {
     "name": "stdout",
     "output_type": "stream",
     "text": [
      "\n",
      "--- 拡張 Linkage Matrix (出力: 5列) ---\n",
      "[u, v, distance, count, Importance Score]\n",
      "[[0.         1.         0.1        2.         1.        ]\n",
      " [2.         3.         0.2        2.         0.44444444]\n",
      " [4.         5.         0.5        3.         0.11111111]\n",
      " [6.         7.         1.         5.         0.        ]]\n"
     ]
    }
   ],
   "source": [
    "def calculate_branch_importance(Z_standard: np.ndarray) -> np.ndarray:\n",
    "    \"\"\"\n",
    "    標準Linkage Matrix (4列) を受け取り、枝の重要度スコアを計算して5列目に追加します。\n",
    "\n",
    "    Args:\n",
    "        Z_standard (np.ndarray): 標準Linkage Matrix (N-1 x 4)。\n",
    "\n",
    "    Returns:\n",
    "        np.ndarray: 枝の重要度 (5列目) が追加された拡張 Linkage Matrix (N-1 x 5)。\n",
    "    \"\"\"\n",
    "    \n",
    "    # 1. 結合距離 (lambda_merge) を取得\n",
    "    lambda_merge = Z_standard[:, 2]\n",
    "    \n",
    "    # 2. 重要度スコアを計算 (ここでは、lambdaの逆数をスコアとする)\n",
    "    # 0除算を避けるため、lambdaが非常に小さい場合は最大値を適用するなどの処理が必要ですが、\n",
    "    # シンプルに逆数を計算します。\n",
    "    # HDBSCANではlambdaは常に正の値です。\n",
    "    \n",
    "    # ノードがマージされていない（lambda=0）場合はスコアを非常に高く設定\n",
    "    # lambda_merge の最小値が 0 でないことを確認 (Linkage Matrixの性質上、通常は > 0)\n",
    "    \n",
    "    # スコア: lambda_mergeの逆数\n",
    "    importance_scores = 1.0 / lambda_merge\n",
    "    \n",
    "    # スコアを正規化 (0から1に収める)\n",
    "    min_score = importance_scores.min()\n",
    "    max_score = importance_scores.max()\n",
    "    \n",
    "    # スコアの範囲が0になることを防ぐため、epsilonを使用\n",
    "    epsilon = 1e-8\n",
    "    normalized_scores = (importance_scores - min_score) / (max_score - min_score + epsilon)\n",
    "    \n",
    "    # 3. 元の行列とスコアを結合\n",
    "    importance_column = normalized_scores.reshape(-1, 1)\n",
    "    Z_extended = np.hstack((Z_standard, importance_column))\n",
    "    \n",
    "    return Z_extended\n",
    "\n",
    "# 重要度スコアを計算して拡張\n",
    "Z_extended = calculate_branch_importance(Z_standard)\n",
    "\n",
    "print(\"\\n--- 拡張 Linkage Matrix (出力: 5列) ---\")\n",
    "print(\"[u, v, distance, count, Importance Score]\")\n",
    "print(Z_extended)"
   ]
  },
  {
   "cell_type": "code",
   "execution_count": 10,
   "id": "dd8c7471",
   "metadata": {},
   "outputs": [
    {
     "name": "stderr",
     "output_type": "stream",
     "text": [
      "<>:108: SyntaxWarning:\n",
      "\n",
      "invalid escape sequence '\\l'\n",
      "\n",
      "<>:108: SyntaxWarning:\n",
      "\n",
      "invalid escape sequence '\\l'\n",
      "\n",
      "/var/folders/1c/qdf4nqm509d9141_p9425mcc0000gn/T/ipykernel_3218/3959480060.py:108: SyntaxWarning:\n",
      "\n",
      "invalid escape sequence '\\l'\n",
      "\n"
     ]
    }
   ],
   "source": [
    "import numpy as np\n",
    "from scipy.cluster.hierarchy import dendrogram\n",
    "import plotly.graph_objects as go\n",
    "import matplotlib.pyplot as plt # dendrogramの座標計算に必要\n",
    "\n",
    "# --- 準備：以前の関数とデータ ---\n",
    "\n",
    "def calculate_branch_importance(Z_standard: np.ndarray) -> np.ndarray:\n",
    "    \"\"\"枝の重要度スコアを計算して5列目に追加する (ここではlambdaの逆数を正規化)。\"\"\"\n",
    "    lambda_merge = Z_standard[:, 2]\n",
    "    \n",
    "    # 0除算を避けるための処理\n",
    "    lambda_merge_safe = np.where(lambda_merge == 0, 1e-8, lambda_merge)\n",
    "    \n",
    "    importance_scores = 1.0 / lambda_merge_safe\n",
    "    \n",
    "    min_score = importance_scores.min()\n",
    "    max_score = importance_scores.max()\n",
    "    \n",
    "    epsilon = 1e-8\n",
    "    # 正規化\n",
    "    normalized_scores = (importance_scores - min_score) / (max_score - min_score + epsilon)\n",
    "    \n",
    "    importance_column = normalized_scores.reshape(-1, 1)\n",
    "    Z_extended = np.hstack((Z_standard, importance_column))\n",
    "    \n",
    "    return Z_extended\n",
    "\n",
    "# サンプルデータ (標準 Linkage Matrix)\n",
    "Z_standard = np.array([\n",
    "    [0., 1., 0.1, 2.],  # Importance: High (1/0.1=10)\n",
    "    [2., 3., 0.2, 2.],  # Importance: Medium-High (1/0.2=5)\n",
    "    [4., 5., 0.5, 3.],  # Importance: Medium-Low (1/0.5=2)\n",
    "    [6., 7., 1.0, 5.]   # Importance: Low (1/1.0=1)\n",
    "])\n",
    "\n",
    "# 拡張 Linkage Matrixを生成\n",
    "Z_extended = calculate_branch_importance(Z_standard)\n",
    "# 例: [u, v, lambda, count, score]\n",
    "#     [0., 1., 0.1, 2., 1. ]  # 0.1が最も重要度が高い (1.0)\n",
    "#     [6., 7., 1.0, 5., 0. ]  # 1.0が最も重要度が低い (0.0)\n",
    "\n",
    "# --------------------------------\n",
    "\n",
    "def visualize_with_importance_filter(Z_extended: np.ndarray, min_importance_threshold: float) -> go.Figure:\n",
    "    \"\"\"\n",
    "    拡張Linkage Matrix (5列) を使用し、重要度スコアに基づいてデンドログラムを描画します。\n",
    "\n",
    "    Args:\n",
    "        Z_extended (np.ndarray): 枝の重要度スコアを含む拡張 Linkage Matrix (N-1 x 5)。\n",
    "        min_importance_threshold (float): 表示対象とする最小重要度 (0.0 ～ 1.0)。\n",
    "\n",
    "    Returns:\n",
    "        plotly.graph_objects.Figure: フィルタリングされたデンドログラムのPlotly Figure。\n",
    "    \"\"\"\n",
    "    \n",
    "    # 1. データ抽出\n",
    "    Z = Z_extended[:, 0:4]          # Linkage Matrix本体 (座標計算用)\n",
    "    importance_scores = Z_extended[:, 4] # 重要度スコア\n",
    "    \n",
    "    # 2. フィルタリングマスクの生成\n",
    "    visible_mask = importance_scores >= min_importance_threshold\n",
    "    \n",
    "    # 3. Dendrogramの座標計算 (全ての枝に対して計算)\n",
    "    # scipy.dendrogramは、Plotlyを使わない場合でも座標データ取得のために利用\n",
    "    dendro_data = dendrogram(Z, no_plot=True)\n",
    "    \n",
    "    fig = go.Figure()\n",
    "    num_merges = Z.shape[0]\n",
    "    \n",
    "    # 4. Plotlyでの描画ループ\n",
    "    for i in range(num_merges):\n",
    "        icoords = dendro_data['icoord'][i]\n",
    "        dcoords = dendro_data['dcoord'][i]\n",
    "        \n",
    "        is_visible = visible_mask[i]\n",
    "        score = importance_scores[i]\n",
    "\n",
    "        # スタイルの決定\n",
    "        if is_visible:\n",
    "            # 表示: スコアに応じて色を濃くする (濃い青)\n",
    "            # score 0.0 -> 透明度が低い, score 1.0 -> 透明度が高い\n",
    "            alpha = 0.5 + score * 0.5 # 0.5 から 1.0 の範囲でアルファを変化\n",
    "            color_val = f'rgba(50, 50, 200, {alpha})' \n",
    "            line_style = dict(color=color_val, width=2)\n",
    "        else:\n",
    "            # 非表示 (フィルタリング): 薄い灰色で破線\n",
    "            line_style = dict(color='rgba(150, 150, 150, 0.2)', width=1, dash='dot')\n",
    "            \n",
    "        x_coords = [icoords[0], icoords[1], icoords[2], icoords[3]]\n",
    "        y_coords = [dcoords[0], dcoords[1], dcoords[2], dcoords[3]]\n",
    "        \n",
    "        # V字型のセグメントを構成する3つの線分をまとめて描画\n",
    "        # (x1, y1) -> (x2, y2) -> (x3, y3) <- (x4, y4)\n",
    "        fig.add_trace(go.Scatter(\n",
    "            x=[x_coords[0], x_coords[1], x_coords[2], x_coords[3], x_coords[2]], \n",
    "            y=[y_coords[0], y_coords[1], y_coords[2], y_coords[3], y_coords[2]], \n",
    "            mode='lines',\n",
    "            line=line_style,\n",
    "            showlegend=False,\n",
    "            hoverinfo='none' # ホバー情報を表示しない\n",
    "        ))\n",
    "\n",
    "    # 5. レイアウト設定\n",
    "    fig.update_layout(\n",
    "        title=f'Dendrogram Filtered (Min Importance: {min_importance_threshold:.2f})',\n",
    "        xaxis_title='Observation Index',\n",
    "        yaxis_title='Distance / Height ($\\lambda$)',\n",
    "        height=600,\n",
    "        width=800,\n",
    "        yaxis_range=[0, Z[:, 2].max() * 1.1] # Y軸の範囲を適切に設定\n",
    "    )\n",
    "    return fig\n",
    "\n",
    "# --- 実行例 ---\n",
    "\n",
    "# 閾値 1: 全ての枝が表示されるはず (最も重要度が低い枝のスコアは0.0)\n",
    "# fig_all = visualize_with_importance_filter(Z_extended, min_importance_threshold=0.0)\n",
    "# fig_all.show()\n",
    "\n",
    "# 閾値 2: 重要度0.5以上の枝のみが「強く」表示されるはず\n",
    "# fig_filtered = visualize_with_importance_filter(Z_extended, min_importance_threshold=0.5)\n",
    "# fig_filtered.show()"
   ]
  },
  {
   "cell_type": "code",
   "execution_count": 13,
   "id": "dc41eb22",
   "metadata": {},
   "outputs": [
    {
     "data": {
      "application/vnd.plotly.v1+json": {
       "config": {
        "plotlyServerURL": "https://plot.ly"
       },
       "data": [
        {
         "hoverinfo": "none",
         "line": {
          "color": "rgba(50, 50, 200, 0.9999999994444444)",
          "width": 2
         },
         "mode": "lines",
         "showlegend": false,
         "type": "scatter",
         "x": [
          5,
          5,
          15,
          15,
          15
         ],
         "y": [
          0,
          0.2,
          0.2,
          0,
          0.2
         ]
        },
        {
         "hoverinfo": "none",
         "line": {
          "color": "rgba(50, 50, 200, 0.7222222219753086)",
          "width": 2
         },
         "mode": "lines",
         "showlegend": false,
         "type": "scatter",
         "x": [
          35,
          35,
          45,
          45,
          45
         ],
         "y": [
          0,
          0.1,
          0.1,
          0,
          0.1
         ]
        },
        {
         "hoverinfo": "none",
         "line": {
          "color": "rgba(50, 50, 200, 0.5555555554938272)",
          "width": 2
         },
         "mode": "lines",
         "showlegend": false,
         "type": "scatter",
         "x": [
          25,
          25,
          40,
          40,
          40
         ],
         "y": [
          0,
          0.5,
          0.5,
          0.1,
          0.5
         ]
        },
        {
         "hoverinfo": "none",
         "line": {
          "color": "rgba(50, 50, 200, 0.5)",
          "width": 2
         },
         "mode": "lines",
         "showlegend": false,
         "type": "scatter",
         "x": [
          10,
          10,
          32.5,
          32.5,
          32.5
         ],
         "y": [
          0.2,
          1,
          1,
          0.5,
          1
         ]
        }
       ],
       "layout": {
        "height": 600,
        "template": {
         "data": {
          "bar": [
           {
            "error_x": {
             "color": "#2a3f5f"
            },
            "error_y": {
             "color": "#2a3f5f"
            },
            "marker": {
             "line": {
              "color": "#E5ECF6",
              "width": 0.5
             },
             "pattern": {
              "fillmode": "overlay",
              "size": 10,
              "solidity": 0.2
             }
            },
            "type": "bar"
           }
          ],
          "barpolar": [
           {
            "marker": {
             "line": {
              "color": "#E5ECF6",
              "width": 0.5
             },
             "pattern": {
              "fillmode": "overlay",
              "size": 10,
              "solidity": 0.2
             }
            },
            "type": "barpolar"
           }
          ],
          "carpet": [
           {
            "aaxis": {
             "endlinecolor": "#2a3f5f",
             "gridcolor": "white",
             "linecolor": "white",
             "minorgridcolor": "white",
             "startlinecolor": "#2a3f5f"
            },
            "baxis": {
             "endlinecolor": "#2a3f5f",
             "gridcolor": "white",
             "linecolor": "white",
             "minorgridcolor": "white",
             "startlinecolor": "#2a3f5f"
            },
            "type": "carpet"
           }
          ],
          "choropleth": [
           {
            "colorbar": {
             "outlinewidth": 0,
             "ticks": ""
            },
            "type": "choropleth"
           }
          ],
          "contour": [
           {
            "colorbar": {
             "outlinewidth": 0,
             "ticks": ""
            },
            "colorscale": [
             [
              0,
              "#0d0887"
             ],
             [
              0.1111111111111111,
              "#46039f"
             ],
             [
              0.2222222222222222,
              "#7201a8"
             ],
             [
              0.3333333333333333,
              "#9c179e"
             ],
             [
              0.4444444444444444,
              "#bd3786"
             ],
             [
              0.5555555555555556,
              "#d8576b"
             ],
             [
              0.6666666666666666,
              "#ed7953"
             ],
             [
              0.7777777777777778,
              "#fb9f3a"
             ],
             [
              0.8888888888888888,
              "#fdca26"
             ],
             [
              1,
              "#f0f921"
             ]
            ],
            "type": "contour"
           }
          ],
          "contourcarpet": [
           {
            "colorbar": {
             "outlinewidth": 0,
             "ticks": ""
            },
            "type": "contourcarpet"
           }
          ],
          "heatmap": [
           {
            "colorbar": {
             "outlinewidth": 0,
             "ticks": ""
            },
            "colorscale": [
             [
              0,
              "#0d0887"
             ],
             [
              0.1111111111111111,
              "#46039f"
             ],
             [
              0.2222222222222222,
              "#7201a8"
             ],
             [
              0.3333333333333333,
              "#9c179e"
             ],
             [
              0.4444444444444444,
              "#bd3786"
             ],
             [
              0.5555555555555556,
              "#d8576b"
             ],
             [
              0.6666666666666666,
              "#ed7953"
             ],
             [
              0.7777777777777778,
              "#fb9f3a"
             ],
             [
              0.8888888888888888,
              "#fdca26"
             ],
             [
              1,
              "#f0f921"
             ]
            ],
            "type": "heatmap"
           }
          ],
          "histogram": [
           {
            "marker": {
             "pattern": {
              "fillmode": "overlay",
              "size": 10,
              "solidity": 0.2
             }
            },
            "type": "histogram"
           }
          ],
          "histogram2d": [
           {
            "colorbar": {
             "outlinewidth": 0,
             "ticks": ""
            },
            "colorscale": [
             [
              0,
              "#0d0887"
             ],
             [
              0.1111111111111111,
              "#46039f"
             ],
             [
              0.2222222222222222,
              "#7201a8"
             ],
             [
              0.3333333333333333,
              "#9c179e"
             ],
             [
              0.4444444444444444,
              "#bd3786"
             ],
             [
              0.5555555555555556,
              "#d8576b"
             ],
             [
              0.6666666666666666,
              "#ed7953"
             ],
             [
              0.7777777777777778,
              "#fb9f3a"
             ],
             [
              0.8888888888888888,
              "#fdca26"
             ],
             [
              1,
              "#f0f921"
             ]
            ],
            "type": "histogram2d"
           }
          ],
          "histogram2dcontour": [
           {
            "colorbar": {
             "outlinewidth": 0,
             "ticks": ""
            },
            "colorscale": [
             [
              0,
              "#0d0887"
             ],
             [
              0.1111111111111111,
              "#46039f"
             ],
             [
              0.2222222222222222,
              "#7201a8"
             ],
             [
              0.3333333333333333,
              "#9c179e"
             ],
             [
              0.4444444444444444,
              "#bd3786"
             ],
             [
              0.5555555555555556,
              "#d8576b"
             ],
             [
              0.6666666666666666,
              "#ed7953"
             ],
             [
              0.7777777777777778,
              "#fb9f3a"
             ],
             [
              0.8888888888888888,
              "#fdca26"
             ],
             [
              1,
              "#f0f921"
             ]
            ],
            "type": "histogram2dcontour"
           }
          ],
          "mesh3d": [
           {
            "colorbar": {
             "outlinewidth": 0,
             "ticks": ""
            },
            "type": "mesh3d"
           }
          ],
          "parcoords": [
           {
            "line": {
             "colorbar": {
              "outlinewidth": 0,
              "ticks": ""
             }
            },
            "type": "parcoords"
           }
          ],
          "pie": [
           {
            "automargin": true,
            "type": "pie"
           }
          ],
          "scatter": [
           {
            "fillpattern": {
             "fillmode": "overlay",
             "size": 10,
             "solidity": 0.2
            },
            "type": "scatter"
           }
          ],
          "scatter3d": [
           {
            "line": {
             "colorbar": {
              "outlinewidth": 0,
              "ticks": ""
             }
            },
            "marker": {
             "colorbar": {
              "outlinewidth": 0,
              "ticks": ""
             }
            },
            "type": "scatter3d"
           }
          ],
          "scattercarpet": [
           {
            "marker": {
             "colorbar": {
              "outlinewidth": 0,
              "ticks": ""
             }
            },
            "type": "scattercarpet"
           }
          ],
          "scattergeo": [
           {
            "marker": {
             "colorbar": {
              "outlinewidth": 0,
              "ticks": ""
             }
            },
            "type": "scattergeo"
           }
          ],
          "scattergl": [
           {
            "marker": {
             "colorbar": {
              "outlinewidth": 0,
              "ticks": ""
             }
            },
            "type": "scattergl"
           }
          ],
          "scattermap": [
           {
            "marker": {
             "colorbar": {
              "outlinewidth": 0,
              "ticks": ""
             }
            },
            "type": "scattermap"
           }
          ],
          "scattermapbox": [
           {
            "marker": {
             "colorbar": {
              "outlinewidth": 0,
              "ticks": ""
             }
            },
            "type": "scattermapbox"
           }
          ],
          "scatterpolar": [
           {
            "marker": {
             "colorbar": {
              "outlinewidth": 0,
              "ticks": ""
             }
            },
            "type": "scatterpolar"
           }
          ],
          "scatterpolargl": [
           {
            "marker": {
             "colorbar": {
              "outlinewidth": 0,
              "ticks": ""
             }
            },
            "type": "scatterpolargl"
           }
          ],
          "scatterternary": [
           {
            "marker": {
             "colorbar": {
              "outlinewidth": 0,
              "ticks": ""
             }
            },
            "type": "scatterternary"
           }
          ],
          "surface": [
           {
            "colorbar": {
             "outlinewidth": 0,
             "ticks": ""
            },
            "colorscale": [
             [
              0,
              "#0d0887"
             ],
             [
              0.1111111111111111,
              "#46039f"
             ],
             [
              0.2222222222222222,
              "#7201a8"
             ],
             [
              0.3333333333333333,
              "#9c179e"
             ],
             [
              0.4444444444444444,
              "#bd3786"
             ],
             [
              0.5555555555555556,
              "#d8576b"
             ],
             [
              0.6666666666666666,
              "#ed7953"
             ],
             [
              0.7777777777777778,
              "#fb9f3a"
             ],
             [
              0.8888888888888888,
              "#fdca26"
             ],
             [
              1,
              "#f0f921"
             ]
            ],
            "type": "surface"
           }
          ],
          "table": [
           {
            "cells": {
             "fill": {
              "color": "#EBF0F8"
             },
             "line": {
              "color": "white"
             }
            },
            "header": {
             "fill": {
              "color": "#C8D4E3"
             },
             "line": {
              "color": "white"
             }
            },
            "type": "table"
           }
          ]
         },
         "layout": {
          "annotationdefaults": {
           "arrowcolor": "#2a3f5f",
           "arrowhead": 0,
           "arrowwidth": 1
          },
          "autotypenumbers": "strict",
          "coloraxis": {
           "colorbar": {
            "outlinewidth": 0,
            "ticks": ""
           }
          },
          "colorscale": {
           "diverging": [
            [
             0,
             "#8e0152"
            ],
            [
             0.1,
             "#c51b7d"
            ],
            [
             0.2,
             "#de77ae"
            ],
            [
             0.3,
             "#f1b6da"
            ],
            [
             0.4,
             "#fde0ef"
            ],
            [
             0.5,
             "#f7f7f7"
            ],
            [
             0.6,
             "#e6f5d0"
            ],
            [
             0.7,
             "#b8e186"
            ],
            [
             0.8,
             "#7fbc41"
            ],
            [
             0.9,
             "#4d9221"
            ],
            [
             1,
             "#276419"
            ]
           ],
           "sequential": [
            [
             0,
             "#0d0887"
            ],
            [
             0.1111111111111111,
             "#46039f"
            ],
            [
             0.2222222222222222,
             "#7201a8"
            ],
            [
             0.3333333333333333,
             "#9c179e"
            ],
            [
             0.4444444444444444,
             "#bd3786"
            ],
            [
             0.5555555555555556,
             "#d8576b"
            ],
            [
             0.6666666666666666,
             "#ed7953"
            ],
            [
             0.7777777777777778,
             "#fb9f3a"
            ],
            [
             0.8888888888888888,
             "#fdca26"
            ],
            [
             1,
             "#f0f921"
            ]
           ],
           "sequentialminus": [
            [
             0,
             "#0d0887"
            ],
            [
             0.1111111111111111,
             "#46039f"
            ],
            [
             0.2222222222222222,
             "#7201a8"
            ],
            [
             0.3333333333333333,
             "#9c179e"
            ],
            [
             0.4444444444444444,
             "#bd3786"
            ],
            [
             0.5555555555555556,
             "#d8576b"
            ],
            [
             0.6666666666666666,
             "#ed7953"
            ],
            [
             0.7777777777777778,
             "#fb9f3a"
            ],
            [
             0.8888888888888888,
             "#fdca26"
            ],
            [
             1,
             "#f0f921"
            ]
           ]
          },
          "colorway": [
           "#636efa",
           "#EF553B",
           "#00cc96",
           "#ab63fa",
           "#FFA15A",
           "#19d3f3",
           "#FF6692",
           "#B6E880",
           "#FF97FF",
           "#FECB52"
          ],
          "font": {
           "color": "#2a3f5f"
          },
          "geo": {
           "bgcolor": "white",
           "lakecolor": "white",
           "landcolor": "#E5ECF6",
           "showlakes": true,
           "showland": true,
           "subunitcolor": "white"
          },
          "hoverlabel": {
           "align": "left"
          },
          "hovermode": "closest",
          "mapbox": {
           "style": "light"
          },
          "paper_bgcolor": "white",
          "plot_bgcolor": "#E5ECF6",
          "polar": {
           "angularaxis": {
            "gridcolor": "white",
            "linecolor": "white",
            "ticks": ""
           },
           "bgcolor": "#E5ECF6",
           "radialaxis": {
            "gridcolor": "white",
            "linecolor": "white",
            "ticks": ""
           }
          },
          "scene": {
           "xaxis": {
            "backgroundcolor": "#E5ECF6",
            "gridcolor": "white",
            "gridwidth": 2,
            "linecolor": "white",
            "showbackground": true,
            "ticks": "",
            "zerolinecolor": "white"
           },
           "yaxis": {
            "backgroundcolor": "#E5ECF6",
            "gridcolor": "white",
            "gridwidth": 2,
            "linecolor": "white",
            "showbackground": true,
            "ticks": "",
            "zerolinecolor": "white"
           },
           "zaxis": {
            "backgroundcolor": "#E5ECF6",
            "gridcolor": "white",
            "gridwidth": 2,
            "linecolor": "white",
            "showbackground": true,
            "ticks": "",
            "zerolinecolor": "white"
           }
          },
          "shapedefaults": {
           "line": {
            "color": "#2a3f5f"
           }
          },
          "ternary": {
           "aaxis": {
            "gridcolor": "white",
            "linecolor": "white",
            "ticks": ""
           },
           "baxis": {
            "gridcolor": "white",
            "linecolor": "white",
            "ticks": ""
           },
           "bgcolor": "#E5ECF6",
           "caxis": {
            "gridcolor": "white",
            "linecolor": "white",
            "ticks": ""
           }
          },
          "title": {
           "x": 0.05
          },
          "xaxis": {
           "automargin": true,
           "gridcolor": "white",
           "linecolor": "white",
           "ticks": "",
           "title": {
            "standoff": 15
           },
           "zerolinecolor": "white",
           "zerolinewidth": 2
          },
          "yaxis": {
           "automargin": true,
           "gridcolor": "white",
           "linecolor": "white",
           "ticks": "",
           "title": {
            "standoff": 15
           },
           "zerolinecolor": "white",
           "zerolinewidth": 2
          }
         }
        },
        "title": {
         "text": "Dendrogram Filtered (Min Importance: 0.00)"
        },
        "width": 800,
        "xaxis": {
         "title": {
          "text": "Observation Index"
         }
        },
        "yaxis": {
         "range": [
          0,
          1.1
         ],
         "title": {
          "text": "Distance / Height ($\\lambda$)"
         }
        }
       }
      }
     },
     "metadata": {},
     "output_type": "display_data"
    }
   ],
   "source": [
    "# visualize \n",
    "visualize_with_importance_filter(Z_extended, min_importance_threshold=0.0)"
   ]
  },
  {
   "cell_type": "code",
   "execution_count": null,
   "id": "9b9e14dd",
   "metadata": {},
   "outputs": [],
   "source": []
  },
  {
   "cell_type": "markdown",
   "id": "961a777e",
   "metadata": {},
   "source": [
    "# ストラー数"
   ]
  },
  {
   "cell_type": "code",
   "execution_count": 21,
   "id": "4f29ea47",
   "metadata": {},
   "outputs": [],
   "source": [
    "def calculate_branch_strahler_number(Z_extended: np.ndarray) -> np.ndarray:\n",
    "    \"\"\"\n",
    "    拡張Linkage Matrix (5列) を使用し、各枝のストラー数を計算して6列目に追加します。\n",
    "\n",
    "    Args:\n",
    "        Z_extended (np.ndarray): 枝の重要度スコアを含む拡張 Linkage Matrix (N-1 x 5)。\n",
    "\n",
    "    Returns:\n",
    "        np.ndarray: ストラー数 (6列目) が追加された拡張 Linkage Matrix (N-1 x 6)。\n",
    "    \"\"\"\n",
    "    # ここにストラー数計算の実装を追加\n",
    "    \n",
    "    N = Z_extended.shape[0] + 1  # 元の要素数\n",
    "    strahler_map = np.ones(2 * N - 1, dtype=int)  # ノードインデックス->ストラー数の配列\n",
    "    strahler_map[N:] = 1  # 葉ノードのストラー数は1\n",
    "    for i in range(Z_extended.shape[0]):\n",
    "        new_cluster_index = N + i\n",
    "        u_idx = int(Z_extended[i, 0])\n",
    "        v_idx = int(Z_extended[i, 1])\n",
    "\n",
    "        # 子ノードのストラー数を取得\n",
    "        s_u = strahler_map[u_idx]\n",
    "        s_v = strahler_map[v_idx]\n",
    "\n",
    "        # ストラー数の計算ロジック\n",
    "        if s_u == s_v:\n",
    "            s_new = s_u + 1\n",
    "        else:\n",
    "            s_new = max(s_u, s_v)\n",
    "\n",
    "        strahler_map[new_cluster_index] = s_new\n",
    "\n",
    "    strahler_numbers = strahler_map[N:]\n",
    "    strahler_column = strahler_numbers.reshape(-1, 1)\n",
    "    Z_extended = np.hstack((Z_extended, strahler_column))\n",
    "    return Z_extended\n",
    "    \n",
    "\n"
   ]
  },
  {
   "cell_type": "code",
   "execution_count": 22,
   "id": "66964d0f",
   "metadata": {},
   "outputs": [
    {
     "name": "stdout",
     "output_type": "stream",
     "text": [
      "--- 拡張 Linkage Matrix (ストラー数付き) ---\n",
      "[u, v, distance, count, Strahler Number]\n",
      "[[0.  1.  0.1 2.  2. ]\n",
      " [2.  3.  0.2 2.  2. ]\n",
      " [4.  5.  0.5 3.  2. ]\n",
      " [6.  7.  1.  5.  3. ]]\n"
     ]
    }
   ],
   "source": [
    "Z_standard = np.array([\n",
    "    [0., 1., 0.1, 2.],\n",
    "    [2., 3., 0.2, 2.],\n",
    "    [4., 5., 0.5, 3.],\n",
    "    [6., 7., 1.0, 5.]\n",
    "])\n",
    "\n",
    "Z_strahler = calculate_branch_strahler_number(Z_standard)\n",
    "\n",
    "print(\"--- 拡張 Linkage Matrix (ストラー数付き) ---\")\n",
    "print(\"[u, v, distance, count, Strahler Number]\")\n",
    "print(Z_strahler)"
   ]
  },
  {
   "cell_type": "markdown",
   "id": "7d6c8421",
   "metadata": {},
   "source": [
    "# ストラー数の拡張"
   ]
  },
  {
   "cell_type": "code",
   "execution_count": 23,
   "id": "6dc692a2",
   "metadata": {},
   "outputs": [
    {
     "name": "stdout",
     "output_type": "stream",
     "text": [
      "--- 拡張 Linkage Matrix (重み付きスコア付き) ---\n",
      "[u, v, distance, count, Weighted Importance Score (0-1)]\n",
      "[[0.         1.         0.1        2.         0.80246914]\n",
      " [2.         3.         0.3        2.         0.30864198]\n",
      " [4.         5.         0.8        3.         1.        ]\n",
      " [6.         7.         1.5        5.         0.        ]]\n"
     ]
    }
   ],
   "source": [
    "import numpy as np\n",
    "\n",
    "def cauculate_branch_weighted_strahler(Z_standard: np.ndarray) -> np.ndarray:\n",
    "    \"\"\"\n",
    "    標準Linkage Matrix (4列) を受け取り、ストラー数、クラスタサイズ、\n",
    "    距離を考慮した「重み付きスコア」を計算して5列目に追加します。\n",
    "    \"\"\"\n",
    "    \n",
    "    N = Z_standard.shape[0] + 1  # 元の観測値の数\n",
    "    \n",
    "    # 1. 中間値の格納用マップを準備\n",
    "    # ノードインデックス -> ストラー数, サイズ, 距離の値を保持\n",
    "    # [ストラー数, サイズ] を格納 (距離はマージ時にのみ利用)\n",
    "    node_props = np.zeros((2 * N - 1, 2), dtype=float)\n",
    "    \n",
    "    # 葉ノードの初期値: S=1, Size=1 (観測値1つ)\n",
    "    node_props[:N] = 1.0 \n",
    "    \n",
    "    # 結合枝の重み付きスコアを格納するリスト (これが最終的な5列目になる)\n",
    "    weighted_scores = []\n",
    "    \n",
    "    # 2. 各結合 (Zの各行) を順に処理\n",
    "    for i in range(Z_standard.shape[0]):\n",
    "        new_cluster_idx = N + i\n",
    "        u_idx, v_idx = int(Z_standard[i, 0]), int(Z_standard[i, 1])\n",
    "        lambda_merge = Z_standard[i, 2] # 結合距離\n",
    "        new_size = Z_standard[i, 3] # 新しいクラスタサイズ\n",
    "\n",
    "        # 子ノードのプロパティを取得\n",
    "        s_u, size_u = node_props[u_idx]\n",
    "        s_v, size_v = node_props[v_idx]\n",
    "        \n",
    "        # -------------------------------------\n",
    "        # 3. 拡張ストラー数と重み付きスコアの計算\n",
    "        # -------------------------------------\n",
    "        \n",
    "        # サイズの重み (大きいほど高い)\n",
    "        size_weight = (size_u + size_v) / N \n",
    "        \n",
    "        # 密度の重み (lambda_mergeが小さいほど高い)\n",
    "        # lambdaの逆数を使用し、正規化のため0.1を加算して分母が小さくなるのを防ぐ\n",
    "        density_weight = 1.0 / (lambda_merge + 0.1) \n",
    "\n",
    "        if s_u != s_v:\n",
    "            # ルール2の拡張: ストラー数が異なる場合\n",
    "            # サイズが大きい方のストラー数を採用し、その差分をサイズで重み付け\n",
    "            s_new = max(s_u, s_v)\n",
    "            \n",
    "            # スコアは、新しいストラー数と、合流したサイズの大きさを組み合わせて評価\n",
    "            current_score = s_new * size_weight * 10\n",
    "            \n",
    "        else:\n",
    "            # ルール3の拡張: ストラー数が同じ場合\n",
    "            # ストラー数をインクリメントし、密度の高さをスコアに反映\n",
    "            s_new = s_u + 1\n",
    "            \n",
    "            # スコアは、新しいストラー数と、結合の密度の高さを組み合わせて評価\n",
    "            current_score = s_new * density_weight\n",
    "            \n",
    "        # 4. 結果を格納\n",
    "        node_props[new_cluster_idx] = [s_new, new_size]\n",
    "        weighted_scores.append(current_score)\n",
    "        \n",
    "    # 5. 最終的なスコアを0から1に正規化してLinkage Matrixに結合\n",
    "    weighted_scores = np.array(weighted_scores)\n",
    "    \n",
    "    # 0除算を避けた正規化\n",
    "    min_score = weighted_scores.min()\n",
    "    max_score = weighted_scores.max()\n",
    "    epsilon = 1e-8\n",
    "    normalized_scores = (weighted_scores - min_score) / (max_score - min_score + epsilon)\n",
    "    \n",
    "    weighted_column = normalized_scores.reshape(-1, 1)\n",
    "    Z_extended = np.hstack((Z_standard, weighted_column))\n",
    "    \n",
    "    return Z_extended\n",
    "\n",
    "# --- 実行例 ---\n",
    "\n",
    "# Z_standardの例 (N=5)\n",
    "# 0, 1: 小さいサイズ, 高密度 (0.1)\n",
    "# 2, 3: 小さいサイズ, 中密度 (0.3)\n",
    "# 4, 5(クラスター): 中サイズ, 低密度 (0.8)\n",
    "Z_standard = np.array([\n",
    "    [0., 1., 0.1, 2.],  \n",
    "    [2., 3., 0.3, 2.],  \n",
    "    [4., 5., 0.8, 3.],  \n",
    "    [6., 7., 1.5, 5.]\n",
    "])\n",
    "\n",
    "Z_weighted_strahler = cauculate_branch_weighted_strahler(Z_standard)\n",
    "\n",
    "print(\"--- 拡張 Linkage Matrix (重み付きスコア付き) ---\")\n",
    "print(\"[u, v, distance, count, Weighted Importance Score (0-1)]\")\n",
    "print(Z_weighted_strahler)"
   ]
  },
  {
   "cell_type": "markdown",
   "id": "621bc2c0",
   "metadata": {},
   "source": [
    "# Condense tree"
   ]
  },
  {
   "cell_type": "code",
   "execution_count": 56,
   "id": "e9b473c4",
   "metadata": {},
   "outputs": [
    {
     "data": {
      "text/plain": [
       "1314"
      ]
     },
     "execution_count": 56,
     "metadata": {},
     "output_type": "execute_result"
    }
   ],
   "source": [
    "len(clusterer.condensed_tree_.to_pandas())"
   ]
  },
  {
   "cell_type": "code",
   "execution_count": 63,
   "id": "f7a8272d",
   "metadata": {},
   "outputs": [
    {
     "name": "stdout",
     "output_type": "stream",
     "text": [
      "Extracted 30 cluster merges from condensed tree.\n",
      "z list : [[0, 1, 0.08126269712659025, 20.0], [2, 31, 0.08126269712659025, 80.0], [2, 3, 0.20323214379674978, 40.0], [4, 33, 0.20323214379674978, 40.0], [3, 5, 0.2135386207378596, 20.0]]\n",
      "--- 1. HDBSCAN Condensed Treeから変換された Linkage Matrix (Z) ---\n",
      "Zの葉の数 (初期クラスタ数): 31\n",
      "クラスタ結合の数: 30\n",
      "[u, v, lambda_merge, count]!!!\n",
      "[[ 0.          1.          0.0812627  20.        ]\n",
      " [ 2.         31.          0.0812627  80.        ]\n",
      " [ 2.          3.          0.20323214 40.        ]\n",
      " [ 4.         33.          0.20323214 40.        ]\n",
      " [ 3.          5.          0.21353862 20.        ]]\n",
      "Z行列サイズ: (30, 4)\n",
      "\n",
      "--- 2. 計算結果: 拡張 Linkage Matrix (ストラー数付き) ---\n",
      "[u, v, lambda_merge, count, Strahler Number]\n",
      "[[ 0.          1.          0.0812627  20.          2.        ]\n",
      " [ 2.         31.          0.0812627  80.          2.        ]\n",
      " [ 2.          3.          0.20323214 40.          2.        ]\n",
      " [ 4.         33.          0.20323214 40.          2.        ]\n",
      " [ 3.          5.          0.21353862 20.          2.        ]]\n"
     ]
    },
    {
     "name": "stderr",
     "output_type": "stream",
     "text": [
      "/Library/Frameworks/Python.framework/Versions/3.12/lib/python3.12/site-packages/sklearn/utils/deprecation.py:132: FutureWarning:\n",
      "\n",
      "'force_all_finite' was renamed to 'ensure_all_finite' in 1.6 and will be removed in 1.8.\n",
      "\n",
      "/Library/Frameworks/Python.framework/Versions/3.12/lib/python3.12/site-packages/sklearn/utils/deprecation.py:132: FutureWarning:\n",
      "\n",
      "'force_all_finite' was renamed to 'ensure_all_finite' in 1.6 and will be removed in 1.8.\n",
      "\n"
     ]
    }
   ],
   "source": [
    "import numpy as np\n",
    "import hdbscan\n",
    "from sklearn.datasets import make_blobs\n",
    "\n",
    "\n",
    "\n",
    "# --- 1. HDBSCANの実行とデータ取得 ---\n",
    "X, y = make_blobs(n_samples=100, centers=5, cluster_std=0.5, random_state=42)\n",
    "clusterer = hdbscan.HDBSCAN(min_cluster_size=2, min_samples=2, cluster_selection_method='eom')\n",
    "clusterer.fit(X)\n",
    "\n",
    "condensed_tree = clusterer.condensed_tree_\n",
    "\n",
    "# --- 2. 凝縮木からクラスタ結合の抽出と変換 ---\n",
    "ct_data = [ list(tup) for tup in condensed_tree.to_numpy() ]\n",
    "ct_data = np.array(ct_data, dtype=float) # dtype=floatを明示\n",
    "\n",
    "# 子ノードサイズが1より大きい行をフィルタリング (クラスタ間の結合に限定)\n",
    "cluster_merges = ct_data[ct_data[:, 3] > 1]\n",
    "\n",
    "print(f\"Extracted {len(cluster_merges)} cluster merges from condensed tree.\")\n",
    "\n",
    "# lambda_valでソート (Linkage Matrixの要件)\n",
    "cluster_merges = cluster_merges[cluster_merges[:, 2].argsort()]\n",
    "\n",
    "# 3. Z行列形式へのマッピング (HDBSCAN ID -> 連続 Z インデックス)\n",
    "\n",
    "# 結合に現れるすべてのノードIDを抽出 (u, v の両方)\n",
    "all_node_ids = cluster_merges[:, :2].flatten()\n",
    "unique_nodes = np.unique(all_node_ids)\n",
    "\n",
    "node_to_z_idx = {}\n",
    "current_z_idx = 0\n",
    "\n",
    "# 最初に、すべてのユニークなノードIDに固定の連続インデックスを割り当てる\n",
    "# これが Z 行列の「葉」になります\n",
    "for node_id in unique_nodes:\n",
    "    if node_id not in node_to_z_idx:\n",
    "        node_to_z_idx[node_id] = current_z_idx\n",
    "        current_z_idx += 1\n",
    "\n",
    "# Z行列を作成\n",
    "Z_list = []\n",
    "M = cluster_merges.shape[0] # 結合の数\n",
    "N_initial_clusters = len(unique_nodes) # Zの葉の数\n",
    "\n",
    "for i, row in enumerate(cluster_merges):\n",
    "    parent_id, child_id, lambda_merge, size = row\n",
    "    \n",
    "    # 結合される子ノードのZインデックスを取得\n",
    "    u_idx = node_to_z_idx[parent_id]\n",
    "    v_idx = node_to_z_idx[child_id]\n",
    "    \n",
    "    # Linkage Zの結合ノードのインデックス (N_initial_clusters + i)\n",
    "    new_cluster_idx = N_initial_clusters + i\n",
    "\n",
    "    # Z行列は u < v を要求するため、順序を調整\n",
    "    if u_idx > v_idx:\n",
    "        u_idx, v_idx = v_idx, u_idx\n",
    "    \n",
    "    # [u, v, distance, count]\n",
    "    Z_list.append([u_idx, v_idx, lambda_merge, size])\n",
    "    \n",
    "    # 💡 重要な修正: 結合された親ノードを、Z行列の新しい結合ノードインデックスで置き換える。\n",
    "    # 親ノードIDが後の行で子ノードとして登場する場合に備えるため、マッピングを更新\n",
    "    # 実際にはHDBSCANの凝縮木では、このマッピングの更新は必要ありません。\n",
    "    # なぜなら、各行の [parent, child] はそれぞれが一意なクラスタIDであり、\n",
    "    # 子クラスタのIDが他の行の親として再登場することは、元のデータでは一般的ではないからです。\n",
    "    # しかし、ストラー数計算のためには、Zインデックスが連続していることが重要です。\n",
    "    \n",
    "    # ここでは、Linkage Zの要件を満たすために、parent_idに新しい結合ノードのインデックスを割り当てます\n",
    "    node_to_z_idx[parent_id] = new_cluster_idx \n",
    "    # この行が、ストラー数計算関数のZ配列のインデックス構造を保証します。\n",
    "\n",
    "print(f\"z list : {Z_list[:5]}\")\n",
    "# 最終的な Z 行列をnumpy配列に変換\n",
    "Z_standard = np.array(Z_list)\n",
    "\n",
    "print(\"--- 1. HDBSCAN Condensed Treeから変換された Linkage Matrix (Z) ---\")\n",
    "print(f\"Zの葉の数 (初期クラスタ数): {N_initial_clusters}\")\n",
    "print(f\"クラスタ結合の数: {len(Z_standard)}\")\n",
    "print(\"[u, v, lambda_merge, count]!!!\")\n",
    "print(Z_standard[:5])  # 最初の5行を表示\n",
    "\n",
    "# --- 4. ストラー数計算関数の実行 ---\n",
    "\n",
    "# ストラー数の計算を実行\n",
    "if Z_standard.size > 0:\n",
    "    print(f\"Z行列サイズ: {Z_standard.shape}\")\n",
    "    Z_strahler = cauculate_branch_strahler_number(Z_standard)\n",
    "\n",
    "    print(\"\\n--- 2. 計算結果: 拡張 Linkage Matrix (ストラー数付き) ---\")\n",
    "    print(\"[u, v, lambda_merge, count, Strahler Number]\")\n",
    "    print(Z_strahler[:5]) \n",
    "else:\n",
    "    print(\"\\n--- 2. 計算結果 ---\")\n",
    "    print(\"クラスタ結合が抽出されませんでした。min_cluster_sizeを変更してみてください。\")"
   ]
  },
  {
   "cell_type": "code",
   "execution_count": 62,
   "id": "d6b3c4ff",
   "metadata": {},
   "outputs": [
    {
     "name": "stdout",
     "output_type": "stream",
     "text": [
      "\n",
      "--- 3. ストラー数の分布 ---\n",
      "ストラー数 2: 314 本の枝\n"
     ]
    }
   ],
   "source": [
    "# ストラー数の数を数える\n",
    "if Z_standard.size > 0:\n",
    "    strahler_numbers = Z_strahler[:, 4]\n",
    "    unique_strahler, counts = np.unique(strahler_numbers, return_counts=True)\n",
    "\n",
    "    print(\"\\n--- 3. ストラー数の分布 ---\")\n",
    "    for s_num, count in zip(unique_strahler, counts):\n",
    "        print(f\"ストラー数 {int(s_num)}: {count} 本の枝\")"
   ]
  },
  {
   "cell_type": "code",
   "execution_count": 59,
   "id": "35f81475",
   "metadata": {},
   "outputs": [],
   "source": [
    "import numpy as np\n",
    "\n",
    "def calculate_branch_strahler_number(Z_standard: np.ndarray) -> np.ndarray:\n",
    "    \"\"\"\n",
    "    標準Linkage Matrix (4列: [u, v, distance, count]) を受け取り、\n",
    "    各結合枝のストラー数を計算して5列目に追加します。\n",
    "\n",
    "    Args:\n",
    "        Z_standard (np.ndarray): Linkage Matrix (M x 4)。\n",
    "\n",
    "    Returns:\n",
    "        np.ndarray: ストラー数 (5列目) が追加された拡張 Linkage Matrix (M x 5)。\n",
    "    \"\"\"\n",
    "    \n",
    "    # 結合の数 M\n",
    "    M = Z_standard.shape[0]\n",
    "    \n",
    "    # Z行列に登場する最大のインデックスを基に、葉ノードの数 N を推定する\n",
    "    # Linkage Matrixの定義により、葉ノードは 0 から N-1、結合ノードは N から 2N-2\n",
    "    if M == 0:\n",
    "        return np.array([])\n",
    "        \n",
    "    # Zの要素は float であるため、int に変換して最大値を求める\n",
    "    max_idx_in_Z = int(Z_standard[:, :2].max())\n",
    "    \n",
    "    # ノードインデックスの総数 (葉ノード + 結合ノード)\n",
    "    # Zの葉ノードは 0 から N-1 で始まるため、葉ノードの数 N は max_idx_in_Z + 1\n",
    "    # ただし、Zの u, v がすでに結合ノードである場合もあるため、正確な N を求める必要があります。\n",
    "    \n",
    "    # ここでは、Zの最初の要素から N を推測する、より安全な方法を採用します\n",
    "    # N = M + 1 と仮定すると、総ノード数は 2M + 1 ですが、これは元の観測値の数 N_obs に依存します。\n",
    "    \n",
    "    # より正確な N の推定: Z の行数 M が N_obs - 1 なので、N_obs = M + 1\n",
    "    N_obs = M + 1\n",
    "    total_nodes = 2 * N_obs - 1\n",
    "\n",
    "    # ノードインデックス -> ストラー数 のマッピングを格納\n",
    "    # サイズは 2*N_obs - 1 (葉ノード + 結合ノード)\n",
    "    strahler_map = np.ones(total_nodes, dtype=int)\n",
    "    \n",
    "    # 結合ノード (N_obs から 2*N_obs-2) の初期値は 0\n",
    "    strahler_map[N_obs:] = 0\n",
    "    \n",
    "    # 各結合 (Zの各行) を順に処理\n",
    "    for i in range(M):\n",
    "        # 現在計算中の結合ノードのインデックス\n",
    "        new_cluster_idx = N_obs + i\n",
    "        \n",
    "        # 結合される子ノードのインデックス (Zの u, v)\n",
    "        u_idx = int(Z_standard[i, 0])\n",
    "        v_idx = int(Z_standard[i, 1])\n",
    "        \n",
    "        # 子ノードのストラー数を取得\n",
    "        s_u = strahler_map[u_idx]\n",
    "        s_v = strahler_map[v_idx]\n",
    "        \n",
    "        # ストラー数の計算ロジック\n",
    "        if s_u == s_v:\n",
    "            # ルール 3: 同じストラー数の枝が合流 -> +1\n",
    "            s_new = s_u + 1\n",
    "        else:\n",
    "            # ルール 2: 異なるストラー数の枝が合流 -> 最大値\n",
    "            s_new = max(s_u, s_v)\n",
    "            \n",
    "        # 計算結果をマップに格納\n",
    "        strahler_map[new_cluster_idx] = s_new\n",
    "        \n",
    "    # Zの各行に対応する結合ノードのストラー数を抽出\n",
    "    strahler_numbers = strahler_map[N_obs:]\n",
    "    \n",
    "    # 5列目として元の行列に結合\n",
    "    strahler_column = strahler_numbers.reshape(-1, 1)\n",
    "    Z_extended = np.hstack((Z_standard, strahler_column))\n",
    "    \n",
    "    return Z_extended"
   ]
  },
  {
   "cell_type": "code",
   "execution_count": 39,
   "id": "49aca8c9",
   "metadata": {},
   "outputs": [
    {
     "data": {
      "text/plain": [
       "<Axes: ylabel='$\\\\lambda$ value'>"
      ]
     },
     "execution_count": 39,
     "metadata": {},
     "output_type": "execute_result"
    },
    {
     "data": {
      "image/png": "[encoded data removed]",
      "text/plain": [
       "<Figure size 640x480 with 2 Axes>"
      ]
     },
     "metadata": {},
     "output_type": "display_data"
    }
   ],
   "source": [
    "clusterer.condensed_tree_.plot(log_size=True)"
   ]
  },
  {
   "cell_type": "code",
   "execution_count": 57,
   "id": "ea055001",
   "metadata": {},
   "outputs": [],
   "source": [
    "dummy_Z_list = [\n",
    "    # Level 1: S=1 + S=1 => S=2 (Cluster 10, 11, 12, 13, 14)\n",
    "    [0., 1., 0.1, 2.],  # -> C10 (S=2)\n",
    "    [2., 3., 0.1, 2.],  # -> C11 (S=2)\n",
    "    [4., 5., 0.1, 2.],  # -> C12 (S=2)\n",
    "    [6., 7., 0.1, 2.],  # -> C13 (S=2)\n",
    "    [8., 9., 0.1, 2.],  # -> C14 (S=2)\n",
    "\n",
    "    # Level 2: S=2の枝をさらに結合し、S=3を作成\n",
    "    [10., 11., 0.2, 4.], # C10(S=2) + C11(S=2) -> C15 (S=3)\n",
    "    [12., 13., 0.2, 4.], # C12(S=2) + C13(S=2) -> C16 (S=3)\n",
    "    \n",
    "    # Level 3: S=3 + S=3 => S=4 (Rootに近い幹)\n",
    "    [15., 16., 0.3, 8.], # C15(S=3) + C16(S=3) -> C17 (S=4)\n",
    "    \n",
    "    # Level 4: 孤立した枝 C14(S=2) を Rootに合流 (max(S=2, S=4) => S=4)\n",
    "    [14., 17., 0.4, 10.],# C14(S=2) + C17(S=4) -> C18 (S=4)\n",
    "]"
   ]
  },
  {
   "cell_type": "code",
   "execution_count": 58,
   "id": "39756ecf",
   "metadata": {},
   "outputs": [
    {
     "name": "stdout",
     "output_type": "stream",
     "text": [
      "--- ダミーデータ: 拡張 Linkage Matrix (ストラー数付き) ---\n",
      "[u, v, distance, count, Strahler Number]\n",
      "[[ 0.   1.   0.1  2.   2. ]\n",
      " [ 2.   3.   0.1  2.   2. ]\n",
      " [ 4.   5.   0.1  2.   2. ]\n",
      " [ 6.   7.   0.1  2.   2. ]\n",
      " [ 8.   9.   0.1  2.   2. ]\n",
      " [10.  11.   0.2  4.   3. ]\n",
      " [12.  13.   0.2  4.   3. ]\n",
      " [15.  16.   0.3  8.   4. ]\n",
      " [14.  17.   0.4 10.   4. ]]\n"
     ]
    }
   ],
   "source": [
    "\n",
    "dummy_Z = np.array(dummy_Z_list)\n",
    "Z_strahler = calculate_branch_strahler_number(dummy_Z)\n",
    "print(\"--- ダミーデータ: 拡張 Linkage Matrix (ストラー数付き) ---\")\n",
    "print(\"[u, v, distance, count, Strahler Number]\")\n",
    "print(Z_strahler)   "
   ]
  },
  {
   "cell_type": "code",
   "execution_count": null,
   "id": "b1a879c5",
   "metadata": {},
   "outputs": [],
   "source": []
  }
 ],
 "metadata": {
  "kernelspec": {
   "display_name": "Python 3",
   "language": "python",
   "name": "python3"
  },
  "language_info": {
   "codemirror_mode": {
    "name": "ipython",
    "version": 3
   },
   "file_extension": ".py",
   "mimetype": "text/x-python",
   "name": "python",
   "nbconvert_exporter": "python",
   "pygments_lexer": "ipython3",
   "version": "3.12.0"
  }
 },
 "nbformat": 4,
 "nbformat_minor": 5
}
