{
 "cells": [
  {
   "cell_type": "markdown",
   "id": "5ae6d111",
   "metadata": {},
   "source": [
    "# module"
   ]
  },
  {
   "cell_type": "code",
   "execution_count": null,
   "id": "c8611f63",
   "metadata": {},
   "outputs": [],
   "source": [
    "import numpy as np\n",
    "import hdbscan\n",
    "from sklearn.datasets import make_blobs\n",
    "from scipy.cluster.hierarchy import dendrogram\n",
    "import plotly.graph_objects as go\n",
    "\n",
    "def _get_leaves(condensed_tree):\n",
    "    cluster_tree = condensed_tree[condensed_tree['child_size'] > 1]\n",
    "    print(len(cluster_tree))\n",
    "    if cluster_tree.shape[0] == 0:\n",
    "        # Return the only cluster, the root\n",
    "        return [condensed_tree['parent'].min()]\n",
    "\n",
    "    root = cluster_tree['parent'].min()\n",
    "    return _recurse_leaf_dfs(cluster_tree, root)\n",
    "  \n",
    "def _recurse_leaf_dfs(cluster_tree, current_node):\n",
    "  children = cluster_tree[cluster_tree['parent'] == current_node]['child']\n",
    "  if len(children) == 0:\n",
    "      return [current_node,]\n",
    "  else:\n",
    "      return sum([_recurse_leaf_dfs(cluster_tree, child) for child in children], [])\n",
    "  \n",
    "def get_leaves(cluster_tree):\n",
    "    \"\"\"\n",
    "    cluster_tree: (u, v, lambda_val, child_size, parent)\n",
    "    \"\"\"\n",
    "    root = cluster_tree[:, 2].max()\n",
    "    print(f\"root: {root}\")\n",
    "    return recurse_leaf_dfs(cluster_tree, root)\n",
    "    \n",
    "\n",
    "def recurse_leaf_dfs(cluster_tree, current_node):\n",
    "    print(f\"Visiting Node: {current_node}\")\n",
    "\n",
    "    child1 = cluster_tree[cluster_tree[:,2] == current_node][:,0]\n",
    "    child2 = cluster_tree[cluster_tree[:,2] == current_node][:,1]\n",
    "    print(f\"Children of Node {current_node}: Child1 {child1}, Child2 {child2}\")\n",
    "\n",
    "    if len(child1) == 0 and len(child2) == 0:\n",
    "        \n",
    "        return [current_node,]\n",
    "    else:\n",
    "        return sum([recurse_leaf_dfs(cluster_tree, child) for child in np.concatenate((child1, child2))], [])\n",
    "    \n",
    "\n",
    "\n",
    "def get_linkage_matrix_from_hdbscan(condensed_tree):\n",
    "    linkage_matrix = []\n",
    "    raw_tree = condensed_tree._raw_tree\n",
    "    condensed_tree = condensed_tree.to_pandas()\n",
    "    cluster_tree = condensed_tree[condensed_tree['child_size'] > 1]\n",
    "    sorted_condensed_tree = cluster_tree.sort_values(by=['lambda_val','parent'], ascending=True)\n",
    "    print(f\"len of sorted condensed tree: {len(sorted_condensed_tree)}\")\n",
    "\n",
    "    for i in range(0, len(sorted_condensed_tree), 2):\n",
    "    \n",
    "        # 偶数行（i）と次の奇数行（i+1）をペアとして取得\n",
    "        if i + 1 < len(sorted_condensed_tree):\n",
    "            \n",
    "            row_a = sorted_condensed_tree.iloc[i]\n",
    "            row_b = sorted_condensed_tree.iloc[i+1]\n",
    "            \n",
    "            # **前提チェック**: lambda_valが同じであることを確認\n",
    "            if row_a['lambda_val'] != row_b['lambda_val']:\n",
    "                # lambda_valが異なる場合は、次の処理に進む（結合の前提が崩れる）\n",
    "                raise ValueError(f\"Lambda value mismatch at rows {i} and {i+1}: {row_a['lambda_val']} vs {row_b['lambda_val']}\")\n",
    "                \n",
    "            # Parent IDが同じであることを確認 (同じ結合の結果である可能性が高い)\n",
    "            if row_a['parent'] != row_b['parent']:\n",
    "                # Parent IDが異なる場合は、このペアは単一の結合ではない可能性が高い\n",
    "                raise ValueError(f\"Parent ID mismatch at rows {i} and {i+1}: {row_a['parent']} vs {row_b['parent']}\")\n",
    "            \n",
    "            child_a = row_a['child']\n",
    "            child_b = row_b['child']\n",
    "            lam = row_a['lambda_val']\n",
    "            \n",
    "            # count (サイズ) は、結合された2つの子ノードのサイズ合計を使うのが論理的だが、\n",
    "            # HDBSCANは親ノードのサイズをリストで持っているため、ここではそのサイズを使用\n",
    "            # より正確には、このParent IDを持つ全子ノードのサイズの合計を使うべきだが、\n",
    "            # 2行の child_size の合計で暫定的に対応\n",
    "            total_size = row_a['child_size'] + row_b['child_size']\n",
    "            parent_id = row_a['parent']\n",
    "\n",
    "            linkage_matrix.append([\n",
    "                int(child_a), \n",
    "                int(child_b), \n",
    "                int(parent_id),\n",
    "                lam, \n",
    "                total_size,\n",
    "        ])   \n",
    "    print(f\"len of linkage matrix: {len(linkage_matrix)}\")\n",
    "\n",
    "\n",
    "    # 葉ノードに0-N-1のIDを振る\n",
    "    node_id_map = {}\n",
    "    current_id = 0\n",
    "    leaves = _get_leaves(raw_tree)\n",
    "    print(f\"Number of leaves: {len(leaves)}\")\n",
    "\n",
    "    for leaf in leaves:\n",
    "        node_id_map[int(leaf)] = current_id\n",
    "        current_id += 1\n",
    "\n",
    "    print(f\"Leaf ID Map Size: {len(node_id_map)}\")\n",
    "    print(f\"current id: {current_id}\")\n",
    "\n",
    "    # 結合ノードにIDを振る(linkage matrixのparent)\n",
    "    for row in linkage_matrix.__reversed__():\n",
    "        parent_id = row[2]\n",
    "        if parent_id not in node_id_map:\n",
    "            node_id_map[parent_id] = current_id\n",
    "            current_id += 1\n",
    "\n",
    "        else:\n",
    "            print(f\"Duplicate Parent ID found: {parent_id}\")\n",
    "            raise ValueError(f\"Node ID {parent_id} already assigned!\")\n",
    "    print(f\"Total Node ID Map Size: {len(node_id_map)}\")\n",
    "    print(f\"current_id: {current_id}\")\n",
    "\n",
    "    # linkage matrixを書き換え\n",
    "    max_lambda = max(row[3] for row in linkage_matrix)\n",
    "    print(f\"Max Lambda: {max_lambda}\")\n",
    "    linkage_matrix_mapped = [ \n",
    "        [node_id_map[row[0]], node_id_map[row[1]], node_id_map[row[2]], max_lambda - row[3], row[4]] \n",
    "        for row in linkage_matrix.__reversed__()\n",
    "    ]\n",
    "\n",
    "    return np.array(linkage_matrix_mapped), node_id_map\n",
    "\n",
    "Y_CUTOFF = 0.5\n",
    "def get_dendrogram_segments(Z: np.ndarray):\n",
    "    \"\"\"\n",
    "    Linkage Matrixからデンドログラム描画に必要な座標データを取得します。\n",
    "    \"\"\"\n",
    "    # 実際には可視化しないが、座標計算のために呼び出す\n",
    "    # no_plot=True を指定すると、描画はスキップされる\n",
    "    dendro_data = dendrogram(Z, no_plot=True)\n",
    "    \n",
    "    # 'icoord': 各結合の水平方向の座標 (x座標)\n",
    "    # 'dcoord': 各結合の垂直方向の座標 (y座標、結合距離)\n",
    "    # これらは描画するV字/逆U字のセグメントを定義します。\n",
    "    \n",
    "    segments = []\n",
    "    \n",
    "    # icoord, dcoord は (4, K) の配列で、Kは結合の数 (N-1)\n",
    "    # 各 i は (x1, x2, x3, x4) の座標リスト\n",
    "    for icoords, dcoords in zip(dendro_data['icoord'], dendro_data['dcoord']):\n",
    "        # (x1, y1), (x2, y2), (x3, y3), (x4, y4) がセグメントの頂点\n",
    "        x1, x2, x3, x4 = icoords\n",
    "        y1, y2, y3, y4 = dcoords\n",
    "\n",
    "        if y1 == 0:\n",
    "            if y4 == 0:\n",
    "                new_y1 = y2\n",
    "                new_y4 = y3\n",
    "                new_x2 = (x2 + x3) / 2\n",
    "                new_x3 = (x2 + x3) / 2\n",
    "            else:\n",
    "                new_y1 = y2\n",
    "                new_y4 = y4\n",
    "                new_x2 = (x2 + x3) / 2\n",
    "                new_x3 = x3\n",
    "        else:\n",
    "            if y4 == 0:\n",
    "                new_y1 = y1\n",
    "                new_y4 = y3\n",
    "                new_x2 = x2\n",
    "                new_x3 = (x2 + x3) / 2\n",
    "            else:\n",
    "                new_y1 = y1\n",
    "                new_y4 = y4\n",
    "                new_x2 = x2\n",
    "                new_x3 = x3\n",
    "        # if y1 == 0:\n",
    "        #     y1 = y2\n",
    "        #     new_x2 = (x2 + x3) / 2\n",
    "        # if y4 == 0:\n",
    "        #     y4 = y3\n",
    "        #     new_x3 = (x2 + x3) / 2\n",
    "        # if y1 !=0 and y4 !=0:\n",
    "        #     new_x2 = x2\n",
    "        #     new_x3 = x3\n",
    "        \n",
    "\n",
    "        # y1 = max(y1, Y_CUTOFF)\n",
    "        # y4 = max(y4, Y_CUTOFF)\n",
    "        # 1. 垂直線 (左の子ノードから結合点まで)\n",
    "        segments.append([(x1, new_y1), (x2, y2)]) \n",
    "        # 2. 水平線 (結合したノード間)\n",
    "        segments.append([(new_x2, y2), (new_x3, y3)]) \n",
    "        # 3. 垂直線 (右の子ノードから結合点まで)\n",
    "        segments.append([(x4, new_y4), (x3, y3)]) \n",
    "    \n",
    "    # segments は [[[x_start, y_start], [x_end, y_end]], ...] のリストになる\n",
    "    return segments\n",
    "\n",
    "\n",
    "def get_dendrogram_segments2(Z: np.ndarray):\n",
    "    \"\"\"\n",
    "    Linkage Matrixからデンドログラム描画に必要な座標データを取得します。\n",
    "    \"\"\"\n",
    "    # 実際には可視化しないが、座標計算のために呼び出す\n",
    "    # no_plot=True を指定すると、描画はスキップされる\n",
    "    dendro_data = dendrogram(Z, no_plot=True)\n",
    "    \n",
    "    # 'icoord': 各結合の水平方向の座標 (x座標)\n",
    "    # 'dcoord': 各結合の垂直方向の座標 (y座標、結合距離)\n",
    "    # これらは描画するV字/逆U字のセグメントを定義します。\n",
    "    \n",
    "    segments = []\n",
    "    \n",
    "    # icoord, dcoord は (4, K) の配列で、Kは結合の数 (N-1)\n",
    "    # 各 i は (x1, x2, x3, x4) の座標リスト\n",
    "    for icoords, dcoords in zip(dendro_data['icoord'], dendro_data['dcoord']):\n",
    "        # (x1, y1), (x2, y2), (x3, y3), (x4, y4) がセグメントの頂点\n",
    "        x1, x2, x3, x4 = icoords\n",
    "        y1, y2, y3, y4 = dcoords\n",
    "\n",
    "    \n",
    "        if y1 == 0:\n",
    "            y1 = y2\n",
    "            new_x2 = (x2 + x3) / 2\n",
    "        if y4 == 0:\n",
    "            y4 = y3\n",
    "            new_x3 = (x2 + x3) / 2\n",
    "        if y1 !=0 and y4 !=0:\n",
    "            new_x2 = x2\n",
    "            new_x3 = x3\n",
    "        \n",
    "\n",
    "        # y1 = max(y1, Y_CUTOFF)\n",
    "        # y4 = max(y4, Y_CUTOFF)\n",
    "        # 1. 垂直線 (左の子ノードから結合点まで)\n",
    "        segments.append([(x1, y1), (x2, y2)]) \n",
    "        # 2. 水平線 (結合したノード間)\n",
    "        segments.append([(new_x2, y2), (new_x3, y3)]) \n",
    "        # 3. 垂直線 (右の子ノードから結合点まで)\n",
    "        segments.append([(x4, y4), (x3, y3)]) \n",
    "    \n",
    "    # segments は [[[x_start, y_start], [x_end, y_end]], ...] のリストになる\n",
    "    return segments\n",
    "def plot_dendrogram_plotly(segments, colors=None, scores=None):\n",
    "    fig = go.Figure()\n",
    "    \n",
    "    for i, seg in enumerate(segments):\n",
    "        # seg は [[x_start, y_start], [x_end, y_end]]\n",
    "        x_coords = [seg[0][0], seg[1][0]]\n",
    "        y_coords = [seg[0][1], seg[1][1]]\n",
    "        \n",
    "        color = 'blue' if colors is None else colors[i]\n",
    "        info = \"no\" if scores is None else f\"{scores[i]:.2f}\"\n",
    "        fig.add_trace(go.Scatter(\n",
    "            x=x_coords, \n",
    "            y=y_coords, \n",
    "            mode='lines',\n",
    "            line=dict(color=color, width=1),\n",
    "            # showlegend=True,\n",
    "            hoverinfo='text',\n",
    "            text=f'Segment {i}: ({x_coords[0]:.2f}, {y_coords[0]:.2f}) to ({x_coords[1]:.2f}, {y_coords[1]:.2f}, score={info})'\n",
    "        ))\n",
    "    \n",
    "    fig.update_layout(\n",
    "        title='Simple Dendrogram Visualization',\n",
    "        xaxis_title='Observation Index',\n",
    "        yaxis_title='Distance / Height',\n",
    "        hovermode='closest',\n",
    "        \n",
    "    )\n",
    "    # fig.show() # 実行環境によっては直接表示\n",
    "    \n",
    "    # 葉ノードに名前を付ける場合は、dendrogram_data['leaves']と葉のy=0の座標を計算する必要があります。\n",
    "    fig.update_layout(height=800, width=1000)\n",
    "    # fig.update_traces(line =dict(color=colors, width=0.5))\n",
    "    return fig\n",
    "\n",
    "def calculate_strahler(Z_matrix: np.ndarray, n_leaves: int) -> np.ndarray:\n",
    "    \"\"\"\n",
    "    Linkage Matrix (Z) に基づいて、各結合ノードのストラー数（Strahler Number）を計算する。\n",
    "    \n",
    "    Args:\n",
    "        Z_matrix: Linkage Matrix (N-1 x 4のNumPy配列)。\n",
    "        n_leaves: 元の観測値/葉ノードの数。\n",
    "        \n",
    "    Returns:\n",
    "        np.ndarray: 各結合ノード（Zの各行）に対応するストラー数の配列。\n",
    "    \"\"\"\n",
    "    n_merges = Z_matrix.shape[0]\n",
    "    \n",
    "    # 葉ノードのストラー数を初期化 (すべての葉ノードは S=1)\n",
    "    # インデックス: 0から n_leaves - 1\n",
    "    strahler_map = {i: 1 for i in range(n_leaves)}\n",
    "    \n",
    "    # Zの各行に対応するストラー数を格納するリスト\n",
    "    merge_strahler_numbers = np.zeros(n_merges, dtype=int)\n",
    "    \n",
    "    # Z行列をボトムアップ（行 0 から N-2）で処理\n",
    "    for i in range(n_merges):\n",
    "        u_idx = int(Z_matrix[i, 0])  # 結合されるノード u\n",
    "        v_idx = int(Z_matrix[i, 1])  # 結合されるノード v\n",
    "        new_idx = n_leaves + i       # 新しく生成されるノード\n",
    "        \n",
    "        # 子ノードのストラー数を取得\n",
    "        s_u = strahler_map.get(u_idx, 1)\n",
    "        s_v = strahler_map.get(v_idx, 1)\n",
    "        \n",
    "        # ストラー数計算ロジック（二分木）\n",
    "        if s_u == s_v:\n",
    "            # S_u = S_v の場合、新しいノードのストラー数は S_u + 1\n",
    "            s_new = s_u + 1\n",
    "        else:\n",
    "            # S_u != S_v の場合、新しいノードのストラー数は Max(S_u, S_v)\n",
    "            s_new = max(s_u, s_v)\n",
    "        \n",
    "        # 結果を記録し、マップを更新\n",
    "        merge_strahler_numbers[i] = s_new\n",
    "        strahler_map[new_idx] = s_new\n",
    "\n",
    "    return merge_strahler_numbers\n",
    "\n",
    "def filter_linkage_matrix_by_strahler(Z_matrix: np.ndarray, S_min: int, N_leaves: int) -> np.ndarray:\n",
    "    \"\"\"\n",
    "    Linkage Matrix (Z) にストラー数 (Strahler Number) を計算し、指定された最小ストラー数以上の結合のみを保持する。\n",
    "    \n",
    "    Args:\n",
    "        Z_matrix (np.ndarray): Linkage Matrix (N-1 x 4)。\n",
    "        S_min (int): フィルタリングのための最小ストラー数。\n",
    "\n",
    "    Returns:\n",
    "        np.ndarray: フィルタリングされたLinkage Matrix。\n",
    "    \"\"\"\n",
    "    # 葉ノード数 (N_obs = Z.shape[0] + 1)\n",
    "    # N_leaves = len(leaves) \n",
    "\n",
    "    # 1. ストラー数 (Strahler Number) の計算\n",
    "    strahler_numbers = calculate_strahler(Z_matrix, N_leaves)\n",
    "\n",
    "    # 2. Z_matrix の拡張 (ストラー数を5列目に追加)\n",
    "    # (u, v, distance, count, strahler)\n",
    "    Z_with_strahler = np.hstack((Z_matrix, strahler_numbers[:, np.newaxis]))\n",
    "\n",
    "    # 3. フィルタリングの実行 (例: ストラー数 2 以上)\n",
    "    # 5列目（インデックス4）がフィルタリング基準\n",
    "    # check\n",
    "    print(Z_with_strahler[1, :])\n",
    "    filtered_Z_by_strahler = Z_with_strahler[Z_with_strahler[:, 5] >= S_min]\n",
    "\n",
    "    # ストラー数の分布\n",
    "    unique_strahler, counts = np.unique(strahler_numbers, return_counts=True)\n",
    "    print(\"\\n--- ストラー数の分布 ---\")\n",
    "    for s_num, count in zip(unique_strahler, counts):\n",
    "        print(f\"ストラー数 {int(s_num)}: {count} 本の枝\")\n",
    "    print(\"\\n--- フィルタリング結果 ---\")\n",
    "    print(f\"元のZ行列の行数: {Z_matrix.shape[0]}\")\n",
    "    print(f\"ストラー数 >= {S_min} の行数: {filtered_Z_by_strahler.shape[0]}\")\n",
    "\n",
    "\n",
    "    # ----------------------------------------------------\n",
    "    #\n",
    "\n",
    "    # インデックスのマッピング\n",
    "\n",
    "    node_id_map = {}\n",
    "    current_id = 0\n",
    "    leaves = get_leaves(filtered_Z_by_strahler)\n",
    "    print(f\"Leaves: {len(leaves)}\")\n",
    "\n",
    "    for leaf in leaves:\n",
    "        node_id_map[int(leaf)] = current_id\n",
    "        current_id += 1\n",
    "    print(f\"Number of leaves: {len(leaves)}\")\n",
    "\n",
    "    for row in filtered_Z_by_strahler:\n",
    "        parent_id = row[2]\n",
    "        if parent_id not in node_id_map:\n",
    "            node_id_map[parent_id] = current_id\n",
    "            current_id += 1\n",
    "    print(f\"Total Node ID Map Size: {len(node_id_map)}\")\n",
    "    print(f\"current_id: {current_id}\")\n",
    "\n",
    "    linkage_matrix_mapped_strahler = [ \n",
    "        [node_id_map[row[0]], node_id_map[row[1]], node_id_map[row[2]], row[3], strahler_numbers[i]] \n",
    "        for i, row in enumerate(filtered_Z_by_strahler)\n",
    "    ]\n",
    "    return np.array(linkage_matrix_mapped_strahler), node_id_map\n",
    "\n",
    "\n",
    "import plotly.express as px\n",
    "from sklearn.preprocessing import normalize\n",
    "import umap\n",
    "def run_hdbscan(X, \n",
    "                y, \n",
    "                min_samples=25, \n",
    "                min_cluster_size=5, \n",
    "                max_cluster_size=1000,\n",
    "                n_neighbors=100, \n",
    "                min_dist=1e-3, \n",
    "                spread=2.0, \n",
    "                n_epochs=500):\n",
    "    X = normalize(X)\n",
    "    hdbscan_model = hdbscan.HDBSCAN(\n",
    "        min_samples=min_samples,\n",
    "        min_cluster_size=min_cluster_size,\n",
    "        max_cluster_size=max_cluster_size,\n",
    "        cluster_selection_method='leaf'\n",
    "    )\n",
    "    labels = hdbscan_model.fit_predict(X)\n",
    "    hdbscan_model.condensed_tree_.plot(select_clusters=True, label_clusters=True, log_size=True, max_rectangles_per_icicle=10)\n",
    "    umap_model = umap.UMAP(\n",
    "        n_neighbors=n_neighbors,\n",
    "        min_dist=min_dist,\n",
    "        spread=spread,\n",
    "        n_epochs=n_epochs,\n",
    "        random_state=42\n",
    "    )\n",
    "    embeddings = umap_model.fit_transform(X)\n",
    "\n",
    "    print(f\"クラスタ数: {len(np.unique(labels))}\")\n",
    "    print(f\"ノイズ割合: {np.mean(labels == -1):.2%}\")\n",
    "\n",
    "    df = {\n",
    "        'x': embeddings[:, 0],\n",
    "        'y': embeddings[:, 1],\n",
    "        'label': labels.astype(str),\n",
    "        'index': list(range(len(X)))\n",
    "    }\n",
    "\n",
    "    fig = px.scatter(\n",
    "        df,\n",
    "        x='x',\n",
    "        y='y',\n",
    "        color='label',\n",
    "        title='HDBSCAN + UMAP クラスタリング可視化',\n",
    "        color_continuous_scale='Viridis',\n",
    "        opacity=0.7,\n",
    "        text='index',\n",
    "        hover_name=y\n",
    "    )\n",
    "    fig.update_traces(marker=dict(size=3))\n",
    "    fig.update_layout(width=800, height=800)\n",
    "    fig.show()\n",
    "\n",
    "    # numpyであればyはastype(str)\n",
    "    if not isinstance(y, list):\n",
    "        y = y.astype(str)\n",
    "\n",
    "    # 実際のラベルの可視化\n",
    "    if len(np.unique(y)) <= 20:\n",
    "        fig = px.scatter(\n",
    "            x=embeddings[:, 0],\n",
    "            y=embeddings[:, 1],\n",
    "            color=y,\n",
    "            title='実際のラベルの可視化',\n",
    "            color_continuous_scale='Viridis',\n",
    "            opacity=0.7,\n",
    "            text=df['index']\n",
    "            \n",
    "        )\n",
    "    else:\n",
    "        fig = px.scatter(\n",
    "            x=embeddings[:, 0],\n",
    "            y=embeddings[:, 1],\n",
    "            title='実際のラベルの可視化',\n",
    "            opacity=0.7,\n",
    "            text=df['index'],\n",
    "            hover_name=y\n",
    "        )\n",
    "    fig.update_traces(marker=dict(size=3))\n",
    "    fig.update_layout(width=800, height=800)\n",
    "    fig.show()\n",
    "\n",
    "    \n",
    "\n",
    "    # ===== ヒストグラム計算 =====\n",
    "    unique_labels = np.unique(labels)\n",
    "    counts = np.array([np.sum(labels == l) for l in unique_labels])\n",
    "\n",
    "    # ===== Plotlyで可視化 =====\n",
    "    fig = go.Figure()\n",
    "\n",
    "    fig.add_trace(go.Bar(\n",
    "        x=unique_labels,\n",
    "        y=counts,\n",
    "        marker_color='blue',\n",
    "        name='Cluster Size'\n",
    "    ))\n",
    "\n",
    "    fig.update_layout(\n",
    "        title='HDBSCAN Cluster Size Distribution',\n",
    "        xaxis_title='Cluster Label',\n",
    "        yaxis_title='Number of Points',\n",
    "        template='plotly_white'\n",
    "    )\n",
    "\n",
    "    fig.show()\n",
    "\n",
    "    print(\"\\n===== 各クラスタの上位単語を表示（最初の10個） =====\")\n",
    "    # ===== 各クラスタの上位単語を表示（最初の10個） =====\n",
    "    \n",
    "    for c in range(0, len(np.unique(labels))):\n",
    "        # labels == c のインデックスを取得\n",
    "        indices = np.where(labels == c)[0][:10]  # 上位10個\n",
    "        words = [y[i] for i in indices]\n",
    "        print(f\"Cluster: {c}, {words}\")\n",
    "\n",
    "    print(\"\\n===== 各クラスタの上位単語をHDBSCANの確率でソートして表示 =====\")\n",
    "    # ===== 各クラスタをHDBSCANの確率でソートして表示 =====\n",
    "    for c in range(0, 25):\n",
    "        indices = np.where(labels == c)[0]\n",
    "        # ラベル内の確率で降順ソート\n",
    "        indices_sorted = sorted(indices, key=lambda x: 1 - hdbscan_model.probabilities_[x])\n",
    "        words = [y[i] for i in indices_sorted[:10]]  # 上位10個\n",
    "        print(f\"Cluster: {c}, {words}\")\n",
    "\n",
    "    return hdbscan_model\n"
   ]
  },
  {
   "cell_type": "code",
   "execution_count": 2,
   "id": "0665b5bc",
   "metadata": {},
   "outputs": [],
   "source": [
    "def run_experiment(condensed_tree, S_list=[2,3,4,5]):\n",
    "    linkage_matrix, node_id_map1 = get_linkage_matrix_from_hdbscan(condensed_tree)\n",
    "    segments = get_dendrogram_segments(linkage_matrix[:, [0,1,3,4]])\n",
    "    plot_dendrogram_plotly(segments)\n",
    "\n",
    "    for S_min in S_list:\n",
    "        print(f\"\\n--- ストラー数 S_min = {S_min} でフィルタリング ---\")\n",
    "        filtered_linkage_matrix, node_id_map2 = filter_linkage_matrix_by_strahler(linkage_matrix, S_min=S_min, N_leaves=len(_get_leaves(condensed_tree._raw_tree)))\n",
    "        segments_filtered = get_dendrogram_segments(filtered_linkage_matrix[:, [0,1,3,4]])\n",
    "        plot_dendrogram_plotly(segments_filtered).show()"
   ]
  },
  {
   "cell_type": "code",
   "execution_count": 3,
   "id": "835f6813",
   "metadata": {},
   "outputs": [],
   "source": [
    "%run ../utils-notebook/imports.py"
   ]
  },
  {
   "cell_type": "markdown",
   "id": "4fbf0a74",
   "metadata": {},
   "source": [
    "# a"
   ]
  },
  {
   "cell_type": "code",
   "execution_count": 4,
   "id": "b0a56de2",
   "metadata": {},
   "outputs": [],
   "source": [
    "def compute_stability_python(condensed_tree):\n",
    "\n",
    "    # 1. 最小クラスタとクラスタ数を定義 (Cythonと同じロジック)\n",
    "    smallest_cluster = condensed_tree['parent'].min()\n",
    "    num_clusters = condensed_tree['parent'].max() - smallest_cluster + 1\n",
    "    \n",
    "    largest_child = max(condensed_tree['child'].max(), smallest_cluster)\n",
    "\n",
    "    # 2. lambda_birth の計算 (クラスタの誕生時の最小 lambda)\n",
    "    # condensed_tree を 'child' でソート\n",
    "    sorted_child_data = np.sort(condensed_tree[['child', 'lambda_val']], axis=0)\n",
    "    \n",
    "    # births_arr は、child ID に対応する lambda_birth を保持する\n",
    "    births_arr = np.nan * np.ones(largest_child + 1, dtype=np.double)\n",
    "    \n",
    "    current_child = -1\n",
    "    min_lambda = 0\n",
    "\n",
    "    # NumPyの structured array を Pythonループで処理 (Cythonの loopを模倣)\n",
    "    for row in range(sorted_child_data.shape[0]):\n",
    "        child = sorted_child_data[row]['child']\n",
    "        lambda_ = sorted_child_data[row]['lambda_val']\n",
    "\n",
    "        if child == current_child:\n",
    "            min_lambda = min(min_lambda, lambda_)\n",
    "        elif current_child != -1:\n",
    "            births_arr[current_child] = min_lambda\n",
    "            current_child = child\n",
    "            min_lambda = lambda_\n",
    "        else:\n",
    "            # Initialize\n",
    "            current_child = child\n",
    "            min_lambda = lambda_\n",
    "\n",
    "    if current_child != -1:\n",
    "        births_arr[current_child] = min_lambda\n",
    "        \n",
    "    births_arr[smallest_cluster] = 0.0 # ルートクラスタの lambda_birth は 0\n",
    "    \n",
    "    # 3. Stability スコアの計算\n",
    "    \n",
    "    # NumPyのベクトル演算で高速化可能だが、Cythonを模倣しループで計算\n",
    "    result_arr = np.zeros(num_clusters, dtype=np.double)\n",
    "    \n",
    "    parents = condensed_tree['parent']\n",
    "    sizes = condensed_tree['child_size']\n",
    "    lambdas = condensed_tree['lambda_val']\n",
    "\n",
    "    for i in range(condensed_tree.shape[0]):\n",
    "        parent = parents[i]\n",
    "        lambda_ = lambdas[i]\n",
    "        child_size = sizes[i]\n",
    "        result_index = parent - smallest_cluster\n",
    "        \n",
    "        # Stability(C) = Σ (lambda_death - lambda_birth) * size\n",
    "        # condensed_treeの各行は、parent が child_size のクラスタを 'lambda_' で吸収/結合するステップを示す\n",
    "        # この lambda_ は、HDBSCANロジックでは lambda_death と見なされる\n",
    "        \n",
    "        lambda_birth = births_arr[parent]\n",
    "        \n",
    "        # NOTE: HDBSCANのStability定義は複雑なため、ここはHDBSCANの内部ロジックを正確に模倣する必要があります。\n",
    "        # オリジナルのCythonコードを再現:\n",
    "        result_arr[result_index] += (lambda_ - lambda_birth) * child_size\n",
    "        \n",
    "    # 4. ID とスコアを辞書に変換\n",
    "    node_ids = np.arange(smallest_cluster, condensed_tree['parent'].max() + 1)\n",
    "    result_pre_dict = np.vstack((node_ids, result_arr)).T\n",
    "\n",
    "    # フィルタリングされていないノードを含むため、dictに変換してIDとスコアを対応させる\n",
    "    # [ID, Score] のペアの配列を辞書に変換\n",
    "    return dict(zip(result_pre_dict[:, 0].astype(int), result_pre_dict[:, 1]))"
   ]
  },
  {
   "cell_type": "code",
   "execution_count": 5,
   "id": "bf8cbec4",
   "metadata": {},
   "outputs": [],
   "source": [
    "import pickle\n",
    "file_path = \"../18_rapids/result/20251030_190647/condensed_tree_object.pkl\"\n",
    "with open(file_path, 'rb') as f:\n",
    "    condensed_tree = pickle.load(f)"
   ]
  },
  {
   "cell_type": "code",
   "execution_count": 6,
   "id": "74475d88",
   "metadata": {},
   "outputs": [],
   "source": [
    "stability_dict = compute_stability_python(condensed_tree._raw_tree)"
   ]
  },
  {
   "cell_type": "code",
   "execution_count": 7,
   "id": "78d30f6c",
   "metadata": {},
   "outputs": [
    {
     "name": "stdout",
     "output_type": "stream",
     "text": [
      "len of sorted condensed tree: 344\n",
      "len of linkage matrix: 172\n",
      "344\n",
      "Number of leaves: 173\n",
      "Leaf ID Map Size: 173\n",
      "current id: 173\n",
      "Total Node ID Map Size: 345\n",
      "current_id: 345\n",
      "Max Lambda: 2.855132579803467\n",
      "[31.910241842269897, 30.347901105880737, 35.436582922935486, 15.639745950698853, 14.921130895614624, 1.620884895324707, 3.0410799980163574, 23.363758087158203, 0.5262100696563721, 1.0080173015594482]\n"
     ]
    }
   ],
   "source": [
    "linkage_matrix, node_id_map1 = get_linkage_matrix_from_hdbscan(condensed_tree)\n",
    "# dictを逆にする\n",
    "node_id_map1_reversed = {v: k for k, v in node_id_map1.items()}\n",
    "scores = [stability_dict[node_id_map1_reversed[int(row[2])]] for row in linkage_matrix]\n",
    "print(scores[:10])"
   ]
  },
  {
   "cell_type": "code",
   "execution_count": 37,
   "id": "0cf75e60",
   "metadata": {},
   "outputs": [
    {
     "data": {
      "application/vnd.plotly.v1+json": {
       "config": {
        "plotlyServerURL": "https://plot.ly"
       },
       "data": [
        {
         "alignmentgroup": "True",
         "bingroup": "x",
         "hovertemplate": "Stability Score=%{x}<br>count=%{y}<extra></extra>",
         "legendgroup": "",
         "marker": {
          "color": "#636efa",
          "pattern": {
           "shape": ""
          }
         },
         "name": "",
         "nbinsx": 100,
         "offsetgroup": "",
         "orientation": "v",
         "showlegend": false,
         "type": "histogram",
         "x": [
          0.2544504404067993,
          0,
          360.61800491809845,
          0.29756104946136475,
          199.8180855512619,
          0.03391563892364502,
          46.8758270740509,
          0.15825927257537842,
          112.23895168304443,
          129.1069746017456,
          104.49091148376465,
          8.958279371261597,
          0,
          84.07805395126343,
          1.490737795829773,
          34.648210525512695,
          212.45208883285522,
          0.007947087287902832,
          0.051589012145996094,
          0.04971444606781006,
          383.151304602623,
          0.2636373043060303,
          0.030377507209777832,
          0.3664844036102295,
          16.079262137413025,
          0,
          37.900662302970886,
          0,
          10.849182605743408,
          36.98676943778992,
          105.31502366065979,
          3.150571584701538,
          0.021140694618225098,
          0.6447938680648804,
          98.41981875896454,
          0.8378190994262695,
          0.8463418483734131,
          0.12613117694854736,
          44.00894570350647,
          0.2985239028930664,
          63.96198093891144,
          0.04953181743621826,
          1.0977941751480103,
          8.67333722114563,
          39.067543268203735,
          0.000035762786865234375,
          0.020203232765197754,
          99.77799582481384,
          21.62313163280487,
          0,
          20.68658709526062,
          29.626696825027466,
          21.14961612224579,
          24.717546820640564,
          15.962851524353027,
          41.639347553253174,
          0.07735717296600342,
          39.9530154466629,
          0.23997128009796143,
          28.21940267086029,
          1.9638267755508423,
          22.041765213012695,
          0.08025407791137695,
          0.007339358329772949,
          0.5557106733322144,
          0.018386363983154297,
          101.97818624973297,
          0.41547369956970215,
          0.10779416561126709,
          0.22565829753875732,
          0.043956756591796875,
          23.71410059928894,
          110.13317584991455,
          0.38721251487731934,
          1.1554242372512817,
          163.60279834270477,
          0.39419591426849365,
          95.10896670818329,
          0.47174811363220215,
          0.6762785911560059,
          0.0186917781829834,
          23.36243712902069,
          0.5009678602218628,
          1.4399446249008179,
          19.279722332954407,
          65.55500388145447,
          0.25576233863830566,
          21.998236536979675,
          41.13855171203613,
          2.2264773845672607,
          8.320528149604797,
          17.250580072402954,
          0.7216078042984009,
          1.116136908531189,
          0.014604330062866211,
          27.91941773891449,
          0.02378058433532715,
          5.669777512550354,
          7.1463319063186646,
          74.29120671749115,
          0.36267566680908203,
          0.08801829814910889,
          0.7590247392654419,
          0.17985546588897705,
          0.6379266977310181,
          6.194496750831604,
          0,
          1.1661134958267212,
          1.5254952907562256,
          14.157975196838379,
          0.2856680154800415,
          115.72780358791351,
          0.6564512252807617,
          0.8844563961029053,
          0.46274590492248535,
          0.3217889070510864,
          0.09341597557067871,
          0.4509938955307007,
          118.57705736160278,
          0.4193382263183594,
          55.52246081829071,
          0.1288384199142456,
          0.036193013191223145,
          0.3279153108596802,
          0.3714860677719116,
          0,
          56.50333881378174,
          170.82307016849518,
          0.03998458385467529,
          0.031972527503967285,
          0.5994833707809448,
          11.784030437469482,
          0.07132172584533691,
          0.0651475191116333,
          19.674988985061646,
          1.0147864818572998,
          8.659054160118103,
          14.162770509719849,
          0.23069775104522705,
          1.4830528497695923,
          0.11682558059692383,
          37.19425308704376,
          0.1814783811569214,
          26.472588300704956,
          46.395562171936035,
          0.09341943264007568,
          0.06676208972930908,
          13.201573014259338,
          0.02074587345123291,
          88.67209231853485,
          0.024523258209228516,
          0.9103171825408936,
          36.610663294792175,
          1.8585985898971558,
          0.475680947303772,
          0,
          22.734453320503235,
          9.661599159240723,
          2.639618992805481,
          19.877922415733337,
          10.42964518070221,
          3.0751795768737793,
          12.44248116016388,
          0.9371931552886963,
          0.23173248767852783,
          0.11805140972137451,
          14.06203317642212,
          0,
          56.21400845050812,
          0.25631189346313477,
          0,
          8.50418496131897,
          14.90671455860138,
          0.07463741302490234,
          0.17703795433044434,
          6.705460906028748,
          4.812723278999329,
          2.963355541229248,
          1.256947636604309,
          16.679038524627686,
          0.019524097442626953,
          28.865293979644775,
          0.11739838123321533,
          0.6060973405838013,
          23.845261812210083,
          16.1539523601532,
          0.18716812133789062,
          61.18431103229523,
          0.14142906665802002,
          0,
          11.56964123249054,
          40.1826388835907,
          0.6199277639389038,
          0,
          2.041295051574707,
          3.211110234260559,
          0.05393409729003906,
          15.843468070030212,
          0.4141995906829834,
          1.952393889427185,
          77.39909958839417,
          0.09268152713775635,
          0.1070098876953125,
          0.24412024021148682,
          0.5378601551055908,
          0.07356655597686768,
          0.007071733474731445,
          214.26770949363708,
          0.7799875736236572,
          0.7246612310409546,
          0.06814491748809814,
          1.852468729019165,
          0.02798140048980713,
          4.142510294914246,
          0.8362613916397095,
          45.49162745475769,
          0.14008641242980957,
          0.733101487159729,
          93.8745105266571,
          104.5986760854721,
          0.7974846363067627,
          0.3010239601135254,
          1.445175290107727,
          0.8343534469604492,
          0.251908540725708,
          51.51834285259247,
          34.02062380313873,
          1.3907554149627686,
          1.8324402570724487,
          0.6888711452484131,
          4.98572039604187,
          15.152596950531006,
          11.850198984146118,
          0.5444231033325195,
          3.6573985815048218,
          26.766274094581604,
          0.1864018440246582,
          65.32842206954956,
          0.2730236053466797,
          0.44455552101135254,
          1.0189627408981323,
          176.19543731212616,
          1.2606478929519653,
          13.733349084854126,
          2.385970950126648,
          20.766836047172546,
          3.6055984497070312,
          0.552966833114624,
          15.494465470314026,
          128.12949311733246,
          0.2408355474472046,
          2.552406430244446,
          4.007352709770203,
          5.041186332702637,
          5.173556685447693,
          1.8615890741348267,
          1.4350539445877075,
          45.34887945652008,
          2.9756678342819214,
          42.207786202430725,
          15.70857322216034,
          52.14374303817749,
          3.363657593727112,
          0.1449962854385376,
          20.454681754112244,
          103.60811638832092,
          3.4172650575637817,
          0.157295823097229,
          2.1463510990142822,
          0,
          29.545793890953064,
          8.478776454925537,
          68.72421503067017,
          1.3644236326217651,
          2.1994218826293945,
          29.759323120117188,
          5.800582408905029,
          128.96611714363098,
          0.8472620248794556,
          1.3147701025009155,
          80.66572225093842,
          0.7726889848709106,
          3.447134494781494,
          63.50487422943115,
          0.27306032180786133,
          19.632968306541443,
          6.9951077699661255,
          32.20211589336395,
          0.5358418226242065,
          20.11908733844757,
          5.241451263427734,
          9.695531606674194,
          5.018295049667358,
          1.4352350234985352,
          142.62802302837372,
          1.1663973331451416,
          11.181521773338318,
          0.3178060054779053,
          13.7295401096344,
          21.563533902168274,
          0.30142247676849365,
          1.1268733739852905,
          2.2439393997192383,
          59.13447093963623,
          1.2218934297561646,
          5.792094826698303,
          43.19887328147888,
          4.212075114250183,
          3.339150547981262,
          21.150498270988464,
          19.822010040283203,
          35.436582922935486,
          43.270471811294556,
          0.39193058013916016,
          15.02173399925232,
          0.9327335357666016,
          3.0410799980163574,
          1.0080173015594482,
          23.363758087158203,
          0.5262100696563721,
          7.286462783813477,
          2.4872140884399414,
          1.620884895324707,
          5.080709338188171,
          30.347901105880737,
          14.806302547454834,
          8.023329019546509,
          14.921130895614624,
          10.963137149810791,
          0,
          1.4535777568817139,
          3.5312087535858154,
          15.639745950698853,
          4.071559906005859,
          11.649698972702026,
          31.910241842269897,
          0,
          1.0128352642059326,
          2.3471102714538574,
          29.658501148223877,
          10.527821779251099,
          19.1862154006958
         ],
         "xaxis": "x",
         "yaxis": "y"
        }
       ],
       "layout": {
        "barmode": "relative",
        "legend": {
         "tracegroupgap": 0
        },
        "template": {
         "data": {
          "bar": [
           {
            "error_x": {
             "color": "#2a3f5f"
            },
            "error_y": {
             "color": "#2a3f5f"
            },
            "marker": {
             "line": {
              "color": "white",
              "width": 0.5
             },
             "pattern": {
              "fillmode": "overlay",
              "size": 10,
              "solidity": 0.2
             }
            },
            "type": "bar"
           }
          ],
          "barpolar": [
           {
            "marker": {
             "line": {
              "color": "white",
              "width": 0.5
             },
             "pattern": {
              "fillmode": "overlay",
              "size": 10,
              "solidity": 0.2
             }
            },
            "type": "barpolar"
           }
          ],
          "carpet": [
           {
            "aaxis": {
             "endlinecolor": "#2a3f5f",
             "gridcolor": "#C8D4E3",
             "linecolor": "#C8D4E3",
             "minorgridcolor": "#C8D4E3",
             "startlinecolor": "#2a3f5f"
            },
            "baxis": {
             "endlinecolor": "#2a3f5f",
             "gridcolor": "#C8D4E3",
             "linecolor": "#C8D4E3",
             "minorgridcolor": "#C8D4E3",
             "startlinecolor": "#2a3f5f"
            },
            "type": "carpet"
           }
          ],
          "choropleth": [
           {
            "colorbar": {
             "outlinewidth": 0,
             "ticks": ""
            },
            "type": "choropleth"
           }
          ],
          "contour": [
           {
            "colorbar": {
             "outlinewidth": 0,
             "ticks": ""
            },
            "colorscale": [
             [
              0,
              "#0d0887"
             ],
             [
              0.1111111111111111,
              "#46039f"
             ],
             [
              0.2222222222222222,
              "#7201a8"
             ],
             [
              0.3333333333333333,
              "#9c179e"
             ],
             [
              0.4444444444444444,
              "#bd3786"
             ],
             [
              0.5555555555555556,
              "#d8576b"
             ],
             [
              0.6666666666666666,
              "#ed7953"
             ],
             [
              0.7777777777777778,
              "#fb9f3a"
             ],
             [
              0.8888888888888888,
              "#fdca26"
             ],
             [
              1,
              "#f0f921"
             ]
            ],
            "type": "contour"
           }
          ],
          "contourcarpet": [
           {
            "colorbar": {
             "outlinewidth": 0,
             "ticks": ""
            },
            "type": "contourcarpet"
           }
          ],
          "heatmap": [
           {
            "colorbar": {
             "outlinewidth": 0,
             "ticks": ""
            },
            "colorscale": [
             [
              0,
              "#0d0887"
             ],
             [
              0.1111111111111111,
              "#46039f"
             ],
             [
              0.2222222222222222,
              "#7201a8"
             ],
             [
              0.3333333333333333,
              "#9c179e"
             ],
             [
              0.4444444444444444,
              "#bd3786"
             ],
             [
              0.5555555555555556,
              "#d8576b"
             ],
             [
              0.6666666666666666,
              "#ed7953"
             ],
             [
              0.7777777777777778,
              "#fb9f3a"
             ],
             [
              0.8888888888888888,
              "#fdca26"
             ],
             [
              1,
              "#f0f921"
             ]
            ],
            "type": "heatmap"
           }
          ],
          "heatmapgl": [
           {
            "colorbar": {
             "outlinewidth": 0,
             "ticks": ""
            },
            "colorscale": [
             [
              0,
              "#0d0887"
             ],
             [
              0.1111111111111111,
              "#46039f"
             ],
             [
              0.2222222222222222,
              "#7201a8"
             ],
             [
              0.3333333333333333,
              "#9c179e"
             ],
             [
              0.4444444444444444,
              "#bd3786"
             ],
             [
              0.5555555555555556,
              "#d8576b"
             ],
             [
              0.6666666666666666,
              "#ed7953"
             ],
             [
              0.7777777777777778,
              "#fb9f3a"
             ],
             [
              0.8888888888888888,
              "#fdca26"
             ],
             [
              1,
              "#f0f921"
             ]
            ],
            "type": "heatmapgl"
           }
          ],
          "histogram": [
           {
            "marker": {
             "pattern": {
              "fillmode": "overlay",
              "size": 10,
              "solidity": 0.2
             }
            },
            "type": "histogram"
           }
          ],
          "histogram2d": [
           {
            "colorbar": {
             "outlinewidth": 0,
             "ticks": ""
            },
            "colorscale": [
             [
              0,
              "#0d0887"
             ],
             [
              0.1111111111111111,
              "#46039f"
             ],
             [
              0.2222222222222222,
              "#7201a8"
             ],
             [
              0.3333333333333333,
              "#9c179e"
             ],
             [
              0.4444444444444444,
              "#bd3786"
             ],
             [
              0.5555555555555556,
              "#d8576b"
             ],
             [
              0.6666666666666666,
              "#ed7953"
             ],
             [
              0.7777777777777778,
              "#fb9f3a"
             ],
             [
              0.8888888888888888,
              "#fdca26"
             ],
             [
              1,
              "#f0f921"
             ]
            ],
            "type": "histogram2d"
           }
          ],
          "histogram2dcontour": [
           {
            "colorbar": {
             "outlinewidth": 0,
             "ticks": ""
            },
            "colorscale": [
             [
              0,
              "#0d0887"
             ],
             [
              0.1111111111111111,
              "#46039f"
             ],
             [
              0.2222222222222222,
              "#7201a8"
             ],
             [
              0.3333333333333333,
              "#9c179e"
             ],
             [
              0.4444444444444444,
              "#bd3786"
             ],
             [
              0.5555555555555556,
              "#d8576b"
             ],
             [
              0.6666666666666666,
              "#ed7953"
             ],
             [
              0.7777777777777778,
              "#fb9f3a"
             ],
             [
              0.8888888888888888,
              "#fdca26"
             ],
             [
              1,
              "#f0f921"
             ]
            ],
            "type": "histogram2dcontour"
           }
          ],
          "mesh3d": [
           {
            "colorbar": {
             "outlinewidth": 0,
             "ticks": ""
            },
            "type": "mesh3d"
           }
          ],
          "parcoords": [
           {
            "line": {
             "colorbar": {
              "outlinewidth": 0,
              "ticks": ""
             }
            },
            "type": "parcoords"
           }
          ],
          "pie": [
           {
            "automargin": true,
            "type": "pie"
           }
          ],
          "scatter": [
           {
            "fillpattern": {
             "fillmode": "overlay",
             "size": 10,
             "solidity": 0.2
            },
            "type": "scatter"
           }
          ],
          "scatter3d": [
           {
            "line": {
             "colorbar": {
              "outlinewidth": 0,
              "ticks": ""
             }
            },
            "marker": {
             "colorbar": {
              "outlinewidth": 0,
              "ticks": ""
             }
            },
            "type": "scatter3d"
           }
          ],
          "scattercarpet": [
           {
            "marker": {
             "colorbar": {
              "outlinewidth": 0,
              "ticks": ""
             }
            },
            "type": "scattercarpet"
           }
          ],
          "scattergeo": [
           {
            "marker": {
             "colorbar": {
              "outlinewidth": 0,
              "ticks": ""
             }
            },
            "type": "scattergeo"
           }
          ],
          "scattergl": [
           {
            "marker": {
             "colorbar": {
              "outlinewidth": 0,
              "ticks": ""
             }
            },
            "type": "scattergl"
           }
          ],
          "scattermapbox": [
           {
            "marker": {
             "colorbar": {
              "outlinewidth": 0,
              "ticks": ""
             }
            },
            "type": "scattermapbox"
           }
          ],
          "scatterpolar": [
           {
            "marker": {
             "colorbar": {
              "outlinewidth": 0,
              "ticks": ""
             }
            },
            "type": "scatterpolar"
           }
          ],
          "scatterpolargl": [
           {
            "marker": {
             "colorbar": {
              "outlinewidth": 0,
              "ticks": ""
             }
            },
            "type": "scatterpolargl"
           }
          ],
          "scatterternary": [
           {
            "marker": {
             "colorbar": {
              "outlinewidth": 0,
              "ticks": ""
             }
            },
            "type": "scatterternary"
           }
          ],
          "surface": [
           {
            "colorbar": {
             "outlinewidth": 0,
             "ticks": ""
            },
            "colorscale": [
             [
              0,
              "#0d0887"
             ],
             [
              0.1111111111111111,
              "#46039f"
             ],
             [
              0.2222222222222222,
              "#7201a8"
             ],
             [
              0.3333333333333333,
              "#9c179e"
             ],
             [
              0.4444444444444444,
              "#bd3786"
             ],
             [
              0.5555555555555556,
              "#d8576b"
             ],
             [
              0.6666666666666666,
              "#ed7953"
             ],
             [
              0.7777777777777778,
              "#fb9f3a"
             ],
             [
              0.8888888888888888,
              "#fdca26"
             ],
             [
              1,
              "#f0f921"
             ]
            ],
            "type": "surface"
           }
          ],
          "table": [
           {
            "cells": {
             "fill": {
              "color": "#EBF0F8"
             },
             "line": {
              "color": "white"
             }
            },
            "header": {
             "fill": {
              "color": "#C8D4E3"
             },
             "line": {
              "color": "white"
             }
            },
            "type": "table"
           }
          ]
         },
         "layout": {
          "annotationdefaults": {
           "arrowcolor": "#2a3f5f",
           "arrowhead": 0,
           "arrowwidth": 1
          },
          "autotypenumbers": "strict",
          "coloraxis": {
           "colorbar": {
            "outlinewidth": 0,
            "ticks": ""
           }
          },
          "colorscale": {
           "diverging": [
            [
             0,
             "#8e0152"
            ],
            [
             0.1,
             "#c51b7d"
            ],
            [
             0.2,
             "#de77ae"
            ],
            [
             0.3,
             "#f1b6da"
            ],
            [
             0.4,
             "#fde0ef"
            ],
            [
             0.5,
             "#f7f7f7"
            ],
            [
             0.6,
             "#e6f5d0"
            ],
            [
             0.7,
             "#b8e186"
            ],
            [
             0.8,
             "#7fbc41"
            ],
            [
             0.9,
             "#4d9221"
            ],
            [
             1,
             "#276419"
            ]
           ],
           "sequential": [
            [
             0,
             "#0d0887"
            ],
            [
             0.1111111111111111,
             "#46039f"
            ],
            [
             0.2222222222222222,
             "#7201a8"
            ],
            [
             0.3333333333333333,
             "#9c179e"
            ],
            [
             0.4444444444444444,
             "#bd3786"
            ],
            [
             0.5555555555555556,
             "#d8576b"
            ],
            [
             0.6666666666666666,
             "#ed7953"
            ],
            [
             0.7777777777777778,
             "#fb9f3a"
            ],
            [
             0.8888888888888888,
             "#fdca26"
            ],
            [
             1,
             "#f0f921"
            ]
           ],
           "sequentialminus": [
            [
             0,
             "#0d0887"
            ],
            [
             0.1111111111111111,
             "#46039f"
            ],
            [
             0.2222222222222222,
             "#7201a8"
            ],
            [
             0.3333333333333333,
             "#9c179e"
            ],
            [
             0.4444444444444444,
             "#bd3786"
            ],
            [
             0.5555555555555556,
             "#d8576b"
            ],
            [
             0.6666666666666666,
             "#ed7953"
            ],
            [
             0.7777777777777778,
             "#fb9f3a"
            ],
            [
             0.8888888888888888,
             "#fdca26"
            ],
            [
             1,
             "#f0f921"
            ]
           ]
          },
          "colorway": [
           "#636efa",
           "#EF553B",
           "#00cc96",
           "#ab63fa",
           "#FFA15A",
           "#19d3f3",
           "#FF6692",
           "#B6E880",
           "#FF97FF",
           "#FECB52"
          ],
          "font": {
           "color": "#2a3f5f"
          },
          "geo": {
           "bgcolor": "white",
           "lakecolor": "white",
           "landcolor": "white",
           "showlakes": true,
           "showland": true,
           "subunitcolor": "#C8D4E3"
          },
          "hoverlabel": {
           "align": "left"
          },
          "hovermode": "closest",
          "mapbox": {
           "style": "light"
          },
          "paper_bgcolor": "white",
          "plot_bgcolor": "white",
          "polar": {
           "angularaxis": {
            "gridcolor": "#EBF0F8",
            "linecolor": "#EBF0F8",
            "ticks": ""
           },
           "bgcolor": "white",
           "radialaxis": {
            "gridcolor": "#EBF0F8",
            "linecolor": "#EBF0F8",
            "ticks": ""
           }
          },
          "scene": {
           "xaxis": {
            "backgroundcolor": "white",
            "gridcolor": "#DFE8F3",
            "gridwidth": 2,
            "linecolor": "#EBF0F8",
            "showbackground": true,
            "ticks": "",
            "zerolinecolor": "#EBF0F8"
           },
           "yaxis": {
            "backgroundcolor": "white",
            "gridcolor": "#DFE8F3",
            "gridwidth": 2,
            "linecolor": "#EBF0F8",
            "showbackground": true,
            "ticks": "",
            "zerolinecolor": "#EBF0F8"
           },
           "zaxis": {
            "backgroundcolor": "white",
            "gridcolor": "#DFE8F3",
            "gridwidth": 2,
            "linecolor": "#EBF0F8",
            "showbackground": true,
            "ticks": "",
            "zerolinecolor": "#EBF0F8"
           }
          },
          "shapedefaults": {
           "line": {
            "color": "#2a3f5f"
           }
          },
          "ternary": {
           "aaxis": {
            "gridcolor": "#DFE8F3",
            "linecolor": "#A2B1C6",
            "ticks": ""
           },
           "baxis": {
            "gridcolor": "#DFE8F3",
            "linecolor": "#A2B1C6",
            "ticks": ""
           },
           "bgcolor": "white",
           "caxis": {
            "gridcolor": "#DFE8F3",
            "linecolor": "#A2B1C6",
            "ticks": ""
           }
          },
          "title": {
           "x": 0.05
          },
          "xaxis": {
           "automargin": true,
           "gridcolor": "#EBF0F8",
           "linecolor": "#EBF0F8",
           "ticks": "",
           "title": {
            "standoff": 15
           },
           "zerolinecolor": "#EBF0F8",
           "zerolinewidth": 2
          },
          "yaxis": {
           "automargin": true,
           "gridcolor": "#EBF0F8",
           "linecolor": "#EBF0F8",
           "ticks": "",
           "title": {
            "standoff": 15
           },
           "zerolinecolor": "#EBF0F8",
           "zerolinewidth": 2
          }
         }
        },
        "title": {
         "text": "Stability Score Distribution"
        },
        "xaxis": {
         "anchor": "y",
         "domain": [
          0,
          1
         ],
         "title": {
          "text": "Stability Score"
         }
        },
        "yaxis": {
         "anchor": "x",
         "domain": [
          0,
          1
         ],
         "title": {
          "text": "count"
         }
        }
       }
      }
     },
     "metadata": {},
     "output_type": "display_data"
    }
   ],
   "source": [
    "denoised_stability = [score for score in stability_dict.values() if score < 600]\n",
    "fig = px.histogram(\n",
    "    x=denoised_stability,\n",
    "    nbins=100,\n",
    "    title='Stability Score Distribution',\n",
    "    labels={'x': 'Stability Score', 'y': 'Count'},\n",
    "    template='plotly_white'\n",
    ").show()"
   ]
  },
  {
   "cell_type": "code",
   "execution_count": 34,
   "id": "23a63c74",
   "metadata": {},
   "outputs": [],
   "source": [
    "# color\n",
    "\n",
    "max_score = 150\n",
    "min_score = 0\n",
    "from plotly.colors import sequential\n",
    "\n",
    "COLOR_SCALE = sequential.Hot # https://plotly.com/python/builtin-colorscales/\n",
    "def map_score_to_color(score, min_score, max_score, color_scale):\n",
    "    # スコアを0-1に正規化\n",
    "    normalized = (min(max_score, score) - min_score) / (max_score - min_score)\n",
    "    # カラースケールのインデックスを計算\n",
    "    index = int(normalized * (len(color_scale) - 1))\n",
    "    return color_scale[index]\n",
    "\n",
    "colors = [map_score_to_color(score, min_score, max_score, COLOR_SCALE) for score in scores]\n",
    "colors = sum([[color]*3 for color in colors], [])\n",
    "scores = sum([[score]*3 for score in scores], [])"
   ]
  },
  {
   "cell_type": "code",
   "execution_count": 41,
   "id": "e1c860e1",
   "metadata": {},
   "outputs": [
    {
     "data": {
      "application/vnd.plotly.v1+json": {
       "config": {
        "plotlyServerURL": "https://plot.ly"
       },
       "data": [
        {
         "hoverinfo": "text",
         "line": {
          "color": "rgb(0,0,0)",
          "width": 1
         },
         "mode": "lines",
         "text": "Segment 0: (195.00, 1.60) to (195.00, 1.60, score=31.91)",
         "type": "scatter",
         "x": [
          195,
          195
         ],
         "y": [
          1.6012670993804932,
          1.6012670993804932
         ]
        },
        {
         "hoverinfo": "text",
         "line": {
          "color": "rgb(0,0,0)",
          "width": 1
         },
         "mode": "lines",
         "text": "Segment 1: (200.00, 1.60) to (200.00, 1.60, score=31.91)",
         "type": "scatter",
         "x": [
          200,
          200
         ],
         "y": [
          1.6012670993804932,
          1.6012670993804932
         ]
        },
        {
         "hoverinfo": "text",
         "line": {
          "color": "rgb(0,0,0)",
          "width": 1
         },
         "mode": "lines",
         "text": "Segment 2: (205.00, 1.60) to (205.00, 1.60, score=31.91)",
         "type": "scatter",
         "x": [
          205,
          205
         ],
         "y": [
          1.6012670993804932,
          1.6012670993804932
         ]
        },
        {
         "hoverinfo": "text",
         "line": {
          "color": "rgb(0,0,0)",
          "width": 1
         },
         "mode": "lines",
         "text": "Segment 3: (365.00, 1.55) to (365.00, 1.55, score=31.91)",
         "type": "scatter",
         "x": [
          365,
          365
         ],
         "y": [
          1.5474919080734253,
          1.5474919080734253
         ]
        },
        {
         "hoverinfo": "text",
         "line": {
          "color": "rgb(0,0,0)",
          "width": 1
         },
         "mode": "lines",
         "text": "Segment 4: (370.00, 1.55) to (370.00, 1.55, score=31.91)",
         "type": "scatter",
         "x": [
          370,
          370
         ],
         "y": [
          1.5474919080734253,
          1.5474919080734253
         ]
        },
        {
         "hoverinfo": "text",
         "line": {
          "color": "rgb(0,0,0)",
          "width": 1
         },
         "mode": "lines",
         "text": "Segment 5: (375.00, 1.55) to (375.00, 1.55, score=31.91)",
         "type": "scatter",
         "x": [
          375,
          375
         ],
         "y": [
          1.5474919080734253,
          1.5474919080734253
         ]
        },
        {
         "hoverinfo": "text",
         "line": {
          "color": "rgb(0,0,0)",
          "width": 1
         },
         "mode": "lines",
         "text": "Segment 6: (415.00, 1.55) to (415.00, 1.55, score=31.91)",
         "type": "scatter",
         "x": [
          415,
          415
         ],
         "y": [
          1.5539824962615967,
          1.5539824962615967
         ]
        },
        {
         "hoverinfo": "text",
         "line": {
          "color": "rgb(0,0,0)",
          "width": 1
         },
         "mode": "lines",
         "text": "Segment 7: (420.00, 1.55) to (420.00, 1.55, score=31.91)",
         "type": "scatter",
         "x": [
          420,
          420
         ],
         "y": [
          1.5539824962615967,
          1.5539824962615967
         ]
        },
        {
         "hoverinfo": "text",
         "line": {
          "color": "rgb(0,0,0)",
          "width": 1
         },
         "mode": "lines",
         "text": "Segment 8: (425.00, 1.55) to (425.00, 1.55, score=31.91)",
         "type": "scatter",
         "x": [
          425,
          425
         ],
         "y": [
          1.5539824962615967,
          1.5539824962615967
         ]
        },
        {
         "hoverinfo": "text",
         "line": {
          "color": "rgb(0,0,0)",
          "width": 1
         },
         "mode": "lines",
         "text": "Segment 9: (435.00, 1.49) to (435.00, 1.49, score=30.35)",
         "type": "scatter",
         "x": [
          435,
          435
         ],
         "y": [
          1.4873526096343994,
          1.4873526096343994
         ]
        },
        {
         "hoverinfo": "text",
         "line": {
          "color": "rgb(0,0,0)",
          "width": 1
         },
         "mode": "lines",
         "text": "Segment 10: (440.00, 1.49) to (440.00, 1.49, score=30.35)",
         "type": "scatter",
         "x": [
          440,
          440
         ],
         "y": [
          1.4873526096343994,
          1.4873526096343994
         ]
        },
        {
         "hoverinfo": "text",
         "line": {
          "color": "rgb(0,0,0)",
          "width": 1
         },
         "mode": "lines",
         "text": "Segment 11: (445.00, 1.49) to (445.00, 1.49, score=30.35)",
         "type": "scatter",
         "x": [
          445,
          445
         ],
         "y": [
          1.4873526096343994,
          1.4873526096343994
         ]
        },
        {
         "hoverinfo": "text",
         "line": {
          "color": "rgb(0,0,0)",
          "width": 1
         },
         "mode": "lines",
         "text": "Segment 12: (455.00, 1.48) to (455.00, 1.48, score=30.35)",
         "type": "scatter",
         "x": [
          455,
          455
         ],
         "y": [
          1.4811105728149414,
          1.4811105728149414
         ]
        },
        {
         "hoverinfo": "text",
         "line": {
          "color": "rgb(0,0,0)",
          "width": 1
         },
         "mode": "lines",
         "text": "Segment 13: (460.00, 1.48) to (460.00, 1.48, score=30.35)",
         "type": "scatter",
         "x": [
          460,
          460
         ],
         "y": [
          1.4811105728149414,
          1.4811105728149414
         ]
        },
        {
         "hoverinfo": "text",
         "line": {
          "color": "rgb(0,0,0)",
          "width": 1
         },
         "mode": "lines",
         "text": "Segment 14: (465.00, 1.48) to (465.00, 1.48, score=30.35)",
         "type": "scatter",
         "x": [
          465,
          465
         ],
         "y": [
          1.4811105728149414,
          1.4811105728149414
         ]
        },
        {
         "hoverinfo": "text",
         "line": {
          "color": "rgb(0,0,0)",
          "width": 1
         },
         "mode": "lines",
         "text": "Segment 15: (625.00, 0.62) to (625.00, 0.62, score=30.35)",
         "type": "scatter",
         "x": [
          625,
          625
         ],
         "y": [
          0.6235778331756592,
          0.6235778331756592
         ]
        },
        {
         "hoverinfo": "text",
         "line": {
          "color": "rgb(0,0,0)",
          "width": 1
         },
         "mode": "lines",
         "text": "Segment 16: (630.00, 0.62) to (630.00, 0.62, score=30.35)",
         "type": "scatter",
         "x": [
          630,
          630
         ],
         "y": [
          0.6235778331756592,
          0.6235778331756592
         ]
        },
        {
         "hoverinfo": "text",
         "line": {
          "color": "rgb(0,0,0)",
          "width": 1
         },
         "mode": "lines",
         "text": "Segment 17: (635.00, 0.62) to (635.00, 0.62, score=30.35)",
         "type": "scatter",
         "x": [
          635,
          635
         ],
         "y": [
          0.6235778331756592,
          0.6235778331756592
         ]
        },
        {
         "hoverinfo": "text",
         "line": {
          "color": "rgb(0,0,0)",
          "width": 1
         },
         "mode": "lines",
         "text": "Segment 18: (675.00, 0.00) to (675.00, 0.00, score=35.44)",
         "type": "scatter",
         "x": [
          675,
          675
         ],
         "y": [
          0,
          0
         ]
        },
        {
         "hoverinfo": "text",
         "line": {
          "color": "rgb(0,0,0)",
          "width": 1
         },
         "mode": "lines",
         "text": "Segment 19: (680.00, 0.00) to (680.00, 0.00, score=35.44)",
         "type": "scatter",
         "x": [
          680,
          680
         ],
         "y": [
          0,
          0
         ]
        },
        {
         "hoverinfo": "text",
         "line": {
          "color": "rgb(0,0,0)",
          "width": 1
         },
         "mode": "lines",
         "text": "Segment 20: (685.00, 0.00) to (685.00, 0.00, score=35.44)",
         "type": "scatter",
         "x": [
          685,
          685
         ],
         "y": [
          0,
          0
         ]
        },
        {
         "hoverinfo": "text",
         "line": {
          "color": "rgb(0,0,0)",
          "width": 1
         },
         "mode": "lines",
         "text": "Segment 21: (665.00, 0.46) to (665.00, 0.46, score=35.44)",
         "type": "scatter",
         "x": [
          665,
          665
         ],
         "y": [
          0.46476221084594727,
          0.46476221084594727
         ]
        },
        {
         "hoverinfo": "text",
         "line": {
          "color": "rgb(0,0,0)",
          "width": 1
         },
         "mode": "lines",
         "text": "Segment 22: (672.50, 0.46) to (672.50, 0.46, score=35.44)",
         "type": "scatter",
         "x": [
          672.5,
          672.5
         ],
         "y": [
          0.46476221084594727,
          0.46476221084594727
         ]
        },
        {
         "hoverinfo": "text",
         "line": {
          "color": "rgb(0,0,0)",
          "width": 1
         },
         "mode": "lines",
         "text": "Segment 23: (680.00, 0.46) to (680.00, 0.46, score=35.44)",
         "type": "scatter",
         "x": [
          680,
          680
         ],
         "y": [
          0.46476221084594727,
          0.46476221084594727
         ]
        },
        {
         "hoverinfo": "text",
         "line": {
          "color": "rgb(0,0,0)",
          "width": 1
         },
         "mode": "lines",
         "text": "Segment 24: (655.00, 0.56) to (655.00, 0.56, score=35.44)",
         "type": "scatter",
         "x": [
          655,
          655
         ],
         "y": [
          0.5596106052398682,
          0.5596106052398682
         ]
        },
        {
         "hoverinfo": "text",
         "line": {
          "color": "rgb(0,0,0)",
          "width": 1
         },
         "mode": "lines",
         "text": "Segment 25: (663.75, 0.56) to (672.50, 0.56, score=35.44)",
         "type": "scatter",
         "x": [
          663.75,
          672.5
         ],
         "y": [
          0.5596106052398682,
          0.5596106052398682
         ]
        },
        {
         "hoverinfo": "text",
         "line": {
          "color": "rgb(0,0,0)",
          "width": 1
         },
         "mode": "lines",
         "text": "Segment 26: (672.50, 0.46) to (672.50, 0.56, score=35.44)",
         "type": "scatter",
         "x": [
          672.5,
          672.5
         ],
         "y": [
          0.46476221084594727,
          0.5596106052398682
         ]
        },
        {
         "hoverinfo": "text",
         "line": {
          "color": "rgb(0,0,0)",
          "width": 1
         },
         "mode": "lines",
         "text": "Segment 27: (645.00, 0.63) to (645.00, 0.63, score=15.64)",
         "type": "scatter",
         "x": [
          645,
          645
         ],
         "y": [
          0.6300051212310791,
          0.6300051212310791
         ]
        },
        {
         "hoverinfo": "text",
         "line": {
          "color": "rgb(0,0,0)",
          "width": 1
         },
         "mode": "lines",
         "text": "Segment 28: (654.38, 0.63) to (663.75, 0.63, score=15.64)",
         "type": "scatter",
         "x": [
          654.375,
          663.75
         ],
         "y": [
          0.6300051212310791,
          0.6300051212310791
         ]
        },
        {
         "hoverinfo": "text",
         "line": {
          "color": "rgb(0,0,0)",
          "width": 1
         },
         "mode": "lines",
         "text": "Segment 29: (663.75, 0.56) to (663.75, 0.63, score=15.64)",
         "type": "scatter",
         "x": [
          663.75,
          663.75
         ],
         "y": [
          0.5596106052398682,
          0.6300051212310791
         ]
        },
        {
         "hoverinfo": "text",
         "line": {
          "color": "rgb(0,0,0)",
          "width": 1
         },
         "mode": "lines",
         "text": "Segment 30: (705.00, 0.18) to (705.00, 0.18, score=15.64)",
         "type": "scatter",
         "x": [
          705,
          705
         ],
         "y": [
          0.17586493492126465,
          0.17586493492126465
         ]
        },
        {
         "hoverinfo": "text",
         "line": {
          "color": "rgb(0,0,0)",
          "width": 1
         },
         "mode": "lines",
         "text": "Segment 31: (710.00, 0.18) to (710.00, 0.18, score=15.64)",
         "type": "scatter",
         "x": [
          710,
          710
         ],
         "y": [
          0.17586493492126465,
          0.17586493492126465
         ]
        },
        {
         "hoverinfo": "text",
         "line": {
          "color": "rgb(0,0,0)",
          "width": 1
         },
         "mode": "lines",
         "text": "Segment 32: (715.00, 0.18) to (715.00, 0.18, score=15.64)",
         "type": "scatter",
         "x": [
          715,
          715
         ],
         "y": [
          0.17586493492126465,
          0.17586493492126465
         ]
        },
        {
         "hoverinfo": "text",
         "line": {
          "color": "rgb(0,0,0)",
          "width": 1
         },
         "mode": "lines",
         "text": "Segment 33: (695.00, 0.71) to (695.00, 0.71, score=15.64)",
         "type": "scatter",
         "x": [
          695,
          695
         ],
         "y": [
          0.7063069343566895,
          0.7063069343566895
         ]
        },
        {
         "hoverinfo": "text",
         "line": {
          "color": "rgb(0,0,0)",
          "width": 1
         },
         "mode": "lines",
         "text": "Segment 34: (702.50, 0.71) to (710.00, 0.71, score=15.64)",
         "type": "scatter",
         "x": [
          702.5,
          710
         ],
         "y": [
          0.7063069343566895,
          0.7063069343566895
         ]
        },
        {
         "hoverinfo": "text",
         "line": {
          "color": "rgb(0,0,0)",
          "width": 1
         },
         "mode": "lines",
         "text": "Segment 35: (710.00, 0.18) to (710.00, 0.71, score=15.64)",
         "type": "scatter",
         "x": [
          710,
          710
         ],
         "y": [
          0.17586493492126465,
          0.7063069343566895
         ]
        },
        {
         "hoverinfo": "text",
         "line": {
          "color": "rgb(0,0,0)",
          "width": 1
         },
         "mode": "lines",
         "text": "Segment 36: (654.38, 0.63) to (654.38, 0.71, score=14.92)",
         "type": "scatter",
         "x": [
          654.375,
          654.375
         ],
         "y": [
          0.6300051212310791,
          0.7122852802276611
         ]
        },
        {
         "hoverinfo": "text",
         "line": {
          "color": "rgb(0,0,0)",
          "width": 1
         },
         "mode": "lines",
         "text": "Segment 37: (654.38, 0.71) to (702.50, 0.71, score=14.92)",
         "type": "scatter",
         "x": [
          654.375,
          702.5
         ],
         "y": [
          0.7122852802276611,
          0.7122852802276611
         ]
        },
        {
         "hoverinfo": "text",
         "line": {
          "color": "rgb(0,0,0)",
          "width": 1
         },
         "mode": "lines",
         "text": "Segment 38: (702.50, 0.71) to (702.50, 0.71, score=14.92)",
         "type": "scatter",
         "x": [
          702.5,
          702.5
         ],
         "y": [
          0.7063069343566895,
          0.7122852802276611
         ]
        },
        {
         "hoverinfo": "text",
         "line": {
          "color": "rgb(0,0,0)",
          "width": 1
         },
         "mode": "lines",
         "text": "Segment 39: (630.00, 0.62) to (630.00, 0.71, score=14.92)",
         "type": "scatter",
         "x": [
          630,
          630
         ],
         "y": [
          0.6235778331756592,
          0.7148456573486328
         ]
        },
        {
         "hoverinfo": "text",
         "line": {
          "color": "rgb(0,0,0)",
          "width": 1
         },
         "mode": "lines",
         "text": "Segment 40: (630.00, 0.71) to (678.44, 0.71, score=14.92)",
         "type": "scatter",
         "x": [
          630,
          678.4375
         ],
         "y": [
          0.7148456573486328,
          0.7148456573486328
         ]
        },
        {
         "hoverinfo": "text",
         "line": {
          "color": "rgb(0,0,0)",
          "width": 1
         },
         "mode": "lines",
         "text": "Segment 41: (678.44, 0.71) to (678.44, 0.71, score=14.92)",
         "type": "scatter",
         "x": [
          678.4375,
          678.4375
         ],
         "y": [
          0.7122852802276611,
          0.7148456573486328
         ]
        },
        {
         "hoverinfo": "text",
         "line": {
          "color": "rgb(0,0,0)",
          "width": 1
         },
         "mode": "lines",
         "text": "Segment 42: (654.22, 0.71) to (654.22, 0.72, score=14.92)",
         "type": "scatter",
         "x": [
          654.21875,
          654.21875
         ],
         "y": [
          0.7148456573486328,
          0.717003583908081
         ]
        },
        {
         "hoverinfo": "text",
         "line": {
          "color": "rgb(0,0,0)",
          "width": 1
         },
         "mode": "lines",
         "text": "Segment 43: (654.22, 0.72) to (689.61, 0.72, score=14.92)",
         "type": "scatter",
         "x": [
          654.21875,
          689.609375
         ],
         "y": [
          0.717003583908081,
          0.717003583908081
         ]
        },
        {
         "hoverinfo": "text",
         "line": {
          "color": "rgb(0,0,0)",
          "width": 1
         },
         "mode": "lines",
         "text": "Segment 44: (725.00, 0.72) to (725.00, 0.72, score=14.92)",
         "type": "scatter",
         "x": [
          725,
          725
         ],
         "y": [
          0.717003583908081,
          0.717003583908081
         ]
        },
        {
         "hoverinfo": "text",
         "line": {
          "color": "rgb(0,0,0)",
          "width": 1
         },
         "mode": "lines",
         "text": "Segment 45: (735.00, 0.62) to (735.00, 0.62, score=1.62)",
         "type": "scatter",
         "x": [
          735,
          735
         ],
         "y": [
          0.6179604530334473,
          0.6179604530334473
         ]
        },
        {
         "hoverinfo": "text",
         "line": {
          "color": "rgb(0,0,0)",
          "width": 1
         },
         "mode": "lines",
         "text": "Segment 46: (740.00, 0.62) to (740.00, 0.62, score=1.62)",
         "type": "scatter",
         "x": [
          740,
          740
         ],
         "y": [
          0.6179604530334473,
          0.6179604530334473
         ]
        },
        {
         "hoverinfo": "text",
         "line": {
          "color": "rgb(0,0,0)",
          "width": 1
         },
         "mode": "lines",
         "text": "Segment 47: (745.00, 0.62) to (745.00, 0.62, score=1.62)",
         "type": "scatter",
         "x": [
          745,
          745
         ],
         "y": [
          0.6179604530334473,
          0.6179604530334473
         ]
        },
        {
         "hoverinfo": "text",
         "line": {
          "color": "rgb(0,0,0)",
          "width": 1
         },
         "mode": "lines",
         "text": "Segment 48: (689.61, 0.72) to (689.61, 0.75, score=1.62)",
         "type": "scatter",
         "x": [
          689.609375,
          689.609375
         ],
         "y": [
          0.717003583908081,
          0.7482419013977051
         ]
        },
        {
         "hoverinfo": "text",
         "line": {
          "color": "rgb(0,0,0)",
          "width": 1
         },
         "mode": "lines",
         "text": "Segment 49: (689.61, 0.75) to (740.00, 0.75, score=1.62)",
         "type": "scatter",
         "x": [
          689.609375,
          740
         ],
         "y": [
          0.7482419013977051,
          0.7482419013977051
         ]
        },
        {
         "hoverinfo": "text",
         "line": {
          "color": "rgb(0,0,0)",
          "width": 1
         },
         "mode": "lines",
         "text": "Segment 50: (740.00, 0.62) to (740.00, 0.75, score=1.62)",
         "type": "scatter",
         "x": [
          740,
          740
         ],
         "y": [
          0.6179604530334473,
          0.7482419013977051
         ]
        },
        {
         "hoverinfo": "text",
         "line": {
          "color": "rgb(0,0,0)",
          "width": 1
         },
         "mode": "lines",
         "text": "Segment 51: (714.80, 0.75) to (714.80, 0.82, score=1.62)",
         "type": "scatter",
         "x": [
          714.8046875,
          714.8046875
         ],
         "y": [
          0.7482419013977051,
          0.8247942924499512
         ]
        },
        {
         "hoverinfo": "text",
         "line": {
          "color": "rgb(0,0,0)",
          "width": 1
         },
         "mode": "lines",
         "text": "Segment 52: (714.80, 0.82) to (734.90, 0.82, score=1.62)",
         "type": "scatter",
         "x": [
          714.8046875,
          734.90234375
         ],
         "y": [
          0.8247942924499512,
          0.8247942924499512
         ]
        },
        {
         "hoverinfo": "text",
         "line": {
          "color": "rgb(0,0,0)",
          "width": 1
         },
         "mode": "lines",
         "text": "Segment 53: (755.00, 0.82) to (755.00, 0.82, score=1.62)",
         "type": "scatter",
         "x": [
          755,
          755
         ],
         "y": [
          0.8247942924499512,
          0.8247942924499512
         ]
        },
        {
         "hoverinfo": "text",
         "line": {
          "color": "rgb(0,0,0)",
          "width": 1
         },
         "mode": "lines",
         "text": "Segment 54: (765.00, 0.37) to (765.00, 0.37, score=3.04)",
         "type": "scatter",
         "x": [
          765,
          765
         ],
         "y": [
          0.37305474281311035,
          0.37305474281311035
         ]
        },
        {
         "hoverinfo": "text",
         "line": {
          "color": "rgb(0,0,0)",
          "width": 1
         },
         "mode": "lines",
         "text": "Segment 55: (770.00, 0.37) to (770.00, 0.37, score=3.04)",
         "type": "scatter",
         "x": [
          770,
          770
         ],
         "y": [
          0.37305474281311035,
          0.37305474281311035
         ]
        },
        {
         "hoverinfo": "text",
         "line": {
          "color": "rgb(0,0,0)",
          "width": 1
         },
         "mode": "lines",
         "text": "Segment 56: (775.00, 0.37) to (775.00, 0.37, score=3.04)",
         "type": "scatter",
         "x": [
          775,
          775
         ],
         "y": [
          0.37305474281311035,
          0.37305474281311035
         ]
        },
        {
         "hoverinfo": "text",
         "line": {
          "color": "rgb(0,0,0)",
          "width": 1
         },
         "mode": "lines",
         "text": "Segment 57: (734.90, 0.82) to (734.90, 0.86, score=3.04)",
         "type": "scatter",
         "x": [
          734.90234375,
          734.90234375
         ],
         "y": [
          0.8247942924499512,
          0.8556526899337769
         ]
        },
        {
         "hoverinfo": "text",
         "line": {
          "color": "rgb(0,0,0)",
          "width": 1
         },
         "mode": "lines",
         "text": "Segment 58: (734.90, 0.86) to (770.00, 0.86, score=3.04)",
         "type": "scatter",
         "x": [
          734.90234375,
          770
         ],
         "y": [
          0.8556526899337769,
          0.8556526899337769
         ]
        },
        {
         "hoverinfo": "text",
         "line": {
          "color": "rgb(0,0,0)",
          "width": 1
         },
         "mode": "lines",
         "text": "Segment 59: (770.00, 0.37) to (770.00, 0.86, score=3.04)",
         "type": "scatter",
         "x": [
          770,
          770
         ],
         "y": [
          0.37305474281311035,
          0.8556526899337769
         ]
        },
        {
         "hoverinfo": "text",
         "line": {
          "color": "rgb(0,0,0)",
          "width": 1
         },
         "mode": "lines",
         "text": "Segment 60: (752.45, 0.86) to (752.45, 0.88, score=3.04)",
         "type": "scatter",
         "x": [
          752.451171875,
          752.451171875
         ],
         "y": [
          0.8556526899337769,
          0.8787859678268433
         ]
        },
        {
         "hoverinfo": "text",
         "line": {
          "color": "rgb(0,0,0)",
          "width": 1
         },
         "mode": "lines",
         "text": "Segment 61: (752.45, 0.88) to (768.73, 0.88, score=3.04)",
         "type": "scatter",
         "x": [
          752.451171875,
          768.7255859375
         ],
         "y": [
          0.8787859678268433,
          0.8787859678268433
         ]
        },
        {
         "hoverinfo": "text",
         "line": {
          "color": "rgb(0,0,0)",
          "width": 1
         },
         "mode": "lines",
         "text": "Segment 62: (785.00, 0.88) to (785.00, 0.88, score=3.04)",
         "type": "scatter",
         "x": [
          785,
          785
         ],
         "y": [
          0.8787859678268433,
          0.8787859678268433
         ]
        },
        {
         "hoverinfo": "text",
         "line": {
          "color": "rgb(0,0,0)",
          "width": 1
         },
         "mode": "lines",
         "text": "Segment 63: (615.00, 0.92) to (615.00, 0.92, score=23.36)",
         "type": "scatter",
         "x": [
          615,
          615
         ],
         "y": [
          0.9214128255844116,
          0.9214128255844116
         ]
        },
        {
         "hoverinfo": "text",
         "line": {
          "color": "rgb(0,0,0)",
          "width": 1
         },
         "mode": "lines",
         "text": "Segment 64: (691.86, 0.92) to (768.73, 0.92, score=23.36)",
         "type": "scatter",
         "x": [
          691.86279296875,
          768.7255859375
         ],
         "y": [
          0.9214128255844116,
          0.9214128255844116
         ]
        },
        {
         "hoverinfo": "text",
         "line": {
          "color": "rgb(0,0,0)",
          "width": 1
         },
         "mode": "lines",
         "text": "Segment 65: (768.73, 0.88) to (768.73, 0.92, score=23.36)",
         "type": "scatter",
         "x": [
          768.7255859375,
          768.7255859375
         ],
         "y": [
          0.8787859678268433,
          0.9214128255844116
         ]
        },
        {
         "hoverinfo": "text",
         "line": {
          "color": "rgb(0,0,0)",
          "width": 1
         },
         "mode": "lines",
         "text": "Segment 66: (691.86, 0.92) to (691.86, 0.92, score=23.36)",
         "type": "scatter",
         "x": [
          691.86279296875,
          691.86279296875
         ],
         "y": [
          0.9214128255844116,
          0.9225445985794067
         ]
        },
        {
         "hoverinfo": "text",
         "line": {
          "color": "rgb(0,0,0)",
          "width": 1
         },
         "mode": "lines",
         "text": "Segment 67: (691.86, 0.92) to (743.43, 0.92, score=23.36)",
         "type": "scatter",
         "x": [
          691.86279296875,
          743.431396484375
         ],
         "y": [
          0.9225445985794067,
          0.9225445985794067
         ]
        },
        {
         "hoverinfo": "text",
         "line": {
          "color": "rgb(0,0,0)",
          "width": 1
         },
         "mode": "lines",
         "text": "Segment 68: (795.00, 0.92) to (795.00, 0.92, score=23.36)",
         "type": "scatter",
         "x": [
          795,
          795
         ],
         "y": [
          0.9225445985794067,
          0.9225445985794067
         ]
        },
        {
         "hoverinfo": "text",
         "line": {
          "color": "rgb(0,0,0)",
          "width": 1
         },
         "mode": "lines",
         "text": "Segment 69: (743.43, 0.92) to (743.43, 0.97, score=23.36)",
         "type": "scatter",
         "x": [
          743.431396484375,
          743.431396484375
         ],
         "y": [
          0.9225445985794067,
          0.9726461172103882
         ]
        },
        {
         "hoverinfo": "text",
         "line": {
          "color": "rgb(0,0,0)",
          "width": 1
         },
         "mode": "lines",
         "text": "Segment 70: (743.43, 0.97) to (774.22, 0.97, score=23.36)",
         "type": "scatter",
         "x": [
          743.431396484375,
          774.2156982421875
         ],
         "y": [
          0.9726461172103882,
          0.9726461172103882
         ]
        },
        {
         "hoverinfo": "text",
         "line": {
          "color": "rgb(0,0,0)",
          "width": 1
         },
         "mode": "lines",
         "text": "Segment 71: (805.00, 0.97) to (805.00, 0.97, score=23.36)",
         "type": "scatter",
         "x": [
          805,
          805
         ],
         "y": [
          0.9726461172103882,
          0.9726461172103882
         ]
        },
        {
         "hoverinfo": "text",
         "line": {
          "color": "rgb(0,0,0)",
          "width": 1
         },
         "mode": "lines",
         "text": "Segment 72: (605.00, 0.97) to (605.00, 0.97, score=0.53)",
         "type": "scatter",
         "x": [
          605,
          605
         ],
         "y": [
          0.9743995666503906,
          0.9743995666503906
         ]
        },
        {
         "hoverinfo": "text",
         "line": {
          "color": "rgb(0,0,0)",
          "width": 1
         },
         "mode": "lines",
         "text": "Segment 73: (689.61, 0.97) to (774.22, 0.97, score=0.53)",
         "type": "scatter",
         "x": [
          689.6078491210938,
          774.2156982421875
         ],
         "y": [
          0.9743995666503906,
          0.9743995666503906
         ]
        },
        {
         "hoverinfo": "text",
         "line": {
          "color": "rgb(0,0,0)",
          "width": 1
         },
         "mode": "lines",
         "text": "Segment 74: (774.22, 0.97) to (774.22, 0.97, score=0.53)",
         "type": "scatter",
         "x": [
          774.2156982421875,
          774.2156982421875
         ],
         "y": [
          0.9726461172103882,
          0.9743995666503906
         ]
        },
        {
         "hoverinfo": "text",
         "line": {
          "color": "rgb(0,0,0)",
          "width": 1
         },
         "mode": "lines",
         "text": "Segment 75: (689.61, 0.97) to (689.61, 0.99, score=0.53)",
         "type": "scatter",
         "x": [
          689.6078491210938,
          689.6078491210938
         ],
         "y": [
          0.9743995666503906,
          0.9907494783401489
         ]
        },
        {
         "hoverinfo": "text",
         "line": {
          "color": "rgb(0,0,0)",
          "width": 1
         },
         "mode": "lines",
         "text": "Segment 76: (689.61, 0.99) to (752.30, 0.99, score=0.53)",
         "type": "scatter",
         "x": [
          689.6078491210938,
          752.3039245605469
         ],
         "y": [
          0.9907494783401489,
          0.9907494783401489
         ]
        },
        {
         "hoverinfo": "text",
         "line": {
          "color": "rgb(0,0,0)",
          "width": 1
         },
         "mode": "lines",
         "text": "Segment 77: (815.00, 0.99) to (815.00, 0.99, score=0.53)",
         "type": "scatter",
         "x": [
          815,
          815
         ],
         "y": [
          0.9907494783401489,
          0.9907494783401489
         ]
        },
        {
         "hoverinfo": "text",
         "line": {
          "color": "rgb(0,0,0)",
          "width": 1
         },
         "mode": "lines",
         "text": "Segment 78: (752.30, 0.99) to (752.30, 1.08, score=0.53)",
         "type": "scatter",
         "x": [
          752.3039245605469,
          752.3039245605469
         ],
         "y": [
          0.9907494783401489,
          1.0842041969299316
         ]
        },
        {
         "hoverinfo": "text",
         "line": {
          "color": "rgb(0,0,0)",
          "width": 1
         },
         "mode": "lines",
         "text": "Segment 79: (752.30, 1.08) to (788.65, 1.08, score=0.53)",
         "type": "scatter",
         "x": [
          752.3039245605469,
          788.6519622802734
         ],
         "y": [
          1.0842041969299316,
          1.0842041969299316
         ]
        },
        {
         "hoverinfo": "text",
         "line": {
          "color": "rgb(0,0,0)",
          "width": 1
         },
         "mode": "lines",
         "text": "Segment 80: (825.00, 1.08) to (825.00, 1.08, score=0.53)",
         "type": "scatter",
         "x": [
          825,
          825
         ],
         "y": [
          1.0842041969299316,
          1.0842041969299316
         ]
        },
        {
         "hoverinfo": "text",
         "line": {
          "color": "rgb(0,0,0)",
          "width": 1
         },
         "mode": "lines",
         "text": "Segment 81: (595.00, 1.09) to (595.00, 1.09, score=1.01)",
         "type": "scatter",
         "x": [
          595,
          595
         ],
         "y": [
          1.085037112236023,
          1.085037112236023
         ]
        },
        {
         "hoverinfo": "text",
         "line": {
          "color": "rgb(0,0,0)",
          "width": 1
         },
         "mode": "lines",
         "text": "Segment 82: (691.83, 1.09) to (788.65, 1.09, score=1.01)",
         "type": "scatter",
         "x": [
          691.8259811401367,
          788.6519622802734
         ],
         "y": [
          1.085037112236023,
          1.085037112236023
         ]
        },
        {
         "hoverinfo": "text",
         "line": {
          "color": "rgb(0,0,0)",
          "width": 1
         },
         "mode": "lines",
         "text": "Segment 83: (788.65, 1.08) to (788.65, 1.09, score=1.01)",
         "type": "scatter",
         "x": [
          788.6519622802734,
          788.6519622802734
         ],
         "y": [
          1.0842041969299316,
          1.085037112236023
         ]
        },
        {
         "hoverinfo": "text",
         "line": {
          "color": "rgb(0,0,0)",
          "width": 1
         },
         "mode": "lines",
         "text": "Segment 84: (691.83, 1.09) to (691.83, 1.09, score=1.01)",
         "type": "scatter",
         "x": [
          691.8259811401367,
          691.8259811401367
         ],
         "y": [
          1.085037112236023,
          1.090545892715454
         ]
        },
        {
         "hoverinfo": "text",
         "line": {
          "color": "rgb(0,0,0)",
          "width": 1
         },
         "mode": "lines",
         "text": "Segment 85: (691.83, 1.09) to (763.41, 1.09, score=1.01)",
         "type": "scatter",
         "x": [
          691.8259811401367,
          763.4129905700684
         ],
         "y": [
          1.090545892715454,
          1.090545892715454
         ]
        },
        {
         "hoverinfo": "text",
         "line": {
          "color": "rgb(0,0,0)",
          "width": 1
         },
         "mode": "lines",
         "text": "Segment 86: (835.00, 1.09) to (835.00, 1.09, score=1.01)",
         "type": "scatter",
         "x": [
          835,
          835
         ],
         "y": [
          1.090545892715454,
          1.090545892715454
         ]
        },
        {
         "hoverinfo": "text",
         "line": {
          "color": "rgb(0,0,0)",
          "width": 1
         },
         "mode": "lines",
         "text": "Segment 87: (763.41, 1.09) to (763.41, 1.10, score=1.01)",
         "type": "scatter",
         "x": [
          763.4129905700684,
          763.4129905700684
         ],
         "y": [
          1.090545892715454,
          1.1016371250152588
         ]
        },
        {
         "hoverinfo": "text",
         "line": {
          "color": "rgb(0,0,0)",
          "width": 1
         },
         "mode": "lines",
         "text": "Segment 88: (763.41, 1.10) to (804.21, 1.10, score=1.01)",
         "type": "scatter",
         "x": [
          763.4129905700684,
          804.2064952850342
         ],
         "y": [
          1.1016371250152588,
          1.1016371250152588
         ]
        },
        {
         "hoverinfo": "text",
         "line": {
          "color": "rgb(0,0,0)",
          "width": 1
         },
         "mode": "lines",
         "text": "Segment 89: (845.00, 1.10) to (845.00, 1.10, score=1.01)",
         "type": "scatter",
         "x": [
          845,
          845
         ],
         "y": [
          1.1016371250152588,
          1.1016371250152588
         ]
        },
        {
         "hoverinfo": "text",
         "line": {
          "color": "rgb(0,0,0)",
          "width": 1
         },
         "mode": "lines",
         "text": "Segment 90: (804.21, 1.10) to (804.21, 1.12, score=0.93)",
         "type": "scatter",
         "x": [
          804.2064952850342,
          804.2064952850342
         ],
         "y": [
          1.1016371250152588,
          1.1187888383865356
         ]
        },
        {
         "hoverinfo": "text",
         "line": {
          "color": "rgb(0,0,0)",
          "width": 1
         },
         "mode": "lines",
         "text": "Segment 91: (804.21, 1.12) to (829.60, 1.12, score=0.93)",
         "type": "scatter",
         "x": [
          804.2064952850342,
          829.6032476425171
         ],
         "y": [
          1.1187888383865356,
          1.1187888383865356
         ]
        },
        {
         "hoverinfo": "text",
         "line": {
          "color": "rgb(0,0,0)",
          "width": 1
         },
         "mode": "lines",
         "text": "Segment 92: (855.00, 1.12) to (855.00, 1.12, score=0.93)",
         "type": "scatter",
         "x": [
          855,
          855
         ],
         "y": [
          1.1187888383865356,
          1.1187888383865356
         ]
        },
        {
         "hoverinfo": "text",
         "line": {
          "color": "rgb(0,0,0)",
          "width": 1
         },
         "mode": "lines",
         "text": "Segment 93: (865.00, 1.03) to (865.00, 1.03, score=0.93)",
         "type": "scatter",
         "x": [
          865,
          865
         ],
         "y": [
          1.028709053993225,
          1.028709053993225
         ]
        },
        {
         "hoverinfo": "text",
         "line": {
          "color": "rgb(0,0,0)",
          "width": 1
         },
         "mode": "lines",
         "text": "Segment 94: (870.00, 1.03) to (870.00, 1.03, score=0.93)",
         "type": "scatter",
         "x": [
          870,
          870
         ],
         "y": [
          1.028709053993225,
          1.028709053993225
         ]
        },
        {
         "hoverinfo": "text",
         "line": {
          "color": "rgb(0,0,0)",
          "width": 1
         },
         "mode": "lines",
         "text": "Segment 95: (875.00, 1.03) to (875.00, 1.03, score=0.93)",
         "type": "scatter",
         "x": [
          875,
          875
         ],
         "y": [
          1.028709053993225,
          1.028709053993225
         ]
        },
        {
         "hoverinfo": "text",
         "line": {
          "color": "rgb(0,0,0)",
          "width": 1
         },
         "mode": "lines",
         "text": "Segment 96: (829.60, 1.12) to (829.60, 1.12, score=0.93)",
         "type": "scatter",
         "x": [
          829.6032476425171,
          829.6032476425171
         ],
         "y": [
          1.1187888383865356,
          1.1223872900009155
         ]
        },
        {
         "hoverinfo": "text",
         "line": {
          "color": "rgb(0,0,0)",
          "width": 1
         },
         "mode": "lines",
         "text": "Segment 97: (829.60, 1.12) to (870.00, 1.12, score=0.93)",
         "type": "scatter",
         "x": [
          829.6032476425171,
          870
         ],
         "y": [
          1.1223872900009155,
          1.1223872900009155
         ]
        },
        {
         "hoverinfo": "text",
         "line": {
          "color": "rgb(0,0,0)",
          "width": 1
         },
         "mode": "lines",
         "text": "Segment 98: (870.00, 1.03) to (870.00, 1.12, score=0.93)",
         "type": "scatter",
         "x": [
          870,
          870
         ],
         "y": [
          1.028709053993225,
          1.1223872900009155
         ]
        },
        {
         "hoverinfo": "text",
         "line": {
          "color": "rgb(0,0,0)",
          "width": 1
         },
         "mode": "lines",
         "text": "Segment 99: (849.80, 1.12) to (849.80, 1.15, score=15.02)",
         "type": "scatter",
         "x": [
          849.8016238212585,
          849.8016238212585
         ],
         "y": [
          1.1223872900009155,
          1.1526851654052734
         ]
        },
        {
         "hoverinfo": "text",
         "line": {
          "color": "rgb(0,0,0)",
          "width": 1
         },
         "mode": "lines",
         "text": "Segment 100: (849.80, 1.15) to (867.40, 1.15, score=15.02)",
         "type": "scatter",
         "x": [
          849.8016238212585,
          867.4008119106293
         ],
         "y": [
          1.1526851654052734,
          1.1526851654052734
         ]
        },
        {
         "hoverinfo": "text",
         "line": {
          "color": "rgb(0,0,0)",
          "width": 1
         },
         "mode": "lines",
         "text": "Segment 101: (885.00, 1.15) to (885.00, 1.15, score=15.02)",
         "type": "scatter",
         "x": [
          885,
          885
         ],
         "y": [
          1.1526851654052734,
          1.1526851654052734
         ]
        },
        {
         "hoverinfo": "text",
         "line": {
          "color": "rgb(0,0,0)",
          "width": 1
         },
         "mode": "lines",
         "text": "Segment 102: (585.00, 1.15) to (585.00, 1.15, score=15.02)",
         "type": "scatter",
         "x": [
          585,
          585
         ],
         "y": [
          1.1542166471481323,
          1.1542166471481323
         ]
        },
        {
         "hoverinfo": "text",
         "line": {
          "color": "rgb(0,0,0)",
          "width": 1
         },
         "mode": "lines",
         "text": "Segment 103: (726.20, 1.15) to (867.40, 1.15, score=15.02)",
         "type": "scatter",
         "x": [
          726.2004059553146,
          867.4008119106293
         ],
         "y": [
          1.1542166471481323,
          1.1542166471481323
         ]
        },
        {
         "hoverinfo": "text",
         "line": {
          "color": "rgb(0,0,0)",
          "width": 1
         },
         "mode": "lines",
         "text": "Segment 104: (867.40, 1.15) to (867.40, 1.15, score=15.02)",
         "type": "scatter",
         "x": [
          867.4008119106293,
          867.4008119106293
         ],
         "y": [
          1.1526851654052734,
          1.1542166471481323
         ]
        },
        {
         "hoverinfo": "text",
         "line": {
          "color": "rgb(0,0,0)",
          "width": 1
         },
         "mode": "lines",
         "text": "Segment 105: (726.20, 1.15) to (726.20, 1.19, score=15.02)",
         "type": "scatter",
         "x": [
          726.2004059553146,
          726.2004059553146
         ],
         "y": [
          1.1542166471481323,
          1.1883865594863892
         ]
        },
        {
         "hoverinfo": "text",
         "line": {
          "color": "rgb(0,0,0)",
          "width": 1
         },
         "mode": "lines",
         "text": "Segment 106: (726.20, 1.19) to (810.60, 1.19, score=15.02)",
         "type": "scatter",
         "x": [
          726.2004059553146,
          810.6002029776573
         ],
         "y": [
          1.1883865594863892,
          1.1883865594863892
         ]
        },
        {
         "hoverinfo": "text",
         "line": {
          "color": "rgb(0,0,0)",
          "width": 1
         },
         "mode": "lines",
         "text": "Segment 107: (895.00, 1.19) to (895.00, 1.19, score=15.02)",
         "type": "scatter",
         "x": [
          895,
          895
         ],
         "y": [
          1.1883865594863892,
          1.1883865594863892
         ]
        },
        {
         "hoverinfo": "text",
         "line": {
          "color": "rgb(0,0,0)",
          "width": 1
         },
         "mode": "lines",
         "text": "Segment 108: (575.00, 1.24) to (575.00, 1.24, score=43.27)",
         "type": "scatter",
         "x": [
          575,
          575
         ],
         "y": [
          1.2381254434585571,
          1.2381254434585571
         ]
        },
        {
         "hoverinfo": "text",
         "line": {
          "color": "rgb(0,0,0)",
          "width": 1
         },
         "mode": "lines",
         "text": "Segment 109: (692.80, 1.24) to (810.60, 1.24, score=43.27)",
         "type": "scatter",
         "x": [
          692.8001014888287,
          810.6002029776573
         ],
         "y": [
          1.2381254434585571,
          1.2381254434585571
         ]
        },
        {
         "hoverinfo": "text",
         "line": {
          "color": "rgb(0,0,0)",
          "width": 1
         },
         "mode": "lines",
         "text": "Segment 110: (810.60, 1.19) to (810.60, 1.24, score=43.27)",
         "type": "scatter",
         "x": [
          810.6002029776573,
          810.6002029776573
         ],
         "y": [
          1.1883865594863892,
          1.2381254434585571
         ]
        },
        {
         "hoverinfo": "text",
         "line": {
          "color": "rgb(0,0,0)",
          "width": 1
         },
         "mode": "lines",
         "text": "Segment 111: (565.00, 1.25) to (565.00, 1.25, score=43.27)",
         "type": "scatter",
         "x": [
          565,
          565
         ],
         "y": [
          1.2488765716552734,
          1.2488765716552734
         ]
        },
        {
         "hoverinfo": "text",
         "line": {
          "color": "rgb(0,0,0)",
          "width": 1
         },
         "mode": "lines",
         "text": "Segment 112: (628.90, 1.25) to (692.80, 1.25, score=43.27)",
         "type": "scatter",
         "x": [
          628.9000507444143,
          692.8001014888287
         ],
         "y": [
          1.2488765716552734,
          1.2488765716552734
         ]
        },
        {
         "hoverinfo": "text",
         "line": {
          "color": "rgb(0,0,0)",
          "width": 1
         },
         "mode": "lines",
         "text": "Segment 113: (692.80, 1.24) to (692.80, 1.25, score=43.27)",
         "type": "scatter",
         "x": [
          692.8001014888287,
          692.8001014888287
         ],
         "y": [
          1.2381254434585571,
          1.2488765716552734
         ]
        },
        {
         "hoverinfo": "text",
         "line": {
          "color": "rgb(0,0,0)",
          "width": 1
         },
         "mode": "lines",
         "text": "Segment 114: (555.00, 1.27) to (555.00, 1.27, score=43.27)",
         "type": "scatter",
         "x": [
          555,
          555
         ],
         "y": [
          1.2726759910583496,
          1.2726759910583496
         ]
        },
        {
         "hoverinfo": "text",
         "line": {
          "color": "rgb(0,0,0)",
          "width": 1
         },
         "mode": "lines",
         "text": "Segment 115: (591.95, 1.27) to (628.90, 1.27, score=43.27)",
         "type": "scatter",
         "x": [
          591.9500253722072,
          628.9000507444143
         ],
         "y": [
          1.2726759910583496,
          1.2726759910583496
         ]
        },
        {
         "hoverinfo": "text",
         "line": {
          "color": "rgb(0,0,0)",
          "width": 1
         },
         "mode": "lines",
         "text": "Segment 116: (628.90, 1.25) to (628.90, 1.27, score=43.27)",
         "type": "scatter",
         "x": [
          628.9000507444143,
          628.9000507444143
         ],
         "y": [
          1.2488765716552734,
          1.2726759910583496
         ]
        },
        {
         "hoverinfo": "text",
         "line": {
          "color": "rgb(0,0,0)",
          "width": 1
         },
         "mode": "lines",
         "text": "Segment 117: (545.00, 1.28) to (545.00, 1.28, score=19.82)",
         "type": "scatter",
         "x": [
          545,
          545
         ],
         "y": [
          1.282438039779663,
          1.282438039779663
         ]
        },
        {
         "hoverinfo": "text",
         "line": {
          "color": "rgb(0,0,0)",
          "width": 1
         },
         "mode": "lines",
         "text": "Segment 118: (568.48, 1.28) to (591.95, 1.28, score=19.82)",
         "type": "scatter",
         "x": [
          568.4750126861036,
          591.9500253722072
         ],
         "y": [
          1.282438039779663,
          1.282438039779663
         ]
        },
        {
         "hoverinfo": "text",
         "line": {
          "color": "rgb(0,0,0)",
          "width": 1
         },
         "mode": "lines",
         "text": "Segment 119: (591.95, 1.27) to (591.95, 1.28, score=19.82)",
         "type": "scatter",
         "x": [
          591.9500253722072,
          591.9500253722072
         ],
         "y": [
          1.2726759910583496,
          1.282438039779663
         ]
        },
        {
         "hoverinfo": "text",
         "line": {
          "color": "rgb(0,0,0)",
          "width": 1
         },
         "mode": "lines",
         "text": "Segment 120: (568.48, 1.28) to (568.48, 1.32, score=19.82)",
         "type": "scatter",
         "x": [
          568.4750126861036,
          568.4750126861036
         ],
         "y": [
          1.282438039779663,
          1.315029501914978
         ]
        },
        {
         "hoverinfo": "text",
         "line": {
          "color": "rgb(0,0,0)",
          "width": 1
         },
         "mode": "lines",
         "text": "Segment 121: (568.48, 1.32) to (736.74, 1.32, score=19.82)",
         "type": "scatter",
         "x": [
          568.4750126861036,
          736.7375063430518
         ],
         "y": [
          1.315029501914978,
          1.315029501914978
         ]
        },
        {
         "hoverinfo": "text",
         "line": {
          "color": "rgb(0,0,0)",
          "width": 1
         },
         "mode": "lines",
         "text": "Segment 122: (905.00, 1.32) to (905.00, 1.32, score=19.82)",
         "type": "scatter",
         "x": [
          905,
          905
         ],
         "y": [
          1.315029501914978,
          1.315029501914978
         ]
        },
        {
         "hoverinfo": "text",
         "line": {
          "color": "rgb(0,0,0)",
          "width": 1
         },
         "mode": "lines",
         "text": "Segment 123: (535.00, 1.32) to (535.00, 1.32, score=19.82)",
         "type": "scatter",
         "x": [
          535,
          535
         ],
         "y": [
          1.3211560249328613,
          1.3211560249328613
         ]
        },
        {
         "hoverinfo": "text",
         "line": {
          "color": "rgb(0,0,0)",
          "width": 1
         },
         "mode": "lines",
         "text": "Segment 124: (635.87, 1.32) to (736.74, 1.32, score=19.82)",
         "type": "scatter",
         "x": [
          635.8687531715259,
          736.7375063430518
         ],
         "y": [
          1.3211560249328613,
          1.3211560249328613
         ]
        },
        {
         "hoverinfo": "text",
         "line": {
          "color": "rgb(0,0,0)",
          "width": 1
         },
         "mode": "lines",
         "text": "Segment 125: (736.74, 1.32) to (736.74, 1.32, score=19.82)",
         "type": "scatter",
         "x": [
          736.7375063430518,
          736.7375063430518
         ],
         "y": [
          1.315029501914978,
          1.3211560249328613
         ]
        },
        {
         "hoverinfo": "text",
         "line": {
          "color": "rgb(0,0,0)",
          "width": 1
         },
         "mode": "lines",
         "text": "Segment 126: (635.87, 1.32) to (635.87, 1.32, score=21.15)",
         "type": "scatter",
         "x": [
          635.8687531715259,
          635.8687531715259
         ],
         "y": [
          1.3211560249328613,
          1.3221535682678223
         ]
        },
        {
         "hoverinfo": "text",
         "line": {
          "color": "rgb(0,0,0)",
          "width": 1
         },
         "mode": "lines",
         "text": "Segment 127: (635.87, 1.32) to (775.43, 1.32, score=21.15)",
         "type": "scatter",
         "x": [
          635.8687531715259,
          775.434376585763
         ],
         "y": [
          1.3221535682678223,
          1.3221535682678223
         ]
        },
        {
         "hoverinfo": "text",
         "line": {
          "color": "rgb(0,0,0)",
          "width": 1
         },
         "mode": "lines",
         "text": "Segment 128: (915.00, 1.32) to (915.00, 1.32, score=21.15)",
         "type": "scatter",
         "x": [
          915,
          915
         ],
         "y": [
          1.3221535682678223,
          1.3221535682678223
         ]
        },
        {
         "hoverinfo": "text",
         "line": {
          "color": "rgb(0,0,0)",
          "width": 1
         },
         "mode": "lines",
         "text": "Segment 129: (525.00, 1.34) to (525.00, 1.34, score=21.15)",
         "type": "scatter",
         "x": [
          525,
          525
         ],
         "y": [
          1.337235927581787,
          1.337235927581787
         ]
        },
        {
         "hoverinfo": "text",
         "line": {
          "color": "rgb(0,0,0)",
          "width": 1
         },
         "mode": "lines",
         "text": "Segment 130: (650.22, 1.34) to (775.43, 1.34, score=21.15)",
         "type": "scatter",
         "x": [
          650.2171882928815,
          775.434376585763
         ],
         "y": [
          1.337235927581787,
          1.337235927581787
         ]
        },
        {
         "hoverinfo": "text",
         "line": {
          "color": "rgb(0,0,0)",
          "width": 1
         },
         "mode": "lines",
         "text": "Segment 131: (775.43, 1.32) to (775.43, 1.34, score=21.15)",
         "type": "scatter",
         "x": [
          775.434376585763,
          775.434376585763
         ],
         "y": [
          1.3221535682678223,
          1.337235927581787
         ]
        },
        {
         "hoverinfo": "text",
         "line": {
          "color": "rgb(0,0,0)",
          "width": 1
         },
         "mode": "lines",
         "text": "Segment 132: (515.00, 1.35) to (515.00, 1.35, score=21.15)",
         "type": "scatter",
         "x": [
          515,
          515
         ],
         "y": [
          1.3489843606948853,
          1.3489843606948853
         ]
        },
        {
         "hoverinfo": "text",
         "line": {
          "color": "rgb(0,0,0)",
          "width": 1
         },
         "mode": "lines",
         "text": "Segment 133: (582.61, 1.35) to (650.22, 1.35, score=21.15)",
         "type": "scatter",
         "x": [
          582.6085941464407,
          650.2171882928815
         ],
         "y": [
          1.3489843606948853,
          1.3489843606948853
         ]
        },
        {
         "hoverinfo": "text",
         "line": {
          "color": "rgb(0,0,0)",
          "width": 1
         },
         "mode": "lines",
         "text": "Segment 134: (650.22, 1.34) to (650.22, 1.35, score=21.15)",
         "type": "scatter",
         "x": [
          650.2171882928815,
          650.2171882928815
         ],
         "y": [
          1.337235927581787,
          1.3489843606948853
         ]
        },
        {
         "hoverinfo": "text",
         "line": {
          "color": "rgb(0,0,0)",
          "width": 1
         },
         "mode": "lines",
         "text": "Segment 135: (505.00, 1.36) to (505.00, 1.36, score=43.20)",
         "type": "scatter",
         "x": [
          505,
          505
         ],
         "y": [
          1.3611843585968018,
          1.3611843585968018
         ]
        },
        {
         "hoverinfo": "text",
         "line": {
          "color": "rgb(0,0,0)",
          "width": 1
         },
         "mode": "lines",
         "text": "Segment 136: (543.80, 1.36) to (582.61, 1.36, score=43.20)",
         "type": "scatter",
         "x": [
          543.8042970732204,
          582.6085941464407
         ],
         "y": [
          1.3611843585968018,
          1.3611843585968018
         ]
        },
        {
         "hoverinfo": "text",
         "line": {
          "color": "rgb(0,0,0)",
          "width": 1
         },
         "mode": "lines",
         "text": "Segment 137: (582.61, 1.35) to (582.61, 1.36, score=43.20)",
         "type": "scatter",
         "x": [
          582.6085941464407,
          582.6085941464407
         ],
         "y": [
          1.3489843606948853,
          1.3611843585968018
         ]
        },
        {
         "hoverinfo": "text",
         "line": {
          "color": "rgb(0,0,0)",
          "width": 1
         },
         "mode": "lines",
         "text": "Segment 138: (495.00, 1.39) to (495.00, 1.39, score=43.20)",
         "type": "scatter",
         "x": [
          495,
          495
         ],
         "y": [
          1.3935517072677612,
          1.3935517072677612
         ]
        },
        {
         "hoverinfo": "text",
         "line": {
          "color": "rgb(0,0,0)",
          "width": 1
         },
         "mode": "lines",
         "text": "Segment 139: (519.40, 1.39) to (543.80, 1.39, score=43.20)",
         "type": "scatter",
         "x": [
          519.4021485366102,
          543.8042970732204
         ],
         "y": [
          1.3935517072677612,
          1.3935517072677612
         ]
        },
        {
         "hoverinfo": "text",
         "line": {
          "color": "rgb(0,0,0)",
          "width": 1
         },
         "mode": "lines",
         "text": "Segment 140: (543.80, 1.36) to (543.80, 1.39, score=43.20)",
         "type": "scatter",
         "x": [
          543.8042970732204,
          543.8042970732204
         ],
         "y": [
          1.3611843585968018,
          1.3935517072677612
         ]
        },
        {
         "hoverinfo": "text",
         "line": {
          "color": "rgb(0,0,0)",
          "width": 1
         },
         "mode": "lines",
         "text": "Segment 141: (519.40, 1.39) to (519.40, 1.39, score=43.20)",
         "type": "scatter",
         "x": [
          519.4021485366102,
          519.4021485366102
         ],
         "y": [
          1.3935517072677612,
          1.393683671951294
         ]
        },
        {
         "hoverinfo": "text",
         "line": {
          "color": "rgb(0,0,0)",
          "width": 1
         },
         "mode": "lines",
         "text": "Segment 142: (519.40, 1.39) to (722.20, 1.39, score=43.20)",
         "type": "scatter",
         "x": [
          519.4021485366102,
          722.2010742683051
         ],
         "y": [
          1.393683671951294,
          1.393683671951294
         ]
        },
        {
         "hoverinfo": "text",
         "line": {
          "color": "rgb(0,0,0)",
          "width": 1
         },
         "mode": "lines",
         "text": "Segment 143: (925.00, 1.39) to (925.00, 1.39, score=43.20)",
         "type": "scatter",
         "x": [
          925,
          925
         ],
         "y": [
          1.393683671951294,
          1.393683671951294
         ]
        },
        {
         "hoverinfo": "text",
         "line": {
          "color": "rgb(0,0,0)",
          "width": 1
         },
         "mode": "lines",
         "text": "Segment 144: (935.00, 1.30) to (935.00, 1.30, score=1.22)",
         "type": "scatter",
         "x": [
          935,
          935
         ],
         "y": [
          1.3002851009368896,
          1.3002851009368896
         ]
        },
        {
         "hoverinfo": "text",
         "line": {
          "color": "rgb(0,0,0)",
          "width": 1
         },
         "mode": "lines",
         "text": "Segment 145: (940.00, 1.30) to (940.00, 1.30, score=1.22)",
         "type": "scatter",
         "x": [
          940,
          940
         ],
         "y": [
          1.3002851009368896,
          1.3002851009368896
         ]
        },
        {
         "hoverinfo": "text",
         "line": {
          "color": "rgb(0,0,0)",
          "width": 1
         },
         "mode": "lines",
         "text": "Segment 146: (945.00, 1.30) to (945.00, 1.30, score=1.22)",
         "type": "scatter",
         "x": [
          945,
          945
         ],
         "y": [
          1.3002851009368896,
          1.3002851009368896
         ]
        },
        {
         "hoverinfo": "text",
         "line": {
          "color": "rgb(0,0,0)",
          "width": 1
         },
         "mode": "lines",
         "text": "Segment 147: (955.00, 1.21) to (955.00, 1.21, score=1.22)",
         "type": "scatter",
         "x": [
          955,
          955
         ],
         "y": [
          1.2094660997390747,
          1.2094660997390747
         ]
        },
        {
         "hoverinfo": "text",
         "line": {
          "color": "rgb(0,0,0)",
          "width": 1
         },
         "mode": "lines",
         "text": "Segment 148: (960.00, 1.21) to (960.00, 1.21, score=1.22)",
         "type": "scatter",
         "x": [
          960,
          960
         ],
         "y": [
          1.2094660997390747,
          1.2094660997390747
         ]
        },
        {
         "hoverinfo": "text",
         "line": {
          "color": "rgb(0,0,0)",
          "width": 1
         },
         "mode": "lines",
         "text": "Segment 149: (965.00, 1.21) to (965.00, 1.21, score=1.22)",
         "type": "scatter",
         "x": [
          965,
          965
         ],
         "y": [
          1.2094660997390747,
          1.2094660997390747
         ]
        },
        {
         "hoverinfo": "text",
         "line": {
          "color": "rgb(0,0,0)",
          "width": 1
         },
         "mode": "lines",
         "text": "Segment 150: (940.00, 1.30) to (940.00, 1.38, score=1.22)",
         "type": "scatter",
         "x": [
          940,
          940
         ],
         "y": [
          1.3002851009368896,
          1.376035213470459
         ]
        },
        {
         "hoverinfo": "text",
         "line": {
          "color": "rgb(0,0,0)",
          "width": 1
         },
         "mode": "lines",
         "text": "Segment 151: (940.00, 1.38) to (960.00, 1.38, score=1.22)",
         "type": "scatter",
         "x": [
          940,
          960
         ],
         "y": [
          1.376035213470459,
          1.376035213470459
         ]
        },
        {
         "hoverinfo": "text",
         "line": {
          "color": "rgb(0,0,0)",
          "width": 1
         },
         "mode": "lines",
         "text": "Segment 152: (960.00, 1.21) to (960.00, 1.38, score=1.22)",
         "type": "scatter",
         "x": [
          960,
          960
         ],
         "y": [
          1.2094660997390747,
          1.376035213470459
         ]
        },
        {
         "hoverinfo": "text",
         "line": {
          "color": "rgb(230,0,0)",
          "width": 1
         },
         "mode": "lines",
         "text": "Segment 153: (722.20, 1.39) to (722.20, 1.40, score=59.13)",
         "type": "scatter",
         "x": [
          722.2010742683051,
          722.2010742683051
         ],
         "y": [
          1.393683671951294,
          1.3985803127288818
         ]
        },
        {
         "hoverinfo": "text",
         "line": {
          "color": "rgb(230,0,0)",
          "width": 1
         },
         "mode": "lines",
         "text": "Segment 154: (722.20, 1.40) to (950.00, 1.40, score=59.13)",
         "type": "scatter",
         "x": [
          722.2010742683051,
          950
         ],
         "y": [
          1.3985803127288818,
          1.3985803127288818
         ]
        },
        {
         "hoverinfo": "text",
         "line": {
          "color": "rgb(230,0,0)",
          "width": 1
         },
         "mode": "lines",
         "text": "Segment 155: (950.00, 1.38) to (950.00, 1.40, score=59.13)",
         "type": "scatter",
         "x": [
          950,
          950
         ],
         "y": [
          1.376035213470459,
          1.3985803127288818
         ]
        },
        {
         "hoverinfo": "text",
         "line": {
          "color": "rgb(230,0,0)",
          "width": 1
         },
         "mode": "lines",
         "text": "Segment 156: (836.10, 1.40) to (836.10, 1.40, score=59.13)",
         "type": "scatter",
         "x": [
          836.1005371341525,
          836.1005371341525
         ],
         "y": [
          1.3985803127288818,
          1.4016591310501099
         ]
        },
        {
         "hoverinfo": "text",
         "line": {
          "color": "rgb(230,0,0)",
          "width": 1
         },
         "mode": "lines",
         "text": "Segment 157: (836.10, 1.40) to (905.55, 1.40, score=59.13)",
         "type": "scatter",
         "x": [
          836.1005371341525,
          905.5502685670763
         ],
         "y": [
          1.4016591310501099,
          1.4016591310501099
         ]
        },
        {
         "hoverinfo": "text",
         "line": {
          "color": "rgb(230,0,0)",
          "width": 1
         },
         "mode": "lines",
         "text": "Segment 158: (975.00, 1.40) to (975.00, 1.40, score=59.13)",
         "type": "scatter",
         "x": [
          975,
          975
         ],
         "y": [
          1.4016591310501099,
          1.4016591310501099
         ]
        },
        {
         "hoverinfo": "text",
         "line": {
          "color": "rgb(230,0,0)",
          "width": 1
         },
         "mode": "lines",
         "text": "Segment 159: (485.00, 1.44) to (485.00, 1.44, score=59.13)",
         "type": "scatter",
         "x": [
          485,
          485
         ],
         "y": [
          1.4385782480239868,
          1.4385782480239868
         ]
        },
        {
         "hoverinfo": "text",
         "line": {
          "color": "rgb(230,0,0)",
          "width": 1
         },
         "mode": "lines",
         "text": "Segment 160: (695.28, 1.44) to (905.55, 1.44, score=59.13)",
         "type": "scatter",
         "x": [
          695.2751342835381,
          905.5502685670763
         ],
         "y": [
          1.4385782480239868,
          1.4385782480239868
         ]
        },
        {
         "hoverinfo": "text",
         "line": {
          "color": "rgb(230,0,0)",
          "width": 1
         },
         "mode": "lines",
         "text": "Segment 161: (905.55, 1.40) to (905.55, 1.44, score=59.13)",
         "type": "scatter",
         "x": [
          905.5502685670763,
          905.5502685670763
         ],
         "y": [
          1.4016591310501099,
          1.4385782480239868
         ]
        },
        {
         "hoverinfo": "text",
         "line": {
          "color": "rgb(0,0,0)",
          "width": 1
         },
         "mode": "lines",
         "text": "Segment 162: (985.00, 1.42) to (985.00, 1.42, score=2.24)",
         "type": "scatter",
         "x": [
          985,
          985
         ],
         "y": [
          1.4209868907928467,
          1.4209868907928467
         ]
        },
        {
         "hoverinfo": "text",
         "line": {
          "color": "rgb(0,0,0)",
          "width": 1
         },
         "mode": "lines",
         "text": "Segment 163: (990.00, 1.42) to (990.00, 1.42, score=2.24)",
         "type": "scatter",
         "x": [
          990,
          990
         ],
         "y": [
          1.4209868907928467,
          1.4209868907928467
         ]
        },
        {
         "hoverinfo": "text",
         "line": {
          "color": "rgb(0,0,0)",
          "width": 1
         },
         "mode": "lines",
         "text": "Segment 164: (995.00, 1.42) to (995.00, 1.42, score=2.24)",
         "type": "scatter",
         "x": [
          995,
          995
         ],
         "y": [
          1.4209868907928467,
          1.4209868907928467
         ]
        },
        {
         "hoverinfo": "text",
         "line": {
          "color": "rgb(0,0,0)",
          "width": 1
         },
         "mode": "lines",
         "text": "Segment 165: (990.00, 1.42) to (990.00, 1.44, score=2.24)",
         "type": "scatter",
         "x": [
          990,
          990
         ],
         "y": [
          1.4209868907928467,
          1.4414713382720947
         ]
        },
        {
         "hoverinfo": "text",
         "line": {
          "color": "rgb(0,0,0)",
          "width": 1
         },
         "mode": "lines",
         "text": "Segment 166: (990.00, 1.44) to (997.50, 1.44, score=2.24)",
         "type": "scatter",
         "x": [
          990,
          997.5
         ],
         "y": [
          1.4414713382720947,
          1.4414713382720947
         ]
        },
        {
         "hoverinfo": "text",
         "line": {
          "color": "rgb(0,0,0)",
          "width": 1
         },
         "mode": "lines",
         "text": "Segment 167: (1005.00, 1.44) to (1005.00, 1.44, score=2.24)",
         "type": "scatter",
         "x": [
          1005,
          1005
         ],
         "y": [
          1.4414713382720947,
          1.4414713382720947
         ]
        },
        {
         "hoverinfo": "text",
         "line": {
          "color": "rgb(0,0,0)",
          "width": 1
         },
         "mode": "lines",
         "text": "Segment 168: (695.28, 1.44) to (695.28, 1.45, score=2.24)",
         "type": "scatter",
         "x": [
          695.2751342835381,
          695.2751342835381
         ],
         "y": [
          1.4385782480239868,
          1.4512221813201904
         ]
        },
        {
         "hoverinfo": "text",
         "line": {
          "color": "rgb(0,0,0)",
          "width": 1
         },
         "mode": "lines",
         "text": "Segment 169: (695.28, 1.45) to (997.50, 1.45, score=2.24)",
         "type": "scatter",
         "x": [
          695.2751342835381,
          997.5
         ],
         "y": [
          1.4512221813201904,
          1.4512221813201904
         ]
        },
        {
         "hoverinfo": "text",
         "line": {
          "color": "rgb(0,0,0)",
          "width": 1
         },
         "mode": "lines",
         "text": "Segment 170: (997.50, 1.44) to (997.50, 1.45, score=2.24)",
         "type": "scatter",
         "x": [
          997.5,
          997.5
         ],
         "y": [
          1.4414713382720947,
          1.4512221813201904
         ]
        },
        {
         "hoverinfo": "text",
         "line": {
          "color": "rgb(0,0,0)",
          "width": 1
         },
         "mode": "lines",
         "text": "Segment 171: (846.39, 1.45) to (846.39, 1.46, score=21.56)",
         "type": "scatter",
         "x": [
          846.3875671417691,
          846.3875671417691
         ],
         "y": [
          1.4512221813201904,
          1.4562337398529053
         ]
        },
        {
         "hoverinfo": "text",
         "line": {
          "color": "rgb(0,0,0)",
          "width": 1
         },
         "mode": "lines",
         "text": "Segment 172: (846.39, 1.46) to (930.69, 1.46, score=21.56)",
         "type": "scatter",
         "x": [
          846.3875671417691,
          930.6937835708845
         ],
         "y": [
          1.4562337398529053,
          1.4562337398529053
         ]
        },
        {
         "hoverinfo": "text",
         "line": {
          "color": "rgb(0,0,0)",
          "width": 1
         },
         "mode": "lines",
         "text": "Segment 173: (1015.00, 1.46) to (1015.00, 1.46, score=21.56)",
         "type": "scatter",
         "x": [
          1015,
          1015
         ],
         "y": [
          1.4562337398529053,
          1.4562337398529053
         ]
        },
        {
         "hoverinfo": "text",
         "line": {
          "color": "rgb(0,0,0)",
          "width": 1
         },
         "mode": "lines",
         "text": "Segment 174: (930.69, 1.46) to (930.69, 1.46, score=21.56)",
         "type": "scatter",
         "x": [
          930.6937835708845,
          930.6937835708845
         ],
         "y": [
          1.4562337398529053,
          1.4569114446640015
         ]
        },
        {
         "hoverinfo": "text",
         "line": {
          "color": "rgb(0,0,0)",
          "width": 1
         },
         "mode": "lines",
         "text": "Segment 175: (930.69, 1.46) to (977.85, 1.46, score=21.56)",
         "type": "scatter",
         "x": [
          930.6937835708845,
          977.8468917854423
         ],
         "y": [
          1.4569114446640015,
          1.4569114446640015
         ]
        },
        {
         "hoverinfo": "text",
         "line": {
          "color": "rgb(0,0,0)",
          "width": 1
         },
         "mode": "lines",
         "text": "Segment 176: (1025.00, 1.46) to (1025.00, 1.46, score=21.56)",
         "type": "scatter",
         "x": [
          1025,
          1025
         ],
         "y": [
          1.4569114446640015,
          1.4569114446640015
         ]
        },
        {
         "hoverinfo": "text",
         "line": {
          "color": "rgb(0,0,0)",
          "width": 1
         },
         "mode": "lines",
         "text": "Segment 177: (475.00, 1.46) to (475.00, 1.46, score=21.56)",
         "type": "scatter",
         "x": [
          475,
          475
         ],
         "y": [
          1.4590941667556763,
          1.4590941667556763
         ]
        },
        {
         "hoverinfo": "text",
         "line": {
          "color": "rgb(0,0,0)",
          "width": 1
         },
         "mode": "lines",
         "text": "Segment 178: (726.42, 1.46) to (977.85, 1.46, score=21.56)",
         "type": "scatter",
         "x": [
          726.4234458927211,
          977.8468917854423
         ],
         "y": [
          1.4590941667556763,
          1.4590941667556763
         ]
        },
        {
         "hoverinfo": "text",
         "line": {
          "color": "rgb(0,0,0)",
          "width": 1
         },
         "mode": "lines",
         "text": "Segment 179: (977.85, 1.46) to (977.85, 1.46, score=21.56)",
         "type": "scatter",
         "x": [
          977.8468917854423,
          977.8468917854423
         ],
         "y": [
          1.4569114446640015,
          1.4590941667556763
         ]
        },
        {
         "hoverinfo": "text",
         "line": {
          "color": "rgb(255,210,0)",
          "width": 1
         },
         "mode": "lines",
         "text": "Segment 180: (726.42, 1.46) to (726.42, 1.46, score=142.63)",
         "type": "scatter",
         "x": [
          726.4234458927211,
          726.4234458927211
         ],
         "y": [
          1.4590941667556763,
          1.4599930047988892
         ]
        },
        {
         "hoverinfo": "text",
         "line": {
          "color": "rgb(255,210,0)",
          "width": 1
         },
         "mode": "lines",
         "text": "Segment 181: (726.42, 1.46) to (880.71, 1.46, score=142.63)",
         "type": "scatter",
         "x": [
          726.4234458927211,
          880.7117229463606
         ],
         "y": [
          1.4599930047988892,
          1.4599930047988892
         ]
        },
        {
         "hoverinfo": "text",
         "line": {
          "color": "rgb(255,210,0)",
          "width": 1
         },
         "mode": "lines",
         "text": "Segment 182: (1035.00, 1.46) to (1035.00, 1.46, score=142.63)",
         "type": "scatter",
         "x": [
          1035,
          1035
         ],
         "y": [
          1.4599930047988892,
          1.4599930047988892
         ]
        },
        {
         "hoverinfo": "text",
         "line": {
          "color": "rgb(255,210,0)",
          "width": 1
         },
         "mode": "lines",
         "text": "Segment 183: (880.71, 1.46) to (880.71, 1.47, score=142.63)",
         "type": "scatter",
         "x": [
          880.7117229463606,
          880.7117229463606
         ],
         "y": [
          1.4599930047988892,
          1.4660550355911255
         ]
        },
        {
         "hoverinfo": "text",
         "line": {
          "color": "rgb(255,210,0)",
          "width": 1
         },
         "mode": "lines",
         "text": "Segment 184: (880.71, 1.47) to (962.86, 1.47, score=142.63)",
         "type": "scatter",
         "x": [
          880.7117229463606,
          962.8558614731803
         ],
         "y": [
          1.4660550355911255,
          1.4660550355911255
         ]
        },
        {
         "hoverinfo": "text",
         "line": {
          "color": "rgb(255,210,0)",
          "width": 1
         },
         "mode": "lines",
         "text": "Segment 185: (1045.00, 1.47) to (1045.00, 1.47, score=142.63)",
         "type": "scatter",
         "x": [
          1045,
          1045
         ],
         "y": [
          1.4660550355911255,
          1.4660550355911255
         ]
        },
        {
         "hoverinfo": "text",
         "line": {
          "color": "rgb(255,210,0)",
          "width": 1
         },
         "mode": "lines",
         "text": "Segment 186: (962.86, 1.47) to (962.86, 1.48, score=142.63)",
         "type": "scatter",
         "x": [
          962.8558614731803,
          962.8558614731803
         ],
         "y": [
          1.4660550355911255,
          1.4750111103057861
         ]
        },
        {
         "hoverinfo": "text",
         "line": {
          "color": "rgb(255,210,0)",
          "width": 1
         },
         "mode": "lines",
         "text": "Segment 187: (962.86, 1.48) to (1008.93, 1.48, score=142.63)",
         "type": "scatter",
         "x": [
          962.8558614731803,
          1008.9279307365902
         ],
         "y": [
          1.4750111103057861,
          1.4750111103057861
         ]
        },
        {
         "hoverinfo": "text",
         "line": {
          "color": "rgb(255,210,0)",
          "width": 1
         },
         "mode": "lines",
         "text": "Segment 188: (1055.00, 1.48) to (1055.00, 1.48, score=142.63)",
         "type": "scatter",
         "x": [
          1055,
          1055
         ],
         "y": [
          1.4750111103057861,
          1.4750111103057861
         ]
        },
        {
         "hoverinfo": "text",
         "line": {
          "color": "rgb(0,0,0)",
          "width": 1
         },
         "mode": "lines",
         "text": "Segment 189: (1008.93, 1.48) to (1008.93, 1.49, score=5.24)",
         "type": "scatter",
         "x": [
          1008.9279307365902,
          1008.9279307365902
         ],
         "y": [
          1.4750111103057861,
          1.4924030303955078
         ]
        },
        {
         "hoverinfo": "text",
         "line": {
          "color": "rgb(0,0,0)",
          "width": 1
         },
         "mode": "lines",
         "text": "Segment 190: (1008.93, 1.49) to (1036.96, 1.49, score=5.24)",
         "type": "scatter",
         "x": [
          1008.9279307365902,
          1036.963965368295
         ],
         "y": [
          1.4924030303955078,
          1.4924030303955078
         ]
        },
        {
         "hoverinfo": "text",
         "line": {
          "color": "rgb(0,0,0)",
          "width": 1
         },
         "mode": "lines",
         "text": "Segment 191: (1065.00, 1.49) to (1065.00, 1.49, score=5.24)",
         "type": "scatter",
         "x": [
          1065,
          1065
         ],
         "y": [
          1.4924030303955078,
          1.4924030303955078
         ]
        },
        {
         "hoverinfo": "text",
         "line": {
          "color": "rgb(0,0,0)",
          "width": 1
         },
         "mode": "lines",
         "text": "Segment 192: (460.00, 1.48) to (460.00, 1.51, score=5.24)",
         "type": "scatter",
         "x": [
          460,
          460
         ],
         "y": [
          1.4811105728149414,
          1.5070645809173584
         ]
        },
        {
         "hoverinfo": "text",
         "line": {
          "color": "rgb(0,0,0)",
          "width": 1
         },
         "mode": "lines",
         "text": "Segment 193: (460.00, 1.51) to (1036.96, 1.51, score=5.24)",
         "type": "scatter",
         "x": [
          460,
          1036.963965368295
         ],
         "y": [
          1.5070645809173584,
          1.5070645809173584
         ]
        },
        {
         "hoverinfo": "text",
         "line": {
          "color": "rgb(0,0,0)",
          "width": 1
         },
         "mode": "lines",
         "text": "Segment 194: (1036.96, 1.49) to (1036.96, 1.51, score=5.24)",
         "type": "scatter",
         "x": [
          1036.963965368295,
          1036.963965368295
         ],
         "y": [
          1.4924030303955078,
          1.5070645809173584
         ]
        },
        {
         "hoverinfo": "text",
         "line": {
          "color": "rgb(0,0,0)",
          "width": 1
         },
         "mode": "lines",
         "text": "Segment 195: (440.00, 1.49) to (440.00, 1.51, score=5.24)",
         "type": "scatter",
         "x": [
          440,
          440
         ],
         "y": [
          1.4873526096343994,
          1.5138955116271973
         ]
        },
        {
         "hoverinfo": "text",
         "line": {
          "color": "rgb(0,0,0)",
          "width": 1
         },
         "mode": "lines",
         "text": "Segment 196: (440.00, 1.51) to (748.48, 1.51, score=5.24)",
         "type": "scatter",
         "x": [
          440,
          748.4819826841475
         ],
         "y": [
          1.5138955116271973,
          1.5138955116271973
         ]
        },
        {
         "hoverinfo": "text",
         "line": {
          "color": "rgb(0,0,0)",
          "width": 1
         },
         "mode": "lines",
         "text": "Segment 197: (748.48, 1.51) to (748.48, 1.51, score=5.24)",
         "type": "scatter",
         "x": [
          748.4819826841475,
          748.4819826841475
         ],
         "y": [
          1.5070645809173584,
          1.5138955116271973
         ]
        },
        {
         "hoverinfo": "text",
         "line": {
          "color": "rgb(0,0,0)",
          "width": 1
         },
         "mode": "lines",
         "text": "Segment 198: (594.24, 1.51) to (594.24, 1.51, score=1.44)",
         "type": "scatter",
         "x": [
          594.2409913420738,
          594.2409913420738
         ],
         "y": [
          1.5138955116271973,
          1.5145055055618286
         ]
        },
        {
         "hoverinfo": "text",
         "line": {
          "color": "rgb(0,0,0)",
          "width": 1
         },
         "mode": "lines",
         "text": "Segment 199: (594.24, 1.51) to (834.62, 1.51, score=1.44)",
         "type": "scatter",
         "x": [
          594.2409913420738,
          834.6204956710369
         ],
         "y": [
          1.5145055055618286,
          1.5145055055618286
         ]
        },
        {
         "hoverinfo": "text",
         "line": {
          "color": "rgb(0,0,0)",
          "width": 1
         },
         "mode": "lines",
         "text": "Segment 200: (1075.00, 1.51) to (1075.00, 1.51, score=1.44)",
         "type": "scatter",
         "x": [
          1075,
          1075
         ],
         "y": [
          1.5145055055618286,
          1.5145055055618286
         ]
        },
        {
         "hoverinfo": "text",
         "line": {
          "color": "rgb(0,0,0)",
          "width": 1
         },
         "mode": "lines",
         "text": "Segment 201: (1095.00, 1.53) to (1095.00, 1.53, score=1.44)",
         "type": "scatter",
         "x": [
          1095,
          1095
         ],
         "y": [
          1.5330060720443726,
          1.5330060720443726
         ]
        },
        {
         "hoverinfo": "text",
         "line": {
          "color": "rgb(0,0,0)",
          "width": 1
         },
         "mode": "lines",
         "text": "Segment 202: (1100.00, 1.53) to (1100.00, 1.53, score=1.44)",
         "type": "scatter",
         "x": [
          1100,
          1100
         ],
         "y": [
          1.5330060720443726,
          1.5330060720443726
         ]
        },
        {
         "hoverinfo": "text",
         "line": {
          "color": "rgb(0,0,0)",
          "width": 1
         },
         "mode": "lines",
         "text": "Segment 203: (1105.00, 1.53) to (1105.00, 1.53, score=1.44)",
         "type": "scatter",
         "x": [
          1105,
          1105
         ],
         "y": [
          1.5330060720443726,
          1.5330060720443726
         ]
        },
        {
         "hoverinfo": "text",
         "line": {
          "color": "rgb(0,0,0)",
          "width": 1
         },
         "mode": "lines",
         "text": "Segment 204: (1085.00, 1.53) to (1085.00, 1.53, score=1.44)",
         "type": "scatter",
         "x": [
          1085,
          1085
         ],
         "y": [
          1.5347269773483276,
          1.5347269773483276
         ]
        },
        {
         "hoverinfo": "text",
         "line": {
          "color": "rgb(0,0,0)",
          "width": 1
         },
         "mode": "lines",
         "text": "Segment 205: (1092.50, 1.53) to (1100.00, 1.53, score=1.44)",
         "type": "scatter",
         "x": [
          1092.5,
          1100
         ],
         "y": [
          1.5347269773483276,
          1.5347269773483276
         ]
        },
        {
         "hoverinfo": "text",
         "line": {
          "color": "rgb(0,0,0)",
          "width": 1
         },
         "mode": "lines",
         "text": "Segment 206: (1100.00, 1.53) to (1100.00, 1.53, score=1.44)",
         "type": "scatter",
         "x": [
          1100,
          1100
         ],
         "y": [
          1.5330060720443726,
          1.5347269773483276
         ]
        },
        {
         "hoverinfo": "text",
         "line": {
          "color": "rgb(0,0,0)",
          "width": 1
         },
         "mode": "lines",
         "text": "Segment 207: (834.62, 1.51) to (834.62, 1.54, score=9.70)",
         "type": "scatter",
         "x": [
          834.6204956710369,
          834.6204956710369
         ],
         "y": [
          1.5145055055618286,
          1.5442560911178589
         ]
        },
        {
         "hoverinfo": "text",
         "line": {
          "color": "rgb(0,0,0)",
          "width": 1
         },
         "mode": "lines",
         "text": "Segment 208: (834.62, 1.54) to (1092.50, 1.54, score=9.70)",
         "type": "scatter",
         "x": [
          834.6204956710369,
          1092.5
         ],
         "y": [
          1.5442560911178589,
          1.5442560911178589
         ]
        },
        {
         "hoverinfo": "text",
         "line": {
          "color": "rgb(0,0,0)",
          "width": 1
         },
         "mode": "lines",
         "text": "Segment 209: (1092.50, 1.53) to (1092.50, 1.54, score=9.70)",
         "type": "scatter",
         "x": [
          1092.5,
          1092.5
         ],
         "y": [
          1.5347269773483276,
          1.5442560911178589
         ]
        },
        {
         "hoverinfo": "text",
         "line": {
          "color": "rgb(0,0,0)",
          "width": 1
         },
         "mode": "lines",
         "text": "Segment 210: (963.56, 1.54) to (963.56, 1.55, score=9.70)",
         "type": "scatter",
         "x": [
          963.5602478355185,
          963.5602478355185
         ],
         "y": [
          1.5442560911178589,
          1.5540721416473389
         ]
        },
        {
         "hoverinfo": "text",
         "line": {
          "color": "rgb(0,0,0)",
          "width": 1
         },
         "mode": "lines",
         "text": "Segment 211: (963.56, 1.55) to (1039.28, 1.55, score=9.70)",
         "type": "scatter",
         "x": [
          963.5602478355185,
          1039.2801239177593
         ],
         "y": [
          1.5540721416473389,
          1.5540721416473389
         ]
        },
        {
         "hoverinfo": "text",
         "line": {
          "color": "rgb(0,0,0)",
          "width": 1
         },
         "mode": "lines",
         "text": "Segment 212: (1115.00, 1.55) to (1115.00, 1.55, score=9.70)",
         "type": "scatter",
         "x": [
          1115,
          1115
         ],
         "y": [
          1.5540721416473389,
          1.5540721416473389
         ]
        },
        {
         "hoverinfo": "text",
         "line": {
          "color": "rgb(0,0,0)",
          "width": 1
         },
         "mode": "lines",
         "text": "Segment 213: (1039.28, 1.55) to (1039.28, 1.55, score=9.70)",
         "type": "scatter",
         "x": [
          1039.2801239177593,
          1039.2801239177593
         ],
         "y": [
          1.5540721416473389,
          1.5543142557144165
         ]
        },
        {
         "hoverinfo": "text",
         "line": {
          "color": "rgb(0,0,0)",
          "width": 1
         },
         "mode": "lines",
         "text": "Segment 214: (1039.28, 1.55) to (1082.14, 1.55, score=9.70)",
         "type": "scatter",
         "x": [
          1039.2801239177593,
          1082.1400619588796
         ],
         "y": [
          1.5543142557144165,
          1.5543142557144165
         ]
        },
        {
         "hoverinfo": "text",
         "line": {
          "color": "rgb(0,0,0)",
          "width": 1
         },
         "mode": "lines",
         "text": "Segment 215: (1125.00, 1.55) to (1125.00, 1.55, score=9.70)",
         "type": "scatter",
         "x": [
          1125,
          1125
         ],
         "y": [
          1.5543142557144165,
          1.5543142557144165
         ]
        },
        {
         "hoverinfo": "text",
         "line": {
          "color": "rgb(0,0,0)",
          "width": 1
         },
         "mode": "lines",
         "text": "Segment 216: (420.00, 1.55) to (420.00, 1.56, score=20.12)",
         "type": "scatter",
         "x": [
          420,
          420
         ],
         "y": [
          1.5539824962615967,
          1.556268334388733
         ]
        },
        {
         "hoverinfo": "text",
         "line": {
          "color": "rgb(0,0,0)",
          "width": 1
         },
         "mode": "lines",
         "text": "Segment 217: (420.00, 1.56) to (1082.14, 1.56, score=20.12)",
         "type": "scatter",
         "x": [
          420,
          1082.1400619588796
         ],
         "y": [
          1.556268334388733,
          1.556268334388733
         ]
        },
        {
         "hoverinfo": "text",
         "line": {
          "color": "rgb(0,0,0)",
          "width": 1
         },
         "mode": "lines",
         "text": "Segment 218: (1082.14, 1.55) to (1082.14, 1.56, score=20.12)",
         "type": "scatter",
         "x": [
          1082.1400619588796,
          1082.1400619588796
         ],
         "y": [
          1.5543142557144165,
          1.556268334388733
         ]
        },
        {
         "hoverinfo": "text",
         "line": {
          "color": "rgb(0,0,0)",
          "width": 1
         },
         "mode": "lines",
         "text": "Segment 219: (751.07, 1.56) to (751.07, 1.56, score=20.12)",
         "type": "scatter",
         "x": [
          751.0700309794398,
          751.0700309794398
         ],
         "y": [
          1.556268334388733,
          1.5566610097885132
         ]
        },
        {
         "hoverinfo": "text",
         "line": {
          "color": "rgb(0,0,0)",
          "width": 1
         },
         "mode": "lines",
         "text": "Segment 220: (751.07, 1.56) to (943.04, 1.56, score=20.12)",
         "type": "scatter",
         "x": [
          751.0700309794398,
          943.0350154897199
         ],
         "y": [
          1.5566610097885132,
          1.5566610097885132
         ]
        },
        {
         "hoverinfo": "text",
         "line": {
          "color": "rgb(0,0,0)",
          "width": 1
         },
         "mode": "lines",
         "text": "Segment 221: (1135.00, 1.56) to (1135.00, 1.56, score=20.12)",
         "type": "scatter",
         "x": [
          1135,
          1135
         ],
         "y": [
          1.5566610097885132,
          1.5566610097885132
         ]
        },
        {
         "hoverinfo": "text",
         "line": {
          "color": "rgb(0,0,0)",
          "width": 1
         },
         "mode": "lines",
         "text": "Segment 222: (405.00, 1.56) to (405.00, 1.56, score=20.12)",
         "type": "scatter",
         "x": [
          405,
          405
         ],
         "y": [
          1.5569099187850952,
          1.5569099187850952
         ]
        },
        {
         "hoverinfo": "text",
         "line": {
          "color": "rgb(0,0,0)",
          "width": 1
         },
         "mode": "lines",
         "text": "Segment 223: (674.02, 1.56) to (943.04, 1.56, score=20.12)",
         "type": "scatter",
         "x": [
          674.0175077448599,
          943.0350154897199
         ],
         "y": [
          1.5569099187850952,
          1.5569099187850952
         ]
        },
        {
         "hoverinfo": "text",
         "line": {
          "color": "rgb(0,0,0)",
          "width": 1
         },
         "mode": "lines",
         "text": "Segment 224: (943.04, 1.56) to (943.04, 1.56, score=20.12)",
         "type": "scatter",
         "x": [
          943.0350154897199,
          943.0350154897199
         ],
         "y": [
          1.5566610097885132,
          1.5569099187850952
         ]
        },
        {
         "hoverinfo": "text",
         "line": {
          "color": "rgb(0,0,0)",
          "width": 1
         },
         "mode": "lines",
         "text": "Segment 225: (674.02, 1.56) to (674.02, 1.56, score=32.20)",
         "type": "scatter",
         "x": [
          674.0175077448599,
          674.0175077448599
         ],
         "y": [
          1.5569099187850952,
          1.5617462396621704
         ]
        },
        {
         "hoverinfo": "text",
         "line": {
          "color": "rgb(0,0,0)",
          "width": 1
         },
         "mode": "lines",
         "text": "Segment 226: (674.02, 1.56) to (909.51, 1.56, score=32.20)",
         "type": "scatter",
         "x": [
          674.0175077448599,
          909.5087538724299
         ],
         "y": [
          1.5617462396621704,
          1.5617462396621704
         ]
        },
        {
         "hoverinfo": "text",
         "line": {
          "color": "rgb(0,0,0)",
          "width": 1
         },
         "mode": "lines",
         "text": "Segment 227: (1145.00, 1.56) to (1145.00, 1.56, score=32.20)",
         "type": "scatter",
         "x": [
          1145,
          1145
         ],
         "y": [
          1.5617462396621704,
          1.5617462396621704
         ]
        },
        {
         "hoverinfo": "text",
         "line": {
          "color": "rgb(0,0,0)",
          "width": 1
         },
         "mode": "lines",
         "text": "Segment 228: (395.00, 1.56) to (395.00, 1.56, score=32.20)",
         "type": "scatter",
         "x": [
          395,
          395
         ],
         "y": [
          1.5631117820739746,
          1.5631117820739746
         ]
        },
        {
         "hoverinfo": "text",
         "line": {
          "color": "rgb(0,0,0)",
          "width": 1
         },
         "mode": "lines",
         "text": "Segment 229: (652.25, 1.56) to (909.51, 1.56, score=32.20)",
         "type": "scatter",
         "x": [
          652.254376936215,
          909.5087538724299
         ],
         "y": [
          1.5631117820739746,
          1.5631117820739746
         ]
        },
        {
         "hoverinfo": "text",
         "line": {
          "color": "rgb(0,0,0)",
          "width": 1
         },
         "mode": "lines",
         "text": "Segment 230: (909.51, 1.56) to (909.51, 1.56, score=32.20)",
         "type": "scatter",
         "x": [
          909.5087538724299,
          909.5087538724299
         ],
         "y": [
          1.5617462396621704,
          1.5631117820739746
         ]
        },
        {
         "hoverinfo": "text",
         "line": {
          "color": "rgb(0,0,0)",
          "width": 1
         },
         "mode": "lines",
         "text": "Segment 231: (385.00, 1.57) to (385.00, 1.57, score=32.20)",
         "type": "scatter",
         "x": [
          385,
          385
         ],
         "y": [
          1.5702040195465088,
          1.5702040195465088
         ]
        },
        {
         "hoverinfo": "text",
         "line": {
          "color": "rgb(0,0,0)",
          "width": 1
         },
         "mode": "lines",
         "text": "Segment 232: (518.63, 1.57) to (652.25, 1.57, score=32.20)",
         "type": "scatter",
         "x": [
          518.6271884681075,
          652.254376936215
         ],
         "y": [
          1.5702040195465088,
          1.5702040195465088
         ]
        },
        {
         "hoverinfo": "text",
         "line": {
          "color": "rgb(0,0,0)",
          "width": 1
         },
         "mode": "lines",
         "text": "Segment 233: (652.25, 1.56) to (652.25, 1.57, score=32.20)",
         "type": "scatter",
         "x": [
          652.254376936215,
          652.254376936215
         ],
         "y": [
          1.5631117820739746,
          1.5702040195465088
         ]
        },
        {
         "hoverinfo": "text",
         "line": {
          "color": "rgb(0,0,0)",
          "width": 1
         },
         "mode": "lines",
         "text": "Segment 234: (518.63, 1.57) to (518.63, 1.57, score=7.00)",
         "type": "scatter",
         "x": [
          518.6271884681075,
          518.6271884681075
         ],
         "y": [
          1.5702040195465088,
          1.5720380544662476
         ]
        },
        {
         "hoverinfo": "text",
         "line": {
          "color": "rgb(0,0,0)",
          "width": 1
         },
         "mode": "lines",
         "text": "Segment 235: (518.63, 1.57) to (836.81, 1.57, score=7.00)",
         "type": "scatter",
         "x": [
          518.6271884681075,
          836.8135942340538
         ],
         "y": [
          1.5720380544662476,
          1.5720380544662476
         ]
        },
        {
         "hoverinfo": "text",
         "line": {
          "color": "rgb(0,0,0)",
          "width": 1
         },
         "mode": "lines",
         "text": "Segment 236: (1155.00, 1.57) to (1155.00, 1.57, score=7.00)",
         "type": "scatter",
         "x": [
          1155,
          1155
         ],
         "y": [
          1.5720380544662476,
          1.5720380544662476
         ]
        },
        {
         "hoverinfo": "text",
         "line": {
          "color": "rgb(0,0,0)",
          "width": 1
         },
         "mode": "lines",
         "text": "Segment 237: (370.00, 1.55) to (370.00, 1.57, score=7.00)",
         "type": "scatter",
         "x": [
          370,
          370
         ],
         "y": [
          1.5474919080734253,
          1.5747169256210327
         ]
        },
        {
         "hoverinfo": "text",
         "line": {
          "color": "rgb(0,0,0)",
          "width": 1
         },
         "mode": "lines",
         "text": "Segment 238: (370.00, 1.57) to (836.81, 1.57, score=7.00)",
         "type": "scatter",
         "x": [
          370,
          836.8135942340538
         ],
         "y": [
          1.5747169256210327,
          1.5747169256210327
         ]
        },
        {
         "hoverinfo": "text",
         "line": {
          "color": "rgb(0,0,0)",
          "width": 1
         },
         "mode": "lines",
         "text": "Segment 239: (836.81, 1.57) to (836.81, 1.57, score=7.00)",
         "type": "scatter",
         "x": [
          836.8135942340538,
          836.8135942340538
         ],
         "y": [
          1.5720380544662476,
          1.5747169256210327
         ]
        },
        {
         "hoverinfo": "text",
         "line": {
          "color": "rgb(0,0,0)",
          "width": 1
         },
         "mode": "lines",
         "text": "Segment 240: (355.00, 1.58) to (355.00, 1.58, score=7.00)",
         "type": "scatter",
         "x": [
          355,
          355
         ],
         "y": [
          1.5778976678848267,
          1.5778976678848267
         ]
        },
        {
         "hoverinfo": "text",
         "line": {
          "color": "rgb(0,0,0)",
          "width": 1
         },
         "mode": "lines",
         "text": "Segment 241: (479.20, 1.58) to (603.41, 1.58, score=7.00)",
         "type": "scatter",
         "x": [
          479.2033985585134,
          603.4067971170268
         ],
         "y": [
          1.5778976678848267,
          1.5778976678848267
         ]
        },
        {
         "hoverinfo": "text",
         "line": {
          "color": "rgb(0,0,0)",
          "width": 1
         },
         "mode": "lines",
         "text": "Segment 242: (603.41, 1.57) to (603.41, 1.58, score=7.00)",
         "type": "scatter",
         "x": [
          603.4067971170268,
          603.4067971170268
         ],
         "y": [
          1.5747169256210327,
          1.5778976678848267
         ]
        },
        {
         "hoverinfo": "text",
         "line": {
          "color": "rgb(230,0,0)",
          "width": 1
         },
         "mode": "lines",
         "text": "Segment 243: (345.00, 1.58) to (345.00, 1.58, score=63.50)",
         "type": "scatter",
         "x": [
          345,
          345
         ],
         "y": [
          1.5797090530395508,
          1.5797090530395508
         ]
        },
        {
         "hoverinfo": "text",
         "line": {
          "color": "rgb(230,0,0)",
          "width": 1
         },
         "mode": "lines",
         "text": "Segment 244: (412.10, 1.58) to (479.20, 1.58, score=63.50)",
         "type": "scatter",
         "x": [
          412.1016992792567,
          479.2033985585134
         ],
         "y": [
          1.5797090530395508,
          1.5797090530395508
         ]
        },
        {
         "hoverinfo": "text",
         "line": {
          "color": "rgb(230,0,0)",
          "width": 1
         },
         "mode": "lines",
         "text": "Segment 245: (479.20, 1.58) to (479.20, 1.58, score=63.50)",
         "type": "scatter",
         "x": [
          479.2033985585134,
          479.2033985585134
         ],
         "y": [
          1.5778976678848267,
          1.5797090530395508
         ]
        },
        {
         "hoverinfo": "text",
         "line": {
          "color": "rgb(230,0,0)",
          "width": 1
         },
         "mode": "lines",
         "text": "Segment 246: (412.10, 1.58) to (412.10, 1.58, score=63.50)",
         "type": "scatter",
         "x": [
          412.1016992792567,
          412.1016992792567
         ],
         "y": [
          1.5797090530395508,
          1.5802264213562012
         ]
        },
        {
         "hoverinfo": "text",
         "line": {
          "color": "rgb(230,0,0)",
          "width": 1
         },
         "mode": "lines",
         "text": "Segment 247: (412.10, 1.58) to (788.55, 1.58, score=63.50)",
         "type": "scatter",
         "x": [
          412.1016992792567,
          788.5508496396284
         ],
         "y": [
          1.5802264213562012,
          1.5802264213562012
         ]
        },
        {
         "hoverinfo": "text",
         "line": {
          "color": "rgb(230,0,0)",
          "width": 1
         },
         "mode": "lines",
         "text": "Segment 248: (1165.00, 1.58) to (1165.00, 1.58, score=63.50)",
         "type": "scatter",
         "x": [
          1165,
          1165
         ],
         "y": [
          1.5802264213562012,
          1.5802264213562012
         ]
        },
        {
         "hoverinfo": "text",
         "line": {
          "color": "rgb(230,0,0)",
          "width": 1
         },
         "mode": "lines",
         "text": "Segment 249: (788.55, 1.58) to (788.55, 1.58, score=63.50)",
         "type": "scatter",
         "x": [
          788.5508496396284,
          788.5508496396284
         ],
         "y": [
          1.5802264213562012,
          1.580941915512085
         ]
        },
        {
         "hoverinfo": "text",
         "line": {
          "color": "rgb(230,0,0)",
          "width": 1
         },
         "mode": "lines",
         "text": "Segment 250: (788.55, 1.58) to (981.78, 1.58, score=63.50)",
         "type": "scatter",
         "x": [
          788.5508496396284,
          981.7754248198141
         ],
         "y": [
          1.580941915512085,
          1.580941915512085
         ]
        },
        {
         "hoverinfo": "text",
         "line": {
          "color": "rgb(230,0,0)",
          "width": 1
         },
         "mode": "lines",
         "text": "Segment 251: (1175.00, 1.58) to (1175.00, 1.58, score=63.50)",
         "type": "scatter",
         "x": [
          1175,
          1175
         ],
         "y": [
          1.580941915512085,
          1.580941915512085
         ]
        },
        {
         "hoverinfo": "text",
         "line": {
          "color": "rgb(0,0,0)",
          "width": 1
         },
         "mode": "lines",
         "text": "Segment 252: (335.00, 1.58) to (335.00, 1.58, score=3.45)",
         "type": "scatter",
         "x": [
          335,
          335
         ],
         "y": [
          1.580960750579834,
          1.580960750579834
         ]
        },
        {
         "hoverinfo": "text",
         "line": {
          "color": "rgb(0,0,0)",
          "width": 1
         },
         "mode": "lines",
         "text": "Segment 253: (658.39, 1.58) to (981.78, 1.58, score=3.45)",
         "type": "scatter",
         "x": [
          658.3877124099071,
          981.7754248198141
         ],
         "y": [
          1.580960750579834,
          1.580960750579834
         ]
        },
        {
         "hoverinfo": "text",
         "line": {
          "color": "rgb(0,0,0)",
          "width": 1
         },
         "mode": "lines",
         "text": "Segment 254: (981.78, 1.58) to (981.78, 1.58, score=3.45)",
         "type": "scatter",
         "x": [
          981.7754248198141,
          981.7754248198141
         ],
         "y": [
          1.580941915512085,
          1.580960750579834
         ]
        },
        {
         "hoverinfo": "text",
         "line": {
          "color": "rgb(0,0,0)",
          "width": 1
         },
         "mode": "lines",
         "text": "Segment 255: (658.39, 1.58) to (658.39, 1.58, score=3.45)",
         "type": "scatter",
         "x": [
          658.3877124099071,
          658.3877124099071
         ],
         "y": [
          1.580960750579834,
          1.5825400352478027
         ]
        },
        {
         "hoverinfo": "text",
         "line": {
          "color": "rgb(0,0,0)",
          "width": 1
         },
         "mode": "lines",
         "text": "Segment 256: (658.39, 1.58) to (921.69, 1.58, score=3.45)",
         "type": "scatter",
         "x": [
          658.3877124099071,
          921.6938562049536
         ],
         "y": [
          1.5825400352478027,
          1.5825400352478027
         ]
        },
        {
         "hoverinfo": "text",
         "line": {
          "color": "rgb(0,0,0)",
          "width": 1
         },
         "mode": "lines",
         "text": "Segment 257: (1185.00, 1.58) to (1185.00, 1.58, score=3.45)",
         "type": "scatter",
         "x": [
          1185,
          1185
         ],
         "y": [
          1.5825400352478027,
          1.5825400352478027
         ]
        },
        {
         "hoverinfo": "text",
         "line": {
          "color": "rgb(0,0,0)",
          "width": 1
         },
         "mode": "lines",
         "text": "Segment 258: (325.00, 1.58) to (325.00, 1.58, score=3.45)",
         "type": "scatter",
         "x": [
          325,
          325
         ],
         "y": [
          1.58343505859375,
          1.58343505859375
         ]
        },
        {
         "hoverinfo": "text",
         "line": {
          "color": "rgb(0,0,0)",
          "width": 1
         },
         "mode": "lines",
         "text": "Segment 259: (623.35, 1.58) to (921.69, 1.58, score=3.45)",
         "type": "scatter",
         "x": [
          623.3469281024768,
          921.6938562049536
         ],
         "y": [
          1.58343505859375,
          1.58343505859375
         ]
        },
        {
         "hoverinfo": "text",
         "line": {
          "color": "rgb(0,0,0)",
          "width": 1
         },
         "mode": "lines",
         "text": "Segment 260: (921.69, 1.58) to (921.69, 1.58, score=3.45)",
         "type": "scatter",
         "x": [
          921.6938562049536,
          921.6938562049536
         ],
         "y": [
          1.5825400352478027,
          1.58343505859375
         ]
        },
        {
         "hoverinfo": "text",
         "line": {
          "color": "rgb(230,0,0)",
          "width": 1
         },
         "mode": "lines",
         "text": "Segment 261: (315.00, 1.59) to (315.00, 1.59, score=80.67)",
         "type": "scatter",
         "x": [
          315,
          315
         ],
         "y": [
          1.5892423391342163,
          1.5892423391342163
         ]
        },
        {
         "hoverinfo": "text",
         "line": {
          "color": "rgb(230,0,0)",
          "width": 1
         },
         "mode": "lines",
         "text": "Segment 262: (469.17, 1.59) to (623.35, 1.59, score=80.67)",
         "type": "scatter",
         "x": [
          469.1734640512384,
          623.3469281024768
         ],
         "y": [
          1.5892423391342163,
          1.5892423391342163
         ]
        },
        {
         "hoverinfo": "text",
         "line": {
          "color": "rgb(230,0,0)",
          "width": 1
         },
         "mode": "lines",
         "text": "Segment 263: (623.35, 1.58) to (623.35, 1.59, score=80.67)",
         "type": "scatter",
         "x": [
          623.3469281024768,
          623.3469281024768
         ],
         "y": [
          1.58343505859375,
          1.5892423391342163
         ]
        },
        {
         "hoverinfo": "text",
         "line": {
          "color": "rgb(230,0,0)",
          "width": 1
         },
         "mode": "lines",
         "text": "Segment 264: (469.17, 1.59) to (469.17, 1.59, score=80.67)",
         "type": "scatter",
         "x": [
          469.1734640512384,
          469.1734640512384
         ],
         "y": [
          1.5892423391342163,
          1.590504765510559
         ]
        },
        {
         "hoverinfo": "text",
         "line": {
          "color": "rgb(230,0,0)",
          "width": 1
         },
         "mode": "lines",
         "text": "Segment 265: (469.17, 1.59) to (832.09, 1.59, score=80.67)",
         "type": "scatter",
         "x": [
          469.1734640512384,
          832.0867320256192
         ],
         "y": [
          1.590504765510559,
          1.590504765510559
         ]
        },
        {
         "hoverinfo": "text",
         "line": {
          "color": "rgb(230,0,0)",
          "width": 1
         },
         "mode": "lines",
         "text": "Segment 266: (1195.00, 1.59) to (1195.00, 1.59, score=80.67)",
         "type": "scatter",
         "x": [
          1195,
          1195
         ],
         "y": [
          1.590504765510559,
          1.590504765510559
         ]
        },
        {
         "hoverinfo": "text",
         "line": {
          "color": "rgb(230,0,0)",
          "width": 1
         },
         "mode": "lines",
         "text": "Segment 267: (832.09, 1.59) to (832.09, 1.59, score=80.67)",
         "type": "scatter",
         "x": [
          832.0867320256192,
          832.0867320256192
         ],
         "y": [
          1.590504765510559,
          1.5908150672912598
         ]
        },
        {
         "hoverinfo": "text",
         "line": {
          "color": "rgb(230,0,0)",
          "width": 1
         },
         "mode": "lines",
         "text": "Segment 268: (832.09, 1.59) to (1018.54, 1.59, score=80.67)",
         "type": "scatter",
         "x": [
          832.0867320256192,
          1018.5433660128097
         ],
         "y": [
          1.5908150672912598,
          1.5908150672912598
         ]
        },
        {
         "hoverinfo": "text",
         "line": {
          "color": "rgb(230,0,0)",
          "width": 1
         },
         "mode": "lines",
         "text": "Segment 269: (1205.00, 1.59) to (1205.00, 1.59, score=80.67)",
         "type": "scatter",
         "x": [
          1205,
          1205
         ],
         "y": [
          1.5908150672912598,
          1.5908150672912598
         ]
        },
        {
         "hoverinfo": "text",
         "line": {
          "color": "rgb(255,210,0)",
          "width": 1
         },
         "mode": "lines",
         "text": "Segment 270: (1018.54, 1.59) to (1018.54, 1.59, score=128.97)",
         "type": "scatter",
         "x": [
          1018.5433660128097,
          1018.5433660128097
         ],
         "y": [
          1.5908150672912598,
          1.5918614864349365
         ]
        },
        {
         "hoverinfo": "text",
         "line": {
          "color": "rgb(255,210,0)",
          "width": 1
         },
         "mode": "lines",
         "text": "Segment 271: (1018.54, 1.59) to (1116.77, 1.59, score=128.97)",
         "type": "scatter",
         "x": [
          1018.5433660128097,
          1116.7716830064048
         ],
         "y": [
          1.5918614864349365,
          1.5918614864349365
         ]
        },
        {
         "hoverinfo": "text",
         "line": {
          "color": "rgb(255,210,0)",
          "width": 1
         },
         "mode": "lines",
         "text": "Segment 272: (1215.00, 1.59) to (1215.00, 1.59, score=128.97)",
         "type": "scatter",
         "x": [
          1215,
          1215
         ],
         "y": [
          1.5918614864349365,
          1.5918614864349365
         ]
        },
        {
         "hoverinfo": "text",
         "line": {
          "color": "rgb(255,210,0)",
          "width": 1
         },
         "mode": "lines",
         "text": "Segment 273: (305.00, 1.59) to (305.00, 1.59, score=128.97)",
         "type": "scatter",
         "x": [
          305,
          305
         ],
         "y": [
          1.5938373804092407,
          1.5938373804092407
         ]
        },
        {
         "hoverinfo": "text",
         "line": {
          "color": "rgb(255,210,0)",
          "width": 1
         },
         "mode": "lines",
         "text": "Segment 274: (710.89, 1.59) to (1116.77, 1.59, score=128.97)",
         "type": "scatter",
         "x": [
          710.8858415032024,
          1116.7716830064048
         ],
         "y": [
          1.5938373804092407,
          1.5938373804092407
         ]
        },
        {
         "hoverinfo": "text",
         "line": {
          "color": "rgb(255,210,0)",
          "width": 1
         },
         "mode": "lines",
         "text": "Segment 275: (1116.77, 1.59) to (1116.77, 1.59, score=128.97)",
         "type": "scatter",
         "x": [
          1116.7716830064048,
          1116.7716830064048
         ],
         "y": [
          1.5918614864349365,
          1.5938373804092407
         ]
        },
        {
         "hoverinfo": "text",
         "line": {
          "color": "rgb(255,210,0)",
          "width": 1
         },
         "mode": "lines",
         "text": "Segment 276: (710.89, 1.59) to (710.89, 1.59, score=128.97)",
         "type": "scatter",
         "x": [
          710.8858415032024,
          710.8858415032024
         ],
         "y": [
          1.5938373804092407,
          1.5947896242141724
         ]
        },
        {
         "hoverinfo": "text",
         "line": {
          "color": "rgb(255,210,0)",
          "width": 1
         },
         "mode": "lines",
         "text": "Segment 277: (710.89, 1.59) to (967.94, 1.59, score=128.97)",
         "type": "scatter",
         "x": [
          710.8858415032024,
          967.9429207516012
         ],
         "y": [
          1.5947896242141724,
          1.5947896242141724
         ]
        },
        {
         "hoverinfo": "text",
         "line": {
          "color": "rgb(255,210,0)",
          "width": 1
         },
         "mode": "lines",
         "text": "Segment 278: (1225.00, 1.59) to (1225.00, 1.59, score=128.97)",
         "type": "scatter",
         "x": [
          1225,
          1225
         ],
         "y": [
          1.5947896242141724,
          1.5947896242141724
         ]
        },
        {
         "hoverinfo": "text",
         "line": {
          "color": "rgb(0,0,0)",
          "width": 1
         },
         "mode": "lines",
         "text": "Segment 279: (295.00, 1.60) to (295.00, 1.60, score=5.17)",
         "type": "scatter",
         "x": [
          295,
          295
         ],
         "y": [
          1.5970056056976318,
          1.5970056056976318
         ]
        },
        {
         "hoverinfo": "text",
         "line": {
          "color": "rgb(0,0,0)",
          "width": 1
         },
         "mode": "lines",
         "text": "Segment 280: (631.47, 1.60) to (967.94, 1.60, score=5.17)",
         "type": "scatter",
         "x": [
          631.4714603758006,
          967.9429207516012
         ],
         "y": [
          1.5970056056976318,
          1.5970056056976318
         ]
        },
        {
         "hoverinfo": "text",
         "line": {
          "color": "rgb(0,0,0)",
          "width": 1
         },
         "mode": "lines",
         "text": "Segment 281: (967.94, 1.59) to (967.94, 1.60, score=5.17)",
         "type": "scatter",
         "x": [
          967.9429207516012,
          967.9429207516012
         ],
         "y": [
          1.5947896242141724,
          1.5970056056976318
         ]
        },
        {
         "hoverinfo": "text",
         "line": {
          "color": "rgb(0,0,0)",
          "width": 1
         },
         "mode": "lines",
         "text": "Segment 282: (631.47, 1.60) to (631.47, 1.60, score=5.17)",
         "type": "scatter",
         "x": [
          631.4714603758006,
          631.4714603758006
         ],
         "y": [
          1.5970056056976318,
          1.6005120277404785
         ]
        },
        {
         "hoverinfo": "text",
         "line": {
          "color": "rgb(0,0,0)",
          "width": 1
         },
         "mode": "lines",
         "text": "Segment 283: (631.47, 1.60) to (933.24, 1.60, score=5.17)",
         "type": "scatter",
         "x": [
          631.4714603758006,
          933.2357301879003
         ],
         "y": [
          1.6005120277404785,
          1.6005120277404785
         ]
        },
        {
         "hoverinfo": "text",
         "line": {
          "color": "rgb(0,0,0)",
          "width": 1
         },
         "mode": "lines",
         "text": "Segment 284: (1235.00, 1.60) to (1235.00, 1.60, score=5.17)",
         "type": "scatter",
         "x": [
          1235,
          1235
         ],
         "y": [
          1.6005120277404785,
          1.6005120277404785
         ]
        },
        {
         "hoverinfo": "text",
         "line": {
          "color": "rgb(0,0,0)",
          "width": 1
         },
         "mode": "lines",
         "text": "Segment 285: (933.24, 1.60) to (933.24, 1.61, score=5.17)",
         "type": "scatter",
         "x": [
          933.2357301879003,
          933.2357301879003
         ],
         "y": [
          1.6005120277404785,
          1.608705759048462
         ]
        },
        {
         "hoverinfo": "text",
         "line": {
          "color": "rgb(0,0,0)",
          "width": 1
         },
         "mode": "lines",
         "text": "Segment 286: (933.24, 1.61) to (1089.12, 1.61, score=5.17)",
         "type": "scatter",
         "x": [
          933.2357301879003,
          1089.11786509395
         ],
         "y": [
          1.608705759048462,
          1.608705759048462
         ]
        },
        {
         "hoverinfo": "text",
         "line": {
          "color": "rgb(0,0,0)",
          "width": 1
         },
         "mode": "lines",
         "text": "Segment 287: (1245.00, 1.61) to (1245.00, 1.61, score=5.17)",
         "type": "scatter",
         "x": [
          1245,
          1245
         ],
         "y": [
          1.608705759048462,
          1.608705759048462
         ]
        },
        {
         "hoverinfo": "text",
         "line": {
          "color": "rgb(0,0,0)",
          "width": 1
         },
         "mode": "lines",
         "text": "Segment 288: (1089.12, 1.61) to (1089.12, 1.61, score=29.76)",
         "type": "scatter",
         "x": [
          1089.11786509395,
          1089.11786509395
         ],
         "y": [
          1.608705759048462,
          1.6098933219909668
         ]
        },
        {
         "hoverinfo": "text",
         "line": {
          "color": "rgb(0,0,0)",
          "width": 1
         },
         "mode": "lines",
         "text": "Segment 289: (1089.12, 1.61) to (1172.06, 1.61, score=29.76)",
         "type": "scatter",
         "x": [
          1089.11786509395,
          1172.058932546975
         ],
         "y": [
          1.6098933219909668,
          1.6098933219909668
         ]
        },
        {
         "hoverinfo": "text",
         "line": {
          "color": "rgb(0,0,0)",
          "width": 1
         },
         "mode": "lines",
         "text": "Segment 290: (1255.00, 1.61) to (1255.00, 1.61, score=29.76)",
         "type": "scatter",
         "x": [
          1255,
          1255
         ],
         "y": [
          1.6098933219909668,
          1.6098933219909668
         ]
        },
        {
         "hoverinfo": "text",
         "line": {
          "color": "rgb(0,0,0)",
          "width": 1
         },
         "mode": "lines",
         "text": "Segment 291: (1172.06, 1.61) to (1172.06, 1.61, score=29.76)",
         "type": "scatter",
         "x": [
          1172.058932546975,
          1172.058932546975
         ],
         "y": [
          1.6098933219909668,
          1.6139942407608032
         ]
        },
        {
         "hoverinfo": "text",
         "line": {
          "color": "rgb(0,0,0)",
          "width": 1
         },
         "mode": "lines",
         "text": "Segment 292: (1172.06, 1.61) to (1218.53, 1.61, score=29.76)",
         "type": "scatter",
         "x": [
          1172.058932546975,
          1218.5294662734875
         ],
         "y": [
          1.6139942407608032,
          1.6139942407608032
         ]
        },
        {
         "hoverinfo": "text",
         "line": {
          "color": "rgb(0,0,0)",
          "width": 1
         },
         "mode": "lines",
         "text": "Segment 293: (1265.00, 1.61) to (1265.00, 1.61, score=29.76)",
         "type": "scatter",
         "x": [
          1265,
          1265
         ],
         "y": [
          1.6139942407608032,
          1.6139942407608032
         ]
        },
        {
         "hoverinfo": "text",
         "line": {
          "color": "rgb(0,0,0)",
          "width": 1
         },
         "mode": "lines",
         "text": "Segment 294: (285.00, 1.62) to (285.00, 1.62, score=29.76)",
         "type": "scatter",
         "x": [
          285,
          285
         ],
         "y": [
          1.6162841320037842,
          1.6162841320037842
         ]
        },
        {
         "hoverinfo": "text",
         "line": {
          "color": "rgb(0,0,0)",
          "width": 1
         },
         "mode": "lines",
         "text": "Segment 295: (751.76, 1.62) to (1218.53, 1.62, score=29.76)",
         "type": "scatter",
         "x": [
          751.7647331367438,
          1218.5294662734875
         ],
         "y": [
          1.6162841320037842,
          1.6162841320037842
         ]
        },
        {
         "hoverinfo": "text",
         "line": {
          "color": "rgb(0,0,0)",
          "width": 1
         },
         "mode": "lines",
         "text": "Segment 296: (1218.53, 1.61) to (1218.53, 1.62, score=29.76)",
         "type": "scatter",
         "x": [
          1218.5294662734875,
          1218.5294662734875
         ],
         "y": [
          1.6139942407608032,
          1.6162841320037842
         ]
        },
        {
         "hoverinfo": "text",
         "line": {
          "color": "rgb(230,0,0)",
          "width": 1
         },
         "mode": "lines",
         "text": "Segment 297: (751.76, 1.62) to (751.76, 1.62, score=68.72)",
         "type": "scatter",
         "x": [
          751.7647331367438,
          751.7647331367438
         ],
         "y": [
          1.6162841320037842,
          1.6194472312927246
         ]
        },
        {
         "hoverinfo": "text",
         "line": {
          "color": "rgb(230,0,0)",
          "width": 1
         },
         "mode": "lines",
         "text": "Segment 298: (751.76, 1.62) to (1013.38, 1.62, score=68.72)",
         "type": "scatter",
         "x": [
          751.7647331367438,
          1013.3823665683719
         ],
         "y": [
          1.6194472312927246,
          1.6194472312927246
         ]
        },
        {
         "hoverinfo": "text",
         "line": {
          "color": "rgb(230,0,0)",
          "width": 1
         },
         "mode": "lines",
         "text": "Segment 299: (1275.00, 1.62) to (1275.00, 1.62, score=68.72)",
         "type": "scatter",
         "x": [
          1275,
          1275
         ],
         "y": [
          1.6194472312927246,
          1.6194472312927246
         ]
        },
        {
         "hoverinfo": "text",
         "line": {
          "color": "rgb(230,0,0)",
          "width": 1
         },
         "mode": "lines",
         "text": "Segment 300: (1013.38, 1.62) to (1013.38, 1.62, score=68.72)",
         "type": "scatter",
         "x": [
          1013.3823665683719,
          1013.3823665683719
         ],
         "y": [
          1.6194472312927246,
          1.6206351518630981
         ]
        },
        {
         "hoverinfo": "text",
         "line": {
          "color": "rgb(230,0,0)",
          "width": 1
         },
         "mode": "lines",
         "text": "Segment 301: (1013.38, 1.62) to (1149.19, 1.62, score=68.72)",
         "type": "scatter",
         "x": [
          1013.3823665683719,
          1149.191183284186
         ],
         "y": [
          1.6206351518630981,
          1.6206351518630981
         ]
        },
        {
         "hoverinfo": "text",
         "line": {
          "color": "rgb(230,0,0)",
          "width": 1
         },
         "mode": "lines",
         "text": "Segment 302: (1285.00, 1.62) to (1285.00, 1.62, score=68.72)",
         "type": "scatter",
         "x": [
          1285,
          1285
         ],
         "y": [
          1.6206351518630981,
          1.6206351518630981
         ]
        },
        {
         "hoverinfo": "text",
         "line": {
          "color": "rgb(230,0,0)",
          "width": 1
         },
         "mode": "lines",
         "text": "Segment 303: (275.00, 1.62) to (275.00, 1.62, score=68.72)",
         "type": "scatter",
         "x": [
          275,
          275
         ],
         "y": [
          1.6213560104370117,
          1.6213560104370117
         ]
        },
        {
         "hoverinfo": "text",
         "line": {
          "color": "rgb(230,0,0)",
          "width": 1
         },
         "mode": "lines",
         "text": "Segment 304: (712.10, 1.62) to (1149.19, 1.62, score=68.72)",
         "type": "scatter",
         "x": [
          712.095591642093,
          1149.191183284186
         ],
         "y": [
          1.6213560104370117,
          1.6213560104370117
         ]
        },
        {
         "hoverinfo": "text",
         "line": {
          "color": "rgb(230,0,0)",
          "width": 1
         },
         "mode": "lines",
         "text": "Segment 305: (1149.19, 1.62) to (1149.19, 1.62, score=68.72)",
         "type": "scatter",
         "x": [
          1149.191183284186,
          1149.191183284186
         ],
         "y": [
          1.6206351518630981,
          1.6213560104370117
         ]
        },
        {
         "hoverinfo": "text",
         "line": {
          "color": "rgb(0,0,0)",
          "width": 1
         },
         "mode": "lines",
         "text": "Segment 306: (265.00, 1.62) to (265.00, 1.62, score=29.55)",
         "type": "scatter",
         "x": [
          265,
          265
         ],
         "y": [
          1.62297785282135,
          1.62297785282135
         ]
        },
        {
         "hoverinfo": "text",
         "line": {
          "color": "rgb(0,0,0)",
          "width": 1
         },
         "mode": "lines",
         "text": "Segment 307: (488.55, 1.62) to (712.10, 1.62, score=29.55)",
         "type": "scatter",
         "x": [
          488.5477958210465,
          712.095591642093
         ],
         "y": [
          1.62297785282135,
          1.62297785282135
         ]
        },
        {
         "hoverinfo": "text",
         "line": {
          "color": "rgb(0,0,0)",
          "width": 1
         },
         "mode": "lines",
         "text": "Segment 308: (712.10, 1.62) to (712.10, 1.62, score=29.55)",
         "type": "scatter",
         "x": [
          712.095591642093,
          712.095591642093
         ],
         "y": [
          1.6213560104370117,
          1.62297785282135
         ]
        },
        {
         "hoverinfo": "text",
         "line": {
          "color": "rgb(0,0,0)",
          "width": 1
         },
         "mode": "lines",
         "text": "Segment 309: (488.55, 1.62) to (488.55, 1.62, score=29.55)",
         "type": "scatter",
         "x": [
          488.5477958210465,
          488.5477958210465
         ],
         "y": [
          1.62297785282135,
          1.622983694076538
         ]
        },
        {
         "hoverinfo": "text",
         "line": {
          "color": "rgb(0,0,0)",
          "width": 1
         },
         "mode": "lines",
         "text": "Segment 310: (488.55, 1.62) to (891.77, 1.62, score=29.55)",
         "type": "scatter",
         "x": [
          488.5477958210465,
          891.7738979105233
         ],
         "y": [
          1.622983694076538,
          1.622983694076538
         ]
        },
        {
         "hoverinfo": "text",
         "line": {
          "color": "rgb(0,0,0)",
          "width": 1
         },
         "mode": "lines",
         "text": "Segment 311: (1295.00, 1.62) to (1295.00, 1.62, score=29.55)",
         "type": "scatter",
         "x": [
          1295,
          1295
         ],
         "y": [
          1.622983694076538,
          1.622983694076538
         ]
        },
        {
         "hoverinfo": "text",
         "line": {
          "color": "rgb(0,0,0)",
          "width": 1
         },
         "mode": "lines",
         "text": "Segment 312: (255.00, 1.62) to (255.00, 1.62, score=29.55)",
         "type": "scatter",
         "x": [
          255,
          255
         ],
         "y": [
          1.6239454746246338,
          1.6239454746246338
         ]
        },
        {
         "hoverinfo": "text",
         "line": {
          "color": "rgb(0,0,0)",
          "width": 1
         },
         "mode": "lines",
         "text": "Segment 313: (573.39, 1.62) to (891.77, 1.62, score=29.55)",
         "type": "scatter",
         "x": [
          573.3869489552617,
          891.7738979105233
         ],
         "y": [
          1.6239454746246338,
          1.6239454746246338
         ]
        },
        {
         "hoverinfo": "text",
         "line": {
          "color": "rgb(0,0,0)",
          "width": 1
         },
         "mode": "lines",
         "text": "Segment 314: (891.77, 1.62) to (891.77, 1.62, score=29.55)",
         "type": "scatter",
         "x": [
          891.7738979105233,
          891.7738979105233
         ],
         "y": [
          1.622983694076538,
          1.6239454746246338
         ]
        },
        {
         "hoverinfo": "text",
         "line": {
          "color": "rgb(255,210,0)",
          "width": 1
         },
         "mode": "lines",
         "text": "Segment 315: (573.39, 1.62) to (573.39, 1.64, score=103.61)",
         "type": "scatter",
         "x": [
          573.3869489552617,
          573.3869489552617
         ],
         "y": [
          1.6239454746246338,
          1.6372323036193848
         ]
        },
        {
         "hoverinfo": "text",
         "line": {
          "color": "rgb(255,210,0)",
          "width": 1
         },
         "mode": "lines",
         "text": "Segment 316: (573.39, 1.64) to (939.19, 1.64, score=103.61)",
         "type": "scatter",
         "x": [
          573.3869489552617,
          939.1934744776308
         ],
         "y": [
          1.6372323036193848,
          1.6372323036193848
         ]
        },
        {
         "hoverinfo": "text",
         "line": {
          "color": "rgb(255,210,0)",
          "width": 1
         },
         "mode": "lines",
         "text": "Segment 317: (1305.00, 1.64) to (1305.00, 1.64, score=103.61)",
         "type": "scatter",
         "x": [
          1305,
          1305
         ],
         "y": [
          1.6372323036193848,
          1.6372323036193848
         ]
        },
        {
         "hoverinfo": "text",
         "line": {
          "color": "rgb(255,210,0)",
          "width": 1
         },
         "mode": "lines",
         "text": "Segment 318: (245.00, 1.64) to (245.00, 1.64, score=103.61)",
         "type": "scatter",
         "x": [
          245,
          245
         ],
         "y": [
          1.6413904428482056,
          1.6413904428482056
         ]
        },
        {
         "hoverinfo": "text",
         "line": {
          "color": "rgb(255,210,0)",
          "width": 1
         },
         "mode": "lines",
         "text": "Segment 319: (592.10, 1.64) to (939.19, 1.64, score=103.61)",
         "type": "scatter",
         "x": [
          592.0967372388154,
          939.1934744776308
         ],
         "y": [
          1.6413904428482056,
          1.6413904428482056
         ]
        },
        {
         "hoverinfo": "text",
         "line": {
          "color": "rgb(255,210,0)",
          "width": 1
         },
         "mode": "lines",
         "text": "Segment 320: (939.19, 1.64) to (939.19, 1.64, score=103.61)",
         "type": "scatter",
         "x": [
          939.1934744776308,
          939.1934744776308
         ],
         "y": [
          1.6372323036193848,
          1.6413904428482056
         ]
        },
        {
         "hoverinfo": "text",
         "line": {
          "color": "rgb(255,210,0)",
          "width": 1
         },
         "mode": "lines",
         "text": "Segment 321: (1315.00, 1.63) to (1315.00, 1.63, score=103.61)",
         "type": "scatter",
         "x": [
          1315,
          1315
         ],
         "y": [
          1.6274343729019165,
          1.6274343729019165
         ]
        },
        {
         "hoverinfo": "text",
         "line": {
          "color": "rgb(255,210,0)",
          "width": 1
         },
         "mode": "lines",
         "text": "Segment 322: (1320.00, 1.63) to (1320.00, 1.63, score=103.61)",
         "type": "scatter",
         "x": [
          1320,
          1320
         ],
         "y": [
          1.6274343729019165,
          1.6274343729019165
         ]
        },
        {
         "hoverinfo": "text",
         "line": {
          "color": "rgb(255,210,0)",
          "width": 1
         },
         "mode": "lines",
         "text": "Segment 323: (1325.00, 1.63) to (1325.00, 1.63, score=103.61)",
         "type": "scatter",
         "x": [
          1325,
          1325
         ],
         "y": [
          1.6274343729019165,
          1.6274343729019165
         ]
        },
        {
         "hoverinfo": "text",
         "line": {
          "color": "rgb(0,0,0)",
          "width": 1
         },
         "mode": "lines",
         "text": "Segment 324: (1320.00, 1.63) to (1320.00, 1.64, score=5.04)",
         "type": "scatter",
         "x": [
          1320,
          1320
         ],
         "y": [
          1.6274343729019165,
          1.6444741487503052
         ]
        },
        {
         "hoverinfo": "text",
         "line": {
          "color": "rgb(0,0,0)",
          "width": 1
         },
         "mode": "lines",
         "text": "Segment 325: (1320.00, 1.64) to (1327.50, 1.64, score=5.04)",
         "type": "scatter",
         "x": [
          1320,
          1327.5
         ],
         "y": [
          1.6444741487503052,
          1.6444741487503052
         ]
        },
        {
         "hoverinfo": "text",
         "line": {
          "color": "rgb(0,0,0)",
          "width": 1
         },
         "mode": "lines",
         "text": "Segment 326: (1335.00, 1.64) to (1335.00, 1.64, score=5.04)",
         "type": "scatter",
         "x": [
          1335,
          1335
         ],
         "y": [
          1.6444741487503052,
          1.6444741487503052
         ]
        },
        {
         "hoverinfo": "text",
         "line": {
          "color": "rgb(0,0,0)",
          "width": 1
         },
         "mode": "lines",
         "text": "Segment 327: (592.10, 1.64) to (592.10, 1.65, score=5.04)",
         "type": "scatter",
         "x": [
          592.0967372388154,
          592.0967372388154
         ],
         "y": [
          1.6413904428482056,
          1.6453688144683838
         ]
        },
        {
         "hoverinfo": "text",
         "line": {
          "color": "rgb(0,0,0)",
          "width": 1
         },
         "mode": "lines",
         "text": "Segment 328: (592.10, 1.65) to (1327.50, 1.65, score=5.04)",
         "type": "scatter",
         "x": [
          592.0967372388154,
          1327.5
         ],
         "y": [
          1.6453688144683838,
          1.6453688144683838
         ]
        },
        {
         "hoverinfo": "text",
         "line": {
          "color": "rgb(0,0,0)",
          "width": 1
         },
         "mode": "lines",
         "text": "Segment 329: (1327.50, 1.64) to (1327.50, 1.65, score=5.04)",
         "type": "scatter",
         "x": [
          1327.5,
          1327.5
         ],
         "y": [
          1.6444741487503052,
          1.6453688144683838
         ]
        },
        {
         "hoverinfo": "text",
         "line": {
          "color": "rgb(0,0,0)",
          "width": 1
         },
         "mode": "lines",
         "text": "Segment 330: (959.80, 1.65) to (959.80, 1.65, score=5.04)",
         "type": "scatter",
         "x": [
          959.7983686194077,
          959.7983686194077
         ],
         "y": [
          1.6453688144683838,
          1.6534829139709473
         ]
        },
        {
         "hoverinfo": "text",
         "line": {
          "color": "rgb(0,0,0)",
          "width": 1
         },
         "mode": "lines",
         "text": "Segment 331: (959.80, 1.65) to (1152.40, 1.65, score=5.04)",
         "type": "scatter",
         "x": [
          959.7983686194077,
          1152.3991843097037
         ],
         "y": [
          1.6534829139709473,
          1.6534829139709473
         ]
        },
        {
         "hoverinfo": "text",
         "line": {
          "color": "rgb(0,0,0)",
          "width": 1
         },
         "mode": "lines",
         "text": "Segment 332: (1345.00, 1.65) to (1345.00, 1.65, score=5.04)",
         "type": "scatter",
         "x": [
          1345,
          1345
         ],
         "y": [
          1.6534829139709473,
          1.6534829139709473
         ]
        },
        {
         "hoverinfo": "text",
         "line": {
          "color": "rgb(0,0,0)",
          "width": 1
         },
         "mode": "lines",
         "text": "Segment 333: (1152.40, 1.65) to (1152.40, 1.66, score=20.45)",
         "type": "scatter",
         "x": [
          1152.3991843097037,
          1152.3991843097037
         ],
         "y": [
          1.6534829139709473,
          1.661001205444336
         ]
        },
        {
         "hoverinfo": "text",
         "line": {
          "color": "rgb(0,0,0)",
          "width": 1
         },
         "mode": "lines",
         "text": "Segment 334: (1152.40, 1.66) to (1253.70, 1.66, score=20.45)",
         "type": "scatter",
         "x": [
          1152.3991843097037,
          1253.6995921548519
         ],
         "y": [
          1.661001205444336,
          1.661001205444336
         ]
        },
        {
         "hoverinfo": "text",
         "line": {
          "color": "rgb(0,0,0)",
          "width": 1
         },
         "mode": "lines",
         "text": "Segment 335: (1355.00, 1.66) to (1355.00, 1.66, score=20.45)",
         "type": "scatter",
         "x": [
          1355,
          1355
         ],
         "y": [
          1.661001205444336,
          1.661001205444336
         ]
        },
        {
         "hoverinfo": "text",
         "line": {
          "color": "rgb(0,0,0)",
          "width": 1
         },
         "mode": "lines",
         "text": "Segment 336: (235.00, 1.66) to (235.00, 1.66, score=20.45)",
         "type": "scatter",
         "x": [
          235,
          235
         ],
         "y": [
          1.6618947982788086,
          1.6618947982788086
         ]
        },
        {
         "hoverinfo": "text",
         "line": {
          "color": "rgb(0,0,0)",
          "width": 1
         },
         "mode": "lines",
         "text": "Segment 337: (744.35, 1.66) to (1253.70, 1.66, score=20.45)",
         "type": "scatter",
         "x": [
          744.3497960774259,
          1253.6995921548519
         ],
         "y": [
          1.6618947982788086,
          1.6618947982788086
         ]
        },
        {
         "hoverinfo": "text",
         "line": {
          "color": "rgb(0,0,0)",
          "width": 1
         },
         "mode": "lines",
         "text": "Segment 338: (1253.70, 1.66) to (1253.70, 1.66, score=20.45)",
         "type": "scatter",
         "x": [
          1253.6995921548519,
          1253.6995921548519
         ],
         "y": [
          1.661001205444336,
          1.6618947982788086
         ]
        },
        {
         "hoverinfo": "text",
         "line": {
          "color": "rgb(0,0,0)",
          "width": 1
         },
         "mode": "lines",
         "text": "Segment 339: (744.35, 1.66) to (744.35, 1.66, score=20.45)",
         "type": "scatter",
         "x": [
          744.3497960774259,
          744.3497960774259
         ],
         "y": [
          1.6618947982788086,
          1.6619681119918823
         ]
        },
        {
         "hoverinfo": "text",
         "line": {
          "color": "rgb(0,0,0)",
          "width": 1
         },
         "mode": "lines",
         "text": "Segment 340: (744.35, 1.66) to (1054.67, 1.66, score=20.45)",
         "type": "scatter",
         "x": [
          744.3497960774259,
          1054.6748980387129
         ],
         "y": [
          1.6619681119918823,
          1.6619681119918823
         ]
        },
        {
         "hoverinfo": "text",
         "line": {
          "color": "rgb(0,0,0)",
          "width": 1
         },
         "mode": "lines",
         "text": "Segment 341: (1365.00, 1.66) to (1365.00, 1.66, score=20.45)",
         "type": "scatter",
         "x": [
          1365,
          1365
         ],
         "y": [
          1.6619681119918823,
          1.6619681119918823
         ]
        },
        {
         "hoverinfo": "text",
         "line": {
          "color": "rgb(0,0,0)",
          "width": 1
         },
         "mode": "lines",
         "text": "Segment 342: (225.00, 1.66) to (225.00, 1.66, score=3.36)",
         "type": "scatter",
         "x": [
          225,
          225
         ],
         "y": [
          1.6623564958572388,
          1.6623564958572388
         ]
        },
        {
         "hoverinfo": "text",
         "line": {
          "color": "rgb(0,0,0)",
          "width": 1
         },
         "mode": "lines",
         "text": "Segment 343: (639.84, 1.66) to (1054.67, 1.66, score=3.36)",
         "type": "scatter",
         "x": [
          639.8374490193564,
          1054.6748980387129
         ],
         "y": [
          1.6623564958572388,
          1.6623564958572388
         ]
        },
        {
         "hoverinfo": "text",
         "line": {
          "color": "rgb(0,0,0)",
          "width": 1
         },
         "mode": "lines",
         "text": "Segment 344: (1054.67, 1.66) to (1054.67, 1.66, score=3.36)",
         "type": "scatter",
         "x": [
          1054.6748980387129,
          1054.6748980387129
         ],
         "y": [
          1.6619681119918823,
          1.6623564958572388
         ]
        },
        {
         "hoverinfo": "text",
         "line": {
          "color": "rgb(0,0,0)",
          "width": 1
         },
         "mode": "lines",
         "text": "Segment 345: (1375.00, 1.66) to (1375.00, 1.66, score=3.36)",
         "type": "scatter",
         "x": [
          1375,
          1375
         ],
         "y": [
          1.6614574193954468,
          1.6614574193954468
         ]
        },
        {
         "hoverinfo": "text",
         "line": {
          "color": "rgb(0,0,0)",
          "width": 1
         },
         "mode": "lines",
         "text": "Segment 346: (1380.00, 1.66) to (1380.00, 1.66, score=3.36)",
         "type": "scatter",
         "x": [
          1380,
          1380
         ],
         "y": [
          1.6614574193954468,
          1.6614574193954468
         ]
        },
        {
         "hoverinfo": "text",
         "line": {
          "color": "rgb(0,0,0)",
          "width": 1
         },
         "mode": "lines",
         "text": "Segment 347: (1385.00, 1.66) to (1385.00, 1.66, score=3.36)",
         "type": "scatter",
         "x": [
          1385,
          1385
         ],
         "y": [
          1.6614574193954468,
          1.6614574193954468
         ]
        },
        {
         "hoverinfo": "text",
         "line": {
          "color": "rgb(0,0,0)",
          "width": 1
         },
         "mode": "lines",
         "text": "Segment 348: (639.84, 1.66) to (639.84, 1.67, score=3.36)",
         "type": "scatter",
         "x": [
          639.8374490193564,
          639.8374490193564
         ],
         "y": [
          1.6623564958572388,
          1.666930913925171
         ]
        },
        {
         "hoverinfo": "text",
         "line": {
          "color": "rgb(0,0,0)",
          "width": 1
         },
         "mode": "lines",
         "text": "Segment 349: (639.84, 1.67) to (1380.00, 1.67, score=3.36)",
         "type": "scatter",
         "x": [
          639.8374490193564,
          1380
         ],
         "y": [
          1.666930913925171,
          1.666930913925171
         ]
        },
        {
         "hoverinfo": "text",
         "line": {
          "color": "rgb(0,0,0)",
          "width": 1
         },
         "mode": "lines",
         "text": "Segment 350: (1380.00, 1.66) to (1380.00, 1.67, score=3.36)",
         "type": "scatter",
         "x": [
          1380,
          1380
         ],
         "y": [
          1.6614574193954468,
          1.666930913925171
         ]
        },
        {
         "hoverinfo": "text",
         "line": {
          "color": "rgb(230,0,0)",
          "width": 1
         },
         "mode": "lines",
         "text": "Segment 351: (1009.92, 1.67) to (1009.92, 1.67, score=52.14)",
         "type": "scatter",
         "x": [
          1009.9187245096782,
          1009.9187245096782
         ],
         "y": [
          1.666930913925171,
          1.6673624515533447
         ]
        },
        {
         "hoverinfo": "text",
         "line": {
          "color": "rgb(230,0,0)",
          "width": 1
         },
         "mode": "lines",
         "text": "Segment 352: (1009.92, 1.67) to (1202.46, 1.67, score=52.14)",
         "type": "scatter",
         "x": [
          1009.9187245096782,
          1202.459362254839
         ],
         "y": [
          1.6673624515533447,
          1.6673624515533447
         ]
        },
        {
         "hoverinfo": "text",
         "line": {
          "color": "rgb(230,0,0)",
          "width": 1
         },
         "mode": "lines",
         "text": "Segment 353: (1395.00, 1.67) to (1395.00, 1.67, score=52.14)",
         "type": "scatter",
         "x": [
          1395,
          1395
         ],
         "y": [
          1.6673624515533447,
          1.6673624515533447
         ]
        },
        {
         "hoverinfo": "text",
         "line": {
          "color": "rgb(230,0,0)",
          "width": 1
         },
         "mode": "lines",
         "text": "Segment 354: (1202.46, 1.67) to (1202.46, 1.67, score=52.14)",
         "type": "scatter",
         "x": [
          1202.459362254839,
          1202.459362254839
         ],
         "y": [
          1.6673624515533447,
          1.6677038669586182
         ]
        },
        {
         "hoverinfo": "text",
         "line": {
          "color": "rgb(230,0,0)",
          "width": 1
         },
         "mode": "lines",
         "text": "Segment 355: (1202.46, 1.67) to (1303.73, 1.67, score=52.14)",
         "type": "scatter",
         "x": [
          1202.459362254839,
          1303.7296811274196
         ],
         "y": [
          1.6677038669586182,
          1.6677038669586182
         ]
        },
        {
         "hoverinfo": "text",
         "line": {
          "color": "rgb(230,0,0)",
          "width": 1
         },
         "mode": "lines",
         "text": "Segment 356: (1405.00, 1.67) to (1405.00, 1.67, score=52.14)",
         "type": "scatter",
         "x": [
          1405,
          1405
         ],
         "y": [
          1.6677038669586182,
          1.6677038669586182
         ]
        },
        {
         "hoverinfo": "text",
         "line": {
          "color": "rgb(230,0,0)",
          "width": 1
         },
         "mode": "lines",
         "text": "Segment 357: (215.00, 1.67) to (215.00, 1.67, score=52.14)",
         "type": "scatter",
         "x": [
          215,
          215
         ],
         "y": [
          1.66937255859375,
          1.66937255859375
         ]
        },
        {
         "hoverinfo": "text",
         "line": {
          "color": "rgb(230,0,0)",
          "width": 1
         },
         "mode": "lines",
         "text": "Segment 358: (759.36, 1.67) to (1303.73, 1.67, score=52.14)",
         "type": "scatter",
         "x": [
          759.3648405637098,
          1303.7296811274196
         ],
         "y": [
          1.66937255859375,
          1.66937255859375
         ]
        },
        {
         "hoverinfo": "text",
         "line": {
          "color": "rgb(230,0,0)",
          "width": 1
         },
         "mode": "lines",
         "text": "Segment 359: (1303.73, 1.67) to (1303.73, 1.67, score=52.14)",
         "type": "scatter",
         "x": [
          1303.7296811274196,
          1303.7296811274196
         ],
         "y": [
          1.6677038669586182,
          1.66937255859375
         ]
        },
        {
         "hoverinfo": "text",
         "line": {
          "color": "rgb(0,0,0)",
          "width": 1
         },
         "mode": "lines",
         "text": "Segment 360: (759.36, 1.67) to (759.36, 1.67, score=42.21)",
         "type": "scatter",
         "x": [
          759.3648405637098,
          759.3648405637098
         ],
         "y": [
          1.66937255859375,
          1.6694388389587402
         ]
        },
        {
         "hoverinfo": "text",
         "line": {
          "color": "rgb(0,0,0)",
          "width": 1
         },
         "mode": "lines",
         "text": "Segment 361: (759.36, 1.67) to (1087.18, 1.67, score=42.21)",
         "type": "scatter",
         "x": [
          759.3648405637098,
          1087.1824202818548
         ],
         "y": [
          1.6694388389587402,
          1.6694388389587402
         ]
        },
        {
         "hoverinfo": "text",
         "line": {
          "color": "rgb(0,0,0)",
          "width": 1
         },
         "mode": "lines",
         "text": "Segment 362: (1415.00, 1.67) to (1415.00, 1.67, score=42.21)",
         "type": "scatter",
         "x": [
          1415,
          1415
         ],
         "y": [
          1.6694388389587402,
          1.6694388389587402
         ]
        },
        {
         "hoverinfo": "text",
         "line": {
          "color": "rgb(0,0,0)",
          "width": 1
         },
         "mode": "lines",
         "text": "Segment 363: (1087.18, 1.67) to (1087.18, 1.67, score=42.21)",
         "type": "scatter",
         "x": [
          1087.1824202818548,
          1087.1824202818548
         ],
         "y": [
          1.6694388389587402,
          1.669481635093689
         ]
        },
        {
         "hoverinfo": "text",
         "line": {
          "color": "rgb(0,0,0)",
          "width": 1
         },
         "mode": "lines",
         "text": "Segment 364: (1087.18, 1.67) to (1256.09, 1.67, score=42.21)",
         "type": "scatter",
         "x": [
          1087.1824202818548,
          1256.0912101409274
         ],
         "y": [
          1.669481635093689,
          1.669481635093689
         ]
        },
        {
         "hoverinfo": "text",
         "line": {
          "color": "rgb(0,0,0)",
          "width": 1
         },
         "mode": "lines",
         "text": "Segment 365: (1425.00, 1.67) to (1425.00, 1.67, score=42.21)",
         "type": "scatter",
         "x": [
          1425,
          1425
         ],
         "y": [
          1.669481635093689,
          1.669481635093689
         ]
        },
        {
         "hoverinfo": "text",
         "line": {
          "color": "rgb(0,0,0)",
          "width": 1
         },
         "mode": "lines",
         "text": "Segment 366: (200.00, 1.60) to (200.00, 1.67, score=42.21)",
         "type": "scatter",
         "x": [
          200,
          200
         ],
         "y": [
          1.6012670993804932,
          1.6705005168914795
         ]
        },
        {
         "hoverinfo": "text",
         "line": {
          "color": "rgb(0,0,0)",
          "width": 1
         },
         "mode": "lines",
         "text": "Segment 367: (200.00, 1.67) to (1256.09, 1.67, score=42.21)",
         "type": "scatter",
         "x": [
          200,
          1256.0912101409274
         ],
         "y": [
          1.6705005168914795,
          1.6705005168914795
         ]
        },
        {
         "hoverinfo": "text",
         "line": {
          "color": "rgb(0,0,0)",
          "width": 1
         },
         "mode": "lines",
         "text": "Segment 368: (1256.09, 1.67) to (1256.09, 1.67, score=42.21)",
         "type": "scatter",
         "x": [
          1256.0912101409274,
          1256.0912101409274
         ],
         "y": [
          1.669481635093689,
          1.6705005168914795
         ]
        },
        {
         "hoverinfo": "text",
         "line": {
          "color": "rgb(0,0,0)",
          "width": 1
         },
         "mode": "lines",
         "text": "Segment 369: (728.05, 1.67) to (728.05, 1.67, score=45.35)",
         "type": "scatter",
         "x": [
          728.0456050704637,
          728.0456050704637
         ],
         "y": [
          1.6705005168914795,
          1.6706300973892212
         ]
        },
        {
         "hoverinfo": "text",
         "line": {
          "color": "rgb(0,0,0)",
          "width": 1
         },
         "mode": "lines",
         "text": "Segment 370: (728.05, 1.67) to (1081.52, 1.67, score=45.35)",
         "type": "scatter",
         "x": [
          728.0456050704637,
          1081.522802535232
         ],
         "y": [
          1.6706300973892212,
          1.6706300973892212
         ]
        },
        {
         "hoverinfo": "text",
         "line": {
          "color": "rgb(0,0,0)",
          "width": 1
         },
         "mode": "lines",
         "text": "Segment 371: (1435.00, 1.67) to (1435.00, 1.67, score=45.35)",
         "type": "scatter",
         "x": [
          1435,
          1435
         ],
         "y": [
          1.6706300973892212,
          1.6706300973892212
         ]
        },
        {
         "hoverinfo": "text",
         "line": {
          "color": "rgb(0,0,0)",
          "width": 1
         },
         "mode": "lines",
         "text": "Segment 372: (1081.52, 1.67) to (1081.52, 1.67, score=45.35)",
         "type": "scatter",
         "x": [
          1081.522802535232,
          1081.522802535232
         ],
         "y": [
          1.6706300973892212,
          1.6730011701583862
         ]
        },
        {
         "hoverinfo": "text",
         "line": {
          "color": "rgb(0,0,0)",
          "width": 1
         },
         "mode": "lines",
         "text": "Segment 373: (1081.52, 1.67) to (1263.26, 1.67, score=45.35)",
         "type": "scatter",
         "x": [
          1081.522802535232,
          1263.2614012676158
         ],
         "y": [
          1.6730011701583862,
          1.6730011701583862
         ]
        },
        {
         "hoverinfo": "text",
         "line": {
          "color": "rgb(0,0,0)",
          "width": 1
         },
         "mode": "lines",
         "text": "Segment 374: (1445.00, 1.67) to (1445.00, 1.67, score=45.35)",
         "type": "scatter",
         "x": [
          1445,
          1445
         ],
         "y": [
          1.6730011701583862,
          1.6730011701583862
         ]
        },
        {
         "hoverinfo": "text",
         "line": {
          "color": "rgb(0,0,0)",
          "width": 1
         },
         "mode": "lines",
         "text": "Segment 375: (1263.26, 1.67) to (1263.26, 1.67, score=45.35)",
         "type": "scatter",
         "x": [
          1263.2614012676158,
          1263.2614012676158
         ],
         "y": [
          1.6730011701583862,
          1.6742514371871948
         ]
        },
        {
         "hoverinfo": "text",
         "line": {
          "color": "rgb(0,0,0)",
          "width": 1
         },
         "mode": "lines",
         "text": "Segment 376: (1263.26, 1.67) to (1359.13, 1.67, score=45.35)",
         "type": "scatter",
         "x": [
          1263.2614012676158,
          1359.130700633808
         ],
         "y": [
          1.6742514371871948,
          1.6742514371871948
         ]
        },
        {
         "hoverinfo": "text",
         "line": {
          "color": "rgb(0,0,0)",
          "width": 1
         },
         "mode": "lines",
         "text": "Segment 377: (1455.00, 1.67) to (1455.00, 1.67, score=45.35)",
         "type": "scatter",
         "x": [
          1455,
          1455
         ],
         "y": [
          1.6742514371871948,
          1.6742514371871948
         ]
        },
        {
         "hoverinfo": "text",
         "line": {
          "color": "rgb(255,210,0)",
          "width": 1
         },
         "mode": "lines",
         "text": "Segment 378: (1465.00, 1.66) to (1465.00, 1.66, score=128.13)",
         "type": "scatter",
         "x": [
          1465,
          1465
         ],
         "y": [
          1.6621191501617432,
          1.6621191501617432
         ]
        },
        {
         "hoverinfo": "text",
         "line": {
          "color": "rgb(255,210,0)",
          "width": 1
         },
         "mode": "lines",
         "text": "Segment 379: (1470.00, 1.66) to (1470.00, 1.66, score=128.13)",
         "type": "scatter",
         "x": [
          1470,
          1470
         ],
         "y": [
          1.6621191501617432,
          1.6621191501617432
         ]
        },
        {
         "hoverinfo": "text",
         "line": {
          "color": "rgb(255,210,0)",
          "width": 1
         },
         "mode": "lines",
         "text": "Segment 380: (1475.00, 1.66) to (1475.00, 1.66, score=128.13)",
         "type": "scatter",
         "x": [
          1475,
          1475
         ],
         "y": [
          1.6621191501617432,
          1.6621191501617432
         ]
        },
        {
         "hoverinfo": "text",
         "line": {
          "color": "rgb(255,210,0)",
          "width": 1
         },
         "mode": "lines",
         "text": "Segment 381: (1359.13, 1.67) to (1359.13, 1.68, score=128.13)",
         "type": "scatter",
         "x": [
          1359.130700633808,
          1359.130700633808
         ],
         "y": [
          1.6742514371871948,
          1.677905559539795
         ]
        },
        {
         "hoverinfo": "text",
         "line": {
          "color": "rgb(255,210,0)",
          "width": 1
         },
         "mode": "lines",
         "text": "Segment 382: (1359.13, 1.68) to (1470.00, 1.68, score=128.13)",
         "type": "scatter",
         "x": [
          1359.130700633808,
          1470
         ],
         "y": [
          1.677905559539795,
          1.677905559539795
         ]
        },
        {
         "hoverinfo": "text",
         "line": {
          "color": "rgb(255,210,0)",
          "width": 1
         },
         "mode": "lines",
         "text": "Segment 383: (1470.00, 1.66) to (1470.00, 1.68, score=128.13)",
         "type": "scatter",
         "x": [
          1470,
          1470
         ],
         "y": [
          1.6621191501617432,
          1.677905559539795
         ]
        },
        {
         "hoverinfo": "text",
         "line": {
          "color": "rgb(255,210,0)",
          "width": 1
         },
         "mode": "lines",
         "text": "Segment 384: (185.00, 1.68) to (185.00, 1.68, score=128.13)",
         "type": "scatter",
         "x": [
          185,
          185
         ],
         "y": [
          1.6789606809616089,
          1.6789606809616089
         ]
        },
        {
         "hoverinfo": "text",
         "line": {
          "color": "rgb(255,210,0)",
          "width": 1
         },
         "mode": "lines",
         "text": "Segment 385: (799.78, 1.68) to (1414.57, 1.68, score=128.13)",
         "type": "scatter",
         "x": [
          799.782675158452,
          1414.565350316904
         ],
         "y": [
          1.6789606809616089,
          1.6789606809616089
         ]
        },
        {
         "hoverinfo": "text",
         "line": {
          "color": "rgb(255,210,0)",
          "width": 1
         },
         "mode": "lines",
         "text": "Segment 386: (1414.57, 1.68) to (1414.57, 1.68, score=128.13)",
         "type": "scatter",
         "x": [
          1414.565350316904,
          1414.565350316904
         ],
         "y": [
          1.677905559539795,
          1.6789606809616089
         ]
        },
        {
         "hoverinfo": "text",
         "line": {
          "color": "rgb(0,0,0)",
          "width": 1
         },
         "mode": "lines",
         "text": "Segment 387: (175.00, 1.68) to (175.00, 1.68, score=3.61)",
         "type": "scatter",
         "x": [
          175,
          175
         ],
         "y": [
          1.680227518081665,
          1.680227518081665
         ]
        },
        {
         "hoverinfo": "text",
         "line": {
          "color": "rgb(0,0,0)",
          "width": 1
         },
         "mode": "lines",
         "text": "Segment 388: (487.39, 1.68) to (799.78, 1.68, score=3.61)",
         "type": "scatter",
         "x": [
          487.391337579226,
          799.782675158452
         ],
         "y": [
          1.680227518081665,
          1.680227518081665
         ]
        },
        {
         "hoverinfo": "text",
         "line": {
          "color": "rgb(0,0,0)",
          "width": 1
         },
         "mode": "lines",
         "text": "Segment 389: (799.78, 1.68) to (799.78, 1.68, score=3.61)",
         "type": "scatter",
         "x": [
          799.782675158452,
          799.782675158452
         ],
         "y": [
          1.6789606809616089,
          1.680227518081665
         ]
        },
        {
         "hoverinfo": "text",
         "line": {
          "color": "rgb(0,0,0)",
          "width": 1
         },
         "mode": "lines",
         "text": "Segment 390: (165.00, 1.68) to (165.00, 1.68, score=3.61)",
         "type": "scatter",
         "x": [
          165,
          165
         ],
         "y": [
          1.6802639961242676,
          1.6802639961242676
         ]
        },
        {
         "hoverinfo": "text",
         "line": {
          "color": "rgb(0,0,0)",
          "width": 1
         },
         "mode": "lines",
         "text": "Segment 391: (326.20, 1.68) to (487.39, 1.68, score=3.61)",
         "type": "scatter",
         "x": [
          326.195668789613,
          487.391337579226
         ],
         "y": [
          1.6802639961242676,
          1.6802639961242676
         ]
        },
        {
         "hoverinfo": "text",
         "line": {
          "color": "rgb(0,0,0)",
          "width": 1
         },
         "mode": "lines",
         "text": "Segment 392: (487.39, 1.68) to (487.39, 1.68, score=3.61)",
         "type": "scatter",
         "x": [
          487.391337579226,
          487.391337579226
         ],
         "y": [
          1.680227518081665,
          1.6802639961242676
         ]
        },
        {
         "hoverinfo": "text",
         "line": {
          "color": "rgb(0,0,0)",
          "width": 1
         },
         "mode": "lines",
         "text": "Segment 393: (326.20, 1.68) to (326.20, 1.69, score=3.61)",
         "type": "scatter",
         "x": [
          326.195668789613,
          326.195668789613
         ],
         "y": [
          1.6802639961242676,
          1.6852930784225464
         ]
        },
        {
         "hoverinfo": "text",
         "line": {
          "color": "rgb(0,0,0)",
          "width": 1
         },
         "mode": "lines",
         "text": "Segment 394: (326.20, 1.69) to (905.60, 1.69, score=3.61)",
         "type": "scatter",
         "x": [
          326.195668789613,
          905.5978343948066
         ],
         "y": [
          1.6852930784225464,
          1.6852930784225464
         ]
        },
        {
         "hoverinfo": "text",
         "line": {
          "color": "rgb(0,0,0)",
          "width": 1
         },
         "mode": "lines",
         "text": "Segment 395: (1485.00, 1.69) to (1485.00, 1.69, score=3.61)",
         "type": "scatter",
         "x": [
          1485,
          1485
         ],
         "y": [
          1.6852930784225464,
          1.6852930784225464
         ]
        },
        {
         "hoverinfo": "text",
         "line": {
          "color": "rgb(0,0,0)",
          "width": 1
         },
         "mode": "lines",
         "text": "Segment 396: (905.60, 1.69) to (905.60, 1.69, score=0.55)",
         "type": "scatter",
         "x": [
          905.5978343948066,
          905.5978343948066
         ],
         "y": [
          1.6852930784225464,
          1.6935341358184814
         ]
        },
        {
         "hoverinfo": "text",
         "line": {
          "color": "rgb(0,0,0)",
          "width": 1
         },
         "mode": "lines",
         "text": "Segment 397: (905.60, 1.69) to (1200.30, 1.69, score=0.55)",
         "type": "scatter",
         "x": [
          905.5978343948066,
          1200.2989171974032
         ],
         "y": [
          1.6935341358184814,
          1.6935341358184814
         ]
        },
        {
         "hoverinfo": "text",
         "line": {
          "color": "rgb(0,0,0)",
          "width": 1
         },
         "mode": "lines",
         "text": "Segment 398: (1495.00, 1.69) to (1495.00, 1.69, score=0.55)",
         "type": "scatter",
         "x": [
          1495,
          1495
         ],
         "y": [
          1.6935341358184814,
          1.6935341358184814
         ]
        },
        {
         "hoverinfo": "text",
         "line": {
          "color": "rgb(0,0,0)",
          "width": 1
         },
         "mode": "lines",
         "text": "Segment 399: (1200.30, 1.69) to (1200.30, 1.70, score=0.55)",
         "type": "scatter",
         "x": [
          1200.2989171974032,
          1200.2989171974032
         ],
         "y": [
          1.6935341358184814,
          1.6988095045089722
         ]
        },
        {
         "hoverinfo": "text",
         "line": {
          "color": "rgb(0,0,0)",
          "width": 1
         },
         "mode": "lines",
         "text": "Segment 400: (1200.30, 1.70) to (1352.65, 1.70, score=0.55)",
         "type": "scatter",
         "x": [
          1200.2989171974032,
          1352.6494585987016
         ],
         "y": [
          1.6988095045089722,
          1.6988095045089722
         ]
        },
        {
         "hoverinfo": "text",
         "line": {
          "color": "rgb(0,0,0)",
          "width": 1
         },
         "mode": "lines",
         "text": "Segment 401: (1505.00, 1.70) to (1505.00, 1.70, score=0.55)",
         "type": "scatter",
         "x": [
          1505,
          1505
         ],
         "y": [
          1.6988095045089722,
          1.6988095045089722
         ]
        },
        {
         "hoverinfo": "text",
         "line": {
          "color": "rgb(0,0,0)",
          "width": 1
         },
         "mode": "lines",
         "text": "Segment 402: (155.00, 1.70) to (155.00, 1.70, score=0.55)",
         "type": "scatter",
         "x": [
          155,
          155
         ],
         "y": [
          1.6999164819717407,
          1.6999164819717407
         ]
        },
        {
         "hoverinfo": "text",
         "line": {
          "color": "rgb(0,0,0)",
          "width": 1
         },
         "mode": "lines",
         "text": "Segment 403: (753.82, 1.70) to (1352.65, 1.70, score=0.55)",
         "type": "scatter",
         "x": [
          753.8247292993508,
          1352.6494585987016
         ],
         "y": [
          1.6999164819717407,
          1.6999164819717407
         ]
        },
        {
         "hoverinfo": "text",
         "line": {
          "color": "rgb(0,0,0)",
          "width": 1
         },
         "mode": "lines",
         "text": "Segment 404: (1352.65, 1.70) to (1352.65, 1.70, score=0.55)",
         "type": "scatter",
         "x": [
          1352.6494585987016,
          1352.6494585987016
         ],
         "y": [
          1.6988095045089722,
          1.6999164819717407
         ]
        },
        {
         "hoverinfo": "text",
         "line": {
          "color": "rgb(0,0,0)",
          "width": 1
         },
         "mode": "lines",
         "text": "Segment 405: (145.00, 1.70) to (145.00, 1.70, score=20.77)",
         "type": "scatter",
         "x": [
          145,
          145
         ],
         "y": [
          1.7045694589614868,
          1.7045694589614868
         ]
        },
        {
         "hoverinfo": "text",
         "line": {
          "color": "rgb(0,0,0)",
          "width": 1
         },
         "mode": "lines",
         "text": "Segment 406: (449.41, 1.70) to (753.82, 1.70, score=20.77)",
         "type": "scatter",
         "x": [
          449.4123646496754,
          753.8247292993508
         ],
         "y": [
          1.7045694589614868,
          1.7045694589614868
         ]
        },
        {
         "hoverinfo": "text",
         "line": {
          "color": "rgb(0,0,0)",
          "width": 1
         },
         "mode": "lines",
         "text": "Segment 407: (753.82, 1.70) to (753.82, 1.70, score=20.77)",
         "type": "scatter",
         "x": [
          753.8247292993508,
          753.8247292993508
         ],
         "y": [
          1.6999164819717407,
          1.7045694589614868
         ]
        },
        {
         "hoverinfo": "text",
         "line": {
          "color": "rgb(0,0,0)",
          "width": 1
         },
         "mode": "lines",
         "text": "Segment 408: (449.41, 1.70) to (449.41, 1.71, score=20.77)",
         "type": "scatter",
         "x": [
          449.4123646496754,
          449.4123646496754
         ],
         "y": [
          1.7045694589614868,
          1.7055546045303345
         ]
        },
        {
         "hoverinfo": "text",
         "line": {
          "color": "rgb(0,0,0)",
          "width": 1
         },
         "mode": "lines",
         "text": "Segment 409: (449.41, 1.71) to (982.21, 1.71, score=20.77)",
         "type": "scatter",
         "x": [
          449.4123646496754,
          982.2061823248378
         ],
         "y": [
          1.7055546045303345,
          1.7055546045303345
         ]
        },
        {
         "hoverinfo": "text",
         "line": {
          "color": "rgb(0,0,0)",
          "width": 1
         },
         "mode": "lines",
         "text": "Segment 410: (1515.00, 1.71) to (1515.00, 1.71, score=20.77)",
         "type": "scatter",
         "x": [
          1515,
          1515
         ],
         "y": [
          1.7055546045303345,
          1.7055546045303345
         ]
        },
        {
         "hoverinfo": "text",
         "line": {
          "color": "rgb(0,0,0)",
          "width": 1
         },
         "mode": "lines",
         "text": "Segment 411: (982.21, 1.71) to (982.21, 1.71, score=20.77)",
         "type": "scatter",
         "x": [
          982.2061823248378,
          982.2061823248378
         ],
         "y": [
          1.7055546045303345,
          1.7068054676055908
         ]
        },
        {
         "hoverinfo": "text",
         "line": {
          "color": "rgb(0,0,0)",
          "width": 1
         },
         "mode": "lines",
         "text": "Segment 412: (982.21, 1.71) to (1253.60, 1.71, score=20.77)",
         "type": "scatter",
         "x": [
          982.2061823248378,
          1253.6030911624189
         ],
         "y": [
          1.7068054676055908,
          1.7068054676055908
         ]
        },
        {
         "hoverinfo": "text",
         "line": {
          "color": "rgb(0,0,0)",
          "width": 1
         },
         "mode": "lines",
         "text": "Segment 413: (1525.00, 1.71) to (1525.00, 1.71, score=20.77)",
         "type": "scatter",
         "x": [
          1525,
          1525
         ],
         "y": [
          1.7068054676055908,
          1.7068054676055908
         ]
        },
        {
         "hoverinfo": "text",
         "line": {
          "color": "rgb(0,0,0)",
          "width": 1
         },
         "mode": "lines",
         "text": "Segment 414: (1253.60, 1.71) to (1253.60, 1.71, score=13.73)",
         "type": "scatter",
         "x": [
          1253.6030911624189,
          1253.6030911624189
         ],
         "y": [
          1.7068054676055908,
          1.708554983139038
         ]
        },
        {
         "hoverinfo": "text",
         "line": {
          "color": "rgb(0,0,0)",
          "width": 1
         },
         "mode": "lines",
         "text": "Segment 415: (1253.60, 1.71) to (1394.30, 1.71, score=13.73)",
         "type": "scatter",
         "x": [
          1253.6030911624189,
          1394.3015455812094
         ],
         "y": [
          1.708554983139038,
          1.708554983139038
         ]
        },
        {
         "hoverinfo": "text",
         "line": {
          "color": "rgb(0,0,0)",
          "width": 1
         },
         "mode": "lines",
         "text": "Segment 416: (1535.00, 1.71) to (1535.00, 1.71, score=13.73)",
         "type": "scatter",
         "x": [
          1535,
          1535
         ],
         "y": [
          1.708554983139038,
          1.708554983139038
         ]
        },
        {
         "hoverinfo": "text",
         "line": {
          "color": "rgb(0,0,0)",
          "width": 1
         },
         "mode": "lines",
         "text": "Segment 417: (1394.30, 1.71) to (1394.30, 1.71, score=13.73)",
         "type": "scatter",
         "x": [
          1394.3015455812094,
          1394.3015455812094
         ],
         "y": [
          1.708554983139038,
          1.7103540897369385
         ]
        },
        {
         "hoverinfo": "text",
         "line": {
          "color": "rgb(0,0,0)",
          "width": 1
         },
         "mode": "lines",
         "text": "Segment 418: (1394.30, 1.71) to (1469.65, 1.71, score=13.73)",
         "type": "scatter",
         "x": [
          1394.3015455812094,
          1469.6507727906046
         ],
         "y": [
          1.7103540897369385,
          1.7103540897369385
         ]
        },
        {
         "hoverinfo": "text",
         "line": {
          "color": "rgb(0,0,0)",
          "width": 1
         },
         "mode": "lines",
         "text": "Segment 419: (1545.00, 1.71) to (1545.00, 1.71, score=13.73)",
         "type": "scatter",
         "x": [
          1545,
          1545
         ],
         "y": [
          1.7103540897369385,
          1.7103540897369385
         ]
        },
        {
         "hoverinfo": "text",
         "line": {
          "color": "rgb(0,0,0)",
          "width": 1
         },
         "mode": "lines",
         "text": "Segment 420: (1469.65, 1.71) to (1469.65, 1.71, score=13.73)",
         "type": "scatter",
         "x": [
          1469.6507727906046,
          1469.6507727906046
         ],
         "y": [
          1.7103540897369385,
          1.7110366821289062
         ]
        },
        {
         "hoverinfo": "text",
         "line": {
          "color": "rgb(0,0,0)",
          "width": 1
         },
         "mode": "lines",
         "text": "Segment 421: (1469.65, 1.71) to (1512.33, 1.71, score=13.73)",
         "type": "scatter",
         "x": [
          1469.6507727906046,
          1512.3253863953023
         ],
         "y": [
          1.7110366821289062,
          1.7110366821289062
         ]
        },
        {
         "hoverinfo": "text",
         "line": {
          "color": "rgb(0,0,0)",
          "width": 1
         },
         "mode": "lines",
         "text": "Segment 422: (1555.00, 1.71) to (1555.00, 1.71, score=13.73)",
         "type": "scatter",
         "x": [
          1555,
          1555
         ],
         "y": [
          1.7110366821289062,
          1.7110366821289062
         ]
        },
        {
         "hoverinfo": "text",
         "line": {
          "color": "rgb(255,255,255)",
          "width": 1
         },
         "mode": "lines",
         "text": "Segment 423: (1512.33, 1.71) to (1512.33, 1.71, score=176.20)",
         "type": "scatter",
         "x": [
          1512.3253863953023,
          1512.3253863953023
         ],
         "y": [
          1.7110366821289062,
          1.712085485458374
         ]
        },
        {
         "hoverinfo": "text",
         "line": {
          "color": "rgb(255,255,255)",
          "width": 1
         },
         "mode": "lines",
         "text": "Segment 424: (1512.33, 1.71) to (1538.66, 1.71, score=176.20)",
         "type": "scatter",
         "x": [
          1512.3253863953023,
          1538.6626931976512
         ],
         "y": [
          1.712085485458374,
          1.712085485458374
         ]
        },
        {
         "hoverinfo": "text",
         "line": {
          "color": "rgb(255,255,255)",
          "width": 1
         },
         "mode": "lines",
         "text": "Segment 425: (1565.00, 1.71) to (1565.00, 1.71, score=176.20)",
         "type": "scatter",
         "x": [
          1565,
          1565
         ],
         "y": [
          1.712085485458374,
          1.712085485458374
         ]
        },
        {
         "hoverinfo": "text",
         "line": {
          "color": "rgb(255,255,255)",
          "width": 1
         },
         "mode": "lines",
         "text": "Segment 426: (1538.66, 1.71) to (1538.66, 1.71, score=176.20)",
         "type": "scatter",
         "x": [
          1538.6626931976512,
          1538.6626931976512
         ],
         "y": [
          1.712085485458374,
          1.7129764556884766
         ]
        },
        {
         "hoverinfo": "text",
         "line": {
          "color": "rgb(255,255,255)",
          "width": 1
         },
         "mode": "lines",
         "text": "Segment 427: (1538.66, 1.71) to (1556.83, 1.71, score=176.20)",
         "type": "scatter",
         "x": [
          1538.6626931976512,
          1556.8313465988256
         ],
         "y": [
          1.7129764556884766,
          1.7129764556884766
         ]
        },
        {
         "hoverinfo": "text",
         "line": {
          "color": "rgb(255,255,255)",
          "width": 1
         },
         "mode": "lines",
         "text": "Segment 428: (1575.00, 1.71) to (1575.00, 1.71, score=176.20)",
         "type": "scatter",
         "x": [
          1575,
          1575
         ],
         "y": [
          1.7129764556884766,
          1.7129764556884766
         ]
        },
        {
         "hoverinfo": "text",
         "line": {
          "color": "rgb(255,255,255)",
          "width": 1
         },
         "mode": "lines",
         "text": "Segment 429: (1556.83, 1.71) to (1556.83, 1.71, score=176.20)",
         "type": "scatter",
         "x": [
          1556.8313465988256,
          1556.8313465988256
         ],
         "y": [
          1.7129764556884766,
          1.7142149209976196
         ]
        },
        {
         "hoverinfo": "text",
         "line": {
          "color": "rgb(255,255,255)",
          "width": 1
         },
         "mode": "lines",
         "text": "Segment 430: (1556.83, 1.71) to (1570.92, 1.71, score=176.20)",
         "type": "scatter",
         "x": [
          1556.8313465988256,
          1570.915673299413
         ],
         "y": [
          1.7142149209976196,
          1.7142149209976196
         ]
        },
        {
         "hoverinfo": "text",
         "line": {
          "color": "rgb(255,255,255)",
          "width": 1
         },
         "mode": "lines",
         "text": "Segment 431: (1585.00, 1.71) to (1585.00, 1.71, score=176.20)",
         "type": "scatter",
         "x": [
          1585,
          1585
         ],
         "y": [
          1.7142149209976196,
          1.7142149209976196
         ]
        },
        {
         "hoverinfo": "text",
         "line": {
          "color": "rgb(0,0,0)",
          "width": 1
         },
         "mode": "lines",
         "text": "Segment 432: (135.00, 1.72) to (135.00, 1.72, score=0.44)",
         "type": "scatter",
         "x": [
          135,
          135
         ],
         "y": [
          1.7150715589523315,
          1.7150715589523315
         ]
        },
        {
         "hoverinfo": "text",
         "line": {
          "color": "rgb(0,0,0)",
          "width": 1
         },
         "mode": "lines",
         "text": "Segment 433: (852.96, 1.72) to (1570.92, 1.72, score=0.44)",
         "type": "scatter",
         "x": [
          852.9578366497065,
          1570.915673299413
         ],
         "y": [
          1.7150715589523315,
          1.7150715589523315
         ]
        },
        {
         "hoverinfo": "text",
         "line": {
          "color": "rgb(0,0,0)",
          "width": 1
         },
         "mode": "lines",
         "text": "Segment 434: (1570.92, 1.71) to (1570.92, 1.72, score=0.44)",
         "type": "scatter",
         "x": [
          1570.915673299413,
          1570.915673299413
         ],
         "y": [
          1.7142149209976196,
          1.7150715589523315
         ]
        },
        {
         "hoverinfo": "text",
         "line": {
          "color": "rgb(0,0,0)",
          "width": 1
         },
         "mode": "lines",
         "text": "Segment 435: (852.96, 1.72) to (852.96, 1.72, score=0.44)",
         "type": "scatter",
         "x": [
          852.9578366497065,
          852.9578366497065
         ],
         "y": [
          1.7150715589523315,
          1.7159603834152222
         ]
        },
        {
         "hoverinfo": "text",
         "line": {
          "color": "rgb(0,0,0)",
          "width": 1
         },
         "mode": "lines",
         "text": "Segment 436: (852.96, 1.72) to (1223.98, 1.72, score=0.44)",
         "type": "scatter",
         "x": [
          852.9578366497065,
          1223.978918324853
         ],
         "y": [
          1.7159603834152222,
          1.7159603834152222
         ]
        },
        {
         "hoverinfo": "text",
         "line": {
          "color": "rgb(0,0,0)",
          "width": 1
         },
         "mode": "lines",
         "text": "Segment 437: (1595.00, 1.72) to (1595.00, 1.72, score=0.44)",
         "type": "scatter",
         "x": [
          1595,
          1595
         ],
         "y": [
          1.7159603834152222,
          1.7159603834152222
         ]
        },
        {
         "hoverinfo": "text",
         "line": {
          "color": "rgb(0,0,0)",
          "width": 1
         },
         "mode": "lines",
         "text": "Segment 438: (1223.98, 1.72) to (1223.98, 1.72, score=0.44)",
         "type": "scatter",
         "x": [
          1223.978918324853,
          1223.978918324853
         ],
         "y": [
          1.7159603834152222,
          1.7199833393096924
         ]
        },
        {
         "hoverinfo": "text",
         "line": {
          "color": "rgb(0,0,0)",
          "width": 1
         },
         "mode": "lines",
         "text": "Segment 439: (1223.98, 1.72) to (1414.49, 1.72, score=0.44)",
         "type": "scatter",
         "x": [
          1223.978918324853,
          1414.4894591624266
         ],
         "y": [
          1.7199833393096924,
          1.7199833393096924
         ]
        },
        {
         "hoverinfo": "text",
         "line": {
          "color": "rgb(0,0,0)",
          "width": 1
         },
         "mode": "lines",
         "text": "Segment 440: (1605.00, 1.72) to (1605.00, 1.72, score=0.44)",
         "type": "scatter",
         "x": [
          1605,
          1605
         ],
         "y": [
          1.7199833393096924,
          1.7199833393096924
         ]
        },
        {
         "hoverinfo": "text",
         "line": {
          "color": "rgb(230,0,0)",
          "width": 1
         },
         "mode": "lines",
         "text": "Segment 441: (1414.49, 1.72) to (1414.49, 1.72, score=65.33)",
         "type": "scatter",
         "x": [
          1414.4894591624266,
          1414.4894591624266
         ],
         "y": [
          1.7199833393096924,
          1.7215235233306885
         ]
        },
        {
         "hoverinfo": "text",
         "line": {
          "color": "rgb(230,0,0)",
          "width": 1
         },
         "mode": "lines",
         "text": "Segment 442: (1414.49, 1.72) to (1514.74, 1.72, score=65.33)",
         "type": "scatter",
         "x": [
          1414.4894591624266,
          1514.7447295812133
         ],
         "y": [
          1.7215235233306885,
          1.7215235233306885
         ]
        },
        {
         "hoverinfo": "text",
         "line": {
          "color": "rgb(230,0,0)",
          "width": 1
         },
         "mode": "lines",
         "text": "Segment 443: (1615.00, 1.72) to (1615.00, 1.72, score=65.33)",
         "type": "scatter",
         "x": [
          1615,
          1615
         ],
         "y": [
          1.7215235233306885,
          1.7215235233306885
         ]
        },
        {
         "hoverinfo": "text",
         "line": {
          "color": "rgb(230,0,0)",
          "width": 1
         },
         "mode": "lines",
         "text": "Segment 444: (1514.74, 1.72) to (1514.74, 1.72, score=65.33)",
         "type": "scatter",
         "x": [
          1514.7447295812133,
          1514.7447295812133
         ],
         "y": [
          1.7215235233306885,
          1.7218631505966187
         ]
        },
        {
         "hoverinfo": "text",
         "line": {
          "color": "rgb(230,0,0)",
          "width": 1
         },
         "mode": "lines",
         "text": "Segment 445: (1514.74, 1.72) to (1569.87, 1.72, score=65.33)",
         "type": "scatter",
         "x": [
          1514.7447295812133,
          1569.8723647906068
         ],
         "y": [
          1.7218631505966187,
          1.7218631505966187
         ]
        },
        {
         "hoverinfo": "text",
         "line": {
          "color": "rgb(230,0,0)",
          "width": 1
         },
         "mode": "lines",
         "text": "Segment 446: (1625.00, 1.72) to (1625.00, 1.72, score=65.33)",
         "type": "scatter",
         "x": [
          1625,
          1625
         ],
         "y": [
          1.7218631505966187,
          1.7218631505966187
         ]
        },
        {
         "hoverinfo": "text",
         "line": {
          "color": "rgb(230,0,0)",
          "width": 1
         },
         "mode": "lines",
         "text": "Segment 447: (125.00, 1.72) to (125.00, 1.72, score=65.33)",
         "type": "scatter",
         "x": [
          125,
          125
         ],
         "y": [
          1.721906065940857,
          1.721906065940857
         ]
        },
        {
         "hoverinfo": "text",
         "line": {
          "color": "rgb(230,0,0)",
          "width": 1
         },
         "mode": "lines",
         "text": "Segment 448: (847.44, 1.72) to (1569.87, 1.72, score=65.33)",
         "type": "scatter",
         "x": [
          847.4361823953034,
          1569.8723647906068
         ],
         "y": [
          1.721906065940857,
          1.721906065940857
         ]
        },
        {
         "hoverinfo": "text",
         "line": {
          "color": "rgb(230,0,0)",
          "width": 1
         },
         "mode": "lines",
         "text": "Segment 449: (1569.87, 1.72) to (1569.87, 1.72, score=65.33)",
         "type": "scatter",
         "x": [
          1569.8723647906068,
          1569.8723647906068
         ],
         "y": [
          1.7218631505966187,
          1.721906065940857
         ]
        },
        {
         "hoverinfo": "text",
         "line": {
          "color": "rgb(0,0,0)",
          "width": 1
         },
         "mode": "lines",
         "text": "Segment 450: (115.00, 1.72) to (115.00, 1.72, score=0.27)",
         "type": "scatter",
         "x": [
          115,
          115
         ],
         "y": [
          1.7243835926055908,
          1.7243835926055908
         ]
        },
        {
         "hoverinfo": "text",
         "line": {
          "color": "rgb(0,0,0)",
          "width": 1
         },
         "mode": "lines",
         "text": "Segment 451: (481.22, 1.72) to (847.44, 1.72, score=0.27)",
         "type": "scatter",
         "x": [
          481.2180911976517,
          847.4361823953034
         ],
         "y": [
          1.7243835926055908,
          1.7243835926055908
         ]
        },
        {
         "hoverinfo": "text",
         "line": {
          "color": "rgb(0,0,0)",
          "width": 1
         },
         "mode": "lines",
         "text": "Segment 452: (847.44, 1.72) to (847.44, 1.72, score=0.27)",
         "type": "scatter",
         "x": [
          847.4361823953034,
          847.4361823953034
         ],
         "y": [
          1.721906065940857,
          1.7243835926055908
         ]
        },
        {
         "hoverinfo": "text",
         "line": {
          "color": "rgb(0,0,0)",
          "width": 1
         },
         "mode": "lines",
         "text": "Segment 453: (105.00, 1.73) to (105.00, 1.73, score=0.27)",
         "type": "scatter",
         "x": [
          105,
          105
         ],
         "y": [
          1.7260619401931763,
          1.7260619401931763
         ]
        },
        {
         "hoverinfo": "text",
         "line": {
          "color": "rgb(0,0,0)",
          "width": 1
         },
         "mode": "lines",
         "text": "Segment 454: (293.11, 1.73) to (481.22, 1.73, score=0.27)",
         "type": "scatter",
         "x": [
          293.10904559882584,
          481.2180911976517
         ],
         "y": [
          1.7260619401931763,
          1.7260619401931763
         ]
        },
        {
         "hoverinfo": "text",
         "line": {
          "color": "rgb(0,0,0)",
          "width": 1
         },
         "mode": "lines",
         "text": "Segment 455: (481.22, 1.72) to (481.22, 1.73, score=0.27)",
         "type": "scatter",
         "x": [
          481.2180911976517,
          481.2180911976517
         ],
         "y": [
          1.7243835926055908,
          1.7260619401931763
         ]
        },
        {
         "hoverinfo": "text",
         "line": {
          "color": "rgb(0,0,0)",
          "width": 1
         },
         "mode": "lines",
         "text": "Segment 456: (95.00, 1.73) to (95.00, 1.73, score=0.27)",
         "type": "scatter",
         "x": [
          95,
          95
         ],
         "y": [
          1.7260940074920654,
          1.7260940074920654
         ]
        },
        {
         "hoverinfo": "text",
         "line": {
          "color": "rgb(0,0,0)",
          "width": 1
         },
         "mode": "lines",
         "text": "Segment 457: (194.05, 1.73) to (293.11, 1.73, score=0.27)",
         "type": "scatter",
         "x": [
          194.05452279941292,
          293.10904559882584
         ],
         "y": [
          1.7260940074920654,
          1.7260940074920654
         ]
        },
        {
         "hoverinfo": "text",
         "line": {
          "color": "rgb(0,0,0)",
          "width": 1
         },
         "mode": "lines",
         "text": "Segment 458: (293.11, 1.73) to (293.11, 1.73, score=0.27)",
         "type": "scatter",
         "x": [
          293.10904559882584,
          293.10904559882584
         ],
         "y": [
          1.7260619401931763,
          1.7260940074920654
         ]
        },
        {
         "hoverinfo": "text",
         "line": {
          "color": "rgb(0,0,0)",
          "width": 1
         },
         "mode": "lines",
         "text": "Segment 459: (85.00, 1.73) to (85.00, 1.73, score=26.77)",
         "type": "scatter",
         "x": [
          85,
          85
         ],
         "y": [
          1.729767084121704,
          1.729767084121704
         ]
        },
        {
         "hoverinfo": "text",
         "line": {
          "color": "rgb(0,0,0)",
          "width": 1
         },
         "mode": "lines",
         "text": "Segment 460: (139.53, 1.73) to (194.05, 1.73, score=26.77)",
         "type": "scatter",
         "x": [
          139.52726139970645,
          194.05452279941292
         ],
         "y": [
          1.729767084121704,
          1.729767084121704
         ]
        },
        {
         "hoverinfo": "text",
         "line": {
          "color": "rgb(0,0,0)",
          "width": 1
         },
         "mode": "lines",
         "text": "Segment 461: (194.05, 1.73) to (194.05, 1.73, score=26.77)",
         "type": "scatter",
         "x": [
          194.05452279941292,
          194.05452279941292
         ],
         "y": [
          1.7260940074920654,
          1.729767084121704
         ]
        },
        {
         "hoverinfo": "text",
         "line": {
          "color": "rgb(0,0,0)",
          "width": 1
         },
         "mode": "lines",
         "text": "Segment 462: (139.53, 1.73) to (139.53, 1.73, score=26.77)",
         "type": "scatter",
         "x": [
          139.52726139970645,
          139.52726139970645
         ],
         "y": [
          1.729767084121704,
          1.7335864305496216
         ]
        },
        {
         "hoverinfo": "text",
         "line": {
          "color": "rgb(0,0,0)",
          "width": 1
         },
         "mode": "lines",
         "text": "Segment 463: (139.53, 1.73) to (887.26, 1.73, score=26.77)",
         "type": "scatter",
         "x": [
          139.52726139970645,
          887.2636306998533
         ],
         "y": [
          1.7335864305496216,
          1.7335864305496216
         ]
        },
        {
         "hoverinfo": "text",
         "line": {
          "color": "rgb(0,0,0)",
          "width": 1
         },
         "mode": "lines",
         "text": "Segment 464: (1635.00, 1.73) to (1635.00, 1.73, score=26.77)",
         "type": "scatter",
         "x": [
          1635,
          1635
         ],
         "y": [
          1.7335864305496216,
          1.7335864305496216
         ]
        },
        {
         "hoverinfo": "text",
         "line": {
          "color": "rgb(0,0,0)",
          "width": 1
         },
         "mode": "lines",
         "text": "Segment 465: (887.26, 1.73) to (887.26, 1.73, score=26.77)",
         "type": "scatter",
         "x": [
          887.2636306998533,
          887.2636306998533
         ],
         "y": [
          1.7335864305496216,
          1.734899640083313
         ]
        },
        {
         "hoverinfo": "text",
         "line": {
          "color": "rgb(0,0,0)",
          "width": 1
         },
         "mode": "lines",
         "text": "Segment 466: (887.26, 1.73) to (1266.13, 1.73, score=26.77)",
         "type": "scatter",
         "x": [
          887.2636306998533,
          1266.1318153499267
         ],
         "y": [
          1.734899640083313,
          1.734899640083313
         ]
        },
        {
         "hoverinfo": "text",
         "line": {
          "color": "rgb(0,0,0)",
          "width": 1
         },
         "mode": "lines",
         "text": "Segment 467: (1645.00, 1.73) to (1645.00, 1.73, score=26.77)",
         "type": "scatter",
         "x": [
          1645,
          1645
         ],
         "y": [
          1.734899640083313,
          1.734899640083313
         ]
        },
        {
         "hoverinfo": "text",
         "line": {
          "color": "rgb(0,0,0)",
          "width": 1
         },
         "mode": "lines",
         "text": "Segment 468: (75.00, 1.74) to (75.00, 1.74, score=3.66)",
         "type": "scatter",
         "x": [
          75,
          75
         ],
         "y": [
          1.7352818250656128,
          1.7352818250656128
         ]
        },
        {
         "hoverinfo": "text",
         "line": {
          "color": "rgb(0,0,0)",
          "width": 1
         },
         "mode": "lines",
         "text": "Segment 469: (670.57, 1.74) to (1266.13, 1.74, score=3.66)",
         "type": "scatter",
         "x": [
          670.5659076749633,
          1266.1318153499267
         ],
         "y": [
          1.7352818250656128,
          1.7352818250656128
         ]
        },
        {
         "hoverinfo": "text",
         "line": {
          "color": "rgb(0,0,0)",
          "width": 1
         },
         "mode": "lines",
         "text": "Segment 470: (1266.13, 1.73) to (1266.13, 1.74, score=3.66)",
         "type": "scatter",
         "x": [
          1266.1318153499267,
          1266.1318153499267
         ],
         "y": [
          1.734899640083313,
          1.7352818250656128
         ]
        },
        {
         "hoverinfo": "text",
         "line": {
          "color": "rgb(0,0,0)",
          "width": 1
         },
         "mode": "lines",
         "text": "Segment 471: (65.00, 1.74) to (65.00, 1.74, score=3.66)",
         "type": "scatter",
         "x": [
          65,
          65
         ],
         "y": [
          1.736607551574707,
          1.736607551574707
         ]
        },
        {
         "hoverinfo": "text",
         "line": {
          "color": "rgb(0,0,0)",
          "width": 1
         },
         "mode": "lines",
         "text": "Segment 472: (367.78, 1.74) to (670.57, 1.74, score=3.66)",
         "type": "scatter",
         "x": [
          367.78295383748167,
          670.5659076749633
         ],
         "y": [
          1.736607551574707,
          1.736607551574707
         ]
        },
        {
         "hoverinfo": "text",
         "line": {
          "color": "rgb(0,0,0)",
          "width": 1
         },
         "mode": "lines",
         "text": "Segment 473: (670.57, 1.74) to (670.57, 1.74, score=3.66)",
         "type": "scatter",
         "x": [
          670.5659076749633,
          670.5659076749633
         ],
         "y": [
          1.7352818250656128,
          1.736607551574707
         ]
        },
        {
         "hoverinfo": "text",
         "line": {
          "color": "rgb(0,0,0)",
          "width": 1
         },
         "mode": "lines",
         "text": "Segment 474: (55.00, 1.74) to (55.00, 1.74, score=3.66)",
         "type": "scatter",
         "x": [
          55,
          55
         ],
         "y": [
          1.737165927886963,
          1.737165927886963
         ]
        },
        {
         "hoverinfo": "text",
         "line": {
          "color": "rgb(0,0,0)",
          "width": 1
         },
         "mode": "lines",
         "text": "Segment 475: (211.39, 1.74) to (367.78, 1.74, score=3.66)",
         "type": "scatter",
         "x": [
          211.39147691874084,
          367.78295383748167
         ],
         "y": [
          1.737165927886963,
          1.737165927886963
         ]
        },
        {
         "hoverinfo": "text",
         "line": {
          "color": "rgb(0,0,0)",
          "width": 1
         },
         "mode": "lines",
         "text": "Segment 476: (367.78, 1.74) to (367.78, 1.74, score=3.66)",
         "type": "scatter",
         "x": [
          367.78295383748167,
          367.78295383748167
         ],
         "y": [
          1.736607551574707,
          1.737165927886963
         ]
        },
        {
         "hoverinfo": "text",
         "line": {
          "color": "rgb(0,0,0)",
          "width": 1
         },
         "mode": "lines",
         "text": "Segment 477: (211.39, 1.74) to (211.39, 1.75, score=11.85)",
         "type": "scatter",
         "x": [
          211.39147691874084,
          211.39147691874084
         ],
         "y": [
          1.737165927886963,
          1.749782681465149
         ]
        },
        {
         "hoverinfo": "text",
         "line": {
          "color": "rgb(0,0,0)",
          "width": 1
         },
         "mode": "lines",
         "text": "Segment 478: (211.39, 1.75) to (933.20, 1.75, score=11.85)",
         "type": "scatter",
         "x": [
          211.39147691874084,
          933.1957384593704
         ],
         "y": [
          1.749782681465149,
          1.749782681465149
         ]
        },
        {
         "hoverinfo": "text",
         "line": {
          "color": "rgb(0,0,0)",
          "width": 1
         },
         "mode": "lines",
         "text": "Segment 479: (1655.00, 1.75) to (1655.00, 1.75, score=11.85)",
         "type": "scatter",
         "x": [
          1655,
          1655
         ],
         "y": [
          1.749782681465149,
          1.749782681465149
         ]
        },
        {
         "hoverinfo": "text",
         "line": {
          "color": "rgb(0,0,0)",
          "width": 1
         },
         "mode": "lines",
         "text": "Segment 480: (933.20, 1.75) to (933.20, 1.76, score=11.85)",
         "type": "scatter",
         "x": [
          933.1957384593704,
          933.1957384593704
         ],
         "y": [
          1.749782681465149,
          1.7562642097473145
         ]
        },
        {
         "hoverinfo": "text",
         "line": {
          "color": "rgb(0,0,0)",
          "width": 1
         },
         "mode": "lines",
         "text": "Segment 481: (933.20, 1.76) to (1299.10, 1.76, score=11.85)",
         "type": "scatter",
         "x": [
          933.1957384593704,
          1299.0978692296853
         ],
         "y": [
          1.7562642097473145,
          1.7562642097473145
         ]
        },
        {
         "hoverinfo": "text",
         "line": {
          "color": "rgb(0,0,0)",
          "width": 1
         },
         "mode": "lines",
         "text": "Segment 482: (1665.00, 1.76) to (1665.00, 1.76, score=11.85)",
         "type": "scatter",
         "x": [
          1665,
          1665
         ],
         "y": [
          1.7562642097473145,
          1.7562642097473145
         ]
        },
        {
         "hoverinfo": "text",
         "line": {
          "color": "rgb(0,0,0)",
          "width": 1
         },
         "mode": "lines",
         "text": "Segment 483: (1299.10, 1.76) to (1299.10, 1.76, score=11.85)",
         "type": "scatter",
         "x": [
          1299.0978692296853,
          1299.0978692296853
         ],
         "y": [
          1.7562642097473145,
          1.7572885751724243
         ]
        },
        {
         "hoverinfo": "text",
         "line": {
          "color": "rgb(0,0,0)",
          "width": 1
         },
         "mode": "lines",
         "text": "Segment 484: (1299.10, 1.76) to (1487.05, 1.76, score=11.85)",
         "type": "scatter",
         "x": [
          1299.0978692296853,
          1487.0489346148427
         ],
         "y": [
          1.7572885751724243,
          1.7572885751724243
         ]
        },
        {
         "hoverinfo": "text",
         "line": {
          "color": "rgb(0,0,0)",
          "width": 1
         },
         "mode": "lines",
         "text": "Segment 485: (1675.00, 1.76) to (1675.00, 1.76, score=11.85)",
         "type": "scatter",
         "x": [
          1675,
          1675
         ],
         "y": [
          1.7572885751724243,
          1.7572885751724243
         ]
        },
        {
         "hoverinfo": "text",
         "line": {
          "color": "rgb(0,0,0)",
          "width": 1
         },
         "mode": "lines",
         "text": "Segment 486: (45.00, 1.76) to (45.00, 1.76, score=4.99)",
         "type": "scatter",
         "x": [
          45,
          45
         ],
         "y": [
          1.7597395181655884,
          1.7597395181655884
         ]
        },
        {
         "hoverinfo": "text",
         "line": {
          "color": "rgb(0,0,0)",
          "width": 1
         },
         "mode": "lines",
         "text": "Segment 487: (766.02, 1.76) to (1487.05, 1.76, score=4.99)",
         "type": "scatter",
         "x": [
          766.0244673074213,
          1487.0489346148427
         ],
         "y": [
          1.7597395181655884,
          1.7597395181655884
         ]
        },
        {
         "hoverinfo": "text",
         "line": {
          "color": "rgb(0,0,0)",
          "width": 1
         },
         "mode": "lines",
         "text": "Segment 488: (1487.05, 1.76) to (1487.05, 1.76, score=4.99)",
         "type": "scatter",
         "x": [
          1487.0489346148427,
          1487.0489346148427
         ],
         "y": [
          1.7572885751724243,
          1.7597395181655884
         ]
        },
        {
         "hoverinfo": "text",
         "line": {
          "color": "rgb(0,0,0)",
          "width": 1
         },
         "mode": "lines",
         "text": "Segment 489: (766.02, 1.76) to (766.02, 1.76, score=4.99)",
         "type": "scatter",
         "x": [
          766.0244673074213,
          766.0244673074213
         ],
         "y": [
          1.7597395181655884,
          1.7599977254867554
         ]
        },
        {
         "hoverinfo": "text",
         "line": {
          "color": "rgb(0,0,0)",
          "width": 1
         },
         "mode": "lines",
         "text": "Segment 490: (766.02, 1.76) to (1225.51, 1.76, score=4.99)",
         "type": "scatter",
         "x": [
          766.0244673074213,
          1225.5122336537106
         ],
         "y": [
          1.7599977254867554,
          1.7599977254867554
         ]
        },
        {
         "hoverinfo": "text",
         "line": {
          "color": "rgb(0,0,0)",
          "width": 1
         },
         "mode": "lines",
         "text": "Segment 491: (1685.00, 1.76) to (1685.00, 1.76, score=4.99)",
         "type": "scatter",
         "x": [
          1685,
          1685
         ],
         "y": [
          1.7599977254867554,
          1.7599977254867554
         ]
        },
        {
         "hoverinfo": "text",
         "line": {
          "color": "rgb(0,0,0)",
          "width": 1
         },
         "mode": "lines",
         "text": "Segment 492: (1225.51, 1.76) to (1225.51, 1.76, score=4.99)",
         "type": "scatter",
         "x": [
          1225.5122336537106,
          1225.5122336537106
         ],
         "y": [
          1.7599977254867554,
          1.762968897819519
         ]
        },
        {
         "hoverinfo": "text",
         "line": {
          "color": "rgb(0,0,0)",
          "width": 1
         },
         "mode": "lines",
         "text": "Segment 493: (1225.51, 1.76) to (1460.26, 1.76, score=4.99)",
         "type": "scatter",
         "x": [
          1225.5122336537106,
          1460.2561168268553
         ],
         "y": [
          1.762968897819519,
          1.762968897819519
         ]
        },
        {
         "hoverinfo": "text",
         "line": {
          "color": "rgb(0,0,0)",
          "width": 1
         },
         "mode": "lines",
         "text": "Segment 494: (1695.00, 1.76) to (1695.00, 1.76, score=4.99)",
         "type": "scatter",
         "x": [
          1695,
          1695
         ],
         "y": [
          1.762968897819519,
          1.762968897819519
         ]
        },
        {
         "hoverinfo": "text",
         "line": {
          "color": "rgb(0,0,0)",
          "width": 1
         },
         "mode": "lines",
         "text": "Segment 495: (1460.26, 1.76) to (1460.26, 1.77, score=34.02)",
         "type": "scatter",
         "x": [
          1460.2561168268553,
          1460.2561168268553
         ],
         "y": [
          1.762968897819519,
          1.766543984413147
         ]
        },
        {
         "hoverinfo": "text",
         "line": {
          "color": "rgb(0,0,0)",
          "width": 1
         },
         "mode": "lines",
         "text": "Segment 496: (1460.26, 1.77) to (1582.63, 1.77, score=34.02)",
         "type": "scatter",
         "x": [
          1460.2561168268553,
          1582.6280584134277
         ],
         "y": [
          1.766543984413147,
          1.766543984413147
         ]
        },
        {
         "hoverinfo": "text",
         "line": {
          "color": "rgb(0,0,0)",
          "width": 1
         },
         "mode": "lines",
         "text": "Segment 497: (1705.00, 1.77) to (1705.00, 1.77, score=34.02)",
         "type": "scatter",
         "x": [
          1705,
          1705
         ],
         "y": [
          1.766543984413147,
          1.766543984413147
         ]
        },
        {
         "hoverinfo": "text",
         "line": {
          "color": "rgb(0,0,0)",
          "width": 1
         },
         "mode": "lines",
         "text": "Segment 498: (35.00, 1.77) to (35.00, 1.77, score=34.02)",
         "type": "scatter",
         "x": [
          35,
          35
         ],
         "y": [
          1.7695714235305786,
          1.7695714235305786
         ]
        },
        {
         "hoverinfo": "text",
         "line": {
          "color": "rgb(0,0,0)",
          "width": 1
         },
         "mode": "lines",
         "text": "Segment 499: (808.81, 1.77) to (1582.63, 1.77, score=34.02)",
         "type": "scatter",
         "x": [
          808.8140292067138,
          1582.6280584134277
         ],
         "y": [
          1.7695714235305786,
          1.7695714235305786
         ]
        },
        {
         "hoverinfo": "text",
         "line": {
          "color": "rgb(0,0,0)",
          "width": 1
         },
         "mode": "lines",
         "text": "Segment 500: (1582.63, 1.77) to (1582.63, 1.77, score=34.02)",
         "type": "scatter",
         "x": [
          1582.6280584134277,
          1582.6280584134277
         ],
         "y": [
          1.766543984413147,
          1.7695714235305786
         ]
        },
        {
         "hoverinfo": "text",
         "line": {
          "color": "rgb(0,0,0)",
          "width": 1
         },
         "mode": "lines",
         "text": "Segment 501: (25.00, 1.77) to (25.00, 1.77, score=34.02)",
         "type": "scatter",
         "x": [
          25,
          25
         ],
         "y": [
          1.770814299583435,
          1.770814299583435
         ]
        },
        {
         "hoverinfo": "text",
         "line": {
          "color": "rgb(0,0,0)",
          "width": 1
         },
         "mode": "lines",
         "text": "Segment 502: (416.91, 1.77) to (808.81, 1.77, score=34.02)",
         "type": "scatter",
         "x": [
          416.9070146033569,
          808.8140292067138
         ],
         "y": [
          1.770814299583435,
          1.770814299583435
         ]
        },
        {
         "hoverinfo": "text",
         "line": {
          "color": "rgb(0,0,0)",
          "width": 1
         },
         "mode": "lines",
         "text": "Segment 503: (808.81, 1.77) to (808.81, 1.77, score=34.02)",
         "type": "scatter",
         "x": [
          808.8140292067138,
          808.8140292067138
         ],
         "y": [
          1.7695714235305786,
          1.770814299583435
         ]
        },
        {
         "hoverinfo": "text",
         "line": {
          "color": "rgb(230,0,0)",
          "width": 1
         },
         "mode": "lines",
         "text": "Segment 504: (15.00, 1.78) to (15.00, 1.78, score=51.52)",
         "type": "scatter",
         "x": [
          15,
          15
         ],
         "y": [
          1.7759816646575928,
          1.7759816646575928
         ]
        },
        {
         "hoverinfo": "text",
         "line": {
          "color": "rgb(230,0,0)",
          "width": 1
         },
         "mode": "lines",
         "text": "Segment 505: (215.95, 1.78) to (416.91, 1.78, score=51.52)",
         "type": "scatter",
         "x": [
          215.95350730167846,
          416.9070146033569
         ],
         "y": [
          1.7759816646575928,
          1.7759816646575928
         ]
        },
        {
         "hoverinfo": "text",
         "line": {
          "color": "rgb(230,0,0)",
          "width": 1
         },
         "mode": "lines",
         "text": "Segment 506: (416.91, 1.77) to (416.91, 1.78, score=51.52)",
         "type": "scatter",
         "x": [
          416.9070146033569,
          416.9070146033569
         ],
         "y": [
          1.770814299583435,
          1.7759816646575928
         ]
        },
        {
         "hoverinfo": "text",
         "line": {
          "color": "rgb(230,0,0)",
          "width": 1
         },
         "mode": "lines",
         "text": "Segment 507: (215.95, 1.78) to (215.95, 1.80, score=51.52)",
         "type": "scatter",
         "x": [
          215.95350730167846,
          215.95350730167846
         ],
         "y": [
          1.7759816646575928,
          1.8024729490280151
         ]
        },
        {
         "hoverinfo": "text",
         "line": {
          "color": "rgb(230,0,0)",
          "width": 1
         },
         "mode": "lines",
         "text": "Segment 508: (215.95, 1.80) to (965.48, 1.80, score=51.52)",
         "type": "scatter",
         "x": [
          215.95350730167846,
          965.4767536508392
         ],
         "y": [
          1.8024729490280151,
          1.8024729490280151
         ]
        },
        {
         "hoverinfo": "text",
         "line": {
          "color": "rgb(230,0,0)",
          "width": 1
         },
         "mode": "lines",
         "text": "Segment 509: (1715.00, 1.80) to (1715.00, 1.80, score=51.52)",
         "type": "scatter",
         "x": [
          1715,
          1715
         ],
         "y": [
          1.8024729490280151,
          1.8024729490280151
         ]
        },
        {
         "hoverinfo": "text",
         "line": {
          "color": "rgb(230,0,0)",
          "width": 1
         },
         "mode": "lines",
         "text": "Segment 510: (5.00, 1.81) to (5.00, 1.81, score=51.52)",
         "type": "scatter",
         "x": [
          5,
          5
         ],
         "y": [
          1.8097060918807983,
          1.8097060918807983
         ]
        },
        {
         "hoverinfo": "text",
         "line": {
          "color": "rgb(230,0,0)",
          "width": 1
         },
         "mode": "lines",
         "text": "Segment 511: (485.24, 1.81) to (965.48, 1.81, score=51.52)",
         "type": "scatter",
         "x": [
          485.2383768254196,
          965.4767536508392
         ],
         "y": [
          1.8097060918807983,
          1.8097060918807983
         ]
        },
        {
         "hoverinfo": "text",
         "line": {
          "color": "rgb(230,0,0)",
          "width": 1
         },
         "mode": "lines",
         "text": "Segment 512: (965.48, 1.80) to (965.48, 1.81, score=51.52)",
         "type": "scatter",
         "x": [
          965.4767536508392,
          965.4767536508392
         ],
         "y": [
          1.8024729490280151,
          1.8097060918807983
         ]
        },
        {
         "hoverinfo": "text",
         "line": {
          "color": "rgb(255,210,0)",
          "width": 1
         },
         "mode": "lines",
         "text": "Segment 513: (485.24, 1.81) to (485.24, 1.90, score=104.60)",
         "type": "scatter",
         "x": [
          485.2383768254196,
          485.2383768254196
         ],
         "y": [
          1.8097060918807983,
          1.900678813457489
         ]
        },
        {
         "hoverinfo": "text",
         "line": {
          "color": "rgb(255,210,0)",
          "width": 1
         },
         "mode": "lines",
         "text": "Segment 514: (485.24, 1.90) to (1105.12, 1.90, score=104.60)",
         "type": "scatter",
         "x": [
          485.2383768254196,
          1105.1191884127097
         ],
         "y": [
          1.900678813457489,
          1.900678813457489
         ]
        },
        {
         "hoverinfo": "text",
         "line": {
          "color": "rgb(255,210,0)",
          "width": 1
         },
         "mode": "lines",
         "text": "Segment 515: (1725.00, 1.90) to (1725.00, 1.90, score=104.60)",
         "type": "scatter",
         "x": [
          1725,
          1725
         ],
         "y": [
          1.900678813457489,
          1.900678813457489
         ]
        }
       ],
       "layout": {
        "height": 2000,
        "hovermode": "closest",
        "template": {
         "data": {
          "bar": [
           {
            "error_x": {
             "color": "#2a3f5f"
            },
            "error_y": {
             "color": "#2a3f5f"
            },
            "marker": {
             "line": {
              "color": "#E5ECF6",
              "width": 0.5
             },
             "pattern": {
              "fillmode": "overlay",
              "size": 10,
              "solidity": 0.2
             }
            },
            "type": "bar"
           }
          ],
          "barpolar": [
           {
            "marker": {
             "line": {
              "color": "#E5ECF6",
              "width": 0.5
             },
             "pattern": {
              "fillmode": "overlay",
              "size": 10,
              "solidity": 0.2
             }
            },
            "type": "barpolar"
           }
          ],
          "carpet": [
           {
            "aaxis": {
             "endlinecolor": "#2a3f5f",
             "gridcolor": "white",
             "linecolor": "white",
             "minorgridcolor": "white",
             "startlinecolor": "#2a3f5f"
            },
            "baxis": {
             "endlinecolor": "#2a3f5f",
             "gridcolor": "white",
             "linecolor": "white",
             "minorgridcolor": "white",
             "startlinecolor": "#2a3f5f"
            },
            "type": "carpet"
           }
          ],
          "choropleth": [
           {
            "colorbar": {
             "outlinewidth": 0,
             "ticks": ""
            },
            "type": "choropleth"
           }
          ],
          "contour": [
           {
            "colorbar": {
             "outlinewidth": 0,
             "ticks": ""
            },
            "colorscale": [
             [
              0,
              "#0d0887"
             ],
             [
              0.1111111111111111,
              "#46039f"
             ],
             [
              0.2222222222222222,
              "#7201a8"
             ],
             [
              0.3333333333333333,
              "#9c179e"
             ],
             [
              0.4444444444444444,
              "#bd3786"
             ],
             [
              0.5555555555555556,
              "#d8576b"
             ],
             [
              0.6666666666666666,
              "#ed7953"
             ],
             [
              0.7777777777777778,
              "#fb9f3a"
             ],
             [
              0.8888888888888888,
              "#fdca26"
             ],
             [
              1,
              "#f0f921"
             ]
            ],
            "type": "contour"
           }
          ],
          "contourcarpet": [
           {
            "colorbar": {
             "outlinewidth": 0,
             "ticks": ""
            },
            "type": "contourcarpet"
           }
          ],
          "heatmap": [
           {
            "colorbar": {
             "outlinewidth": 0,
             "ticks": ""
            },
            "colorscale": [
             [
              0,
              "#0d0887"
             ],
             [
              0.1111111111111111,
              "#46039f"
             ],
             [
              0.2222222222222222,
              "#7201a8"
             ],
             [
              0.3333333333333333,
              "#9c179e"
             ],
             [
              0.4444444444444444,
              "#bd3786"
             ],
             [
              0.5555555555555556,
              "#d8576b"
             ],
             [
              0.6666666666666666,
              "#ed7953"
             ],
             [
              0.7777777777777778,
              "#fb9f3a"
             ],
             [
              0.8888888888888888,
              "#fdca26"
             ],
             [
              1,
              "#f0f921"
             ]
            ],
            "type": "heatmap"
           }
          ],
          "heatmapgl": [
           {
            "colorbar": {
             "outlinewidth": 0,
             "ticks": ""
            },
            "colorscale": [
             [
              0,
              "#0d0887"
             ],
             [
              0.1111111111111111,
              "#46039f"
             ],
             [
              0.2222222222222222,
              "#7201a8"
             ],
             [
              0.3333333333333333,
              "#9c179e"
             ],
             [
              0.4444444444444444,
              "#bd3786"
             ],
             [
              0.5555555555555556,
              "#d8576b"
             ],
             [
              0.6666666666666666,
              "#ed7953"
             ],
             [
              0.7777777777777778,
              "#fb9f3a"
             ],
             [
              0.8888888888888888,
              "#fdca26"
             ],
             [
              1,
              "#f0f921"
             ]
            ],
            "type": "heatmapgl"
           }
          ],
          "histogram": [
           {
            "marker": {
             "pattern": {
              "fillmode": "overlay",
              "size": 10,
              "solidity": 0.2
             }
            },
            "type": "histogram"
           }
          ],
          "histogram2d": [
           {
            "colorbar": {
             "outlinewidth": 0,
             "ticks": ""
            },
            "colorscale": [
             [
              0,
              "#0d0887"
             ],
             [
              0.1111111111111111,
              "#46039f"
             ],
             [
              0.2222222222222222,
              "#7201a8"
             ],
             [
              0.3333333333333333,
              "#9c179e"
             ],
             [
              0.4444444444444444,
              "#bd3786"
             ],
             [
              0.5555555555555556,
              "#d8576b"
             ],
             [
              0.6666666666666666,
              "#ed7953"
             ],
             [
              0.7777777777777778,
              "#fb9f3a"
             ],
             [
              0.8888888888888888,
              "#fdca26"
             ],
             [
              1,
              "#f0f921"
             ]
            ],
            "type": "histogram2d"
           }
          ],
          "histogram2dcontour": [
           {
            "colorbar": {
             "outlinewidth": 0,
             "ticks": ""
            },
            "colorscale": [
             [
              0,
              "#0d0887"
             ],
             [
              0.1111111111111111,
              "#46039f"
             ],
             [
              0.2222222222222222,
              "#7201a8"
             ],
             [
              0.3333333333333333,
              "#9c179e"
             ],
             [
              0.4444444444444444,
              "#bd3786"
             ],
             [
              0.5555555555555556,
              "#d8576b"
             ],
             [
              0.6666666666666666,
              "#ed7953"
             ],
             [
              0.7777777777777778,
              "#fb9f3a"
             ],
             [
              0.8888888888888888,
              "#fdca26"
             ],
             [
              1,
              "#f0f921"
             ]
            ],
            "type": "histogram2dcontour"
           }
          ],
          "mesh3d": [
           {
            "colorbar": {
             "outlinewidth": 0,
             "ticks": ""
            },
            "type": "mesh3d"
           }
          ],
          "parcoords": [
           {
            "line": {
             "colorbar": {
              "outlinewidth": 0,
              "ticks": ""
             }
            },
            "type": "parcoords"
           }
          ],
          "pie": [
           {
            "automargin": true,
            "type": "pie"
           }
          ],
          "scatter": [
           {
            "fillpattern": {
             "fillmode": "overlay",
             "size": 10,
             "solidity": 0.2
            },
            "type": "scatter"
           }
          ],
          "scatter3d": [
           {
            "line": {
             "colorbar": {
              "outlinewidth": 0,
              "ticks": ""
             }
            },
            "marker": {
             "colorbar": {
              "outlinewidth": 0,
              "ticks": ""
             }
            },
            "type": "scatter3d"
           }
          ],
          "scattercarpet": [
           {
            "marker": {
             "colorbar": {
              "outlinewidth": 0,
              "ticks": ""
             }
            },
            "type": "scattercarpet"
           }
          ],
          "scattergeo": [
           {
            "marker": {
             "colorbar": {
              "outlinewidth": 0,
              "ticks": ""
             }
            },
            "type": "scattergeo"
           }
          ],
          "scattergl": [
           {
            "marker": {
             "colorbar": {
              "outlinewidth": 0,
              "ticks": ""
             }
            },
            "type": "scattergl"
           }
          ],
          "scattermapbox": [
           {
            "marker": {
             "colorbar": {
              "outlinewidth": 0,
              "ticks": ""
             }
            },
            "type": "scattermapbox"
           }
          ],
          "scatterpolar": [
           {
            "marker": {
             "colorbar": {
              "outlinewidth": 0,
              "ticks": ""
             }
            },
            "type": "scatterpolar"
           }
          ],
          "scatterpolargl": [
           {
            "marker": {
             "colorbar": {
              "outlinewidth": 0,
              "ticks": ""
             }
            },
            "type": "scatterpolargl"
           }
          ],
          "scatterternary": [
           {
            "marker": {
             "colorbar": {
              "outlinewidth": 0,
              "ticks": ""
             }
            },
            "type": "scatterternary"
           }
          ],
          "surface": [
           {
            "colorbar": {
             "outlinewidth": 0,
             "ticks": ""
            },
            "colorscale": [
             [
              0,
              "#0d0887"
             ],
             [
              0.1111111111111111,
              "#46039f"
             ],
             [
              0.2222222222222222,
              "#7201a8"
             ],
             [
              0.3333333333333333,
              "#9c179e"
             ],
             [
              0.4444444444444444,
              "#bd3786"
             ],
             [
              0.5555555555555556,
              "#d8576b"
             ],
             [
              0.6666666666666666,
              "#ed7953"
             ],
             [
              0.7777777777777778,
              "#fb9f3a"
             ],
             [
              0.8888888888888888,
              "#fdca26"
             ],
             [
              1,
              "#f0f921"
             ]
            ],
            "type": "surface"
           }
          ],
          "table": [
           {
            "cells": {
             "fill": {
              "color": "#EBF0F8"
             },
             "line": {
              "color": "white"
             }
            },
            "header": {
             "fill": {
              "color": "#C8D4E3"
             },
             "line": {
              "color": "white"
             }
            },
            "type": "table"
           }
          ]
         },
         "layout": {
          "annotationdefaults": {
           "arrowcolor": "#2a3f5f",
           "arrowhead": 0,
           "arrowwidth": 1
          },
          "autotypenumbers": "strict",
          "coloraxis": {
           "colorbar": {
            "outlinewidth": 0,
            "ticks": ""
           }
          },
          "colorscale": {
           "diverging": [
            [
             0,
             "#8e0152"
            ],
            [
             0.1,
             "#c51b7d"
            ],
            [
             0.2,
             "#de77ae"
            ],
            [
             0.3,
             "#f1b6da"
            ],
            [
             0.4,
             "#fde0ef"
            ],
            [
             0.5,
             "#f7f7f7"
            ],
            [
             0.6,
             "#e6f5d0"
            ],
            [
             0.7,
             "#b8e186"
            ],
            [
             0.8,
             "#7fbc41"
            ],
            [
             0.9,
             "#4d9221"
            ],
            [
             1,
             "#276419"
            ]
           ],
           "sequential": [
            [
             0,
             "#0d0887"
            ],
            [
             0.1111111111111111,
             "#46039f"
            ],
            [
             0.2222222222222222,
             "#7201a8"
            ],
            [
             0.3333333333333333,
             "#9c179e"
            ],
            [
             0.4444444444444444,
             "#bd3786"
            ],
            [
             0.5555555555555556,
             "#d8576b"
            ],
            [
             0.6666666666666666,
             "#ed7953"
            ],
            [
             0.7777777777777778,
             "#fb9f3a"
            ],
            [
             0.8888888888888888,
             "#fdca26"
            ],
            [
             1,
             "#f0f921"
            ]
           ],
           "sequentialminus": [
            [
             0,
             "#0d0887"
            ],
            [
             0.1111111111111111,
             "#46039f"
            ],
            [
             0.2222222222222222,
             "#7201a8"
            ],
            [
             0.3333333333333333,
             "#9c179e"
            ],
            [
             0.4444444444444444,
             "#bd3786"
            ],
            [
             0.5555555555555556,
             "#d8576b"
            ],
            [
             0.6666666666666666,
             "#ed7953"
            ],
            [
             0.7777777777777778,
             "#fb9f3a"
            ],
            [
             0.8888888888888888,
             "#fdca26"
            ],
            [
             1,
             "#f0f921"
            ]
           ]
          },
          "colorway": [
           "#636efa",
           "#EF553B",
           "#00cc96",
           "#ab63fa",
           "#FFA15A",
           "#19d3f3",
           "#FF6692",
           "#B6E880",
           "#FF97FF",
           "#FECB52"
          ],
          "font": {
           "color": "#2a3f5f"
          },
          "geo": {
           "bgcolor": "white",
           "lakecolor": "white",
           "landcolor": "#E5ECF6",
           "showlakes": true,
           "showland": true,
           "subunitcolor": "white"
          },
          "hoverlabel": {
           "align": "left"
          },
          "hovermode": "closest",
          "mapbox": {
           "style": "light"
          },
          "paper_bgcolor": "white",
          "plot_bgcolor": "#E5ECF6",
          "polar": {
           "angularaxis": {
            "gridcolor": "white",
            "linecolor": "white",
            "ticks": ""
           },
           "bgcolor": "#E5ECF6",
           "radialaxis": {
            "gridcolor": "white",
            "linecolor": "white",
            "ticks": ""
           }
          },
          "scene": {
           "xaxis": {
            "backgroundcolor": "#E5ECF6",
            "gridcolor": "white",
            "gridwidth": 2,
            "linecolor": "white",
            "showbackground": true,
            "ticks": "",
            "zerolinecolor": "white"
           },
           "yaxis": {
            "backgroundcolor": "#E5ECF6",
            "gridcolor": "white",
            "gridwidth": 2,
            "linecolor": "white",
            "showbackground": true,
            "ticks": "",
            "zerolinecolor": "white"
           },
           "zaxis": {
            "backgroundcolor": "#E5ECF6",
            "gridcolor": "white",
            "gridwidth": 2,
            "linecolor": "white",
            "showbackground": true,
            "ticks": "",
            "zerolinecolor": "white"
           }
          },
          "shapedefaults": {
           "line": {
            "color": "#2a3f5f"
           }
          },
          "ternary": {
           "aaxis": {
            "gridcolor": "white",
            "linecolor": "white",
            "ticks": ""
           },
           "baxis": {
            "gridcolor": "white",
            "linecolor": "white",
            "ticks": ""
           },
           "bgcolor": "#E5ECF6",
           "caxis": {
            "gridcolor": "white",
            "linecolor": "white",
            "ticks": ""
           }
          },
          "title": {
           "x": 0.05
          },
          "xaxis": {
           "automargin": true,
           "gridcolor": "white",
           "linecolor": "white",
           "ticks": "",
           "title": {
            "standoff": 15
           },
           "zerolinecolor": "white",
           "zerolinewidth": 2
          },
          "yaxis": {
           "automargin": true,
           "gridcolor": "white",
           "linecolor": "white",
           "ticks": "",
           "title": {
            "standoff": 15
           },
           "zerolinecolor": "white",
           "zerolinewidth": 2
          }
         }
        },
        "title": {
         "text": "Simple Dendrogram Visualization"
        },
        "width": 1000,
        "xaxis": {
         "title": {
          "text": "Observation Index"
         }
        },
        "yaxis": {
         "title": {
          "text": "Distance / Height"
         }
        }
       }
      }
     },
     "metadata": {},
     "output_type": "display_data"
    }
   ],
   "source": [
    "segments = get_dendrogram_segments(linkage_matrix[:, [0,1,3,4]])\n",
    "fig = plot_dendrogram_plotly(segments, colors=colors, scores=scores)\n",
    "fig.update_layout(height=2000)\n",
    "fig.show()"
   ]
  }
 ],
 "metadata": {
  "kernelspec": {
   "display_name": "Python 3",
   "language": "python",
   "name": "python3"
  },
  "language_info": {
   "codemirror_mode": {
    "name": "ipython",
    "version": 3
   },
   "file_extension": ".py",
   "mimetype": "text/x-python",
   "name": "python",
   "nbconvert_exporter": "python",
   "pygments_lexer": "ipython3",
   "version": "3.9.4"
  }
 },
 "nbformat": 4,
 "nbformat_minor": 5
}
