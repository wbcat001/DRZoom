{
 "cells": [
  {
   "cell_type": "markdown",
   "id": "eb90d3ff",
   "metadata": {},
   "source": [
    "# データセット評価"
   ]
  },
  {
   "cell_type": "code",
   "execution_count": 18,
   "id": "68ddb48b",
   "metadata": {},
   "outputs": [],
   "source": [
    "import numpy as np\n",
    "from sklearn.decomposition import PCA\n",
    "import plotly.express as px\n",
    "\n",
    "# スパース性\n",
    "def sparsity_ratio(matrix):\n",
    "    non_zero_count = np.count_nonzero(matrix)\n",
    "    total_elements = matrix.size\n",
    "    sparsity = 1 - (non_zero_count / total_elements)\n",
    "    return sparsity\n",
    "\n",
    "# 内在次元\n",
    "def intrisic_dimensionality_ratio(matrix, variance_threshold=0.95):\n",
    "    n_samples, n_features = matrix.shape\n",
    "    pca = PCA()\n",
    "    pca.fit(matrix)\n",
    "    cumulative_variance = np.cumsum(pca.explained_variance_ratio_)\n",
    "    num_components = np.searchsorted(cumulative_variance, variance_threshold) + 1\n",
    "    intrinsic_dim_ratio = num_components / n_features\n",
    "    return intrinsic_dim_ratio\n",
    "\n",
    "# 累積寄与率のプロット\n",
    "def cumulative_variance_plot(matrix):\n",
    "    import matplotlib.pyplot as plt\n",
    "    from sklearn.decomposition import PCA\n",
    "\n",
    "    pca = PCA()\n",
    "    pca.fit(matrix)\n",
    "    cumulative_variance = np.cumsum(pca.explained_variance_ratio_)\n",
    "\n",
    "    fig = px.line(\n",
    "        x=np.arange(1, len(cumulative_variance) + 1),\n",
    "        y=cumulative_variance,\n",
    "        labels={'x': 'Number of Components', 'y': 'Cumulative Variance'},\n",
    "        title='Cumulative Variance Explained by PCA Components'\n",
    "    ).show()\n",
    "\n",
    "    "
   ]
  },
  {
   "cell_type": "code",
   "execution_count": 19,
   "id": "410821b9",
   "metadata": {},
   "outputs": [],
   "source": [
    "# test\n",
    "# mnist 70000, 784\n",
    "from sklearn.datasets import fetch_openml\n",
    "import ssl\n",
    "ssl._create_default_https_context = ssl._create_unverified_context\n",
    "mnist = fetch_openml('mnist_784', version=1)\n",
    "matrix = mnist.data.values\n"
   ]
  },
  {
   "cell_type": "code",
   "execution_count": 20,
   "id": "2be34652",
   "metadata": {},
   "outputs": [
    {
     "name": "stdout",
     "output_type": "stream",
     "text": [
      "sparsity_ratio: 0.8086\n",
      "intrisic_dimensionality_ratio: 0.1964\n"
     ]
    },
    {
     "name": "stderr",
     "output_type": "stream",
     "text": [
      "Matplotlib is building the font cache; this may take a moment.\n"
     ]
    },
    {
     "data": {
      "application/vnd.plotly.v1+json": {
       "config": {
        "plotlyServerURL": "https://plot.ly"
       },
       "data": [
        {
         "hovertemplate": "Number of Components=%{x}<br>Cumulative Variance=%{y}<extra></extra>",
         "legendgroup": "",
         "line": {
          "color": "#636efa",
          "dash": "solid"
         },
         "marker": {
          "symbol": "circle"
         },
         "mode": "lines",
         "name": "",
         "orientation": "v",
         "showlegend": false,
         "type": "scatter",
         "x": {
          "bdata": "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",
          "dtype": "i2"
         },
         "xaxis": "x",
         "y": {
          "bdata": "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",
          "dtype": "f8"
         },
         "yaxis": "y"
        }
       ],
       "layout": {
        "legend": {
         "tracegroupgap": 0
        },
        "template": {
         "data": {
          "bar": [
           {
            "error_x": {
             "color": "#2a3f5f"
            },
            "error_y": {
             "color": "#2a3f5f"
            },
            "marker": {
             "line": {
              "color": "#E5ECF6",
              "width": 0.5
             },
             "pattern": {
              "fillmode": "overlay",
              "size": 10,
              "solidity": 0.2
             }
            },
            "type": "bar"
           }
          ],
          "barpolar": [
           {
            "marker": {
             "line": {
              "color": "#E5ECF6",
              "width": 0.5
             },
             "pattern": {
              "fillmode": "overlay",
              "size": 10,
              "solidity": 0.2
             }
            },
            "type": "barpolar"
           }
          ],
          "carpet": [
           {
            "aaxis": {
             "endlinecolor": "#2a3f5f",
             "gridcolor": "white",
             "linecolor": "white",
             "minorgridcolor": "white",
             "startlinecolor": "#2a3f5f"
            },
            "baxis": {
             "endlinecolor": "#2a3f5f",
             "gridcolor": "white",
             "linecolor": "white",
             "minorgridcolor": "white",
             "startlinecolor": "#2a3f5f"
            },
            "type": "carpet"
           }
          ],
          "choropleth": [
           {
            "colorbar": {
             "outlinewidth": 0,
             "ticks": ""
            },
            "type": "choropleth"
           }
          ],
          "contour": [
           {
            "colorbar": {
             "outlinewidth": 0,
             "ticks": ""
            },
            "colorscale": [
             [
              0,
              "#0d0887"
             ],
             [
              0.1111111111111111,
              "#46039f"
             ],
             [
              0.2222222222222222,
              "#7201a8"
             ],
             [
              0.3333333333333333,
              "#9c179e"
             ],
             [
              0.4444444444444444,
              "#bd3786"
             ],
             [
              0.5555555555555556,
              "#d8576b"
             ],
             [
              0.6666666666666666,
              "#ed7953"
             ],
             [
              0.7777777777777778,
              "#fb9f3a"
             ],
             [
              0.8888888888888888,
              "#fdca26"
             ],
             [
              1,
              "#f0f921"
             ]
            ],
            "type": "contour"
           }
          ],
          "contourcarpet": [
           {
            "colorbar": {
             "outlinewidth": 0,
             "ticks": ""
            },
            "type": "contourcarpet"
           }
          ],
          "heatmap": [
           {
            "colorbar": {
             "outlinewidth": 0,
             "ticks": ""
            },
            "colorscale": [
             [
              0,
              "#0d0887"
             ],
             [
              0.1111111111111111,
              "#46039f"
             ],
             [
              0.2222222222222222,
              "#7201a8"
             ],
             [
              0.3333333333333333,
              "#9c179e"
             ],
             [
              0.4444444444444444,
              "#bd3786"
             ],
             [
              0.5555555555555556,
              "#d8576b"
             ],
             [
              0.6666666666666666,
              "#ed7953"
             ],
             [
              0.7777777777777778,
              "#fb9f3a"
             ],
             [
              0.8888888888888888,
              "#fdca26"
             ],
             [
              1,
              "#f0f921"
             ]
            ],
            "type": "heatmap"
           }
          ],
          "histogram": [
           {
            "marker": {
             "pattern": {
              "fillmode": "overlay",
              "size": 10,
              "solidity": 0.2
             }
            },
            "type": "histogram"
           }
          ],
          "histogram2d": [
           {
            "colorbar": {
             "outlinewidth": 0,
             "ticks": ""
            },
            "colorscale": [
             [
              0,
              "#0d0887"
             ],
             [
              0.1111111111111111,
              "#46039f"
             ],
             [
              0.2222222222222222,
              "#7201a8"
             ],
             [
              0.3333333333333333,
              "#9c179e"
             ],
             [
              0.4444444444444444,
              "#bd3786"
             ],
             [
              0.5555555555555556,
              "#d8576b"
             ],
             [
              0.6666666666666666,
              "#ed7953"
             ],
             [
              0.7777777777777778,
              "#fb9f3a"
             ],
             [
              0.8888888888888888,
              "#fdca26"
             ],
             [
              1,
              "#f0f921"
             ]
            ],
            "type": "histogram2d"
           }
          ],
          "histogram2dcontour": [
           {
            "colorbar": {
             "outlinewidth": 0,
             "ticks": ""
            },
            "colorscale": [
             [
              0,
              "#0d0887"
             ],
             [
              0.1111111111111111,
              "#46039f"
             ],
             [
              0.2222222222222222,
              "#7201a8"
             ],
             [
              0.3333333333333333,
              "#9c179e"
             ],
             [
              0.4444444444444444,
              "#bd3786"
             ],
             [
              0.5555555555555556,
              "#d8576b"
             ],
             [
              0.6666666666666666,
              "#ed7953"
             ],
             [
              0.7777777777777778,
              "#fb9f3a"
             ],
             [
              0.8888888888888888,
              "#fdca26"
             ],
             [
              1,
              "#f0f921"
             ]
            ],
            "type": "histogram2dcontour"
           }
          ],
          "mesh3d": [
           {
            "colorbar": {
             "outlinewidth": 0,
             "ticks": ""
            },
            "type": "mesh3d"
           }
          ],
          "parcoords": [
           {
            "line": {
             "colorbar": {
              "outlinewidth": 0,
              "ticks": ""
             }
            },
            "type": "parcoords"
           }
          ],
          "pie": [
           {
            "automargin": true,
            "type": "pie"
           }
          ],
          "scatter": [
           {
            "fillpattern": {
             "fillmode": "overlay",
             "size": 10,
             "solidity": 0.2
            },
            "type": "scatter"
           }
          ],
          "scatter3d": [
           {
            "line": {
             "colorbar": {
              "outlinewidth": 0,
              "ticks": ""
             }
            },
            "marker": {
             "colorbar": {
              "outlinewidth": 0,
              "ticks": ""
             }
            },
            "type": "scatter3d"
           }
          ],
          "scattercarpet": [
           {
            "marker": {
             "colorbar": {
              "outlinewidth": 0,
              "ticks": ""
             }
            },
            "type": "scattercarpet"
           }
          ],
          "scattergeo": [
           {
            "marker": {
             "colorbar": {
              "outlinewidth": 0,
              "ticks": ""
             }
            },
            "type": "scattergeo"
           }
          ],
          "scattergl": [
           {
            "marker": {
             "colorbar": {
              "outlinewidth": 0,
              "ticks": ""
             }
            },
            "type": "scattergl"
           }
          ],
          "scattermap": [
           {
            "marker": {
             "colorbar": {
              "outlinewidth": 0,
              "ticks": ""
             }
            },
            "type": "scattermap"
           }
          ],
          "scattermapbox": [
           {
            "marker": {
             "colorbar": {
              "outlinewidth": 0,
              "ticks": ""
             }
            },
            "type": "scattermapbox"
           }
          ],
          "scatterpolar": [
           {
            "marker": {
             "colorbar": {
              "outlinewidth": 0,
              "ticks": ""
             }
            },
            "type": "scatterpolar"
           }
          ],
          "scatterpolargl": [
           {
            "marker": {
             "colorbar": {
              "outlinewidth": 0,
              "ticks": ""
             }
            },
            "type": "scatterpolargl"
           }
          ],
          "scatterternary": [
           {
            "marker": {
             "colorbar": {
              "outlinewidth": 0,
              "ticks": ""
             }
            },
            "type": "scatterternary"
           }
          ],
          "surface": [
           {
            "colorbar": {
             "outlinewidth": 0,
             "ticks": ""
            },
            "colorscale": [
             [
              0,
              "#0d0887"
             ],
             [
              0.1111111111111111,
              "#46039f"
             ],
             [
              0.2222222222222222,
              "#7201a8"
             ],
             [
              0.3333333333333333,
              "#9c179e"
             ],
             [
              0.4444444444444444,
              "#bd3786"
             ],
             [
              0.5555555555555556,
              "#d8576b"
             ],
             [
              0.6666666666666666,
              "#ed7953"
             ],
             [
              0.7777777777777778,
              "#fb9f3a"
             ],
             [
              0.8888888888888888,
              "#fdca26"
             ],
             [
              1,
              "#f0f921"
             ]
            ],
            "type": "surface"
           }
          ],
          "table": [
           {
            "cells": {
             "fill": {
              "color": "#EBF0F8"
             },
             "line": {
              "color": "white"
             }
            },
            "header": {
             "fill": {
              "color": "#C8D4E3"
             },
             "line": {
              "color": "white"
             }
            },
            "type": "table"
           }
          ]
         },
         "layout": {
          "annotationdefaults": {
           "arrowcolor": "#2a3f5f",
           "arrowhead": 0,
           "arrowwidth": 1
          },
          "autotypenumbers": "strict",
          "coloraxis": {
           "colorbar": {
            "outlinewidth": 0,
            "ticks": ""
           }
          },
          "colorscale": {
           "diverging": [
            [
             0,
             "#8e0152"
            ],
            [
             0.1,
             "#c51b7d"
            ],
            [
             0.2,
             "#de77ae"
            ],
            [
             0.3,
             "#f1b6da"
            ],
            [
             0.4,
             "#fde0ef"
            ],
            [
             0.5,
             "#f7f7f7"
            ],
            [
             0.6,
             "#e6f5d0"
            ],
            [
             0.7,
             "#b8e186"
            ],
            [
             0.8,
             "#7fbc41"
            ],
            [
             0.9,
             "#4d9221"
            ],
            [
             1,
             "#276419"
            ]
           ],
           "sequential": [
            [
             0,
             "#0d0887"
            ],
            [
             0.1111111111111111,
             "#46039f"
            ],
            [
             0.2222222222222222,
             "#7201a8"
            ],
            [
             0.3333333333333333,
             "#9c179e"
            ],
            [
             0.4444444444444444,
             "#bd3786"
            ],
            [
             0.5555555555555556,
             "#d8576b"
            ],
            [
             0.6666666666666666,
             "#ed7953"
            ],
            [
             0.7777777777777778,
             "#fb9f3a"
            ],
            [
             0.8888888888888888,
             "#fdca26"
            ],
            [
             1,
             "#f0f921"
            ]
           ],
           "sequentialminus": [
            [
             0,
             "#0d0887"
            ],
            [
             0.1111111111111111,
             "#46039f"
            ],
            [
             0.2222222222222222,
             "#7201a8"
            ],
            [
             0.3333333333333333,
             "#9c179e"
            ],
            [
             0.4444444444444444,
             "#bd3786"
            ],
            [
             0.5555555555555556,
             "#d8576b"
            ],
            [
             0.6666666666666666,
             "#ed7953"
            ],
            [
             0.7777777777777778,
             "#fb9f3a"
            ],
            [
             0.8888888888888888,
             "#fdca26"
            ],
            [
             1,
             "#f0f921"
            ]
           ]
          },
          "colorway": [
           "#636efa",
           "#EF553B",
           "#00cc96",
           "#ab63fa",
           "#FFA15A",
           "#19d3f3",
           "#FF6692",
           "#B6E880",
           "#FF97FF",
           "#FECB52"
          ],
          "font": {
           "color": "#2a3f5f"
          },
          "geo": {
           "bgcolor": "white",
           "lakecolor": "white",
           "landcolor": "#E5ECF6",
           "showlakes": true,
           "showland": true,
           "subunitcolor": "white"
          },
          "hoverlabel": {
           "align": "left"
          },
          "hovermode": "closest",
          "mapbox": {
           "style": "light"
          },
          "paper_bgcolor": "white",
          "plot_bgcolor": "#E5ECF6",
          "polar": {
           "angularaxis": {
            "gridcolor": "white",
            "linecolor": "white",
            "ticks": ""
           },
           "bgcolor": "#E5ECF6",
           "radialaxis": {
            "gridcolor": "white",
            "linecolor": "white",
            "ticks": ""
           }
          },
          "scene": {
           "xaxis": {
            "backgroundcolor": "#E5ECF6",
            "gridcolor": "white",
            "gridwidth": 2,
            "linecolor": "white",
            "showbackground": true,
            "ticks": "",
            "zerolinecolor": "white"
           },
           "yaxis": {
            "backgroundcolor": "#E5ECF6",
            "gridcolor": "white",
            "gridwidth": 2,
            "linecolor": "white",
            "showbackground": true,
            "ticks": "",
            "zerolinecolor": "white"
           },
           "zaxis": {
            "backgroundcolor": "#E5ECF6",
            "gridcolor": "white",
            "gridwidth": 2,
            "linecolor": "white",
            "showbackground": true,
            "ticks": "",
            "zerolinecolor": "white"
           }
          },
          "shapedefaults": {
           "line": {
            "color": "#2a3f5f"
           }
          },
          "ternary": {
           "aaxis": {
            "gridcolor": "white",
            "linecolor": "white",
            "ticks": ""
           },
           "baxis": {
            "gridcolor": "white",
            "linecolor": "white",
            "ticks": ""
           },
           "bgcolor": "#E5ECF6",
           "caxis": {
            "gridcolor": "white",
            "linecolor": "white",
            "ticks": ""
           }
          },
          "title": {
           "x": 0.05
          },
          "xaxis": {
           "automargin": true,
           "gridcolor": "white",
           "linecolor": "white",
           "ticks": "",
           "title": {
            "standoff": 15
           },
           "zerolinecolor": "white",
           "zerolinewidth": 2
          },
          "yaxis": {
           "automargin": true,
           "gridcolor": "white",
           "linecolor": "white",
           "ticks": "",
           "title": {
            "standoff": 15
           },
           "zerolinecolor": "white",
           "zerolinewidth": 2
          }
         }
        },
        "title": {
         "text": "Cumulative Variance Explained by PCA Components"
        },
        "xaxis": {
         "anchor": "y",
         "domain": [
          0,
          1
         ],
         "title": {
          "text": "Number of Components"
         }
        },
        "yaxis": {
         "anchor": "x",
         "domain": [
          0,
          1
         ],
         "title": {
          "text": "Cumulative Variance"
         }
        }
       }
      }
     },
     "metadata": {},
     "output_type": "display_data"
    }
   ],
   "source": [
    "print(f\"sparsity_ratio: {sparsity_ratio(matrix):.4f}\")\n",
    "print(f\"intrisic_dimensionality_ratio: {intrisic_dimensionality_ratio(matrix):.4f}\")\n",
    "cumulative_variance_plot(matrix)"
   ]
  },
  {
   "cell_type": "markdown",
   "id": "327e8b8c",
   "metadata": {},
   "source": [
    "MNISTデータセットはスパース性が高く、表現に必要な次元も20%は必要. 表データよりも可視化するのが難しいデータのタイプ\n",
    "2Dの可視化だと全体の分散の16%しか表現できない"
   ]
  },
  {
   "cell_type": "markdown",
   "id": "bf5dfabc",
   "metadata": {},
   "source": [
    "# 投影の品質評価関数"
   ]
  },
  {
   "cell_type": "code",
   "execution_count": null,
   "id": "426d63b8",
   "metadata": {},
   "outputs": [],
   "source": [
    "\n",
    "import numpy as np\n",
    "from sklearn.metrics import pairwise_distances\n",
    "from sklearn.neighbors import NearestNeighbors\n",
    "\n",
    "# 信頼性\n",
    "def trustworthiness(X, X_proj, n_neighbors=7):\n",
    "    N = X.shape[0]\n",
    "    # Original and projected distances\n",
    "    dist_X = pairwise_distances(X)\n",
    "    dist_proj = pairwise_distances(X_proj)\n",
    "\n",
    "    # Rank of distances\n",
    "    rank_X = np.argsort(np.argsort(dist_X, axis=1), axis=1)\n",
    "    \n",
    "    # K-nearest neighbors in projected space\n",
    "    nn_proj = NearestNeighbors(n_neighbors=n_neighbors+1).fit(X_proj)\n",
    "    neighbors_proj = nn_proj.kneighbors(return_distance=False)[:, 1:]\n",
    "\n",
    "    # For each i, for each neighbor in projection, get the rank in original space\n",
    "    t_sum = 0\n",
    "    for i in range(N):\n",
    "        for j in neighbors_proj[i]:\n",
    "            r = rank_X[i, j]\n",
    "            if r >= n_neighbors:\n",
    "                t_sum += r - n_neighbors + 1\n",
    "    \n",
    "    norm = 2 / (N * n_neighbors * (2 * N - 3 * n_neighbors - 1))\n",
    "    T = 1 - norm * t_sum\n",
    "    return T\n",
    "\n",
    "\n",
    "\n",
    "# 連続性\n",
    "def continuity(X, X_proj, n_neighbors=7):\n",
    "    N = X.shape[0]\n",
    "    # Original and projected distances\n",
    "    dist_X = pairwise_distances(X)\n",
    "    dist_proj = pairwise_distances(X_proj)\n",
    "\n",
    "    # Rank of distances in projected space\n",
    "    rank_proj = np.argsort(np.argsort(dist_proj, axis=1), axis=1)\n",
    "\n",
    "    # K-nearest neighbors in original space\n",
    "    nn_orig = NearestNeighbors(n_neighbors=n_neighbors+1).fit(X)\n",
    "    neighbors_orig = nn_orig.kneighbors(return_distance=False)[:, 1:]\n",
    "\n",
    "    c_sum = 0\n",
    "    for i in range(N):\n",
    "        for j in neighbors_orig[i]:\n",
    "            r = rank_proj[i, j]\n",
    "            if r >= n_neighbors:\n",
    "                c_sum += r - n_neighbors + 1\n",
    "    \n",
    "    norm = 2 / (N * n_neighbors * (2 * N - 3 * n_neighbors - 1))\n",
    "    C = 1 - norm * c_sum\n",
    "    return C\n",
    "\n",
    "# ストレス係数: 元の距離行列と射影後の距離行列の差を測る指標\n",
    "def normalized_stress(X, X_proj):\n",
    "    D_n = pairwise_distances(X)\n",
    "    D_q = pairwise_distances(X_proj)\n",
    "    numerator = np.sum((D_n - D_q) ** 2)\n",
    "    denominator = np.sum(D_n ** 2)\n",
    "    return numerator / denominator\n",
    "\n",
    "\n",
    "\n",
    "# Shepard Diagram helper (returns distances in original and projected space)\n",
    "def shepard_diagram_data(X, X_proj):\n",
    "    D_n = pairwise_distances(X)\n",
    "    D_q = pairwise_distances(X_proj)\n",
    "    # Use upper triangle without diagonal to avoid redundancy\n",
    "    i_upper = np.triu_indices_from(D_n, k=1)\n",
    "    return D_n[i_upper], D_q[i_upper]\n",
    "\n",
    "# Average Local Error (optional, related to trustworthiness-like structure)\n",
    "def average_local_error(X, X_proj, n_neighbors=5):\n",
    "    N = X.shape[0]\n",
    "    dist_X = pairwise_distances(X)\n",
    "    dist_proj = pairwise_distances(X_proj)\n",
    "\n",
    "    nn_orig = NearestNeighbors(n_neighbors=n_neighbors+1).fit(X)\n",
    "    neighbors_orig = nn_orig.kneighbors(return_distance=False)[:, 1:]\n",
    "\n",
    "    error_sum = 0\n",
    "    for i in range(N):\n",
    "        for j in neighbors_orig[i]:\n",
    "            error_sum += abs(dist_X[i, j] - dist_proj[i, j])\n",
    "    \n",
    "    return error_sum / (N * n_neighbors)\n",
    "\n",
    "### ラベルあり ###\n",
    "\n",
    "# シルエットスコア\n",
    "from sklearn.metrics import silhouette_score\n",
    "def silhouette(X_proj, labels):\n",
    "    return silhouette_score(X_proj, labels)\n",
    "\n",
    "# Neiborhood hit :次元削減した空間で、近傍点が同じラベルかどうか\n",
    "def neighborhood_hit(X_proj, labels, n_neighbors=7):\n",
    "    N = X_proj.shape[0]\n",
    "    nn = NearestNeighbors(n_neighbors=n_neighbors+1).fit(X_proj)\n",
    "    neighbors = nn.kneighbors(return_distance=False)[:, 1:]\n",
    "\n",
    "    hit_sum = 0\n",
    "    for i in range(N):\n",
    "        hit_sum += np.sum(labels[neighbors[i]] == labels[i])\n",
    "\n",
    "    return hit_sum / (N * n_neighbors)\n",
    "\n",
    "from scipy.stats import spearmanr, pearsonr\n",
    "\n",
    "def cluster_center(X, labels):\n",
    "    unique_labels = np.unique(labels)\n",
    "    centers = np.array([X[labels == lbl].mean(axis=0) for lbl in unique_labels])\n",
    "    return centers, unique_labels\n",
    "\n",
    "# クラスタ中心間距離の相関\n",
    "def cluster_center_distance_correlation(X, X_proj, labels):\n",
    "    unique_labels = np.unique(labels)\n",
    "    n_clusters = len(unique_labels)\n",
    "\n",
    "    # クラスタ中心の計算\n",
    "    centers_X, unique_labels = cluster_center(X, labels)\n",
    "    centers_X_proj = cluster_center(X_proj, labels)[0]\n",
    "\n",
    "    # クラスタ中心間の距離行列\n",
    "    dist_centers_X = pairwise_distances(centers_X)\n",
    "    dist_centers_X_proj = pairwise_distances(centers_X_proj)\n",
    "\n",
    "    # 上三角行列の要素を取得\n",
    "    i_upper = np.triu_indices_from(dist_centers_X, k=1)\n",
    "    dists_X = dist_centers_X[i_upper]\n",
    "    dists_X_proj = dist_centers_X_proj[i_upper]\n",
    "\n",
    "    # 相関計算\n",
    "    spearman_corr, _ = spearmanr(dists_X, dists_X_proj)\n",
    "    pearson_corr, _ = pearsonr(dists_X, dists_X_proj)\n",
    "\n",
    "    return spearman_corr, pearson_corr\n",
    "\n",
    "\n",
    "\n"
   ]
  },
  {
   "cell_type": "code",
   "execution_count": 25,
   "id": "c4042842",
   "metadata": {},
   "outputs": [],
   "source": [
    "\n",
    "\n",
    "import numpy as np\n",
    "from sklearn.metrics import pairwise_distances\n",
    "from sklearn.manifold import trustworthiness as _sk_trustworthiness\n",
    "from scipy.stats import spearmanr, pearsonr\n",
    "from scipy.sparse.csgraph import shortest_path\n",
    "\n",
    "# ---- 共通前処理 ----\n",
    "def _pairwise(X, metric=\"euclidean\"):\n",
    "    D = pairwise_distances(X, metric=metric)\n",
    "    np.fill_diagonal(D, 0.0)\n",
    "    return D\n",
    "\n",
    "def _rank_matrix(D):\n",
    "    # 小さい距離ほど小さい順位（自身除外）\n",
    "    n = D.shape[0]\n",
    "    order = np.argsort(D, axis=1)\n",
    "    ranks = np.empty_like(order)\n",
    "    ranks[np.arange(n)[:, None], order] = np.arange(n)[None, :]\n",
    "    return ranks\n",
    "\n",
    "def _flatten_upper(M):\n",
    "    idx = np.triu_indices_from(M, k=1)\n",
    "    return M[idx]\n",
    "\n",
    "# ---- 距離ベース ----\n",
    "def stress(X, Y, metric=\"euclidean\"):\n",
    "    DX, DY = _pairwise(X, metric), _pairwise(Y, metric)\n",
    "    num = np.sum((DX - DY) ** 2) / 2\n",
    "    den = np.sum(DX ** 2) / 2 + 1e-12\n",
    "    return np.sqrt(num / den)  # Kruskal normalized stress-1 に相当\n",
    "\n",
    "def normalized_stress(X, Y, metric=\"euclidean\"):\n",
    "    # Sammon ではなくKruskal系の正規化（上と同じだが名前を分けておく）\n",
    "    return stress(X, Y, metric=metric)\n",
    "\n",
    "def sammon_stress(X, Y, metric=\"euclidean\", eps=1e-12):\n",
    "    DX, DY = _pairwise(X, metric), _pairwise(Y, metric)\n",
    "    w = 1.0 / (DX + eps)\n",
    "    num = np.sum(w * (DX - DY) ** 2) / 2\n",
    "    den = np.sum(DX) + eps\n",
    "    return num / den\n",
    "\n",
    "def pearson_corr_of_distances(X, Y, metric=\"euclidean\"):\n",
    "    a = _flatten_upper(_pairwise(X, metric))\n",
    "    b = _flatten_upper(_pairwise(Y, metric))\n",
    "    r, _ = pearsonr(a, b)\n",
    "    return r\n",
    "\n",
    "def spearman_corr_of_distances(X, Y, metric=\"euclidean\"):\n",
    "    a = _flatten_upper(_pairwise(X, metric))\n",
    "    b = _flatten_upper(_pairwise(Y, metric))\n",
    "    r, _ = spearmanr(a, b)\n",
    "    return r\n",
    "\n",
    "def shepard_diagram_data(X, Y, metric=\"euclidean\"):\n",
    "    # 散布図用に (d_high, d_low) のペアを返す\n",
    "    a = _flatten_upper(_pairwise(X, metric))\n",
    "    b = _flatten_upper(_pairwise(Y, metric))\n",
    "    return a, b\n",
    "\n",
    "# ---- 近傍保存ファミリ ----\n",
    "def trustworthiness(X, Y, n_neighbors=15, metric=\"euclidean\"):\n",
    "    return _sk_trustworthiness(X, Y, n_neighbors=n_neighbors, metric=metric)\n",
    "\n",
    "def continuity(X, Y, n_neighbors=15, metric=\"euclidean\"):\n",
    "    # Lee & Verleysen (2009) 定義\n",
    "    DX, DY = _pairwise(X, metric), _pairwise(Y, metric)\n",
    "    RX, RY = _rank_matrix(DX), _rank_matrix(DY)\n",
    "    n = X.shape[0]; k = n_neighbors\n",
    "    # 高次元で近傍だが低次元で外れたものの順位超過 (intrusions)\n",
    "    C = 0.0\n",
    "    for i in range(n):\n",
    "        N_hi = set(np.argsort(DX[i])[1:k+1])  # 自身除外\n",
    "        ranks_low = RY[i]\n",
    "        # 低次元で近傍外のうち高次元近傍にいた点\n",
    "        intrusions = [j for j in N_hi if ranks_low[j] > k]\n",
    "        C += np.sum(ranks_low[intrusions] - k)\n",
    "    norm = n * k * (2*n - 3*k - 1)\n",
    "    return 1.0 - (2.0 / norm) * C\n",
    "\n",
    "def neighborhood_hit(Y, labels, n_neighbors=15, metric=\"euclidean\"):\n",
    "    DY = _pairwise(Y, metric)\n",
    "    n = Y.shape[0]; k = n_neighbors\n",
    "    hit = 0\n",
    "    for i in range(n):\n",
    "        nbrs = np.argsort(DY[i])[1:k+1]\n",
    "        hit += np.mean(labels[nbrs] == labels[i])\n",
    "    return hit / n\n",
    "\n",
    "def average_local_error(X, Y, n_neighbors=15, metric=\"euclidean\", eps=1e-12):\n",
    "    DX, DY = _pairwise(X, metric), _pairwise(Y, metric)\n",
    "    n = X.shape[0]; k = n_neighbors\n",
    "    errs = []\n",
    "    for i in range(n):\n",
    "        nbrs = np.argsort(DX[i])[1:k+1]\n",
    "        rel = np.abs(DX[i, nbrs] - DY[i, nbrs]) / (DX[i, nbrs] + eps)\n",
    "        errs.append(np.mean(rel))\n",
    "    return float(np.mean(errs))\n",
    "\n",
    "# ---- co-ranking / LCMC / R_NX 曲線 ----\n",
    "def coranking_matrix(X, Y, metric=\"euclidean\"):\n",
    "    RX, RY = _rank_matrix(_pairwise(X, metric)), _rank_matrix(_pairwise(Y, metric))\n",
    "    n = X.shape[0]\n",
    "    Q = np.zeros((n-1, n-1), dtype=int)\n",
    "    for i in range(n):\n",
    "        for j in range(n):\n",
    "            if i == j: \n",
    "                continue\n",
    "            k = RX[i, j]  # 0..n-1\n",
    "            l = RY[i, j]\n",
    "            if k > 0 and l > 0:\n",
    "                Q[k-1, l-1] += 1\n",
    "    return Q\n",
    "\n",
    "def R_NX_curve(X, Y, Ks=None, metric=\"euclidean\"):\n",
    "    # Chen & Buja の Q_NX（=R_NX）: 近傍オーバーラップ率\n",
    "    n = X.shape[0]\n",
    "    if Ks is None:\n",
    "        Ks = np.arange(1, min(n-1, 100)+1)\n",
    "    DX, DY = _pairwise(X, metric), _pairwise(Y, metric)\n",
    "    R = []\n",
    "    for K in Ks:\n",
    "        overlap = 0\n",
    "        for i in range(n):\n",
    "            NX = set(np.argsort(DX[i])[1:K+1])\n",
    "            NY = set(np.argsort(DY[i])[1:K+1])\n",
    "            overlap += len(NX & NY) / K\n",
    "        R.append(overlap / n)\n",
    "    return np.array(Ks), np.array(R)\n",
    "\n",
    "def LCMC(X, Y, Ks=None, metric=\"euclidean\"):\n",
    "    Ks, R = R_NX_curve(X, Y, Ks, metric)\n",
    "    n = X.shape[0]\n",
    "    baseline = Ks / (n - 1)\n",
    "    return Ks, (R - baseline)\n",
    "\n",
    "def AUC_R_NX(X, Y, K_max=None, metric=\"euclidean\"):\n",
    "    n = X.shape[0]\n",
    "    if K_max is None:\n",
    "        K_max = min(n-2, 100)\n",
    "    Ks, L = LCMC(X, Y, np.arange(1, K_max+1), metric)\n",
    "    # 0..K_max にわたる平均（台形則）\n",
    "    # auc = np.trapz(L, Ks) / K_max\n",
    "    auc = np.trapezoid(L, Ks) / K_max\n",
    "    return float(auc)\n",
    "\n",
    "# ---- KL（t-SNE 風，確率化して KL(P || Q)）----\n",
    "def tsne_kl_divergence(X, Y, perplexity=30.0, metric=\"euclidean\", eps=1e-12):\n",
    "    def _Hs(P):\n",
    "        P = P + eps\n",
    "        return -np.sum(P * np.log2(P))\n",
    "    # 高次元：ガウスカーネルで目標perplexity\n",
    "    DX = _pairwise(X, metric)\n",
    "    n = DX.shape[0]\n",
    "    sigmas = np.full(n, 1.0)\n",
    "    PX = np.zeros((n, n))\n",
    "    targetH = np.log2(perplexity)\n",
    "\n",
    "    for i in range(n):\n",
    "        beta_min, beta_max = -np.inf, np.inf\n",
    "        beta = 1.0  # = 1/(2 sigma^2)\n",
    "        Di = np.delete(DX[i], i)\n",
    "        for _ in range(50):\n",
    "            Pi = np.exp(-Di * beta)\n",
    "            Pi /= np.sum(Pi)\n",
    "            H = _Hs(Pi)\n",
    "            if np.abs(H - targetH) < 1e-3:\n",
    "                break\n",
    "            if H > targetH:\n",
    "                beta_min = beta\n",
    "                beta = beta * 2 if beta_max == np.inf else (beta + beta_max) / 2\n",
    "            else:\n",
    "                beta_max = beta\n",
    "                beta = beta / 2 if beta_min == -np.inf else (beta + beta_min) / 2\n",
    "        row = np.zeros(n); row[np.arange(n)!=i] = Pi\n",
    "        PX[i] = row\n",
    "    PX = (PX + PX.T) / (2*np.sum(PX))\n",
    "\n",
    "    # 低次元：t 分布（1 自由度，学生のt）\n",
    "    DY = _pairwise(Y, metric)\n",
    "    Q = 1 / (1 + DY**2); np.fill_diagonal(Q, 0.0)\n",
    "    Q /= np.sum(Q)\n",
    "\n",
    "    # KL(P||Q)\n",
    "    mask = PX > 0\n",
    "    return float(np.sum(PX[mask] * (np.log(PX[mask] + eps) - np.log(Q[mask] + eps))))\n",
    "\n",
    "# ---- グラフ系（kNN 精度・再現率・重なり）----\n",
    "def knn_graph_metrics(X, Y, k=15, metric=\"euclidean\"):\n",
    "    DX, DY = _pairwise(X, metric), _pairwise(Y, metric)\n",
    "    n = X.shape[0]\n",
    "    precs, recs, jaccs = [], [], []\n",
    "    for i in range(n):\n",
    "        NX = set(np.argsort(DX[i])[1:k+1])\n",
    "        NY = set(np.argsort(DY[i])[1:k+1])\n",
    "        inter = len(NX & NY)\n",
    "        precs.append(inter / k)\n",
    "        recs.append(inter / k)\n",
    "        jaccs.append(inter / (len(NX | NY)))\n",
    "    return dict(precision=float(np.mean(precs)),\n",
    "                recall=float(np.mean(recs)),\n",
    "                jaccard=float(np.mean(jaccs)))\n",
    "\n",
    "def shortest_path_correlation(X, Y, k=10, metric=\"euclidean\"):\n",
    "    # kNN グラフ上の最短路長の相関（グローバル位相の保全を見る）\n",
    "    def _sp(D):\n",
    "        n = D.shape[0]\n",
    "        A = np.full_like(D, np.inf, dtype=float)\n",
    "        idx = np.argsort(D, axis=1)[:, 1:k+1]\n",
    "        rows = np.repeat(np.arange(n), k)\n",
    "        cols = idx.ravel()\n",
    "        A[rows, cols] = D[rows, cols]\n",
    "        A[cols, rows] = D[rows, cols]\n",
    "        np.fill_diagonal(A, 0.0)\n",
    "        return shortest_path(A, directed=False, unweighted=False)\n",
    "    SX, SY = _sp(_pairwise(X, metric)), _sp(_pairwise(Y, metric))\n",
    "    a, b = _flatten_upper(SX), _flatten_upper(SY)\n",
    "    r, _ = spearmanr(a, b)\n",
    "    return r\n",
    "\n",
    "# ---- ランク誤差（MRRE の簡易版）----\n",
    "def mean_rank_error(X, Y, n_neighbors=15, metric=\"euclidean\"):\n",
    "    RX, RY = _rank_matrix(_pairwise(X, metric)), _rank_matrix(_pairwise(Y, metric))\n",
    "    n = X.shape[0]; k = n_neighbors\n",
    "    errs = []\n",
    "    for i in range(n):\n",
    "        nbrs = np.argsort(RX[i])[1:k+1]\n",
    "        errs.append(np.mean(np.abs(RX[i, nbrs] - RY[i, nbrs])))\n",
    "    return float(np.mean(errs))\n"
   ]
  },
  {
   "cell_type": "code",
   "execution_count": 29,
   "id": "ff245172",
   "metadata": {},
   "outputs": [
    {
     "name": "stdout",
     "output_type": "stream",
     "text": [
      "Stress: 0.7939911487400045\n",
      "Pearson r(dist): 0.22125852573322433\n",
      "Spearman r(dist): 0.19838878508234725\n",
      "Trustworthiness@15: 0.6024328215626066\n",
      "Continuity@15: 0.6716337086318662\n",
      "Neighborhood hit@15: 0.19613333333333333\n",
      "AUC-R_NX: 0.041445017424339\n",
      "t-SNE KL: 3.2056031001582896\n"
     ]
    }
   ],
   "source": [
    "X = np.random.rand(1000, 50)\n",
    "# Y = np.random.rand(1000, 2)\n",
    "Y = PCA(n_components=2).fit_transform(X)\n",
    "labels = np.random.randint(0, 5, size=1000)\n",
    "\n",
    "# X: (n,D), Y: (n,d), labels: (n,)\n",
    "print(\"Stress:\", stress(X, Y))\n",
    "print(\"Pearson r(dist):\", pearson_corr_of_distances(X, Y))\n",
    "print(\"Spearman r(dist):\", spearman_corr_of_distances(X, Y))\n",
    "print(\"Trustworthiness@15:\", trustworthiness(X, Y, 15))\n",
    "print(\"Continuity@15:\", continuity(X, Y, 15))\n",
    "print(\"Neighborhood hit@15:\", neighborhood_hit(Y, labels, 15))\n",
    "print(\"AUC-R_NX:\", AUC_R_NX(X, Y))\n",
    "print(\"t-SNE KL:\", tsne_kl_divergence(X, Y, perplexity=30))\n"
   ]
  },
  {
   "cell_type": "code",
   "execution_count": 32,
   "id": "cc1c31d9",
   "metadata": {},
   "outputs": [
    {
     "name": "stdout",
     "output_type": "stream",
     "text": [
      "Stress: 0.04179644853519415\n",
      "Pearson r(dist): 0.9983836039716812\n",
      "Spearman r(dist): 0.9957991157922617\n",
      "Trustworthiness@15: 0.9859597550306212\n",
      "Continuity@15: 0.9928853893263342\n",
      "Neighborhood hit@15: 0.9239999999999999\n",
      "AUC-R_NX: 0.5700286564597843\n",
      "t-SNE KL: 0.5977758962047521\n"
     ]
    }
   ],
   "source": [
    "# iris\n",
    "from sklearn.datasets import load_iris\n",
    "data = load_iris()\n",
    "X = data.data\n",
    "labels = data.target\n",
    "Y = PCA(n_components=2).fit_transform(X)\n",
    "from sklearn.manifold import TSNE\n",
    "# Y = TSNE(n_components=2, random_state=0).fit_transform(X)\n",
    "\n",
    "print(\"Stress:\", stress(X, Y))\n",
    "print(\"Pearson r(dist):\", pearson_corr_of_distances(X, Y))\n",
    "print(\"Spearman r(dist):\", spearman_corr_of_distances(X, Y))\n",
    "print(\"Trustworthiness@15:\", trustworthiness(X, Y, 15))\n",
    "print(\"Continuity@15:\", continuity(X, Y, 15))\n",
    "print(\"Neighborhood hit@15:\", neighborhood_hit(Y, labels, 15))\n",
    "print(\"AUC-R_NX:\", AUC_R_NX(X, Y))\n",
    "print(\"t-SNE KL:\", tsne_kl_divergence(X, Y, perplexity=30))\n"
   ]
  },
  {
   "cell_type": "code",
   "execution_count": null,
   "id": "9982b19a",
   "metadata": {},
   "outputs": [
    {
     "data": {
      "application/vnd.plotly.v1+json": {
       "config": {
        "plotlyServerURL": "https://plot.ly"
       },
       "data": [
        {
         "hovertemplate": "0=%{x}<br>1=%{y}<br>color=%{marker.color}<extra></extra>",
         "legendgroup": "",
         "marker": {
          "color": {
           "bdata": "BQAEAQkCAQMBBAMFAwYBBwIIBgkEAAkBAQIEAwIHAwgGCQAFBgAHBgEIBwkDCQgFCQMDAAcECQgACQQBBAQGAAQFBgEAAAEHAQYDAAIBAQcJAAIGBwgDCQAEBgcEBggABwgDAQUHAQcBAQYDAAIJAwEBAAQJAgAAAgACBwEIBgQBBgMEBQkBAwMIBQQHBwQCCAUIBgcDBAYBCQkGAAMHAggCCQQEBgQJBwAJAgkFAQUJAQIDAgMFCQEHBgIIAgIFAAcECQcIAwIBAQgDBgEAAwEAAAEHAgcDAAQGBQIGBAcBCAkJAwAHAQACAAMFBAYFCAYDBwUIAAkBAAMBAgIDAwYEBwUABgIHCQgFCQIBAQQEBQYEAQIFAwkDCQAFCQYFBwQBAwQABAgABAMGCAcGAAkHBQcCAQEGCAkEAQUCAgkAAwkGBwIAAwUEAwYFCAkFBAcEAgcDBAgJAQkCCAcJAQgHBAEDAQEAAgMJBAkCAQYIBAcHBAQJAgUHAgQEAgEJBwIIBwYJAgIDCAEGBQEBAAIGBAUIAwEFAQkCBwQEBAgBBQgJBQYHCQkDBwAJAAYGAgMJAAcFBAgACQQBAggHAQIGAQADAAEBCAIAAwkEAAUABgEHBwgBCQIABQECAgcDBQQJBwEIAwkGAAMBAQIGAwUHBggDCQUIBQcGAQEDAQcFBQUCBQgHAAkHBwUACQAACAkCBAgBBgEGBQEIAwQABQUIAwYCAwkCAQEFAgEDAggHAwcCBAYJBwIEAggBAQMIBAAGBQkDAAkCBAcBAgkEAgYBCAkABgYHCQkIAAEEBAYHAQUHAAMFCAQHAQIFCQUGBwUJCAgDBgkHAAcFBwEBAAcJAgMHAwIEAQYCBwUFBwQAAgYDBgQABAIGAAAAAAMBBgICAwEEAQUEBgQHAggHCQIABQEEAggDAgQBBQQGAAcJCAQJCAABAQACAgMCBAQFCAYFBwcICAkHBAcDAgAIBggGAQYICQQACQAEAQUEBwUDBwQJCAUIBgMIBgkJAQgDBQgGBQkHAgUACAUBAQAJAQgGBwAJAwAICAkGBwgEBwUJAgYHBAUJAgMBBgMJAgIFBggABwcBCQgHAAkJBAYCCAUBBAEFBQEHAwYEAwIFBgQEAAQEBgcCBAMDCAAAAwICCQgCAwcAAQEAAgMDCAQDBQcGBAcHCAUJBwADAQYCBAMEBAcFCQYJAAcBBAIHAwYHBQgEBQUCBwEBBQYIBQgEAAcJCQIJBwcIBwQCBgkBBwAGBAIFBwAHAQADBwYFAAYBBQEHCAUAAwQHBwUHCAYJAwgGAQAJBwEDAAUGBAQCBAQDAQcHBgADBgAHAQEECQQDBAgCAgEIBwAIAQAHBgMHBwUICAkAAAQBBQICAwkECQUABgcHAQgAAgIABAEBAgcDCQcCCAEJBQgIAQkIAwEGBQcEAgcAAwAEAQEHCQEBCAUHBQAGBgAEAQIDBAQGCAAJBQgHAAMFBAUJBgcBCQYBAwgDCQECBwcHAAIDAQEEAgUGAAkGAggJAgMDBgkBBAMDAAcHAQcHAwYECQUEBAIHCQAJCAQECQECBAkDAAQBBgIGAwcEAgYGBwEICQAEAQQCAQMGBAYHBQgHAAUBBAIIBAcHAwgECQUIBgcDBAYHAQcEAwMJCAgBCAYDAQEDBQIIBAIJBwEECAIJBgQBAwQCBQIFBggABgIECQQJBAUBBQgEBwkFCQUJAQUIAwkJAQgDCAYFAgcCBwYACQcJBAYABQMFBwMJAwYIAwEHBgUFBwYFCAIBBwkCBwMGBwgFAwcHCAQABwMABgMJBwEJBQMGAAkCCAAJAQYAAAEJAAAEAgEHAAMEBAcFCQgCAAAIBgICBwYBAgkCBgkHCQUACAEFAgQDCQQHBQYGBwcGCAUJBwAGAQkCAwMFBAMFCAYDBwIIBAkFAAIBBAIEAwEHAQgACQYIAQkEBAkBCAkGBQUDAwABBAMIAwQCAAcFBQEIBQMEBgAFBwIGBgABAQQHCQAABgYIBgkEBQIEAAcFBgUACQgGAQkHBQcFAQEDAAIAAwgBBgQGAgYECAgBBAQHAQICAwkGBAkFBgIDCQIGAgcEAwYECQcAAgIJBQQFAAEEAwYDAgkHBQMHAAkFCAMCAAEIAwABAgMEAAABBwIJAwkEAgUIBgcHCQgJCQIAAAEEAgQDCQQDBQcGBQcBCAYJAwAEAQICBQMHBAEHBwgBCQIDAgQAAQgEAwYFBgQHCQMBAwACAQEACQkEBgcGAwUFBAQGCQEBAwEBAAUBBAQGBgYAAQIACAICAQEDBwkFAwACAAYCCQAHBgkJAQIJAwQHCQYACQQIBwcJCAYJBQICAgMJCAgIBgQEBAQCBAYABwAHCAIACAgDBggGBggGBQEBCAcIAwYICQUAAAADAgYGBwgDBQEEAwUJBAUEAQEFBAAJBwECBQcJBAADBgEHBwUGAwABAQQCBAMGBAcFBwYJBwIIBAkIAAcBAQIDAwUEBgUABgMHAwgCCQAACQECAgkDCQQGBQIGBgcGCAIJAgAGBwIIBgkACQYAAwEBBAkFCAEABgYHAgMEAgMJAAAEBQAGBAcEAwEJAwkJAwEIBwEHAggJCQYCBwIFAAYHAwkFCQAIBQgECQAFAwIECAcEAQUEBgMHBwkGBgICAQYFBAUDAAUFAgAFCAgEAgYJBwEAAgMBCAcBCAIHAgYDAgMHBggHBQMIBAQJBAYEBQUBAQkDCAYBBAEHBQQABAIHBwUIAAYJBgYIBwIACAgECAQEAgMCAwgCAAUAAAEAAgEDAwQHBQMGAQcGCAMJAAAHAQICBAMHBAEFAAYDBwkIBwkFAAEBCAIGAwMEAwUDBwEIAQkGCAkJBwUABwMABgMIAQYGAQgGBAYBAAcBBgQFAQYHBAgCBQcDCAQBBgMDBAUDAgQFBwECBAAABQgABgEBCQMCAQMEAgQDBAUIBQYHBggJBAAJBAkEBwQBBgEDBwMIAwMCBAQIBwYEAwYIBwAHCQUGBQIDAAQBBAAFBgECBgMECAUJBQACBwUCCQMEBAAFAgUFAgkIAwUCBAQGBwYEBgYHAAkGAQgIBQIBAQUCAAYJBQIDAQQBBwYJAgQGAAEABQUFCQIABAEBAgQDAAQCBQcGAgcHCAMJAAACAQECCAMEBAEFCQYBBwUICQkGAAEBBwIIAwcHCAgICQcGCAIEBwQBCAUABgkCCAUCAAAFBAQDAgEABQgFAQQHAgEECAYDBAgBBwUBAwcBBwkAAAEJBAAECAQIBQEHAQQCBAQJAgcDAgQGCQUBAwIJBAQDAwYJAgAGCAgHBQYGAwgABAQGBgcDBAcHAAYBBgEGAgAJBwMGAQMIAgkCCAcCCQUGAgIGBAkHBgMAAAUAAwEDAAYCAwMFAAAHAwQHBQYEAQQFAgUBCQUIBgAHCQQACQEDAgUDAwQGBQEGBwcHCAQJAwAAAQACAAMGBAYHBQgBCQQACAEJAgYDAQUABgQHCAgHCQYAAQAHAQUABQEAAgIDCAABBgMJBwYIBgYFCQIACQYBBQQCCQcFAwcBBQYGBwcDAwYBAgQHAQgDAgMIBwUDBwkICAYICAgCCAQIAQQFBwECAgEJCQUIAgcJCQcDBwMBAAYHCQUCBAEBAAEDAgkGBAEDBQkAAQEEAgMDAAQCBQMGBAcFAAABAgIHAwcEBwUGBgUHAwgBCQkABwEIAgADBAQDBQEGBwkFCAACAQYDCQMGAgECCQEJAwkJBAQEAgMJCAABBAQIAQICBwkDAAMEAwkGAQIHAAQGBAEBBAgDBwYGAgACCAgBBwgCAgcGBgIHAQACBAUBBAkFBgYABwIHBQUBAwEABAIBAgECBgcAAwYFAwIEAQAEAgQBAwQABgAFCAQHAAMBAQIHBgkFBgADBQMBAAEFBAYJBgMIBQcGAwEFCQACAQECCAMIBAAFBQYFBwcIAAkGAAkBCAIDAwQEAwUFBgUHAQgICQAAAgEGAgcDBwQHBwcIAQkECAYFAQcACQEFCQAICAEDAgUHBAcIAAMIAAACBAEJAAkCAAUICAgICQUIAwMABgQEBAgBAgYJAQYDAwAGAwQGAgkEAwYHBwQFCQIHCAABCQEEBAgEAwkCAgcBBwgJCQUIBwQGCQQECAgJBgYGCQQEAgEJAgAAAwYEAQIBCAYHBAUIAQkBBgMEBQYABQEAAQICAAYFBAYHBQIACAEJAggBAwcICAgBAgQIAwACBwgJAgIHCAkFAwYJAwACAQMCBQMEBAQFCQYFBwkIAwkEAAgBAAICAwkEBQUHBgIHBwgBAAcDBQQEBQMGBAcCCAEJBwYBAAkDAQQHAQkEBAACCAIGBwAABwcIBwcIBwkJAwAEBAAJAwkFBwYABwUBCAIFBwkECAQIBwcJBQAGBgUEAwkIBgEJBgcIAgUJCQICAQICAAkJBAIDBAkHAwMDAQkDBwYFBgACBgEDAgQGAwAIAgQCAgcBAQkDCQcEBAQICAkFAgMJBAUCBgYIBgAHAAQJBwEJAQAABQEBAgkDBQUDBgQJAgAGAQECAAMJBAMFAwYDBwEIBwAAAQECCQMFBAEFCAYDBwMIBwEHAAEBCAUAAwQECAQBAAcAAgYICQcGBAYDBQYEAQQEBAMAAwcBCQMFAQcCAwMBBgQIBAEACAkICQQGAgEBCAADAAgHCAQIBwgFCAgEBAcJBwkBCQkICAAHAAgHCQYDBwMGBQgFCQAGBwEJAAUCBgcFAQADBgkBAQQEAQMBAwIICAcCBQYBAQAFAgAJAQACCAMGBAIFAwYCBwUIAgkIAAYBCQIAAwEBCQUDBgkHCAgBAAEBAwIEAwAEAAUDBggHBwgHCQAGBAQDAgEGCAQABwUFCQUFBAcHAggBCQYCBQkGAwQJBgMDCAgCAgAJCQgIBAAEBQMGAgADAQIACQICBQUDAwUEAwgICAAHAAQFCQQAAwYEAAEJBQYDBAACCAIDAQAEBgcCAAcCAQQBBggHAQgHBAEAAwYIBAQDAgkACAkJBwIGBwcFBAMBAwYBCAkECAEGAggGBQcJAQYJBggAAAAGBwkHBAkJCQkHBgcCCAMGBwkBBwIBBQEDBwcACAYAAwEDAgYDCAQJBQYGAQcDCAIJBAACAQUCCQMCBAQFBwYIBwMIBwkCAAEBCQIHAwYEBgUFBgQHBQgICQcGBQIIBgkFAAQBAgIAAAgAAQIHAAECCAgDBwcAAQEHAQECBAkEAAUGBwYECQkHBwcCCAYDBQUDAgkBCQgAAggGBwIJBgADBgcDBwAFBAQGBwMGBwYAAQEBBAgIBggBAQACAQkIAwkBBQQFAggJBAgCAgkIBAYICQUCBAkHBgYDAQMJBgcDAAEFAggFAAABAwEBAQUCBQYJBwgDAAcJCQACAQYCCQMHBAgFBAYIBwcIAAkHAAUBCQIIAwYECQUIBgkHBQgBCQEAAwEBAgYDBwQFBQYGAgcACAgJAgYEAQYJCQkDCQIECQQIAwQIBQEABAABBgIGBQQABwkJBQEDCQAJBAUJAQEHBwQEBQQDAQMIAQcABgIABAgIAQYIAQIDBgMCCQABCQEBBwIBBQUEBgUEBwQHCAUEAwQAAgIFAgECBgcBAwUBBQQDBAYDBwABAAIECQcCCQYHAggGCAAHAAkABgkDBAEHBwQJAgYGAwMDAwEDAAQCBwYJAAMFAQYDBgQIBwcDAwgFCQgDAwQABwEGAgADCAcECAMJAgAHAwgEAAcBCAAABQEEAgEDBwQHBQEGBQcFCAkJCAUAAQUJBgkABwQBCQACCQgABwUDCQcHBwEHAwQGBwMAAgMAAAkEAAgGCQEDBwcCAAgHAwYECQcGBgcGCQMIAgcDAAgFCQkEAggECAgHBAEIAAEIBgcHBwcFAgkDAgYDBgEEAQYEBAUBBQIABQQDCAEHBwQFCQYCAgMGBgcECAEEAgQECAECBQABAgkIAwUCBwAEAAkCBwkEAwUGBAAJAQgCAQMHBAIFAgYHBwUICAkBAAEBAAIDAwEEBAUABgQHAAgBCQEAAwEDAgMDAwQCBQcGAgcGCAQJAQgGAAcFBwYABgEABggEAAQCAgMJBwYJBwQCBwMBAQkAAQUHBgEFAAQAAQQJAQMHBgUCBwIBCAMIAwgDAwEGBgAJBQcHBAkDBQAIAgUFAQIHBgkAAAgCCQYEBQMEBQcEBggFAQAFBAkDAAkGAwQIBgQIAwEGBAAHAQUCBwICAgIIAAEAAAEDBwYHAgkCBQUJCQgFCQcGAwgBCAkCBwMABggBAAIACQkICAkDBQECCAYIAgYEBQgCBAEGAQUGAAIBAgIAAwkEAgUGBwcIBQAEAQYCBwMDBAAFAwYDBwAIBAkAAAEBBQIJAwAEBAcFCAMBAQYBCAQJBgkBAAcBAAIGBAQEBAMHBwUECQQBBAMABwMECAQHBgUECAACBwEDBwEJBAEIAQkGBgIFAQQDCQgJBgYECQkHBAgCAwQEBAcGBwIFBQIFCAADAgAIAAACBgcICAEIBwMBAwYDBwAGAQgEBwcEAwkCAwYDAQUGCAcABAMABwkJBAcDBwEJCQEHBgAHBQgGAAkBAgIJAwAEAQUGBgEHAAgHCQYACQEGAgkDAgQFBQEGAQcHCAUJAQAEAQQCAwMBBAEFAAYHBwMICQUBAQEJBQkBBwEBBgAICQcAAgUDCQYHCAEABwMCAQI=",
           "dtype": "i1"
          },
          "coloraxis": "coloraxis",
          "symbol": "circle"
         },
         "mode": "markers",
         "name": "",
         "showlegend": false,
         "type": "scattergl",
         "x": {
          "bdata": "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",
          "dtype": "f8"
         },
         "xaxis": "x",
         "y": {
          "bdata": "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",
          "dtype": "f8"
         },
         "yaxis": "y"
        }
       ],
       "layout": {
        "coloraxis": {
         "colorbar": {
          "title": {
           "text": "color"
          }
         },
         "colorscale": [
          [
           0,
           "#0d0887"
          ],
          [
           0.1111111111111111,
           "#46039f"
          ],
          [
           0.2222222222222222,
           "#7201a8"
          ],
          [
           0.3333333333333333,
           "#9c179e"
          ],
          [
           0.4444444444444444,
           "#bd3786"
          ],
          [
           0.5555555555555556,
           "#d8576b"
          ],
          [
           0.6666666666666666,
           "#ed7953"
          ],
          [
           0.7777777777777778,
           "#fb9f3a"
          ],
          [
           0.8888888888888888,
           "#fdca26"
          ],
          [
           1,
           "#f0f921"
          ]
         ]
        },
        "legend": {
         "tracegroupgap": 0
        },
        "template": {
         "data": {
          "bar": [
           {
            "error_x": {
             "color": "#2a3f5f"
            },
            "error_y": {
             "color": "#2a3f5f"
            },
            "marker": {
             "line": {
              "color": "#E5ECF6",
              "width": 0.5
             },
             "pattern": {
              "fillmode": "overlay",
              "size": 10,
              "solidity": 0.2
             }
            },
            "type": "bar"
           }
          ],
          "barpolar": [
           {
            "marker": {
             "line": {
              "color": "#E5ECF6",
              "width": 0.5
             },
             "pattern": {
              "fillmode": "overlay",
              "size": 10,
              "solidity": 0.2
             }
            },
            "type": "barpolar"
           }
          ],
          "carpet": [
           {
            "aaxis": {
             "endlinecolor": "#2a3f5f",
             "gridcolor": "white",
             "linecolor": "white",
             "minorgridcolor": "white",
             "startlinecolor": "#2a3f5f"
            },
            "baxis": {
             "endlinecolor": "#2a3f5f",
             "gridcolor": "white",
             "linecolor": "white",
             "minorgridcolor": "white",
             "startlinecolor": "#2a3f5f"
            },
            "type": "carpet"
           }
          ],
          "choropleth": [
           {
            "colorbar": {
             "outlinewidth": 0,
             "ticks": ""
            },
            "type": "choropleth"
           }
          ],
          "contour": [
           {
            "colorbar": {
             "outlinewidth": 0,
             "ticks": ""
            },
            "colorscale": [
             [
              0,
              "#0d0887"
             ],
             [
              0.1111111111111111,
              "#46039f"
             ],
             [
              0.2222222222222222,
              "#7201a8"
             ],
             [
              0.3333333333333333,
              "#9c179e"
             ],
             [
              0.4444444444444444,
              "#bd3786"
             ],
             [
              0.5555555555555556,
              "#d8576b"
             ],
             [
              0.6666666666666666,
              "#ed7953"
             ],
             [
              0.7777777777777778,
              "#fb9f3a"
             ],
             [
              0.8888888888888888,
              "#fdca26"
             ],
             [
              1,
              "#f0f921"
             ]
            ],
            "type": "contour"
           }
          ],
          "contourcarpet": [
           {
            "colorbar": {
             "outlinewidth": 0,
             "ticks": ""
            },
            "type": "contourcarpet"
           }
          ],
          "heatmap": [
           {
            "colorbar": {
             "outlinewidth": 0,
             "ticks": ""
            },
            "colorscale": [
             [
              0,
              "#0d0887"
             ],
             [
              0.1111111111111111,
              "#46039f"
             ],
             [
              0.2222222222222222,
              "#7201a8"
             ],
             [
              0.3333333333333333,
              "#9c179e"
             ],
             [
              0.4444444444444444,
              "#bd3786"
             ],
             [
              0.5555555555555556,
              "#d8576b"
             ],
             [
              0.6666666666666666,
              "#ed7953"
             ],
             [
              0.7777777777777778,
              "#fb9f3a"
             ],
             [
              0.8888888888888888,
              "#fdca26"
             ],
             [
              1,
              "#f0f921"
             ]
            ],
            "type": "heatmap"
           }
          ],
          "histogram": [
           {
            "marker": {
             "pattern": {
              "fillmode": "overlay",
              "size": 10,
              "solidity": 0.2
             }
            },
            "type": "histogram"
           }
          ],
          "histogram2d": [
           {
            "colorbar": {
             "outlinewidth": 0,
             "ticks": ""
            },
            "colorscale": [
             [
              0,
              "#0d0887"
             ],
             [
              0.1111111111111111,
              "#46039f"
             ],
             [
              0.2222222222222222,
              "#7201a8"
             ],
             [
              0.3333333333333333,
              "#9c179e"
             ],
             [
              0.4444444444444444,
              "#bd3786"
             ],
             [
              0.5555555555555556,
              "#d8576b"
             ],
             [
              0.6666666666666666,
              "#ed7953"
             ],
             [
              0.7777777777777778,
              "#fb9f3a"
             ],
             [
              0.8888888888888888,
              "#fdca26"
             ],
             [
              1,
              "#f0f921"
             ]
            ],
            "type": "histogram2d"
           }
          ],
          "histogram2dcontour": [
           {
            "colorbar": {
             "outlinewidth": 0,
             "ticks": ""
            },
            "colorscale": [
             [
              0,
              "#0d0887"
             ],
             [
              0.1111111111111111,
              "#46039f"
             ],
             [
              0.2222222222222222,
              "#7201a8"
             ],
             [
              0.3333333333333333,
              "#9c179e"
             ],
             [
              0.4444444444444444,
              "#bd3786"
             ],
             [
              0.5555555555555556,
              "#d8576b"
             ],
             [
              0.6666666666666666,
              "#ed7953"
             ],
             [
              0.7777777777777778,
              "#fb9f3a"
             ],
             [
              0.8888888888888888,
              "#fdca26"
             ],
             [
              1,
              "#f0f921"
             ]
            ],
            "type": "histogram2dcontour"
           }
          ],
          "mesh3d": [
           {
            "colorbar": {
             "outlinewidth": 0,
             "ticks": ""
            },
            "type": "mesh3d"
           }
          ],
          "parcoords": [
           {
            "line": {
             "colorbar": {
              "outlinewidth": 0,
              "ticks": ""
             }
            },
            "type": "parcoords"
           }
          ],
          "pie": [
           {
            "automargin": true,
            "type": "pie"
           }
          ],
          "scatter": [
           {
            "fillpattern": {
             "fillmode": "overlay",
             "size": 10,
             "solidity": 0.2
            },
            "type": "scatter"
           }
          ],
          "scatter3d": [
           {
            "line": {
             "colorbar": {
              "outlinewidth": 0,
              "ticks": ""
             }
            },
            "marker": {
             "colorbar": {
              "outlinewidth": 0,
              "ticks": ""
             }
            },
            "type": "scatter3d"
           }
          ],
          "scattercarpet": [
           {
            "marker": {
             "colorbar": {
              "outlinewidth": 0,
              "ticks": ""
             }
            },
            "type": "scattercarpet"
           }
          ],
          "scattergeo": [
           {
            "marker": {
             "colorbar": {
              "outlinewidth": 0,
              "ticks": ""
             }
            },
            "type": "scattergeo"
           }
          ],
          "scattergl": [
           {
            "marker": {
             "colorbar": {
              "outlinewidth": 0,
              "ticks": ""
             }
            },
            "type": "scattergl"
           }
          ],
          "scattermap": [
           {
            "marker": {
             "colorbar": {
              "outlinewidth": 0,
              "ticks": ""
             }
            },
            "type": "scattermap"
           }
          ],
          "scattermapbox": [
           {
            "marker": {
             "colorbar": {
              "outlinewidth": 0,
              "ticks": ""
             }
            },
            "type": "scattermapbox"
           }
          ],
          "scatterpolar": [
           {
            "marker": {
             "colorbar": {
              "outlinewidth": 0,
              "ticks": ""
             }
            },
            "type": "scatterpolar"
           }
          ],
          "scatterpolargl": [
           {
            "marker": {
             "colorbar": {
              "outlinewidth": 0,
              "ticks": ""
             }
            },
            "type": "scatterpolargl"
           }
          ],
          "scatterternary": [
           {
            "marker": {
             "colorbar": {
              "outlinewidth": 0,
              "ticks": ""
             }
            },
            "type": "scatterternary"
           }
          ],
          "surface": [
           {
            "colorbar": {
             "outlinewidth": 0,
             "ticks": ""
            },
            "colorscale": [
             [
              0,
              "#0d0887"
             ],
             [
              0.1111111111111111,
              "#46039f"
             ],
             [
              0.2222222222222222,
              "#7201a8"
             ],
             [
              0.3333333333333333,
              "#9c179e"
             ],
             [
              0.4444444444444444,
              "#bd3786"
             ],
             [
              0.5555555555555556,
              "#d8576b"
             ],
             [
              0.6666666666666666,
              "#ed7953"
             ],
             [
              0.7777777777777778,
              "#fb9f3a"
             ],
             [
              0.8888888888888888,
              "#fdca26"
             ],
             [
              1,
              "#f0f921"
             ]
            ],
            "type": "surface"
           }
          ],
          "table": [
           {
            "cells": {
             "fill": {
              "color": "#EBF0F8"
             },
             "line": {
              "color": "white"
             }
            },
            "header": {
             "fill": {
              "color": "#C8D4E3"
             },
             "line": {
              "color": "white"
             }
            },
            "type": "table"
           }
          ]
         },
         "layout": {
          "annotationdefaults": {
           "arrowcolor": "#2a3f5f",
           "arrowhead": 0,
           "arrowwidth": 1
          },
          "autotypenumbers": "strict",
          "coloraxis": {
           "colorbar": {
            "outlinewidth": 0,
            "ticks": ""
           }
          },
          "colorscale": {
           "diverging": [
            [
             0,
             "#8e0152"
            ],
            [
             0.1,
             "#c51b7d"
            ],
            [
             0.2,
             "#de77ae"
            ],
            [
             0.3,
             "#f1b6da"
            ],
            [
             0.4,
             "#fde0ef"
            ],
            [
             0.5,
             "#f7f7f7"
            ],
            [
             0.6,
             "#e6f5d0"
            ],
            [
             0.7,
             "#b8e186"
            ],
            [
             0.8,
             "#7fbc41"
            ],
            [
             0.9,
             "#4d9221"
            ],
            [
             1,
             "#276419"
            ]
           ],
           "sequential": [
            [
             0,
             "#0d0887"
            ],
            [
             0.1111111111111111,
             "#46039f"
            ],
            [
             0.2222222222222222,
             "#7201a8"
            ],
            [
             0.3333333333333333,
             "#9c179e"
            ],
            [
             0.4444444444444444,
             "#bd3786"
            ],
            [
             0.5555555555555556,
             "#d8576b"
            ],
            [
             0.6666666666666666,
             "#ed7953"
            ],
            [
             0.7777777777777778,
             "#fb9f3a"
            ],
            [
             0.8888888888888888,
             "#fdca26"
            ],
            [
             1,
             "#f0f921"
            ]
           ],
           "sequentialminus": [
            [
             0,
             "#0d0887"
            ],
            [
             0.1111111111111111,
             "#46039f"
            ],
            [
             0.2222222222222222,
             "#7201a8"
            ],
            [
             0.3333333333333333,
             "#9c179e"
            ],
            [
             0.4444444444444444,
             "#bd3786"
            ],
            [
             0.5555555555555556,
             "#d8576b"
            ],
            [
             0.6666666666666666,
             "#ed7953"
            ],
            [
             0.7777777777777778,
             "#fb9f3a"
            ],
            [
             0.8888888888888888,
             "#fdca26"
            ],
            [
             1,
             "#f0f921"
            ]
           ]
          },
          "colorway": [
           "#636efa",
           "#EF553B",
           "#00cc96",
           "#ab63fa",
           "#FFA15A",
           "#19d3f3",
           "#FF6692",
           "#B6E880",
           "#FF97FF",
           "#FECB52"
          ],
          "font": {
           "color": "#2a3f5f"
          },
          "geo": {
           "bgcolor": "white",
           "lakecolor": "white",
           "landcolor": "#E5ECF6",
           "showlakes": true,
           "showland": true,
           "subunitcolor": "white"
          },
          "hoverlabel": {
           "align": "left"
          },
          "hovermode": "closest",
          "mapbox": {
           "style": "light"
          },
          "paper_bgcolor": "white",
          "plot_bgcolor": "#E5ECF6",
          "polar": {
           "angularaxis": {
            "gridcolor": "white",
            "linecolor": "white",
            "ticks": ""
           },
           "bgcolor": "#E5ECF6",
           "radialaxis": {
            "gridcolor": "white",
            "linecolor": "white",
            "ticks": ""
           }
          },
          "scene": {
           "xaxis": {
            "backgroundcolor": "#E5ECF6",
            "gridcolor": "white",
            "gridwidth": 2,
            "linecolor": "white",
            "showbackground": true,
            "ticks": "",
            "zerolinecolor": "white"
           },
           "yaxis": {
            "backgroundcolor": "#E5ECF6",
            "gridcolor": "white",
            "gridwidth": 2,
            "linecolor": "white",
            "showbackground": true,
            "ticks": "",
            "zerolinecolor": "white"
           },
           "zaxis": {
            "backgroundcolor": "#E5ECF6",
            "gridcolor": "white",
            "gridwidth": 2,
            "linecolor": "white",
            "showbackground": true,
            "ticks": "",
            "zerolinecolor": "white"
           }
          },
          "shapedefaults": {
           "line": {
            "color": "#2a3f5f"
           }
          },
          "ternary": {
           "aaxis": {
            "gridcolor": "white",
            "linecolor": "white",
            "ticks": ""
           },
           "baxis": {
            "gridcolor": "white",
            "linecolor": "white",
            "ticks": ""
           },
           "bgcolor": "#E5ECF6",
           "caxis": {
            "gridcolor": "white",
            "linecolor": "white",
            "ticks": ""
           }
          },
          "title": {
           "x": 0.05
          },
          "xaxis": {
           "automargin": true,
           "gridcolor": "white",
           "linecolor": "white",
           "ticks": "",
           "title": {
            "standoff": 15
           },
           "zerolinecolor": "white",
           "zerolinewidth": 2
          },
          "yaxis": {
           "automargin": true,
           "gridcolor": "white",
           "linecolor": "white",
           "ticks": "",
           "title": {
            "standoff": 15
           },
           "zerolinecolor": "white",
           "zerolinewidth": 2
          }
         }
        },
        "title": {
         "text": "PCA Projection of MNIST"
        },
        "xaxis": {
         "anchor": "y",
         "domain": [
          0,
          1
         ],
         "title": {
          "text": "0"
         }
        },
        "yaxis": {
         "anchor": "x",
         "domain": [
          0,
          1
         ],
         "title": {
          "text": "1"
         }
        }
       }
      }
     },
     "metadata": {},
     "output_type": "display_data"
    },
    {
     "name": "stdout",
     "output_type": "stream",
     "text": [
      "trustworthiness: 0.7453\n",
      "continuity: 0.9274\n",
      "normalized_stress: 0.4128\n",
      "neighborhood_hit: 0.3958\n"
     ]
    }
   ],
   "source": [
    "# test\n",
    "# mnist 70000, 784\n",
    "data = mnist.data.values[:5000]  # Use a subset for faster computation\n",
    "data_proj = PCA(n_components=2).fit_transform(data)\n",
    "fig_proj = px.scatter(data_proj, x=0, y=1, color=mnist.target[:5000].astype(int), title='PCA Projection of MNIST')\n",
    "fig_proj.show()\n",
    "\n",
    "print(f\"trustworthiness: {trustworthiness(data, data_proj):.4f}\")\n",
    "print(f\"continuity: {continuity(data, data_proj):.4f}\")\n",
    "print(f\"normalized_stress: {normalized_stress(data, data_proj):.4f}\")\n",
    "print(f\"neighborhood_hit: {neighborhood_hit(data_proj, mnist.target[:5000].astype(int)):.4f}\")\n"
   ]
  },
  {
   "cell_type": "code",
   "execution_count": 10,
   "id": "60b95d72",
   "metadata": {},
   "outputs": [
    {
     "name": "stdout",
     "output_type": "stream",
     "text": [
      "normalized_stress for label 0: 0.5821\n",
      "normalized_stress for label 1: 0.6483\n",
      "normalized_stress for label 2: 0.5544\n",
      "normalized_stress for label 3: 0.5651\n",
      "normalized_stress for label 4: 0.5804\n",
      "normalized_stress for label 5: 0.5249\n",
      "normalized_stress for label 6: 0.5439\n",
      "normalized_stress for label 7: 0.5749\n",
      "normalized_stress for label 8: 0.5844\n",
      "normalized_stress for label 9: 0.5564\n"
     ]
    }
   ],
   "source": [
    "# 特定のラベルのデータのストレス係数\n",
    "for i in range(10):\n",
    "    label = i\n",
    "    data_label = data[mnist.target[:5000].astype(int) == label]\n",
    "    data_proj_label = data_proj[mnist.target[:5000].astype(int) == label]\n",
    "    print(f\"normalized_stress for label {label}: {normalized_stress(data_label, data_proj_label):.4f}\")"
   ]
  },
  {
   "cell_type": "code",
   "execution_count": 17,
   "id": "2c6273a2",
   "metadata": {},
   "outputs": [
    {
     "name": "stdout",
     "output_type": "stream",
     "text": [
      "0\n",
      "normalized_stress for label 0 (PCA): 0.3641\n",
      " n_neighbors=5\n",
      "  trustworthiness: 0.7850\n",
      "  continuity: 0.9265\n",
      " n_neighbors=10\n",
      "  trustworthiness: 0.7940\n",
      "  continuity: 0.9241\n",
      " n_neighbors=15\n",
      "  trustworthiness: 0.7953\n",
      "  continuity: 0.9222\n",
      " n_neighbors=50\n",
      "  trustworthiness: 0.8096\n",
      "  continuity: 0.9211\n",
      " n_neighbors=100\n",
      "  trustworthiness: 0.8186\n",
      "  continuity: 0.9175\n",
      "\n",
      "1\n",
      "normalized_stress for label 1 (PCA): 0.3638\n",
      " n_neighbors=5\n",
      "  trustworthiness: 0.8164\n",
      "  continuity: 0.9266\n",
      " n_neighbors=10\n",
      "  trustworthiness: 0.8320\n",
      "  continuity: 0.9259\n",
      " n_neighbors=15\n",
      "  trustworthiness: 0.8401\n",
      "  continuity: 0.9276\n",
      " n_neighbors=50\n",
      "  trustworthiness: 0.8634\n",
      "  continuity: 0.9370\n",
      " n_neighbors=100\n",
      "  trustworthiness: 0.8811\n",
      "  continuity: 0.9499\n",
      "\n",
      "2\n",
      "normalized_stress for label 2 (PCA): 0.4549\n",
      " n_neighbors=5\n",
      "  trustworthiness: 0.7264\n",
      "  continuity: 0.8941\n",
      " n_neighbors=10\n",
      "  trustworthiness: 0.7302\n",
      "  continuity: 0.8910\n",
      " n_neighbors=15\n",
      "  trustworthiness: 0.7338\n",
      "  continuity: 0.8863\n",
      " n_neighbors=50\n",
      "  trustworthiness: 0.7447\n",
      "  continuity: 0.8735\n",
      " n_neighbors=100\n",
      "  trustworthiness: 0.7546\n",
      "  continuity: 0.8637\n",
      "\n",
      "3\n",
      "normalized_stress for label 3 (PCA): 0.4267\n",
      " n_neighbors=5\n",
      "  trustworthiness: 0.7293\n",
      "  continuity: 0.9075\n",
      " n_neighbors=10\n",
      "  trustworthiness: 0.7390\n",
      "  continuity: 0.9028\n",
      " n_neighbors=15\n",
      "  trustworthiness: 0.7410\n",
      "  continuity: 0.8992\n",
      " n_neighbors=50\n",
      "  trustworthiness: 0.7589\n",
      "  continuity: 0.8871\n",
      " n_neighbors=100\n",
      "  trustworthiness: 0.7723\n",
      "  continuity: 0.8803\n",
      "\n",
      "4\n",
      "normalized_stress for label 4 (PCA): 0.4533\n",
      " n_neighbors=5\n",
      "  trustworthiness: 0.7318\n",
      "  continuity: 0.9059\n",
      " n_neighbors=10\n",
      "  trustworthiness: 0.7307\n",
      "  continuity: 0.9002\n",
      " n_neighbors=15\n",
      "  trustworthiness: 0.7373\n",
      "  continuity: 0.8976\n",
      " n_neighbors=50\n",
      "  trustworthiness: 0.7504\n",
      "  continuity: 0.8850\n",
      " n_neighbors=100\n",
      "  trustworthiness: 0.7588\n",
      "  continuity: 0.8728\n",
      "\n",
      "5\n",
      "normalized_stress for label 5 (PCA): 0.3926\n",
      " n_neighbors=5\n",
      "  trustworthiness: 0.7657\n",
      "  continuity: 0.9058\n",
      " n_neighbors=10\n",
      "  trustworthiness: 0.7706\n",
      "  continuity: 0.9005\n",
      " n_neighbors=15\n",
      "  trustworthiness: 0.7733\n",
      "  continuity: 0.8985\n",
      " n_neighbors=50\n",
      "  trustworthiness: 0.7967\n",
      "  continuity: 0.9003\n",
      " n_neighbors=100\n",
      "  trustworthiness: 0.8118\n",
      "  continuity: 0.9015\n",
      "\n",
      "6\n",
      "normalized_stress for label 6 (PCA): 0.3916\n",
      " n_neighbors=5\n",
      "  trustworthiness: 0.7127\n",
      "  continuity: 0.8977\n",
      " n_neighbors=10\n",
      "  trustworthiness: 0.7221\n",
      "  continuity: 0.8918\n",
      " n_neighbors=15\n",
      "  trustworthiness: 0.7271\n",
      "  continuity: 0.8881\n",
      " n_neighbors=50\n",
      "  trustworthiness: 0.7488\n",
      "  continuity: 0.8783\n",
      " n_neighbors=100\n",
      "  trustworthiness: 0.7705\n",
      "  continuity: 0.8775\n",
      "\n",
      "7\n",
      "normalized_stress for label 7 (PCA): 0.4175\n",
      " n_neighbors=5\n",
      "  trustworthiness: 0.7621\n",
      "  continuity: 0.9265\n",
      " n_neighbors=10\n",
      "  trustworthiness: 0.7634\n",
      "  continuity: 0.9242\n",
      " n_neighbors=15\n",
      "  trustworthiness: 0.7624\n",
      "  continuity: 0.9220\n",
      " n_neighbors=50\n",
      "  trustworthiness: 0.7782\n",
      "  continuity: 0.9151\n",
      " n_neighbors=100\n",
      "  trustworthiness: 0.7884\n",
      "  continuity: 0.9087\n",
      "\n",
      "8\n",
      "normalized_stress for label 8 (PCA): 0.4231\n",
      " n_neighbors=5\n",
      "  trustworthiness: 0.7287\n",
      "  continuity: 0.8846\n",
      " n_neighbors=10\n",
      "  trustworthiness: 0.7259\n",
      "  continuity: 0.8791\n",
      " n_neighbors=15\n",
      "  trustworthiness: 0.7316\n",
      "  continuity: 0.8748\n",
      " n_neighbors=50\n",
      "  trustworthiness: 0.7600\n",
      "  continuity: 0.8683\n",
      " n_neighbors=100\n",
      "  trustworthiness: 0.7769\n",
      "  continuity: 0.8678\n",
      "\n",
      "9\n",
      "normalized_stress for label 9 (PCA): 0.4026\n",
      " n_neighbors=5\n",
      "  trustworthiness: 0.7690\n",
      "  continuity: 0.9187\n",
      " n_neighbors=10\n",
      "  trustworthiness: 0.7761\n",
      "  continuity: 0.9144\n",
      " n_neighbors=15\n",
      "  trustworthiness: 0.7802\n",
      "  continuity: 0.9114\n",
      " n_neighbors=50\n",
      "  trustworthiness: 0.7979\n",
      "  continuity: 0.9081\n",
      " n_neighbors=100\n",
      "  trustworthiness: 0.8167\n",
      "  continuity: 0.9063\n",
      "\n"
     ]
    }
   ],
   "source": [
    "# 特定のラベルだけで次元削減したときのメトリクス\n",
    "for i in range(10):\n",
    "    label = i\n",
    "    data_label = data[mnist.target[:5000].astype(int) == label]\n",
    "    # 標準化　NaN対策\n",
    "    data_label = (data_label - np.mean(data_label, axis=0)) / (np.std(data_label, axis=0) + 1e-10)\n",
    "    pca = PCA(n_components=2)\n",
    "    data_proj_label = pca.fit_transform(data_label)\n",
    "    print(i)\n",
    "    print(f\"normalized_stress for label {label} (PCA): {normalized_stress(data_label, data_proj_label):.4f}\")\n",
    "    # trustworthiness\n",
    "    for k in [5, 10, 15, 50, 100]:\n",
    "        print(f\" n_neighbors={k}\")\n",
    "        print(f\"  trustworthiness: {trustworthiness(data_label, data_proj_label, n_neighbors=k):.4f}\")\n",
    "        print(f\"  continuity: {continuity(data_label, data_proj_label, n_neighbors=k):.4f}\")\n",
    "        \n",
    "    print()\n"
   ]
  },
  {
   "cell_type": "code",
   "execution_count": 6,
   "id": "16e4da3a",
   "metadata": {},
   "outputs": [
    {
     "name": "stdout",
     "output_type": "stream",
     "text": [
      "n_neighbors=5\n",
      " trustworthiness: 0.7463\n",
      " continuity: 0.9303\n",
      " neighborhood_hit: 0.3983\n",
      "\n",
      "n_neighbors=10\n",
      " trustworthiness: 0.7458\n",
      " continuity: 0.9233\n",
      " neighborhood_hit: 0.3934\n",
      "\n",
      "n_neighbors=15\n",
      " trustworthiness: 0.7456\n",
      " continuity: 0.9185\n",
      " neighborhood_hit: 0.3925\n",
      "\n",
      "n_neighbors=50\n",
      " trustworthiness: 0.7475\n",
      " continuity: 0.8987\n",
      " neighborhood_hit: 0.3855\n",
      "\n",
      "n_neighbors=100\n",
      " trustworthiness: 0.7498\n",
      " continuity: 0.8851\n",
      " neighborhood_hit: 0.3792\n",
      "\n"
     ]
    }
   ],
   "source": [
    "# パラメータを変えて\n",
    "for k in [5, 10, 15, 50, 100]:\n",
    "    print(f\"n_neighbors={k}\")\n",
    "    print(f\" trustworthiness: {trustworthiness(data, data_proj, n_neighbors=k):.4f}\")\n",
    "    print(f\" continuity: {continuity(data, data_proj, n_neighbors=k):.4f}\")\n",
    "    print(f\" neighborhood_hit: {neighborhood_hit(data_proj, mnist.target[:5000].astype(int), n_neighbors=k):.4f}\")\n",
    "    print(\"\")"
   ]
  },
  {
   "cell_type": "code",
   "execution_count": 7,
   "id": "aa40bd67",
   "metadata": {},
   "outputs": [
    {
     "data": {
      "application/vnd.plotly.v1+json": {
       "config": {
        "plotlyServerURL": "https://plot.ly"
       },
       "data": [
        {
         "hovertemplate": "0=%{x}<br>1=%{y}<br>color=%{marker.color}<extra></extra>",
         "legendgroup": "",
         "marker": {
          "color": {
           "bdata": "BQAEAQkCAQMBBAMFAwYBBwIIBgkEAAkBAQIEAwIHAwgGCQAFBgAHBgEIBwkDCQgFCQMDAAcECQgACQQBBAQGAAQFBgEAAAEHAQYDAAIBAQcJAAIGBwgDCQAEBgcEBggABwgDAQUHAQcBAQYDAAIJAwEBAAQJAgAAAgACBwEIBgQBBgMEBQkBAwMIBQQHBwQCCAUIBgcDBAYBCQkGAAMHAggCCQQEBgQJBwAJAgkFAQUJAQIDAgMFCQEHBgIIAgIFAAcECQcIAwIBAQgDBgEAAwEAAAEHAgcDAAQGBQIGBAcBCAkJAwAHAQACAAMFBAYFCAYDBwUIAAkBAAMBAgIDAwYEBwUABgIHCQgFCQIBAQQEBQYEAQIFAwkDCQAFCQYFBwQBAwQABAgABAMGCAcGAAkHBQcCAQEGCAkEAQUCAgkAAwkGBwIAAwUEAwYFCAkFBAcEAgcDBAgJAQkCCAcJAQgHBAEDAQEAAgMJBAkCAQYIBAcHBAQJAgUHAgQEAgEJBwIIBwYJAgIDCAEGBQEBAAIGBAUIAwEFAQkCBwQEBAgBBQgJBQYHCQkDBwAJAAYGAgMJAAcFBAgACQQBAggHAQIGAQADAAEBCAIAAwkEAAUABgEHBwgBCQIABQECAgcDBQQJBwEIAwkGAAMBAQIGAwUHBggDCQUIBQcGAQEDAQcFBQUCBQgHAAkHBwUACQAACAkCBAgBBgEGBQEIAwQABQUIAwYCAwkCAQEFAgEDAggHAwcCBAYJBwIEAggBAQMIBAAGBQkDAAkCBAcBAgkEAgYBCAkABgYHCQkIAAEEBAYHAQUHAAMFCAQHAQIFCQUGBwUJCAgDBgkHAAcFBwEBAAcJAgMHAwIEAQYCBwUFBwQAAgYDBgQABAIGAAAAAAMBBgICAwEEAQUEBgQHAggHCQIABQEEAggDAgQBBQQGAAcJCAQJCAABAQACAgMCBAQFCAYFBwcICAkHBAcDAgAIBggGAQYICQQACQAEAQUEBwUDBwQJCAUIBgMIBgkJAQgDBQgGBQkHAgUACAUBAQAJAQgGBwAJAwAICAkGBwgEBwUJAgYHBAUJAgMBBgMJAgIFBggABwcBCQgHAAkJBAYCCAUBBAEFBQEHAwYEAwIFBgQEAAQEBgcCBAMDCAAAAwICCQgCAwcAAQEAAgMDCAQDBQcGBAcHCAUJBwADAQYCBAMEBAcFCQYJAAcBBAIHAwYHBQgEBQUCBwEBBQYIBQgEAAcJCQIJBwcIBwQCBgkBBwAGBAIFBwAHAQADBwYFAAYBBQEHCAUAAwQHBwUHCAYJAwgGAQAJBwEDAAUGBAQCBAQDAQcHBgADBgAHAQEECQQDBAgCAgEIBwAIAQAHBgMHBwUICAkAAAQBBQICAwkECQUABgcHAQgAAgIABAEBAgcDCQcCCAEJBQgIAQkIAwEGBQcEAgcAAwAEAQEHCQEBCAUHBQAGBgAEAQIDBAQGCAAJBQgHAAMFBAUJBgcBCQYBAwgDCQECBwcHAAIDAQEEAgUGAAkGAggJAgMDBgkBBAMDAAcHAQcHAwYECQUEBAIHCQAJCAQECQECBAkDAAQBBgIGAwcEAgYGBwEICQAEAQQCAQMGBAYHBQgHAAUBBAIIBAcHAwgECQUIBgcDBAYHAQcEAwMJCAgBCAYDAQEDBQIIBAIJBwEECAIJBgQBAwQCBQIFBggABgIECQQJBAUBBQgEBwkFCQUJAQUIAwkJAQgDCAYFAgcCBwYACQcJBAYABQMFBwMJAwYIAwEHBgUFBwYFCAIBBwkCBwMGBwgFAwcHCAQABwMABgMJBwEJBQMGAAkCCAAJAQYAAAEJAAAEAgEHAAMEBAcFCQgCAAAIBgICBwYBAgkCBgkHCQUACAEFAgQDCQQHBQYGBwcGCAUJBwAGAQkCAwMFBAMFCAYDBwIIBAkFAAIBBAIEAwEHAQgACQYIAQkEBAkBCAkGBQUDAwABBAMIAwQCAAcFBQEIBQMEBgAFBwIGBgABAQQHCQAABgYIBgkEBQIEAAcFBgUACQgGAQkHBQcFAQEDAAIAAwgBBgQGAgYECAgBBAQHAQICAwkGBAkFBgIDCQIGAgcEAwYECQcAAgIJBQQFAAEEAwYDAgkHBQMHAAkFCAMCAAEIAwABAgMEAAABBwIJAwkEAgUIBgcHCQgJCQIAAAEEAgQDCQQDBQcGBQcBCAYJAwAEAQICBQMHBAEHBwgBCQIDAgQAAQgEAwYFBgQHCQMBAwACAQEACQkEBgcGAwUFBAQGCQEBAwEBAAUBBAQGBgYAAQIACAICAQEDBwkFAwACAAYCCQAHBgkJAQIJAwQHCQYACQQIBwcJCAYJBQICAgMJCAgIBgQEBAQCBAYABwAHCAIACAgDBggGBggGBQEBCAcIAwYICQUAAAADAgYGBwgDBQEEAwUJBAUEAQEFBAAJBwECBQcJBAADBgEHBwUGAwABAQQCBAMGBAcFBwYJBwIIBAkIAAcBAQIDAwUEBgUABgMHAwgCCQAACQECAgkDCQQGBQIGBgcGCAIJAgAGBwIIBgkACQYAAwEBBAkFCAEABgYHAgMEAgMJAAAEBQAGBAcEAwEJAwkJAwEIBwEHAggJCQYCBwIFAAYHAwkFCQAIBQgECQAFAwIECAcEAQUEBgMHBwkGBgICAQYFBAUDAAUFAgAFCAgEAgYJBwEAAgMBCAcBCAIHAgYDAgMHBggHBQMIBAQJBAYEBQUBAQkDCAYBBAEHBQQABAIHBwUIAAYJBgYIBwIACAgECAQEAgMCAwgCAAUAAAEAAgEDAwQHBQMGAQcGCAMJAAAHAQICBAMHBAEFAAYDBwkIBwkFAAEBCAIGAwMEAwUDBwEIAQkGCAkJBwUABwMABgMIAQYGAQgGBAYBAAcBBgQFAQYHBAgCBQcDCAQBBgMDBAUDAgQFBwECBAAABQgABgEBCQMCAQMEAgQDBAUIBQYHBggJBAAJBAkEBwQBBgEDBwMIAwMCBAQIBwYEAwYIBwAHCQUGBQIDAAQBBAAFBgECBgMECAUJBQACBwUCCQMEBAAFAgUFAgkIAwUCBAQGBwYEBgYHAAkGAQgIBQIBAQUCAAYJBQIDAQQBBwYJAgQGAAEABQUFCQIABAEBAgQDAAQCBQcGAgcHCAMJAAACAQECCAMEBAEFCQYBBwUICQkGAAEBBwIIAwcHCAgICQcGCAIEBwQBCAUABgkCCAUCAAAFBAQDAgEABQgFAQQHAgEECAYDBAgBBwUBAwcBBwkAAAEJBAAECAQIBQEHAQQCBAQJAgcDAgQGCQUBAwIJBAQDAwYJAgAGCAgHBQYGAwgABAQGBgcDBAcHAAYBBgEGAgAJBwMGAQMIAgkCCAcCCQUGAgIGBAkHBgMAAAUAAwEDAAYCAwMFAAAHAwQHBQYEAQQFAgUBCQUIBgAHCQQACQEDAgUDAwQGBQEGBwcHCAQJAwAAAQACAAMGBAYHBQgBCQQACAEJAgYDAQUABgQHCAgHCQYAAQAHAQUABQEAAgIDCAABBgMJBwYIBgYFCQIACQYBBQQCCQcFAwcBBQYGBwcDAwYBAgQHAQgDAgMIBwUDBwkICAYICAgCCAQIAQQFBwECAgEJCQUIAgcJCQcDBwMBAAYHCQUCBAEBAAEDAgkGBAEDBQkAAQEEAgMDAAQCBQMGBAcFAAABAgIHAwcEBwUGBgUHAwgBCQkABwEIAgADBAQDBQEGBwkFCAACAQYDCQMGAgECCQEJAwkJBAQEAgMJCAABBAQIAQICBwkDAAMEAwkGAQIHAAQGBAEBBAgDBwYGAgACCAgBBwgCAgcGBgIHAQACBAUBBAkFBgYABwIHBQUBAwEABAIBAgECBgcAAwYFAwIEAQAEAgQBAwQABgAFCAQHAAMBAQIHBgkFBgADBQMBAAEFBAYJBgMIBQcGAwEFCQACAQECCAMIBAAFBQYFBwcIAAkGAAkBCAIDAwQEAwUFBgUHAQgICQAAAgEGAgcDBwQHBwcIAQkECAYFAQcACQEFCQAICAEDAgUHBAcIAAMIAAACBAEJAAkCAAUICAgICQUIAwMABgQEBAgBAgYJAQYDAwAGAwQGAgkEAwYHBwQFCQIHCAABCQEEBAgEAwkCAgcBBwgJCQUIBwQGCQQECAgJBgYGCQQEAgEJAgAAAwYEAQIBCAYHBAUIAQkBBgMEBQYABQEAAQICAAYFBAYHBQIACAEJAggBAwcICAgBAgQIAwACBwgJAgIHCAkFAwYJAwACAQMCBQMEBAQFCQYFBwkIAwkEAAgBAAICAwkEBQUHBgIHBwgBAAcDBQQEBQMGBAcCCAEJBwYBAAkDAQQHAQkEBAACCAIGBwAABwcIBwcIBwkJAwAEBAAJAwkFBwYABwUBCAIFBwkECAQIBwcJBQAGBgUEAwkIBgEJBgcIAgUJCQICAQICAAkJBAIDBAkHAwMDAQkDBwYFBgACBgEDAgQGAwAIAgQCAgcBAQkDCQcEBAQICAkFAgMJBAUCBgYIBgAHAAQJBwEJAQAABQEBAgkDBQUDBgQJAgAGAQECAAMJBAMFAwYDBwEIBwAAAQECCQMFBAEFCAYDBwMIBwEHAAEBCAUAAwQECAQBAAcAAgYICQcGBAYDBQYEAQQEBAMAAwcBCQMFAQcCAwMBBgQIBAEACAkICQQGAgEBCAADAAgHCAQIBwgFCAgEBAcJBwkBCQkICAAHAAgHCQYDBwMGBQgFCQAGBwEJAAUCBgcFAQADBgkBAQQEAQMBAwIICAcCBQYBAQAFAgAJAQACCAMGBAIFAwYCBwUIAgkIAAYBCQIAAwEBCQUDBgkHCAgBAAEBAwIEAwAEAAUDBggHBwgHCQAGBAQDAgEGCAQABwUFCQUFBAcHAggBCQYCBQkGAwQJBgMDCAgCAgAJCQgIBAAEBQMGAgADAQIACQICBQUDAwUEAwgICAAHAAQFCQQAAwYEAAEJBQYDBAACCAIDAQAEBgcCAAcCAQQBBggHAQgHBAEAAwYIBAQDAgkACAkJBwIGBwcFBAMBAwYBCAkECAEGAggGBQcJAQYJBggAAAAGBwkHBAkJCQkHBgcCCAMGBwkBBwIBBQEDBwcACAYAAwEDAgYDCAQJBQYGAQcDCAIJBAACAQUCCQMCBAQFBwYIBwMIBwkCAAEBCQIHAwYEBgUFBgQHBQgICQcGBQIIBgkFAAQBAgIAAAgAAQIHAAECCAgDBwcAAQEHAQECBAkEAAUGBwYECQkHBwcCCAYDBQUDAgkBCQgAAggGBwIJBgADBgcDBwAFBAQGBwMGBwYAAQEBBAgIBggBAQACAQkIAwkBBQQFAggJBAgCAgkIBAYICQUCBAkHBgYDAQMJBgcDAAEFAggFAAABAwEBAQUCBQYJBwgDAAcJCQACAQYCCQMHBAgFBAYIBwcIAAkHAAUBCQIIAwYECQUIBgkHBQgBCQEAAwEBAgYDBwQFBQYGAgcACAgJAgYEAQYJCQkDCQIECQQIAwQIBQEABAABBgIGBQQABwkJBQEDCQAJBAUJAQEHBwQEBQQDAQMIAQcABgIABAgIAQYIAQIDBgMCCQABCQEBBwIBBQUEBgUEBwQHCAUEAwQAAgIFAgECBgcBAwUBBQQDBAYDBwABAAIECQcCCQYHAggGCAAHAAkABgkDBAEHBwQJAgYGAwMDAwEDAAQCBwYJAAMFAQYDBgQIBwcDAwgFCQgDAwQABwEGAgADCAcECAMJAgAHAwgEAAcBCAAABQEEAgEDBwQHBQEGBQcFCAkJCAUAAQUJBgkABwQBCQACCQgABwUDCQcHBwEHAwQGBwMAAgMAAAkEAAgGCQEDBwcCAAgHAwYECQcGBgcGCQMIAgcDAAgFCQkEAggECAgHBAEIAAEIBgcHBwcFAgkDAgYDBgEEAQYEBAUBBQIABQQDCAEHBwQFCQYCAgMGBgcECAEEAgQECAECBQABAgkIAwUCBwAEAAkCBwkEAwUGBAAJAQgCAQMHBAIFAgYHBwUICAkBAAEBAAIDAwEEBAUABgQHAAgBCQEAAwEDAgMDAwQCBQcGAgcGCAQJAQgGAAcFBwYABgEABggEAAQCAgMJBwYJBwQCBwMBAQkAAQUHBgEFAAQAAQQJAQMHBgUCBwIBCAMIAwgDAwEGBgAJBQcHBAkDBQAIAgUFAQIHBgkAAAgCCQYEBQMEBQcEBggFAQAFBAkDAAkGAwQIBgQIAwEGBAAHAQUCBwICAgIIAAEAAAEDBwYHAgkCBQUJCQgFCQcGAwgBCAkCBwMABggBAAIACQkICAkDBQECCAYIAgYEBQgCBAEGAQUGAAIBAgIAAwkEAgUGBwcIBQAEAQYCBwMDBAAFAwYDBwAIBAkAAAEBBQIJAwAEBAcFCAMBAQYBCAQJBgkBAAcBAAIGBAQEBAMHBwUECQQBBAMABwMECAQHBgUECAACBwEDBwEJBAEIAQkGBgIFAQQDCQgJBgYECQkHBAgCAwQEBAcGBwIFBQIFCAADAgAIAAACBgcICAEIBwMBAwYDBwAGAQgEBwcEAwkCAwYDAQUGCAcABAMABwkJBAcDBwEJCQEHBgAHBQgGAAkBAgIJAwAEAQUGBgEHAAgHCQYACQEGAgkDAgQFBQEGAQcHCAUJAQAEAQQCAwMBBAEFAAYHBwMICQUBAQEJBQkBBwEBBgAICQcAAgUDCQYHCAEABwMCAQI=",
           "dtype": "i1"
          },
          "coloraxis": "coloraxis",
          "symbol": "circle"
         },
         "mode": "markers",
         "name": "",
         "showlegend": false,
         "type": "scattergl",
         "x": {
          "bdata": "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",
          "dtype": "f4"
         },
         "xaxis": "x",
         "y": {
          "bdata": "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",
          "dtype": "f4"
         },
         "yaxis": "y"
        }
       ],
       "layout": {
        "coloraxis": {
         "colorbar": {
          "title": {
           "text": "color"
          }
         },
         "colorscale": [
          [
           0,
           "#0d0887"
          ],
          [
           0.1111111111111111,
           "#46039f"
          ],
          [
           0.2222222222222222,
           "#7201a8"
          ],
          [
           0.3333333333333333,
           "#9c179e"
          ],
          [
           0.4444444444444444,
           "#bd3786"
          ],
          [
           0.5555555555555556,
           "#d8576b"
          ],
          [
           0.6666666666666666,
           "#ed7953"
          ],
          [
           0.7777777777777778,
           "#fb9f3a"
          ],
          [
           0.8888888888888888,
           "#fdca26"
          ],
          [
           1,
           "#f0f921"
          ]
         ]
        },
        "legend": {
         "tracegroupgap": 0
        },
        "template": {
         "data": {
          "bar": [
           {
            "error_x": {
             "color": "#2a3f5f"
            },
            "error_y": {
             "color": "#2a3f5f"
            },
            "marker": {
             "line": {
              "color": "#E5ECF6",
              "width": 0.5
             },
             "pattern": {
              "fillmode": "overlay",
              "size": 10,
              "solidity": 0.2
             }
            },
            "type": "bar"
           }
          ],
          "barpolar": [
           {
            "marker": {
             "line": {
              "color": "#E5ECF6",
              "width": 0.5
             },
             "pattern": {
              "fillmode": "overlay",
              "size": 10,
              "solidity": 0.2
             }
            },
            "type": "barpolar"
           }
          ],
          "carpet": [
           {
            "aaxis": {
             "endlinecolor": "#2a3f5f",
             "gridcolor": "white",
             "linecolor": "white",
             "minorgridcolor": "white",
             "startlinecolor": "#2a3f5f"
            },
            "baxis": {
             "endlinecolor": "#2a3f5f",
             "gridcolor": "white",
             "linecolor": "white",
             "minorgridcolor": "white",
             "startlinecolor": "#2a3f5f"
            },
            "type": "carpet"
           }
          ],
          "choropleth": [
           {
            "colorbar": {
             "outlinewidth": 0,
             "ticks": ""
            },
            "type": "choropleth"
           }
          ],
          "contour": [
           {
            "colorbar": {
             "outlinewidth": 0,
             "ticks": ""
            },
            "colorscale": [
             [
              0,
              "#0d0887"
             ],
             [
              0.1111111111111111,
              "#46039f"
             ],
             [
              0.2222222222222222,
              "#7201a8"
             ],
             [
              0.3333333333333333,
              "#9c179e"
             ],
             [
              0.4444444444444444,
              "#bd3786"
             ],
             [
              0.5555555555555556,
              "#d8576b"
             ],
             [
              0.6666666666666666,
              "#ed7953"
             ],
             [
              0.7777777777777778,
              "#fb9f3a"
             ],
             [
              0.8888888888888888,
              "#fdca26"
             ],
             [
              1,
              "#f0f921"
             ]
            ],
            "type": "contour"
           }
          ],
          "contourcarpet": [
           {
            "colorbar": {
             "outlinewidth": 0,
             "ticks": ""
            },
            "type": "contourcarpet"
           }
          ],
          "heatmap": [
           {
            "colorbar": {
             "outlinewidth": 0,
             "ticks": ""
            },
            "colorscale": [
             [
              0,
              "#0d0887"
             ],
             [
              0.1111111111111111,
              "#46039f"
             ],
             [
              0.2222222222222222,
              "#7201a8"
             ],
             [
              0.3333333333333333,
              "#9c179e"
             ],
             [
              0.4444444444444444,
              "#bd3786"
             ],
             [
              0.5555555555555556,
              "#d8576b"
             ],
             [
              0.6666666666666666,
              "#ed7953"
             ],
             [
              0.7777777777777778,
              "#fb9f3a"
             ],
             [
              0.8888888888888888,
              "#fdca26"
             ],
             [
              1,
              "#f0f921"
             ]
            ],
            "type": "heatmap"
           }
          ],
          "histogram": [
           {
            "marker": {
             "pattern": {
              "fillmode": "overlay",
              "size": 10,
              "solidity": 0.2
             }
            },
            "type": "histogram"
           }
          ],
          "histogram2d": [
           {
            "colorbar": {
             "outlinewidth": 0,
             "ticks": ""
            },
            "colorscale": [
             [
              0,
              "#0d0887"
             ],
             [
              0.1111111111111111,
              "#46039f"
             ],
             [
              0.2222222222222222,
              "#7201a8"
             ],
             [
              0.3333333333333333,
              "#9c179e"
             ],
             [
              0.4444444444444444,
              "#bd3786"
             ],
             [
              0.5555555555555556,
              "#d8576b"
             ],
             [
              0.6666666666666666,
              "#ed7953"
             ],
             [
              0.7777777777777778,
              "#fb9f3a"
             ],
             [
              0.8888888888888888,
              "#fdca26"
             ],
             [
              1,
              "#f0f921"
             ]
            ],
            "type": "histogram2d"
           }
          ],
          "histogram2dcontour": [
           {
            "colorbar": {
             "outlinewidth": 0,
             "ticks": ""
            },
            "colorscale": [
             [
              0,
              "#0d0887"
             ],
             [
              0.1111111111111111,
              "#46039f"
             ],
             [
              0.2222222222222222,
              "#7201a8"
             ],
             [
              0.3333333333333333,
              "#9c179e"
             ],
             [
              0.4444444444444444,
              "#bd3786"
             ],
             [
              0.5555555555555556,
              "#d8576b"
             ],
             [
              0.6666666666666666,
              "#ed7953"
             ],
             [
              0.7777777777777778,
              "#fb9f3a"
             ],
             [
              0.8888888888888888,
              "#fdca26"
             ],
             [
              1,
              "#f0f921"
             ]
            ],
            "type": "histogram2dcontour"
           }
          ],
          "mesh3d": [
           {
            "colorbar": {
             "outlinewidth": 0,
             "ticks": ""
            },
            "type": "mesh3d"
           }
          ],
          "parcoords": [
           {
            "line": {
             "colorbar": {
              "outlinewidth": 0,
              "ticks": ""
             }
            },
            "type": "parcoords"
           }
          ],
          "pie": [
           {
            "automargin": true,
            "type": "pie"
           }
          ],
          "scatter": [
           {
            "fillpattern": {
             "fillmode": "overlay",
             "size": 10,
             "solidity": 0.2
            },
            "type": "scatter"
           }
          ],
          "scatter3d": [
           {
            "line": {
             "colorbar": {
              "outlinewidth": 0,
              "ticks": ""
             }
            },
            "marker": {
             "colorbar": {
              "outlinewidth": 0,
              "ticks": ""
             }
            },
            "type": "scatter3d"
           }
          ],
          "scattercarpet": [
           {
            "marker": {
             "colorbar": {
              "outlinewidth": 0,
              "ticks": ""
             }
            },
            "type": "scattercarpet"
           }
          ],
          "scattergeo": [
           {
            "marker": {
             "colorbar": {
              "outlinewidth": 0,
              "ticks": ""
             }
            },
            "type": "scattergeo"
           }
          ],
          "scattergl": [
           {
            "marker": {
             "colorbar": {
              "outlinewidth": 0,
              "ticks": ""
             }
            },
            "type": "scattergl"
           }
          ],
          "scattermap": [
           {
            "marker": {
             "colorbar": {
              "outlinewidth": 0,
              "ticks": ""
             }
            },
            "type": "scattermap"
           }
          ],
          "scattermapbox": [
           {
            "marker": {
             "colorbar": {
              "outlinewidth": 0,
              "ticks": ""
             }
            },
            "type": "scattermapbox"
           }
          ],
          "scatterpolar": [
           {
            "marker": {
             "colorbar": {
              "outlinewidth": 0,
              "ticks": ""
             }
            },
            "type": "scatterpolar"
           }
          ],
          "scatterpolargl": [
           {
            "marker": {
             "colorbar": {
              "outlinewidth": 0,
              "ticks": ""
             }
            },
            "type": "scatterpolargl"
           }
          ],
          "scatterternary": [
           {
            "marker": {
             "colorbar": {
              "outlinewidth": 0,
              "ticks": ""
             }
            },
            "type": "scatterternary"
           }
          ],
          "surface": [
           {
            "colorbar": {
             "outlinewidth": 0,
             "ticks": ""
            },
            "colorscale": [
             [
              0,
              "#0d0887"
             ],
             [
              0.1111111111111111,
              "#46039f"
             ],
             [
              0.2222222222222222,
              "#7201a8"
             ],
             [
              0.3333333333333333,
              "#9c179e"
             ],
             [
              0.4444444444444444,
              "#bd3786"
             ],
             [
              0.5555555555555556,
              "#d8576b"
             ],
             [
              0.6666666666666666,
              "#ed7953"
             ],
             [
              0.7777777777777778,
              "#fb9f3a"
             ],
             [
              0.8888888888888888,
              "#fdca26"
             ],
             [
              1,
              "#f0f921"
             ]
            ],
            "type": "surface"
           }
          ],
          "table": [
           {
            "cells": {
             "fill": {
              "color": "#EBF0F8"
             },
             "line": {
              "color": "white"
             }
            },
            "header": {
             "fill": {
              "color": "#C8D4E3"
             },
             "line": {
              "color": "white"
             }
            },
            "type": "table"
           }
          ]
         },
         "layout": {
          "annotationdefaults": {
           "arrowcolor": "#2a3f5f",
           "arrowhead": 0,
           "arrowwidth": 1
          },
          "autotypenumbers": "strict",
          "coloraxis": {
           "colorbar": {
            "outlinewidth": 0,
            "ticks": ""
           }
          },
          "colorscale": {
           "diverging": [
            [
             0,
             "#8e0152"
            ],
            [
             0.1,
             "#c51b7d"
            ],
            [
             0.2,
             "#de77ae"
            ],
            [
             0.3,
             "#f1b6da"
            ],
            [
             0.4,
             "#fde0ef"
            ],
            [
             0.5,
             "#f7f7f7"
            ],
            [
             0.6,
             "#e6f5d0"
            ],
            [
             0.7,
             "#b8e186"
            ],
            [
             0.8,
             "#7fbc41"
            ],
            [
             0.9,
             "#4d9221"
            ],
            [
             1,
             "#276419"
            ]
           ],
           "sequential": [
            [
             0,
             "#0d0887"
            ],
            [
             0.1111111111111111,
             "#46039f"
            ],
            [
             0.2222222222222222,
             "#7201a8"
            ],
            [
             0.3333333333333333,
             "#9c179e"
            ],
            [
             0.4444444444444444,
             "#bd3786"
            ],
            [
             0.5555555555555556,
             "#d8576b"
            ],
            [
             0.6666666666666666,
             "#ed7953"
            ],
            [
             0.7777777777777778,
             "#fb9f3a"
            ],
            [
             0.8888888888888888,
             "#fdca26"
            ],
            [
             1,
             "#f0f921"
            ]
           ],
           "sequentialminus": [
            [
             0,
             "#0d0887"
            ],
            [
             0.1111111111111111,
             "#46039f"
            ],
            [
             0.2222222222222222,
             "#7201a8"
            ],
            [
             0.3333333333333333,
             "#9c179e"
            ],
            [
             0.4444444444444444,
             "#bd3786"
            ],
            [
             0.5555555555555556,
             "#d8576b"
            ],
            [
             0.6666666666666666,
             "#ed7953"
            ],
            [
             0.7777777777777778,
             "#fb9f3a"
            ],
            [
             0.8888888888888888,
             "#fdca26"
            ],
            [
             1,
             "#f0f921"
            ]
           ]
          },
          "colorway": [
           "#636efa",
           "#EF553B",
           "#00cc96",
           "#ab63fa",
           "#FFA15A",
           "#19d3f3",
           "#FF6692",
           "#B6E880",
           "#FF97FF",
           "#FECB52"
          ],
          "font": {
           "color": "#2a3f5f"
          },
          "geo": {
           "bgcolor": "white",
           "lakecolor": "white",
           "landcolor": "#E5ECF6",
           "showlakes": true,
           "showland": true,
           "subunitcolor": "white"
          },
          "hoverlabel": {
           "align": "left"
          },
          "hovermode": "closest",
          "mapbox": {
           "style": "light"
          },
          "paper_bgcolor": "white",
          "plot_bgcolor": "#E5ECF6",
          "polar": {
           "angularaxis": {
            "gridcolor": "white",
            "linecolor": "white",
            "ticks": ""
           },
           "bgcolor": "#E5ECF6",
           "radialaxis": {
            "gridcolor": "white",
            "linecolor": "white",
            "ticks": ""
           }
          },
          "scene": {
           "xaxis": {
            "backgroundcolor": "#E5ECF6",
            "gridcolor": "white",
            "gridwidth": 2,
            "linecolor": "white",
            "showbackground": true,
            "ticks": "",
            "zerolinecolor": "white"
           },
           "yaxis": {
            "backgroundcolor": "#E5ECF6",
            "gridcolor": "white",
            "gridwidth": 2,
            "linecolor": "white",
            "showbackground": true,
            "ticks": "",
            "zerolinecolor": "white"
           },
           "zaxis": {
            "backgroundcolor": "#E5ECF6",
            "gridcolor": "white",
            "gridwidth": 2,
            "linecolor": "white",
            "showbackground": true,
            "ticks": "",
            "zerolinecolor": "white"
           }
          },
          "shapedefaults": {
           "line": {
            "color": "#2a3f5f"
           }
          },
          "ternary": {
           "aaxis": {
            "gridcolor": "white",
            "linecolor": "white",
            "ticks": ""
           },
           "baxis": {
            "gridcolor": "white",
            "linecolor": "white",
            "ticks": ""
           },
           "bgcolor": "#E5ECF6",
           "caxis": {
            "gridcolor": "white",
            "linecolor": "white",
            "ticks": ""
           }
          },
          "title": {
           "x": 0.05
          },
          "xaxis": {
           "automargin": true,
           "gridcolor": "white",
           "linecolor": "white",
           "ticks": "",
           "title": {
            "standoff": 15
           },
           "zerolinecolor": "white",
           "zerolinewidth": 2
          },
          "yaxis": {
           "automargin": true,
           "gridcolor": "white",
           "linecolor": "white",
           "ticks": "",
           "title": {
            "standoff": 15
           },
           "zerolinecolor": "white",
           "zerolinewidth": 2
          }
         }
        },
        "title": {
         "text": "t-SNE Projection of MNIST"
        },
        "xaxis": {
         "anchor": "y",
         "domain": [
          0,
          1
         ],
         "title": {
          "text": "0"
         }
        },
        "yaxis": {
         "anchor": "x",
         "domain": [
          0,
          1
         ],
         "title": {
          "text": "1"
         }
        }
       }
      }
     },
     "metadata": {},
     "output_type": "display_data"
    },
    {
     "name": "stdout",
     "output_type": "stream",
     "text": [
      "trustworthiness (t-SNE): 0.9836\n",
      "continuity (t-SNE): 0.9688\n",
      "normalized_stress (t-SNE): 0.9521\n",
      "neighborhood_hit (t-SNE): 0.8965\n"
     ]
    }
   ],
   "source": [
    "from sklearn.manifold import TSNE\n",
    "tsne = TSNE(n_components=2, random_state=42)\n",
    "proj_tsne = tsne.fit_transform(data)\n",
    "fig_tsne = px.scatter(proj_tsne, x=0, y=1, color=mnist.target[:5000].astype(int), title='t-SNE Projection of MNIST')\n",
    "fig_tsne.show()\n",
    "print(f\"trustworthiness (t-SNE): {trustworthiness(data, proj_tsne):.4f}\")\n",
    "print(f\"continuity (t-SNE): {continuity(data, proj_tsne):.4f}\")\n",
    "print(f\"normalized_stress (t-SNE): {normalized_stress(data, proj_tsne):.4f}\")\n",
    "print(f\"neighborhood_hit (t-SNE): {neighborhood_hit(proj_tsne, mnist.target[:5000].astype(int)):.4f}\")"
   ]
  },
  {
   "cell_type": "code",
   "execution_count": 11,
   "id": "429b5b81",
   "metadata": {},
   "outputs": [
    {
     "name": "stdout",
     "output_type": "stream",
     "text": [
      "normalized_stress for label 0 (t-SNE): 0.9866\n",
      "normalized_stress for label 1 (t-SNE): 0.9723\n",
      "normalized_stress for label 2 (t-SNE): 0.9767\n",
      "normalized_stress for label 3 (t-SNE): 0.9813\n",
      "normalized_stress for label 4 (t-SNE): 0.9758\n",
      "normalized_stress for label 5 (t-SNE): 0.9824\n",
      "normalized_stress for label 6 (t-SNE): 0.9848\n",
      "normalized_stress for label 7 (t-SNE): 0.9776\n",
      "normalized_stress for label 8 (t-SNE): 0.9814\n",
      "normalized_stress for label 9 (t-SNE): 0.9755\n"
     ]
    }
   ],
   "source": [
    "for i in range(10):\n",
    "    label = i\n",
    "    data_label = data[mnist.target[:5000].astype(int) == label]\n",
    "    data_proj_label = proj_tsne[mnist.target[:5000].astype(int) == label]\n",
    "    print(f\"normalized_stress for label {label} (t-SNE): {normalized_stress(data_label, data_proj_label):.4f}\")"
   ]
  },
  {
   "cell_type": "code",
   "execution_count": 8,
   "id": "6bc265d2",
   "metadata": {},
   "outputs": [
    {
     "name": "stdout",
     "output_type": "stream",
     "text": [
      "n_neighbors=5\n",
      " trustworthiness (t-SNE): 0.9868\n",
      " continuity (t-SNE): 0.9719\n",
      " neighborhood_hit (t-SNE): 0.9012\n",
      "\n",
      "n_neighbors=10\n",
      " trustworthiness (t-SNE): 0.9794\n",
      " continuity (t-SNE): 0.9655\n",
      " neighborhood_hit (t-SNE): 0.8910\n",
      "\n",
      "n_neighbors=15\n",
      " trustworthiness (t-SNE): 0.9740\n",
      " continuity (t-SNE): 0.9610\n",
      " neighborhood_hit (t-SNE): 0.8825\n",
      "\n",
      "n_neighbors=50\n",
      " trustworthiness (t-SNE): 0.9531\n",
      " continuity (t-SNE): 0.9389\n",
      " neighborhood_hit (t-SNE): 0.8528\n",
      "\n",
      "n_neighbors=100\n",
      " trustworthiness (t-SNE): 0.9348\n",
      " continuity (t-SNE): 0.9178\n",
      " neighborhood_hit (t-SNE): 0.8266\n",
      "\n"
     ]
    }
   ],
   "source": [
    "# k\n",
    "for k in [5, 10, 15, 50, 100]:\n",
    "    print(f\"n_neighbors={k}\")\n",
    "    print(f\" trustworthiness (t-SNE): {trustworthiness(data, proj_tsne, n_neighbors=k):.4f}\")\n",
    "    print(f\" continuity (t-SNE): {continuity(data, proj_tsne, n_neighbors=k):.4f}\")\n",
    "    print(f\" neighborhood_hit (t-SNE): {neighborhood_hit(proj_tsne, mnist.target[:5000].astype(int), n_neighbors=k):.4f}\")\n",
    "    print(\"\")"
   ]
  },
  {
   "cell_type": "code",
   "execution_count": 9,
   "id": "af2fb53a",
   "metadata": {},
   "outputs": [
    {
     "ename": "ModuleNotFoundError",
     "evalue": "No module named 'umap'",
     "output_type": "error",
     "traceback": [
      "\u001b[31m---------------------------------------------------------------------------\u001b[39m",
      "\u001b[31mModuleNotFoundError\u001b[39m                       Traceback (most recent call last)",
      "\u001b[36mCell\u001b[39m\u001b[36m \u001b[39m\u001b[32mIn[9]\u001b[39m\u001b[32m, line 1\u001b[39m\n\u001b[32m----> \u001b[39m\u001b[32m1\u001b[39m \u001b[38;5;28;01mfrom\u001b[39;00m\u001b[38;5;250m \u001b[39m\u001b[34;01mumap\u001b[39;00m\u001b[38;5;250m \u001b[39m\u001b[38;5;28;01mimport\u001b[39;00m UMAP\n\u001b[32m      2\u001b[39m umap = UMAP(n_components=\u001b[32m2\u001b[39m, random_state=\u001b[32m42\u001b[39m)\n\u001b[32m      3\u001b[39m proj_umap = umap.fit_transform(data)\n",
      "\u001b[31mModuleNotFoundError\u001b[39m: No module named 'umap'"
     ]
    }
   ],
   "source": [
    "from umap import UMAP\n",
    "umap = UMAP(n_components=2, random_state=42)\n",
    "proj_umap = umap.fit_transform(data)\n",
    "fig_umap = px.scatter(proj_umap, x=0, y=1, color=mnist.target[:5000].astype(int), title='UMAP Projection of MNIST')\n",
    "fig_umap.show() \n",
    "print(f\"trustworthiness (UMAP): {trustworthiness(data, proj_umap):.4f}\")\n",
    "print(f\"continuity (UMAP): {continuity(data, proj_umap):.4f}\")\n",
    "print(f\"normalized_stress (UMAP): {normalized_stress(data, proj_umap):.4f}\")\n"
   ]
  },
  {
   "cell_type": "code",
   "execution_count": 35,
   "id": "cbef2e4c",
   "metadata": {},
   "outputs": [
    {
     "name": "stdout",
     "output_type": "stream",
     "text": [
      "average_local_error (t-SNE): 1389.8790\n",
      "average_local_error (pca): 1146.6299\n",
      "average_local_error (UMAP): 1395.6449\n"
     ]
    }
   ],
   "source": [
    "average_local_error_value = average_local_error(data, proj_tsne)\n",
    "print(f\"average_local_error (t-SNE): {average_local_error_value:.4f}\")\n",
    "average_local_error_value = average_local_error(data, data_proj)\n",
    "print(f\"average_local_error (pca): {average_local_error_value:.4f}\")\n",
    "average_local_error_value = average_local_error(data, proj_umap)\n",
    "print(f\"average_local_error (UMAP): {average_local_error_value:.4f}\")"
   ]
  },
  {
   "cell_type": "markdown",
   "id": "f740a180",
   "metadata": {},
   "source": [
    "# 実験結果のまとめ\n",
    "- PCA, t-SNE, UMAPの3手法でMNISTデータセットを2次元に射影し、各種評価指標で比較した。\n",
    "- **PCA**は分散の16%程度しか表現できず、スパースな高次元データの構造を十分に捉えきれない。\n",
    "- **t-SNE**は局所構造の保持（trustworthiness, neighborhood hit）が高く、クラスタ分離も良好だが、グローバルな構造は歪む傾向がある。\n",
    "- **UMAP**は局所・グローバル構造のバランスが良く、trustworthinessやcontinuityも高い値を示した。\n",
    "- normalized_stressやaverage_local_errorでも、UMAP/t-SNEがPCAよりも低い値となり、より元の距離関係を保っていることが分かる。\n",
    "- 以上より、MNISTのような高次元・非線形なデータでは、UMAPやt-SNEがPCAよりも可視化・構造保持の面で優れている。"
   ]
  },
  {
   "cell_type": "code",
   "execution_count": null,
   "id": "cf7ffe05",
   "metadata": {},
   "outputs": [],
   "source": [
    "# これまで書いた指標を用いて可視化する"
   ]
  }
 ],
 "metadata": {
  "kernelspec": {
   "display_name": "Python 3",
   "language": "python",
   "name": "python3"
  },
  "language_info": {
   "codemirror_mode": {
    "name": "ipython",
    "version": 3
   },
   "file_extension": ".py",
   "mimetype": "text/x-python",
   "name": "python",
   "nbconvert_exporter": "python",
   "pygments_lexer": "ipython3",
   "version": "3.13.7"
  }
 },
 "nbformat": 4,
 "nbformat_minor": 5
}
