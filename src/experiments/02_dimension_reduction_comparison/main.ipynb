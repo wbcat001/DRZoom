{
 "cells": [
  {
   "cell_type": "code",
   "execution_count": null,
   "id": "4be6691c",
   "metadata": {},
   "outputs": [],
   "source": [
    "from umap import UMAP\n",
    "# pca\n",
    "from sklearn.decomposition import PCA\n",
    "# tsne\n",
    "from sklearn.manifold import TSNE\n",
    "import numpy as np\n"
   ]
  },
  {
   "cell_type": "code",
   "execution_count": null,
   "id": "99e0f23a",
   "metadata": {},
   "outputs": [],
   "source": [
    "# pca\n",
    "pca = PCA()\n",
    "pca.transform"
   ]
  }
 ],
 "metadata": {
  "kernelspec": {
   "display_name": "Python 3",
   "language": "python",
   "name": "python3"
  },
  "language_info": {
   "name": "python",
   "version": "3.9.4"
  }
 },
 "nbformat": 4,
 "nbformat_minor": 5
}
